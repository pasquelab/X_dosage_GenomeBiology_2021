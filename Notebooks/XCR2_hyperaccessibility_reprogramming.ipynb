{
 "cells": [
  {
   "cell_type": "code",
   "execution_count": 1,
   "metadata": {
    "collapsed": true,
    "jupyter": {
     "outputs_hidden": true
    }
   },
   "outputs": [
    {
     "name": "stderr",
     "output_type": "stream",
     "text": [
      "Registered S3 methods overwritten by 'ggplot2':\n",
      "  method         from \n",
      "  [.quosures     rlang\n",
      "  c.quosures     rlang\n",
      "  print.quosures rlang\n",
      "\n",
      "Attaching package: 'dplyr'\n",
      "\n",
      "The following objects are masked from 'package:stats':\n",
      "\n",
      "    filter, lag\n",
      "\n",
      "The following objects are masked from 'package:base':\n",
      "\n",
      "    intersect, setdiff, setequal, union\n",
      "\n",
      "Loading required package: S4Vectors\n",
      "Loading required package: stats4\n",
      "Loading required package: BiocGenerics\n",
      "Loading required package: parallel\n",
      "\n",
      "Attaching package: 'BiocGenerics'\n",
      "\n",
      "The following objects are masked from 'package:parallel':\n",
      "\n",
      "    clusterApply, clusterApplyLB, clusterCall, clusterEvalQ,\n",
      "    clusterExport, clusterMap, parApply, parCapply, parLapply,\n",
      "    parLapplyLB, parRapply, parSapply, parSapplyLB\n",
      "\n",
      "The following objects are masked from 'package:dplyr':\n",
      "\n",
      "    combine, intersect, setdiff, union\n",
      "\n",
      "The following objects are masked from 'package:stats':\n",
      "\n",
      "    IQR, mad, sd, var, xtabs\n",
      "\n",
      "The following objects are masked from 'package:base':\n",
      "\n",
      "    Filter, Find, Map, Position, Reduce, anyDuplicated, append,\n",
      "    as.data.frame, basename, cbind, colnames, dirname, do.call,\n",
      "    duplicated, eval, evalq, get, grep, grepl, intersect, is.unsorted,\n",
      "    lapply, mapply, match, mget, order, paste, pmax, pmax.int, pmin,\n",
      "    pmin.int, rank, rbind, rownames, sapply, setdiff, sort, table,\n",
      "    tapply, union, unique, unsplit, which, which.max, which.min\n",
      "\n",
      "\n",
      "Attaching package: 'S4Vectors'\n",
      "\n",
      "The following objects are masked from 'package:dplyr':\n",
      "\n",
      "    first, rename\n",
      "\n",
      "The following object is masked from 'package:base':\n",
      "\n",
      "    expand.grid\n",
      "\n",
      "Loading required package: IRanges\n",
      "\n",
      "Attaching package: 'IRanges'\n",
      "\n",
      "The following objects are masked from 'package:dplyr':\n",
      "\n",
      "    collapse, desc, slice\n",
      "\n",
      "Loading required package: GenomicRanges\n",
      "Loading required package: GenomeInfoDb\n",
      "Loading required package: SummarizedExperiment\n",
      "Loading required package: Biobase\n",
      "Welcome to Bioconductor\n",
      "\n",
      "    Vignettes contain introductory material; view with\n",
      "    'browseVignettes()'. To cite Bioconductor, see\n",
      "    'citation(\"Biobase\")', and for packages 'citation(\"pkgname\")'.\n",
      "\n",
      "Loading required package: DelayedArray\n",
      "Loading required package: matrixStats\n",
      "\n",
      "Attaching package: 'matrixStats'\n",
      "\n",
      "The following objects are masked from 'package:Biobase':\n",
      "\n",
      "    anyMissing, rowMedians\n",
      "\n",
      "The following object is masked from 'package:dplyr':\n",
      "\n",
      "    count\n",
      "\n",
      "Loading required package: BiocParallel\n",
      "\n",
      "Attaching package: 'DelayedArray'\n",
      "\n",
      "The following objects are masked from 'package:matrixStats':\n",
      "\n",
      "    colMaxs, colMins, colRanges, rowMaxs, rowMins, rowRanges\n",
      "\n",
      "The following objects are masked from 'package:base':\n",
      "\n",
      "    aperm, apply, rowsum\n",
      "\n",
      "Registered S3 method overwritten by 'openssl':\n",
      "  method      from\n",
      "  print.bytes Rcpp\n",
      "\n",
      "\n",
      "Attaching package: 'tidyr'\n",
      "\n",
      "The following object is masked from 'package:S4Vectors':\n",
      "\n",
      "    expand\n",
      "\n",
      "Loading required package: viridisLite\n",
      "\n",
      "Attaching package: 'gplots'\n",
      "\n",
      "The following object is masked from 'package:IRanges':\n",
      "\n",
      "    space\n",
      "\n",
      "The following object is masked from 'package:S4Vectors':\n",
      "\n",
      "    space\n",
      "\n",
      "The following object is masked from 'package:stats':\n",
      "\n",
      "    lowess\n",
      "\n"
     ]
    }
   ],
   "source": [
    "library(ggplot2)\n",
    "library(dplyr)\n",
    "library(readr)\n",
    "library(DESeq2)\n",
    "library(DiffBind)\n",
    "library(tidyr)\n",
    "library(wesanderson)\n",
    "library(viridis)\n",
    "library(gplots)"
   ]
  },
  {
   "cell_type": "code",
   "execution_count": 2,
   "metadata": {},
   "outputs": [],
   "source": [
    "setwd(\"/lustre1/project/stg_00041/Irene/ATAC_analysis/Allelic_ATAC/X_to_A_allelic_ratio/\")"
   ]
  },
  {
   "cell_type": "code",
   "execution_count": 3,
   "metadata": {},
   "outputs": [],
   "source": [
    "df_allelic_full <- read.delim(\"df_allelic_full.txt\")"
   ]
  },
  {
   "cell_type": "code",
   "execution_count": 4,
   "metadata": {},
   "outputs": [
    {
     "data": {
      "text/html": [
       "<table>\n",
       "<thead><tr><th scope=col>seqnames</th><th scope=col>start</th><th scope=col>end</th><th scope=col>width</th><th scope=col>strand</th><th scope=col>Day0_M</th><th scope=col>Day0_C</th><th scope=col>Day8_M</th><th scope=col>Day8_C</th><th scope=col>Day9_M</th><th scope=col>Day9_C</th><th scope=col>Day10_M</th><th scope=col>Day10_C</th><th scope=col>Day12_M</th><th scope=col>Day12_C</th><th scope=col>iPSCs_M</th><th scope=col>iPSCs_C</th></tr></thead>\n",
       "<tbody>\n",
       "\t<tr><td>1      </td><td>3046042</td><td>3046267</td><td>226    </td><td>*      </td><td>1      </td><td>1      </td><td> 1     </td><td> 1     </td><td> 7     </td><td>1      </td><td> 2     </td><td>1      </td><td>5      </td><td>1      </td><td>1      </td><td>2      </td></tr>\n",
       "\t<tr><td>1      </td><td>3046446</td><td>3046917</td><td>472    </td><td>*      </td><td>1      </td><td>1      </td><td>21     </td><td>12     </td><td>16     </td><td>9      </td><td>13     </td><td>9      </td><td>3      </td><td>4      </td><td>1      </td><td>2      </td></tr>\n",
       "\t<tr><td>1      </td><td>3215905</td><td>3216127</td><td>223    </td><td>*      </td><td>1      </td><td>3      </td><td> 2     </td><td> 1     </td><td> 1     </td><td>2      </td><td> 5     </td><td>1      </td><td>4      </td><td>2      </td><td>1      </td><td>1      </td></tr>\n",
       "\t<tr><td>1      </td><td>3250793</td><td>3251095</td><td>303    </td><td>*      </td><td>1      </td><td>1      </td><td> 1     </td><td> 1     </td><td> 1     </td><td>1      </td><td> 1     </td><td>5      </td><td>1      </td><td>3      </td><td>5      </td><td>2      </td></tr>\n",
       "\t<tr><td>1      </td><td>3251341</td><td>3251716</td><td>376    </td><td>*      </td><td>1      </td><td>1      </td><td> 3     </td><td> 1     </td><td> 2     </td><td>1      </td><td> 1     </td><td>4      </td><td>3      </td><td>1      </td><td>5      </td><td>1      </td></tr>\n",
       "\t<tr><td>1      </td><td>3285287</td><td>3285526</td><td>240    </td><td>*      </td><td>2      </td><td>2      </td><td> 1     </td><td> 6     </td><td> 1     </td><td>1      </td><td> 1     </td><td>1      </td><td>1      </td><td>1      </td><td>4      </td><td>1      </td></tr>\n",
       "</tbody>\n",
       "</table>\n"
      ],
      "text/latex": [
       "\\begin{tabular}{r|lllllllllllllllll}\n",
       " seqnames & start & end & width & strand & Day0\\_M & Day0\\_C & Day8\\_M & Day8\\_C & Day9\\_M & Day9\\_C & Day10\\_M & Day10\\_C & Day12\\_M & Day12\\_C & iPSCs\\_M & iPSCs\\_C\\\\\n",
       "\\hline\n",
       "\t 1       & 3046042 & 3046267 & 226     & *       & 1       & 1       &  1      &  1      &  7      & 1       &  2      & 1       & 5       & 1       & 1       & 2      \\\\\n",
       "\t 1       & 3046446 & 3046917 & 472     & *       & 1       & 1       & 21      & 12      & 16      & 9       & 13      & 9       & 3       & 4       & 1       & 2      \\\\\n",
       "\t 1       & 3215905 & 3216127 & 223     & *       & 1       & 3       &  2      &  1      &  1      & 2       &  5      & 1       & 4       & 2       & 1       & 1      \\\\\n",
       "\t 1       & 3250793 & 3251095 & 303     & *       & 1       & 1       &  1      &  1      &  1      & 1       &  1      & 5       & 1       & 3       & 5       & 2      \\\\\n",
       "\t 1       & 3251341 & 3251716 & 376     & *       & 1       & 1       &  3      &  1      &  2      & 1       &  1      & 4       & 3       & 1       & 5       & 1      \\\\\n",
       "\t 1       & 3285287 & 3285526 & 240     & *       & 2       & 2       &  1      &  6      &  1      & 1       &  1      & 1       & 1       & 1       & 4       & 1      \\\\\n",
       "\\end{tabular}\n"
      ],
      "text/markdown": [
       "\n",
       "| seqnames | start | end | width | strand | Day0_M | Day0_C | Day8_M | Day8_C | Day9_M | Day9_C | Day10_M | Day10_C | Day12_M | Day12_C | iPSCs_M | iPSCs_C |\n",
       "|---|---|---|---|---|---|---|---|---|---|---|---|---|---|---|---|---|\n",
       "| 1       | 3046042 | 3046267 | 226     | *       | 1       | 1       |  1      |  1      |  7      | 1       |  2      | 1       | 5       | 1       | 1       | 2       |\n",
       "| 1       | 3046446 | 3046917 | 472     | *       | 1       | 1       | 21      | 12      | 16      | 9       | 13      | 9       | 3       | 4       | 1       | 2       |\n",
       "| 1       | 3215905 | 3216127 | 223     | *       | 1       | 3       |  2      |  1      |  1      | 2       |  5      | 1       | 4       | 2       | 1       | 1       |\n",
       "| 1       | 3250793 | 3251095 | 303     | *       | 1       | 1       |  1      |  1      |  1      | 1       |  1      | 5       | 1       | 3       | 5       | 2       |\n",
       "| 1       | 3251341 | 3251716 | 376     | *       | 1       | 1       |  3      |  1      |  2      | 1       |  1      | 4       | 3       | 1       | 5       | 1       |\n",
       "| 1       | 3285287 | 3285526 | 240     | *       | 2       | 2       |  1      |  6      |  1      | 1       |  1      | 1       | 1       | 1       | 4       | 1       |\n",
       "\n"
      ],
      "text/plain": [
       "  seqnames start   end     width strand Day0_M Day0_C Day8_M Day8_C Day9_M\n",
       "1 1        3046042 3046267 226   *      1      1       1      1      7    \n",
       "2 1        3046446 3046917 472   *      1      1      21     12     16    \n",
       "3 1        3215905 3216127 223   *      1      3       2      1      1    \n",
       "4 1        3250793 3251095 303   *      1      1       1      1      1    \n",
       "5 1        3251341 3251716 376   *      1      1       3      1      2    \n",
       "6 1        3285287 3285526 240   *      2      2       1      6      1    \n",
       "  Day9_C Day10_M Day10_C Day12_M Day12_C iPSCs_M iPSCs_C\n",
       "1 1       2      1       5       1       1       2      \n",
       "2 9      13      9       3       4       1       2      \n",
       "3 2       5      1       4       2       1       1      \n",
       "4 1       1      5       1       3       5       2      \n",
       "5 1       1      4       3       1       5       1      \n",
       "6 1       1      1       1       1       4       1      "
      ]
     },
     "metadata": {},
     "output_type": "display_data"
    }
   ],
   "source": [
    "head(df_allelic_full)"
   ]
  },
  {
   "cell_type": "code",
   "execution_count": 5,
   "metadata": {},
   "outputs": [],
   "source": [
    "names(df_allelic_full)[names(df_allelic_full) == 'seqnames'] <- 'chr'"
   ]
  },
  {
   "cell_type": "code",
   "execution_count": 6,
   "metadata": {},
   "outputs": [
    {
     "data": {
      "text/html": [
       "<table>\n",
       "<thead><tr><th scope=col>chr</th><th scope=col>start</th><th scope=col>end</th><th scope=col>width</th><th scope=col>strand</th><th scope=col>Day0_M</th><th scope=col>Day0_C</th><th scope=col>Day8_M</th><th scope=col>Day8_C</th><th scope=col>Day9_M</th><th scope=col>Day9_C</th><th scope=col>Day10_M</th><th scope=col>Day10_C</th><th scope=col>Day12_M</th><th scope=col>Day12_C</th><th scope=col>iPSCs_M</th><th scope=col>iPSCs_C</th></tr></thead>\n",
       "<tbody>\n",
       "\t<tr><td>1      </td><td>3046042</td><td>3046267</td><td>226    </td><td>*      </td><td>1      </td><td>1      </td><td> 1     </td><td> 1     </td><td> 7     </td><td>1      </td><td> 2     </td><td>1      </td><td>5      </td><td>1      </td><td>1      </td><td>2      </td></tr>\n",
       "\t<tr><td>1      </td><td>3046446</td><td>3046917</td><td>472    </td><td>*      </td><td>1      </td><td>1      </td><td>21     </td><td>12     </td><td>16     </td><td>9      </td><td>13     </td><td>9      </td><td>3      </td><td>4      </td><td>1      </td><td>2      </td></tr>\n",
       "\t<tr><td>1      </td><td>3215905</td><td>3216127</td><td>223    </td><td>*      </td><td>1      </td><td>3      </td><td> 2     </td><td> 1     </td><td> 1     </td><td>2      </td><td> 5     </td><td>1      </td><td>4      </td><td>2      </td><td>1      </td><td>1      </td></tr>\n",
       "\t<tr><td>1      </td><td>3250793</td><td>3251095</td><td>303    </td><td>*      </td><td>1      </td><td>1      </td><td> 1     </td><td> 1     </td><td> 1     </td><td>1      </td><td> 1     </td><td>5      </td><td>1      </td><td>3      </td><td>5      </td><td>2      </td></tr>\n",
       "\t<tr><td>1      </td><td>3251341</td><td>3251716</td><td>376    </td><td>*      </td><td>1      </td><td>1      </td><td> 3     </td><td> 1     </td><td> 2     </td><td>1      </td><td> 1     </td><td>4      </td><td>3      </td><td>1      </td><td>5      </td><td>1      </td></tr>\n",
       "\t<tr><td>1      </td><td>3285287</td><td>3285526</td><td>240    </td><td>*      </td><td>2      </td><td>2      </td><td> 1     </td><td> 6     </td><td> 1     </td><td>1      </td><td> 1     </td><td>1      </td><td>1      </td><td>1      </td><td>4      </td><td>1      </td></tr>\n",
       "</tbody>\n",
       "</table>\n"
      ],
      "text/latex": [
       "\\begin{tabular}{r|lllllllllllllllll}\n",
       " chr & start & end & width & strand & Day0\\_M & Day0\\_C & Day8\\_M & Day8\\_C & Day9\\_M & Day9\\_C & Day10\\_M & Day10\\_C & Day12\\_M & Day12\\_C & iPSCs\\_M & iPSCs\\_C\\\\\n",
       "\\hline\n",
       "\t 1       & 3046042 & 3046267 & 226     & *       & 1       & 1       &  1      &  1      &  7      & 1       &  2      & 1       & 5       & 1       & 1       & 2      \\\\\n",
       "\t 1       & 3046446 & 3046917 & 472     & *       & 1       & 1       & 21      & 12      & 16      & 9       & 13      & 9       & 3       & 4       & 1       & 2      \\\\\n",
       "\t 1       & 3215905 & 3216127 & 223     & *       & 1       & 3       &  2      &  1      &  1      & 2       &  5      & 1       & 4       & 2       & 1       & 1      \\\\\n",
       "\t 1       & 3250793 & 3251095 & 303     & *       & 1       & 1       &  1      &  1      &  1      & 1       &  1      & 5       & 1       & 3       & 5       & 2      \\\\\n",
       "\t 1       & 3251341 & 3251716 & 376     & *       & 1       & 1       &  3      &  1      &  2      & 1       &  1      & 4       & 3       & 1       & 5       & 1      \\\\\n",
       "\t 1       & 3285287 & 3285526 & 240     & *       & 2       & 2       &  1      &  6      &  1      & 1       &  1      & 1       & 1       & 1       & 4       & 1      \\\\\n",
       "\\end{tabular}\n"
      ],
      "text/markdown": [
       "\n",
       "| chr | start | end | width | strand | Day0_M | Day0_C | Day8_M | Day8_C | Day9_M | Day9_C | Day10_M | Day10_C | Day12_M | Day12_C | iPSCs_M | iPSCs_C |\n",
       "|---|---|---|---|---|---|---|---|---|---|---|---|---|---|---|---|---|\n",
       "| 1       | 3046042 | 3046267 | 226     | *       | 1       | 1       |  1      |  1      |  7      | 1       |  2      | 1       | 5       | 1       | 1       | 2       |\n",
       "| 1       | 3046446 | 3046917 | 472     | *       | 1       | 1       | 21      | 12      | 16      | 9       | 13      | 9       | 3       | 4       | 1       | 2       |\n",
       "| 1       | 3215905 | 3216127 | 223     | *       | 1       | 3       |  2      |  1      |  1      | 2       |  5      | 1       | 4       | 2       | 1       | 1       |\n",
       "| 1       | 3250793 | 3251095 | 303     | *       | 1       | 1       |  1      |  1      |  1      | 1       |  1      | 5       | 1       | 3       | 5       | 2       |\n",
       "| 1       | 3251341 | 3251716 | 376     | *       | 1       | 1       |  3      |  1      |  2      | 1       |  1      | 4       | 3       | 1       | 5       | 1       |\n",
       "| 1       | 3285287 | 3285526 | 240     | *       | 2       | 2       |  1      |  6      |  1      | 1       |  1      | 1       | 1       | 1       | 4       | 1       |\n",
       "\n"
      ],
      "text/plain": [
       "  chr start   end     width strand Day0_M Day0_C Day8_M Day8_C Day9_M Day9_C\n",
       "1 1   3046042 3046267 226   *      1      1       1      1      7     1     \n",
       "2 1   3046446 3046917 472   *      1      1      21     12     16     9     \n",
       "3 1   3215905 3216127 223   *      1      3       2      1      1     2     \n",
       "4 1   3250793 3251095 303   *      1      1       1      1      1     1     \n",
       "5 1   3251341 3251716 376   *      1      1       3      1      2     1     \n",
       "6 1   3285287 3285526 240   *      2      2       1      6      1     1     \n",
       "  Day10_M Day10_C Day12_M Day12_C iPSCs_M iPSCs_C\n",
       "1  2      1       5       1       1       2      \n",
       "2 13      9       3       4       1       2      \n",
       "3  5      1       4       2       1       1      \n",
       "4  1      5       1       3       5       2      \n",
       "5  1      4       3       1       5       1      \n",
       "6  1      1       1       1       4       1      "
      ]
     },
     "metadata": {},
     "output_type": "display_data"
    }
   ],
   "source": [
    "head(df_allelic_full)"
   ]
  },
  {
   "cell_type": "code",
   "execution_count": 7,
   "metadata": {},
   "outputs": [],
   "source": [
    "df_allelic_full$names <- 1:nrow(df_allelic_full) "
   ]
  },
  {
   "cell_type": "code",
   "execution_count": 8,
   "metadata": {},
   "outputs": [
    {
     "data": {
      "text/html": [
       "<table>\n",
       "<thead><tr><th scope=col>chr</th><th scope=col>start</th><th scope=col>end</th><th scope=col>width</th><th scope=col>strand</th><th scope=col>Day0_M</th><th scope=col>Day0_C</th><th scope=col>Day8_M</th><th scope=col>Day8_C</th><th scope=col>Day9_M</th><th scope=col>Day9_C</th><th scope=col>Day10_M</th><th scope=col>Day10_C</th><th scope=col>Day12_M</th><th scope=col>Day12_C</th><th scope=col>iPSCs_M</th><th scope=col>iPSCs_C</th><th scope=col>names</th></tr></thead>\n",
       "<tbody>\n",
       "\t<tr><td>1      </td><td>3046042</td><td>3046267</td><td>226    </td><td>*      </td><td>1      </td><td>1      </td><td> 1     </td><td> 1     </td><td> 7     </td><td>1      </td><td> 2     </td><td>1      </td><td>5      </td><td>1      </td><td>1      </td><td>2      </td><td>1      </td></tr>\n",
       "\t<tr><td>1      </td><td>3046446</td><td>3046917</td><td>472    </td><td>*      </td><td>1      </td><td>1      </td><td>21     </td><td>12     </td><td>16     </td><td>9      </td><td>13     </td><td>9      </td><td>3      </td><td>4      </td><td>1      </td><td>2      </td><td>2      </td></tr>\n",
       "\t<tr><td>1      </td><td>3215905</td><td>3216127</td><td>223    </td><td>*      </td><td>1      </td><td>3      </td><td> 2     </td><td> 1     </td><td> 1     </td><td>2      </td><td> 5     </td><td>1      </td><td>4      </td><td>2      </td><td>1      </td><td>1      </td><td>3      </td></tr>\n",
       "\t<tr><td>1      </td><td>3250793</td><td>3251095</td><td>303    </td><td>*      </td><td>1      </td><td>1      </td><td> 1     </td><td> 1     </td><td> 1     </td><td>1      </td><td> 1     </td><td>5      </td><td>1      </td><td>3      </td><td>5      </td><td>2      </td><td>4      </td></tr>\n",
       "\t<tr><td>1      </td><td>3251341</td><td>3251716</td><td>376    </td><td>*      </td><td>1      </td><td>1      </td><td> 3     </td><td> 1     </td><td> 2     </td><td>1      </td><td> 1     </td><td>4      </td><td>3      </td><td>1      </td><td>5      </td><td>1      </td><td>5      </td></tr>\n",
       "\t<tr><td>1      </td><td>3285287</td><td>3285526</td><td>240    </td><td>*      </td><td>2      </td><td>2      </td><td> 1     </td><td> 6     </td><td> 1     </td><td>1      </td><td> 1     </td><td>1      </td><td>1      </td><td>1      </td><td>4      </td><td>1      </td><td>6      </td></tr>\n",
       "</tbody>\n",
       "</table>\n"
      ],
      "text/latex": [
       "\\begin{tabular}{r|llllllllllllllllll}\n",
       " chr & start & end & width & strand & Day0\\_M & Day0\\_C & Day8\\_M & Day8\\_C & Day9\\_M & Day9\\_C & Day10\\_M & Day10\\_C & Day12\\_M & Day12\\_C & iPSCs\\_M & iPSCs\\_C & names\\\\\n",
       "\\hline\n",
       "\t 1       & 3046042 & 3046267 & 226     & *       & 1       & 1       &  1      &  1      &  7      & 1       &  2      & 1       & 5       & 1       & 1       & 2       & 1      \\\\\n",
       "\t 1       & 3046446 & 3046917 & 472     & *       & 1       & 1       & 21      & 12      & 16      & 9       & 13      & 9       & 3       & 4       & 1       & 2       & 2      \\\\\n",
       "\t 1       & 3215905 & 3216127 & 223     & *       & 1       & 3       &  2      &  1      &  1      & 2       &  5      & 1       & 4       & 2       & 1       & 1       & 3      \\\\\n",
       "\t 1       & 3250793 & 3251095 & 303     & *       & 1       & 1       &  1      &  1      &  1      & 1       &  1      & 5       & 1       & 3       & 5       & 2       & 4      \\\\\n",
       "\t 1       & 3251341 & 3251716 & 376     & *       & 1       & 1       &  3      &  1      &  2      & 1       &  1      & 4       & 3       & 1       & 5       & 1       & 5      \\\\\n",
       "\t 1       & 3285287 & 3285526 & 240     & *       & 2       & 2       &  1      &  6      &  1      & 1       &  1      & 1       & 1       & 1       & 4       & 1       & 6      \\\\\n",
       "\\end{tabular}\n"
      ],
      "text/markdown": [
       "\n",
       "| chr | start | end | width | strand | Day0_M | Day0_C | Day8_M | Day8_C | Day9_M | Day9_C | Day10_M | Day10_C | Day12_M | Day12_C | iPSCs_M | iPSCs_C | names |\n",
       "|---|---|---|---|---|---|---|---|---|---|---|---|---|---|---|---|---|---|\n",
       "| 1       | 3046042 | 3046267 | 226     | *       | 1       | 1       |  1      |  1      |  7      | 1       |  2      | 1       | 5       | 1       | 1       | 2       | 1       |\n",
       "| 1       | 3046446 | 3046917 | 472     | *       | 1       | 1       | 21      | 12      | 16      | 9       | 13      | 9       | 3       | 4       | 1       | 2       | 2       |\n",
       "| 1       | 3215905 | 3216127 | 223     | *       | 1       | 3       |  2      |  1      |  1      | 2       |  5      | 1       | 4       | 2       | 1       | 1       | 3       |\n",
       "| 1       | 3250793 | 3251095 | 303     | *       | 1       | 1       |  1      |  1      |  1      | 1       |  1      | 5       | 1       | 3       | 5       | 2       | 4       |\n",
       "| 1       | 3251341 | 3251716 | 376     | *       | 1       | 1       |  3      |  1      |  2      | 1       |  1      | 4       | 3       | 1       | 5       | 1       | 5       |\n",
       "| 1       | 3285287 | 3285526 | 240     | *       | 2       | 2       |  1      |  6      |  1      | 1       |  1      | 1       | 1       | 1       | 4       | 1       | 6       |\n",
       "\n"
      ],
      "text/plain": [
       "  chr start   end     width strand Day0_M Day0_C Day8_M Day8_C Day9_M Day9_C\n",
       "1 1   3046042 3046267 226   *      1      1       1      1      7     1     \n",
       "2 1   3046446 3046917 472   *      1      1      21     12     16     9     \n",
       "3 1   3215905 3216127 223   *      1      3       2      1      1     2     \n",
       "4 1   3250793 3251095 303   *      1      1       1      1      1     1     \n",
       "5 1   3251341 3251716 376   *      1      1       3      1      2     1     \n",
       "6 1   3285287 3285526 240   *      2      2       1      6      1     1     \n",
       "  Day10_M Day10_C Day12_M Day12_C iPSCs_M iPSCs_C names\n",
       "1  2      1       5       1       1       2       1    \n",
       "2 13      9       3       4       1       2       2    \n",
       "3  5      1       4       2       1       1       3    \n",
       "4  1      5       1       3       5       2       4    \n",
       "5  1      4       3       1       5       1       5    \n",
       "6  1      1       1       1       4       1       6    "
      ]
     },
     "metadata": {},
     "output_type": "display_data"
    }
   ],
   "source": [
    "head(df_allelic_full)"
   ]
  },
  {
   "cell_type": "code",
   "execution_count": 9,
   "metadata": {},
   "outputs": [],
   "source": [
    "variables <- c(\"chr\", \"names\", \"width\", \"Day0_M\", \"Day8_M\", \"Day9_M\", \"Day10_M\", \"Day12_M\", \"iPSCs_M\", \"Day0_C\", \"Day8_C\", \"Day9_C\", \"Day10_C\", \"Day12_C\", \"iPSCs_C\")"
   ]
  },
  {
   "cell_type": "code",
   "execution_count": 10,
   "metadata": {},
   "outputs": [],
   "source": [
    "df_allelic_full <- df_allelic_full[variables]"
   ]
  },
  {
   "cell_type": "code",
   "execution_count": 11,
   "metadata": {},
   "outputs": [
    {
     "data": {
      "text/html": [
       "<table>\n",
       "<thead><tr><th scope=col>chr</th><th scope=col>names</th><th scope=col>width</th><th scope=col>Day0_M</th><th scope=col>Day8_M</th><th scope=col>Day9_M</th><th scope=col>Day10_M</th><th scope=col>Day12_M</th><th scope=col>iPSCs_M</th><th scope=col>Day0_C</th><th scope=col>Day8_C</th><th scope=col>Day9_C</th><th scope=col>Day10_C</th><th scope=col>Day12_C</th><th scope=col>iPSCs_C</th></tr></thead>\n",
       "<tbody>\n",
       "\t<tr><td>1  </td><td>1  </td><td>226</td><td>1  </td><td> 1 </td><td> 7 </td><td> 2 </td><td>5  </td><td>1  </td><td>1  </td><td> 1 </td><td>1  </td><td>1  </td><td>1  </td><td>2  </td></tr>\n",
       "\t<tr><td>1  </td><td>2  </td><td>472</td><td>1  </td><td>21 </td><td>16 </td><td>13 </td><td>3  </td><td>1  </td><td>1  </td><td>12 </td><td>9  </td><td>9  </td><td>4  </td><td>2  </td></tr>\n",
       "\t<tr><td>1  </td><td>3  </td><td>223</td><td>1  </td><td> 2 </td><td> 1 </td><td> 5 </td><td>4  </td><td>1  </td><td>3  </td><td> 1 </td><td>2  </td><td>1  </td><td>2  </td><td>1  </td></tr>\n",
       "\t<tr><td>1  </td><td>4  </td><td>303</td><td>1  </td><td> 1 </td><td> 1 </td><td> 1 </td><td>1  </td><td>5  </td><td>1  </td><td> 1 </td><td>1  </td><td>5  </td><td>3  </td><td>2  </td></tr>\n",
       "\t<tr><td>1  </td><td>5  </td><td>376</td><td>1  </td><td> 3 </td><td> 2 </td><td> 1 </td><td>3  </td><td>5  </td><td>1  </td><td> 1 </td><td>1  </td><td>4  </td><td>1  </td><td>1  </td></tr>\n",
       "\t<tr><td>1  </td><td>6  </td><td>240</td><td>2  </td><td> 1 </td><td> 1 </td><td> 1 </td><td>1  </td><td>4  </td><td>2  </td><td> 6 </td><td>1  </td><td>1  </td><td>1  </td><td>1  </td></tr>\n",
       "</tbody>\n",
       "</table>\n"
      ],
      "text/latex": [
       "\\begin{tabular}{r|lllllllllllllll}\n",
       " chr & names & width & Day0\\_M & Day8\\_M & Day9\\_M & Day10\\_M & Day12\\_M & iPSCs\\_M & Day0\\_C & Day8\\_C & Day9\\_C & Day10\\_C & Day12\\_C & iPSCs\\_C\\\\\n",
       "\\hline\n",
       "\t 1   & 1   & 226 & 1   &  1  &  7  &  2  & 5   & 1   & 1   &  1  & 1   & 1   & 1   & 2  \\\\\n",
       "\t 1   & 2   & 472 & 1   & 21  & 16  & 13  & 3   & 1   & 1   & 12  & 9   & 9   & 4   & 2  \\\\\n",
       "\t 1   & 3   & 223 & 1   &  2  &  1  &  5  & 4   & 1   & 3   &  1  & 2   & 1   & 2   & 1  \\\\\n",
       "\t 1   & 4   & 303 & 1   &  1  &  1  &  1  & 1   & 5   & 1   &  1  & 1   & 5   & 3   & 2  \\\\\n",
       "\t 1   & 5   & 376 & 1   &  3  &  2  &  1  & 3   & 5   & 1   &  1  & 1   & 4   & 1   & 1  \\\\\n",
       "\t 1   & 6   & 240 & 2   &  1  &  1  &  1  & 1   & 4   & 2   &  6  & 1   & 1   & 1   & 1  \\\\\n",
       "\\end{tabular}\n"
      ],
      "text/markdown": [
       "\n",
       "| chr | names | width | Day0_M | Day8_M | Day9_M | Day10_M | Day12_M | iPSCs_M | Day0_C | Day8_C | Day9_C | Day10_C | Day12_C | iPSCs_C |\n",
       "|---|---|---|---|---|---|---|---|---|---|---|---|---|---|---|\n",
       "| 1   | 1   | 226 | 1   |  1  |  7  |  2  | 5   | 1   | 1   |  1  | 1   | 1   | 1   | 2   |\n",
       "| 1   | 2   | 472 | 1   | 21  | 16  | 13  | 3   | 1   | 1   | 12  | 9   | 9   | 4   | 2   |\n",
       "| 1   | 3   | 223 | 1   |  2  |  1  |  5  | 4   | 1   | 3   |  1  | 2   | 1   | 2   | 1   |\n",
       "| 1   | 4   | 303 | 1   |  1  |  1  |  1  | 1   | 5   | 1   |  1  | 1   | 5   | 3   | 2   |\n",
       "| 1   | 5   | 376 | 1   |  3  |  2  |  1  | 3   | 5   | 1   |  1  | 1   | 4   | 1   | 1   |\n",
       "| 1   | 6   | 240 | 2   |  1  |  1  |  1  | 1   | 4   | 2   |  6  | 1   | 1   | 1   | 1   |\n",
       "\n"
      ],
      "text/plain": [
       "  chr names width Day0_M Day8_M Day9_M Day10_M Day12_M iPSCs_M Day0_C Day8_C\n",
       "1 1   1     226   1       1      7      2      5       1       1       1    \n",
       "2 1   2     472   1      21     16     13      3       1       1      12    \n",
       "3 1   3     223   1       2      1      5      4       1       3       1    \n",
       "4 1   4     303   1       1      1      1      1       5       1       1    \n",
       "5 1   5     376   1       3      2      1      3       5       1       1    \n",
       "6 1   6     240   2       1      1      1      1       4       2       6    \n",
       "  Day9_C Day10_C Day12_C iPSCs_C\n",
       "1 1      1       1       2      \n",
       "2 9      9       4       2      \n",
       "3 2      1       2       1      \n",
       "4 1      5       3       2      \n",
       "5 1      4       1       1      \n",
       "6 1      1       1       1      "
      ]
     },
     "metadata": {},
     "output_type": "display_data"
    }
   ],
   "source": [
    "head(df_allelic_full)"
   ]
  },
  {
   "cell_type": "code",
   "execution_count": 12,
   "metadata": {},
   "outputs": [
    {
     "data": {
      "text/html": [
       "408372"
      ],
      "text/latex": [
       "408372"
      ],
      "text/markdown": [
       "408372"
      ],
      "text/plain": [
       "[1] 408372"
      ]
     },
     "metadata": {},
     "output_type": "display_data"
    }
   ],
   "source": [
    "nrow(df_allelic_full)"
   ]
  },
  {
   "cell_type": "code",
   "execution_count": 13,
   "metadata": {},
   "outputs": [],
   "source": [
    "df_allelic_full_gathered <- gather(df_allelic_full, sample_allele, count, -chr, -names, -width)"
   ]
  },
  {
   "cell_type": "code",
   "execution_count": 14,
   "metadata": {},
   "outputs": [],
   "source": [
    "df_allelic_full_gathered <- separate(data = df_allelic_full_gathered, col = sample_allele, into = c(\"sample\", \"allele\"), sep = \"_\")"
   ]
  },
  {
   "cell_type": "code",
   "execution_count": 15,
   "metadata": {},
   "outputs": [
    {
     "data": {
      "text/html": [
       "<table>\n",
       "<thead><tr><th scope=col>chr</th><th scope=col>names</th><th scope=col>width</th><th scope=col>sample</th><th scope=col>allele</th><th scope=col>count</th></tr></thead>\n",
       "<tbody>\n",
       "\t<tr><td>1   </td><td>1   </td><td>226 </td><td>Day0</td><td>M   </td><td>1   </td></tr>\n",
       "\t<tr><td>1   </td><td>2   </td><td>472 </td><td>Day0</td><td>M   </td><td>1   </td></tr>\n",
       "\t<tr><td>1   </td><td>3   </td><td>223 </td><td>Day0</td><td>M   </td><td>1   </td></tr>\n",
       "\t<tr><td>1   </td><td>4   </td><td>303 </td><td>Day0</td><td>M   </td><td>1   </td></tr>\n",
       "\t<tr><td>1   </td><td>5   </td><td>376 </td><td>Day0</td><td>M   </td><td>1   </td></tr>\n",
       "\t<tr><td>1   </td><td>6   </td><td>240 </td><td>Day0</td><td>M   </td><td>2   </td></tr>\n",
       "</tbody>\n",
       "</table>\n"
      ],
      "text/latex": [
       "\\begin{tabular}{r|llllll}\n",
       " chr & names & width & sample & allele & count\\\\\n",
       "\\hline\n",
       "\t 1    & 1    & 226  & Day0 & M    & 1   \\\\\n",
       "\t 1    & 2    & 472  & Day0 & M    & 1   \\\\\n",
       "\t 1    & 3    & 223  & Day0 & M    & 1   \\\\\n",
       "\t 1    & 4    & 303  & Day0 & M    & 1   \\\\\n",
       "\t 1    & 5    & 376  & Day0 & M    & 1   \\\\\n",
       "\t 1    & 6    & 240  & Day0 & M    & 2   \\\\\n",
       "\\end{tabular}\n"
      ],
      "text/markdown": [
       "\n",
       "| chr | names | width | sample | allele | count |\n",
       "|---|---|---|---|---|---|\n",
       "| 1    | 1    | 226  | Day0 | M    | 1    |\n",
       "| 1    | 2    | 472  | Day0 | M    | 1    |\n",
       "| 1    | 3    | 223  | Day0 | M    | 1    |\n",
       "| 1    | 4    | 303  | Day0 | M    | 1    |\n",
       "| 1    | 5    | 376  | Day0 | M    | 1    |\n",
       "| 1    | 6    | 240  | Day0 | M    | 2    |\n",
       "\n"
      ],
      "text/plain": [
       "  chr names width sample allele count\n",
       "1 1   1     226   Day0   M      1    \n",
       "2 1   2     472   Day0   M      1    \n",
       "3 1   3     223   Day0   M      1    \n",
       "4 1   4     303   Day0   M      1    \n",
       "5 1   5     376   Day0   M      1    \n",
       "6 1   6     240   Day0   M      2    "
      ]
     },
     "metadata": {},
     "output_type": "display_data"
    }
   ],
   "source": [
    "head(df_allelic_full_gathered)"
   ]
  },
  {
   "cell_type": "code",
   "execution_count": 16,
   "metadata": {},
   "outputs": [],
   "source": [
    "df_allelic_full_gathered <- spread(df_allelic_full_gathered, allele, count)"
   ]
  },
  {
   "cell_type": "code",
   "execution_count": 17,
   "metadata": {},
   "outputs": [
    {
     "data": {
      "text/html": [
       "<table>\n",
       "<thead><tr><th scope=col>chr</th><th scope=col>names</th><th scope=col>width</th><th scope=col>sample</th><th scope=col>C</th><th scope=col>M</th></tr></thead>\n",
       "<tbody>\n",
       "\t<tr><td>1   </td><td>1   </td><td>226 </td><td>Day0</td><td>1   </td><td>1   </td></tr>\n",
       "\t<tr><td>1   </td><td>2   </td><td>472 </td><td>Day0</td><td>1   </td><td>1   </td></tr>\n",
       "\t<tr><td>1   </td><td>3   </td><td>223 </td><td>Day0</td><td>3   </td><td>1   </td></tr>\n",
       "\t<tr><td>1   </td><td>4   </td><td>303 </td><td>Day0</td><td>1   </td><td>1   </td></tr>\n",
       "\t<tr><td>1   </td><td>5   </td><td>376 </td><td>Day0</td><td>1   </td><td>1   </td></tr>\n",
       "\t<tr><td>1   </td><td>6   </td><td>240 </td><td>Day0</td><td>2   </td><td>2   </td></tr>\n",
       "</tbody>\n",
       "</table>\n"
      ],
      "text/latex": [
       "\\begin{tabular}{r|llllll}\n",
       " chr & names & width & sample & C & M\\\\\n",
       "\\hline\n",
       "\t 1    & 1    & 226  & Day0 & 1    & 1   \\\\\n",
       "\t 1    & 2    & 472  & Day0 & 1    & 1   \\\\\n",
       "\t 1    & 3    & 223  & Day0 & 3    & 1   \\\\\n",
       "\t 1    & 4    & 303  & Day0 & 1    & 1   \\\\\n",
       "\t 1    & 5    & 376  & Day0 & 1    & 1   \\\\\n",
       "\t 1    & 6    & 240  & Day0 & 2    & 2   \\\\\n",
       "\\end{tabular}\n"
      ],
      "text/markdown": [
       "\n",
       "| chr | names | width | sample | C | M |\n",
       "|---|---|---|---|---|---|\n",
       "| 1    | 1    | 226  | Day0 | 1    | 1    |\n",
       "| 1    | 2    | 472  | Day0 | 1    | 1    |\n",
       "| 1    | 3    | 223  | Day0 | 3    | 1    |\n",
       "| 1    | 4    | 303  | Day0 | 1    | 1    |\n",
       "| 1    | 5    | 376  | Day0 | 1    | 1    |\n",
       "| 1    | 6    | 240  | Day0 | 2    | 2    |\n",
       "\n"
      ],
      "text/plain": [
       "  chr names width sample C M\n",
       "1 1   1     226   Day0   1 1\n",
       "2 1   2     472   Day0   1 1\n",
       "3 1   3     223   Day0   3 1\n",
       "4 1   4     303   Day0   1 1\n",
       "5 1   5     376   Day0   1 1\n",
       "6 1   6     240   Day0   2 2"
      ]
     },
     "metadata": {},
     "output_type": "display_data"
    }
   ],
   "source": [
    "head(df_allelic_full_gathered)"
   ]
  },
  {
   "cell_type": "code",
   "execution_count": 18,
   "metadata": {},
   "outputs": [],
   "source": [
    "df_allelic_full_gathered$sample <- factor(df_allelic_full_gathered$sample, levels=c('Day0', 'Day8', 'Day9', 'Day10', 'Day12', 'iPSCs'))"
   ]
  },
  {
   "cell_type": "code",
   "execution_count": 19,
   "metadata": {},
   "outputs": [],
   "source": [
    "df_allelic_full_gathered <- df_allelic_full_gathered %>% arrange(chr, names, sample)"
   ]
  },
  {
   "cell_type": "code",
   "execution_count": 20,
   "metadata": {},
   "outputs": [
    {
     "data": {
      "text/html": [
       "<table>\n",
       "<thead><tr><th scope=col>chr</th><th scope=col>names</th><th scope=col>width</th><th scope=col>sample</th><th scope=col>C</th><th scope=col>M</th></tr></thead>\n",
       "<tbody>\n",
       "\t<tr><td>1    </td><td>1    </td><td>226  </td><td>Day0 </td><td>1    </td><td>1    </td></tr>\n",
       "\t<tr><td>1    </td><td>1    </td><td>226  </td><td>Day8 </td><td>1    </td><td>1    </td></tr>\n",
       "\t<tr><td>1    </td><td>1    </td><td>226  </td><td>Day9 </td><td>1    </td><td>7    </td></tr>\n",
       "\t<tr><td>1    </td><td>1    </td><td>226  </td><td>Day10</td><td>1    </td><td>2    </td></tr>\n",
       "\t<tr><td>1    </td><td>1    </td><td>226  </td><td>Day12</td><td>1    </td><td>5    </td></tr>\n",
       "\t<tr><td>1    </td><td>1    </td><td>226  </td><td>iPSCs</td><td>2    </td><td>1    </td></tr>\n",
       "</tbody>\n",
       "</table>\n"
      ],
      "text/latex": [
       "\\begin{tabular}{r|llllll}\n",
       " chr & names & width & sample & C & M\\\\\n",
       "\\hline\n",
       "\t 1     & 1     & 226   & Day0  & 1     & 1    \\\\\n",
       "\t 1     & 1     & 226   & Day8  & 1     & 1    \\\\\n",
       "\t 1     & 1     & 226   & Day9  & 1     & 7    \\\\\n",
       "\t 1     & 1     & 226   & Day10 & 1     & 2    \\\\\n",
       "\t 1     & 1     & 226   & Day12 & 1     & 5    \\\\\n",
       "\t 1     & 1     & 226   & iPSCs & 2     & 1    \\\\\n",
       "\\end{tabular}\n"
      ],
      "text/markdown": [
       "\n",
       "| chr | names | width | sample | C | M |\n",
       "|---|---|---|---|---|---|\n",
       "| 1     | 1     | 226   | Day0  | 1     | 1     |\n",
       "| 1     | 1     | 226   | Day8  | 1     | 1     |\n",
       "| 1     | 1     | 226   | Day9  | 1     | 7     |\n",
       "| 1     | 1     | 226   | Day10 | 1     | 2     |\n",
       "| 1     | 1     | 226   | Day12 | 1     | 5     |\n",
       "| 1     | 1     | 226   | iPSCs | 2     | 1     |\n",
       "\n"
      ],
      "text/plain": [
       "  chr names width sample C M\n",
       "1 1   1     226   Day0   1 1\n",
       "2 1   1     226   Day8   1 1\n",
       "3 1   1     226   Day9   1 7\n",
       "4 1   1     226   Day10  1 2\n",
       "5 1   1     226   Day12  1 5\n",
       "6 1   1     226   iPSCs  2 1"
      ]
     },
     "metadata": {},
     "output_type": "display_data"
    }
   ],
   "source": [
    "head(df_allelic_full_gathered)"
   ]
  },
  {
   "cell_type": "code",
   "execution_count": 21,
   "metadata": {},
   "outputs": [],
   "source": [
    "df_allelic_full_gathered$sumR <- df_allelic_full_gathered$C + df_allelic_full_gathered$M"
   ]
  },
  {
   "cell_type": "code",
   "execution_count": 22,
   "metadata": {},
   "outputs": [
    {
     "data": {
      "text/html": [
       "<table>\n",
       "<thead><tr><th scope=col>chr</th><th scope=col>names</th><th scope=col>width</th><th scope=col>sample</th><th scope=col>C</th><th scope=col>M</th><th scope=col>sumR</th></tr></thead>\n",
       "<tbody>\n",
       "\t<tr><td>1    </td><td>1    </td><td>226  </td><td>Day0 </td><td>1    </td><td>1    </td><td>2    </td></tr>\n",
       "\t<tr><td>1    </td><td>1    </td><td>226  </td><td>Day8 </td><td>1    </td><td>1    </td><td>2    </td></tr>\n",
       "\t<tr><td>1    </td><td>1    </td><td>226  </td><td>Day9 </td><td>1    </td><td>7    </td><td>8    </td></tr>\n",
       "\t<tr><td>1    </td><td>1    </td><td>226  </td><td>Day10</td><td>1    </td><td>2    </td><td>3    </td></tr>\n",
       "\t<tr><td>1    </td><td>1    </td><td>226  </td><td>Day12</td><td>1    </td><td>5    </td><td>6    </td></tr>\n",
       "\t<tr><td>1    </td><td>1    </td><td>226  </td><td>iPSCs</td><td>2    </td><td>1    </td><td>3    </td></tr>\n",
       "</tbody>\n",
       "</table>\n"
      ],
      "text/latex": [
       "\\begin{tabular}{r|lllllll}\n",
       " chr & names & width & sample & C & M & sumR\\\\\n",
       "\\hline\n",
       "\t 1     & 1     & 226   & Day0  & 1     & 1     & 2    \\\\\n",
       "\t 1     & 1     & 226   & Day8  & 1     & 1     & 2    \\\\\n",
       "\t 1     & 1     & 226   & Day9  & 1     & 7     & 8    \\\\\n",
       "\t 1     & 1     & 226   & Day10 & 1     & 2     & 3    \\\\\n",
       "\t 1     & 1     & 226   & Day12 & 1     & 5     & 6    \\\\\n",
       "\t 1     & 1     & 226   & iPSCs & 2     & 1     & 3    \\\\\n",
       "\\end{tabular}\n"
      ],
      "text/markdown": [
       "\n",
       "| chr | names | width | sample | C | M | sumR |\n",
       "|---|---|---|---|---|---|---|\n",
       "| 1     | 1     | 226   | Day0  | 1     | 1     | 2     |\n",
       "| 1     | 1     | 226   | Day8  | 1     | 1     | 2     |\n",
       "| 1     | 1     | 226   | Day9  | 1     | 7     | 8     |\n",
       "| 1     | 1     | 226   | Day10 | 1     | 2     | 3     |\n",
       "| 1     | 1     | 226   | Day12 | 1     | 5     | 6     |\n",
       "| 1     | 1     | 226   | iPSCs | 2     | 1     | 3     |\n",
       "\n"
      ],
      "text/plain": [
       "  chr names width sample C M sumR\n",
       "1 1   1     226   Day0   1 1 2   \n",
       "2 1   1     226   Day8   1 1 2   \n",
       "3 1   1     226   Day9   1 7 8   \n",
       "4 1   1     226   Day10  1 2 3   \n",
       "5 1   1     226   Day12  1 5 6   \n",
       "6 1   1     226   iPSCs  2 1 3   "
      ]
     },
     "metadata": {},
     "output_type": "display_data"
    }
   ],
   "source": [
    "head(df_allelic_full_gathered)"
   ]
  },
  {
   "cell_type": "code",
   "execution_count": 23,
   "metadata": {},
   "outputs": [
    {
     "data": {
      "text/html": [
       "2450232"
      ],
      "text/latex": [
       "2450232"
      ],
      "text/markdown": [
       "2450232"
      ],
      "text/plain": [
       "[1] 2450232"
      ]
     },
     "metadata": {},
     "output_type": "display_data"
    }
   ],
   "source": [
    "nrow(df_allelic_full_gathered)"
   ]
  },
  {
   "cell_type": "code",
   "execution_count": 24,
   "metadata": {},
   "outputs": [],
   "source": [
    "count_samples <- df_allelic_full_gathered %>% group_by(sample) %>% summarise(total_reads = sum(sumR))\n",
    "df_allelic_full_gathered <- merge(df_allelic_full_gathered, count_samples, by = \"sample\")"
   ]
  },
  {
   "cell_type": "code",
   "execution_count": 25,
   "metadata": {},
   "outputs": [
    {
     "data": {
      "text/html": [
       "<table>\n",
       "<thead><tr><th scope=col>sample</th><th scope=col>chr</th><th scope=col>names</th><th scope=col>width</th><th scope=col>C</th><th scope=col>M</th><th scope=col>sumR</th><th scope=col>total_reads</th></tr></thead>\n",
       "<tbody>\n",
       "\t<tr><td>Day0    </td><td>1       </td><td>     1  </td><td>226     </td><td> 1      </td><td> 1      </td><td>  2     </td><td>11348313</td></tr>\n",
       "\t<tr><td>Day0    </td><td>17      </td><td>177148  </td><td>239     </td><td> 1      </td><td> 1      </td><td>  2     </td><td>11348313</td></tr>\n",
       "\t<tr><td>Day0    </td><td>10      </td><td> 44288  </td><td>278     </td><td>23      </td><td>21      </td><td> 44     </td><td>11348313</td></tr>\n",
       "\t<tr><td>Day0    </td><td>9       </td><td>398582  </td><td>342     </td><td> 1      </td><td> 6      </td><td>  7     </td><td>11348313</td></tr>\n",
       "\t<tr><td>Day0    </td><td>4       </td><td>265722  </td><td>459     </td><td>63      </td><td>45      </td><td>108     </td><td>11348313</td></tr>\n",
       "\t<tr><td>Day0    </td><td>14      </td><td>132862  </td><td>425     </td><td> 5      </td><td> 1      </td><td>  6     </td><td>11348313</td></tr>\n",
       "</tbody>\n",
       "</table>\n"
      ],
      "text/latex": [
       "\\begin{tabular}{r|llllllll}\n",
       " sample & chr & names & width & C & M & sumR & total\\_reads\\\\\n",
       "\\hline\n",
       "\t Day0     & 1        &      1   & 226      &  1       &  1       &   2      & 11348313\\\\\n",
       "\t Day0     & 17       & 177148   & 239      &  1       &  1       &   2      & 11348313\\\\\n",
       "\t Day0     & 10       &  44288   & 278      & 23       & 21       &  44      & 11348313\\\\\n",
       "\t Day0     & 9        & 398582   & 342      &  1       &  6       &   7      & 11348313\\\\\n",
       "\t Day0     & 4        & 265722   & 459      & 63       & 45       & 108      & 11348313\\\\\n",
       "\t Day0     & 14       & 132862   & 425      &  5       &  1       &   6      & 11348313\\\\\n",
       "\\end{tabular}\n"
      ],
      "text/markdown": [
       "\n",
       "| sample | chr | names | width | C | M | sumR | total_reads |\n",
       "|---|---|---|---|---|---|---|---|\n",
       "| Day0     | 1        |      1   | 226      |  1       |  1       |   2      | 11348313 |\n",
       "| Day0     | 17       | 177148   | 239      |  1       |  1       |   2      | 11348313 |\n",
       "| Day0     | 10       |  44288   | 278      | 23       | 21       |  44      | 11348313 |\n",
       "| Day0     | 9        | 398582   | 342      |  1       |  6       |   7      | 11348313 |\n",
       "| Day0     | 4        | 265722   | 459      | 63       | 45       | 108      | 11348313 |\n",
       "| Day0     | 14       | 132862   | 425      |  5       |  1       |   6      | 11348313 |\n",
       "\n"
      ],
      "text/plain": [
       "  sample chr names  width C  M  sumR total_reads\n",
       "1 Day0   1        1 226    1  1   2  11348313   \n",
       "2 Day0   17  177148 239    1  1   2  11348313   \n",
       "3 Day0   10   44288 278   23 21  44  11348313   \n",
       "4 Day0   9   398582 342    1  6   7  11348313   \n",
       "5 Day0   4   265722 459   63 45 108  11348313   \n",
       "6 Day0   14  132862 425    5  1   6  11348313   "
      ]
     },
     "metadata": {},
     "output_type": "display_data"
    }
   ],
   "source": [
    "head(df_allelic_full_gathered)"
   ]
  },
  {
   "cell_type": "code",
   "execution_count": 26,
   "metadata": {},
   "outputs": [],
   "source": [
    "df_allelic_full_gathered$mus_norm <- log1p((df_allelic_full_gathered$M/df_allelic_full_gathered$total_reads)*10000)\n",
    "df_allelic_full_gathered$cast_norm <- log1p((df_allelic_full_gathered$C/df_allelic_full_gathered$total_reads)*10000)"
   ]
  },
  {
   "cell_type": "code",
   "execution_count": 27,
   "metadata": {},
   "outputs": [
    {
     "data": {
      "text/html": [
       "<table>\n",
       "<thead><tr><th scope=col>sample</th><th scope=col>chr</th><th scope=col>names</th><th scope=col>width</th><th scope=col>C</th><th scope=col>M</th><th scope=col>sumR</th><th scope=col>total_reads</th><th scope=col>mus_norm</th><th scope=col>cast_norm</th></tr></thead>\n",
       "<tbody>\n",
       "\t<tr><td>Day0        </td><td>1           </td><td>     1      </td><td>226         </td><td> 1          </td><td> 1          </td><td>  2         </td><td>11348313    </td><td>0.0008808002</td><td>0.0008808002</td></tr>\n",
       "\t<tr><td>Day0        </td><td>17          </td><td>177148      </td><td>239         </td><td> 1          </td><td> 1          </td><td>  2         </td><td>11348313    </td><td>0.0008808002</td><td>0.0008808002</td></tr>\n",
       "\t<tr><td>Day0        </td><td>10          </td><td> 44288      </td><td>278         </td><td>23          </td><td>21          </td><td> 44         </td><td>11348313    </td><td>0.0183358198</td><td>0.0200646808</td></tr>\n",
       "\t<tr><td>Day0        </td><td>9           </td><td>398582      </td><td>342         </td><td> 1          </td><td> 6          </td><td>  7         </td><td>11348313    </td><td>0.0052732017</td><td>0.0008808002</td></tr>\n",
       "\t<tr><td>Day0        </td><td>4           </td><td>265722      </td><td>459         </td><td>63          </td><td>45          </td><td>108         </td><td>11348313    </td><td>0.0388874566</td><td>0.0540286662</td></tr>\n",
       "\t<tr><td>Day0        </td><td>14          </td><td>132862      </td><td>425         </td><td> 5          </td><td> 1          </td><td>  6         </td><td>11348313    </td><td>0.0008808002</td><td>0.0043962635</td></tr>\n",
       "</tbody>\n",
       "</table>\n"
      ],
      "text/latex": [
       "\\begin{tabular}{r|llllllllll}\n",
       " sample & chr & names & width & C & M & sumR & total\\_reads & mus\\_norm & cast\\_norm\\\\\n",
       "\\hline\n",
       "\t Day0         & 1            &      1       & 226          &  1           &  1           &   2          & 11348313     & 0.0008808002 & 0.0008808002\\\\\n",
       "\t Day0         & 17           & 177148       & 239          &  1           &  1           &   2          & 11348313     & 0.0008808002 & 0.0008808002\\\\\n",
       "\t Day0         & 10           &  44288       & 278          & 23           & 21           &  44          & 11348313     & 0.0183358198 & 0.0200646808\\\\\n",
       "\t Day0         & 9            & 398582       & 342          &  1           &  6           &   7          & 11348313     & 0.0052732017 & 0.0008808002\\\\\n",
       "\t Day0         & 4            & 265722       & 459          & 63           & 45           & 108          & 11348313     & 0.0388874566 & 0.0540286662\\\\\n",
       "\t Day0         & 14           & 132862       & 425          &  5           &  1           &   6          & 11348313     & 0.0008808002 & 0.0043962635\\\\\n",
       "\\end{tabular}\n"
      ],
      "text/markdown": [
       "\n",
       "| sample | chr | names | width | C | M | sumR | total_reads | mus_norm | cast_norm |\n",
       "|---|---|---|---|---|---|---|---|---|---|\n",
       "| Day0         | 1            |      1       | 226          |  1           |  1           |   2          | 11348313     | 0.0008808002 | 0.0008808002 |\n",
       "| Day0         | 17           | 177148       | 239          |  1           |  1           |   2          | 11348313     | 0.0008808002 | 0.0008808002 |\n",
       "| Day0         | 10           |  44288       | 278          | 23           | 21           |  44          | 11348313     | 0.0183358198 | 0.0200646808 |\n",
       "| Day0         | 9            | 398582       | 342          |  1           |  6           |   7          | 11348313     | 0.0052732017 | 0.0008808002 |\n",
       "| Day0         | 4            | 265722       | 459          | 63           | 45           | 108          | 11348313     | 0.0388874566 | 0.0540286662 |\n",
       "| Day0         | 14           | 132862       | 425          |  5           |  1           |   6          | 11348313     | 0.0008808002 | 0.0043962635 |\n",
       "\n"
      ],
      "text/plain": [
       "  sample chr names  width C  M  sumR total_reads mus_norm     cast_norm   \n",
       "1 Day0   1        1 226    1  1   2  11348313    0.0008808002 0.0008808002\n",
       "2 Day0   17  177148 239    1  1   2  11348313    0.0008808002 0.0008808002\n",
       "3 Day0   10   44288 278   23 21  44  11348313    0.0183358198 0.0200646808\n",
       "4 Day0   9   398582 342    1  6   7  11348313    0.0052732017 0.0008808002\n",
       "5 Day0   4   265722 459   63 45 108  11348313    0.0388874566 0.0540286662\n",
       "6 Day0   14  132862 425    5  1   6  11348313    0.0008808002 0.0043962635"
      ]
     },
     "metadata": {},
     "output_type": "display_data"
    }
   ],
   "source": [
    "head(df_allelic_full_gathered)"
   ]
  },
  {
   "cell_type": "markdown",
   "metadata": {},
   "source": [
    "Filter for X chromosome and equal to or more than 10 reads between cast and mus"
   ]
  },
  {
   "cell_type": "code",
   "execution_count": 129,
   "metadata": {},
   "outputs": [
    {
     "data": {
      "text/html": [
       "'data.frame'"
      ],
      "text/latex": [
       "'data.frame'"
      ],
      "text/markdown": [
       "'data.frame'"
      ],
      "text/plain": [
       "[1] \"data.frame\""
      ]
     },
     "metadata": {},
     "output_type": "display_data"
    }
   ],
   "source": [
    "class(df_allelic_full_gathered)"
   ]
  },
  {
   "cell_type": "code",
   "execution_count": 130,
   "metadata": {},
   "outputs": [
    {
     "data": {
      "text/html": [
       "2450232"
      ],
      "text/latex": [
       "2450232"
      ],
      "text/markdown": [
       "2450232"
      ],
      "text/plain": [
       "[1] 2450232"
      ]
     },
     "metadata": {},
     "output_type": "display_data"
    }
   ],
   "source": [
    "nrow(df_allelic_full_gathered)"
   ]
  },
  {
   "cell_type": "code",
   "execution_count": 28,
   "metadata": {},
   "outputs": [],
   "source": [
    "X_10reads <- df_allelic_full_gathered[ which(df_allelic_full_gathered$chr=='X' & df_allelic_full_gathered$sumR >= 10),]\n",
    "Auto_10reads <- df_allelic_full_gathered[ which(df_allelic_full_gathered$chr!= \"X\" & df_allelic_full_gathered$chr!= \"Y\" & df_allelic_full_gathered$chr!= \"MT\" & df_allelic_full_gathered$sumR >= 10),]"
   ]
  },
  {
   "cell_type": "code",
   "execution_count": 29,
   "metadata": {},
   "outputs": [
    {
     "data": {
      "text/html": [
       "<table>\n",
       "<thead><tr><th></th><th scope=col>sample</th><th scope=col>chr</th><th scope=col>names</th><th scope=col>width</th><th scope=col>C</th><th scope=col>M</th><th scope=col>sumR</th><th scope=col>total_reads</th><th scope=col>mus_norm</th><th scope=col>cast_norm</th></tr></thead>\n",
       "<tbody>\n",
       "\t<tr><th scope=row>14284</th><td>Day0        </td><td>X           </td><td>400962      </td><td>244         </td><td>10          </td><td> 1          </td><td>11          </td><td>11348313    </td><td>0.0008808002</td><td>0.008773284 </td></tr>\n",
       "\t<tr><th scope=row>14308</th><td>Day0        </td><td>X           </td><td>400966      </td><td>414         </td><td>34          </td><td>11          </td><td>45          </td><td>11348313    </td><td>0.0096463943</td><td>0.029520355 </td></tr>\n",
       "\t<tr><th scope=row>14314</th><td>Day0        </td><td>X           </td><td>400967      </td><td>672         </td><td>10          </td><td> 1          </td><td>11          </td><td>11348313    </td><td>0.0008808002</td><td>0.008773284 </td></tr>\n",
       "\t<tr><th scope=row>14320</th><td>Day0        </td><td>X           </td><td>400968      </td><td>401         </td><td> 9          </td><td> 1          </td><td>10          </td><td>11348313    </td><td>0.0008808002</td><td>0.007899412 </td></tr>\n",
       "\t<tr><th scope=row>14338</th><td>Day0        </td><td>X           </td><td>400971      </td><td>404         </td><td>59          </td><td> 1          </td><td>60          </td><td>11348313    </td><td>0.0008808002</td><td>0.050683710 </td></tr>\n",
       "\t<tr><th scope=row>14362</th><td>Day0        </td><td>X           </td><td>400975      </td><td>313         </td><td>22          </td><td> 1          </td><td>23          </td><td>11348313    </td><td>0.0008808002</td><td>0.019200624 </td></tr>\n",
       "</tbody>\n",
       "</table>\n"
      ],
      "text/latex": [
       "\\begin{tabular}{r|llllllllll}\n",
       "  & sample & chr & names & width & C & M & sumR & total\\_reads & mus\\_norm & cast\\_norm\\\\\n",
       "\\hline\n",
       "\t14284 & Day0         & X            & 400962       & 244          & 10           &  1           & 11           & 11348313     & 0.0008808002 & 0.008773284 \\\\\n",
       "\t14308 & Day0         & X            & 400966       & 414          & 34           & 11           & 45           & 11348313     & 0.0096463943 & 0.029520355 \\\\\n",
       "\t14314 & Day0         & X            & 400967       & 672          & 10           &  1           & 11           & 11348313     & 0.0008808002 & 0.008773284 \\\\\n",
       "\t14320 & Day0         & X            & 400968       & 401          &  9           &  1           & 10           & 11348313     & 0.0008808002 & 0.007899412 \\\\\n",
       "\t14338 & Day0         & X            & 400971       & 404          & 59           &  1           & 60           & 11348313     & 0.0008808002 & 0.050683710 \\\\\n",
       "\t14362 & Day0         & X            & 400975       & 313          & 22           &  1           & 23           & 11348313     & 0.0008808002 & 0.019200624 \\\\\n",
       "\\end{tabular}\n"
      ],
      "text/markdown": [
       "\n",
       "| <!--/--> | sample | chr | names | width | C | M | sumR | total_reads | mus_norm | cast_norm |\n",
       "|---|---|---|---|---|---|---|---|---|---|---|\n",
       "| 14284 | Day0         | X            | 400962       | 244          | 10           |  1           | 11           | 11348313     | 0.0008808002 | 0.008773284  |\n",
       "| 14308 | Day0         | X            | 400966       | 414          | 34           | 11           | 45           | 11348313     | 0.0096463943 | 0.029520355  |\n",
       "| 14314 | Day0         | X            | 400967       | 672          | 10           |  1           | 11           | 11348313     | 0.0008808002 | 0.008773284  |\n",
       "| 14320 | Day0         | X            | 400968       | 401          |  9           |  1           | 10           | 11348313     | 0.0008808002 | 0.007899412  |\n",
       "| 14338 | Day0         | X            | 400971       | 404          | 59           |  1           | 60           | 11348313     | 0.0008808002 | 0.050683710  |\n",
       "| 14362 | Day0         | X            | 400975       | 313          | 22           |  1           | 23           | 11348313     | 0.0008808002 | 0.019200624  |\n",
       "\n"
      ],
      "text/plain": [
       "      sample chr names  width C  M  sumR total_reads mus_norm     cast_norm  \n",
       "14284 Day0   X   400962 244   10  1 11   11348313    0.0008808002 0.008773284\n",
       "14308 Day0   X   400966 414   34 11 45   11348313    0.0096463943 0.029520355\n",
       "14314 Day0   X   400967 672   10  1 11   11348313    0.0008808002 0.008773284\n",
       "14320 Day0   X   400968 401    9  1 10   11348313    0.0008808002 0.007899412\n",
       "14338 Day0   X   400971 404   59  1 60   11348313    0.0008808002 0.050683710\n",
       "14362 Day0   X   400975 313   22  1 23   11348313    0.0008808002 0.019200624"
      ]
     },
     "metadata": {},
     "output_type": "display_data"
    }
   ],
   "source": [
    "head(X_10reads)"
   ]
  },
  {
   "cell_type": "code",
   "execution_count": 134,
   "metadata": {},
   "outputs": [],
   "source": [
    "#write.table(X_10reads, file = 'X_ordered_cast_new.txt', sep = \"\\t\")"
   ]
  },
  {
   "cell_type": "code",
   "execution_count": 135,
   "metadata": {},
   "outputs": [
    {
     "data": {
      "text/html": [
       "17070"
      ],
      "text/latex": [
       "17070"
      ],
      "text/markdown": [
       "17070"
      ],
      "text/plain": [
       "[1] 17070"
      ]
     },
     "metadata": {},
     "output_type": "display_data"
    }
   ],
   "source": [
    "nrow(X_10reads)"
   ]
  },
  {
   "cell_type": "code",
   "execution_count": 30,
   "metadata": {},
   "outputs": [
    {
     "data": {
      "text/html": [
       "<table>\n",
       "<thead><tr><th></th><th scope=col>sample</th><th scope=col>chr</th><th scope=col>names</th><th scope=col>width</th><th scope=col>C</th><th scope=col>M</th><th scope=col>sumR</th><th scope=col>total_reads</th><th scope=col>mus_norm</th><th scope=col>cast_norm</th></tr></thead>\n",
       "<tbody>\n",
       "\t<tr><th scope=row>3</th><td>Day0       </td><td>10         </td><td> 44288     </td><td>278        </td><td>23         </td><td>21         </td><td> 44        </td><td>11348313   </td><td>0.018335820</td><td>0.020064681</td></tr>\n",
       "\t<tr><th scope=row>5</th><td>Day0       </td><td>4          </td><td>265722     </td><td>459        </td><td>63         </td><td>45         </td><td>108        </td><td>11348313   </td><td>0.038887457</td><td>0.054028666</td></tr>\n",
       "\t<tr><th scope=row>10</th><td>Day0       </td><td>9          </td><td>398583     </td><td>422        </td><td> 2         </td><td> 8         </td><td> 10        </td><td>11348313   </td><td>0.007024774</td><td>0.001760825</td></tr>\n",
       "\t<tr><th scope=row>11</th><td>Day0       </td><td>4          </td><td>265723     </td><td>808        </td><td>39         </td><td>24         </td><td> 63        </td><td>11348313   </td><td>0.020927992</td><td>0.033789009</td></tr>\n",
       "\t<tr><th scope=row>16</th><td>Day0       </td><td>9          </td><td>398584     </td><td>612        </td><td>61         </td><td>67         </td><td>128        </td><td>11348313   </td><td>0.057362471</td><td>0.052357587</td></tr>\n",
       "\t<tr><th scope=row>22</th><td>Day0       </td><td>9          </td><td>398585     </td><td>441        </td><td>74         </td><td>36         </td><td>110        </td><td>11348313   </td><td>0.031230004</td><td>0.063170020</td></tr>\n",
       "</tbody>\n",
       "</table>\n"
      ],
      "text/latex": [
       "\\begin{tabular}{r|llllllllll}\n",
       "  & sample & chr & names & width & C & M & sumR & total\\_reads & mus\\_norm & cast\\_norm\\\\\n",
       "\\hline\n",
       "\t3 & Day0        & 10          &  44288      & 278         & 23          & 21          &  44         & 11348313    & 0.018335820 & 0.020064681\\\\\n",
       "\t5 & Day0        & 4           & 265722      & 459         & 63          & 45          & 108         & 11348313    & 0.038887457 & 0.054028666\\\\\n",
       "\t10 & Day0        & 9           & 398583      & 422         &  2          &  8          &  10         & 11348313    & 0.007024774 & 0.001760825\\\\\n",
       "\t11 & Day0        & 4           & 265723      & 808         & 39          & 24          &  63         & 11348313    & 0.020927992 & 0.033789009\\\\\n",
       "\t16 & Day0        & 9           & 398584      & 612         & 61          & 67          & 128         & 11348313    & 0.057362471 & 0.052357587\\\\\n",
       "\t22 & Day0        & 9           & 398585      & 441         & 74          & 36          & 110         & 11348313    & 0.031230004 & 0.063170020\\\\\n",
       "\\end{tabular}\n"
      ],
      "text/markdown": [
       "\n",
       "| <!--/--> | sample | chr | names | width | C | M | sumR | total_reads | mus_norm | cast_norm |\n",
       "|---|---|---|---|---|---|---|---|---|---|---|\n",
       "| 3 | Day0        | 10          |  44288      | 278         | 23          | 21          |  44         | 11348313    | 0.018335820 | 0.020064681 |\n",
       "| 5 | Day0        | 4           | 265722      | 459         | 63          | 45          | 108         | 11348313    | 0.038887457 | 0.054028666 |\n",
       "| 10 | Day0        | 9           | 398583      | 422         |  2          |  8          |  10         | 11348313    | 0.007024774 | 0.001760825 |\n",
       "| 11 | Day0        | 4           | 265723      | 808         | 39          | 24          |  63         | 11348313    | 0.020927992 | 0.033789009 |\n",
       "| 16 | Day0        | 9           | 398584      | 612         | 61          | 67          | 128         | 11348313    | 0.057362471 | 0.052357587 |\n",
       "| 22 | Day0        | 9           | 398585      | 441         | 74          | 36          | 110         | 11348313    | 0.031230004 | 0.063170020 |\n",
       "\n"
      ],
      "text/plain": [
       "   sample chr names  width C  M  sumR total_reads mus_norm    cast_norm  \n",
       "3  Day0   10   44288 278   23 21  44  11348313    0.018335820 0.020064681\n",
       "5  Day0   4   265722 459   63 45 108  11348313    0.038887457 0.054028666\n",
       "10 Day0   9   398583 422    2  8  10  11348313    0.007024774 0.001760825\n",
       "11 Day0   4   265723 808   39 24  63  11348313    0.020927992 0.033789009\n",
       "16 Day0   9   398584 612   61 67 128  11348313    0.057362471 0.052357587\n",
       "22 Day0   9   398585 441   74 36 110  11348313    0.031230004 0.063170020"
      ]
     },
     "metadata": {},
     "output_type": "display_data"
    }
   ],
   "source": [
    "head(Auto_10reads)"
   ]
  },
  {
   "cell_type": "code",
   "execution_count": 31,
   "metadata": {},
   "outputs": [],
   "source": [
    "X_day0 <- subset(X_10reads, sample == 'Day0')"
   ]
  },
  {
   "cell_type": "code",
   "execution_count": 47,
   "metadata": {},
   "outputs": [
    {
     "data": {
      "text/html": [
       "1892"
      ],
      "text/latex": [
       "1892"
      ],
      "text/markdown": [
       "1892"
      ],
      "text/plain": [
       "[1] 1892"
      ]
     },
     "metadata": {},
     "output_type": "display_data"
    }
   ],
   "source": [
    "nrow(X_day0)"
   ]
  },
  {
   "cell_type": "code",
   "execution_count": 32,
   "metadata": {},
   "outputs": [],
   "source": [
    "Auto_day0 <- subset(Auto_10reads, sample == 'Day0')"
   ]
  },
  {
   "cell_type": "code",
   "execution_count": 33,
   "metadata": {},
   "outputs": [],
   "source": [
    "Auto_day0$chr <- 'Auto'"
   ]
  },
  {
   "cell_type": "code",
   "execution_count": 39,
   "metadata": {},
   "outputs": [],
   "source": [
    "Auto_day0_median_mus <- Auto_day0 %>%\n",
    "  group_by(chr) %>%\n",
    "  summarize(median=median(mus_norm))"
   ]
  },
  {
   "cell_type": "code",
   "execution_count": 40,
   "metadata": {},
   "outputs": [
    {
     "data": {
      "text/html": [
       "<table>\n",
       "<thead><tr><th scope=col>chr</th><th scope=col>median</th></tr></thead>\n",
       "<tbody>\n",
       "\t<tr><td>Auto      </td><td>0.01139033</td></tr>\n",
       "</tbody>\n",
       "</table>\n"
      ],
      "text/latex": [
       "\\begin{tabular}{r|ll}\n",
       " chr & median\\\\\n",
       "\\hline\n",
       "\t Auto       & 0.01139033\\\\\n",
       "\\end{tabular}\n"
      ],
      "text/markdown": [
       "\n",
       "| chr | median |\n",
       "|---|---|\n",
       "| Auto       | 0.01139033 |\n",
       "\n"
      ],
      "text/plain": [
       "  chr  median    \n",
       "1 Auto 0.01139033"
      ]
     },
     "metadata": {},
     "output_type": "display_data"
    }
   ],
   "source": [
    "Auto_day0_median_mus"
   ]
  },
  {
   "cell_type": "code",
   "execution_count": 48,
   "metadata": {},
   "outputs": [],
   "source": [
    "X_day0_median_mus <- X_day0 %>%\n",
    "  group_by(chr) %>%\n",
    "  summarize(median=median(mus_norm))"
   ]
  },
  {
   "cell_type": "code",
   "execution_count": 49,
   "metadata": {},
   "outputs": [
    {
     "data": {
      "text/html": [
       "<table>\n",
       "<thead><tr><th scope=col>chr</th><th scope=col>median</th></tr></thead>\n",
       "<tbody>\n",
       "\t<tr><td>X           </td><td>0.0008808002</td></tr>\n",
       "</tbody>\n",
       "</table>\n"
      ],
      "text/latex": [
       "\\begin{tabular}{r|ll}\n",
       " chr & median\\\\\n",
       "\\hline\n",
       "\t X            & 0.0008808002\\\\\n",
       "\\end{tabular}\n"
      ],
      "text/markdown": [
       "\n",
       "| chr | median |\n",
       "|---|---|\n",
       "| X            | 0.0008808002 |\n",
       "\n"
      ],
      "text/plain": [
       "  chr median      \n",
       "1 X   0.0008808002"
      ]
     },
     "metadata": {},
     "output_type": "display_data"
    }
   ],
   "source": [
    "X_day0_median_mus"
   ]
  },
  {
   "cell_type": "code",
   "execution_count": 43,
   "metadata": {},
   "outputs": [],
   "source": [
    "Auto_day0_median_cast <- Auto_day0 %>%\n",
    "  group_by(chr) %>%\n",
    "  summarize(median=median(cast_norm))"
   ]
  },
  {
   "cell_type": "code",
   "execution_count": 44,
   "metadata": {},
   "outputs": [
    {
     "data": {
      "text/html": [
       "<table>\n",
       "<thead><tr><th scope=col>chr</th><th scope=col>median</th></tr></thead>\n",
       "<tbody>\n",
       "\t<tr><td>Auto      </td><td>0.01313123</td></tr>\n",
       "</tbody>\n",
       "</table>\n"
      ],
      "text/latex": [
       "\\begin{tabular}{r|ll}\n",
       " chr & median\\\\\n",
       "\\hline\n",
       "\t Auto       & 0.01313123\\\\\n",
       "\\end{tabular}\n"
      ],
      "text/markdown": [
       "\n",
       "| chr | median |\n",
       "|---|---|\n",
       "| Auto       | 0.01313123 |\n",
       "\n"
      ],
      "text/plain": [
       "  chr  median    \n",
       "1 Auto 0.01313123"
      ]
     },
     "metadata": {},
     "output_type": "display_data"
    }
   ],
   "source": [
    "Auto_day0_median_cast"
   ]
  },
  {
   "cell_type": "code",
   "execution_count": 50,
   "metadata": {},
   "outputs": [],
   "source": [
    "X_day0_median_cast <- X_day0 %>%\n",
    "  group_by(chr) %>%\n",
    "  summarize(median=median(cast_norm))"
   ]
  },
  {
   "cell_type": "code",
   "execution_count": 51,
   "metadata": {},
   "outputs": [
    {
     "data": {
      "text/html": [
       "<table>\n",
       "<thead><tr><th scope=col>chr</th><th scope=col>median</th></tr></thead>\n",
       "<tbody>\n",
       "\t<tr><td>X         </td><td>0.01747027</td></tr>\n",
       "</tbody>\n",
       "</table>\n"
      ],
      "text/latex": [
       "\\begin{tabular}{r|ll}\n",
       " chr & median\\\\\n",
       "\\hline\n",
       "\t X          & 0.01747027\\\\\n",
       "\\end{tabular}\n"
      ],
      "text/markdown": [
       "\n",
       "| chr | median |\n",
       "|---|---|\n",
       "| X          | 0.01747027 |\n",
       "\n"
      ],
      "text/plain": [
       "  chr median    \n",
       "1 X   0.01747027"
      ]
     },
     "metadata": {},
     "output_type": "display_data"
    }
   ],
   "source": [
    "X_day0_median_cast"
   ]
  },
  {
   "cell_type": "code",
   "execution_count": 35,
   "metadata": {},
   "outputs": [
    {
     "data": {
      "text/html": [
       "1128427"
      ],
      "text/latex": [
       "1128427"
      ],
      "text/markdown": [
       "1128427"
      ],
      "text/plain": [
       "[1] 1128427"
      ]
     },
     "metadata": {},
     "output_type": "display_data"
    }
   ],
   "source": [
    "nrow(Auto_10reads)"
   ]
  },
  {
   "cell_type": "code",
   "execution_count": 97,
   "metadata": {},
   "outputs": [],
   "source": [
    "mus_norm <- c(\"mus_norm\", \"sample\")\n",
    "X_mus_norm <- c(\"mus_norm\", \"sample\", \"chr\")"
   ]
  },
  {
   "cell_type": "code",
   "execution_count": 105,
   "metadata": {},
   "outputs": [],
   "source": [
    "X_mus <- X_10reads[X_mus_norm]"
   ]
  },
  {
   "cell_type": "code",
   "execution_count": 98,
   "metadata": {},
   "outputs": [],
   "source": [
    "X_cast_norm <- c(\"cast_norm\", \"sample\", \"chr\")\n",
    "cast_norm <- c(\"cast_norm\", \"sample\")"
   ]
  },
  {
   "cell_type": "code",
   "execution_count": 99,
   "metadata": {},
   "outputs": [],
   "source": [
    "Auto_Cast <- Auto_10reads[cast_norm]"
   ]
  },
  {
   "cell_type": "code",
   "execution_count": 100,
   "metadata": {},
   "outputs": [],
   "source": [
    "Auto_mus <- Auto_10reads[mus_norm]"
   ]
  },
  {
   "cell_type": "code",
   "execution_count": 101,
   "metadata": {},
   "outputs": [],
   "source": [
    "Auto_mus$chr <- 'Auto'\n",
    "Auto_mus$allele <- 'mus'"
   ]
  },
  {
   "cell_type": "code",
   "execution_count": 102,
   "metadata": {},
   "outputs": [],
   "source": [
    "Auto_Cast$chr <- 'Auto'\n",
    "Auto_Cast$allele <- 'cast'"
   ]
  },
  {
   "cell_type": "code",
   "execution_count": 103,
   "metadata": {},
   "outputs": [],
   "source": [
    "names(Auto_mus)[1] <- \"norm\"\n",
    "names(Auto_Cast)[1] <- \"norm\""
   ]
  },
  {
   "cell_type": "code",
   "execution_count": 104,
   "metadata": {},
   "outputs": [
    {
     "data": {
      "text/html": [
       "<table>\n",
       "<thead><tr><th></th><th scope=col>norm</th><th scope=col>sample</th><th scope=col>chr</th><th scope=col>allele</th></tr></thead>\n",
       "<tbody>\n",
       "\t<tr><th scope=row>3</th><td>0.018335820</td><td>Day0       </td><td>Auto       </td><td>mus        </td></tr>\n",
       "\t<tr><th scope=row>5</th><td>0.038887457</td><td>Day0       </td><td>Auto       </td><td>mus        </td></tr>\n",
       "\t<tr><th scope=row>10</th><td>0.007024774</td><td>Day0       </td><td>Auto       </td><td>mus        </td></tr>\n",
       "\t<tr><th scope=row>11</th><td>0.020927992</td><td>Day0       </td><td>Auto       </td><td>mus        </td></tr>\n",
       "\t<tr><th scope=row>16</th><td>0.057362471</td><td>Day0       </td><td>Auto       </td><td>mus        </td></tr>\n",
       "\t<tr><th scope=row>22</th><td>0.031230004</td><td>Day0       </td><td>Auto       </td><td>mus        </td></tr>\n",
       "</tbody>\n",
       "</table>\n"
      ],
      "text/latex": [
       "\\begin{tabular}{r|llll}\n",
       "  & norm & sample & chr & allele\\\\\n",
       "\\hline\n",
       "\t3 & 0.018335820 & Day0        & Auto        & mus        \\\\\n",
       "\t5 & 0.038887457 & Day0        & Auto        & mus        \\\\\n",
       "\t10 & 0.007024774 & Day0        & Auto        & mus        \\\\\n",
       "\t11 & 0.020927992 & Day0        & Auto        & mus        \\\\\n",
       "\t16 & 0.057362471 & Day0        & Auto        & mus        \\\\\n",
       "\t22 & 0.031230004 & Day0        & Auto        & mus        \\\\\n",
       "\\end{tabular}\n"
      ],
      "text/markdown": [
       "\n",
       "| <!--/--> | norm | sample | chr | allele |\n",
       "|---|---|---|---|---|\n",
       "| 3 | 0.018335820 | Day0        | Auto        | mus         |\n",
       "| 5 | 0.038887457 | Day0        | Auto        | mus         |\n",
       "| 10 | 0.007024774 | Day0        | Auto        | mus         |\n",
       "| 11 | 0.020927992 | Day0        | Auto        | mus         |\n",
       "| 16 | 0.057362471 | Day0        | Auto        | mus         |\n",
       "| 22 | 0.031230004 | Day0        | Auto        | mus         |\n",
       "\n"
      ],
      "text/plain": [
       "   norm        sample chr  allele\n",
       "3  0.018335820 Day0   Auto mus   \n",
       "5  0.038887457 Day0   Auto mus   \n",
       "10 0.007024774 Day0   Auto mus   \n",
       "11 0.020927992 Day0   Auto mus   \n",
       "16 0.057362471 Day0   Auto mus   \n",
       "22 0.031230004 Day0   Auto mus   "
      ]
     },
     "metadata": {},
     "output_type": "display_data"
    }
   ],
   "source": [
    "head(Auto_mus)"
   ]
  },
  {
   "cell_type": "code",
   "execution_count": 111,
   "metadata": {},
   "outputs": [
    {
     "data": {
      "text/html": [
       "<table>\n",
       "<thead><tr><th></th><th scope=col>norm</th><th scope=col>sample</th><th scope=col>chr</th><th scope=col>allele</th></tr></thead>\n",
       "<tbody>\n",
       "\t<tr><th scope=row>14284</th><td>0.0008808002</td><td>Day0        </td><td>X           </td><td>mus         </td></tr>\n",
       "\t<tr><th scope=row>14308</th><td>0.0096463943</td><td>Day0        </td><td>X           </td><td>mus         </td></tr>\n",
       "\t<tr><th scope=row>14314</th><td>0.0008808002</td><td>Day0        </td><td>X           </td><td>mus         </td></tr>\n",
       "\t<tr><th scope=row>14320</th><td>0.0008808002</td><td>Day0        </td><td>X           </td><td>mus         </td></tr>\n",
       "\t<tr><th scope=row>14338</th><td>0.0008808002</td><td>Day0        </td><td>X           </td><td>mus         </td></tr>\n",
       "\t<tr><th scope=row>14362</th><td>0.0008808002</td><td>Day0        </td><td>X           </td><td>mus         </td></tr>\n",
       "</tbody>\n",
       "</table>\n"
      ],
      "text/latex": [
       "\\begin{tabular}{r|llll}\n",
       "  & norm & sample & chr & allele\\\\\n",
       "\\hline\n",
       "\t14284 & 0.0008808002 & Day0         & X            & mus         \\\\\n",
       "\t14308 & 0.0096463943 & Day0         & X            & mus         \\\\\n",
       "\t14314 & 0.0008808002 & Day0         & X            & mus         \\\\\n",
       "\t14320 & 0.0008808002 & Day0         & X            & mus         \\\\\n",
       "\t14338 & 0.0008808002 & Day0         & X            & mus         \\\\\n",
       "\t14362 & 0.0008808002 & Day0         & X            & mus         \\\\\n",
       "\\end{tabular}\n"
      ],
      "text/markdown": [
       "\n",
       "| <!--/--> | norm | sample | chr | allele |\n",
       "|---|---|---|---|---|\n",
       "| 14284 | 0.0008808002 | Day0         | X            | mus          |\n",
       "| 14308 | 0.0096463943 | Day0         | X            | mus          |\n",
       "| 14314 | 0.0008808002 | Day0         | X            | mus          |\n",
       "| 14320 | 0.0008808002 | Day0         | X            | mus          |\n",
       "| 14338 | 0.0008808002 | Day0         | X            | mus          |\n",
       "| 14362 | 0.0008808002 | Day0         | X            | mus          |\n",
       "\n"
      ],
      "text/plain": [
       "      norm         sample chr allele\n",
       "14284 0.0008808002 Day0   X   mus   \n",
       "14308 0.0096463943 Day0   X   mus   \n",
       "14314 0.0008808002 Day0   X   mus   \n",
       "14320 0.0008808002 Day0   X   mus   \n",
       "14338 0.0008808002 Day0   X   mus   \n",
       "14362 0.0008808002 Day0   X   mus   "
      ]
     },
     "metadata": {},
     "output_type": "display_data"
    }
   ],
   "source": [
    "head(X_mus)"
   ]
  },
  {
   "cell_type": "code",
   "execution_count": 110,
   "metadata": {},
   "outputs": [],
   "source": [
    "names(X_mus)[1] <- \"norm\"\n",
    "X_mus$allele <- 'mus'"
   ]
  },
  {
   "cell_type": "code",
   "execution_count": 112,
   "metadata": {},
   "outputs": [],
   "source": [
    "mus_X_Auto <- rbind(X_mus, Auto_mus)"
   ]
  },
  {
   "cell_type": "code",
   "execution_count": 113,
   "metadata": {},
   "outputs": [
    {
     "data": {
      "text/html": [
       "<table>\n",
       "<thead><tr><th></th><th scope=col>norm</th><th scope=col>sample</th><th scope=col>chr</th><th scope=col>allele</th></tr></thead>\n",
       "<tbody>\n",
       "\t<tr><th scope=row>14284</th><td>0.0008808002</td><td>Day0        </td><td>X           </td><td>mus         </td></tr>\n",
       "\t<tr><th scope=row>14308</th><td>0.0096463943</td><td>Day0        </td><td>X           </td><td>mus         </td></tr>\n",
       "\t<tr><th scope=row>14314</th><td>0.0008808002</td><td>Day0        </td><td>X           </td><td>mus         </td></tr>\n",
       "\t<tr><th scope=row>14320</th><td>0.0008808002</td><td>Day0        </td><td>X           </td><td>mus         </td></tr>\n",
       "\t<tr><th scope=row>14338</th><td>0.0008808002</td><td>Day0        </td><td>X           </td><td>mus         </td></tr>\n",
       "\t<tr><th scope=row>14362</th><td>0.0008808002</td><td>Day0        </td><td>X           </td><td>mus         </td></tr>\n",
       "</tbody>\n",
       "</table>\n"
      ],
      "text/latex": [
       "\\begin{tabular}{r|llll}\n",
       "  & norm & sample & chr & allele\\\\\n",
       "\\hline\n",
       "\t14284 & 0.0008808002 & Day0         & X            & mus         \\\\\n",
       "\t14308 & 0.0096463943 & Day0         & X            & mus         \\\\\n",
       "\t14314 & 0.0008808002 & Day0         & X            & mus         \\\\\n",
       "\t14320 & 0.0008808002 & Day0         & X            & mus         \\\\\n",
       "\t14338 & 0.0008808002 & Day0         & X            & mus         \\\\\n",
       "\t14362 & 0.0008808002 & Day0         & X            & mus         \\\\\n",
       "\\end{tabular}\n"
      ],
      "text/markdown": [
       "\n",
       "| <!--/--> | norm | sample | chr | allele |\n",
       "|---|---|---|---|---|\n",
       "| 14284 | 0.0008808002 | Day0         | X            | mus          |\n",
       "| 14308 | 0.0096463943 | Day0         | X            | mus          |\n",
       "| 14314 | 0.0008808002 | Day0         | X            | mus          |\n",
       "| 14320 | 0.0008808002 | Day0         | X            | mus          |\n",
       "| 14338 | 0.0008808002 | Day0         | X            | mus          |\n",
       "| 14362 | 0.0008808002 | Day0         | X            | mus          |\n",
       "\n"
      ],
      "text/plain": [
       "      norm         sample chr allele\n",
       "14284 0.0008808002 Day0   X   mus   \n",
       "14308 0.0096463943 Day0   X   mus   \n",
       "14314 0.0008808002 Day0   X   mus   \n",
       "14320 0.0008808002 Day0   X   mus   \n",
       "14338 0.0008808002 Day0   X   mus   \n",
       "14362 0.0008808002 Day0   X   mus   "
      ]
     },
     "metadata": {},
     "output_type": "display_data"
    }
   ],
   "source": [
    "head(mus_X_Auto)"
   ]
  },
  {
   "cell_type": "code",
   "execution_count": 44,
   "metadata": {},
   "outputs": [],
   "source": [
    "day0_M <- subset(Auto_mus, sample == 'Day0')\n",
    "iPSCs_M <- subset(Auto_mus, sample == 'iPSCs')\n",
    "day0_C <- subset(Auto_Cast, sample == 'Day0')\n",
    "iPSCs_C <- subset(Auto_Cast, sample == 'iPSCs')"
   ]
  },
  {
   "cell_type": "code",
   "execution_count": 45,
   "metadata": {},
   "outputs": [],
   "source": [
    "day0_M$sample_allele <- 'Day0_mus'\n",
    "iPSCs_M$sample_allele <- 'iPSCs_mus'\n",
    "day0_C$sample_allele <- 'Day0_cast'\n",
    "iPSCs_C$sample_allele <- 'iPSCs_cast'"
   ]
  },
  {
   "cell_type": "code",
   "execution_count": 46,
   "metadata": {},
   "outputs": [
    {
     "data": {
      "text/html": [
       "<table>\n",
       "<thead><tr><th></th><th scope=col>norm</th><th scope=col>sample</th><th scope=col>chr</th><th scope=col>allele</th><th scope=col>sample_allele</th></tr></thead>\n",
       "<tbody>\n",
       "\t<tr><th scope=row>3</th><td>0.018335820</td><td>Day0       </td><td>Auto       </td><td>mus        </td><td>Day0_mus   </td></tr>\n",
       "\t<tr><th scope=row>5</th><td>0.038887457</td><td>Day0       </td><td>Auto       </td><td>mus        </td><td>Day0_mus   </td></tr>\n",
       "\t<tr><th scope=row>10</th><td>0.007024774</td><td>Day0       </td><td>Auto       </td><td>mus        </td><td>Day0_mus   </td></tr>\n",
       "\t<tr><th scope=row>11</th><td>0.020927992</td><td>Day0       </td><td>Auto       </td><td>mus        </td><td>Day0_mus   </td></tr>\n",
       "\t<tr><th scope=row>16</th><td>0.057362471</td><td>Day0       </td><td>Auto       </td><td>mus        </td><td>Day0_mus   </td></tr>\n",
       "\t<tr><th scope=row>22</th><td>0.031230004</td><td>Day0       </td><td>Auto       </td><td>mus        </td><td>Day0_mus   </td></tr>\n",
       "</tbody>\n",
       "</table>\n"
      ],
      "text/latex": [
       "\\begin{tabular}{r|lllll}\n",
       "  & norm & sample & chr & allele & sample\\_allele\\\\\n",
       "\\hline\n",
       "\t3 & 0.018335820 & Day0        & Auto        & mus         & Day0\\_mus \\\\\n",
       "\t5 & 0.038887457 & Day0        & Auto        & mus         & Day0\\_mus \\\\\n",
       "\t10 & 0.007024774 & Day0        & Auto        & mus         & Day0\\_mus \\\\\n",
       "\t11 & 0.020927992 & Day0        & Auto        & mus         & Day0\\_mus \\\\\n",
       "\t16 & 0.057362471 & Day0        & Auto        & mus         & Day0\\_mus \\\\\n",
       "\t22 & 0.031230004 & Day0        & Auto        & mus         & Day0\\_mus \\\\\n",
       "\\end{tabular}\n"
      ],
      "text/markdown": [
       "\n",
       "| <!--/--> | norm | sample | chr | allele | sample_allele |\n",
       "|---|---|---|---|---|---|\n",
       "| 3 | 0.018335820 | Day0        | Auto        | mus         | Day0_mus    |\n",
       "| 5 | 0.038887457 | Day0        | Auto        | mus         | Day0_mus    |\n",
       "| 10 | 0.007024774 | Day0        | Auto        | mus         | Day0_mus    |\n",
       "| 11 | 0.020927992 | Day0        | Auto        | mus         | Day0_mus    |\n",
       "| 16 | 0.057362471 | Day0        | Auto        | mus         | Day0_mus    |\n",
       "| 22 | 0.031230004 | Day0        | Auto        | mus         | Day0_mus    |\n",
       "\n"
      ],
      "text/plain": [
       "   norm        sample chr  allele sample_allele\n",
       "3  0.018335820 Day0   Auto mus    Day0_mus     \n",
       "5  0.038887457 Day0   Auto mus    Day0_mus     \n",
       "10 0.007024774 Day0   Auto mus    Day0_mus     \n",
       "11 0.020927992 Day0   Auto mus    Day0_mus     \n",
       "16 0.057362471 Day0   Auto mus    Day0_mus     \n",
       "22 0.031230004 Day0   Auto mus    Day0_mus     "
      ]
     },
     "metadata": {},
     "output_type": "display_data"
    }
   ],
   "source": [
    "head(day0_M)"
   ]
  },
  {
   "cell_type": "code",
   "execution_count": 47,
   "metadata": {},
   "outputs": [],
   "source": [
    "mus <- rbind(day0_M, iPSCs_M)\n",
    "cast <- rbind(day0_C, iPSCs_C)"
   ]
  },
  {
   "cell_type": "code",
   "execution_count": 48,
   "metadata": {},
   "outputs": [],
   "source": [
    "mus_cast_auto_day0_iPSCs <- rbind(mus, cast)"
   ]
  },
  {
   "cell_type": "code",
   "execution_count": 49,
   "metadata": {},
   "outputs": [
    {
     "data": {
      "text/html": [
       "<table>\n",
       "<thead><tr><th></th><th scope=col>norm</th><th scope=col>sample</th><th scope=col>chr</th><th scope=col>allele</th><th scope=col>sample_allele</th></tr></thead>\n",
       "<tbody>\n",
       "\t<tr><th scope=row>3</th><td>0.018335820</td><td>Day0       </td><td>Auto       </td><td>mus        </td><td>Day0_mus   </td></tr>\n",
       "\t<tr><th scope=row>5</th><td>0.038887457</td><td>Day0       </td><td>Auto       </td><td>mus        </td><td>Day0_mus   </td></tr>\n",
       "\t<tr><th scope=row>10</th><td>0.007024774</td><td>Day0       </td><td>Auto       </td><td>mus        </td><td>Day0_mus   </td></tr>\n",
       "\t<tr><th scope=row>11</th><td>0.020927992</td><td>Day0       </td><td>Auto       </td><td>mus        </td><td>Day0_mus   </td></tr>\n",
       "\t<tr><th scope=row>16</th><td>0.057362471</td><td>Day0       </td><td>Auto       </td><td>mus        </td><td>Day0_mus   </td></tr>\n",
       "\t<tr><th scope=row>22</th><td>0.031230004</td><td>Day0       </td><td>Auto       </td><td>mus        </td><td>Day0_mus   </td></tr>\n",
       "</tbody>\n",
       "</table>\n"
      ],
      "text/latex": [
       "\\begin{tabular}{r|lllll}\n",
       "  & norm & sample & chr & allele & sample\\_allele\\\\\n",
       "\\hline\n",
       "\t3 & 0.018335820 & Day0        & Auto        & mus         & Day0\\_mus \\\\\n",
       "\t5 & 0.038887457 & Day0        & Auto        & mus         & Day0\\_mus \\\\\n",
       "\t10 & 0.007024774 & Day0        & Auto        & mus         & Day0\\_mus \\\\\n",
       "\t11 & 0.020927992 & Day0        & Auto        & mus         & Day0\\_mus \\\\\n",
       "\t16 & 0.057362471 & Day0        & Auto        & mus         & Day0\\_mus \\\\\n",
       "\t22 & 0.031230004 & Day0        & Auto        & mus         & Day0\\_mus \\\\\n",
       "\\end{tabular}\n"
      ],
      "text/markdown": [
       "\n",
       "| <!--/--> | norm | sample | chr | allele | sample_allele |\n",
       "|---|---|---|---|---|---|\n",
       "| 3 | 0.018335820 | Day0        | Auto        | mus         | Day0_mus    |\n",
       "| 5 | 0.038887457 | Day0        | Auto        | mus         | Day0_mus    |\n",
       "| 10 | 0.007024774 | Day0        | Auto        | mus         | Day0_mus    |\n",
       "| 11 | 0.020927992 | Day0        | Auto        | mus         | Day0_mus    |\n",
       "| 16 | 0.057362471 | Day0        | Auto        | mus         | Day0_mus    |\n",
       "| 22 | 0.031230004 | Day0        | Auto        | mus         | Day0_mus    |\n",
       "\n"
      ],
      "text/plain": [
       "   norm        sample chr  allele sample_allele\n",
       "3  0.018335820 Day0   Auto mus    Day0_mus     \n",
       "5  0.038887457 Day0   Auto mus    Day0_mus     \n",
       "10 0.007024774 Day0   Auto mus    Day0_mus     \n",
       "11 0.020927992 Day0   Auto mus    Day0_mus     \n",
       "16 0.057362471 Day0   Auto mus    Day0_mus     \n",
       "22 0.031230004 Day0   Auto mus    Day0_mus     "
      ]
     },
     "metadata": {},
     "output_type": "display_data"
    }
   ],
   "source": [
    "head(mus_cast_auto_day0_iPSCs)"
   ]
  },
  {
   "cell_type": "code",
   "execution_count": 50,
   "metadata": {},
   "outputs": [],
   "source": [
    "mus_cast_auto_day0_iPSCs$sample_allele <- factor(mus_cast_auto_day0_iPSCs$sample_allele, levels=c('Day0_cast', 'iPSCs_cast','Day0_mus', 'iPSCs_mus'))"
   ]
  },
  {
   "cell_type": "code",
   "execution_count": 118,
   "metadata": {},
   "outputs": [],
   "source": [
    "mus_X_Auto_day0$chr <- factor(mus_X_Auto_day0$chr, levels=c('X', 'Auto'))"
   ]
  },
  {
   "cell_type": "code",
   "execution_count": 117,
   "metadata": {},
   "outputs": [],
   "source": [
    "mus_X_Auto_day0 <- subset(mus_X_Auto, sample == 'Day0')"
   ]
  },
  {
   "cell_type": "code",
   "execution_count": 51,
   "metadata": {},
   "outputs": [
    {
     "name": "stderr",
     "output_type": "stream",
     "text": [
      "Warning message:\n",
      "\"Ignoring unknown parameters: outlier.shape\""
     ]
    }
   ],
   "source": [
    "options(repr.plot.width=6, repr.plot.height=5)\n",
    "autos <- ggplot(mus_cast_auto_day0_iPSCs, aes(x=sample_allele, y=norm, fill=sample)) + \n",
    "  \n",
    "geom_violin(scale = \"width\", alpha = 0.7, show.legend=FALSE, outlier.shape = NA) +\n",
    "scale_fill_brewer(palette=\"Pastel1\")+\n",
    "geom_boxplot(width=0.2, fill=\"white\", alpha = 0.5) +\n",
    "  \n",
    "  scale_colour_brewer(\"Colors in Paired\", palette=\"Pastel1\")+\n",
    "  #geom_jitter(width = 1, alpha = 0.5, show.legend=FALSE, aes(color = sample)) +\n",
    "\n",
    " \n",
    " theme(plot.title = element_text(size=6))+\n",
    "\n",
    "    xlab(\"\") + \n",
    "    ylab(\"Accessibility (autosomal regions)\")+\n",
    "    coord_cartesian(ylim = c(0,0.075))+\n",
    "    theme(axis.text.x  = element_text(angle=0, vjust=0.5, size=8, color = \"black\"))+\n",
    " theme(axis.text.y  = element_text(color = \"black\"))+\n",
    "    theme(legend.title=element_blank())+\n",
    "    theme(axis.line = element_line(colour = \"black\"),\n",
    "    panel.grid.major = element_line(colour = \"grey82\"),\n",
    "   \n",
    "    panel.border = element_blank(),\n",
    "    panel.background = element_blank())"
   ]
  },
  {
   "cell_type": "code",
   "execution_count": 52,
   "metadata": {},
   "outputs": [
    {
     "data": {
      "image/png": "[encoded data removed]",
      "text/plain": [
       "plot without title"
      ]
     },
     "metadata": {},
     "output_type": "display_data"
    }
   ],
   "source": [
    "autos"
   ]
  },
  {
   "cell_type": "code",
   "execution_count": 53,
   "metadata": {},
   "outputs": [],
   "source": [
    "ggsave(\"Xi_Xa_Auto_accessibility_MEFs_iPSCs.pdf\", width = 6, height = 5)"
   ]
  },
  {
   "cell_type": "code",
   "execution_count": 54,
   "metadata": {},
   "outputs": [],
   "source": [
    "test <- pairwise.wilcox.test(mus_cast_auto_day0_iPSCs$norm, mus_cast_auto_day0_iPSCs$sample_allele, p.adjust.method = \"bonferroni\")"
   ]
  },
  {
   "cell_type": "code",
   "execution_count": 55,
   "metadata": {},
   "outputs": [
    {
     "data": {
      "text/html": [
       "<table>\n",
       "<thead><tr><th></th><th scope=col>Day0_cast</th><th scope=col>iPSCs_cast</th><th scope=col>Day0_mus</th></tr></thead>\n",
       "<tbody>\n",
       "\t<tr><th scope=row>iPSCs_cast</th><td>0.06965525</td><td>NA        </td><td>NA        </td></tr>\n",
       "\t<tr><th scope=row>Day0_mus</th><td>0.00000000</td><td> 0        </td><td>NA        </td></tr>\n",
       "\t<tr><th scope=row>iPSCs_mus</th><td>0.00000000</td><td> 0        </td><td> 1        </td></tr>\n",
       "</tbody>\n",
       "</table>\n"
      ],
      "text/latex": [
       "\\begin{tabular}{r|lll}\n",
       "  & Day0\\_cast & iPSCs\\_cast & Day0\\_mus\\\\\n",
       "\\hline\n",
       "\tiPSCs\\_cast & 0.06965525 & NA         & NA        \\\\\n",
       "\tDay0\\_mus & 0.00000000 &  0         & NA        \\\\\n",
       "\tiPSCs\\_mus & 0.00000000 &  0         &  1        \\\\\n",
       "\\end{tabular}\n"
      ],
      "text/markdown": [
       "\n",
       "| <!--/--> | Day0_cast | iPSCs_cast | Day0_mus |\n",
       "|---|---|---|---|\n",
       "| iPSCs_cast | 0.06965525 | NA         | NA         |\n",
       "| Day0_mus | 0.00000000 |  0         | NA         |\n",
       "| iPSCs_mus | 0.00000000 |  0         |  1         |\n",
       "\n"
      ],
      "text/plain": [
       "           Day0_cast  iPSCs_cast Day0_mus\n",
       "iPSCs_cast 0.06965525 NA         NA      \n",
       "Day0_mus   0.00000000  0         NA      \n",
       "iPSCs_mus  0.00000000  0          1      "
      ]
     },
     "metadata": {},
     "output_type": "display_data"
    }
   ],
   "source": [
    "test$p.value"
   ]
  },
  {
   "cell_type": "code",
   "execution_count": 56,
   "metadata": {},
   "outputs": [
    {
     "data": {
      "text/plain": [
       "\n",
       "\tPairwise comparisons using Wilcoxon rank sum test \n",
       "\n",
       "data:  mus_cast_auto_day0_iPSCs$norm and mus_cast_auto_day0_iPSCs$sample_allele \n",
       "\n",
       "           Day0_cast iPSCs_cast Day0_mus\n",
       "iPSCs_cast 0.07      -          -       \n",
       "Day0_mus   <2e-16    <2e-16     -       \n",
       "iPSCs_mus  <2e-16    <2e-16     1.00    \n",
       "\n",
       "P value adjustment method: bonferroni "
      ]
     },
     "metadata": {},
     "output_type": "display_data"
    }
   ],
   "source": [
    "test"
   ]
  },
  {
   "cell_type": "code",
   "execution_count": 57,
   "metadata": {},
   "outputs": [
    {
     "ename": "ERROR",
     "evalue": "Error in head(Auto_X_mus_cast): object 'Auto_X_mus_cast' not found\n",
     "output_type": "error",
     "traceback": [
      "Error in head(Auto_X_mus_cast): object 'Auto_X_mus_cast' not found\nTraceback:\n",
      "1. head(Auto_X_mus_cast)"
     ]
    }
   ],
   "source": [
    "head(Auto_X_mus_cast)"
   ]
  },
  {
   "cell_type": "code",
   "execution_count": null,
   "metadata": {},
   "outputs": [],
   "source": [
    "X_cast_norm <- c(\"chr\", \"cast_norm\", \"sample\")"
   ]
  },
  {
   "cell_type": "code",
   "execution_count": null,
   "metadata": {},
   "outputs": [],
   "source": [
    "X <- X_10reads[X_cast_norm]"
   ]
  },
  {
   "cell_type": "code",
   "execution_count": null,
   "metadata": {},
   "outputs": [],
   "source": [
    "X_mus <- X_10reads[X_mus_norm]"
   ]
  },
  {
   "cell_type": "code",
   "execution_count": null,
   "metadata": {},
   "outputs": [],
   "source": [
    "head(X_mus)"
   ]
  },
  {
   "cell_type": "code",
   "execution_count": null,
   "metadata": {},
   "outputs": [],
   "source": [
    "X_ordered <- X[, c(3, 2)]"
   ]
  },
  {
   "cell_type": "code",
   "execution_count": null,
   "metadata": {},
   "outputs": [],
   "source": [
    "head(X_ordered)"
   ]
  },
  {
   "cell_type": "code",
   "execution_count": null,
   "metadata": {},
   "outputs": [],
   "source": [
    "setwd(\"/ddn1/vol1/staging/leuven/stg_00041/Irene/ATAC_analysis/Xa_Xi_dynamics/\")"
   ]
  },
  {
   "cell_type": "code",
   "execution_count": null,
   "metadata": {},
   "outputs": [],
   "source": [
    "write.table(X_ordered, file = 'X_ordered_cast.txt', sep = \"\\t\")"
   ]
  },
  {
   "cell_type": "code",
   "execution_count": null,
   "metadata": {},
   "outputs": [],
   "source": []
  },
  {
   "cell_type": "code",
   "execution_count": null,
   "metadata": {},
   "outputs": [],
   "source": []
  },
  {
   "cell_type": "code",
   "execution_count": null,
   "metadata": {},
   "outputs": [],
   "source": [
    "Auto_X <- rbind(X, Auto)"
   ]
  },
  {
   "cell_type": "code",
   "execution_count": null,
   "metadata": {},
   "outputs": [],
   "source": [
    "Auto_X_mus <- rbind(X_mus, Auto_mus)"
   ]
  },
  {
   "cell_type": "code",
   "execution_count": null,
   "metadata": {},
   "outputs": [],
   "source": [
    "head(Auto_X_mus)"
   ]
  },
  {
   "cell_type": "code",
   "execution_count": null,
   "metadata": {},
   "outputs": [],
   "source": [
    "Auto_X_mus_cast$sample <- as.character(Auto_X_mus_cast$sample)"
   ]
  },
  {
   "cell_type": "code",
   "execution_count": null,
   "metadata": {},
   "outputs": [],
   "source": [
    "day0_all <- subset(Auto_X_mus_cast, sample == 'Day0')\n",
    "#day8_mus <- subset(Auto_X_mus_cast, sample == 'Day8')\n",
    "#day9_mus <- subset(Auto_X_mus_cast, sample == 'Day9')\n",
    "#day10_mus <- subset(Auto_X_mus_cast, sample == 'Day10')\n",
    "#day12_mus <- subset(Auto_X_mus_cast, sample == 'Day12')\n",
    "#iPSCs <- subset(Auto_X_mus_cast, sample == 'iPSCs')"
   ]
  },
  {
   "cell_type": "code",
   "execution_count": 92,
   "metadata": {},
   "outputs": [
    {
     "data": {
      "text/html": [
       "<table>\n",
       "<thead><tr><th></th><th scope=col>sample</th><th scope=col>chr</th><th scope=col>names</th><th scope=col>C</th><th scope=col>M</th><th scope=col>sumR</th><th scope=col>total_reads</th><th scope=col>mus_norm</th><th scope=col>cast_norm</th></tr></thead>\n",
       "<tbody>\n",
       "\t<tr><th scope=row>14284</th><td>Day0        </td><td>X           </td><td>400962      </td><td>10          </td><td> 1          </td><td>11          </td><td>11348313    </td><td>0.0008808002</td><td>0.008773284 </td></tr>\n",
       "\t<tr><th scope=row>14308</th><td>Day0        </td><td>X           </td><td>400966      </td><td>34          </td><td>11          </td><td>45          </td><td>11348313    </td><td>0.0096463943</td><td>0.029520355 </td></tr>\n",
       "\t<tr><th scope=row>14314</th><td>Day0        </td><td>X           </td><td>400967      </td><td>10          </td><td> 1          </td><td>11          </td><td>11348313    </td><td>0.0008808002</td><td>0.008773284 </td></tr>\n",
       "\t<tr><th scope=row>14320</th><td>Day0        </td><td>X           </td><td>400968      </td><td> 9          </td><td> 1          </td><td>10          </td><td>11348313    </td><td>0.0008808002</td><td>0.007899412 </td></tr>\n",
       "\t<tr><th scope=row>14338</th><td>Day0        </td><td>X           </td><td>400971      </td><td>59          </td><td> 1          </td><td>60          </td><td>11348313    </td><td>0.0008808002</td><td>0.050683710 </td></tr>\n",
       "\t<tr><th scope=row>14362</th><td>Day0        </td><td>X           </td><td>400975      </td><td>22          </td><td> 1          </td><td>23          </td><td>11348313    </td><td>0.0008808002</td><td>0.019200624 </td></tr>\n",
       "</tbody>\n",
       "</table>\n"
      ],
      "text/latex": [
       "\\begin{tabular}{r|lllllllll}\n",
       "  & sample & chr & names & C & M & sumR & total\\_reads & mus\\_norm & cast\\_norm\\\\\n",
       "\\hline\n",
       "\t14284 & Day0         & X            & 400962       & 10           &  1           & 11           & 11348313     & 0.0008808002 & 0.008773284 \\\\\n",
       "\t14308 & Day0         & X            & 400966       & 34           & 11           & 45           & 11348313     & 0.0096463943 & 0.029520355 \\\\\n",
       "\t14314 & Day0         & X            & 400967       & 10           &  1           & 11           & 11348313     & 0.0008808002 & 0.008773284 \\\\\n",
       "\t14320 & Day0         & X            & 400968       &  9           &  1           & 10           & 11348313     & 0.0008808002 & 0.007899412 \\\\\n",
       "\t14338 & Day0         & X            & 400971       & 59           &  1           & 60           & 11348313     & 0.0008808002 & 0.050683710 \\\\\n",
       "\t14362 & Day0         & X            & 400975       & 22           &  1           & 23           & 11348313     & 0.0008808002 & 0.019200624 \\\\\n",
       "\\end{tabular}\n"
      ],
      "text/markdown": [
       "\n",
       "| <!--/--> | sample | chr | names | C | M | sumR | total_reads | mus_norm | cast_norm |\n",
       "|---|---|---|---|---|---|---|---|---|---|\n",
       "| 14284 | Day0         | X            | 400962       | 10           |  1           | 11           | 11348313     | 0.0008808002 | 0.008773284  |\n",
       "| 14308 | Day0         | X            | 400966       | 34           | 11           | 45           | 11348313     | 0.0096463943 | 0.029520355  |\n",
       "| 14314 | Day0         | X            | 400967       | 10           |  1           | 11           | 11348313     | 0.0008808002 | 0.008773284  |\n",
       "| 14320 | Day0         | X            | 400968       |  9           |  1           | 10           | 11348313     | 0.0008808002 | 0.007899412  |\n",
       "| 14338 | Day0         | X            | 400971       | 59           |  1           | 60           | 11348313     | 0.0008808002 | 0.050683710  |\n",
       "| 14362 | Day0         | X            | 400975       | 22           |  1           | 23           | 11348313     | 0.0008808002 | 0.019200624  |\n",
       "\n"
      ],
      "text/plain": [
       "      sample chr names  C  M  sumR total_reads mus_norm     cast_norm  \n",
       "14284 Day0   X   400962 10  1 11   11348313    0.0008808002 0.008773284\n",
       "14308 Day0   X   400966 34 11 45   11348313    0.0096463943 0.029520355\n",
       "14314 Day0   X   400967 10  1 11   11348313    0.0008808002 0.008773284\n",
       "14320 Day0   X   400968  9  1 10   11348313    0.0008808002 0.007899412\n",
       "14338 Day0   X   400971 59  1 60   11348313    0.0008808002 0.050683710\n",
       "14362 Day0   X   400975 22  1 23   11348313    0.0008808002 0.019200624"
      ]
     },
     "metadata": {},
     "output_type": "display_data"
    }
   ],
   "source": [
    "head(X_10reads)"
   ]
  },
  {
   "cell_type": "code",
   "execution_count": 93,
   "metadata": {},
   "outputs": [],
   "source": [
    "day0 <- subset(X_10reads, sample == 'Day0')\n",
    "day8 <- subset(X_10reads, sample == 'Day8')\n",
    "day9 <- subset(X_10reads, sample == 'Day9')\n",
    "day10 <- subset(X_10reads, sample == 'Day10')\n",
    "day12 <- subset(X_10reads, sample == 'Day12')\n",
    "iPSCs <- subset(X_10reads, sample == 'iPSCs')"
   ]
  },
  {
   "cell_type": "code",
   "execution_count": 94,
   "metadata": {},
   "outputs": [
    {
     "data": {
      "text/html": [
       "<table>\n",
       "<thead><tr><th></th><th scope=col>sample</th><th scope=col>chr</th><th scope=col>names</th><th scope=col>C</th><th scope=col>M</th><th scope=col>sumR</th><th scope=col>total_reads</th><th scope=col>mus_norm</th><th scope=col>cast_norm</th></tr></thead>\n",
       "<tbody>\n",
       "\t<tr><th scope=row>14284</th><td>Day0        </td><td>X           </td><td>400962      </td><td>10          </td><td> 1          </td><td>11          </td><td>11348313    </td><td>0.0008808002</td><td>0.008773284 </td></tr>\n",
       "\t<tr><th scope=row>14308</th><td>Day0        </td><td>X           </td><td>400966      </td><td>34          </td><td>11          </td><td>45          </td><td>11348313    </td><td>0.0096463943</td><td>0.029520355 </td></tr>\n",
       "\t<tr><th scope=row>14314</th><td>Day0        </td><td>X           </td><td>400967      </td><td>10          </td><td> 1          </td><td>11          </td><td>11348313    </td><td>0.0008808002</td><td>0.008773284 </td></tr>\n",
       "\t<tr><th scope=row>14320</th><td>Day0        </td><td>X           </td><td>400968      </td><td> 9          </td><td> 1          </td><td>10          </td><td>11348313    </td><td>0.0008808002</td><td>0.007899412 </td></tr>\n",
       "\t<tr><th scope=row>14338</th><td>Day0        </td><td>X           </td><td>400971      </td><td>59          </td><td> 1          </td><td>60          </td><td>11348313    </td><td>0.0008808002</td><td>0.050683710 </td></tr>\n",
       "\t<tr><th scope=row>14362</th><td>Day0        </td><td>X           </td><td>400975      </td><td>22          </td><td> 1          </td><td>23          </td><td>11348313    </td><td>0.0008808002</td><td>0.019200624 </td></tr>\n",
       "</tbody>\n",
       "</table>\n"
      ],
      "text/latex": [
       "\\begin{tabular}{r|lllllllll}\n",
       "  & sample & chr & names & C & M & sumR & total\\_reads & mus\\_norm & cast\\_norm\\\\\n",
       "\\hline\n",
       "\t14284 & Day0         & X            & 400962       & 10           &  1           & 11           & 11348313     & 0.0008808002 & 0.008773284 \\\\\n",
       "\t14308 & Day0         & X            & 400966       & 34           & 11           & 45           & 11348313     & 0.0096463943 & 0.029520355 \\\\\n",
       "\t14314 & Day0         & X            & 400967       & 10           &  1           & 11           & 11348313     & 0.0008808002 & 0.008773284 \\\\\n",
       "\t14320 & Day0         & X            & 400968       &  9           &  1           & 10           & 11348313     & 0.0008808002 & 0.007899412 \\\\\n",
       "\t14338 & Day0         & X            & 400971       & 59           &  1           & 60           & 11348313     & 0.0008808002 & 0.050683710 \\\\\n",
       "\t14362 & Day0         & X            & 400975       & 22           &  1           & 23           & 11348313     & 0.0008808002 & 0.019200624 \\\\\n",
       "\\end{tabular}\n"
      ],
      "text/markdown": [
       "\n",
       "| <!--/--> | sample | chr | names | C | M | sumR | total_reads | mus_norm | cast_norm |\n",
       "|---|---|---|---|---|---|---|---|---|---|\n",
       "| 14284 | Day0         | X            | 400962       | 10           |  1           | 11           | 11348313     | 0.0008808002 | 0.008773284  |\n",
       "| 14308 | Day0         | X            | 400966       | 34           | 11           | 45           | 11348313     | 0.0096463943 | 0.029520355  |\n",
       "| 14314 | Day0         | X            | 400967       | 10           |  1           | 11           | 11348313     | 0.0008808002 | 0.008773284  |\n",
       "| 14320 | Day0         | X            | 400968       |  9           |  1           | 10           | 11348313     | 0.0008808002 | 0.007899412  |\n",
       "| 14338 | Day0         | X            | 400971       | 59           |  1           | 60           | 11348313     | 0.0008808002 | 0.050683710  |\n",
       "| 14362 | Day0         | X            | 400975       | 22           |  1           | 23           | 11348313     | 0.0008808002 | 0.019200624  |\n",
       "\n"
      ],
      "text/plain": [
       "      sample chr names  C  M  sumR total_reads mus_norm     cast_norm  \n",
       "14284 Day0   X   400962 10  1 11   11348313    0.0008808002 0.008773284\n",
       "14308 Day0   X   400966 34 11 45   11348313    0.0096463943 0.029520355\n",
       "14314 Day0   X   400967 10  1 11   11348313    0.0008808002 0.008773284\n",
       "14320 Day0   X   400968  9  1 10   11348313    0.0008808002 0.007899412\n",
       "14338 Day0   X   400971 59  1 60   11348313    0.0008808002 0.050683710\n",
       "14362 Day0   X   400975 22  1 23   11348313    0.0008808002 0.019200624"
      ]
     },
     "metadata": {},
     "output_type": "display_data"
    }
   ],
   "source": [
    "head(day0)"
   ]
  },
  {
   "cell_type": "code",
   "execution_count": 96,
   "metadata": {},
   "outputs": [
    {
     "data": {
      "text/html": [
       "1892"
      ],
      "text/latex": [
       "1892"
      ],
      "text/markdown": [
       "1892"
      ],
      "text/plain": [
       "[1] 1892"
      ]
     },
     "metadata": {},
     "output_type": "display_data"
    },
    {
     "data": {
      "text/html": [
       "2403"
      ],
      "text/latex": [
       "2403"
      ],
      "text/markdown": [
       "2403"
      ],
      "text/plain": [
       "[1] 2403"
      ]
     },
     "metadata": {},
     "output_type": "display_data"
    },
    {
     "data": {
      "text/html": [
       "2805"
      ],
      "text/latex": [
       "2805"
      ],
      "text/markdown": [
       "2805"
      ],
      "text/plain": [
       "[1] 2805"
      ]
     },
     "metadata": {},
     "output_type": "display_data"
    },
    {
     "data": {
      "text/html": [
       "2622"
      ],
      "text/latex": [
       "2622"
      ],
      "text/markdown": [
       "2622"
      ],
      "text/plain": [
       "[1] 2622"
      ]
     },
     "metadata": {},
     "output_type": "display_data"
    },
    {
     "data": {
      "text/html": [
       "3210"
      ],
      "text/latex": [
       "3210"
      ],
      "text/markdown": [
       "3210"
      ],
      "text/plain": [
       "[1] 3210"
      ]
     },
     "metadata": {},
     "output_type": "display_data"
    },
    {
     "data": {
      "text/html": [
       "4138"
      ],
      "text/latex": [
       "4138"
      ],
      "text/markdown": [
       "4138"
      ],
      "text/plain": [
       "[1] 4138"
      ]
     },
     "metadata": {},
     "output_type": "display_data"
    }
   ],
   "source": [
    "nrow(day0)\n",
    "nrow(day8)\n",
    "nrow(day9)\n",
    "nrow(day10)\n",
    "nrow(day12)\n",
    "nrow(iPSCs)"
   ]
  },
  {
   "cell_type": "code",
   "execution_count": null,
   "metadata": {},
   "outputs": [],
   "source": [
    "day0_iPSCs <- rbind(day0, iPSCs)"
   ]
  },
  {
   "cell_type": "code",
   "execution_count": null,
   "metadata": {},
   "outputs": [],
   "source": [
    "head(day0_iPSCs)"
   ]
  },
  {
   "cell_type": "code",
   "execution_count": null,
   "metadata": {},
   "outputs": [],
   "source": []
  },
  {
   "cell_type": "code",
   "execution_count": null,
   "metadata": {},
   "outputs": [],
   "source": [
    "day0_iPSCs$sample <- factor(day0_iPSCs$sample, levels=c('Day0', 'iPSCs'))\n",
    "#day8_mus$chr <- factor(day8_mus$chr, levels=c('X', 'Auto'))\n",
    "#day9_mus$chr <- factor(day9_mus$chr, levels=c('X', 'Auto'))\n",
    "#day10_mus$chr <- factor(day10_mus$chr, levels=c('X', 'Auto'))\n",
    "#day12_mus$chr <- factor(day12_mus$chr, levels=c('X', 'Auto'))\n",
    "#iPSCs_mus$chr <- factor(iPSCs_mus$chr, levels=c('X', 'Auto'))"
   ]
  },
  {
   "cell_type": "code",
   "execution_count": null,
   "metadata": {},
   "outputs": [],
   "source": [
    "head(day0_iPSCs)"
   ]
  },
  {
   "cell_type": "code",
   "execution_count": null,
   "metadata": {},
   "outputs": [],
   "source": [
    "head(median_day0_mus)"
   ]
  },
  {
   "cell_type": "code",
   "execution_count": null,
   "metadata": {},
   "outputs": [],
   "source": [
    "median_iPSCs_mus <- iPSCs_mus %>%\n",
    "  group_by(chr) %>%\n",
    "  summarize(median=median(mus_norm))"
   ]
  },
  {
   "cell_type": "code",
   "execution_count": null,
   "metadata": {},
   "outputs": [],
   "source": [
    "median_day0_mus <- day0_mus %>%\n",
    "  group_by(chr) %>%\n",
    "  summarize(median=median(mus_norm))"
   ]
  },
  {
   "cell_type": "code",
   "execution_count": null,
   "metadata": {},
   "outputs": [],
   "source": [
    "#pairwise.wilcox.test((iPSCs$cast_norm, iPSCs$chr,  p.adjust.method = \"bonferroni\")"
   ]
  },
  {
   "cell_type": "code",
   "execution_count": null,
   "metadata": {},
   "outputs": [],
   "source": [
    "res <- pairwise.wilcox.test(day0_mus$mus_norm, day0_mus$chr)"
   ]
  },
  {
   "cell_type": "code",
   "execution_count": null,
   "metadata": {},
   "outputs": [],
   "source": [
    "p.adjust.method = \"bonferroni\""
   ]
  },
  {
   "cell_type": "code",
   "execution_count": null,
   "metadata": {},
   "outputs": [],
   "source": [
    "res$p.value"
   ]
  },
  {
   "cell_type": "code",
   "execution_count": null,
   "metadata": {},
   "outputs": [],
   "source": [
    "options(repr.plot.width=4, repr.plot.height=5)\n",
    "day0_X_Auto_access <- ggplot(day0, aes(x=chr, y=cast_norm, fill=sample)) + \n",
    "  \n",
    "geom_violin(scale = \"width\", alpha = 0.7, show.legend=FALSE, outlier.shape = NA) +\n",
    "scale_fill_brewer(palette=\"Pastel1\")+\n",
    "geom_boxplot(width=0.2, fill=\"white\", alpha = 0.5) +\n",
    "  \n",
    "  scale_colour_brewer(\"Colors in Paired\", palette=\"Pastel1\")+\n",
    "  #geom_jitter(width = 1, alpha = 0.5, show.legend=FALSE, aes(color = sample)) +\n",
    "\n",
    " \n",
    " theme(plot.title = element_text(size=6))+\n",
    "\n",
    "    xlab(\"\") + \n",
    "    ylab(\"Xa and Auto accessibility in MEFs\")+\n",
    "    coord_cartesian(ylim = c(0,0.075))+\n",
    "    theme(axis.text.x  = element_text(angle=0, vjust=0.5, size=8, color = \"black\"))+\n",
    " theme(axis.text.y  = element_text(color = \"black\"))+\n",
    "    theme(legend.title=element_blank())+\n",
    "    theme(axis.line = element_line(colour = \"black\"),\n",
    "    panel.grid.major = element_line(colour = \"grey82\"),\n",
    "   \n",
    "    panel.border = element_blank(),\n",
    "    panel.background = element_blank())"
   ]
  },
  {
   "cell_type": "code",
   "execution_count": null,
   "metadata": {},
   "outputs": [],
   "source": [
    "head(iPSCs)"
   ]
  },
  {
   "cell_type": "code",
   "execution_count": 119,
   "metadata": {},
   "outputs": [
    {
     "name": "stderr",
     "output_type": "stream",
     "text": [
      "Warning message:\n",
      "\"Ignoring unknown parameters: outlier.shape\""
     ]
    }
   ],
   "source": [
    "options(repr.plot.width=4, repr.plot.height=5)\n",
    "day0_mus <- ggplot(mus_X_Auto_day0, aes(x=chr, y=norm, fill=sample)) + \n",
    "  \n",
    "geom_violin(scale = \"width\", alpha = 0.7, show.legend=FALSE, outlier.shape = NA) +\n",
    "scale_fill_brewer(palette=\"Pastel1\")+\n",
    "geom_boxplot(width=0.2, fill=\"white\", alpha = 0.5) +\n",
    "  \n",
    "  scale_colour_brewer(\"Colors in Paired\", palette=\"Pastel1\")+\n",
    "  #geom_jitter(width = 1, alpha = 0.5, show.legend=FALSE, aes(color = sample)) +\n",
    "\n",
    " \n",
    " theme(plot.title = element_text(size=6))+\n",
    "\n",
    "    xlab(\"\") + \n",
    "    ylab(\"Xi and Auto accessibility in MEFs\")+\n",
    "    coord_cartesian(ylim = c(0,0.075))+\n",
    "    theme(axis.text.x  = element_text(angle=0, vjust=0.5, size=8, color = \"black\"))+\n",
    " theme(axis.text.y  = element_text(color = \"black\"))+\n",
    "    theme(legend.title=element_blank())+\n",
    "    theme(axis.line = element_line(colour = \"black\"),\n",
    "    panel.grid.major = element_line(colour = \"grey82\"),\n",
    "   \n",
    "    panel.border = element_blank(),\n",
    "    panel.background = element_blank())"
   ]
  },
  {
   "cell_type": "code",
   "execution_count": 120,
   "metadata": {},
   "outputs": [
    {
     "data": {
      "image/png": "[encoded data removed]",
      "text/plain": [
       "plot without title"
      ]
     },
     "metadata": {},
     "output_type": "display_data"
    }
   ],
   "source": [
    "day0_mus"
   ]
  },
  {
   "cell_type": "code",
   "execution_count": 133,
   "metadata": {},
   "outputs": [],
   "source": [
    "test_Xi <- pairwise.wilcox.test(mus_X_Auto_day0$norm, mus_X_Auto_day0$chr)"
   ]
  },
  {
   "cell_type": "code",
   "execution_count": 135,
   "metadata": {},
   "outputs": [
    {
     "data": {
      "text/plain": [
       "\n",
       "\tPairwise comparisons using Wilcoxon rank sum test \n",
       "\n",
       "data:  mus_X_Auto_day0$norm and mus_X_Auto_day0$chr \n",
       "\n",
       "     X     \n",
       "Auto <2e-16\n",
       "\n",
       "P value adjustment method: holm "
      ]
     },
     "metadata": {},
     "output_type": "display_data"
    }
   ],
   "source": [
    "test_Xi"
   ]
  },
  {
   "cell_type": "code",
   "execution_count": null,
   "metadata": {},
   "outputs": [],
   "source": []
  },
  {
   "cell_type": "code",
   "execution_count": null,
   "metadata": {},
   "outputs": [],
   "source": []
  },
  {
   "cell_type": "code",
   "execution_count": null,
   "metadata": {},
   "outputs": [],
   "source": [
    "ggsave(\"Xi_Auto_accessibility_MEFs.pdf\", width = 4, height = 5)"
   ]
  },
  {
   "cell_type": "code",
   "execution_count": null,
   "metadata": {},
   "outputs": [],
   "source": [
    "day0_X_Auto_access"
   ]
  },
  {
   "cell_type": "code",
   "execution_count": null,
   "metadata": {},
   "outputs": [],
   "source": [
    "ggsave(\"Xa_Auto_accessibility_MEFs.pdf\", width = 4, height = 5)"
   ]
  },
  {
   "cell_type": "code",
   "execution_count": null,
   "metadata": {},
   "outputs": [],
   "source": [
    "\n",
    "options(repr.plot.width=5, repr.plot.height=2.5)\n",
    "iPSCs_new <- ggplot(iPSCs, aes(x=cast_norm, color=chr)) +\n",
    "  geom_density()+\n",
    "\n",
    "\n",
    "geom_vline(data=median_iPSCs, aes(xintercept=median, colour=chr), linetype=\"dashed\", size= 1) +\n",
    "\n",
    "\n",
    " theme(plot.title = element_text(size=6))+\n",
    "    xlab(\"normalized accessibility\") + \n",
    "    ylab(\"Regions (density)\")+\n",
    "   # coord_cartesian(ylim = c(0,4))+\n",
    "    coord_cartesian(xlim = c(0,0.1))+\n",
    "scale_x_continuous(expand = c(0, 0)) + \n",
    "scale_y_continuous(expand = c(0, 0))+\n",
    "    theme(axis.text.x  = element_text(angle=0, vjust=0.5, size=8, color = \"black\"))+\n",
    " theme(axis.text.y  = element_text(color = \"black\"))+\n",
    "theme_classic()+   \n",
    "theme(legend.title=element_blank())\n",
    "\n",
    " "
   ]
  },
  {
   "cell_type": "code",
   "execution_count": null,
   "metadata": {},
   "outputs": [],
   "source": [
    "iPSCs_new"
   ]
  },
  {
   "cell_type": "code",
   "execution_count": null,
   "metadata": {},
   "outputs": [],
   "source": [
    "ggsave(\"iPSCs_X_Auto_density.pdf\", width = 5, height = 2.5)"
   ]
  },
  {
   "cell_type": "code",
   "execution_count": null,
   "metadata": {},
   "outputs": [],
   "source": [
    "options(repr.plot.width=5, repr.plot.height=2.5)\n",
    "da0_new <- ggplot(day0, aes(x=cast_norm, color=chr)) +\n",
    "  geom_density()+\n",
    "\n",
    "\n",
    "geom_vline(data=median_day0, aes(xintercept=median, colour=chr), linetype=\"dashed\", size= 1) +\n",
    "\n",
    "\n",
    " theme(plot.title = element_text(size=6))+\n",
    "    xlab(\"normalized accessibility\") + \n",
    "    ylab(\"Regions (density)\")+\n",
    "   # coord_cartesian(ylim = c(0,4))+\n",
    "    coord_cartesian(xlim = c(0,0.1))+\n",
    "scale_x_continuous(expand = c(0, 0)) + \n",
    "scale_y_continuous(expand = c(0, 0))+\n",
    "    theme(axis.text.x  = element_text(angle=0, vjust=0.5, size=8, color = \"black\"))+\n",
    " theme(axis.text.y  = element_text(color = \"black\"))+\n",
    "theme_classic()+   \n",
    "theme(legend.title=element_blank())\n"
   ]
  },
  {
   "cell_type": "code",
   "execution_count": null,
   "metadata": {},
   "outputs": [],
   "source": [
    "da0_new"
   ]
  },
  {
   "cell_type": "code",
   "execution_count": null,
   "metadata": {},
   "outputs": [],
   "source": [
    "setwd(\"/ddn1/vol1/staging/leuven/stg_00041/Irene/ATAC_analysis/Xa_Xi_dynamics/\")"
   ]
  },
  {
   "cell_type": "code",
   "execution_count": null,
   "metadata": {},
   "outputs": [],
   "source": [
    "ggsave(\"day0_X_Auto_density.pdf\", width = 5, height = 2.5)"
   ]
  },
  {
   "cell_type": "code",
   "execution_count": null,
   "metadata": {},
   "outputs": [],
   "source": [
    "median <- Auto_10reads %>% group_by(sample) %>% summarise(median_auto_cast = median(cast_norm))\n",
    "X_10reads <- merge(X_10reads, median, by = \"sample\")"
   ]
  },
  {
   "cell_type": "code",
   "execution_count": null,
   "metadata": {},
   "outputs": [],
   "source": [
    "head(X_10reads)"
   ]
  },
  {
   "cell_type": "code",
   "execution_count": null,
   "metadata": {},
   "outputs": [],
   "source": [
    "X_10reads$x_to_auto_ratio <- X_10reads$cast_norm/X_10reads$median_auto_cast"
   ]
  },
  {
   "cell_type": "code",
   "execution_count": null,
   "metadata": {},
   "outputs": [],
   "source": [
    "head(X_10reads)"
   ]
  },
  {
   "cell_type": "code",
   "execution_count": null,
   "metadata": {},
   "outputs": [],
   "source": [
    "options(repr.plot.width=6, repr.plot.height=4)\n",
    "X_to_Auto_Cast_ATAC <- ggplot(X_10reads, aes(x=sample, y=x_to_auto_ratio, fill=sample)) + \n",
    "  \n",
    "geom_violin(scale = \"width\", alpha = 1, show.legend=FALSE, outlier.shape = NA) +\n",
    "scale_fill_brewer(palette=\"Pastel1\")+\n",
    "geom_boxplot(width=0.3, fill=\"white\", alpha = 0.5) +\n",
    "  \n",
    "  scale_colour_brewer(\"Colors in Paired\", palette=\"Pastel1\")+\n",
    "  #geom_jitter(width = 1, alpha = 0.5, show.legend=FALSE, aes(color = sample)) +\n",
    "\n",
    " \n",
    " theme(plot.title = element_text(size=6))+\n",
    "    xlab(\"\") + \n",
    "    ylab(\"X to Auto ratio on the Xa\")+\n",
    "    coord_cartesian(ylim = c(0,4))+\n",
    "    theme(axis.text.x  = element_text(angle=0, vjust=0.5, size=8, color = \"black\"))+\n",
    " theme(axis.text.y  = element_text(color = \"black\"))+\n",
    "    theme(legend.title=element_blank())+\n",
    "    theme(axis.line = element_line(colour = \"black\"),\n",
    "    panel.grid.major = element_line(colour = \"grey82\"),\n",
    "   \n",
    "    panel.border = element_blank(),\n",
    "    panel.background = element_blank())"
   ]
  },
  {
   "cell_type": "code",
   "execution_count": null,
   "metadata": {},
   "outputs": [],
   "source": [
    "X_to_Auto_Cast_ATAC"
   ]
  },
  {
   "cell_type": "code",
   "execution_count": null,
   "metadata": {},
   "outputs": [],
   "source": [
    "ggsave(\"X_to_Auto_ATAC_Xa.pdf\", width = 6, height = 4)"
   ]
  },
  {
   "cell_type": "code",
   "execution_count": null,
   "metadata": {},
   "outputs": [],
   "source": [
    "res2 <- pairwise.wilcox.test(X_10reads$x_to_auto_ratio, X_10reads$sample, p.adjust.method = \"bonferroni\")"
   ]
  },
  {
   "cell_type": "code",
   "execution_count": 45,
   "metadata": {},
   "outputs": [
    {
     "ename": "ERROR",
     "evalue": "Error in eval(expr, envir, enclos): object 'res2' not found\n",
     "output_type": "error",
     "traceback": [
      "Error in eval(expr, envir, enclos): object 'res2' not found\nTraceback:\n"
     ]
    }
   ],
   "source": [
    "res2$p.value"
   ]
  },
  {
   "cell_type": "markdown",
   "metadata": {},
   "source": [
    "## statistics for absolute value:"
   ]
  },
  {
   "cell_type": "code",
   "execution_count": 52,
   "metadata": {},
   "outputs": [],
   "source": [
    "res3 <- pairwise.wilcox.test(X_10reads$cast_norm, X_10reads$sample, p.adjust.method = \"bonferroni\")\n",
    "res4 <- pairwise.wilcox.test(X_10reads$cast_norm, X_10reads$sample)"
   ]
  },
  {
   "cell_type": "code",
   "execution_count": 53,
   "metadata": {},
   "outputs": [
    {
     "name": "stdout",
     "output_type": "stream",
     "text": [
      "              Day0         Day8       Day9      Day10 Day12\n",
      "Day8  6.388799e-11           NA         NA         NA    NA\n",
      "Day9  1.068931e-27 1.818413e-03         NA         NA    NA\n",
      "Day10 9.580518e-20 1.527274e-04 1.00000000         NA    NA\n",
      "Day12 2.127639e-40 4.545017e-08 0.42134377 0.30596362    NA\n",
      "iPSCs 4.771424e-42 5.493885e-11 0.01554911 0.03653565     1\n",
      "              Day0         Day8        Day9      Day10     Day12\n",
      "Day8  4.259199e-11           NA          NA         NA        NA\n",
      "Day9  9.264072e-28 8.485928e-04          NA         NA        NA\n",
      "Day10 7.664415e-20 8.145459e-05 0.856845637         NA        NA\n",
      "Day12 1.985796e-40 2.727010e-08 0.084268755 0.08159030        NA\n",
      "iPSCs 4.771424e-42 4.028849e-11 0.006219646 0.01217855 0.5434164\n"
     ]
    }
   ],
   "source": [
    "print(res3$p.value)\n",
    "print(res4$p.value)"
   ]
  },
  {
   "cell_type": "code",
   "execution_count": 283,
   "metadata": {},
   "outputs": [],
   "source": [
    "library(repr)\n",
    "library(RColorBrewer)"
   ]
  },
  {
   "cell_type": "code",
   "execution_count": 284,
   "metadata": {},
   "outputs": [
    {
     "name": "stderr",
     "output_type": "stream",
     "text": [
      "Warning message:\n",
      "\"Ignoring unknown parameters: outlier.shape\""
     ]
    }
   ],
   "source": [
    "options(repr.plot.width=6, repr.plot.height=4)\n",
    "Absolute_XCast_ATAC <- ggplot(X_10reads, aes(x=sample, y=cast_norm, fill=sample)) + \n",
    "  \n",
    "geom_violin(scale = \"width\", alpha = 1, show.legend=FALSE, outlier.shape = NA) +\n",
    "scale_fill_brewer(palette=\"Pastel1\")+\n",
    "geom_boxplot(width=0.3, fill=\"white\", alpha = 0.5) +\n",
    "  \n",
    "  scale_colour_brewer(\"Colors in Paired\", palette=\"Pastel1\")+\n",
    "  #geom_jitter(width = 1, alpha = 0.5, show.legend=FALSE, aes(color = sample)) +\n",
    "\n",
    " \n",
    " theme(plot.title = element_text(size=6))+\n",
    "    xlab(\"\") + \n",
    "    ylab(\"Absolute normalized accessibility on the Xa\")+\n",
    "    coord_cartesian(ylim = c(0,0.04))+\n",
    "    theme(axis.text.x  = element_text(angle=0, vjust=0.5, size=8, color = \"black\"))+\n",
    " theme(axis.text.y  = element_text(color = \"black\"))+\n",
    "    theme(legend.title=element_blank())+\n",
    "    theme(axis.line = element_line(colour = \"black\"),\n",
    "    panel.grid.major = element_line(colour = \"grey82\"),\n",
    "   \n",
    "    panel.border = element_blank(),\n",
    "    panel.background = element_blank())"
   ]
  },
  {
   "cell_type": "code",
   "execution_count": 285,
   "metadata": {},
   "outputs": [
    {
     "data": {
      "image/png": "[encoded data removed]",
      "text/plain": [
       "plot without title"
      ]
     },
     "metadata": {},
     "output_type": "display_data"
    }
   ],
   "source": [
    "Absolute_XCast_ATAC"
   ]
  },
  {
   "cell_type": "code",
   "execution_count": 286,
   "metadata": {},
   "outputs": [],
   "source": [
    "setwd(\"/ddn1/vol1/staging/leuven/stg_00041/Irene/ATAC_analysis/Xa_Xi_dynamics/\")"
   ]
  },
  {
   "cell_type": "code",
   "execution_count": 287,
   "metadata": {},
   "outputs": [],
   "source": [
    "ggsave(\"abs_norm_ATAC_Xa.pdf\", width = 6, height = 4)"
   ]
  },
  {
   "cell_type": "code",
   "execution_count": null,
   "metadata": {},
   "outputs": [],
   "source": []
  }
 ],
 "metadata": {
  "kernelspec": {
   "display_name": "R [conda env:R_ATACseq2]",
   "language": "R",
   "name": "conda-env-R_ATACseq2-r"
  },
  "language_info": {
   "codemirror_mode": "r",
   "file_extension": ".r",
   "mimetype": "text/x-r-source",
   "name": "R",
   "pygments_lexer": "r",
   "version": "3.6.1"
  }
 },
 "nbformat": 4,
 "nbformat_minor": 4
}
