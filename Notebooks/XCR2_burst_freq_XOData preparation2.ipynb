{
 "cells": [
  {
   "cell_type": "code",
   "execution_count": 56,
   "metadata": {},
   "outputs": [],
   "source": [
    "library(Seurat)\n",
    "library(patchwork)\n",
    "library(dplyr)\n",
    "library(Matrix)\n",
    "library(biomaRt)\n",
    "library(ggplot2)\n",
    "library(tidyr)"
   ]
  },
  {
   "cell_type": "code",
   "execution_count": 42,
   "metadata": {},
   "outputs": [],
   "source": [
    "X_loss <- readRDS(\"/lustre1/project/stg_00041/Adrian/TALON_JANISZEWSKI_XCR2/BART_XO/allelic_final.rds\")"
   ]
  },
  {
   "cell_type": "code",
   "execution_count": 68,
   "metadata": {},
   "outputs": [
    {
     "data": {
      "text/html": [
       "<table class=\"dataframe\">\n",
       "<caption>A data.frame: 6 × 30</caption>\n",
       "<thead>\n",
       "\t<tr><th></th><th scope=col>gene</th><th scope=col>RNA_id</th><th scope=col>X.x</th><th scope=col>X129</th><th scope=col>Cast</th><th scope=col>sumReads</th><th scope=col>ratioPercent</th><th scope=col>ratioLog</th><th scope=col>X.y</th><th scope=col>orig.ident</th><th scope=col>nCount_RNA</th><th scope=col>nFeature_RNA</th><th scope=col>Met_id</th><th scope=col>Acc_id</th><th scope=col>cell_type</th><th scope=col>dataset</th><th scope=col>GC_index1_index2</th><th scope=col>percent.mt</th><th scope=col>integrated_snn_res.0.5</th><th scope=col>seurat_clusters</th><th scope=col>integrated_snn_res.0.4</th><th scope=col>rownames</th><th scope=col>cluster_replace</th><th scope=col>cell_anno</th><th scope=col>Chr</th><th scope=col>total_reads</th><th scope=col>mus_norm</th><th scope=col>cast_norm</th><th scope=col>ratio_norm</th><th scope=col>sum_norm</th></tr>\n",
       "\t<tr><th></th><th scope=col>&lt;fct&gt;</th><th scope=col>&lt;fct&gt;</th><th scope=col>&lt;int&gt;</th><th scope=col>&lt;int&gt;</th><th scope=col>&lt;int&gt;</th><th scope=col>&lt;int&gt;</th><th scope=col>&lt;dbl&gt;</th><th scope=col>&lt;dbl&gt;</th><th scope=col>&lt;fct&gt;</th><th scope=col>&lt;fct&gt;</th><th scope=col>&lt;int&gt;</th><th scope=col>&lt;int&gt;</th><th scope=col>&lt;lgl&gt;</th><th scope=col>&lt;lgl&gt;</th><th scope=col>&lt;fct&gt;</th><th scope=col>&lt;fct&gt;</th><th scope=col>&lt;fct&gt;</th><th scope=col>&lt;dbl&gt;</th><th scope=col>&lt;int&gt;</th><th scope=col>&lt;int&gt;</th><th scope=col>&lt;int&gt;</th><th scope=col>&lt;fct&gt;</th><th scope=col>&lt;fct&gt;</th><th scope=col>&lt;fct&gt;</th><th scope=col>&lt;chr&gt;</th><th scope=col>&lt;int&gt;</th><th scope=col>&lt;dbl&gt;</th><th scope=col>&lt;dbl&gt;</th><th scope=col>&lt;dbl&gt;</th><th scope=col>&lt;dbl&gt;</th></tr>\n",
       "</thead>\n",
       "<tbody>\n",
       "\t<tr><th scope=row>1</th><td>0610009B22Rik</td><td>plate1_B05</td><td> 246272</td><td>0</td><td>0</td><td>0</td><td>       NA</td><td>        NA</td><td>plate1_B05</td><td>plate1</td><td>1202589</td><td>9445</td><td>NA</td><td>NA</td><td>D12 </td><td>Bart</td><td>GC091479_GGACTCCT-TATCCTCT</td><td>2.482727</td><td>6</td><td>5</td><td>5</td><td>plate1_B05</td><td>4</td><td>Unclassified     </td><td>chr11</td><td>206011</td><td>0.0000000</td><td>0.0000000</td><td>      NaN</td><td>0.0000000</td></tr>\n",
       "\t<tr><th scope=row>2</th><td>0610009B22Rik</td><td>plate1_B04</td><td> 230880</td><td>0</td><td>5</td><td>5</td><td>0.0001000</td><td>-13.287712</td><td>plate1_B04</td><td>plate1</td><td>1105379</td><td>9775</td><td>NA</td><td>NA</td><td>D12 </td><td>Bart</td><td>GC091479_TCCTGAGC-TATCCTCT</td><td>2.644251</td><td>3</td><td>4</td><td>4</td><td>plate1_B04</td><td>3</td><td>Late Pluripotency</td><td>chr11</td><td>185056</td><td>0.0000000</td><td>0.2391653</td><td>0.0000000</td><td>0.2391653</td></tr>\n",
       "\t<tr><th scope=row>3</th><td>0610009B22Rik</td><td>plate2_F02</td><td>2416544</td><td>2</td><td>5</td><td>7</td><td>0.2858143</td><td> -1.321567</td><td>plate2_F02</td><td>plate2</td><td> 804130</td><td>9721</td><td>NA</td><td>NA</td><td>iPSC</td><td>Bart</td><td>GC091479_GGAGCTAC-CTAAGCCT</td><td>1.901061</td><td>2</td><td>3</td><td>3</td><td>plate2_F02</td><td>5</td><td>iPSC             </td><td>chr11</td><td>131809</td><td>0.1412692</td><td>0.3216028</td><td>0.3052015</td><td>0.4628720</td></tr>\n",
       "\t<tr><th scope=row>⋮</th><td>⋮</td><td>⋮</td><td>⋮</td><td>⋮</td><td>⋮</td><td>⋮</td><td>⋮</td><td>⋮</td><td>⋮</td><td>⋮</td><td>⋮</td><td>⋮</td><td>⋮</td><td>⋮</td><td>⋮</td><td>⋮</td><td>⋮</td><td>⋮</td><td>⋮</td><td>⋮</td><td>⋮</td><td>⋮</td><td>⋮</td><td>⋮</td><td>⋮</td><td>⋮</td><td>⋮</td><td>⋮</td><td>⋮</td><td>⋮</td></tr>\n",
       "\t<tr><th scope=row>5</th><td>0610009B22Rik</td><td>plate2_D05</td><td>2093312</td><td>10</td><td>8</td><td>18</td><td>0.5556556</td><td>0.3220435059</td><td>plate2_D05</td><td>plate2</td><td> 867022</td><td>10287</td><td>NA</td><td>NA</td><td>iPSC</td><td>Bart</td><td>GC091479_TACGCTGC-ACTGCATA</td><td>3.101882</td><td>2</td><td>3</td><td>3</td><td>plate2_D05</td><td>5</td><td>iPSC</td><td>chr11</td><td>153580</td><td>0.5014578</td><td>0.419303</td><td>0.5446124</td><td>0.9207608</td></tr>\n",
       "\t<tr><th scope=row>6</th><td>0610009B22Rik</td><td>plate2_A04</td><td>1523808</td><td> 3</td><td>3</td><td> 6</td><td>0.5001000</td><td>0.0001442623</td><td>plate2_A04</td><td>plate2</td><td>1097848</td><td> 9741</td><td>NA</td><td>NA</td><td>iPSC</td><td>Bart</td><td>GC091479_CGGAGCCT-CTCTCTAT</td><td>3.815100</td><td>2</td><td>3</td><td>3</td><td>plate2_A04</td><td>5</td><td>iPSC</td><td>chr11</td><td>216451</td><td>0.1297990</td><td>0.129799</td><td>0.5000000</td><td>0.2595980</td></tr>\n",
       "</tbody>\n",
       "</table>\n"
      ],
      "text/latex": [
       "A data.frame: 6 × 30\n",
       "\\begin{tabular}{r|llllllllllllllllllllllllllllll}\n",
       "  & gene & RNA\\_id & X.x & X129 & Cast & sumReads & ratioPercent & ratioLog & X.y & orig.ident & nCount\\_RNA & nFeature\\_RNA & Met\\_id & Acc\\_id & cell\\_type & dataset & GC\\_index1\\_index2 & percent.mt & integrated\\_snn\\_res.0.5 & seurat\\_clusters & integrated\\_snn\\_res.0.4 & rownames & cluster\\_replace & cell\\_anno & Chr & total\\_reads & mus\\_norm & cast\\_norm & ratio\\_norm & sum\\_norm\\\\\n",
       "  & <fct> & <fct> & <int> & <int> & <int> & <int> & <dbl> & <dbl> & <fct> & <fct> & <int> & <int> & <lgl> & <lgl> & <fct> & <fct> & <fct> & <dbl> & <int> & <int> & <int> & <fct> & <fct> & <fct> & <chr> & <int> & <dbl> & <dbl> & <dbl> & <dbl>\\\\\n",
       "\\hline\n",
       "\t1 & 0610009B22Rik & plate1\\_B05 &  246272 & 0 & 0 & 0 &        NA &         NA & plate1\\_B05 & plate1 & 1202589 & 9445 & NA & NA & D12  & Bart & GC091479\\_GGACTCCT-TATCCTCT & 2.482727 & 6 & 5 & 5 & plate1\\_B05 & 4 & Unclassified      & chr11 & 206011 & 0.0000000 & 0.0000000 &       NaN & 0.0000000\\\\\n",
       "\t2 & 0610009B22Rik & plate1\\_B04 &  230880 & 0 & 5 & 5 & 0.0001000 & -13.287712 & plate1\\_B04 & plate1 & 1105379 & 9775 & NA & NA & D12  & Bart & GC091479\\_TCCTGAGC-TATCCTCT & 2.644251 & 3 & 4 & 4 & plate1\\_B04 & 3 & Late Pluripotency & chr11 & 185056 & 0.0000000 & 0.2391653 & 0.0000000 & 0.2391653\\\\\n",
       "\t3 & 0610009B22Rik & plate2\\_F02 & 2416544 & 2 & 5 & 7 & 0.2858143 &  -1.321567 & plate2\\_F02 & plate2 &  804130 & 9721 & NA & NA & iPSC & Bart & GC091479\\_GGAGCTAC-CTAAGCCT & 1.901061 & 2 & 3 & 3 & plate2\\_F02 & 5 & iPSC              & chr11 & 131809 & 0.1412692 & 0.3216028 & 0.3052015 & 0.4628720\\\\\n",
       "\t⋮ & ⋮ & ⋮ & ⋮ & ⋮ & ⋮ & ⋮ & ⋮ & ⋮ & ⋮ & ⋮ & ⋮ & ⋮ & ⋮ & ⋮ & ⋮ & ⋮ & ⋮ & ⋮ & ⋮ & ⋮ & ⋮ & ⋮ & ⋮ & ⋮ & ⋮ & ⋮ & ⋮ & ⋮ & ⋮ & ⋮\\\\\n",
       "\t5 & 0610009B22Rik & plate2\\_D05 & 2093312 & 10 & 8 & 18 & 0.5556556 & 0.3220435059 & plate2\\_D05 & plate2 &  867022 & 10287 & NA & NA & iPSC & Bart & GC091479\\_TACGCTGC-ACTGCATA & 3.101882 & 2 & 3 & 3 & plate2\\_D05 & 5 & iPSC & chr11 & 153580 & 0.5014578 & 0.419303 & 0.5446124 & 0.9207608\\\\\n",
       "\t6 & 0610009B22Rik & plate2\\_A04 & 1523808 &  3 & 3 &  6 & 0.5001000 & 0.0001442623 & plate2\\_A04 & plate2 & 1097848 &  9741 & NA & NA & iPSC & Bart & GC091479\\_CGGAGCCT-CTCTCTAT & 3.815100 & 2 & 3 & 3 & plate2\\_A04 & 5 & iPSC & chr11 & 216451 & 0.1297990 & 0.129799 & 0.5000000 & 0.2595980\\\\\n",
       "\\end{tabular}\n"
      ],
      "text/markdown": [
       "\n",
       "A data.frame: 6 × 30\n",
       "\n",
       "| <!--/--> | gene &lt;fct&gt; | RNA_id &lt;fct&gt; | X.x &lt;int&gt; | X129 &lt;int&gt; | Cast &lt;int&gt; | sumReads &lt;int&gt; | ratioPercent &lt;dbl&gt; | ratioLog &lt;dbl&gt; | X.y &lt;fct&gt; | orig.ident &lt;fct&gt; | nCount_RNA &lt;int&gt; | nFeature_RNA &lt;int&gt; | Met_id &lt;lgl&gt; | Acc_id &lt;lgl&gt; | cell_type &lt;fct&gt; | dataset &lt;fct&gt; | GC_index1_index2 &lt;fct&gt; | percent.mt &lt;dbl&gt; | integrated_snn_res.0.5 &lt;int&gt; | seurat_clusters &lt;int&gt; | integrated_snn_res.0.4 &lt;int&gt; | rownames &lt;fct&gt; | cluster_replace &lt;fct&gt; | cell_anno &lt;fct&gt; | Chr &lt;chr&gt; | total_reads &lt;int&gt; | mus_norm &lt;dbl&gt; | cast_norm &lt;dbl&gt; | ratio_norm &lt;dbl&gt; | sum_norm &lt;dbl&gt; |\n",
       "|---|---|---|---|---|---|---|---|---|---|---|---|---|---|---|---|---|---|---|---|---|---|---|---|---|---|---|---|---|---|---|\n",
       "| 1 | 0610009B22Rik | plate1_B05 |  246272 | 0 | 0 | 0 |        NA |         NA | plate1_B05 | plate1 | 1202589 | 9445 | NA | NA | D12  | Bart | GC091479_GGACTCCT-TATCCTCT | 2.482727 | 6 | 5 | 5 | plate1_B05 | 4 | Unclassified      | chr11 | 206011 | 0.0000000 | 0.0000000 |       NaN | 0.0000000 |\n",
       "| 2 | 0610009B22Rik | plate1_B04 |  230880 | 0 | 5 | 5 | 0.0001000 | -13.287712 | plate1_B04 | plate1 | 1105379 | 9775 | NA | NA | D12  | Bart | GC091479_TCCTGAGC-TATCCTCT | 2.644251 | 3 | 4 | 4 | plate1_B04 | 3 | Late Pluripotency | chr11 | 185056 | 0.0000000 | 0.2391653 | 0.0000000 | 0.2391653 |\n",
       "| 3 | 0610009B22Rik | plate2_F02 | 2416544 | 2 | 5 | 7 | 0.2858143 |  -1.321567 | plate2_F02 | plate2 |  804130 | 9721 | NA | NA | iPSC | Bart | GC091479_GGAGCTAC-CTAAGCCT | 1.901061 | 2 | 3 | 3 | plate2_F02 | 5 | iPSC              | chr11 | 131809 | 0.1412692 | 0.3216028 | 0.3052015 | 0.4628720 |\n",
       "| ⋮ | ⋮ | ⋮ | ⋮ | ⋮ | ⋮ | ⋮ | ⋮ | ⋮ | ⋮ | ⋮ | ⋮ | ⋮ | ⋮ | ⋮ | ⋮ | ⋮ | ⋮ | ⋮ | ⋮ | ⋮ | ⋮ | ⋮ | ⋮ | ⋮ | ⋮ | ⋮ | ⋮ | ⋮ | ⋮ | ⋮ |\n",
       "| 5 | 0610009B22Rik | plate2_D05 | 2093312 | 10 | 8 | 18 | 0.5556556 | 0.3220435059 | plate2_D05 | plate2 |  867022 | 10287 | NA | NA | iPSC | Bart | GC091479_TACGCTGC-ACTGCATA | 3.101882 | 2 | 3 | 3 | plate2_D05 | 5 | iPSC | chr11 | 153580 | 0.5014578 | 0.419303 | 0.5446124 | 0.9207608 |\n",
       "| 6 | 0610009B22Rik | plate2_A04 | 1523808 |  3 | 3 |  6 | 0.5001000 | 0.0001442623 | plate2_A04 | plate2 | 1097848 |  9741 | NA | NA | iPSC | Bart | GC091479_CGGAGCCT-CTCTCTAT | 3.815100 | 2 | 3 | 3 | plate2_A04 | 5 | iPSC | chr11 | 216451 | 0.1297990 | 0.129799 | 0.5000000 | 0.2595980 |\n",
       "\n"
      ],
      "text/plain": [
       "       gene          RNA_id     X.x     X129   Cast   sumReads ratioPercent\n",
       "1      0610009B22Rik plate1_B05  246272 0      0      0               NA   \n",
       "2      0610009B22Rik plate1_B04  230880 0      5      5        0.0001000   \n",
       "3      0610009B22Rik plate2_F02 2416544 2      5      7        0.2858143   \n",
       "<U+22EE> <U+22EE>      <U+22EE>   <U+22EE> <U+22EE> <U+22EE> <U+22EE> <U+22EE>    \n",
       "5      0610009B22Rik plate2_D05 2093312 10     8      18       0.5556556   \n",
       "6      0610009B22Rik plate2_A04 1523808  3     3       6       0.5001000   \n",
       "       ratioLog     X.y        orig.ident nCount_RNA nFeature_RNA Met_id Acc_id\n",
       "1              NA   plate1_B05 plate1     1202589    9445         NA     NA    \n",
       "2      -13.287712   plate1_B04 plate1     1105379    9775         NA     NA    \n",
       "3       -1.321567   plate2_F02 plate2      804130    9721         NA     NA    \n",
       "<U+22EE> <U+22EE>     <U+22EE>   <U+22EE>   <U+22EE>   <U+22EE>     <U+22EE> <U+22EE>\n",
       "5      0.3220435059 plate2_D05 plate2      867022    10287        NA     NA    \n",
       "6      0.0001442623 plate2_A04 plate2     1097848     9741        NA     NA    \n",
       "       cell_type dataset GC_index1_index2           percent.mt\n",
       "1      D12       Bart    GC091479_GGACTCCT-TATCCTCT 2.482727  \n",
       "2      D12       Bart    GC091479_TCCTGAGC-TATCCTCT 2.644251  \n",
       "3      iPSC      Bart    GC091479_GGAGCTAC-CTAAGCCT 1.901061  \n",
       "<U+22EE> <U+22EE>  <U+22EE> <U+22EE>                   <U+22EE>  \n",
       "5      iPSC      Bart    GC091479_TACGCTGC-ACTGCATA 3.101882  \n",
       "6      iPSC      Bart    GC091479_CGGAGCCT-CTCTCTAT 3.815100  \n",
       "       integrated_snn_res.0.5 seurat_clusters integrated_snn_res.0.4 rownames  \n",
       "1      6                      5               5                      plate1_B05\n",
       "2      3                      4               4                      plate1_B04\n",
       "3      2                      3               3                      plate2_F02\n",
       "<U+22EE> <U+22EE>               <U+22EE>        <U+22EE>               <U+22EE>  \n",
       "5      2                      3               3                      plate2_D05\n",
       "6      2                      3               3                      plate2_A04\n",
       "       cluster_replace cell_anno         Chr    total_reads mus_norm  cast_norm\n",
       "1      4               Unclassified      chr11  206011      0.0000000 0.0000000\n",
       "2      3               Late Pluripotency chr11  185056      0.0000000 0.2391653\n",
       "3      5               iPSC              chr11  131809      0.1412692 0.3216028\n",
       "<U+22EE> <U+22EE>        <U+22EE>          <U+22EE> <U+22EE>    <U+22EE>  <U+22EE> \n",
       "5      5               iPSC              chr11  153580      0.5014578 0.419303 \n",
       "6      5               iPSC              chr11  216451      0.1297990 0.129799 \n",
       "       ratio_norm sum_norm \n",
       "1            NaN  0.0000000\n",
       "2      0.0000000  0.2391653\n",
       "3      0.3052015  0.4628720\n",
       "<U+22EE> <U+22EE>   <U+22EE> \n",
       "5      0.5446124  0.9207608\n",
       "6      0.5000000  0.2595980"
      ]
     },
     "metadata": {},
     "output_type": "display_data"
    }
   ],
   "source": [
    "options(repr.matrix.max.cols=40, repr.matrix.max.rows=5)\n",
    "head(X_loss)"
   ]
  },
  {
   "cell_type": "code",
   "execution_count": 110,
   "metadata": {},
   "outputs": [],
   "source": [
    "myvars <- c(\"gene\", \"X129\", \"Cast\", \"RNA_id\", \"cell_anno\")\n",
    "X_loss_new <- X_loss[myvars]"
   ]
  },
  {
   "cell_type": "code",
   "execution_count": 111,
   "metadata": {},
   "outputs": [],
   "source": [
    "annotation <- readRDS(\"/lustre1/project/stg_00041/Adrian/TALON_JANISZEWSKI_XCR2/BART_XO/X_loss.rds\")"
   ]
  },
  {
   "cell_type": "code",
   "execution_count": 112,
   "metadata": {},
   "outputs": [
    {
     "data": {
      "text/html": [
       "<table class=\"dataframe\">\n",
       "<caption>A data.frame: 6 × 2</caption>\n",
       "<thead>\n",
       "\t<tr><th></th><th scope=col>RNA_id</th><th scope=col>group</th></tr>\n",
       "\t<tr><th></th><th scope=col>&lt;fct&gt;</th><th scope=col>&lt;chr&gt;</th></tr>\n",
       "</thead>\n",
       "<tbody>\n",
       "\t<tr><th scope=row>1</th><td>plate1_C07</td><td>bi_allelic</td></tr>\n",
       "\t<tr><th scope=row>2</th><td>plate1_D02</td><td>bi_allelic</td></tr>\n",
       "\t<tr><th scope=row>3</th><td>plate1_E08</td><td>bi_allelic</td></tr>\n",
       "\t<tr><th scope=row>⋮</th><td>⋮</td><td>⋮</td></tr>\n",
       "\t<tr><th scope=row>5</th><td>plate2_A03</td><td>cast</td></tr>\n",
       "\t<tr><th scope=row>6</th><td>plate2_A04</td><td>cast</td></tr>\n",
       "</tbody>\n",
       "</table>\n"
      ],
      "text/latex": [
       "A data.frame: 6 × 2\n",
       "\\begin{tabular}{r|ll}\n",
       "  & RNA\\_id & group\\\\\n",
       "  & <fct> & <chr>\\\\\n",
       "\\hline\n",
       "\t1 & plate1\\_C07 & bi\\_allelic\\\\\n",
       "\t2 & plate1\\_D02 & bi\\_allelic\\\\\n",
       "\t3 & plate1\\_E08 & bi\\_allelic\\\\\n",
       "\t⋮ & ⋮ & ⋮\\\\\n",
       "\t5 & plate2\\_A03 & cast\\\\\n",
       "\t6 & plate2\\_A04 & cast\\\\\n",
       "\\end{tabular}\n"
      ],
      "text/markdown": [
       "\n",
       "A data.frame: 6 × 2\n",
       "\n",
       "| <!--/--> | RNA_id &lt;fct&gt; | group &lt;chr&gt; |\n",
       "|---|---|---|\n",
       "| 1 | plate1_C07 | bi_allelic |\n",
       "| 2 | plate1_D02 | bi_allelic |\n",
       "| 3 | plate1_E08 | bi_allelic |\n",
       "| ⋮ | ⋮ | ⋮ |\n",
       "| 5 | plate2_A03 | cast |\n",
       "| 6 | plate2_A04 | cast |\n",
       "\n"
      ],
      "text/plain": [
       "       RNA_id     group     \n",
       "1      plate1_C07 bi_allelic\n",
       "2      plate1_D02 bi_allelic\n",
       "3      plate1_E08 bi_allelic\n",
       "<U+22EE> <U+22EE>   <U+22EE>  \n",
       "5      plate2_A03 cast      \n",
       "6      plate2_A04 cast      "
      ]
     },
     "metadata": {},
     "output_type": "display_data"
    }
   ],
   "source": [
    "head(annotation)"
   ]
  },
  {
   "cell_type": "code",
   "execution_count": 113,
   "metadata": {},
   "outputs": [],
   "source": [
    "X_loss_allelic <- merge(X_loss_new, annotation, by.x=\"RNA_id\", by.y=\"RNA_id\")"
   ]
  },
  {
   "cell_type": "code",
   "execution_count": 114,
   "metadata": {},
   "outputs": [
    {
     "data": {
      "text/html": [
       "<table class=\"dataframe\">\n",
       "<caption>A data.frame: 6 × 6</caption>\n",
       "<thead>\n",
       "\t<tr><th></th><th scope=col>RNA_id</th><th scope=col>gene</th><th scope=col>X129</th><th scope=col>Cast</th><th scope=col>cell_anno</th><th scope=col>group</th></tr>\n",
       "\t<tr><th></th><th scope=col>&lt;fct&gt;</th><th scope=col>&lt;fct&gt;</th><th scope=col>&lt;int&gt;</th><th scope=col>&lt;int&gt;</th><th scope=col>&lt;fct&gt;</th><th scope=col>&lt;chr&gt;</th></tr>\n",
       "</thead>\n",
       "<tbody>\n",
       "\t<tr><th scope=row>1</th><td>plate1_C07</td><td>Wfdc5  </td><td>0</td><td>0</td><td>iPSC</td><td>bi_allelic</td></tr>\n",
       "\t<tr><th scope=row>2</th><td>plate1_C07</td><td>Tmem241</td><td>0</td><td>0</td><td>iPSC</td><td>bi_allelic</td></tr>\n",
       "\t<tr><th scope=row>3</th><td>plate1_C07</td><td>Lad1   </td><td>0</td><td>0</td><td>iPSC</td><td>bi_allelic</td></tr>\n",
       "\t<tr><th scope=row>⋮</th><td>⋮</td><td>⋮</td><td>⋮</td><td>⋮</td><td>⋮</td><td>⋮</td></tr>\n",
       "\t<tr><th scope=row>5</th><td>plate1_C07</td><td>Zfp984</td><td>0</td><td>6</td><td>iPSC</td><td>bi_allelic</td></tr>\n",
       "\t<tr><th scope=row>6</th><td>plate1_C07</td><td>Oas2  </td><td>0</td><td>0</td><td>iPSC</td><td>bi_allelic</td></tr>\n",
       "</tbody>\n",
       "</table>\n"
      ],
      "text/latex": [
       "A data.frame: 6 × 6\n",
       "\\begin{tabular}{r|llllll}\n",
       "  & RNA\\_id & gene & X129 & Cast & cell\\_anno & group\\\\\n",
       "  & <fct> & <fct> & <int> & <int> & <fct> & <chr>\\\\\n",
       "\\hline\n",
       "\t1 & plate1\\_C07 & Wfdc5   & 0 & 0 & iPSC & bi\\_allelic\\\\\n",
       "\t2 & plate1\\_C07 & Tmem241 & 0 & 0 & iPSC & bi\\_allelic\\\\\n",
       "\t3 & plate1\\_C07 & Lad1    & 0 & 0 & iPSC & bi\\_allelic\\\\\n",
       "\t⋮ & ⋮ & ⋮ & ⋮ & ⋮ & ⋮ & ⋮\\\\\n",
       "\t5 & plate1\\_C07 & Zfp984 & 0 & 6 & iPSC & bi\\_allelic\\\\\n",
       "\t6 & plate1\\_C07 & Oas2   & 0 & 0 & iPSC & bi\\_allelic\\\\\n",
       "\\end{tabular}\n"
      ],
      "text/markdown": [
       "\n",
       "A data.frame: 6 × 6\n",
       "\n",
       "| <!--/--> | RNA_id &lt;fct&gt; | gene &lt;fct&gt; | X129 &lt;int&gt; | Cast &lt;int&gt; | cell_anno &lt;fct&gt; | group &lt;chr&gt; |\n",
       "|---|---|---|---|---|---|---|\n",
       "| 1 | plate1_C07 | Wfdc5   | 0 | 0 | iPSC | bi_allelic |\n",
       "| 2 | plate1_C07 | Tmem241 | 0 | 0 | iPSC | bi_allelic |\n",
       "| 3 | plate1_C07 | Lad1    | 0 | 0 | iPSC | bi_allelic |\n",
       "| ⋮ | ⋮ | ⋮ | ⋮ | ⋮ | ⋮ | ⋮ |\n",
       "| 5 | plate1_C07 | Zfp984 | 0 | 6 | iPSC | bi_allelic |\n",
       "| 6 | plate1_C07 | Oas2   | 0 | 0 | iPSC | bi_allelic |\n",
       "\n"
      ],
      "text/plain": [
       "       RNA_id     gene    X129   Cast   cell_anno group     \n",
       "1      plate1_C07 Wfdc5   0      0      iPSC      bi_allelic\n",
       "2      plate1_C07 Tmem241 0      0      iPSC      bi_allelic\n",
       "3      plate1_C07 Lad1    0      0      iPSC      bi_allelic\n",
       "<U+22EE> <U+22EE>   <U+22EE> <U+22EE> <U+22EE> <U+22EE>  <U+22EE>  \n",
       "5      plate1_C07 Zfp984  0      6      iPSC      bi_allelic\n",
       "6      plate1_C07 Oas2    0      0      iPSC      bi_allelic"
      ]
     },
     "metadata": {},
     "output_type": "display_data"
    }
   ],
   "source": [
    "head(X_loss_allelic)"
   ]
  },
  {
   "cell_type": "code",
   "execution_count": 115,
   "metadata": {},
   "outputs": [
    {
     "data": {
      "text/html": [
       "iPSC\n",
       "<details>\n",
       "\t<summary style=display:list-item;cursor:pointer>\n",
       "\t\t<strong>Levels</strong>:\n",
       "\t</summary>\n",
       "\t<style>\n",
       "\t.list-inline {list-style: none; margin:0; padding: 0}\n",
       "\t.list-inline>li {display: inline-block}\n",
       "\t.list-inline>li:not(:last-child)::after {content: \"\\00b7\"; padding: 0 .5ex}\n",
       "\t</style>\n",
       "\t<ol class=list-inline><li>'MEF'</li><li>'Early SSEA1'</li><li>'Late SSEA1'</li><li>'Late Pluripotency'</li><li>'Unclassified'</li><li>'iPSC'</li></ol>\n",
       "</details>"
      ],
      "text/latex": [
       "iPSC\n",
       "\\emph{Levels}: \\begin{enumerate*}\n",
       "\\item 'MEF'\n",
       "\\item 'Early SSEA1'\n",
       "\\item 'Late SSEA1'\n",
       "\\item 'Late Pluripotency'\n",
       "\\item 'Unclassified'\n",
       "\\item 'iPSC'\n",
       "\\end{enumerate*}\n"
      ],
      "text/markdown": [
       "iPSC\n",
       "**Levels**: 1. 'MEF'\n",
       "2. 'Early SSEA1'\n",
       "3. 'Late SSEA1'\n",
       "4. 'Late Pluripotency'\n",
       "5. 'Unclassified'\n",
       "6. 'iPSC'\n",
       "\n",
       "\n"
      ],
      "text/plain": [
       "[1] iPSC\n",
       "Levels: MEF Early SSEA1 Late SSEA1 Late Pluripotency Unclassified iPSC"
      ]
     },
     "metadata": {},
     "output_type": "display_data"
    }
   ],
   "source": [
    "unique(X_loss_allelic$cell_anno)"
   ]
  },
  {
   "cell_type": "code",
   "execution_count": 116,
   "metadata": {},
   "outputs": [],
   "source": [
    "X_loss_allelic[5] <- NULL"
   ]
  },
  {
   "cell_type": "code",
   "execution_count": 117,
   "metadata": {},
   "outputs": [
    {
     "data": {
      "text/html": [
       "<table class=\"dataframe\">\n",
       "<caption>A data.frame: 6 × 5</caption>\n",
       "<thead>\n",
       "\t<tr><th></th><th scope=col>RNA_id</th><th scope=col>gene</th><th scope=col>X129</th><th scope=col>Cast</th><th scope=col>group</th></tr>\n",
       "\t<tr><th></th><th scope=col>&lt;fct&gt;</th><th scope=col>&lt;fct&gt;</th><th scope=col>&lt;int&gt;</th><th scope=col>&lt;int&gt;</th><th scope=col>&lt;chr&gt;</th></tr>\n",
       "</thead>\n",
       "<tbody>\n",
       "\t<tr><th scope=row>1</th><td>plate1_C07</td><td>Wfdc5  </td><td>0</td><td>0</td><td>bi_allelic</td></tr>\n",
       "\t<tr><th scope=row>2</th><td>plate1_C07</td><td>Tmem241</td><td>0</td><td>0</td><td>bi_allelic</td></tr>\n",
       "\t<tr><th scope=row>3</th><td>plate1_C07</td><td>Lad1   </td><td>0</td><td>0</td><td>bi_allelic</td></tr>\n",
       "\t<tr><th scope=row>⋮</th><td>⋮</td><td>⋮</td><td>⋮</td><td>⋮</td><td>⋮</td></tr>\n",
       "\t<tr><th scope=row>5</th><td>plate1_C07</td><td>Zfp984</td><td>0</td><td>6</td><td>bi_allelic</td></tr>\n",
       "\t<tr><th scope=row>6</th><td>plate1_C07</td><td>Oas2  </td><td>0</td><td>0</td><td>bi_allelic</td></tr>\n",
       "</tbody>\n",
       "</table>\n"
      ],
      "text/latex": [
       "A data.frame: 6 × 5\n",
       "\\begin{tabular}{r|lllll}\n",
       "  & RNA\\_id & gene & X129 & Cast & group\\\\\n",
       "  & <fct> & <fct> & <int> & <int> & <chr>\\\\\n",
       "\\hline\n",
       "\t1 & plate1\\_C07 & Wfdc5   & 0 & 0 & bi\\_allelic\\\\\n",
       "\t2 & plate1\\_C07 & Tmem241 & 0 & 0 & bi\\_allelic\\\\\n",
       "\t3 & plate1\\_C07 & Lad1    & 0 & 0 & bi\\_allelic\\\\\n",
       "\t⋮ & ⋮ & ⋮ & ⋮ & ⋮ & ⋮\\\\\n",
       "\t5 & plate1\\_C07 & Zfp984 & 0 & 6 & bi\\_allelic\\\\\n",
       "\t6 & plate1\\_C07 & Oas2   & 0 & 0 & bi\\_allelic\\\\\n",
       "\\end{tabular}\n"
      ],
      "text/markdown": [
       "\n",
       "A data.frame: 6 × 5\n",
       "\n",
       "| <!--/--> | RNA_id &lt;fct&gt; | gene &lt;fct&gt; | X129 &lt;int&gt; | Cast &lt;int&gt; | group &lt;chr&gt; |\n",
       "|---|---|---|---|---|---|\n",
       "| 1 | plate1_C07 | Wfdc5   | 0 | 0 | bi_allelic |\n",
       "| 2 | plate1_C07 | Tmem241 | 0 | 0 | bi_allelic |\n",
       "| 3 | plate1_C07 | Lad1    | 0 | 0 | bi_allelic |\n",
       "| ⋮ | ⋮ | ⋮ | ⋮ | ⋮ | ⋮ |\n",
       "| 5 | plate1_C07 | Zfp984 | 0 | 6 | bi_allelic |\n",
       "| 6 | plate1_C07 | Oas2   | 0 | 0 | bi_allelic |\n",
       "\n"
      ],
      "text/plain": [
       "       RNA_id     gene    X129   Cast   group     \n",
       "1      plate1_C07 Wfdc5   0      0      bi_allelic\n",
       "2      plate1_C07 Tmem241 0      0      bi_allelic\n",
       "3      plate1_C07 Lad1    0      0      bi_allelic\n",
       "<U+22EE> <U+22EE>   <U+22EE> <U+22EE> <U+22EE> <U+22EE>  \n",
       "5      plate1_C07 Zfp984  0      6      bi_allelic\n",
       "6      plate1_C07 Oas2    0      0      bi_allelic"
      ]
     },
     "metadata": {},
     "output_type": "display_data"
    }
   ],
   "source": [
    "head(X_loss_allelic)"
   ]
  },
  {
   "cell_type": "code",
   "execution_count": 118,
   "metadata": {},
   "outputs": [],
   "source": [
    "names(X_loss_allelic)[4] <- \"Ca\""
   ]
  },
  {
   "cell_type": "code",
   "execution_count": 119,
   "metadata": {},
   "outputs": [
    {
     "data": {
      "text/html": [
       "<table class=\"dataframe\">\n",
       "<caption>A data.frame: 6 × 5</caption>\n",
       "<thead>\n",
       "\t<tr><th></th><th scope=col>RNA_id</th><th scope=col>gene</th><th scope=col>X129</th><th scope=col>Ca</th><th scope=col>group</th></tr>\n",
       "\t<tr><th></th><th scope=col>&lt;fct&gt;</th><th scope=col>&lt;fct&gt;</th><th scope=col>&lt;int&gt;</th><th scope=col>&lt;int&gt;</th><th scope=col>&lt;chr&gt;</th></tr>\n",
       "</thead>\n",
       "<tbody>\n",
       "\t<tr><th scope=row>1</th><td>plate1_C07</td><td>Wfdc5  </td><td>0</td><td>0</td><td>bi_allelic</td></tr>\n",
       "\t<tr><th scope=row>2</th><td>plate1_C07</td><td>Tmem241</td><td>0</td><td>0</td><td>bi_allelic</td></tr>\n",
       "\t<tr><th scope=row>3</th><td>plate1_C07</td><td>Lad1   </td><td>0</td><td>0</td><td>bi_allelic</td></tr>\n",
       "\t<tr><th scope=row>⋮</th><td>⋮</td><td>⋮</td><td>⋮</td><td>⋮</td><td>⋮</td></tr>\n",
       "\t<tr><th scope=row>5</th><td>plate1_C07</td><td>Zfp984</td><td>0</td><td>6</td><td>bi_allelic</td></tr>\n",
       "\t<tr><th scope=row>6</th><td>plate1_C07</td><td>Oas2  </td><td>0</td><td>0</td><td>bi_allelic</td></tr>\n",
       "</tbody>\n",
       "</table>\n"
      ],
      "text/latex": [
       "A data.frame: 6 × 5\n",
       "\\begin{tabular}{r|lllll}\n",
       "  & RNA\\_id & gene & X129 & Ca & group\\\\\n",
       "  & <fct> & <fct> & <int> & <int> & <chr>\\\\\n",
       "\\hline\n",
       "\t1 & plate1\\_C07 & Wfdc5   & 0 & 0 & bi\\_allelic\\\\\n",
       "\t2 & plate1\\_C07 & Tmem241 & 0 & 0 & bi\\_allelic\\\\\n",
       "\t3 & plate1\\_C07 & Lad1    & 0 & 0 & bi\\_allelic\\\\\n",
       "\t⋮ & ⋮ & ⋮ & ⋮ & ⋮ & ⋮\\\\\n",
       "\t5 & plate1\\_C07 & Zfp984 & 0 & 6 & bi\\_allelic\\\\\n",
       "\t6 & plate1\\_C07 & Oas2   & 0 & 0 & bi\\_allelic\\\\\n",
       "\\end{tabular}\n"
      ],
      "text/markdown": [
       "\n",
       "A data.frame: 6 × 5\n",
       "\n",
       "| <!--/--> | RNA_id &lt;fct&gt; | gene &lt;fct&gt; | X129 &lt;int&gt; | Ca &lt;int&gt; | group &lt;chr&gt; |\n",
       "|---|---|---|---|---|---|\n",
       "| 1 | plate1_C07 | Wfdc5   | 0 | 0 | bi_allelic |\n",
       "| 2 | plate1_C07 | Tmem241 | 0 | 0 | bi_allelic |\n",
       "| 3 | plate1_C07 | Lad1    | 0 | 0 | bi_allelic |\n",
       "| ⋮ | ⋮ | ⋮ | ⋮ | ⋮ | ⋮ |\n",
       "| 5 | plate1_C07 | Zfp984 | 0 | 6 | bi_allelic |\n",
       "| 6 | plate1_C07 | Oas2   | 0 | 0 | bi_allelic |\n",
       "\n"
      ],
      "text/plain": [
       "       RNA_id     gene    X129   Ca     group     \n",
       "1      plate1_C07 Wfdc5   0      0      bi_allelic\n",
       "2      plate1_C07 Tmem241 0      0      bi_allelic\n",
       "3      plate1_C07 Lad1    0      0      bi_allelic\n",
       "<U+22EE> <U+22EE>   <U+22EE> <U+22EE> <U+22EE> <U+22EE>  \n",
       "5      plate1_C07 Zfp984  0      6      bi_allelic\n",
       "6      plate1_C07 Oas2    0      0      bi_allelic"
      ]
     },
     "metadata": {},
     "output_type": "display_data"
    }
   ],
   "source": [
    "head(X_loss_allelic)"
   ]
  },
  {
   "cell_type": "code",
   "execution_count": 120,
   "metadata": {},
   "outputs": [],
   "source": [
    "X_loss_allelic$cell <- paste(X_loss_allelic$RNA_id, \".\", X_loss_allelic$group)"
   ]
  },
  {
   "cell_type": "code",
   "execution_count": 121,
   "metadata": {},
   "outputs": [],
   "source": [
    "X_loss_allelic[1] <- NULL"
   ]
  },
  {
   "cell_type": "code",
   "execution_count": 122,
   "metadata": {},
   "outputs": [],
   "source": [
    "X_loss_allelic[4] <- NULL"
   ]
  },
  {
   "cell_type": "code",
   "execution_count": 123,
   "metadata": {},
   "outputs": [
    {
     "data": {
      "text/html": [
       "<table class=\"dataframe\">\n",
       "<caption>A data.frame: 6 × 4</caption>\n",
       "<thead>\n",
       "\t<tr><th></th><th scope=col>gene</th><th scope=col>X129</th><th scope=col>Ca</th><th scope=col>cell</th></tr>\n",
       "\t<tr><th></th><th scope=col>&lt;fct&gt;</th><th scope=col>&lt;int&gt;</th><th scope=col>&lt;int&gt;</th><th scope=col>&lt;chr&gt;</th></tr>\n",
       "</thead>\n",
       "<tbody>\n",
       "\t<tr><th scope=row>1</th><td>Wfdc5  </td><td>0</td><td>0</td><td>plate1_C07 . bi_allelic</td></tr>\n",
       "\t<tr><th scope=row>2</th><td>Tmem241</td><td>0</td><td>0</td><td>plate1_C07 . bi_allelic</td></tr>\n",
       "\t<tr><th scope=row>3</th><td>Lad1   </td><td>0</td><td>0</td><td>plate1_C07 . bi_allelic</td></tr>\n",
       "\t<tr><th scope=row>⋮</th><td>⋮</td><td>⋮</td><td>⋮</td><td>⋮</td></tr>\n",
       "\t<tr><th scope=row>5</th><td>Zfp984</td><td>0</td><td>6</td><td>plate1_C07 . bi_allelic</td></tr>\n",
       "\t<tr><th scope=row>6</th><td>Oas2  </td><td>0</td><td>0</td><td>plate1_C07 . bi_allelic</td></tr>\n",
       "</tbody>\n",
       "</table>\n"
      ],
      "text/latex": [
       "A data.frame: 6 × 4\n",
       "\\begin{tabular}{r|llll}\n",
       "  & gene & X129 & Ca & cell\\\\\n",
       "  & <fct> & <int> & <int> & <chr>\\\\\n",
       "\\hline\n",
       "\t1 & Wfdc5   & 0 & 0 & plate1\\_C07 . bi\\_allelic\\\\\n",
       "\t2 & Tmem241 & 0 & 0 & plate1\\_C07 . bi\\_allelic\\\\\n",
       "\t3 & Lad1    & 0 & 0 & plate1\\_C07 . bi\\_allelic\\\\\n",
       "\t⋮ & ⋮ & ⋮ & ⋮ & ⋮\\\\\n",
       "\t5 & Zfp984 & 0 & 6 & plate1\\_C07 . bi\\_allelic\\\\\n",
       "\t6 & Oas2   & 0 & 0 & plate1\\_C07 . bi\\_allelic\\\\\n",
       "\\end{tabular}\n"
      ],
      "text/markdown": [
       "\n",
       "A data.frame: 6 × 4\n",
       "\n",
       "| <!--/--> | gene &lt;fct&gt; | X129 &lt;int&gt; | Ca &lt;int&gt; | cell &lt;chr&gt; |\n",
       "|---|---|---|---|---|\n",
       "| 1 | Wfdc5   | 0 | 0 | plate1_C07 . bi_allelic |\n",
       "| 2 | Tmem241 | 0 | 0 | plate1_C07 . bi_allelic |\n",
       "| 3 | Lad1    | 0 | 0 | plate1_C07 . bi_allelic |\n",
       "| ⋮ | ⋮ | ⋮ | ⋮ | ⋮ |\n",
       "| 5 | Zfp984 | 0 | 6 | plate1_C07 . bi_allelic |\n",
       "| 6 | Oas2   | 0 | 0 | plate1_C07 . bi_allelic |\n",
       "\n"
      ],
      "text/plain": [
       "       gene    X129   Ca     cell                   \n",
       "1      Wfdc5   0      0      plate1_C07 . bi_allelic\n",
       "2      Tmem241 0      0      plate1_C07 . bi_allelic\n",
       "3      Lad1    0      0      plate1_C07 . bi_allelic\n",
       "<U+22EE> <U+22EE> <U+22EE> <U+22EE> <U+22EE>               \n",
       "5      Zfp984  0      6      plate1_C07 . bi_allelic\n",
       "6      Oas2    0      0      plate1_C07 . bi_allelic"
      ]
     },
     "metadata": {},
     "output_type": "display_data"
    }
   ],
   "source": [
    "head(X_loss_allelic)\n",
    "        "
   ]
  },
  {
   "cell_type": "code",
   "execution_count": 97,
   "metadata": {},
   "outputs": [],
   "source": [
    "myvars2 <- c(\"gene\", \"X129\", \"cell\")\n",
    "X_loss_allelic_X129 <- X_loss_allelic[myvars2]"
   ]
  },
  {
   "cell_type": "code",
   "execution_count": 124,
   "metadata": {},
   "outputs": [],
   "source": [
    "myvars3 <- c(\"gene\", \"Ca\", \"cell\")\n",
    "X_loss_allelic_Cast <- X_loss_allelic[myvars3]"
   ]
  },
  {
   "cell_type": "code",
   "execution_count": 99,
   "metadata": {},
   "outputs": [],
   "source": [
    "X_loss_allelic_X129['allele']='X129'"
   ]
  },
  {
   "cell_type": "code",
   "execution_count": 125,
   "metadata": {},
   "outputs": [],
   "source": [
    "X_loss_allelic_Cast['allele']='Ca'"
   ]
  },
  {
   "cell_type": "code",
   "execution_count": 101,
   "metadata": {},
   "outputs": [],
   "source": [
    "X_loss_allelic_X129$cell_id <- paste(X_loss_allelic_X129$cell, \".\", X_loss_allelic_X129$allele)"
   ]
  },
  {
   "cell_type": "code",
   "execution_count": 126,
   "metadata": {},
   "outputs": [],
   "source": [
    "X_loss_allelic_Cast$cell_id <- paste(X_loss_allelic_Cast$cell, \".\", X_loss_allelic_Cast$allele)"
   ]
  },
  {
   "cell_type": "code",
   "execution_count": 104,
   "metadata": {},
   "outputs": [],
   "source": [
    "X_loss_allelic_X129[3] <- NULL"
   ]
  },
  {
   "cell_type": "code",
   "execution_count": 127,
   "metadata": {},
   "outputs": [],
   "source": [
    "X_loss_allelic_Cast[3] <- NULL"
   ]
  },
  {
   "cell_type": "code",
   "execution_count": 106,
   "metadata": {},
   "outputs": [],
   "source": [
    "X_loss_allelic_X129[3] <- NULL"
   ]
  },
  {
   "cell_type": "code",
   "execution_count": 128,
   "metadata": {},
   "outputs": [],
   "source": [
    "X_loss_allelic_Cast[3] <- NULL"
   ]
  },
  {
   "cell_type": "code",
   "execution_count": 129,
   "metadata": {},
   "outputs": [
    {
     "data": {
      "text/html": [
       "<table class=\"dataframe\">\n",
       "<caption>A data.frame: 6 × 3</caption>\n",
       "<thead>\n",
       "\t<tr><th></th><th scope=col>gene</th><th scope=col>Ca</th><th scope=col>cell_id</th></tr>\n",
       "\t<tr><th></th><th scope=col>&lt;fct&gt;</th><th scope=col>&lt;int&gt;</th><th scope=col>&lt;chr&gt;</th></tr>\n",
       "</thead>\n",
       "<tbody>\n",
       "\t<tr><th scope=row>1</th><td>Wfdc5  </td><td>0</td><td>plate1_C07 . bi_allelic . Ca</td></tr>\n",
       "\t<tr><th scope=row>2</th><td>Tmem241</td><td>0</td><td>plate1_C07 . bi_allelic . Ca</td></tr>\n",
       "\t<tr><th scope=row>3</th><td>Lad1   </td><td>0</td><td>plate1_C07 . bi_allelic . Ca</td></tr>\n",
       "\t<tr><th scope=row>⋮</th><td>⋮</td><td>⋮</td><td>⋮</td></tr>\n",
       "\t<tr><th scope=row>5</th><td>Zfp984</td><td>6</td><td>plate1_C07 . bi_allelic . Ca</td></tr>\n",
       "\t<tr><th scope=row>6</th><td>Oas2  </td><td>0</td><td>plate1_C07 . bi_allelic . Ca</td></tr>\n",
       "</tbody>\n",
       "</table>\n"
      ],
      "text/latex": [
       "A data.frame: 6 × 3\n",
       "\\begin{tabular}{r|lll}\n",
       "  & gene & Ca & cell\\_id\\\\\n",
       "  & <fct> & <int> & <chr>\\\\\n",
       "\\hline\n",
       "\t1 & Wfdc5   & 0 & plate1\\_C07 . bi\\_allelic . Ca\\\\\n",
       "\t2 & Tmem241 & 0 & plate1\\_C07 . bi\\_allelic . Ca\\\\\n",
       "\t3 & Lad1    & 0 & plate1\\_C07 . bi\\_allelic . Ca\\\\\n",
       "\t⋮ & ⋮ & ⋮ & ⋮\\\\\n",
       "\t5 & Zfp984 & 6 & plate1\\_C07 . bi\\_allelic . Ca\\\\\n",
       "\t6 & Oas2   & 0 & plate1\\_C07 . bi\\_allelic . Ca\\\\\n",
       "\\end{tabular}\n"
      ],
      "text/markdown": [
       "\n",
       "A data.frame: 6 × 3\n",
       "\n",
       "| <!--/--> | gene &lt;fct&gt; | Ca &lt;int&gt; | cell_id &lt;chr&gt; |\n",
       "|---|---|---|---|\n",
       "| 1 | Wfdc5   | 0 | plate1_C07 . bi_allelic . Ca |\n",
       "| 2 | Tmem241 | 0 | plate1_C07 . bi_allelic . Ca |\n",
       "| 3 | Lad1    | 0 | plate1_C07 . bi_allelic . Ca |\n",
       "| ⋮ | ⋮ | ⋮ | ⋮ |\n",
       "| 5 | Zfp984 | 6 | plate1_C07 . bi_allelic . Ca |\n",
       "| 6 | Oas2   | 0 | plate1_C07 . bi_allelic . Ca |\n",
       "\n"
      ],
      "text/plain": [
       "       gene    Ca     cell_id                     \n",
       "1      Wfdc5   0      plate1_C07 . bi_allelic . Ca\n",
       "2      Tmem241 0      plate1_C07 . bi_allelic . Ca\n",
       "3      Lad1    0      plate1_C07 . bi_allelic . Ca\n",
       "<U+22EE> <U+22EE> <U+22EE> <U+22EE>                    \n",
       "5      Zfp984  6      plate1_C07 . bi_allelic . Ca\n",
       "6      Oas2    0      plate1_C07 . bi_allelic . Ca"
      ]
     },
     "metadata": {},
     "output_type": "display_data"
    }
   ],
   "source": [
    "head(X_loss_allelic_Cast)"
   ]
  },
  {
   "cell_type": "code",
   "execution_count": 108,
   "metadata": {},
   "outputs": [],
   "source": [
    "X129 <- spread(X_loss_allelic_X129, \"cell_id\", \"X129\")"
   ]
  },
  {
   "cell_type": "code",
   "execution_count": 109,
   "metadata": {},
   "outputs": [
    {
     "data": {
      "text/html": [
       "<table class=\"dataframe\">\n",
       "<caption>A data.frame: 6 × 51</caption>\n",
       "<thead>\n",
       "\t<tr><th></th><th scope=col>gene</th><th scope=col>plate1_C07 . bi_allelic . X129</th><th scope=col>plate1_D02 . bi_allelic . X129</th><th scope=col>plate1_E08 . bi_allelic . X129</th><th scope=col>plate2_A02 . cast . X129</th><th scope=col>plate2_A03 . cast . X129</th><th scope=col>plate2_A04 . cast . X129</th><th scope=col>plate2_A05 . cast . X129</th><th scope=col>plate2_A06 . bi_allelic . X129</th><th scope=col>plate2_B01 . mus . X129</th><th scope=col>plate2_B02 . bi_allelic . X129</th><th scope=col>plate2_B03 . bi_allelic . X129</th><th scope=col>plate2_B04 . cast . X129</th><th scope=col>plate2_B05 . mus . X129</th><th scope=col>plate2_B06 . bi_allelic . X129</th><th scope=col>plate2_C01 . mus . X129</th><th scope=col>plate2_C02 . bi_allelic . X129</th><th scope=col>plate2_C03 . bi_allelic . X129</th><th scope=col>plate2_C04 . cast . X129</th><th scope=col>plate2_C05 . cast . X129</th><th scope=col>⋯</th><th scope=col>plate2_E05 . bi_allelic . X129</th><th scope=col>plate2_E06 . cast . X129</th><th scope=col>plate2_F01 . bi_allelic . X129</th><th scope=col>plate2_F02 . bi_allelic . X129</th><th scope=col>plate2_F03 . bi_allelic . X129</th><th scope=col>plate2_F04 . bi_allelic . X129</th><th scope=col>plate2_F05 . cast . X129</th><th scope=col>plate2_F06 . bi_allelic . X129</th><th scope=col>plate2_G01 . cast . X129</th><th scope=col>plate2_G02 . mus . X129</th><th scope=col>plate2_G03 . bi_allelic . X129</th><th scope=col>plate2_G04 . bi_allelic . X129</th><th scope=col>plate2_G05 . cast . X129</th><th scope=col>plate2_G06 . bi_allelic . X129</th><th scope=col>plate2_H01 . bi_allelic . X129</th><th scope=col>plate2_H02 . cast . X129</th><th scope=col>plate2_H03 . bi_allelic . X129</th><th scope=col>plate2_H04 . bi_allelic . X129</th><th scope=col>plate2_H05 . cast . X129</th><th scope=col>plate2_H06 . bi_allelic . X129</th></tr>\n",
       "\t<tr><th></th><th scope=col>&lt;fct&gt;</th><th scope=col>&lt;int&gt;</th><th scope=col>&lt;int&gt;</th><th scope=col>&lt;int&gt;</th><th scope=col>&lt;int&gt;</th><th scope=col>&lt;int&gt;</th><th scope=col>&lt;int&gt;</th><th scope=col>&lt;int&gt;</th><th scope=col>&lt;int&gt;</th><th scope=col>&lt;int&gt;</th><th scope=col>&lt;int&gt;</th><th scope=col>&lt;int&gt;</th><th scope=col>&lt;int&gt;</th><th scope=col>&lt;int&gt;</th><th scope=col>&lt;int&gt;</th><th scope=col>&lt;int&gt;</th><th scope=col>&lt;int&gt;</th><th scope=col>&lt;int&gt;</th><th scope=col>&lt;int&gt;</th><th scope=col>&lt;int&gt;</th><th scope=col>⋯</th><th scope=col>&lt;int&gt;</th><th scope=col>&lt;int&gt;</th><th scope=col>&lt;int&gt;</th><th scope=col>&lt;int&gt;</th><th scope=col>&lt;int&gt;</th><th scope=col>&lt;int&gt;</th><th scope=col>&lt;int&gt;</th><th scope=col>&lt;int&gt;</th><th scope=col>&lt;int&gt;</th><th scope=col>&lt;int&gt;</th><th scope=col>&lt;int&gt;</th><th scope=col>&lt;int&gt;</th><th scope=col>&lt;int&gt;</th><th scope=col>&lt;int&gt;</th><th scope=col>&lt;int&gt;</th><th scope=col>&lt;int&gt;</th><th scope=col>&lt;int&gt;</th><th scope=col>&lt;int&gt;</th><th scope=col>&lt;int&gt;</th><th scope=col>&lt;int&gt;</th></tr>\n",
       "</thead>\n",
       "<tbody>\n",
       "\t<tr><th scope=row>1</th><td>0610009B22Rik</td><td>3</td><td>2</td><td>0</td><td>3</td><td>2</td><td> 3</td><td>1</td><td>11</td><td>0</td><td>0</td><td>6</td><td>0</td><td>4</td><td>4</td><td>8</td><td>2</td><td>2</td><td>4</td><td>0</td><td>⋯</td><td>4</td><td>5</td><td>2</td><td>2</td><td>3</td><td>2</td><td>4</td><td>6</td><td>4</td><td>3</td><td>1</td><td>7</td><td>2</td><td>14</td><td>2</td><td>0</td><td>7</td><td>2</td><td> 6</td><td>0</td></tr>\n",
       "\t<tr><th scope=row>2</th><td>0610010F05Rik</td><td>0</td><td>0</td><td>6</td><td>0</td><td>0</td><td>16</td><td>0</td><td> 0</td><td>0</td><td>0</td><td>0</td><td>0</td><td>0</td><td>0</td><td>0</td><td>0</td><td>0</td><td>0</td><td>0</td><td>⋯</td><td>0</td><td>0</td><td>0</td><td>0</td><td>3</td><td>0</td><td>0</td><td>0</td><td>0</td><td>0</td><td>0</td><td>0</td><td>0</td><td> 0</td><td>0</td><td>0</td><td>0</td><td>0</td><td> 0</td><td>0</td></tr>\n",
       "\t<tr><th scope=row>3</th><td>0610010K14Rik</td><td>0</td><td>0</td><td>0</td><td>0</td><td>0</td><td> 0</td><td>0</td><td> 3</td><td>0</td><td>0</td><td>0</td><td>0</td><td>0</td><td>0</td><td>0</td><td>2</td><td>0</td><td>0</td><td>0</td><td>⋯</td><td>0</td><td>0</td><td>0</td><td>0</td><td>0</td><td>0</td><td>0</td><td>0</td><td>0</td><td>0</td><td>0</td><td>0</td><td>0</td><td> 0</td><td>0</td><td>0</td><td>0</td><td>0</td><td>16</td><td>0</td></tr>\n",
       "\t<tr><th scope=row>⋮</th><td>⋮</td><td>⋮</td><td>⋮</td><td>⋮</td><td>⋮</td><td>⋮</td><td>⋮</td><td>⋮</td><td>⋮</td><td>⋮</td><td>⋮</td><td>⋮</td><td>⋮</td><td>⋮</td><td>⋮</td><td>⋮</td><td>⋮</td><td>⋮</td><td>⋮</td><td>⋮</td><td>⋱</td><td>⋮</td><td>⋮</td><td>⋮</td><td>⋮</td><td>⋮</td><td>⋮</td><td>⋮</td><td>⋮</td><td>⋮</td><td>⋮</td><td>⋮</td><td>⋮</td><td>⋮</td><td>⋮</td><td>⋮</td><td>⋮</td><td>⋮</td><td>⋮</td><td>⋮</td><td>⋮</td></tr>\n",
       "\t<tr><th scope=row>5</th><td>0610038B21Rik</td><td>0</td><td>0</td><td>0</td><td>0</td><td>0</td><td>0</td><td>0</td><td>0</td><td>0</td><td>0</td><td>0</td><td>0</td><td>0</td><td>0</td><td>0</td><td>0</td><td>0</td><td>0</td><td>0</td><td>⋯</td><td>0</td><td>0</td><td>0</td><td>0</td><td>0</td><td>0</td><td>0</td><td>0</td><td>0</td><td>0</td><td>0</td><td>0</td><td>0</td><td>0</td><td>0</td><td>0</td><td>0</td><td>0</td><td>0</td><td>2</td></tr>\n",
       "\t<tr><th scope=row>6</th><td>0610040B10Rik</td><td>0</td><td>0</td><td>0</td><td>0</td><td>0</td><td>0</td><td>0</td><td>0</td><td>0</td><td>0</td><td>0</td><td>0</td><td>0</td><td>0</td><td>0</td><td>0</td><td>0</td><td>2</td><td>0</td><td>⋯</td><td>0</td><td>0</td><td>0</td><td>0</td><td>0</td><td>0</td><td>0</td><td>0</td><td>0</td><td>0</td><td>0</td><td>0</td><td>0</td><td>0</td><td>0</td><td>0</td><td>0</td><td>5</td><td>0</td><td>0</td></tr>\n",
       "</tbody>\n",
       "</table>\n"
      ],
      "text/latex": [
       "A data.frame: 6 × 51\n",
       "\\begin{tabular}{r|lllllllllllllllllllllllllllllllllllllllll}\n",
       "  & gene & plate1\\_C07 . bi\\_allelic . X129 & plate1\\_D02 . bi\\_allelic . X129 & plate1\\_E08 . bi\\_allelic . X129 & plate2\\_A02 . cast . X129 & plate2\\_A03 . cast . X129 & plate2\\_A04 . cast . X129 & plate2\\_A05 . cast . X129 & plate2\\_A06 . bi\\_allelic . X129 & plate2\\_B01 . mus . X129 & plate2\\_B02 . bi\\_allelic . X129 & plate2\\_B03 . bi\\_allelic . X129 & plate2\\_B04 . cast . X129 & plate2\\_B05 . mus . X129 & plate2\\_B06 . bi\\_allelic . X129 & plate2\\_C01 . mus . X129 & plate2\\_C02 . bi\\_allelic . X129 & plate2\\_C03 . bi\\_allelic . X129 & plate2\\_C04 . cast . X129 & plate2\\_C05 . cast . X129 & ⋯ & plate2\\_E05 . bi\\_allelic . X129 & plate2\\_E06 . cast . X129 & plate2\\_F01 . bi\\_allelic . X129 & plate2\\_F02 . bi\\_allelic . X129 & plate2\\_F03 . bi\\_allelic . X129 & plate2\\_F04 . bi\\_allelic . X129 & plate2\\_F05 . cast . X129 & plate2\\_F06 . bi\\_allelic . X129 & plate2\\_G01 . cast . X129 & plate2\\_G02 . mus . X129 & plate2\\_G03 . bi\\_allelic . X129 & plate2\\_G04 . bi\\_allelic . X129 & plate2\\_G05 . cast . X129 & plate2\\_G06 . bi\\_allelic . X129 & plate2\\_H01 . bi\\_allelic . X129 & plate2\\_H02 . cast . X129 & plate2\\_H03 . bi\\_allelic . X129 & plate2\\_H04 . bi\\_allelic . X129 & plate2\\_H05 . cast . X129 & plate2\\_H06 . bi\\_allelic . X129\\\\\n",
       "  & <fct> & <int> & <int> & <int> & <int> & <int> & <int> & <int> & <int> & <int> & <int> & <int> & <int> & <int> & <int> & <int> & <int> & <int> & <int> & <int> & ⋯ & <int> & <int> & <int> & <int> & <int> & <int> & <int> & <int> & <int> & <int> & <int> & <int> & <int> & <int> & <int> & <int> & <int> & <int> & <int> & <int>\\\\\n",
       "\\hline\n",
       "\t1 & 0610009B22Rik & 3 & 2 & 0 & 3 & 2 &  3 & 1 & 11 & 0 & 0 & 6 & 0 & 4 & 4 & 8 & 2 & 2 & 4 & 0 & ⋯ & 4 & 5 & 2 & 2 & 3 & 2 & 4 & 6 & 4 & 3 & 1 & 7 & 2 & 14 & 2 & 0 & 7 & 2 &  6 & 0\\\\\n",
       "\t2 & 0610010F05Rik & 0 & 0 & 6 & 0 & 0 & 16 & 0 &  0 & 0 & 0 & 0 & 0 & 0 & 0 & 0 & 0 & 0 & 0 & 0 & ⋯ & 0 & 0 & 0 & 0 & 3 & 0 & 0 & 0 & 0 & 0 & 0 & 0 & 0 &  0 & 0 & 0 & 0 & 0 &  0 & 0\\\\\n",
       "\t3 & 0610010K14Rik & 0 & 0 & 0 & 0 & 0 &  0 & 0 &  3 & 0 & 0 & 0 & 0 & 0 & 0 & 0 & 2 & 0 & 0 & 0 & ⋯ & 0 & 0 & 0 & 0 & 0 & 0 & 0 & 0 & 0 & 0 & 0 & 0 & 0 &  0 & 0 & 0 & 0 & 0 & 16 & 0\\\\\n",
       "\t⋮ & ⋮ & ⋮ & ⋮ & ⋮ & ⋮ & ⋮ & ⋮ & ⋮ & ⋮ & ⋮ & ⋮ & ⋮ & ⋮ & ⋮ & ⋮ & ⋮ & ⋮ & ⋮ & ⋮ & ⋮ & ⋱ & ⋮ & ⋮ & ⋮ & ⋮ & ⋮ & ⋮ & ⋮ & ⋮ & ⋮ & ⋮ & ⋮ & ⋮ & ⋮ & ⋮ & ⋮ & ⋮ & ⋮ & ⋮ & ⋮ & ⋮\\\\\n",
       "\t5 & 0610038B21Rik & 0 & 0 & 0 & 0 & 0 & 0 & 0 & 0 & 0 & 0 & 0 & 0 & 0 & 0 & 0 & 0 & 0 & 0 & 0 & ⋯ & 0 & 0 & 0 & 0 & 0 & 0 & 0 & 0 & 0 & 0 & 0 & 0 & 0 & 0 & 0 & 0 & 0 & 0 & 0 & 2\\\\\n",
       "\t6 & 0610040B10Rik & 0 & 0 & 0 & 0 & 0 & 0 & 0 & 0 & 0 & 0 & 0 & 0 & 0 & 0 & 0 & 0 & 0 & 2 & 0 & ⋯ & 0 & 0 & 0 & 0 & 0 & 0 & 0 & 0 & 0 & 0 & 0 & 0 & 0 & 0 & 0 & 0 & 0 & 5 & 0 & 0\\\\\n",
       "\\end{tabular}\n"
      ],
      "text/markdown": [
       "\n",
       "A data.frame: 6 × 51\n",
       "\n",
       "| <!--/--> | gene &lt;fct&gt; | plate1_C07 . bi_allelic . X129 &lt;int&gt; | plate1_D02 . bi_allelic . X129 &lt;int&gt; | plate1_E08 . bi_allelic . X129 &lt;int&gt; | plate2_A02 . cast . X129 &lt;int&gt; | plate2_A03 . cast . X129 &lt;int&gt; | plate2_A04 . cast . X129 &lt;int&gt; | plate2_A05 . cast . X129 &lt;int&gt; | plate2_A06 . bi_allelic . X129 &lt;int&gt; | plate2_B01 . mus . X129 &lt;int&gt; | plate2_B02 . bi_allelic . X129 &lt;int&gt; | plate2_B03 . bi_allelic . X129 &lt;int&gt; | plate2_B04 . cast . X129 &lt;int&gt; | plate2_B05 . mus . X129 &lt;int&gt; | plate2_B06 . bi_allelic . X129 &lt;int&gt; | plate2_C01 . mus . X129 &lt;int&gt; | plate2_C02 . bi_allelic . X129 &lt;int&gt; | plate2_C03 . bi_allelic . X129 &lt;int&gt; | plate2_C04 . cast . X129 &lt;int&gt; | plate2_C05 . cast . X129 &lt;int&gt; | ⋯ ⋯ | plate2_E05 . bi_allelic . X129 &lt;int&gt; | plate2_E06 . cast . X129 &lt;int&gt; | plate2_F01 . bi_allelic . X129 &lt;int&gt; | plate2_F02 . bi_allelic . X129 &lt;int&gt; | plate2_F03 . bi_allelic . X129 &lt;int&gt; | plate2_F04 . bi_allelic . X129 &lt;int&gt; | plate2_F05 . cast . X129 &lt;int&gt; | plate2_F06 . bi_allelic . X129 &lt;int&gt; | plate2_G01 . cast . X129 &lt;int&gt; | plate2_G02 . mus . X129 &lt;int&gt; | plate2_G03 . bi_allelic . X129 &lt;int&gt; | plate2_G04 . bi_allelic . X129 &lt;int&gt; | plate2_G05 . cast . X129 &lt;int&gt; | plate2_G06 . bi_allelic . X129 &lt;int&gt; | plate2_H01 . bi_allelic . X129 &lt;int&gt; | plate2_H02 . cast . X129 &lt;int&gt; | plate2_H03 . bi_allelic . X129 &lt;int&gt; | plate2_H04 . bi_allelic . X129 &lt;int&gt; | plate2_H05 . cast . X129 &lt;int&gt; | plate2_H06 . bi_allelic . X129 &lt;int&gt; |\n",
       "|---|---|---|---|---|---|---|---|---|---|---|---|---|---|---|---|---|---|---|---|---|---|---|---|---|---|---|---|---|---|---|---|---|---|---|---|---|---|---|---|---|---|\n",
       "| 1 | 0610009B22Rik | 3 | 2 | 0 | 3 | 2 |  3 | 1 | 11 | 0 | 0 | 6 | 0 | 4 | 4 | 8 | 2 | 2 | 4 | 0 | ⋯ | 4 | 5 | 2 | 2 | 3 | 2 | 4 | 6 | 4 | 3 | 1 | 7 | 2 | 14 | 2 | 0 | 7 | 2 |  6 | 0 |\n",
       "| 2 | 0610010F05Rik | 0 | 0 | 6 | 0 | 0 | 16 | 0 |  0 | 0 | 0 | 0 | 0 | 0 | 0 | 0 | 0 | 0 | 0 | 0 | ⋯ | 0 | 0 | 0 | 0 | 3 | 0 | 0 | 0 | 0 | 0 | 0 | 0 | 0 |  0 | 0 | 0 | 0 | 0 |  0 | 0 |\n",
       "| 3 | 0610010K14Rik | 0 | 0 | 0 | 0 | 0 |  0 | 0 |  3 | 0 | 0 | 0 | 0 | 0 | 0 | 0 | 2 | 0 | 0 | 0 | ⋯ | 0 | 0 | 0 | 0 | 0 | 0 | 0 | 0 | 0 | 0 | 0 | 0 | 0 |  0 | 0 | 0 | 0 | 0 | 16 | 0 |\n",
       "| ⋮ | ⋮ | ⋮ | ⋮ | ⋮ | ⋮ | ⋮ | ⋮ | ⋮ | ⋮ | ⋮ | ⋮ | ⋮ | ⋮ | ⋮ | ⋮ | ⋮ | ⋮ | ⋮ | ⋮ | ⋮ | ⋱ | ⋮ | ⋮ | ⋮ | ⋮ | ⋮ | ⋮ | ⋮ | ⋮ | ⋮ | ⋮ | ⋮ | ⋮ | ⋮ | ⋮ | ⋮ | ⋮ | ⋮ | ⋮ | ⋮ | ⋮ |\n",
       "| 5 | 0610038B21Rik | 0 | 0 | 0 | 0 | 0 | 0 | 0 | 0 | 0 | 0 | 0 | 0 | 0 | 0 | 0 | 0 | 0 | 0 | 0 | ⋯ | 0 | 0 | 0 | 0 | 0 | 0 | 0 | 0 | 0 | 0 | 0 | 0 | 0 | 0 | 0 | 0 | 0 | 0 | 0 | 2 |\n",
       "| 6 | 0610040B10Rik | 0 | 0 | 0 | 0 | 0 | 0 | 0 | 0 | 0 | 0 | 0 | 0 | 0 | 0 | 0 | 0 | 0 | 2 | 0 | ⋯ | 0 | 0 | 0 | 0 | 0 | 0 | 0 | 0 | 0 | 0 | 0 | 0 | 0 | 0 | 0 | 0 | 0 | 5 | 0 | 0 |\n",
       "\n"
      ],
      "text/plain": [
       "       gene          plate1_C07 . bi_allelic . X129\n",
       "1      0610009B22Rik 3                             \n",
       "2      0610010F05Rik 0                             \n",
       "3      0610010K14Rik 0                             \n",
       "<U+22EE> <U+22EE>      <U+22EE>                      \n",
       "5      0610038B21Rik 0                             \n",
       "6      0610040B10Rik 0                             \n",
       "       plate1_D02 . bi_allelic . X129 plate1_E08 . bi_allelic . X129\n",
       "1      2                              0                             \n",
       "2      0                              6                             \n",
       "3      0                              0                             \n",
       "<U+22EE> <U+22EE>                       <U+22EE>                      \n",
       "5      0                              0                             \n",
       "6      0                              0                             \n",
       "       plate2_A02 . cast . X129 plate2_A03 . cast . X129\n",
       "1      3                        2                       \n",
       "2      0                        0                       \n",
       "3      0                        0                       \n",
       "<U+22EE> <U+22EE>                 <U+22EE>                \n",
       "5      0                        0                       \n",
       "6      0                        0                       \n",
       "       plate2_A04 . cast . X129 plate2_A05 . cast . X129\n",
       "1       3                       1                       \n",
       "2      16                       0                       \n",
       "3       0                       0                       \n",
       "<U+22EE> <U+22EE>                 <U+22EE>                \n",
       "5      0                        0                       \n",
       "6      0                        0                       \n",
       "       plate2_A06 . bi_allelic . X129 plate2_B01 . mus . X129\n",
       "1      11                             0                      \n",
       "2       0                             0                      \n",
       "3       3                             0                      \n",
       "<U+22EE> <U+22EE>                       <U+22EE>               \n",
       "5      0                              0                      \n",
       "6      0                              0                      \n",
       "       plate2_B02 . bi_allelic . X129 plate2_B03 . bi_allelic . X129\n",
       "1      0                              6                             \n",
       "2      0                              0                             \n",
       "3      0                              0                             \n",
       "<U+22EE> <U+22EE>                       <U+22EE>                      \n",
       "5      0                              0                             \n",
       "6      0                              0                             \n",
       "       plate2_B04 . cast . X129 plate2_B05 . mus . X129\n",
       "1      0                        4                      \n",
       "2      0                        0                      \n",
       "3      0                        0                      \n",
       "<U+22EE> <U+22EE>                 <U+22EE>               \n",
       "5      0                        0                      \n",
       "6      0                        0                      \n",
       "       plate2_B06 . bi_allelic . X129 plate2_C01 . mus . X129\n",
       "1      4                              8                      \n",
       "2      0                              0                      \n",
       "3      0                              0                      \n",
       "<U+22EE> <U+22EE>                       <U+22EE>               \n",
       "5      0                              0                      \n",
       "6      0                              0                      \n",
       "       plate2_C02 . bi_allelic . X129 plate2_C03 . bi_allelic . X129\n",
       "1      2                              2                             \n",
       "2      0                              0                             \n",
       "3      2                              0                             \n",
       "<U+22EE> <U+22EE>                       <U+22EE>                      \n",
       "5      0                              0                             \n",
       "6      0                              0                             \n",
       "       plate2_C04 . cast . X129 plate2_C05 . cast . X129 <U+22EF>  \n",
       "1      4                        0                        <U+22EF>\n",
       "2      0                        0                        <U+22EF>\n",
       "3      0                        0                        <U+22EF>\n",
       "<U+22EE> <U+22EE>                 <U+22EE>                 <U+22F1>\n",
       "5      0                        0                        <U+22EF>\n",
       "6      2                        0                        <U+22EF>\n",
       "       plate2_E05 . bi_allelic . X129 plate2_E06 . cast . X129\n",
       "1      4                              5                       \n",
       "2      0                              0                       \n",
       "3      0                              0                       \n",
       "<U+22EE> <U+22EE>                       <U+22EE>                \n",
       "5      0                              0                       \n",
       "6      0                              0                       \n",
       "       plate2_F01 . bi_allelic . X129 plate2_F02 . bi_allelic . X129\n",
       "1      2                              2                             \n",
       "2      0                              0                             \n",
       "3      0                              0                             \n",
       "<U+22EE> <U+22EE>                       <U+22EE>                      \n",
       "5      0                              0                             \n",
       "6      0                              0                             \n",
       "       plate2_F03 . bi_allelic . X129 plate2_F04 . bi_allelic . X129\n",
       "1      3                              2                             \n",
       "2      3                              0                             \n",
       "3      0                              0                             \n",
       "<U+22EE> <U+22EE>                       <U+22EE>                      \n",
       "5      0                              0                             \n",
       "6      0                              0                             \n",
       "       plate2_F05 . cast . X129 plate2_F06 . bi_allelic . X129\n",
       "1      4                        6                             \n",
       "2      0                        0                             \n",
       "3      0                        0                             \n",
       "<U+22EE> <U+22EE>                 <U+22EE>                      \n",
       "5      0                        0                             \n",
       "6      0                        0                             \n",
       "       plate2_G01 . cast . X129 plate2_G02 . mus . X129\n",
       "1      4                        3                      \n",
       "2      0                        0                      \n",
       "3      0                        0                      \n",
       "<U+22EE> <U+22EE>                 <U+22EE>               \n",
       "5      0                        0                      \n",
       "6      0                        0                      \n",
       "       plate2_G03 . bi_allelic . X129 plate2_G04 . bi_allelic . X129\n",
       "1      1                              7                             \n",
       "2      0                              0                             \n",
       "3      0                              0                             \n",
       "<U+22EE> <U+22EE>                       <U+22EE>                      \n",
       "5      0                              0                             \n",
       "6      0                              0                             \n",
       "       plate2_G05 . cast . X129 plate2_G06 . bi_allelic . X129\n",
       "1      2                        14                            \n",
       "2      0                         0                            \n",
       "3      0                         0                            \n",
       "<U+22EE> <U+22EE>                 <U+22EE>                      \n",
       "5      0                        0                             \n",
       "6      0                        0                             \n",
       "       plate2_H01 . bi_allelic . X129 plate2_H02 . cast . X129\n",
       "1      2                              0                       \n",
       "2      0                              0                       \n",
       "3      0                              0                       \n",
       "<U+22EE> <U+22EE>                       <U+22EE>                \n",
       "5      0                              0                       \n",
       "6      0                              0                       \n",
       "       plate2_H03 . bi_allelic . X129 plate2_H04 . bi_allelic . X129\n",
       "1      7                              2                             \n",
       "2      0                              0                             \n",
       "3      0                              0                             \n",
       "<U+22EE> <U+22EE>                       <U+22EE>                      \n",
       "5      0                              0                             \n",
       "6      0                              5                             \n",
       "       plate2_H05 . cast . X129 plate2_H06 . bi_allelic . X129\n",
       "1       6                       0                             \n",
       "2       0                       0                             \n",
       "3      16                       0                             \n",
       "<U+22EE> <U+22EE>                 <U+22EE>                      \n",
       "5      0                        2                             \n",
       "6      0                        0                             "
      ]
     },
     "metadata": {},
     "output_type": "display_data"
    }
   ],
   "source": [
    "head(X129)"
   ]
  },
  {
   "cell_type": "code",
   "execution_count": 131,
   "metadata": {},
   "outputs": [],
   "source": [
    "Cast <- spread(X_loss_allelic_Cast, \"cell_id\", \"Ca\")"
   ]
  },
  {
   "cell_type": "code",
   "execution_count": 132,
   "metadata": {},
   "outputs": [
    {
     "data": {
      "text/html": [
       "<table class=\"dataframe\">\n",
       "<caption>A data.frame: 6 × 51</caption>\n",
       "<thead>\n",
       "\t<tr><th></th><th scope=col>gene</th><th scope=col>plate1_C07 . bi_allelic . Ca</th><th scope=col>plate1_D02 . bi_allelic . Ca</th><th scope=col>plate1_E08 . bi_allelic . Ca</th><th scope=col>plate2_A02 . cast . Ca</th><th scope=col>plate2_A03 . cast . Ca</th><th scope=col>plate2_A04 . cast . Ca</th><th scope=col>plate2_A05 . cast . Ca</th><th scope=col>plate2_A06 . bi_allelic . Ca</th><th scope=col>plate2_B01 . mus . Ca</th><th scope=col>plate2_B02 . bi_allelic . Ca</th><th scope=col>plate2_B03 . bi_allelic . Ca</th><th scope=col>plate2_B04 . cast . Ca</th><th scope=col>plate2_B05 . mus . Ca</th><th scope=col>plate2_B06 . bi_allelic . Ca</th><th scope=col>plate2_C01 . mus . Ca</th><th scope=col>plate2_C02 . bi_allelic . Ca</th><th scope=col>plate2_C03 . bi_allelic . Ca</th><th scope=col>plate2_C04 . cast . Ca</th><th scope=col>plate2_C05 . cast . Ca</th><th scope=col>⋯</th><th scope=col>plate2_E05 . bi_allelic . Ca</th><th scope=col>plate2_E06 . cast . Ca</th><th scope=col>plate2_F01 . bi_allelic . Ca</th><th scope=col>plate2_F02 . bi_allelic . Ca</th><th scope=col>plate2_F03 . bi_allelic . Ca</th><th scope=col>plate2_F04 . bi_allelic . Ca</th><th scope=col>plate2_F05 . cast . Ca</th><th scope=col>plate2_F06 . bi_allelic . Ca</th><th scope=col>plate2_G01 . cast . Ca</th><th scope=col>plate2_G02 . mus . Ca</th><th scope=col>plate2_G03 . bi_allelic . Ca</th><th scope=col>plate2_G04 . bi_allelic . Ca</th><th scope=col>plate2_G05 . cast . Ca</th><th scope=col>plate2_G06 . bi_allelic . Ca</th><th scope=col>plate2_H01 . bi_allelic . Ca</th><th scope=col>plate2_H02 . cast . Ca</th><th scope=col>plate2_H03 . bi_allelic . Ca</th><th scope=col>plate2_H04 . bi_allelic . Ca</th><th scope=col>plate2_H05 . cast . Ca</th><th scope=col>plate2_H06 . bi_allelic . Ca</th></tr>\n",
       "\t<tr><th></th><th scope=col>&lt;fct&gt;</th><th scope=col>&lt;int&gt;</th><th scope=col>&lt;int&gt;</th><th scope=col>&lt;int&gt;</th><th scope=col>&lt;int&gt;</th><th scope=col>&lt;int&gt;</th><th scope=col>&lt;int&gt;</th><th scope=col>&lt;int&gt;</th><th scope=col>&lt;int&gt;</th><th scope=col>&lt;int&gt;</th><th scope=col>&lt;int&gt;</th><th scope=col>&lt;int&gt;</th><th scope=col>&lt;int&gt;</th><th scope=col>&lt;int&gt;</th><th scope=col>&lt;int&gt;</th><th scope=col>&lt;int&gt;</th><th scope=col>&lt;int&gt;</th><th scope=col>&lt;int&gt;</th><th scope=col>&lt;int&gt;</th><th scope=col>&lt;int&gt;</th><th scope=col>⋯</th><th scope=col>&lt;int&gt;</th><th scope=col>&lt;int&gt;</th><th scope=col>&lt;int&gt;</th><th scope=col>&lt;int&gt;</th><th scope=col>&lt;int&gt;</th><th scope=col>&lt;int&gt;</th><th scope=col>&lt;int&gt;</th><th scope=col>&lt;int&gt;</th><th scope=col>&lt;int&gt;</th><th scope=col>&lt;int&gt;</th><th scope=col>&lt;int&gt;</th><th scope=col>&lt;int&gt;</th><th scope=col>&lt;int&gt;</th><th scope=col>&lt;int&gt;</th><th scope=col>&lt;int&gt;</th><th scope=col>&lt;int&gt;</th><th scope=col>&lt;int&gt;</th><th scope=col>&lt;int&gt;</th><th scope=col>&lt;int&gt;</th><th scope=col>&lt;int&gt;</th></tr>\n",
       "</thead>\n",
       "<tbody>\n",
       "\t<tr><th scope=row>1</th><td>0610009B22Rik</td><td>1</td><td>6</td><td>2</td><td>16</td><td>6</td><td>3</td><td>2</td><td>2</td><td>0</td><td>5</td><td>5</td><td>19</td><td>4</td><td>1</td><td>5</td><td>0</td><td>4</td><td>1</td><td>0</td><td>⋯</td><td>11</td><td>0</td><td>13</td><td>5</td><td>5</td><td>2</td><td>0</td><td>7</td><td>5</td><td>3</td><td>1</td><td>8</td><td>1</td><td>13</td><td>0</td><td>0</td><td>6</td><td>3</td><td>5</td><td>0</td></tr>\n",
       "\t<tr><th scope=row>2</th><td>0610010F05Rik</td><td>0</td><td>0</td><td>0</td><td> 0</td><td>5</td><td>0</td><td>0</td><td>0</td><td>0</td><td>0</td><td>0</td><td> 0</td><td>0</td><td>0</td><td>0</td><td>0</td><td>0</td><td>0</td><td>0</td><td>⋯</td><td> 0</td><td>0</td><td> 0</td><td>0</td><td>0</td><td>0</td><td>0</td><td>0</td><td>0</td><td>0</td><td>0</td><td>7</td><td>0</td><td> 0</td><td>0</td><td>0</td><td>7</td><td>0</td><td>0</td><td>0</td></tr>\n",
       "\t<tr><th scope=row>3</th><td>0610010K14Rik</td><td>0</td><td>0</td><td>0</td><td> 0</td><td>0</td><td>6</td><td>0</td><td>0</td><td>0</td><td>0</td><td>0</td><td> 0</td><td>0</td><td>0</td><td>0</td><td>0</td><td>0</td><td>0</td><td>0</td><td>⋯</td><td> 0</td><td>0</td><td> 0</td><td>0</td><td>0</td><td>0</td><td>0</td><td>0</td><td>0</td><td>0</td><td>0</td><td>0</td><td>0</td><td> 0</td><td>0</td><td>0</td><td>0</td><td>0</td><td>0</td><td>0</td></tr>\n",
       "\t<tr><th scope=row>⋮</th><td>⋮</td><td>⋮</td><td>⋮</td><td>⋮</td><td>⋮</td><td>⋮</td><td>⋮</td><td>⋮</td><td>⋮</td><td>⋮</td><td>⋮</td><td>⋮</td><td>⋮</td><td>⋮</td><td>⋮</td><td>⋮</td><td>⋮</td><td>⋮</td><td>⋮</td><td>⋮</td><td>⋱</td><td>⋮</td><td>⋮</td><td>⋮</td><td>⋮</td><td>⋮</td><td>⋮</td><td>⋮</td><td>⋮</td><td>⋮</td><td>⋮</td><td>⋮</td><td>⋮</td><td>⋮</td><td>⋮</td><td>⋮</td><td>⋮</td><td>⋮</td><td>⋮</td><td>⋮</td><td>⋮</td></tr>\n",
       "\t<tr><th scope=row>5</th><td>0610038B21Rik</td><td>0</td><td>0</td><td>0</td><td>0</td><td>0</td><td>0</td><td>0</td><td>0</td><td>0</td><td>0</td><td>0</td><td>0</td><td>0</td><td>0</td><td>0</td><td>0</td><td>0</td><td>0</td><td>0</td><td>⋯</td><td>0</td><td>0</td><td>0</td><td>0</td><td>0</td><td>0</td><td>0</td><td>0</td><td>0</td><td>0</td><td>0</td><td>0</td><td>0</td><td>0</td><td>0</td><td>0</td><td>2</td><td>0</td><td>0</td><td>0</td></tr>\n",
       "\t<tr><th scope=row>6</th><td>0610040B10Rik</td><td>0</td><td>0</td><td>0</td><td>0</td><td>0</td><td>0</td><td>0</td><td>0</td><td>0</td><td>0</td><td>0</td><td>0</td><td>0</td><td>0</td><td>0</td><td>0</td><td>0</td><td>0</td><td>0</td><td>⋯</td><td>0</td><td>0</td><td>0</td><td>0</td><td>0</td><td>0</td><td>0</td><td>0</td><td>0</td><td>0</td><td>0</td><td>0</td><td>0</td><td>0</td><td>0</td><td>0</td><td>0</td><td>0</td><td>0</td><td>0</td></tr>\n",
       "</tbody>\n",
       "</table>\n"
      ],
      "text/latex": [
       "A data.frame: 6 × 51\n",
       "\\begin{tabular}{r|lllllllllllllllllllllllllllllllllllllllll}\n",
       "  & gene & plate1\\_C07 . bi\\_allelic . Ca & plate1\\_D02 . bi\\_allelic . Ca & plate1\\_E08 . bi\\_allelic . Ca & plate2\\_A02 . cast . Ca & plate2\\_A03 . cast . Ca & plate2\\_A04 . cast . Ca & plate2\\_A05 . cast . Ca & plate2\\_A06 . bi\\_allelic . Ca & plate2\\_B01 . mus . Ca & plate2\\_B02 . bi\\_allelic . Ca & plate2\\_B03 . bi\\_allelic . Ca & plate2\\_B04 . cast . Ca & plate2\\_B05 . mus . Ca & plate2\\_B06 . bi\\_allelic . Ca & plate2\\_C01 . mus . Ca & plate2\\_C02 . bi\\_allelic . Ca & plate2\\_C03 . bi\\_allelic . Ca & plate2\\_C04 . cast . Ca & plate2\\_C05 . cast . Ca & ⋯ & plate2\\_E05 . bi\\_allelic . Ca & plate2\\_E06 . cast . Ca & plate2\\_F01 . bi\\_allelic . Ca & plate2\\_F02 . bi\\_allelic . Ca & plate2\\_F03 . bi\\_allelic . Ca & plate2\\_F04 . bi\\_allelic . Ca & plate2\\_F05 . cast . Ca & plate2\\_F06 . bi\\_allelic . Ca & plate2\\_G01 . cast . Ca & plate2\\_G02 . mus . Ca & plate2\\_G03 . bi\\_allelic . Ca & plate2\\_G04 . bi\\_allelic . Ca & plate2\\_G05 . cast . Ca & plate2\\_G06 . bi\\_allelic . Ca & plate2\\_H01 . bi\\_allelic . Ca & plate2\\_H02 . cast . Ca & plate2\\_H03 . bi\\_allelic . Ca & plate2\\_H04 . bi\\_allelic . Ca & plate2\\_H05 . cast . Ca & plate2\\_H06 . bi\\_allelic . Ca\\\\\n",
       "  & <fct> & <int> & <int> & <int> & <int> & <int> & <int> & <int> & <int> & <int> & <int> & <int> & <int> & <int> & <int> & <int> & <int> & <int> & <int> & <int> & ⋯ & <int> & <int> & <int> & <int> & <int> & <int> & <int> & <int> & <int> & <int> & <int> & <int> & <int> & <int> & <int> & <int> & <int> & <int> & <int> & <int>\\\\\n",
       "\\hline\n",
       "\t1 & 0610009B22Rik & 1 & 6 & 2 & 16 & 6 & 3 & 2 & 2 & 0 & 5 & 5 & 19 & 4 & 1 & 5 & 0 & 4 & 1 & 0 & ⋯ & 11 & 0 & 13 & 5 & 5 & 2 & 0 & 7 & 5 & 3 & 1 & 8 & 1 & 13 & 0 & 0 & 6 & 3 & 5 & 0\\\\\n",
       "\t2 & 0610010F05Rik & 0 & 0 & 0 &  0 & 5 & 0 & 0 & 0 & 0 & 0 & 0 &  0 & 0 & 0 & 0 & 0 & 0 & 0 & 0 & ⋯ &  0 & 0 &  0 & 0 & 0 & 0 & 0 & 0 & 0 & 0 & 0 & 7 & 0 &  0 & 0 & 0 & 7 & 0 & 0 & 0\\\\\n",
       "\t3 & 0610010K14Rik & 0 & 0 & 0 &  0 & 0 & 6 & 0 & 0 & 0 & 0 & 0 &  0 & 0 & 0 & 0 & 0 & 0 & 0 & 0 & ⋯ &  0 & 0 &  0 & 0 & 0 & 0 & 0 & 0 & 0 & 0 & 0 & 0 & 0 &  0 & 0 & 0 & 0 & 0 & 0 & 0\\\\\n",
       "\t⋮ & ⋮ & ⋮ & ⋮ & ⋮ & ⋮ & ⋮ & ⋮ & ⋮ & ⋮ & ⋮ & ⋮ & ⋮ & ⋮ & ⋮ & ⋮ & ⋮ & ⋮ & ⋮ & ⋮ & ⋮ & ⋱ & ⋮ & ⋮ & ⋮ & ⋮ & ⋮ & ⋮ & ⋮ & ⋮ & ⋮ & ⋮ & ⋮ & ⋮ & ⋮ & ⋮ & ⋮ & ⋮ & ⋮ & ⋮ & ⋮ & ⋮\\\\\n",
       "\t5 & 0610038B21Rik & 0 & 0 & 0 & 0 & 0 & 0 & 0 & 0 & 0 & 0 & 0 & 0 & 0 & 0 & 0 & 0 & 0 & 0 & 0 & ⋯ & 0 & 0 & 0 & 0 & 0 & 0 & 0 & 0 & 0 & 0 & 0 & 0 & 0 & 0 & 0 & 0 & 2 & 0 & 0 & 0\\\\\n",
       "\t6 & 0610040B10Rik & 0 & 0 & 0 & 0 & 0 & 0 & 0 & 0 & 0 & 0 & 0 & 0 & 0 & 0 & 0 & 0 & 0 & 0 & 0 & ⋯ & 0 & 0 & 0 & 0 & 0 & 0 & 0 & 0 & 0 & 0 & 0 & 0 & 0 & 0 & 0 & 0 & 0 & 0 & 0 & 0\\\\\n",
       "\\end{tabular}\n"
      ],
      "text/markdown": [
       "\n",
       "A data.frame: 6 × 51\n",
       "\n",
       "| <!--/--> | gene &lt;fct&gt; | plate1_C07 . bi_allelic . Ca &lt;int&gt; | plate1_D02 . bi_allelic . Ca &lt;int&gt; | plate1_E08 . bi_allelic . Ca &lt;int&gt; | plate2_A02 . cast . Ca &lt;int&gt; | plate2_A03 . cast . Ca &lt;int&gt; | plate2_A04 . cast . Ca &lt;int&gt; | plate2_A05 . cast . Ca &lt;int&gt; | plate2_A06 . bi_allelic . Ca &lt;int&gt; | plate2_B01 . mus . Ca &lt;int&gt; | plate2_B02 . bi_allelic . Ca &lt;int&gt; | plate2_B03 . bi_allelic . Ca &lt;int&gt; | plate2_B04 . cast . Ca &lt;int&gt; | plate2_B05 . mus . Ca &lt;int&gt; | plate2_B06 . bi_allelic . Ca &lt;int&gt; | plate2_C01 . mus . Ca &lt;int&gt; | plate2_C02 . bi_allelic . Ca &lt;int&gt; | plate2_C03 . bi_allelic . Ca &lt;int&gt; | plate2_C04 . cast . Ca &lt;int&gt; | plate2_C05 . cast . Ca &lt;int&gt; | ⋯ ⋯ | plate2_E05 . bi_allelic . Ca &lt;int&gt; | plate2_E06 . cast . Ca &lt;int&gt; | plate2_F01 . bi_allelic . Ca &lt;int&gt; | plate2_F02 . bi_allelic . Ca &lt;int&gt; | plate2_F03 . bi_allelic . Ca &lt;int&gt; | plate2_F04 . bi_allelic . Ca &lt;int&gt; | plate2_F05 . cast . Ca &lt;int&gt; | plate2_F06 . bi_allelic . Ca &lt;int&gt; | plate2_G01 . cast . Ca &lt;int&gt; | plate2_G02 . mus . Ca &lt;int&gt; | plate2_G03 . bi_allelic . Ca &lt;int&gt; | plate2_G04 . bi_allelic . Ca &lt;int&gt; | plate2_G05 . cast . Ca &lt;int&gt; | plate2_G06 . bi_allelic . Ca &lt;int&gt; | plate2_H01 . bi_allelic . Ca &lt;int&gt; | plate2_H02 . cast . Ca &lt;int&gt; | plate2_H03 . bi_allelic . Ca &lt;int&gt; | plate2_H04 . bi_allelic . Ca &lt;int&gt; | plate2_H05 . cast . Ca &lt;int&gt; | plate2_H06 . bi_allelic . Ca &lt;int&gt; |\n",
       "|---|---|---|---|---|---|---|---|---|---|---|---|---|---|---|---|---|---|---|---|---|---|---|---|---|---|---|---|---|---|---|---|---|---|---|---|---|---|---|---|---|---|\n",
       "| 1 | 0610009B22Rik | 1 | 6 | 2 | 16 | 6 | 3 | 2 | 2 | 0 | 5 | 5 | 19 | 4 | 1 | 5 | 0 | 4 | 1 | 0 | ⋯ | 11 | 0 | 13 | 5 | 5 | 2 | 0 | 7 | 5 | 3 | 1 | 8 | 1 | 13 | 0 | 0 | 6 | 3 | 5 | 0 |\n",
       "| 2 | 0610010F05Rik | 0 | 0 | 0 |  0 | 5 | 0 | 0 | 0 | 0 | 0 | 0 |  0 | 0 | 0 | 0 | 0 | 0 | 0 | 0 | ⋯ |  0 | 0 |  0 | 0 | 0 | 0 | 0 | 0 | 0 | 0 | 0 | 7 | 0 |  0 | 0 | 0 | 7 | 0 | 0 | 0 |\n",
       "| 3 | 0610010K14Rik | 0 | 0 | 0 |  0 | 0 | 6 | 0 | 0 | 0 | 0 | 0 |  0 | 0 | 0 | 0 | 0 | 0 | 0 | 0 | ⋯ |  0 | 0 |  0 | 0 | 0 | 0 | 0 | 0 | 0 | 0 | 0 | 0 | 0 |  0 | 0 | 0 | 0 | 0 | 0 | 0 |\n",
       "| ⋮ | ⋮ | ⋮ | ⋮ | ⋮ | ⋮ | ⋮ | ⋮ | ⋮ | ⋮ | ⋮ | ⋮ | ⋮ | ⋮ | ⋮ | ⋮ | ⋮ | ⋮ | ⋮ | ⋮ | ⋮ | ⋱ | ⋮ | ⋮ | ⋮ | ⋮ | ⋮ | ⋮ | ⋮ | ⋮ | ⋮ | ⋮ | ⋮ | ⋮ | ⋮ | ⋮ | ⋮ | ⋮ | ⋮ | ⋮ | ⋮ | ⋮ |\n",
       "| 5 | 0610038B21Rik | 0 | 0 | 0 | 0 | 0 | 0 | 0 | 0 | 0 | 0 | 0 | 0 | 0 | 0 | 0 | 0 | 0 | 0 | 0 | ⋯ | 0 | 0 | 0 | 0 | 0 | 0 | 0 | 0 | 0 | 0 | 0 | 0 | 0 | 0 | 0 | 0 | 2 | 0 | 0 | 0 |\n",
       "| 6 | 0610040B10Rik | 0 | 0 | 0 | 0 | 0 | 0 | 0 | 0 | 0 | 0 | 0 | 0 | 0 | 0 | 0 | 0 | 0 | 0 | 0 | ⋯ | 0 | 0 | 0 | 0 | 0 | 0 | 0 | 0 | 0 | 0 | 0 | 0 | 0 | 0 | 0 | 0 | 0 | 0 | 0 | 0 |\n",
       "\n"
      ],
      "text/plain": [
       "       gene          plate1_C07 . bi_allelic . Ca plate1_D02 . bi_allelic . Ca\n",
       "1      0610009B22Rik 1                            6                           \n",
       "2      0610010F05Rik 0                            0                           \n",
       "3      0610010K14Rik 0                            0                           \n",
       "<U+22EE> <U+22EE>      <U+22EE>                     <U+22EE>                    \n",
       "5      0610038B21Rik 0                            0                           \n",
       "6      0610040B10Rik 0                            0                           \n",
       "       plate1_E08 . bi_allelic . Ca plate2_A02 . cast . Ca\n",
       "1      2                            16                    \n",
       "2      0                             0                    \n",
       "3      0                             0                    \n",
       "<U+22EE> <U+22EE>                     <U+22EE>              \n",
       "5      0                            0                     \n",
       "6      0                            0                     \n",
       "       plate2_A03 . cast . Ca plate2_A04 . cast . Ca plate2_A05 . cast . Ca\n",
       "1      6                      3                      2                     \n",
       "2      5                      0                      0                     \n",
       "3      0                      6                      0                     \n",
       "<U+22EE> <U+22EE>               <U+22EE>               <U+22EE>              \n",
       "5      0                      0                      0                     \n",
       "6      0                      0                      0                     \n",
       "       plate2_A06 . bi_allelic . Ca plate2_B01 . mus . Ca\n",
       "1      2                            0                    \n",
       "2      0                            0                    \n",
       "3      0                            0                    \n",
       "<U+22EE> <U+22EE>                     <U+22EE>             \n",
       "5      0                            0                    \n",
       "6      0                            0                    \n",
       "       plate2_B02 . bi_allelic . Ca plate2_B03 . bi_allelic . Ca\n",
       "1      5                            5                           \n",
       "2      0                            0                           \n",
       "3      0                            0                           \n",
       "<U+22EE> <U+22EE>                     <U+22EE>                    \n",
       "5      0                            0                           \n",
       "6      0                            0                           \n",
       "       plate2_B04 . cast . Ca plate2_B05 . mus . Ca\n",
       "1      19                     4                    \n",
       "2       0                     0                    \n",
       "3       0                     0                    \n",
       "<U+22EE> <U+22EE>               <U+22EE>             \n",
       "5      0                      0                    \n",
       "6      0                      0                    \n",
       "       plate2_B06 . bi_allelic . Ca plate2_C01 . mus . Ca\n",
       "1      1                            5                    \n",
       "2      0                            0                    \n",
       "3      0                            0                    \n",
       "<U+22EE> <U+22EE>                     <U+22EE>             \n",
       "5      0                            0                    \n",
       "6      0                            0                    \n",
       "       plate2_C02 . bi_allelic . Ca plate2_C03 . bi_allelic . Ca\n",
       "1      0                            4                           \n",
       "2      0                            0                           \n",
       "3      0                            0                           \n",
       "<U+22EE> <U+22EE>                     <U+22EE>                    \n",
       "5      0                            0                           \n",
       "6      0                            0                           \n",
       "       plate2_C04 . cast . Ca plate2_C05 . cast . Ca <U+22EF>  \n",
       "1      1                      0                      <U+22EF>\n",
       "2      0                      0                      <U+22EF>\n",
       "3      0                      0                      <U+22EF>\n",
       "<U+22EE> <U+22EE>               <U+22EE>               <U+22F1>\n",
       "5      0                      0                      <U+22EF>\n",
       "6      0                      0                      <U+22EF>\n",
       "       plate2_E05 . bi_allelic . Ca plate2_E06 . cast . Ca\n",
       "1      11                           0                     \n",
       "2       0                           0                     \n",
       "3       0                           0                     \n",
       "<U+22EE> <U+22EE>                     <U+22EE>              \n",
       "5      0                            0                     \n",
       "6      0                            0                     \n",
       "       plate2_F01 . bi_allelic . Ca plate2_F02 . bi_allelic . Ca\n",
       "1      13                           5                           \n",
       "2       0                           0                           \n",
       "3       0                           0                           \n",
       "<U+22EE> <U+22EE>                     <U+22EE>                    \n",
       "5      0                            0                           \n",
       "6      0                            0                           \n",
       "       plate2_F03 . bi_allelic . Ca plate2_F04 . bi_allelic . Ca\n",
       "1      5                            2                           \n",
       "2      0                            0                           \n",
       "3      0                            0                           \n",
       "<U+22EE> <U+22EE>                     <U+22EE>                    \n",
       "5      0                            0                           \n",
       "6      0                            0                           \n",
       "       plate2_F05 . cast . Ca plate2_F06 . bi_allelic . Ca\n",
       "1      0                      7                           \n",
       "2      0                      0                           \n",
       "3      0                      0                           \n",
       "<U+22EE> <U+22EE>               <U+22EE>                    \n",
       "5      0                      0                           \n",
       "6      0                      0                           \n",
       "       plate2_G01 . cast . Ca plate2_G02 . mus . Ca\n",
       "1      5                      3                    \n",
       "2      0                      0                    \n",
       "3      0                      0                    \n",
       "<U+22EE> <U+22EE>               <U+22EE>             \n",
       "5      0                      0                    \n",
       "6      0                      0                    \n",
       "       plate2_G03 . bi_allelic . Ca plate2_G04 . bi_allelic . Ca\n",
       "1      1                            8                           \n",
       "2      0                            7                           \n",
       "3      0                            0                           \n",
       "<U+22EE> <U+22EE>                     <U+22EE>                    \n",
       "5      0                            0                           \n",
       "6      0                            0                           \n",
       "       plate2_G05 . cast . Ca plate2_G06 . bi_allelic . Ca\n",
       "1      1                      13                          \n",
       "2      0                       0                          \n",
       "3      0                       0                          \n",
       "<U+22EE> <U+22EE>               <U+22EE>                    \n",
       "5      0                      0                           \n",
       "6      0                      0                           \n",
       "       plate2_H01 . bi_allelic . Ca plate2_H02 . cast . Ca\n",
       "1      0                            0                     \n",
       "2      0                            0                     \n",
       "3      0                            0                     \n",
       "<U+22EE> <U+22EE>                     <U+22EE>              \n",
       "5      0                            0                     \n",
       "6      0                            0                     \n",
       "       plate2_H03 . bi_allelic . Ca plate2_H04 . bi_allelic . Ca\n",
       "1      6                            3                           \n",
       "2      7                            0                           \n",
       "3      0                            0                           \n",
       "<U+22EE> <U+22EE>                     <U+22EE>                    \n",
       "5      2                            0                           \n",
       "6      0                            0                           \n",
       "       plate2_H05 . cast . Ca plate2_H06 . bi_allelic . Ca\n",
       "1      5                      0                           \n",
       "2      0                      0                           \n",
       "3      0                      0                           \n",
       "<U+22EE> <U+22EE>               <U+22EE>                    \n",
       "5      0                      0                           \n",
       "6      0                      0                           "
      ]
     },
     "metadata": {},
     "output_type": "display_data"
    }
   ],
   "source": [
    "head(Cast)"
   ]
  },
  {
   "cell_type": "code",
   "execution_count": 133,
   "metadata": {},
   "outputs": [
    {
     "data": {
      "text/html": [
       "13947"
      ],
      "text/latex": [
       "13947"
      ],
      "text/markdown": [
       "13947"
      ],
      "text/plain": [
       "[1] 13947"
      ]
     },
     "metadata": {},
     "output_type": "display_data"
    },
    {
     "data": {
      "text/html": [
       "13947"
      ],
      "text/latex": [
       "13947"
      ],
      "text/markdown": [
       "13947"
      ],
      "text/plain": [
       "[1] 13947"
      ]
     },
     "metadata": {},
     "output_type": "display_data"
    },
    {
     "data": {
      "text/html": [
       "51"
      ],
      "text/latex": [
       "51"
      ],
      "text/markdown": [
       "51"
      ],
      "text/plain": [
       "[1] 51"
      ]
     },
     "metadata": {},
     "output_type": "display_data"
    },
    {
     "data": {
      "text/html": [
       "51"
      ],
      "text/latex": [
       "51"
      ],
      "text/markdown": [
       "51"
      ],
      "text/plain": [
       "[1] 51"
      ]
     },
     "metadata": {},
     "output_type": "display_data"
    }
   ],
   "source": [
    "nrow(Cast)\n",
    "nrow(X129)\n",
    "ncol(Cast)\n",
    "ncol(X129)"
   ]
  },
  {
   "cell_type": "code",
   "execution_count": 134,
   "metadata": {},
   "outputs": [],
   "source": [
    "X_loss_allelic_final <- merge(Cast,X129,by=\"gene\")"
   ]
  },
  {
   "cell_type": "code",
   "execution_count": 137,
   "metadata": {},
   "outputs": [],
   "source": [
    "names(X_loss_allelic_final)[1] <- \"GENE\""
   ]
  },
  {
   "cell_type": "code",
   "execution_count": 138,
   "metadata": {},
   "outputs": [
    {
     "data": {
      "text/html": [
       "<table class=\"dataframe\">\n",
       "<caption>A data.frame: 6 × 101</caption>\n",
       "<thead>\n",
       "\t<tr><th></th><th scope=col>GENE</th><th scope=col>plate1_C07 . bi_allelic . Ca</th><th scope=col>plate1_D02 . bi_allelic . Ca</th><th scope=col>plate1_E08 . bi_allelic . Ca</th><th scope=col>plate2_A02 . cast . Ca</th><th scope=col>plate2_A03 . cast . Ca</th><th scope=col>plate2_A04 . cast . Ca</th><th scope=col>plate2_A05 . cast . Ca</th><th scope=col>plate2_A06 . bi_allelic . Ca</th><th scope=col>plate2_B01 . mus . Ca</th><th scope=col>plate2_B02 . bi_allelic . Ca</th><th scope=col>plate2_B03 . bi_allelic . Ca</th><th scope=col>plate2_B04 . cast . Ca</th><th scope=col>plate2_B05 . mus . Ca</th><th scope=col>plate2_B06 . bi_allelic . Ca</th><th scope=col>plate2_C01 . mus . Ca</th><th scope=col>plate2_C02 . bi_allelic . Ca</th><th scope=col>plate2_C03 . bi_allelic . Ca</th><th scope=col>plate2_C04 . cast . Ca</th><th scope=col>plate2_C05 . cast . Ca</th><th scope=col>⋯</th><th scope=col>plate2_E05 . bi_allelic . X129</th><th scope=col>plate2_E06 . cast . X129</th><th scope=col>plate2_F01 . bi_allelic . X129</th><th scope=col>plate2_F02 . bi_allelic . X129</th><th scope=col>plate2_F03 . bi_allelic . X129</th><th scope=col>plate2_F04 . bi_allelic . X129</th><th scope=col>plate2_F05 . cast . X129</th><th scope=col>plate2_F06 . bi_allelic . X129</th><th scope=col>plate2_G01 . cast . X129</th><th scope=col>plate2_G02 . mus . X129</th><th scope=col>plate2_G03 . bi_allelic . X129</th><th scope=col>plate2_G04 . bi_allelic . X129</th><th scope=col>plate2_G05 . cast . X129</th><th scope=col>plate2_G06 . bi_allelic . X129</th><th scope=col>plate2_H01 . bi_allelic . X129</th><th scope=col>plate2_H02 . cast . X129</th><th scope=col>plate2_H03 . bi_allelic . X129</th><th scope=col>plate2_H04 . bi_allelic . X129</th><th scope=col>plate2_H05 . cast . X129</th><th scope=col>plate2_H06 . bi_allelic . X129</th></tr>\n",
       "\t<tr><th></th><th scope=col>&lt;fct&gt;</th><th scope=col>&lt;int&gt;</th><th scope=col>&lt;int&gt;</th><th scope=col>&lt;int&gt;</th><th scope=col>&lt;int&gt;</th><th scope=col>&lt;int&gt;</th><th scope=col>&lt;int&gt;</th><th scope=col>&lt;int&gt;</th><th scope=col>&lt;int&gt;</th><th scope=col>&lt;int&gt;</th><th scope=col>&lt;int&gt;</th><th scope=col>&lt;int&gt;</th><th scope=col>&lt;int&gt;</th><th scope=col>&lt;int&gt;</th><th scope=col>&lt;int&gt;</th><th scope=col>&lt;int&gt;</th><th scope=col>&lt;int&gt;</th><th scope=col>&lt;int&gt;</th><th scope=col>&lt;int&gt;</th><th scope=col>&lt;int&gt;</th><th scope=col>⋯</th><th scope=col>&lt;int&gt;</th><th scope=col>&lt;int&gt;</th><th scope=col>&lt;int&gt;</th><th scope=col>&lt;int&gt;</th><th scope=col>&lt;int&gt;</th><th scope=col>&lt;int&gt;</th><th scope=col>&lt;int&gt;</th><th scope=col>&lt;int&gt;</th><th scope=col>&lt;int&gt;</th><th scope=col>&lt;int&gt;</th><th scope=col>&lt;int&gt;</th><th scope=col>&lt;int&gt;</th><th scope=col>&lt;int&gt;</th><th scope=col>&lt;int&gt;</th><th scope=col>&lt;int&gt;</th><th scope=col>&lt;int&gt;</th><th scope=col>&lt;int&gt;</th><th scope=col>&lt;int&gt;</th><th scope=col>&lt;int&gt;</th><th scope=col>&lt;int&gt;</th></tr>\n",
       "</thead>\n",
       "<tbody>\n",
       "\t<tr><th scope=row>1</th><td>0610009B22Rik</td><td>1</td><td>6</td><td>2</td><td>16</td><td>6</td><td>3</td><td>2</td><td>2</td><td>0</td><td>5</td><td>5</td><td>19</td><td>4</td><td>1</td><td>5</td><td>0</td><td>4</td><td>1</td><td>0</td><td>⋯</td><td>4</td><td>5</td><td>2</td><td>2</td><td>3</td><td>2</td><td>4</td><td>6</td><td>4</td><td>3</td><td>1</td><td>7</td><td>2</td><td>14</td><td>2</td><td>0</td><td>7</td><td>2</td><td> 6</td><td>0</td></tr>\n",
       "\t<tr><th scope=row>2</th><td>0610010F05Rik</td><td>0</td><td>0</td><td>0</td><td> 0</td><td>5</td><td>0</td><td>0</td><td>0</td><td>0</td><td>0</td><td>0</td><td> 0</td><td>0</td><td>0</td><td>0</td><td>0</td><td>0</td><td>0</td><td>0</td><td>⋯</td><td>0</td><td>0</td><td>0</td><td>0</td><td>3</td><td>0</td><td>0</td><td>0</td><td>0</td><td>0</td><td>0</td><td>0</td><td>0</td><td> 0</td><td>0</td><td>0</td><td>0</td><td>0</td><td> 0</td><td>0</td></tr>\n",
       "\t<tr><th scope=row>3</th><td>0610010K14Rik</td><td>0</td><td>0</td><td>0</td><td> 0</td><td>0</td><td>6</td><td>0</td><td>0</td><td>0</td><td>0</td><td>0</td><td> 0</td><td>0</td><td>0</td><td>0</td><td>0</td><td>0</td><td>0</td><td>0</td><td>⋯</td><td>0</td><td>0</td><td>0</td><td>0</td><td>0</td><td>0</td><td>0</td><td>0</td><td>0</td><td>0</td><td>0</td><td>0</td><td>0</td><td> 0</td><td>0</td><td>0</td><td>0</td><td>0</td><td>16</td><td>0</td></tr>\n",
       "\t<tr><th scope=row>⋮</th><td>⋮</td><td>⋮</td><td>⋮</td><td>⋮</td><td>⋮</td><td>⋮</td><td>⋮</td><td>⋮</td><td>⋮</td><td>⋮</td><td>⋮</td><td>⋮</td><td>⋮</td><td>⋮</td><td>⋮</td><td>⋮</td><td>⋮</td><td>⋮</td><td>⋮</td><td>⋮</td><td>⋱</td><td>⋮</td><td>⋮</td><td>⋮</td><td>⋮</td><td>⋮</td><td>⋮</td><td>⋮</td><td>⋮</td><td>⋮</td><td>⋮</td><td>⋮</td><td>⋮</td><td>⋮</td><td>⋮</td><td>⋮</td><td>⋮</td><td>⋮</td><td>⋮</td><td>⋮</td><td>⋮</td></tr>\n",
       "\t<tr><th scope=row>5</th><td>0610038B21Rik</td><td>0</td><td>0</td><td>0</td><td>0</td><td>0</td><td>0</td><td>0</td><td>0</td><td>0</td><td>0</td><td>0</td><td>0</td><td>0</td><td>0</td><td>0</td><td>0</td><td>0</td><td>0</td><td>0</td><td>⋯</td><td>0</td><td>0</td><td>0</td><td>0</td><td>0</td><td>0</td><td>0</td><td>0</td><td>0</td><td>0</td><td>0</td><td>0</td><td>0</td><td>0</td><td>0</td><td>0</td><td>0</td><td>0</td><td>0</td><td>2</td></tr>\n",
       "\t<tr><th scope=row>6</th><td>0610040B10Rik</td><td>0</td><td>0</td><td>0</td><td>0</td><td>0</td><td>0</td><td>0</td><td>0</td><td>0</td><td>0</td><td>0</td><td>0</td><td>0</td><td>0</td><td>0</td><td>0</td><td>0</td><td>0</td><td>0</td><td>⋯</td><td>0</td><td>0</td><td>0</td><td>0</td><td>0</td><td>0</td><td>0</td><td>0</td><td>0</td><td>0</td><td>0</td><td>0</td><td>0</td><td>0</td><td>0</td><td>0</td><td>0</td><td>5</td><td>0</td><td>0</td></tr>\n",
       "</tbody>\n",
       "</table>\n"
      ],
      "text/latex": [
       "A data.frame: 6 × 101\n",
       "\\begin{tabular}{r|lllllllllllllllllllllllllllllllllllllllll}\n",
       "  & GENE & plate1\\_C07 . bi\\_allelic . Ca & plate1\\_D02 . bi\\_allelic . Ca & plate1\\_E08 . bi\\_allelic . Ca & plate2\\_A02 . cast . Ca & plate2\\_A03 . cast . Ca & plate2\\_A04 . cast . Ca & plate2\\_A05 . cast . Ca & plate2\\_A06 . bi\\_allelic . Ca & plate2\\_B01 . mus . Ca & plate2\\_B02 . bi\\_allelic . Ca & plate2\\_B03 . bi\\_allelic . Ca & plate2\\_B04 . cast . Ca & plate2\\_B05 . mus . Ca & plate2\\_B06 . bi\\_allelic . Ca & plate2\\_C01 . mus . Ca & plate2\\_C02 . bi\\_allelic . Ca & plate2\\_C03 . bi\\_allelic . Ca & plate2\\_C04 . cast . Ca & plate2\\_C05 . cast . Ca & ⋯ & plate2\\_E05 . bi\\_allelic . X129 & plate2\\_E06 . cast . X129 & plate2\\_F01 . bi\\_allelic . X129 & plate2\\_F02 . bi\\_allelic . X129 & plate2\\_F03 . bi\\_allelic . X129 & plate2\\_F04 . bi\\_allelic . X129 & plate2\\_F05 . cast . X129 & plate2\\_F06 . bi\\_allelic . X129 & plate2\\_G01 . cast . X129 & plate2\\_G02 . mus . X129 & plate2\\_G03 . bi\\_allelic . X129 & plate2\\_G04 . bi\\_allelic . X129 & plate2\\_G05 . cast . X129 & plate2\\_G06 . bi\\_allelic . X129 & plate2\\_H01 . bi\\_allelic . X129 & plate2\\_H02 . cast . X129 & plate2\\_H03 . bi\\_allelic . X129 & plate2\\_H04 . bi\\_allelic . X129 & plate2\\_H05 . cast . X129 & plate2\\_H06 . bi\\_allelic . X129\\\\\n",
       "  & <fct> & <int> & <int> & <int> & <int> & <int> & <int> & <int> & <int> & <int> & <int> & <int> & <int> & <int> & <int> & <int> & <int> & <int> & <int> & <int> & ⋯ & <int> & <int> & <int> & <int> & <int> & <int> & <int> & <int> & <int> & <int> & <int> & <int> & <int> & <int> & <int> & <int> & <int> & <int> & <int> & <int>\\\\\n",
       "\\hline\n",
       "\t1 & 0610009B22Rik & 1 & 6 & 2 & 16 & 6 & 3 & 2 & 2 & 0 & 5 & 5 & 19 & 4 & 1 & 5 & 0 & 4 & 1 & 0 & ⋯ & 4 & 5 & 2 & 2 & 3 & 2 & 4 & 6 & 4 & 3 & 1 & 7 & 2 & 14 & 2 & 0 & 7 & 2 &  6 & 0\\\\\n",
       "\t2 & 0610010F05Rik & 0 & 0 & 0 &  0 & 5 & 0 & 0 & 0 & 0 & 0 & 0 &  0 & 0 & 0 & 0 & 0 & 0 & 0 & 0 & ⋯ & 0 & 0 & 0 & 0 & 3 & 0 & 0 & 0 & 0 & 0 & 0 & 0 & 0 &  0 & 0 & 0 & 0 & 0 &  0 & 0\\\\\n",
       "\t3 & 0610010K14Rik & 0 & 0 & 0 &  0 & 0 & 6 & 0 & 0 & 0 & 0 & 0 &  0 & 0 & 0 & 0 & 0 & 0 & 0 & 0 & ⋯ & 0 & 0 & 0 & 0 & 0 & 0 & 0 & 0 & 0 & 0 & 0 & 0 & 0 &  0 & 0 & 0 & 0 & 0 & 16 & 0\\\\\n",
       "\t⋮ & ⋮ & ⋮ & ⋮ & ⋮ & ⋮ & ⋮ & ⋮ & ⋮ & ⋮ & ⋮ & ⋮ & ⋮ & ⋮ & ⋮ & ⋮ & ⋮ & ⋮ & ⋮ & ⋮ & ⋮ & ⋱ & ⋮ & ⋮ & ⋮ & ⋮ & ⋮ & ⋮ & ⋮ & ⋮ & ⋮ & ⋮ & ⋮ & ⋮ & ⋮ & ⋮ & ⋮ & ⋮ & ⋮ & ⋮ & ⋮ & ⋮\\\\\n",
       "\t5 & 0610038B21Rik & 0 & 0 & 0 & 0 & 0 & 0 & 0 & 0 & 0 & 0 & 0 & 0 & 0 & 0 & 0 & 0 & 0 & 0 & 0 & ⋯ & 0 & 0 & 0 & 0 & 0 & 0 & 0 & 0 & 0 & 0 & 0 & 0 & 0 & 0 & 0 & 0 & 0 & 0 & 0 & 2\\\\\n",
       "\t6 & 0610040B10Rik & 0 & 0 & 0 & 0 & 0 & 0 & 0 & 0 & 0 & 0 & 0 & 0 & 0 & 0 & 0 & 0 & 0 & 0 & 0 & ⋯ & 0 & 0 & 0 & 0 & 0 & 0 & 0 & 0 & 0 & 0 & 0 & 0 & 0 & 0 & 0 & 0 & 0 & 5 & 0 & 0\\\\\n",
       "\\end{tabular}\n"
      ],
      "text/markdown": [
       "\n",
       "A data.frame: 6 × 101\n",
       "\n",
       "| <!--/--> | GENE &lt;fct&gt; | plate1_C07 . bi_allelic . Ca &lt;int&gt; | plate1_D02 . bi_allelic . Ca &lt;int&gt; | plate1_E08 . bi_allelic . Ca &lt;int&gt; | plate2_A02 . cast . Ca &lt;int&gt; | plate2_A03 . cast . Ca &lt;int&gt; | plate2_A04 . cast . Ca &lt;int&gt; | plate2_A05 . cast . Ca &lt;int&gt; | plate2_A06 . bi_allelic . Ca &lt;int&gt; | plate2_B01 . mus . Ca &lt;int&gt; | plate2_B02 . bi_allelic . Ca &lt;int&gt; | plate2_B03 . bi_allelic . Ca &lt;int&gt; | plate2_B04 . cast . Ca &lt;int&gt; | plate2_B05 . mus . Ca &lt;int&gt; | plate2_B06 . bi_allelic . Ca &lt;int&gt; | plate2_C01 . mus . Ca &lt;int&gt; | plate2_C02 . bi_allelic . Ca &lt;int&gt; | plate2_C03 . bi_allelic . Ca &lt;int&gt; | plate2_C04 . cast . Ca &lt;int&gt; | plate2_C05 . cast . Ca &lt;int&gt; | ⋯ ⋯ | plate2_E05 . bi_allelic . X129 &lt;int&gt; | plate2_E06 . cast . X129 &lt;int&gt; | plate2_F01 . bi_allelic . X129 &lt;int&gt; | plate2_F02 . bi_allelic . X129 &lt;int&gt; | plate2_F03 . bi_allelic . X129 &lt;int&gt; | plate2_F04 . bi_allelic . X129 &lt;int&gt; | plate2_F05 . cast . X129 &lt;int&gt; | plate2_F06 . bi_allelic . X129 &lt;int&gt; | plate2_G01 . cast . X129 &lt;int&gt; | plate2_G02 . mus . X129 &lt;int&gt; | plate2_G03 . bi_allelic . X129 &lt;int&gt; | plate2_G04 . bi_allelic . X129 &lt;int&gt; | plate2_G05 . cast . X129 &lt;int&gt; | plate2_G06 . bi_allelic . X129 &lt;int&gt; | plate2_H01 . bi_allelic . X129 &lt;int&gt; | plate2_H02 . cast . X129 &lt;int&gt; | plate2_H03 . bi_allelic . X129 &lt;int&gt; | plate2_H04 . bi_allelic . X129 &lt;int&gt; | plate2_H05 . cast . X129 &lt;int&gt; | plate2_H06 . bi_allelic . X129 &lt;int&gt; |\n",
       "|---|---|---|---|---|---|---|---|---|---|---|---|---|---|---|---|---|---|---|---|---|---|---|---|---|---|---|---|---|---|---|---|---|---|---|---|---|---|---|---|---|---|\n",
       "| 1 | 0610009B22Rik | 1 | 6 | 2 | 16 | 6 | 3 | 2 | 2 | 0 | 5 | 5 | 19 | 4 | 1 | 5 | 0 | 4 | 1 | 0 | ⋯ | 4 | 5 | 2 | 2 | 3 | 2 | 4 | 6 | 4 | 3 | 1 | 7 | 2 | 14 | 2 | 0 | 7 | 2 |  6 | 0 |\n",
       "| 2 | 0610010F05Rik | 0 | 0 | 0 |  0 | 5 | 0 | 0 | 0 | 0 | 0 | 0 |  0 | 0 | 0 | 0 | 0 | 0 | 0 | 0 | ⋯ | 0 | 0 | 0 | 0 | 3 | 0 | 0 | 0 | 0 | 0 | 0 | 0 | 0 |  0 | 0 | 0 | 0 | 0 |  0 | 0 |\n",
       "| 3 | 0610010K14Rik | 0 | 0 | 0 |  0 | 0 | 6 | 0 | 0 | 0 | 0 | 0 |  0 | 0 | 0 | 0 | 0 | 0 | 0 | 0 | ⋯ | 0 | 0 | 0 | 0 | 0 | 0 | 0 | 0 | 0 | 0 | 0 | 0 | 0 |  0 | 0 | 0 | 0 | 0 | 16 | 0 |\n",
       "| ⋮ | ⋮ | ⋮ | ⋮ | ⋮ | ⋮ | ⋮ | ⋮ | ⋮ | ⋮ | ⋮ | ⋮ | ⋮ | ⋮ | ⋮ | ⋮ | ⋮ | ⋮ | ⋮ | ⋮ | ⋮ | ⋱ | ⋮ | ⋮ | ⋮ | ⋮ | ⋮ | ⋮ | ⋮ | ⋮ | ⋮ | ⋮ | ⋮ | ⋮ | ⋮ | ⋮ | ⋮ | ⋮ | ⋮ | ⋮ | ⋮ | ⋮ |\n",
       "| 5 | 0610038B21Rik | 0 | 0 | 0 | 0 | 0 | 0 | 0 | 0 | 0 | 0 | 0 | 0 | 0 | 0 | 0 | 0 | 0 | 0 | 0 | ⋯ | 0 | 0 | 0 | 0 | 0 | 0 | 0 | 0 | 0 | 0 | 0 | 0 | 0 | 0 | 0 | 0 | 0 | 0 | 0 | 2 |\n",
       "| 6 | 0610040B10Rik | 0 | 0 | 0 | 0 | 0 | 0 | 0 | 0 | 0 | 0 | 0 | 0 | 0 | 0 | 0 | 0 | 0 | 0 | 0 | ⋯ | 0 | 0 | 0 | 0 | 0 | 0 | 0 | 0 | 0 | 0 | 0 | 0 | 0 | 0 | 0 | 0 | 0 | 5 | 0 | 0 |\n",
       "\n"
      ],
      "text/plain": [
       "       GENE          plate1_C07 . bi_allelic . Ca plate1_D02 . bi_allelic . Ca\n",
       "1      0610009B22Rik 1                            6                           \n",
       "2      0610010F05Rik 0                            0                           \n",
       "3      0610010K14Rik 0                            0                           \n",
       "<U+22EE> <U+22EE>      <U+22EE>                     <U+22EE>                    \n",
       "5      0610038B21Rik 0                            0                           \n",
       "6      0610040B10Rik 0                            0                           \n",
       "       plate1_E08 . bi_allelic . Ca plate2_A02 . cast . Ca\n",
       "1      2                            16                    \n",
       "2      0                             0                    \n",
       "3      0                             0                    \n",
       "<U+22EE> <U+22EE>                     <U+22EE>              \n",
       "5      0                            0                     \n",
       "6      0                            0                     \n",
       "       plate2_A03 . cast . Ca plate2_A04 . cast . Ca plate2_A05 . cast . Ca\n",
       "1      6                      3                      2                     \n",
       "2      5                      0                      0                     \n",
       "3      0                      6                      0                     \n",
       "<U+22EE> <U+22EE>               <U+22EE>               <U+22EE>              \n",
       "5      0                      0                      0                     \n",
       "6      0                      0                      0                     \n",
       "       plate2_A06 . bi_allelic . Ca plate2_B01 . mus . Ca\n",
       "1      2                            0                    \n",
       "2      0                            0                    \n",
       "3      0                            0                    \n",
       "<U+22EE> <U+22EE>                     <U+22EE>             \n",
       "5      0                            0                    \n",
       "6      0                            0                    \n",
       "       plate2_B02 . bi_allelic . Ca plate2_B03 . bi_allelic . Ca\n",
       "1      5                            5                           \n",
       "2      0                            0                           \n",
       "3      0                            0                           \n",
       "<U+22EE> <U+22EE>                     <U+22EE>                    \n",
       "5      0                            0                           \n",
       "6      0                            0                           \n",
       "       plate2_B04 . cast . Ca plate2_B05 . mus . Ca\n",
       "1      19                     4                    \n",
       "2       0                     0                    \n",
       "3       0                     0                    \n",
       "<U+22EE> <U+22EE>               <U+22EE>             \n",
       "5      0                      0                    \n",
       "6      0                      0                    \n",
       "       plate2_B06 . bi_allelic . Ca plate2_C01 . mus . Ca\n",
       "1      1                            5                    \n",
       "2      0                            0                    \n",
       "3      0                            0                    \n",
       "<U+22EE> <U+22EE>                     <U+22EE>             \n",
       "5      0                            0                    \n",
       "6      0                            0                    \n",
       "       plate2_C02 . bi_allelic . Ca plate2_C03 . bi_allelic . Ca\n",
       "1      0                            4                           \n",
       "2      0                            0                           \n",
       "3      0                            0                           \n",
       "<U+22EE> <U+22EE>                     <U+22EE>                    \n",
       "5      0                            0                           \n",
       "6      0                            0                           \n",
       "       plate2_C04 . cast . Ca plate2_C05 . cast . Ca <U+22EF>  \n",
       "1      1                      0                      <U+22EF>\n",
       "2      0                      0                      <U+22EF>\n",
       "3      0                      0                      <U+22EF>\n",
       "<U+22EE> <U+22EE>               <U+22EE>               <U+22F1>\n",
       "5      0                      0                      <U+22EF>\n",
       "6      0                      0                      <U+22EF>\n",
       "       plate2_E05 . bi_allelic . X129 plate2_E06 . cast . X129\n",
       "1      4                              5                       \n",
       "2      0                              0                       \n",
       "3      0                              0                       \n",
       "<U+22EE> <U+22EE>                       <U+22EE>                \n",
       "5      0                              0                       \n",
       "6      0                              0                       \n",
       "       plate2_F01 . bi_allelic . X129 plate2_F02 . bi_allelic . X129\n",
       "1      2                              2                             \n",
       "2      0                              0                             \n",
       "3      0                              0                             \n",
       "<U+22EE> <U+22EE>                       <U+22EE>                      \n",
       "5      0                              0                             \n",
       "6      0                              0                             \n",
       "       plate2_F03 . bi_allelic . X129 plate2_F04 . bi_allelic . X129\n",
       "1      3                              2                             \n",
       "2      3                              0                             \n",
       "3      0                              0                             \n",
       "<U+22EE> <U+22EE>                       <U+22EE>                      \n",
       "5      0                              0                             \n",
       "6      0                              0                             \n",
       "       plate2_F05 . cast . X129 plate2_F06 . bi_allelic . X129\n",
       "1      4                        6                             \n",
       "2      0                        0                             \n",
       "3      0                        0                             \n",
       "<U+22EE> <U+22EE>                 <U+22EE>                      \n",
       "5      0                        0                             \n",
       "6      0                        0                             \n",
       "       plate2_G01 . cast . X129 plate2_G02 . mus . X129\n",
       "1      4                        3                      \n",
       "2      0                        0                      \n",
       "3      0                        0                      \n",
       "<U+22EE> <U+22EE>                 <U+22EE>               \n",
       "5      0                        0                      \n",
       "6      0                        0                      \n",
       "       plate2_G03 . bi_allelic . X129 plate2_G04 . bi_allelic . X129\n",
       "1      1                              7                             \n",
       "2      0                              0                             \n",
       "3      0                              0                             \n",
       "<U+22EE> <U+22EE>                       <U+22EE>                      \n",
       "5      0                              0                             \n",
       "6      0                              0                             \n",
       "       plate2_G05 . cast . X129 plate2_G06 . bi_allelic . X129\n",
       "1      2                        14                            \n",
       "2      0                         0                            \n",
       "3      0                         0                            \n",
       "<U+22EE> <U+22EE>                 <U+22EE>                      \n",
       "5      0                        0                             \n",
       "6      0                        0                             \n",
       "       plate2_H01 . bi_allelic . X129 plate2_H02 . cast . X129\n",
       "1      2                              0                       \n",
       "2      0                              0                       \n",
       "3      0                              0                       \n",
       "<U+22EE> <U+22EE>                       <U+22EE>                \n",
       "5      0                              0                       \n",
       "6      0                              0                       \n",
       "       plate2_H03 . bi_allelic . X129 plate2_H04 . bi_allelic . X129\n",
       "1      7                              2                             \n",
       "2      0                              0                             \n",
       "3      0                              0                             \n",
       "<U+22EE> <U+22EE>                       <U+22EE>                      \n",
       "5      0                              0                             \n",
       "6      0                              5                             \n",
       "       plate2_H05 . cast . X129 plate2_H06 . bi_allelic . X129\n",
       "1       6                       0                             \n",
       "2       0                       0                             \n",
       "3      16                       0                             \n",
       "<U+22EE> <U+22EE>                 <U+22EE>                      \n",
       "5      0                        2                             \n",
       "6      0                        0                             "
      ]
     },
     "metadata": {},
     "output_type": "display_data"
    },
    {
     "data": {
      "text/html": [
       "13947"
      ],
      "text/latex": [
       "13947"
      ],
      "text/markdown": [
       "13947"
      ],
      "text/plain": [
       "[1] 13947"
      ]
     },
     "metadata": {},
     "output_type": "display_data"
    },
    {
     "data": {
      "text/html": [
       "101"
      ],
      "text/latex": [
       "101"
      ],
      "text/markdown": [
       "101"
      ],
      "text/plain": [
       "[1] 101"
      ]
     },
     "metadata": {},
     "output_type": "display_data"
    }
   ],
   "source": [
    "head(X_loss_allelic_final)\n",
    "nrow(X_loss_allelic_final)\n",
    "ncol(X_loss_allelic_final)"
   ]
  },
  {
   "cell_type": "code",
   "execution_count": 139,
   "metadata": {},
   "outputs": [],
   "source": [
    "write.csv(X_loss_allelic_final, file = \"/lustre1/project/stg_00041/Irene/Talon_Janiszewski_XCR2/XO_transcriptional_burst/X_loss_allelic_final.csv\")"
   ]
  },
  {
   "cell_type": "code",
   "execution_count": 146,
   "metadata": {},
   "outputs": [],
   "source": [
    "#Get normalized nonallelic counts "
   ]
  },
  {
   "cell_type": "code",
   "execution_count": 154,
   "metadata": {},
   "outputs": [],
   "source": [
    "nonallelic_XO_counts <- read.csv(\"/lustre1/project/stg_00041/Bart/Exp2/Data/RNA/Exp02_counts.csv\")"
   ]
  },
  {
   "cell_type": "code",
   "execution_count": 155,
   "metadata": {},
   "outputs": [
    {
     "data": {
      "text/html": [
       "<table class=\"dataframe\">\n",
       "<caption>A data.frame: 6 × 193</caption>\n",
       "<thead>\n",
       "\t<tr><th></th><th scope=col>X</th><th scope=col>plate1_A01</th><th scope=col>plate1_A02</th><th scope=col>plate1_A03</th><th scope=col>plate1_A04</th><th scope=col>plate1_A05</th><th scope=col>plate1_A06</th><th scope=col>plate1_A07</th><th scope=col>plate1_A08</th><th scope=col>plate1_A09</th><th scope=col>plate1_A10</th><th scope=col>plate1_A11</th><th scope=col>plate1_A12</th><th scope=col>plate1_B01</th><th scope=col>plate1_B02</th><th scope=col>plate1_B03</th><th scope=col>plate1_B04</th><th scope=col>plate1_B05</th><th scope=col>plate1_B06</th><th scope=col>plate1_B07</th><th scope=col>plate1_B08</th><th scope=col>plate1_B09</th><th scope=col>plate1_B10</th><th scope=col>plate1_B11</th><th scope=col>plate1_B12</th><th scope=col>plate1_C01</th><th scope=col>plate1_C02</th><th scope=col>plate1_C03</th><th scope=col>plate1_C04</th><th scope=col>plate1_C05</th><th scope=col>plate1_C06</th><th scope=col>plate1_C07</th><th scope=col>plate1_C08</th><th scope=col>plate1_C09</th><th scope=col>plate1_C10</th><th scope=col>⋯</th><th scope=col>plate2_F02</th><th scope=col>plate2_F03</th><th scope=col>plate2_F04</th><th scope=col>plate2_F05</th><th scope=col>plate2_F06</th><th scope=col>plate2_F07</th><th scope=col>plate2_F08</th><th scope=col>plate2_F09</th><th scope=col>plate2_F10</th><th scope=col>plate2_F11</th><th scope=col>plate2_F12</th><th scope=col>plate2_G01</th><th scope=col>plate2_G02</th><th scope=col>plate2_G03</th><th scope=col>plate2_G04</th><th scope=col>plate2_G05</th><th scope=col>plate2_G06</th><th scope=col>plate2_G07</th><th scope=col>plate2_G08</th><th scope=col>plate2_G09</th><th scope=col>plate2_G10</th><th scope=col>plate2_G11</th><th scope=col>plate2_G12</th><th scope=col>plate2_H01</th><th scope=col>plate2_H02</th><th scope=col>plate2_H03</th><th scope=col>plate2_H04</th><th scope=col>plate2_H05</th><th scope=col>plate2_H06</th><th scope=col>plate2_H07</th><th scope=col>plate2_H08</th><th scope=col>plate2_H09</th><th scope=col>plate2_H10</th><th scope=col>plate2_H11</th><th scope=col>plate2_H12</th></tr>\n",
       "\t<tr><th></th><th scope=col>&lt;chr&gt;</th><th scope=col>&lt;int&gt;</th><th scope=col>&lt;int&gt;</th><th scope=col>&lt;int&gt;</th><th scope=col>&lt;int&gt;</th><th scope=col>&lt;int&gt;</th><th scope=col>&lt;int&gt;</th><th scope=col>&lt;int&gt;</th><th scope=col>&lt;int&gt;</th><th scope=col>&lt;int&gt;</th><th scope=col>&lt;int&gt;</th><th scope=col>&lt;int&gt;</th><th scope=col>&lt;int&gt;</th><th scope=col>&lt;int&gt;</th><th scope=col>&lt;int&gt;</th><th scope=col>&lt;int&gt;</th><th scope=col>&lt;int&gt;</th><th scope=col>&lt;int&gt;</th><th scope=col>&lt;int&gt;</th><th scope=col>&lt;int&gt;</th><th scope=col>&lt;int&gt;</th><th scope=col>&lt;int&gt;</th><th scope=col>&lt;int&gt;</th><th scope=col>&lt;int&gt;</th><th scope=col>&lt;int&gt;</th><th scope=col>&lt;int&gt;</th><th scope=col>&lt;int&gt;</th><th scope=col>&lt;int&gt;</th><th scope=col>&lt;int&gt;</th><th scope=col>&lt;int&gt;</th><th scope=col>&lt;int&gt;</th><th scope=col>&lt;int&gt;</th><th scope=col>&lt;int&gt;</th><th scope=col>&lt;int&gt;</th><th scope=col>&lt;int&gt;</th><th scope=col>⋯</th><th scope=col>&lt;int&gt;</th><th scope=col>&lt;int&gt;</th><th scope=col>&lt;int&gt;</th><th scope=col>&lt;int&gt;</th><th scope=col>&lt;int&gt;</th><th scope=col>&lt;int&gt;</th><th scope=col>&lt;int&gt;</th><th scope=col>&lt;int&gt;</th><th scope=col>&lt;int&gt;</th><th scope=col>&lt;int&gt;</th><th scope=col>&lt;int&gt;</th><th scope=col>&lt;int&gt;</th><th scope=col>&lt;int&gt;</th><th scope=col>&lt;int&gt;</th><th scope=col>&lt;int&gt;</th><th scope=col>&lt;int&gt;</th><th scope=col>&lt;int&gt;</th><th scope=col>&lt;int&gt;</th><th scope=col>&lt;int&gt;</th><th scope=col>&lt;int&gt;</th><th scope=col>&lt;int&gt;</th><th scope=col>&lt;int&gt;</th><th scope=col>&lt;int&gt;</th><th scope=col>&lt;int&gt;</th><th scope=col>&lt;int&gt;</th><th scope=col>&lt;int&gt;</th><th scope=col>&lt;int&gt;</th><th scope=col>&lt;int&gt;</th><th scope=col>&lt;int&gt;</th><th scope=col>&lt;int&gt;</th><th scope=col>&lt;int&gt;</th><th scope=col>&lt;int&gt;</th><th scope=col>&lt;int&gt;</th><th scope=col>&lt;int&gt;</th><th scope=col>&lt;int&gt;</th></tr>\n",
       "</thead>\n",
       "<tbody>\n",
       "\t<tr><th scope=row>1</th><td>4933401J01Rik</td><td>0</td><td>0</td><td>0</td><td>0</td><td>0</td><td>0</td><td>0</td><td>0</td><td>0</td><td>0</td><td>0</td><td>0</td><td>0</td><td>0</td><td>0</td><td>0</td><td>0</td><td>0</td><td>0</td><td> 0</td><td>0</td><td>0</td><td>0</td><td>0</td><td>0</td><td>0</td><td>0</td><td>0</td><td>0</td><td>0</td><td>0</td><td>0</td><td>0</td><td>0</td><td>⋯</td><td>0</td><td>0</td><td>0</td><td>0</td><td>0</td><td>0</td><td>0</td><td>0</td><td>0</td><td>0</td><td>0</td><td>0</td><td>0</td><td>0</td><td>0</td><td>0</td><td>0</td><td>0</td><td>0</td><td>0</td><td>0</td><td>0</td><td>0</td><td>0</td><td>0</td><td>0</td><td>0</td><td>0</td><td>0</td><td>0</td><td>0</td><td>0</td><td>0</td><td>0</td><td>0</td></tr>\n",
       "\t<tr><th scope=row>2</th><td>Gm26206      </td><td>0</td><td>0</td><td>0</td><td>0</td><td>0</td><td>0</td><td>0</td><td>0</td><td>0</td><td>0</td><td>0</td><td>0</td><td>0</td><td>0</td><td>0</td><td>0</td><td>0</td><td>0</td><td>0</td><td> 0</td><td>0</td><td>0</td><td>0</td><td>0</td><td>0</td><td>0</td><td>0</td><td>0</td><td>0</td><td>0</td><td>0</td><td>0</td><td>0</td><td>0</td><td>⋯</td><td>0</td><td>0</td><td>0</td><td>0</td><td>0</td><td>0</td><td>0</td><td>0</td><td>0</td><td>0</td><td>0</td><td>0</td><td>0</td><td>0</td><td>0</td><td>0</td><td>0</td><td>0</td><td>0</td><td>0</td><td>0</td><td>0</td><td>0</td><td>0</td><td>0</td><td>0</td><td>0</td><td>0</td><td>0</td><td>0</td><td>0</td><td>0</td><td>0</td><td>0</td><td>0</td></tr>\n",
       "\t<tr><th scope=row>3</th><td>Xkr4         </td><td>0</td><td>0</td><td>0</td><td>0</td><td>0</td><td>0</td><td>0</td><td>0</td><td>0</td><td>0</td><td>0</td><td>6</td><td>0</td><td>0</td><td>0</td><td>0</td><td>0</td><td>0</td><td>0</td><td>19</td><td>0</td><td>0</td><td>0</td><td>0</td><td>0</td><td>0</td><td>0</td><td>0</td><td>0</td><td>0</td><td>0</td><td>0</td><td>0</td><td>0</td><td>⋯</td><td>0</td><td>0</td><td>0</td><td>0</td><td>0</td><td>0</td><td>0</td><td>0</td><td>0</td><td>0</td><td>0</td><td>0</td><td>0</td><td>0</td><td>0</td><td>0</td><td>0</td><td>0</td><td>0</td><td>0</td><td>0</td><td>0</td><td>0</td><td>0</td><td>0</td><td>0</td><td>0</td><td>0</td><td>0</td><td>0</td><td>0</td><td>0</td><td>0</td><td>1</td><td>0</td></tr>\n",
       "\t<tr><th scope=row>⋮</th><td>⋮</td><td>⋮</td><td>⋮</td><td>⋮</td><td>⋮</td><td>⋮</td><td>⋮</td><td>⋮</td><td>⋮</td><td>⋮</td><td>⋮</td><td>⋮</td><td>⋮</td><td>⋮</td><td>⋮</td><td>⋮</td><td>⋮</td><td>⋮</td><td>⋮</td><td>⋮</td><td>⋮</td><td>⋮</td><td>⋮</td><td>⋮</td><td>⋮</td><td>⋮</td><td>⋮</td><td>⋮</td><td>⋮</td><td>⋮</td><td>⋮</td><td>⋮</td><td>⋮</td><td>⋮</td><td>⋮</td><td>⋱</td><td>⋮</td><td>⋮</td><td>⋮</td><td>⋮</td><td>⋮</td><td>⋮</td><td>⋮</td><td>⋮</td><td>⋮</td><td>⋮</td><td>⋮</td><td>⋮</td><td>⋮</td><td>⋮</td><td>⋮</td><td>⋮</td><td>⋮</td><td>⋮</td><td>⋮</td><td>⋮</td><td>⋮</td><td>⋮</td><td>⋮</td><td>⋮</td><td>⋮</td><td>⋮</td><td>⋮</td><td>⋮</td><td>⋮</td><td>⋮</td><td>⋮</td><td>⋮</td><td>⋮</td><td>⋮</td><td>⋮</td></tr>\n",
       "\t<tr><th scope=row>5</th><td>Gm37180</td><td>0</td><td>0</td><td>0</td><td>0</td><td>0</td><td>0</td><td>0</td><td>0</td><td>0</td><td>0</td><td>0</td><td>0</td><td>0</td><td>0</td><td>0</td><td>0</td><td>0</td><td>0</td><td>0</td><td>0</td><td>0</td><td>0</td><td>0</td><td>0</td><td>0</td><td>0</td><td>0</td><td>0</td><td>0</td><td>0</td><td>0</td><td>0</td><td>0</td><td>0</td><td>⋯</td><td>0</td><td>0</td><td>0</td><td>0</td><td>0</td><td>0</td><td>0</td><td>0</td><td>0</td><td>0</td><td>0</td><td>0</td><td>0</td><td>0</td><td>0</td><td>0</td><td>0</td><td>0</td><td>0</td><td>0</td><td>0</td><td>0</td><td>0</td><td>0</td><td>0</td><td>0</td><td>0</td><td>0</td><td>0</td><td>0</td><td>0</td><td>0</td><td>0</td><td>0</td><td>0</td></tr>\n",
       "\t<tr><th scope=row>6</th><td>Gm37363</td><td>0</td><td>0</td><td>0</td><td>0</td><td>0</td><td>0</td><td>0</td><td>0</td><td>0</td><td>0</td><td>0</td><td>0</td><td>0</td><td>0</td><td>0</td><td>0</td><td>0</td><td>0</td><td>0</td><td>0</td><td>0</td><td>0</td><td>0</td><td>0</td><td>0</td><td>0</td><td>0</td><td>0</td><td>0</td><td>0</td><td>0</td><td>0</td><td>0</td><td>0</td><td>⋯</td><td>0</td><td>0</td><td>0</td><td>0</td><td>0</td><td>0</td><td>0</td><td>0</td><td>0</td><td>0</td><td>0</td><td>0</td><td>0</td><td>0</td><td>0</td><td>0</td><td>0</td><td>0</td><td>0</td><td>0</td><td>0</td><td>0</td><td>0</td><td>0</td><td>0</td><td>0</td><td>0</td><td>0</td><td>0</td><td>0</td><td>0</td><td>0</td><td>0</td><td>0</td><td>0</td></tr>\n",
       "</tbody>\n",
       "</table>\n"
      ],
      "text/latex": [
       "A data.frame: 6 × 193\n",
       "\\begin{tabular}{r|lllllllllllllllllllllllllllllllllllllllllllllllllllllllllllllllllllllll}\n",
       "  & X & plate1\\_A01 & plate1\\_A02 & plate1\\_A03 & plate1\\_A04 & plate1\\_A05 & plate1\\_A06 & plate1\\_A07 & plate1\\_A08 & plate1\\_A09 & plate1\\_A10 & plate1\\_A11 & plate1\\_A12 & plate1\\_B01 & plate1\\_B02 & plate1\\_B03 & plate1\\_B04 & plate1\\_B05 & plate1\\_B06 & plate1\\_B07 & plate1\\_B08 & plate1\\_B09 & plate1\\_B10 & plate1\\_B11 & plate1\\_B12 & plate1\\_C01 & plate1\\_C02 & plate1\\_C03 & plate1\\_C04 & plate1\\_C05 & plate1\\_C06 & plate1\\_C07 & plate1\\_C08 & plate1\\_C09 & plate1\\_C10 & ⋯ & plate2\\_F02 & plate2\\_F03 & plate2\\_F04 & plate2\\_F05 & plate2\\_F06 & plate2\\_F07 & plate2\\_F08 & plate2\\_F09 & plate2\\_F10 & plate2\\_F11 & plate2\\_F12 & plate2\\_G01 & plate2\\_G02 & plate2\\_G03 & plate2\\_G04 & plate2\\_G05 & plate2\\_G06 & plate2\\_G07 & plate2\\_G08 & plate2\\_G09 & plate2\\_G10 & plate2\\_G11 & plate2\\_G12 & plate2\\_H01 & plate2\\_H02 & plate2\\_H03 & plate2\\_H04 & plate2\\_H05 & plate2\\_H06 & plate2\\_H07 & plate2\\_H08 & plate2\\_H09 & plate2\\_H10 & plate2\\_H11 & plate2\\_H12\\\\\n",
       "  & <chr> & <int> & <int> & <int> & <int> & <int> & <int> & <int> & <int> & <int> & <int> & <int> & <int> & <int> & <int> & <int> & <int> & <int> & <int> & <int> & <int> & <int> & <int> & <int> & <int> & <int> & <int> & <int> & <int> & <int> & <int> & <int> & <int> & <int> & <int> & ⋯ & <int> & <int> & <int> & <int> & <int> & <int> & <int> & <int> & <int> & <int> & <int> & <int> & <int> & <int> & <int> & <int> & <int> & <int> & <int> & <int> & <int> & <int> & <int> & <int> & <int> & <int> & <int> & <int> & <int> & <int> & <int> & <int> & <int> & <int> & <int>\\\\\n",
       "\\hline\n",
       "\t1 & 4933401J01Rik & 0 & 0 & 0 & 0 & 0 & 0 & 0 & 0 & 0 & 0 & 0 & 0 & 0 & 0 & 0 & 0 & 0 & 0 & 0 &  0 & 0 & 0 & 0 & 0 & 0 & 0 & 0 & 0 & 0 & 0 & 0 & 0 & 0 & 0 & ⋯ & 0 & 0 & 0 & 0 & 0 & 0 & 0 & 0 & 0 & 0 & 0 & 0 & 0 & 0 & 0 & 0 & 0 & 0 & 0 & 0 & 0 & 0 & 0 & 0 & 0 & 0 & 0 & 0 & 0 & 0 & 0 & 0 & 0 & 0 & 0\\\\\n",
       "\t2 & Gm26206       & 0 & 0 & 0 & 0 & 0 & 0 & 0 & 0 & 0 & 0 & 0 & 0 & 0 & 0 & 0 & 0 & 0 & 0 & 0 &  0 & 0 & 0 & 0 & 0 & 0 & 0 & 0 & 0 & 0 & 0 & 0 & 0 & 0 & 0 & ⋯ & 0 & 0 & 0 & 0 & 0 & 0 & 0 & 0 & 0 & 0 & 0 & 0 & 0 & 0 & 0 & 0 & 0 & 0 & 0 & 0 & 0 & 0 & 0 & 0 & 0 & 0 & 0 & 0 & 0 & 0 & 0 & 0 & 0 & 0 & 0\\\\\n",
       "\t3 & Xkr4          & 0 & 0 & 0 & 0 & 0 & 0 & 0 & 0 & 0 & 0 & 0 & 6 & 0 & 0 & 0 & 0 & 0 & 0 & 0 & 19 & 0 & 0 & 0 & 0 & 0 & 0 & 0 & 0 & 0 & 0 & 0 & 0 & 0 & 0 & ⋯ & 0 & 0 & 0 & 0 & 0 & 0 & 0 & 0 & 0 & 0 & 0 & 0 & 0 & 0 & 0 & 0 & 0 & 0 & 0 & 0 & 0 & 0 & 0 & 0 & 0 & 0 & 0 & 0 & 0 & 0 & 0 & 0 & 0 & 1 & 0\\\\\n",
       "\t⋮ & ⋮ & ⋮ & ⋮ & ⋮ & ⋮ & ⋮ & ⋮ & ⋮ & ⋮ & ⋮ & ⋮ & ⋮ & ⋮ & ⋮ & ⋮ & ⋮ & ⋮ & ⋮ & ⋮ & ⋮ & ⋮ & ⋮ & ⋮ & ⋮ & ⋮ & ⋮ & ⋮ & ⋮ & ⋮ & ⋮ & ⋮ & ⋮ & ⋮ & ⋮ & ⋮ & ⋱ & ⋮ & ⋮ & ⋮ & ⋮ & ⋮ & ⋮ & ⋮ & ⋮ & ⋮ & ⋮ & ⋮ & ⋮ & ⋮ & ⋮ & ⋮ & ⋮ & ⋮ & ⋮ & ⋮ & ⋮ & ⋮ & ⋮ & ⋮ & ⋮ & ⋮ & ⋮ & ⋮ & ⋮ & ⋮ & ⋮ & ⋮ & ⋮ & ⋮ & ⋮ & ⋮\\\\\n",
       "\t5 & Gm37180 & 0 & 0 & 0 & 0 & 0 & 0 & 0 & 0 & 0 & 0 & 0 & 0 & 0 & 0 & 0 & 0 & 0 & 0 & 0 & 0 & 0 & 0 & 0 & 0 & 0 & 0 & 0 & 0 & 0 & 0 & 0 & 0 & 0 & 0 & ⋯ & 0 & 0 & 0 & 0 & 0 & 0 & 0 & 0 & 0 & 0 & 0 & 0 & 0 & 0 & 0 & 0 & 0 & 0 & 0 & 0 & 0 & 0 & 0 & 0 & 0 & 0 & 0 & 0 & 0 & 0 & 0 & 0 & 0 & 0 & 0\\\\\n",
       "\t6 & Gm37363 & 0 & 0 & 0 & 0 & 0 & 0 & 0 & 0 & 0 & 0 & 0 & 0 & 0 & 0 & 0 & 0 & 0 & 0 & 0 & 0 & 0 & 0 & 0 & 0 & 0 & 0 & 0 & 0 & 0 & 0 & 0 & 0 & 0 & 0 & ⋯ & 0 & 0 & 0 & 0 & 0 & 0 & 0 & 0 & 0 & 0 & 0 & 0 & 0 & 0 & 0 & 0 & 0 & 0 & 0 & 0 & 0 & 0 & 0 & 0 & 0 & 0 & 0 & 0 & 0 & 0 & 0 & 0 & 0 & 0 & 0\\\\\n",
       "\\end{tabular}\n"
      ],
      "text/markdown": [
       "\n",
       "A data.frame: 6 × 193\n",
       "\n",
       "| <!--/--> | X &lt;chr&gt; | plate1_A01 &lt;int&gt; | plate1_A02 &lt;int&gt; | plate1_A03 &lt;int&gt; | plate1_A04 &lt;int&gt; | plate1_A05 &lt;int&gt; | plate1_A06 &lt;int&gt; | plate1_A07 &lt;int&gt; | plate1_A08 &lt;int&gt; | plate1_A09 &lt;int&gt; | plate1_A10 &lt;int&gt; | plate1_A11 &lt;int&gt; | plate1_A12 &lt;int&gt; | plate1_B01 &lt;int&gt; | plate1_B02 &lt;int&gt; | plate1_B03 &lt;int&gt; | plate1_B04 &lt;int&gt; | plate1_B05 &lt;int&gt; | plate1_B06 &lt;int&gt; | plate1_B07 &lt;int&gt; | plate1_B08 &lt;int&gt; | plate1_B09 &lt;int&gt; | plate1_B10 &lt;int&gt; | plate1_B11 &lt;int&gt; | plate1_B12 &lt;int&gt; | plate1_C01 &lt;int&gt; | plate1_C02 &lt;int&gt; | plate1_C03 &lt;int&gt; | plate1_C04 &lt;int&gt; | plate1_C05 &lt;int&gt; | plate1_C06 &lt;int&gt; | plate1_C07 &lt;int&gt; | plate1_C08 &lt;int&gt; | plate1_C09 &lt;int&gt; | plate1_C10 &lt;int&gt; | ⋯ ⋯ | plate2_F02 &lt;int&gt; | plate2_F03 &lt;int&gt; | plate2_F04 &lt;int&gt; | plate2_F05 &lt;int&gt; | plate2_F06 &lt;int&gt; | plate2_F07 &lt;int&gt; | plate2_F08 &lt;int&gt; | plate2_F09 &lt;int&gt; | plate2_F10 &lt;int&gt; | plate2_F11 &lt;int&gt; | plate2_F12 &lt;int&gt; | plate2_G01 &lt;int&gt; | plate2_G02 &lt;int&gt; | plate2_G03 &lt;int&gt; | plate2_G04 &lt;int&gt; | plate2_G05 &lt;int&gt; | plate2_G06 &lt;int&gt; | plate2_G07 &lt;int&gt; | plate2_G08 &lt;int&gt; | plate2_G09 &lt;int&gt; | plate2_G10 &lt;int&gt; | plate2_G11 &lt;int&gt; | plate2_G12 &lt;int&gt; | plate2_H01 &lt;int&gt; | plate2_H02 &lt;int&gt; | plate2_H03 &lt;int&gt; | plate2_H04 &lt;int&gt; | plate2_H05 &lt;int&gt; | plate2_H06 &lt;int&gt; | plate2_H07 &lt;int&gt; | plate2_H08 &lt;int&gt; | plate2_H09 &lt;int&gt; | plate2_H10 &lt;int&gt; | plate2_H11 &lt;int&gt; | plate2_H12 &lt;int&gt; |\n",
       "|---|---|---|---|---|---|---|---|---|---|---|---|---|---|---|---|---|---|---|---|---|---|---|---|---|---|---|---|---|---|---|---|---|---|---|---|---|---|---|---|---|---|---|---|---|---|---|---|---|---|---|---|---|---|---|---|---|---|---|---|---|---|---|---|---|---|---|---|---|---|---|---|\n",
       "| 1 | 4933401J01Rik | 0 | 0 | 0 | 0 | 0 | 0 | 0 | 0 | 0 | 0 | 0 | 0 | 0 | 0 | 0 | 0 | 0 | 0 | 0 |  0 | 0 | 0 | 0 | 0 | 0 | 0 | 0 | 0 | 0 | 0 | 0 | 0 | 0 | 0 | ⋯ | 0 | 0 | 0 | 0 | 0 | 0 | 0 | 0 | 0 | 0 | 0 | 0 | 0 | 0 | 0 | 0 | 0 | 0 | 0 | 0 | 0 | 0 | 0 | 0 | 0 | 0 | 0 | 0 | 0 | 0 | 0 | 0 | 0 | 0 | 0 |\n",
       "| 2 | Gm26206       | 0 | 0 | 0 | 0 | 0 | 0 | 0 | 0 | 0 | 0 | 0 | 0 | 0 | 0 | 0 | 0 | 0 | 0 | 0 |  0 | 0 | 0 | 0 | 0 | 0 | 0 | 0 | 0 | 0 | 0 | 0 | 0 | 0 | 0 | ⋯ | 0 | 0 | 0 | 0 | 0 | 0 | 0 | 0 | 0 | 0 | 0 | 0 | 0 | 0 | 0 | 0 | 0 | 0 | 0 | 0 | 0 | 0 | 0 | 0 | 0 | 0 | 0 | 0 | 0 | 0 | 0 | 0 | 0 | 0 | 0 |\n",
       "| 3 | Xkr4          | 0 | 0 | 0 | 0 | 0 | 0 | 0 | 0 | 0 | 0 | 0 | 6 | 0 | 0 | 0 | 0 | 0 | 0 | 0 | 19 | 0 | 0 | 0 | 0 | 0 | 0 | 0 | 0 | 0 | 0 | 0 | 0 | 0 | 0 | ⋯ | 0 | 0 | 0 | 0 | 0 | 0 | 0 | 0 | 0 | 0 | 0 | 0 | 0 | 0 | 0 | 0 | 0 | 0 | 0 | 0 | 0 | 0 | 0 | 0 | 0 | 0 | 0 | 0 | 0 | 0 | 0 | 0 | 0 | 1 | 0 |\n",
       "| ⋮ | ⋮ | ⋮ | ⋮ | ⋮ | ⋮ | ⋮ | ⋮ | ⋮ | ⋮ | ⋮ | ⋮ | ⋮ | ⋮ | ⋮ | ⋮ | ⋮ | ⋮ | ⋮ | ⋮ | ⋮ | ⋮ | ⋮ | ⋮ | ⋮ | ⋮ | ⋮ | ⋮ | ⋮ | ⋮ | ⋮ | ⋮ | ⋮ | ⋮ | ⋮ | ⋮ | ⋱ | ⋮ | ⋮ | ⋮ | ⋮ | ⋮ | ⋮ | ⋮ | ⋮ | ⋮ | ⋮ | ⋮ | ⋮ | ⋮ | ⋮ | ⋮ | ⋮ | ⋮ | ⋮ | ⋮ | ⋮ | ⋮ | ⋮ | ⋮ | ⋮ | ⋮ | ⋮ | ⋮ | ⋮ | ⋮ | ⋮ | ⋮ | ⋮ | ⋮ | ⋮ | ⋮ |\n",
       "| 5 | Gm37180 | 0 | 0 | 0 | 0 | 0 | 0 | 0 | 0 | 0 | 0 | 0 | 0 | 0 | 0 | 0 | 0 | 0 | 0 | 0 | 0 | 0 | 0 | 0 | 0 | 0 | 0 | 0 | 0 | 0 | 0 | 0 | 0 | 0 | 0 | ⋯ | 0 | 0 | 0 | 0 | 0 | 0 | 0 | 0 | 0 | 0 | 0 | 0 | 0 | 0 | 0 | 0 | 0 | 0 | 0 | 0 | 0 | 0 | 0 | 0 | 0 | 0 | 0 | 0 | 0 | 0 | 0 | 0 | 0 | 0 | 0 |\n",
       "| 6 | Gm37363 | 0 | 0 | 0 | 0 | 0 | 0 | 0 | 0 | 0 | 0 | 0 | 0 | 0 | 0 | 0 | 0 | 0 | 0 | 0 | 0 | 0 | 0 | 0 | 0 | 0 | 0 | 0 | 0 | 0 | 0 | 0 | 0 | 0 | 0 | ⋯ | 0 | 0 | 0 | 0 | 0 | 0 | 0 | 0 | 0 | 0 | 0 | 0 | 0 | 0 | 0 | 0 | 0 | 0 | 0 | 0 | 0 | 0 | 0 | 0 | 0 | 0 | 0 | 0 | 0 | 0 | 0 | 0 | 0 | 0 | 0 |\n",
       "\n"
      ],
      "text/plain": [
       "       X             plate1_A01 plate1_A02 plate1_A03 plate1_A04 plate1_A05\n",
       "1      4933401J01Rik 0          0          0          0          0         \n",
       "2      Gm26206       0          0          0          0          0         \n",
       "3      Xkr4          0          0          0          0          0         \n",
       "<U+22EE> <U+22EE>      <U+22EE>   <U+22EE>   <U+22EE>   <U+22EE>   <U+22EE>  \n",
       "5      Gm37180       0          0          0          0          0         \n",
       "6      Gm37363       0          0          0          0          0         \n",
       "       plate1_A06 plate1_A07 plate1_A08 plate1_A09 plate1_A10 plate1_A11\n",
       "1      0          0          0          0          0          0         \n",
       "2      0          0          0          0          0          0         \n",
       "3      0          0          0          0          0          0         \n",
       "<U+22EE> <U+22EE>   <U+22EE>   <U+22EE>   <U+22EE>   <U+22EE>   <U+22EE>  \n",
       "5      0          0          0          0          0          0         \n",
       "6      0          0          0          0          0          0         \n",
       "       plate1_A12 plate1_B01 plate1_B02 plate1_B03 plate1_B04 plate1_B05\n",
       "1      0          0          0          0          0          0         \n",
       "2      0          0          0          0          0          0         \n",
       "3      6          0          0          0          0          0         \n",
       "<U+22EE> <U+22EE>   <U+22EE>   <U+22EE>   <U+22EE>   <U+22EE>   <U+22EE>  \n",
       "5      0          0          0          0          0          0         \n",
       "6      0          0          0          0          0          0         \n",
       "       plate1_B06 plate1_B07 plate1_B08 plate1_B09 plate1_B10 plate1_B11\n",
       "1      0          0           0         0          0          0         \n",
       "2      0          0           0         0          0          0         \n",
       "3      0          0          19         0          0          0         \n",
       "<U+22EE> <U+22EE>   <U+22EE>   <U+22EE>   <U+22EE>   <U+22EE>   <U+22EE>  \n",
       "5      0          0          0          0          0          0         \n",
       "6      0          0          0          0          0          0         \n",
       "       plate1_B12 plate1_C01 plate1_C02 plate1_C03 plate1_C04 plate1_C05\n",
       "1      0          0          0          0          0          0         \n",
       "2      0          0          0          0          0          0         \n",
       "3      0          0          0          0          0          0         \n",
       "<U+22EE> <U+22EE>   <U+22EE>   <U+22EE>   <U+22EE>   <U+22EE>   <U+22EE>  \n",
       "5      0          0          0          0          0          0         \n",
       "6      0          0          0          0          0          0         \n",
       "       plate1_C06 plate1_C07 plate1_C08 plate1_C09 plate1_C10 <U+22EF>  \n",
       "1      0          0          0          0          0          <U+22EF>\n",
       "2      0          0          0          0          0          <U+22EF>\n",
       "3      0          0          0          0          0          <U+22EF>\n",
       "<U+22EE> <U+22EE>   <U+22EE>   <U+22EE>   <U+22EE>   <U+22EE>   <U+22F1>\n",
       "5      0          0          0          0          0          <U+22EF>\n",
       "6      0          0          0          0          0          <U+22EF>\n",
       "       plate2_F02 plate2_F03 plate2_F04 plate2_F05 plate2_F06 plate2_F07\n",
       "1      0          0          0          0          0          0         \n",
       "2      0          0          0          0          0          0         \n",
       "3      0          0          0          0          0          0         \n",
       "<U+22EE> <U+22EE>   <U+22EE>   <U+22EE>   <U+22EE>   <U+22EE>   <U+22EE>  \n",
       "5      0          0          0          0          0          0         \n",
       "6      0          0          0          0          0          0         \n",
       "       plate2_F08 plate2_F09 plate2_F10 plate2_F11 plate2_F12 plate2_G01\n",
       "1      0          0          0          0          0          0         \n",
       "2      0          0          0          0          0          0         \n",
       "3      0          0          0          0          0          0         \n",
       "<U+22EE> <U+22EE>   <U+22EE>   <U+22EE>   <U+22EE>   <U+22EE>   <U+22EE>  \n",
       "5      0          0          0          0          0          0         \n",
       "6      0          0          0          0          0          0         \n",
       "       plate2_G02 plate2_G03 plate2_G04 plate2_G05 plate2_G06 plate2_G07\n",
       "1      0          0          0          0          0          0         \n",
       "2      0          0          0          0          0          0         \n",
       "3      0          0          0          0          0          0         \n",
       "<U+22EE> <U+22EE>   <U+22EE>   <U+22EE>   <U+22EE>   <U+22EE>   <U+22EE>  \n",
       "5      0          0          0          0          0          0         \n",
       "6      0          0          0          0          0          0         \n",
       "       plate2_G08 plate2_G09 plate2_G10 plate2_G11 plate2_G12 plate2_H01\n",
       "1      0          0          0          0          0          0         \n",
       "2      0          0          0          0          0          0         \n",
       "3      0          0          0          0          0          0         \n",
       "<U+22EE> <U+22EE>   <U+22EE>   <U+22EE>   <U+22EE>   <U+22EE>   <U+22EE>  \n",
       "5      0          0          0          0          0          0         \n",
       "6      0          0          0          0          0          0         \n",
       "       plate2_H02 plate2_H03 plate2_H04 plate2_H05 plate2_H06 plate2_H07\n",
       "1      0          0          0          0          0          0         \n",
       "2      0          0          0          0          0          0         \n",
       "3      0          0          0          0          0          0         \n",
       "<U+22EE> <U+22EE>   <U+22EE>   <U+22EE>   <U+22EE>   <U+22EE>   <U+22EE>  \n",
       "5      0          0          0          0          0          0         \n",
       "6      0          0          0          0          0          0         \n",
       "       plate2_H08 plate2_H09 plate2_H10 plate2_H11 plate2_H12\n",
       "1      0          0          0          0          0         \n",
       "2      0          0          0          0          0         \n",
       "3      0          0          0          1          0         \n",
       "<U+22EE> <U+22EE>   <U+22EE>   <U+22EE>   <U+22EE>   <U+22EE>  \n",
       "5      0          0          0          0          0         \n",
       "6      0          0          0          0          0         "
      ]
     },
     "metadata": {},
     "output_type": "display_data"
    }
   ],
   "source": [
    "head(nonallelic_XO_counts)"
   ]
  },
  {
   "cell_type": "code",
   "execution_count": 157,
   "metadata": {},
   "outputs": [
    {
     "data": {
      "text/html": [
       "193"
      ],
      "text/latex": [
       "193"
      ],
      "text/markdown": [
       "193"
      ],
      "text/plain": [
       "[1] 193"
      ]
     },
     "metadata": {},
     "output_type": "display_data"
    }
   ],
   "source": [
    "ncol(nonallelic_XO_counts)"
   ]
  },
  {
   "cell_type": "code",
   "execution_count": 158,
   "metadata": {},
   "outputs": [],
   "source": [
    "gathered_df <- gather(nonallelic_XO_counts, \"RNA_id\", \"counts\", 2:193)"
   ]
  },
  {
   "cell_type": "code",
   "execution_count": 159,
   "metadata": {},
   "outputs": [
    {
     "data": {
      "text/html": [
       "<table class=\"dataframe\">\n",
       "<caption>A data.frame: 6 × 3</caption>\n",
       "<thead>\n",
       "\t<tr><th></th><th scope=col>X</th><th scope=col>RNA_id</th><th scope=col>counts</th></tr>\n",
       "\t<tr><th></th><th scope=col>&lt;chr&gt;</th><th scope=col>&lt;chr&gt;</th><th scope=col>&lt;int&gt;</th></tr>\n",
       "</thead>\n",
       "<tbody>\n",
       "\t<tr><th scope=row>1</th><td>4933401J01Rik</td><td>plate1_A01</td><td>0</td></tr>\n",
       "\t<tr><th scope=row>2</th><td>Gm26206      </td><td>plate1_A01</td><td>0</td></tr>\n",
       "\t<tr><th scope=row>3</th><td>Xkr4         </td><td>plate1_A01</td><td>0</td></tr>\n",
       "\t<tr><th scope=row>⋮</th><td>⋮</td><td>⋮</td><td>⋮</td></tr>\n",
       "\t<tr><th scope=row>5</th><td>Gm37180</td><td>plate1_A01</td><td>0</td></tr>\n",
       "\t<tr><th scope=row>6</th><td>Gm37363</td><td>plate1_A01</td><td>0</td></tr>\n",
       "</tbody>\n",
       "</table>\n"
      ],
      "text/latex": [
       "A data.frame: 6 × 3\n",
       "\\begin{tabular}{r|lll}\n",
       "  & X & RNA\\_id & counts\\\\\n",
       "  & <chr> & <chr> & <int>\\\\\n",
       "\\hline\n",
       "\t1 & 4933401J01Rik & plate1\\_A01 & 0\\\\\n",
       "\t2 & Gm26206       & plate1\\_A01 & 0\\\\\n",
       "\t3 & Xkr4          & plate1\\_A01 & 0\\\\\n",
       "\t⋮ & ⋮ & ⋮ & ⋮\\\\\n",
       "\t5 & Gm37180 & plate1\\_A01 & 0\\\\\n",
       "\t6 & Gm37363 & plate1\\_A01 & 0\\\\\n",
       "\\end{tabular}\n"
      ],
      "text/markdown": [
       "\n",
       "A data.frame: 6 × 3\n",
       "\n",
       "| <!--/--> | X &lt;chr&gt; | RNA_id &lt;chr&gt; | counts &lt;int&gt; |\n",
       "|---|---|---|---|\n",
       "| 1 | 4933401J01Rik | plate1_A01 | 0 |\n",
       "| 2 | Gm26206       | plate1_A01 | 0 |\n",
       "| 3 | Xkr4          | plate1_A01 | 0 |\n",
       "| ⋮ | ⋮ | ⋮ | ⋮ |\n",
       "| 5 | Gm37180 | plate1_A01 | 0 |\n",
       "| 6 | Gm37363 | plate1_A01 | 0 |\n",
       "\n"
      ],
      "text/plain": [
       "       X             RNA_id     counts\n",
       "1      4933401J01Rik plate1_A01 0     \n",
       "2      Gm26206       plate1_A01 0     \n",
       "3      Xkr4          plate1_A01 0     \n",
       "<U+22EE> <U+22EE>      <U+22EE>   <U+22EE>\n",
       "5      Gm37180       plate1_A01 0     \n",
       "6      Gm37363       plate1_A01 0     "
      ]
     },
     "metadata": {},
     "output_type": "display_data"
    }
   ],
   "source": [
    "head(gathered_df)"
   ]
  },
  {
   "cell_type": "code",
   "execution_count": 162,
   "metadata": {},
   "outputs": [
    {
     "data": {
      "text/html": [
       "10632192"
      ],
      "text/latex": [
       "10632192"
      ],
      "text/markdown": [
       "10632192"
      ],
      "text/plain": [
       "[1] 10632192"
      ]
     },
     "metadata": {},
     "output_type": "display_data"
    }
   ],
   "source": [
    "nrow(gathered_df)"
   ]
  },
  {
   "cell_type": "code",
   "execution_count": 160,
   "metadata": {},
   "outputs": [],
   "source": [
    "gathered_df_anno <- merge(gathered_df, annotation, by.x=\"RNA_id\", by.y=\"RNA_id\")"
   ]
  },
  {
   "cell_type": "code",
   "execution_count": 161,
   "metadata": {},
   "outputs": [
    {
     "data": {
      "text/html": [
       "<table class=\"dataframe\">\n",
       "<caption>A data.frame: 6 × 4</caption>\n",
       "<thead>\n",
       "\t<tr><th></th><th scope=col>RNA_id</th><th scope=col>X</th><th scope=col>counts</th><th scope=col>group</th></tr>\n",
       "\t<tr><th></th><th scope=col>&lt;chr&gt;</th><th scope=col>&lt;chr&gt;</th><th scope=col>&lt;int&gt;</th><th scope=col>&lt;chr&gt;</th></tr>\n",
       "</thead>\n",
       "<tbody>\n",
       "\t<tr><th scope=row>1</th><td>plate1_C07</td><td>Il31ra </td><td>0</td><td>bi_allelic</td></tr>\n",
       "\t<tr><th scope=row>2</th><td>plate1_C07</td><td>Gm47040</td><td>0</td><td>bi_allelic</td></tr>\n",
       "\t<tr><th scope=row>3</th><td>plate1_C07</td><td>Gm47464</td><td>0</td><td>bi_allelic</td></tr>\n",
       "\t<tr><th scope=row>⋮</th><td>⋮</td><td>⋮</td><td>⋮</td><td>⋮</td></tr>\n",
       "\t<tr><th scope=row>5</th><td>plate1_C07</td><td>Gzmk </td><td>0</td><td>bi_allelic</td></tr>\n",
       "\t<tr><th scope=row>6</th><td>plate1_C07</td><td>Arl15</td><td>5</td><td>bi_allelic</td></tr>\n",
       "</tbody>\n",
       "</table>\n"
      ],
      "text/latex": [
       "A data.frame: 6 × 4\n",
       "\\begin{tabular}{r|llll}\n",
       "  & RNA\\_id & X & counts & group\\\\\n",
       "  & <chr> & <chr> & <int> & <chr>\\\\\n",
       "\\hline\n",
       "\t1 & plate1\\_C07 & Il31ra  & 0 & bi\\_allelic\\\\\n",
       "\t2 & plate1\\_C07 & Gm47040 & 0 & bi\\_allelic\\\\\n",
       "\t3 & plate1\\_C07 & Gm47464 & 0 & bi\\_allelic\\\\\n",
       "\t⋮ & ⋮ & ⋮ & ⋮ & ⋮\\\\\n",
       "\t5 & plate1\\_C07 & Gzmk  & 0 & bi\\_allelic\\\\\n",
       "\t6 & plate1\\_C07 & Arl15 & 5 & bi\\_allelic\\\\\n",
       "\\end{tabular}\n"
      ],
      "text/markdown": [
       "\n",
       "A data.frame: 6 × 4\n",
       "\n",
       "| <!--/--> | RNA_id &lt;chr&gt; | X &lt;chr&gt; | counts &lt;int&gt; | group &lt;chr&gt; |\n",
       "|---|---|---|---|---|\n",
       "| 1 | plate1_C07 | Il31ra  | 0 | bi_allelic |\n",
       "| 2 | plate1_C07 | Gm47040 | 0 | bi_allelic |\n",
       "| 3 | plate1_C07 | Gm47464 | 0 | bi_allelic |\n",
       "| ⋮ | ⋮ | ⋮ | ⋮ | ⋮ |\n",
       "| 5 | plate1_C07 | Gzmk  | 0 | bi_allelic |\n",
       "| 6 | plate1_C07 | Arl15 | 5 | bi_allelic |\n",
       "\n"
      ],
      "text/plain": [
       "       RNA_id     X       counts group     \n",
       "1      plate1_C07 Il31ra  0      bi_allelic\n",
       "2      plate1_C07 Gm47040 0      bi_allelic\n",
       "3      plate1_C07 Gm47464 0      bi_allelic\n",
       "<U+22EE> <U+22EE>   <U+22EE> <U+22EE> <U+22EE>  \n",
       "5      plate1_C07 Gzmk    0      bi_allelic\n",
       "6      plate1_C07 Arl15   5      bi_allelic"
      ]
     },
     "metadata": {},
     "output_type": "display_data"
    }
   ],
   "source": [
    "head(gathered_df_anno)"
   ]
  },
  {
   "cell_type": "code",
   "execution_count": 164,
   "metadata": {},
   "outputs": [
    {
     "data": {
      "text/html": [
       "2768800"
      ],
      "text/latex": [
       "2768800"
      ],
      "text/markdown": [
       "2768800"
      ],
      "text/plain": [
       "[1] 2768800"
      ]
     },
     "metadata": {},
     "output_type": "display_data"
    }
   ],
   "source": [
    "nrow(gathered_df_anno)"
   ]
  },
  {
   "cell_type": "code",
   "execution_count": 167,
   "metadata": {},
   "outputs": [],
   "source": [
    "gathered_df_anno$cell_id <- paste(gathered_df_anno$RNA_id, \".\", gathered_df_anno$group)"
   ]
  },
  {
   "cell_type": "code",
   "execution_count": 169,
   "metadata": {},
   "outputs": [],
   "source": [
    "gathered_df_anno[1] <- NULL"
   ]
  },
  {
   "cell_type": "code",
   "execution_count": 171,
   "metadata": {},
   "outputs": [],
   "source": [
    "gathered_df_anno[3] <- NULL"
   ]
  },
  {
   "cell_type": "code",
   "execution_count": 172,
   "metadata": {},
   "outputs": [
    {
     "data": {
      "text/html": [
       "<table class=\"dataframe\">\n",
       "<caption>A data.frame: 6 × 3</caption>\n",
       "<thead>\n",
       "\t<tr><th></th><th scope=col>X</th><th scope=col>counts</th><th scope=col>cell_id</th></tr>\n",
       "\t<tr><th></th><th scope=col>&lt;chr&gt;</th><th scope=col>&lt;int&gt;</th><th scope=col>&lt;chr&gt;</th></tr>\n",
       "</thead>\n",
       "<tbody>\n",
       "\t<tr><th scope=row>1</th><td>Il31ra </td><td>0</td><td>plate1_C07 . bi_allelic</td></tr>\n",
       "\t<tr><th scope=row>2</th><td>Gm47040</td><td>0</td><td>plate1_C07 . bi_allelic</td></tr>\n",
       "\t<tr><th scope=row>3</th><td>Gm47464</td><td>0</td><td>plate1_C07 . bi_allelic</td></tr>\n",
       "\t<tr><th scope=row>⋮</th><td>⋮</td><td>⋮</td><td>⋮</td></tr>\n",
       "\t<tr><th scope=row>5</th><td>Gzmk </td><td>0</td><td>plate1_C07 . bi_allelic</td></tr>\n",
       "\t<tr><th scope=row>6</th><td>Arl15</td><td>5</td><td>plate1_C07 . bi_allelic</td></tr>\n",
       "</tbody>\n",
       "</table>\n"
      ],
      "text/latex": [
       "A data.frame: 6 × 3\n",
       "\\begin{tabular}{r|lll}\n",
       "  & X & counts & cell\\_id\\\\\n",
       "  & <chr> & <int> & <chr>\\\\\n",
       "\\hline\n",
       "\t1 & Il31ra  & 0 & plate1\\_C07 . bi\\_allelic\\\\\n",
       "\t2 & Gm47040 & 0 & plate1\\_C07 . bi\\_allelic\\\\\n",
       "\t3 & Gm47464 & 0 & plate1\\_C07 . bi\\_allelic\\\\\n",
       "\t⋮ & ⋮ & ⋮ & ⋮\\\\\n",
       "\t5 & Gzmk  & 0 & plate1\\_C07 . bi\\_allelic\\\\\n",
       "\t6 & Arl15 & 5 & plate1\\_C07 . bi\\_allelic\\\\\n",
       "\\end{tabular}\n"
      ],
      "text/markdown": [
       "\n",
       "A data.frame: 6 × 3\n",
       "\n",
       "| <!--/--> | X &lt;chr&gt; | counts &lt;int&gt; | cell_id &lt;chr&gt; |\n",
       "|---|---|---|---|\n",
       "| 1 | Il31ra  | 0 | plate1_C07 . bi_allelic |\n",
       "| 2 | Gm47040 | 0 | plate1_C07 . bi_allelic |\n",
       "| 3 | Gm47464 | 0 | plate1_C07 . bi_allelic |\n",
       "| ⋮ | ⋮ | ⋮ | ⋮ |\n",
       "| 5 | Gzmk  | 0 | plate1_C07 . bi_allelic |\n",
       "| 6 | Arl15 | 5 | plate1_C07 . bi_allelic |\n",
       "\n"
      ],
      "text/plain": [
       "       X       counts cell_id                \n",
       "1      Il31ra  0      plate1_C07 . bi_allelic\n",
       "2      Gm47040 0      plate1_C07 . bi_allelic\n",
       "3      Gm47464 0      plate1_C07 . bi_allelic\n",
       "<U+22EE> <U+22EE> <U+22EE> <U+22EE>               \n",
       "5      Gzmk    0      plate1_C07 . bi_allelic\n",
       "6      Arl15   5      plate1_C07 . bi_allelic"
      ]
     },
     "metadata": {},
     "output_type": "display_data"
    }
   ],
   "source": [
    "head(gathered_df_anno)"
   ]
  },
  {
   "cell_type": "code",
   "execution_count": 173,
   "metadata": {},
   "outputs": [],
   "source": [
    "X_loss_nonallelic_final <- spread(gathered_df_anno, \"cell_id\", \"counts\")"
   ]
  },
  {
   "cell_type": "code",
   "execution_count": 174,
   "metadata": {},
   "outputs": [
    {
     "data": {
      "text/html": [
       "<table class=\"dataframe\">\n",
       "<caption>A data.frame: 6 × 51</caption>\n",
       "<thead>\n",
       "\t<tr><th></th><th scope=col>X</th><th scope=col>plate1_C07 . bi_allelic</th><th scope=col>plate1_D02 . bi_allelic</th><th scope=col>plate1_E08 . bi_allelic</th><th scope=col>plate2_A02 . cast</th><th scope=col>plate2_A03 . cast</th><th scope=col>plate2_A04 . cast</th><th scope=col>plate2_A05 . cast</th><th scope=col>plate2_A06 . bi_allelic</th><th scope=col>plate2_B01 . mus</th><th scope=col>plate2_B02 . bi_allelic</th><th scope=col>plate2_B03 . bi_allelic</th><th scope=col>plate2_B04 . cast</th><th scope=col>plate2_B05 . mus</th><th scope=col>plate2_B06 . bi_allelic</th><th scope=col>plate2_C01 . mus</th><th scope=col>plate2_C02 . bi_allelic</th><th scope=col>plate2_C03 . bi_allelic</th><th scope=col>plate2_C04 . cast</th><th scope=col>plate2_C05 . cast</th><th scope=col>plate2_C06 . mus</th><th scope=col>plate2_D01 . mus</th><th scope=col>plate2_D02 . mus</th><th scope=col>plate2_D03 . bi_allelic</th><th scope=col>plate2_D04 . bi_allelic</th><th scope=col>plate2_D05 . bi_allelic</th><th scope=col>plate2_D06 . cast</th><th scope=col>plate2_E01 . mus</th><th scope=col>plate2_E02 . cast</th><th scope=col>plate2_E03 . bi_allelic</th><th scope=col>plate2_E04 . mus</th><th scope=col>plate2_E05 . bi_allelic</th><th scope=col>plate2_E06 . cast</th><th scope=col>plate2_F01 . bi_allelic</th><th scope=col>plate2_F02 . bi_allelic</th><th scope=col>plate2_F03 . bi_allelic</th><th scope=col>plate2_F04 . bi_allelic</th><th scope=col>plate2_F05 . cast</th><th scope=col>plate2_F06 . bi_allelic</th><th scope=col>plate2_G01 . cast</th><th scope=col>plate2_G02 . mus</th><th scope=col>plate2_G03 . bi_allelic</th><th scope=col>plate2_G04 . bi_allelic</th><th scope=col>plate2_G05 . cast</th><th scope=col>plate2_G06 . bi_allelic</th><th scope=col>plate2_H01 . bi_allelic</th><th scope=col>plate2_H02 . cast</th><th scope=col>plate2_H03 . bi_allelic</th><th scope=col>plate2_H04 . bi_allelic</th><th scope=col>plate2_H05 . cast</th><th scope=col>plate2_H06 . bi_allelic</th></tr>\n",
       "\t<tr><th></th><th scope=col>&lt;chr&gt;</th><th scope=col>&lt;int&gt;</th><th scope=col>&lt;int&gt;</th><th scope=col>&lt;int&gt;</th><th scope=col>&lt;int&gt;</th><th scope=col>&lt;int&gt;</th><th scope=col>&lt;int&gt;</th><th scope=col>&lt;int&gt;</th><th scope=col>&lt;int&gt;</th><th scope=col>&lt;int&gt;</th><th scope=col>&lt;int&gt;</th><th scope=col>&lt;int&gt;</th><th scope=col>&lt;int&gt;</th><th scope=col>&lt;int&gt;</th><th scope=col>&lt;int&gt;</th><th scope=col>&lt;int&gt;</th><th scope=col>&lt;int&gt;</th><th scope=col>&lt;int&gt;</th><th scope=col>&lt;int&gt;</th><th scope=col>&lt;int&gt;</th><th scope=col>&lt;int&gt;</th><th scope=col>&lt;int&gt;</th><th scope=col>&lt;int&gt;</th><th scope=col>&lt;int&gt;</th><th scope=col>&lt;int&gt;</th><th scope=col>&lt;int&gt;</th><th scope=col>&lt;int&gt;</th><th scope=col>&lt;int&gt;</th><th scope=col>&lt;int&gt;</th><th scope=col>&lt;int&gt;</th><th scope=col>&lt;int&gt;</th><th scope=col>&lt;int&gt;</th><th scope=col>&lt;int&gt;</th><th scope=col>&lt;int&gt;</th><th scope=col>&lt;int&gt;</th><th scope=col>&lt;int&gt;</th><th scope=col>&lt;int&gt;</th><th scope=col>&lt;int&gt;</th><th scope=col>&lt;int&gt;</th><th scope=col>&lt;int&gt;</th><th scope=col>&lt;int&gt;</th><th scope=col>&lt;int&gt;</th><th scope=col>&lt;int&gt;</th><th scope=col>&lt;int&gt;</th><th scope=col>&lt;int&gt;</th><th scope=col>&lt;int&gt;</th><th scope=col>&lt;int&gt;</th><th scope=col>&lt;int&gt;</th><th scope=col>&lt;int&gt;</th><th scope=col>&lt;int&gt;</th><th scope=col>&lt;int&gt;</th></tr>\n",
       "</thead>\n",
       "<tbody>\n",
       "\t<tr><th scope=row>1</th><td>0610005C13Rik</td><td> 0</td><td> 1</td><td> 0</td><td>  2</td><td>  0</td><td>86</td><td> 1</td><td>  0</td><td> 0</td><td> 1</td><td> 5</td><td>  0</td><td>  0</td><td> 30</td><td>  0</td><td> 5</td><td> 0</td><td>  0</td><td> 0</td><td>  0</td><td> 0</td><td>15</td><td>13</td><td>19</td><td>  0</td><td>  0</td><td>  9</td><td>  1</td><td> 0</td><td> 0</td><td>  0</td><td> 0</td><td>  8</td><td> 6</td><td> 0</td><td> 7</td><td> 0</td><td>  4</td><td> 14</td><td> 0</td><td> 0</td><td>  7</td><td> 0</td><td>  0</td><td> 0</td><td> 1</td><td>  0</td><td> 0</td><td>  0</td><td> 5</td></tr>\n",
       "\t<tr><th scope=row>2</th><td>0610006L08Rik</td><td> 0</td><td> 0</td><td> 0</td><td>  0</td><td>  0</td><td> 0</td><td> 0</td><td>  0</td><td> 0</td><td> 0</td><td> 0</td><td>  0</td><td>  0</td><td>  0</td><td>  0</td><td> 0</td><td> 0</td><td>  0</td><td> 0</td><td>  0</td><td> 0</td><td> 0</td><td> 0</td><td> 0</td><td>  0</td><td>  0</td><td>  0</td><td>  0</td><td> 0</td><td> 0</td><td>  0</td><td> 0</td><td>  0</td><td> 0</td><td> 0</td><td> 0</td><td> 0</td><td>  0</td><td>  0</td><td> 0</td><td> 0</td><td>  0</td><td> 0</td><td>  0</td><td> 0</td><td> 0</td><td>  0</td><td> 0</td><td>  0</td><td> 0</td></tr>\n",
       "\t<tr><th scope=row>3</th><td>0610009B22Rik</td><td>54</td><td>78</td><td>50</td><td>164</td><td>101</td><td>85</td><td>55</td><td>114</td><td>34</td><td>74</td><td>85</td><td>206</td><td>107</td><td>118</td><td>180</td><td>29</td><td>95</td><td>101</td><td>82</td><td>231</td><td>67</td><td>17</td><td>97</td><td>90</td><td>155</td><td>153</td><td>167</td><td>149</td><td>74</td><td>85</td><td>139</td><td>97</td><td>163</td><td>93</td><td>98</td><td>56</td><td>84</td><td>226</td><td>219</td><td>41</td><td>55</td><td>182</td><td>69</td><td>249</td><td>73</td><td>66</td><td>106</td><td>74</td><td>218</td><td>52</td></tr>\n",
       "\t<tr><th scope=row>⋮</th><td>⋮</td><td>⋮</td><td>⋮</td><td>⋮</td><td>⋮</td><td>⋮</td><td>⋮</td><td>⋮</td><td>⋮</td><td>⋮</td><td>⋮</td><td>⋮</td><td>⋮</td><td>⋮</td><td>⋮</td><td>⋮</td><td>⋮</td><td>⋮</td><td>⋮</td><td>⋮</td><td>⋮</td><td>⋮</td><td>⋮</td><td>⋮</td><td>⋮</td><td>⋮</td><td>⋮</td><td>⋮</td><td>⋮</td><td>⋮</td><td>⋮</td><td>⋮</td><td>⋮</td><td>⋮</td><td>⋮</td><td>⋮</td><td>⋮</td><td>⋮</td><td>⋮</td><td>⋮</td><td>⋮</td><td>⋮</td><td>⋮</td><td>⋮</td><td>⋮</td><td>⋮</td><td>⋮</td><td>⋮</td><td>⋮</td><td>⋮</td><td>⋮</td></tr>\n",
       "\t<tr><th scope=row>5</th><td>0610009L18Rik</td><td>0</td><td>0</td><td> 0</td><td>0</td><td> 0</td><td>0</td><td>0</td><td>0</td><td>0</td><td>0</td><td>0</td><td>0</td><td>0</td><td>0</td><td>0</td><td>25</td><td>0</td><td>0</td><td>0</td><td>0</td><td>0</td><td>0</td><td> 0</td><td> 0</td><td>0</td><td> 0</td><td>0</td><td>0</td><td>0</td><td>0</td><td>0</td><td>0</td><td>0</td><td>0</td><td> 8</td><td> 0</td><td>0</td><td>0</td><td>0</td><td>2</td><td>0</td><td> 0</td><td>0</td><td>0</td><td>5</td><td>0</td><td> 0</td><td>0</td><td>0</td><td>0</td></tr>\n",
       "\t<tr><th scope=row>6</th><td>0610010F05Rik</td><td>0</td><td>0</td><td>31</td><td>2</td><td>51</td><td>6</td><td>5</td><td>0</td><td>0</td><td>0</td><td>0</td><td>0</td><td>0</td><td>0</td><td>0</td><td> 0</td><td>3</td><td>2</td><td>1</td><td>0</td><td>1</td><td>7</td><td>14</td><td>40</td><td>0</td><td>25</td><td>0</td><td>0</td><td>9</td><td>0</td><td>0</td><td>0</td><td>0</td><td>0</td><td>28</td><td>11</td><td>0</td><td>0</td><td>0</td><td>0</td><td>3</td><td>34</td><td>0</td><td>0</td><td>0</td><td>0</td><td>10</td><td>0</td><td>0</td><td>6</td></tr>\n",
       "</tbody>\n",
       "</table>\n"
      ],
      "text/latex": [
       "A data.frame: 6 × 51\n",
       "\\begin{tabular}{r|lllllllllllllllllllllllllllllllllllllllllllllllllll}\n",
       "  & X & plate1\\_C07 . bi\\_allelic & plate1\\_D02 . bi\\_allelic & plate1\\_E08 . bi\\_allelic & plate2\\_A02 . cast & plate2\\_A03 . cast & plate2\\_A04 . cast & plate2\\_A05 . cast & plate2\\_A06 . bi\\_allelic & plate2\\_B01 . mus & plate2\\_B02 . bi\\_allelic & plate2\\_B03 . bi\\_allelic & plate2\\_B04 . cast & plate2\\_B05 . mus & plate2\\_B06 . bi\\_allelic & plate2\\_C01 . mus & plate2\\_C02 . bi\\_allelic & plate2\\_C03 . bi\\_allelic & plate2\\_C04 . cast & plate2\\_C05 . cast & plate2\\_C06 . mus & plate2\\_D01 . mus & plate2\\_D02 . mus & plate2\\_D03 . bi\\_allelic & plate2\\_D04 . bi\\_allelic & plate2\\_D05 . bi\\_allelic & plate2\\_D06 . cast & plate2\\_E01 . mus & plate2\\_E02 . cast & plate2\\_E03 . bi\\_allelic & plate2\\_E04 . mus & plate2\\_E05 . bi\\_allelic & plate2\\_E06 . cast & plate2\\_F01 . bi\\_allelic & plate2\\_F02 . bi\\_allelic & plate2\\_F03 . bi\\_allelic & plate2\\_F04 . bi\\_allelic & plate2\\_F05 . cast & plate2\\_F06 . bi\\_allelic & plate2\\_G01 . cast & plate2\\_G02 . mus & plate2\\_G03 . bi\\_allelic & plate2\\_G04 . bi\\_allelic & plate2\\_G05 . cast & plate2\\_G06 . bi\\_allelic & plate2\\_H01 . bi\\_allelic & plate2\\_H02 . cast & plate2\\_H03 . bi\\_allelic & plate2\\_H04 . bi\\_allelic & plate2\\_H05 . cast & plate2\\_H06 . bi\\_allelic\\\\\n",
       "  & <chr> & <int> & <int> & <int> & <int> & <int> & <int> & <int> & <int> & <int> & <int> & <int> & <int> & <int> & <int> & <int> & <int> & <int> & <int> & <int> & <int> & <int> & <int> & <int> & <int> & <int> & <int> & <int> & <int> & <int> & <int> & <int> & <int> & <int> & <int> & <int> & <int> & <int> & <int> & <int> & <int> & <int> & <int> & <int> & <int> & <int> & <int> & <int> & <int> & <int> & <int>\\\\\n",
       "\\hline\n",
       "\t1 & 0610005C13Rik &  0 &  1 &  0 &   2 &   0 & 86 &  1 &   0 &  0 &  1 &  5 &   0 &   0 &  30 &   0 &  5 &  0 &   0 &  0 &   0 &  0 & 15 & 13 & 19 &   0 &   0 &   9 &   1 &  0 &  0 &   0 &  0 &   8 &  6 &  0 &  7 &  0 &   4 &  14 &  0 &  0 &   7 &  0 &   0 &  0 &  1 &   0 &  0 &   0 &  5\\\\\n",
       "\t2 & 0610006L08Rik &  0 &  0 &  0 &   0 &   0 &  0 &  0 &   0 &  0 &  0 &  0 &   0 &   0 &   0 &   0 &  0 &  0 &   0 &  0 &   0 &  0 &  0 &  0 &  0 &   0 &   0 &   0 &   0 &  0 &  0 &   0 &  0 &   0 &  0 &  0 &  0 &  0 &   0 &   0 &  0 &  0 &   0 &  0 &   0 &  0 &  0 &   0 &  0 &   0 &  0\\\\\n",
       "\t3 & 0610009B22Rik & 54 & 78 & 50 & 164 & 101 & 85 & 55 & 114 & 34 & 74 & 85 & 206 & 107 & 118 & 180 & 29 & 95 & 101 & 82 & 231 & 67 & 17 & 97 & 90 & 155 & 153 & 167 & 149 & 74 & 85 & 139 & 97 & 163 & 93 & 98 & 56 & 84 & 226 & 219 & 41 & 55 & 182 & 69 & 249 & 73 & 66 & 106 & 74 & 218 & 52\\\\\n",
       "\t⋮ & ⋮ & ⋮ & ⋮ & ⋮ & ⋮ & ⋮ & ⋮ & ⋮ & ⋮ & ⋮ & ⋮ & ⋮ & ⋮ & ⋮ & ⋮ & ⋮ & ⋮ & ⋮ & ⋮ & ⋮ & ⋮ & ⋮ & ⋮ & ⋮ & ⋮ & ⋮ & ⋮ & ⋮ & ⋮ & ⋮ & ⋮ & ⋮ & ⋮ & ⋮ & ⋮ & ⋮ & ⋮ & ⋮ & ⋮ & ⋮ & ⋮ & ⋮ & ⋮ & ⋮ & ⋮ & ⋮ & ⋮ & ⋮ & ⋮ & ⋮ & ⋮\\\\\n",
       "\t5 & 0610009L18Rik & 0 & 0 &  0 & 0 &  0 & 0 & 0 & 0 & 0 & 0 & 0 & 0 & 0 & 0 & 0 & 25 & 0 & 0 & 0 & 0 & 0 & 0 &  0 &  0 & 0 &  0 & 0 & 0 & 0 & 0 & 0 & 0 & 0 & 0 &  8 &  0 & 0 & 0 & 0 & 2 & 0 &  0 & 0 & 0 & 5 & 0 &  0 & 0 & 0 & 0\\\\\n",
       "\t6 & 0610010F05Rik & 0 & 0 & 31 & 2 & 51 & 6 & 5 & 0 & 0 & 0 & 0 & 0 & 0 & 0 & 0 &  0 & 3 & 2 & 1 & 0 & 1 & 7 & 14 & 40 & 0 & 25 & 0 & 0 & 9 & 0 & 0 & 0 & 0 & 0 & 28 & 11 & 0 & 0 & 0 & 0 & 3 & 34 & 0 & 0 & 0 & 0 & 10 & 0 & 0 & 6\\\\\n",
       "\\end{tabular}\n"
      ],
      "text/markdown": [
       "\n",
       "A data.frame: 6 × 51\n",
       "\n",
       "| <!--/--> | X &lt;chr&gt; | plate1_C07 . bi_allelic &lt;int&gt; | plate1_D02 . bi_allelic &lt;int&gt; | plate1_E08 . bi_allelic &lt;int&gt; | plate2_A02 . cast &lt;int&gt; | plate2_A03 . cast &lt;int&gt; | plate2_A04 . cast &lt;int&gt; | plate2_A05 . cast &lt;int&gt; | plate2_A06 . bi_allelic &lt;int&gt; | plate2_B01 . mus &lt;int&gt; | plate2_B02 . bi_allelic &lt;int&gt; | plate2_B03 . bi_allelic &lt;int&gt; | plate2_B04 . cast &lt;int&gt; | plate2_B05 . mus &lt;int&gt; | plate2_B06 . bi_allelic &lt;int&gt; | plate2_C01 . mus &lt;int&gt; | plate2_C02 . bi_allelic &lt;int&gt; | plate2_C03 . bi_allelic &lt;int&gt; | plate2_C04 . cast &lt;int&gt; | plate2_C05 . cast &lt;int&gt; | plate2_C06 . mus &lt;int&gt; | plate2_D01 . mus &lt;int&gt; | plate2_D02 . mus &lt;int&gt; | plate2_D03 . bi_allelic &lt;int&gt; | plate2_D04 . bi_allelic &lt;int&gt; | plate2_D05 . bi_allelic &lt;int&gt; | plate2_D06 . cast &lt;int&gt; | plate2_E01 . mus &lt;int&gt; | plate2_E02 . cast &lt;int&gt; | plate2_E03 . bi_allelic &lt;int&gt; | plate2_E04 . mus &lt;int&gt; | plate2_E05 . bi_allelic &lt;int&gt; | plate2_E06 . cast &lt;int&gt; | plate2_F01 . bi_allelic &lt;int&gt; | plate2_F02 . bi_allelic &lt;int&gt; | plate2_F03 . bi_allelic &lt;int&gt; | plate2_F04 . bi_allelic &lt;int&gt; | plate2_F05 . cast &lt;int&gt; | plate2_F06 . bi_allelic &lt;int&gt; | plate2_G01 . cast &lt;int&gt; | plate2_G02 . mus &lt;int&gt; | plate2_G03 . bi_allelic &lt;int&gt; | plate2_G04 . bi_allelic &lt;int&gt; | plate2_G05 . cast &lt;int&gt; | plate2_G06 . bi_allelic &lt;int&gt; | plate2_H01 . bi_allelic &lt;int&gt; | plate2_H02 . cast &lt;int&gt; | plate2_H03 . bi_allelic &lt;int&gt; | plate2_H04 . bi_allelic &lt;int&gt; | plate2_H05 . cast &lt;int&gt; | plate2_H06 . bi_allelic &lt;int&gt; |\n",
       "|---|---|---|---|---|---|---|---|---|---|---|---|---|---|---|---|---|---|---|---|---|---|---|---|---|---|---|---|---|---|---|---|---|---|---|---|---|---|---|---|---|---|---|---|---|---|---|---|---|---|---|---|\n",
       "| 1 | 0610005C13Rik |  0 |  1 |  0 |   2 |   0 | 86 |  1 |   0 |  0 |  1 |  5 |   0 |   0 |  30 |   0 |  5 |  0 |   0 |  0 |   0 |  0 | 15 | 13 | 19 |   0 |   0 |   9 |   1 |  0 |  0 |   0 |  0 |   8 |  6 |  0 |  7 |  0 |   4 |  14 |  0 |  0 |   7 |  0 |   0 |  0 |  1 |   0 |  0 |   0 |  5 |\n",
       "| 2 | 0610006L08Rik |  0 |  0 |  0 |   0 |   0 |  0 |  0 |   0 |  0 |  0 |  0 |   0 |   0 |   0 |   0 |  0 |  0 |   0 |  0 |   0 |  0 |  0 |  0 |  0 |   0 |   0 |   0 |   0 |  0 |  0 |   0 |  0 |   0 |  0 |  0 |  0 |  0 |   0 |   0 |  0 |  0 |   0 |  0 |   0 |  0 |  0 |   0 |  0 |   0 |  0 |\n",
       "| 3 | 0610009B22Rik | 54 | 78 | 50 | 164 | 101 | 85 | 55 | 114 | 34 | 74 | 85 | 206 | 107 | 118 | 180 | 29 | 95 | 101 | 82 | 231 | 67 | 17 | 97 | 90 | 155 | 153 | 167 | 149 | 74 | 85 | 139 | 97 | 163 | 93 | 98 | 56 | 84 | 226 | 219 | 41 | 55 | 182 | 69 | 249 | 73 | 66 | 106 | 74 | 218 | 52 |\n",
       "| ⋮ | ⋮ | ⋮ | ⋮ | ⋮ | ⋮ | ⋮ | ⋮ | ⋮ | ⋮ | ⋮ | ⋮ | ⋮ | ⋮ | ⋮ | ⋮ | ⋮ | ⋮ | ⋮ | ⋮ | ⋮ | ⋮ | ⋮ | ⋮ | ⋮ | ⋮ | ⋮ | ⋮ | ⋮ | ⋮ | ⋮ | ⋮ | ⋮ | ⋮ | ⋮ | ⋮ | ⋮ | ⋮ | ⋮ | ⋮ | ⋮ | ⋮ | ⋮ | ⋮ | ⋮ | ⋮ | ⋮ | ⋮ | ⋮ | ⋮ | ⋮ | ⋮ |\n",
       "| 5 | 0610009L18Rik | 0 | 0 |  0 | 0 |  0 | 0 | 0 | 0 | 0 | 0 | 0 | 0 | 0 | 0 | 0 | 25 | 0 | 0 | 0 | 0 | 0 | 0 |  0 |  0 | 0 |  0 | 0 | 0 | 0 | 0 | 0 | 0 | 0 | 0 |  8 |  0 | 0 | 0 | 0 | 2 | 0 |  0 | 0 | 0 | 5 | 0 |  0 | 0 | 0 | 0 |\n",
       "| 6 | 0610010F05Rik | 0 | 0 | 31 | 2 | 51 | 6 | 5 | 0 | 0 | 0 | 0 | 0 | 0 | 0 | 0 |  0 | 3 | 2 | 1 | 0 | 1 | 7 | 14 | 40 | 0 | 25 | 0 | 0 | 9 | 0 | 0 | 0 | 0 | 0 | 28 | 11 | 0 | 0 | 0 | 0 | 3 | 34 | 0 | 0 | 0 | 0 | 10 | 0 | 0 | 6 |\n",
       "\n"
      ],
      "text/plain": [
       "       X             plate1_C07 . bi_allelic plate1_D02 . bi_allelic\n",
       "1      0610005C13Rik  0                       1                     \n",
       "2      0610006L08Rik  0                       0                     \n",
       "3      0610009B22Rik 54                      78                     \n",
       "<U+22EE> <U+22EE>      <U+22EE>                <U+22EE>               \n",
       "5      0610009L18Rik 0                       0                      \n",
       "6      0610010F05Rik 0                       0                      \n",
       "       plate1_E08 . bi_allelic plate2_A02 . cast plate2_A03 . cast\n",
       "1       0                        2                 0              \n",
       "2       0                        0                 0              \n",
       "3      50                      164               101              \n",
       "<U+22EE> <U+22EE>                <U+22EE>          <U+22EE>         \n",
       "5       0                      0                  0               \n",
       "6      31                      2                 51               \n",
       "       plate2_A04 . cast plate2_A05 . cast plate2_A06 . bi_allelic\n",
       "1      86                 1                  0                    \n",
       "2       0                 0                  0                    \n",
       "3      85                55                114                    \n",
       "<U+22EE> <U+22EE>          <U+22EE>          <U+22EE>               \n",
       "5      0                 0                 0                      \n",
       "6      6                 5                 0                      \n",
       "       plate2_B01 . mus plate2_B02 . bi_allelic plate2_B03 . bi_allelic\n",
       "1       0                1                       5                     \n",
       "2       0                0                       0                     \n",
       "3      34               74                      85                     \n",
       "<U+22EE> <U+22EE>         <U+22EE>                <U+22EE>               \n",
       "5      0                0                       0                      \n",
       "6      0                0                       0                      \n",
       "       plate2_B04 . cast plate2_B05 . mus plate2_B06 . bi_allelic\n",
       "1        0                 0               30                    \n",
       "2        0                 0                0                    \n",
       "3      206               107              118                    \n",
       "<U+22EE> <U+22EE>          <U+22EE>         <U+22EE>               \n",
       "5      0                 0                0                      \n",
       "6      0                 0                0                      \n",
       "       plate2_C01 . mus plate2_C02 . bi_allelic plate2_C03 . bi_allelic\n",
       "1        0               5                       0                     \n",
       "2        0               0                       0                     \n",
       "3      180              29                      95                     \n",
       "<U+22EE> <U+22EE>         <U+22EE>                <U+22EE>               \n",
       "5      0                25                      0                      \n",
       "6      0                 0                      3                      \n",
       "       plate2_C04 . cast plate2_C05 . cast plate2_C06 . mus plate2_D01 . mus\n",
       "1        0                0                  0               0              \n",
       "2        0                0                  0               0              \n",
       "3      101               82                231              67              \n",
       "<U+22EE> <U+22EE>          <U+22EE>          <U+22EE>         <U+22EE>        \n",
       "5      0                 0                 0                0               \n",
       "6      2                 1                 0                1               \n",
       "       plate2_D02 . mus plate2_D03 . bi_allelic plate2_D04 . bi_allelic\n",
       "1      15               13                      19                     \n",
       "2       0                0                       0                     \n",
       "3      17               97                      90                     \n",
       "<U+22EE> <U+22EE>         <U+22EE>                <U+22EE>               \n",
       "5      0                 0                       0                     \n",
       "6      7                14                      40                     \n",
       "       plate2_D05 . bi_allelic plate2_D06 . cast plate2_E01 . mus\n",
       "1        0                       0                 9             \n",
       "2        0                       0                 0             \n",
       "3      155                     153               167             \n",
       "<U+22EE> <U+22EE>                <U+22EE>          <U+22EE>        \n",
       "5      0                        0                0               \n",
       "6      0                       25                0               \n",
       "       plate2_E02 . cast plate2_E03 . bi_allelic plate2_E04 . mus\n",
       "1        1                0                       0              \n",
       "2        0                0                       0              \n",
       "3      149               74                      85              \n",
       "<U+22EE> <U+22EE>          <U+22EE>                <U+22EE>        \n",
       "5      0                 0                       0               \n",
       "6      0                 9                       0               \n",
       "       plate2_E05 . bi_allelic plate2_E06 . cast plate2_F01 . bi_allelic\n",
       "1        0                      0                  8                    \n",
       "2        0                      0                  0                    \n",
       "3      139                     97                163                    \n",
       "<U+22EE> <U+22EE>                <U+22EE>          <U+22EE>               \n",
       "5      0                       0                 0                      \n",
       "6      0                       0                 0                      \n",
       "       plate2_F02 . bi_allelic plate2_F03 . bi_allelic plate2_F04 . bi_allelic\n",
       "1       6                       0                       7                     \n",
       "2       0                       0                       0                     \n",
       "3      93                      98                      56                     \n",
       "<U+22EE> <U+22EE>                <U+22EE>                <U+22EE>               \n",
       "5      0                        8                       0                     \n",
       "6      0                       28                      11                     \n",
       "       plate2_F05 . cast plate2_F06 . bi_allelic plate2_G01 . cast\n",
       "1       0                  4                      14              \n",
       "2       0                  0                       0              \n",
       "3      84                226                     219              \n",
       "<U+22EE> <U+22EE>          <U+22EE>                <U+22EE>         \n",
       "5      0                 0                       0                \n",
       "6      0                 0                       0                \n",
       "       plate2_G02 . mus plate2_G03 . bi_allelic plate2_G04 . bi_allelic\n",
       "1       0                0                        7                    \n",
       "2       0                0                        0                    \n",
       "3      41               55                      182                    \n",
       "<U+22EE> <U+22EE>         <U+22EE>                <U+22EE>               \n",
       "5      2                0                        0                     \n",
       "6      0                3                       34                     \n",
       "       plate2_G05 . cast plate2_G06 . bi_allelic plate2_H01 . bi_allelic\n",
       "1       0                  0                      0                     \n",
       "2       0                  0                      0                     \n",
       "3      69                249                     73                     \n",
       "<U+22EE> <U+22EE>          <U+22EE>                <U+22EE>               \n",
       "5      0                 0                       5                      \n",
       "6      0                 0                       0                      \n",
       "       plate2_H02 . cast plate2_H03 . bi_allelic plate2_H04 . bi_allelic\n",
       "1       1                  0                      0                     \n",
       "2       0                  0                      0                     \n",
       "3      66                106                     74                     \n",
       "<U+22EE> <U+22EE>          <U+22EE>                <U+22EE>               \n",
       "5      0                  0                      0                      \n",
       "6      0                 10                      0                      \n",
       "       plate2_H05 . cast plate2_H06 . bi_allelic\n",
       "1        0                5                     \n",
       "2        0                0                     \n",
       "3      218               52                     \n",
       "<U+22EE> <U+22EE>          <U+22EE>               \n",
       "5      0                 0                      \n",
       "6      0                 6                      "
      ]
     },
     "metadata": {},
     "output_type": "display_data"
    }
   ],
   "source": [
    "head(X_loss_nonallelic_final)"
   ]
  },
  {
   "cell_type": "code",
   "execution_count": 175,
   "metadata": {},
   "outputs": [
    {
     "data": {
      "text/html": [
       "51"
      ],
      "text/latex": [
       "51"
      ],
      "text/markdown": [
       "51"
      ],
      "text/plain": [
       "[1] 51"
      ]
     },
     "metadata": {},
     "output_type": "display_data"
    }
   ],
   "source": [
    "ncol(X_loss_nonallelic_final)"
   ]
  },
  {
   "cell_type": "code",
   "execution_count": 176,
   "metadata": {},
   "outputs": [],
   "source": [
    "row.names(X_loss_nonallelic_final) <- X_loss_nonallelic_final$X"
   ]
  },
  {
   "cell_type": "code",
   "execution_count": 178,
   "metadata": {},
   "outputs": [],
   "source": [
    "X_loss_nonallelic_final[1] <- NULL"
   ]
  },
  {
   "cell_type": "code",
   "execution_count": 179,
   "metadata": {},
   "outputs": [
    {
     "data": {
      "text/html": [
       "<table class=\"dataframe\">\n",
       "<caption>A data.frame: 6 × 50</caption>\n",
       "<thead>\n",
       "\t<tr><th></th><th scope=col>plate1_C07 . bi_allelic</th><th scope=col>plate1_D02 . bi_allelic</th><th scope=col>plate1_E08 . bi_allelic</th><th scope=col>plate2_A02 . cast</th><th scope=col>plate2_A03 . cast</th><th scope=col>plate2_A04 . cast</th><th scope=col>plate2_A05 . cast</th><th scope=col>plate2_A06 . bi_allelic</th><th scope=col>plate2_B01 . mus</th><th scope=col>plate2_B02 . bi_allelic</th><th scope=col>plate2_B03 . bi_allelic</th><th scope=col>plate2_B04 . cast</th><th scope=col>plate2_B05 . mus</th><th scope=col>plate2_B06 . bi_allelic</th><th scope=col>plate2_C01 . mus</th><th scope=col>plate2_C02 . bi_allelic</th><th scope=col>plate2_C03 . bi_allelic</th><th scope=col>plate2_C04 . cast</th><th scope=col>plate2_C05 . cast</th><th scope=col>plate2_C06 . mus</th><th scope=col>plate2_D01 . mus</th><th scope=col>plate2_D02 . mus</th><th scope=col>plate2_D03 . bi_allelic</th><th scope=col>plate2_D04 . bi_allelic</th><th scope=col>plate2_D05 . bi_allelic</th><th scope=col>plate2_D06 . cast</th><th scope=col>plate2_E01 . mus</th><th scope=col>plate2_E02 . cast</th><th scope=col>plate2_E03 . bi_allelic</th><th scope=col>plate2_E04 . mus</th><th scope=col>plate2_E05 . bi_allelic</th><th scope=col>plate2_E06 . cast</th><th scope=col>plate2_F01 . bi_allelic</th><th scope=col>plate2_F02 . bi_allelic</th><th scope=col>plate2_F03 . bi_allelic</th><th scope=col>plate2_F04 . bi_allelic</th><th scope=col>plate2_F05 . cast</th><th scope=col>plate2_F06 . bi_allelic</th><th scope=col>plate2_G01 . cast</th><th scope=col>plate2_G02 . mus</th><th scope=col>plate2_G03 . bi_allelic</th><th scope=col>plate2_G04 . bi_allelic</th><th scope=col>plate2_G05 . cast</th><th scope=col>plate2_G06 . bi_allelic</th><th scope=col>plate2_H01 . bi_allelic</th><th scope=col>plate2_H02 . cast</th><th scope=col>plate2_H03 . bi_allelic</th><th scope=col>plate2_H04 . bi_allelic</th><th scope=col>plate2_H05 . cast</th><th scope=col>plate2_H06 . bi_allelic</th></tr>\n",
       "\t<tr><th></th><th scope=col>&lt;int&gt;</th><th scope=col>&lt;int&gt;</th><th scope=col>&lt;int&gt;</th><th scope=col>&lt;int&gt;</th><th scope=col>&lt;int&gt;</th><th scope=col>&lt;int&gt;</th><th scope=col>&lt;int&gt;</th><th scope=col>&lt;int&gt;</th><th scope=col>&lt;int&gt;</th><th scope=col>&lt;int&gt;</th><th scope=col>&lt;int&gt;</th><th scope=col>&lt;int&gt;</th><th scope=col>&lt;int&gt;</th><th scope=col>&lt;int&gt;</th><th scope=col>&lt;int&gt;</th><th scope=col>&lt;int&gt;</th><th scope=col>&lt;int&gt;</th><th scope=col>&lt;int&gt;</th><th scope=col>&lt;int&gt;</th><th scope=col>&lt;int&gt;</th><th scope=col>&lt;int&gt;</th><th scope=col>&lt;int&gt;</th><th scope=col>&lt;int&gt;</th><th scope=col>&lt;int&gt;</th><th scope=col>&lt;int&gt;</th><th scope=col>&lt;int&gt;</th><th scope=col>&lt;int&gt;</th><th scope=col>&lt;int&gt;</th><th scope=col>&lt;int&gt;</th><th scope=col>&lt;int&gt;</th><th scope=col>&lt;int&gt;</th><th scope=col>&lt;int&gt;</th><th scope=col>&lt;int&gt;</th><th scope=col>&lt;int&gt;</th><th scope=col>&lt;int&gt;</th><th scope=col>&lt;int&gt;</th><th scope=col>&lt;int&gt;</th><th scope=col>&lt;int&gt;</th><th scope=col>&lt;int&gt;</th><th scope=col>&lt;int&gt;</th><th scope=col>&lt;int&gt;</th><th scope=col>&lt;int&gt;</th><th scope=col>&lt;int&gt;</th><th scope=col>&lt;int&gt;</th><th scope=col>&lt;int&gt;</th><th scope=col>&lt;int&gt;</th><th scope=col>&lt;int&gt;</th><th scope=col>&lt;int&gt;</th><th scope=col>&lt;int&gt;</th><th scope=col>&lt;int&gt;</th></tr>\n",
       "</thead>\n",
       "<tbody>\n",
       "\t<tr><th scope=row>0610005C13Rik</th><td> 0</td><td> 1</td><td> 0</td><td>  2</td><td>  0</td><td>86</td><td> 1</td><td>  0</td><td> 0</td><td> 1</td><td> 5</td><td>  0</td><td>  0</td><td> 30</td><td>  0</td><td> 5</td><td> 0</td><td>  0</td><td> 0</td><td>  0</td><td> 0</td><td>15</td><td>13</td><td>19</td><td>  0</td><td>  0</td><td>  9</td><td>  1</td><td> 0</td><td> 0</td><td>  0</td><td> 0</td><td>  8</td><td> 6</td><td> 0</td><td> 7</td><td> 0</td><td>  4</td><td> 14</td><td> 0</td><td> 0</td><td>  7</td><td> 0</td><td>  0</td><td> 0</td><td> 1</td><td>  0</td><td> 0</td><td>  0</td><td> 5</td></tr>\n",
       "\t<tr><th scope=row>0610006L08Rik</th><td> 0</td><td> 0</td><td> 0</td><td>  0</td><td>  0</td><td> 0</td><td> 0</td><td>  0</td><td> 0</td><td> 0</td><td> 0</td><td>  0</td><td>  0</td><td>  0</td><td>  0</td><td> 0</td><td> 0</td><td>  0</td><td> 0</td><td>  0</td><td> 0</td><td> 0</td><td> 0</td><td> 0</td><td>  0</td><td>  0</td><td>  0</td><td>  0</td><td> 0</td><td> 0</td><td>  0</td><td> 0</td><td>  0</td><td> 0</td><td> 0</td><td> 0</td><td> 0</td><td>  0</td><td>  0</td><td> 0</td><td> 0</td><td>  0</td><td> 0</td><td>  0</td><td> 0</td><td> 0</td><td>  0</td><td> 0</td><td>  0</td><td> 0</td></tr>\n",
       "\t<tr><th scope=row>0610009B22Rik</th><td>54</td><td>78</td><td>50</td><td>164</td><td>101</td><td>85</td><td>55</td><td>114</td><td>34</td><td>74</td><td>85</td><td>206</td><td>107</td><td>118</td><td>180</td><td>29</td><td>95</td><td>101</td><td>82</td><td>231</td><td>67</td><td>17</td><td>97</td><td>90</td><td>155</td><td>153</td><td>167</td><td>149</td><td>74</td><td>85</td><td>139</td><td>97</td><td>163</td><td>93</td><td>98</td><td>56</td><td>84</td><td>226</td><td>219</td><td>41</td><td>55</td><td>182</td><td>69</td><td>249</td><td>73</td><td>66</td><td>106</td><td>74</td><td>218</td><td>52</td></tr>\n",
       "\t<tr><th scope=row>⋮</th><td>⋮</td><td>⋮</td><td>⋮</td><td>⋮</td><td>⋮</td><td>⋮</td><td>⋮</td><td>⋮</td><td>⋮</td><td>⋮</td><td>⋮</td><td>⋮</td><td>⋮</td><td>⋮</td><td>⋮</td><td>⋮</td><td>⋮</td><td>⋮</td><td>⋮</td><td>⋮</td><td>⋮</td><td>⋮</td><td>⋮</td><td>⋮</td><td>⋮</td><td>⋮</td><td>⋮</td><td>⋮</td><td>⋮</td><td>⋮</td><td>⋮</td><td>⋮</td><td>⋮</td><td>⋮</td><td>⋮</td><td>⋮</td><td>⋮</td><td>⋮</td><td>⋮</td><td>⋮</td><td>⋮</td><td>⋮</td><td>⋮</td><td>⋮</td><td>⋮</td><td>⋮</td><td>⋮</td><td>⋮</td><td>⋮</td><td>⋮</td></tr>\n",
       "\t<tr><th scope=row>0610009L18Rik</th><td>0</td><td>0</td><td> 0</td><td>0</td><td> 0</td><td>0</td><td>0</td><td>0</td><td>0</td><td>0</td><td>0</td><td>0</td><td>0</td><td>0</td><td>0</td><td>25</td><td>0</td><td>0</td><td>0</td><td>0</td><td>0</td><td>0</td><td> 0</td><td> 0</td><td>0</td><td> 0</td><td>0</td><td>0</td><td>0</td><td>0</td><td>0</td><td>0</td><td>0</td><td>0</td><td> 8</td><td> 0</td><td>0</td><td>0</td><td>0</td><td>2</td><td>0</td><td> 0</td><td>0</td><td>0</td><td>5</td><td>0</td><td> 0</td><td>0</td><td>0</td><td>0</td></tr>\n",
       "\t<tr><th scope=row>0610010F05Rik</th><td>0</td><td>0</td><td>31</td><td>2</td><td>51</td><td>6</td><td>5</td><td>0</td><td>0</td><td>0</td><td>0</td><td>0</td><td>0</td><td>0</td><td>0</td><td> 0</td><td>3</td><td>2</td><td>1</td><td>0</td><td>1</td><td>7</td><td>14</td><td>40</td><td>0</td><td>25</td><td>0</td><td>0</td><td>9</td><td>0</td><td>0</td><td>0</td><td>0</td><td>0</td><td>28</td><td>11</td><td>0</td><td>0</td><td>0</td><td>0</td><td>3</td><td>34</td><td>0</td><td>0</td><td>0</td><td>0</td><td>10</td><td>0</td><td>0</td><td>6</td></tr>\n",
       "</tbody>\n",
       "</table>\n"
      ],
      "text/latex": [
       "A data.frame: 6 × 50\n",
       "\\begin{tabular}{r|llllllllllllllllllllllllllllllllllllllllllllllllll}\n",
       "  & plate1\\_C07 . bi\\_allelic & plate1\\_D02 . bi\\_allelic & plate1\\_E08 . bi\\_allelic & plate2\\_A02 . cast & plate2\\_A03 . cast & plate2\\_A04 . cast & plate2\\_A05 . cast & plate2\\_A06 . bi\\_allelic & plate2\\_B01 . mus & plate2\\_B02 . bi\\_allelic & plate2\\_B03 . bi\\_allelic & plate2\\_B04 . cast & plate2\\_B05 . mus & plate2\\_B06 . bi\\_allelic & plate2\\_C01 . mus & plate2\\_C02 . bi\\_allelic & plate2\\_C03 . bi\\_allelic & plate2\\_C04 . cast & plate2\\_C05 . cast & plate2\\_C06 . mus & plate2\\_D01 . mus & plate2\\_D02 . mus & plate2\\_D03 . bi\\_allelic & plate2\\_D04 . bi\\_allelic & plate2\\_D05 . bi\\_allelic & plate2\\_D06 . cast & plate2\\_E01 . mus & plate2\\_E02 . cast & plate2\\_E03 . bi\\_allelic & plate2\\_E04 . mus & plate2\\_E05 . bi\\_allelic & plate2\\_E06 . cast & plate2\\_F01 . bi\\_allelic & plate2\\_F02 . bi\\_allelic & plate2\\_F03 . bi\\_allelic & plate2\\_F04 . bi\\_allelic & plate2\\_F05 . cast & plate2\\_F06 . bi\\_allelic & plate2\\_G01 . cast & plate2\\_G02 . mus & plate2\\_G03 . bi\\_allelic & plate2\\_G04 . bi\\_allelic & plate2\\_G05 . cast & plate2\\_G06 . bi\\_allelic & plate2\\_H01 . bi\\_allelic & plate2\\_H02 . cast & plate2\\_H03 . bi\\_allelic & plate2\\_H04 . bi\\_allelic & plate2\\_H05 . cast & plate2\\_H06 . bi\\_allelic\\\\\n",
       "  & <int> & <int> & <int> & <int> & <int> & <int> & <int> & <int> & <int> & <int> & <int> & <int> & <int> & <int> & <int> & <int> & <int> & <int> & <int> & <int> & <int> & <int> & <int> & <int> & <int> & <int> & <int> & <int> & <int> & <int> & <int> & <int> & <int> & <int> & <int> & <int> & <int> & <int> & <int> & <int> & <int> & <int> & <int> & <int> & <int> & <int> & <int> & <int> & <int> & <int>\\\\\n",
       "\\hline\n",
       "\t0610005C13Rik &  0 &  1 &  0 &   2 &   0 & 86 &  1 &   0 &  0 &  1 &  5 &   0 &   0 &  30 &   0 &  5 &  0 &   0 &  0 &   0 &  0 & 15 & 13 & 19 &   0 &   0 &   9 &   1 &  0 &  0 &   0 &  0 &   8 &  6 &  0 &  7 &  0 &   4 &  14 &  0 &  0 &   7 &  0 &   0 &  0 &  1 &   0 &  0 &   0 &  5\\\\\n",
       "\t0610006L08Rik &  0 &  0 &  0 &   0 &   0 &  0 &  0 &   0 &  0 &  0 &  0 &   0 &   0 &   0 &   0 &  0 &  0 &   0 &  0 &   0 &  0 &  0 &  0 &  0 &   0 &   0 &   0 &   0 &  0 &  0 &   0 &  0 &   0 &  0 &  0 &  0 &  0 &   0 &   0 &  0 &  0 &   0 &  0 &   0 &  0 &  0 &   0 &  0 &   0 &  0\\\\\n",
       "\t0610009B22Rik & 54 & 78 & 50 & 164 & 101 & 85 & 55 & 114 & 34 & 74 & 85 & 206 & 107 & 118 & 180 & 29 & 95 & 101 & 82 & 231 & 67 & 17 & 97 & 90 & 155 & 153 & 167 & 149 & 74 & 85 & 139 & 97 & 163 & 93 & 98 & 56 & 84 & 226 & 219 & 41 & 55 & 182 & 69 & 249 & 73 & 66 & 106 & 74 & 218 & 52\\\\\n",
       "\t⋮ & ⋮ & ⋮ & ⋮ & ⋮ & ⋮ & ⋮ & ⋮ & ⋮ & ⋮ & ⋮ & ⋮ & ⋮ & ⋮ & ⋮ & ⋮ & ⋮ & ⋮ & ⋮ & ⋮ & ⋮ & ⋮ & ⋮ & ⋮ & ⋮ & ⋮ & ⋮ & ⋮ & ⋮ & ⋮ & ⋮ & ⋮ & ⋮ & ⋮ & ⋮ & ⋮ & ⋮ & ⋮ & ⋮ & ⋮ & ⋮ & ⋮ & ⋮ & ⋮ & ⋮ & ⋮ & ⋮ & ⋮ & ⋮ & ⋮ & ⋮\\\\\n",
       "\t0610009L18Rik & 0 & 0 &  0 & 0 &  0 & 0 & 0 & 0 & 0 & 0 & 0 & 0 & 0 & 0 & 0 & 25 & 0 & 0 & 0 & 0 & 0 & 0 &  0 &  0 & 0 &  0 & 0 & 0 & 0 & 0 & 0 & 0 & 0 & 0 &  8 &  0 & 0 & 0 & 0 & 2 & 0 &  0 & 0 & 0 & 5 & 0 &  0 & 0 & 0 & 0\\\\\n",
       "\t0610010F05Rik & 0 & 0 & 31 & 2 & 51 & 6 & 5 & 0 & 0 & 0 & 0 & 0 & 0 & 0 & 0 &  0 & 3 & 2 & 1 & 0 & 1 & 7 & 14 & 40 & 0 & 25 & 0 & 0 & 9 & 0 & 0 & 0 & 0 & 0 & 28 & 11 & 0 & 0 & 0 & 0 & 3 & 34 & 0 & 0 & 0 & 0 & 10 & 0 & 0 & 6\\\\\n",
       "\\end{tabular}\n"
      ],
      "text/markdown": [
       "\n",
       "A data.frame: 6 × 50\n",
       "\n",
       "| <!--/--> | plate1_C07 . bi_allelic &lt;int&gt; | plate1_D02 . bi_allelic &lt;int&gt; | plate1_E08 . bi_allelic &lt;int&gt; | plate2_A02 . cast &lt;int&gt; | plate2_A03 . cast &lt;int&gt; | plate2_A04 . cast &lt;int&gt; | plate2_A05 . cast &lt;int&gt; | plate2_A06 . bi_allelic &lt;int&gt; | plate2_B01 . mus &lt;int&gt; | plate2_B02 . bi_allelic &lt;int&gt; | plate2_B03 . bi_allelic &lt;int&gt; | plate2_B04 . cast &lt;int&gt; | plate2_B05 . mus &lt;int&gt; | plate2_B06 . bi_allelic &lt;int&gt; | plate2_C01 . mus &lt;int&gt; | plate2_C02 . bi_allelic &lt;int&gt; | plate2_C03 . bi_allelic &lt;int&gt; | plate2_C04 . cast &lt;int&gt; | plate2_C05 . cast &lt;int&gt; | plate2_C06 . mus &lt;int&gt; | plate2_D01 . mus &lt;int&gt; | plate2_D02 . mus &lt;int&gt; | plate2_D03 . bi_allelic &lt;int&gt; | plate2_D04 . bi_allelic &lt;int&gt; | plate2_D05 . bi_allelic &lt;int&gt; | plate2_D06 . cast &lt;int&gt; | plate2_E01 . mus &lt;int&gt; | plate2_E02 . cast &lt;int&gt; | plate2_E03 . bi_allelic &lt;int&gt; | plate2_E04 . mus &lt;int&gt; | plate2_E05 . bi_allelic &lt;int&gt; | plate2_E06 . cast &lt;int&gt; | plate2_F01 . bi_allelic &lt;int&gt; | plate2_F02 . bi_allelic &lt;int&gt; | plate2_F03 . bi_allelic &lt;int&gt; | plate2_F04 . bi_allelic &lt;int&gt; | plate2_F05 . cast &lt;int&gt; | plate2_F06 . bi_allelic &lt;int&gt; | plate2_G01 . cast &lt;int&gt; | plate2_G02 . mus &lt;int&gt; | plate2_G03 . bi_allelic &lt;int&gt; | plate2_G04 . bi_allelic &lt;int&gt; | plate2_G05 . cast &lt;int&gt; | plate2_G06 . bi_allelic &lt;int&gt; | plate2_H01 . bi_allelic &lt;int&gt; | plate2_H02 . cast &lt;int&gt; | plate2_H03 . bi_allelic &lt;int&gt; | plate2_H04 . bi_allelic &lt;int&gt; | plate2_H05 . cast &lt;int&gt; | plate2_H06 . bi_allelic &lt;int&gt; |\n",
       "|---|---|---|---|---|---|---|---|---|---|---|---|---|---|---|---|---|---|---|---|---|---|---|---|---|---|---|---|---|---|---|---|---|---|---|---|---|---|---|---|---|---|---|---|---|---|---|---|---|---|---|\n",
       "| 0610005C13Rik |  0 |  1 |  0 |   2 |   0 | 86 |  1 |   0 |  0 |  1 |  5 |   0 |   0 |  30 |   0 |  5 |  0 |   0 |  0 |   0 |  0 | 15 | 13 | 19 |   0 |   0 |   9 |   1 |  0 |  0 |   0 |  0 |   8 |  6 |  0 |  7 |  0 |   4 |  14 |  0 |  0 |   7 |  0 |   0 |  0 |  1 |   0 |  0 |   0 |  5 |\n",
       "| 0610006L08Rik |  0 |  0 |  0 |   0 |   0 |  0 |  0 |   0 |  0 |  0 |  0 |   0 |   0 |   0 |   0 |  0 |  0 |   0 |  0 |   0 |  0 |  0 |  0 |  0 |   0 |   0 |   0 |   0 |  0 |  0 |   0 |  0 |   0 |  0 |  0 |  0 |  0 |   0 |   0 |  0 |  0 |   0 |  0 |   0 |  0 |  0 |   0 |  0 |   0 |  0 |\n",
       "| 0610009B22Rik | 54 | 78 | 50 | 164 | 101 | 85 | 55 | 114 | 34 | 74 | 85 | 206 | 107 | 118 | 180 | 29 | 95 | 101 | 82 | 231 | 67 | 17 | 97 | 90 | 155 | 153 | 167 | 149 | 74 | 85 | 139 | 97 | 163 | 93 | 98 | 56 | 84 | 226 | 219 | 41 | 55 | 182 | 69 | 249 | 73 | 66 | 106 | 74 | 218 | 52 |\n",
       "| ⋮ | ⋮ | ⋮ | ⋮ | ⋮ | ⋮ | ⋮ | ⋮ | ⋮ | ⋮ | ⋮ | ⋮ | ⋮ | ⋮ | ⋮ | ⋮ | ⋮ | ⋮ | ⋮ | ⋮ | ⋮ | ⋮ | ⋮ | ⋮ | ⋮ | ⋮ | ⋮ | ⋮ | ⋮ | ⋮ | ⋮ | ⋮ | ⋮ | ⋮ | ⋮ | ⋮ | ⋮ | ⋮ | ⋮ | ⋮ | ⋮ | ⋮ | ⋮ | ⋮ | ⋮ | ⋮ | ⋮ | ⋮ | ⋮ | ⋮ | ⋮ |\n",
       "| 0610009L18Rik | 0 | 0 |  0 | 0 |  0 | 0 | 0 | 0 | 0 | 0 | 0 | 0 | 0 | 0 | 0 | 25 | 0 | 0 | 0 | 0 | 0 | 0 |  0 |  0 | 0 |  0 | 0 | 0 | 0 | 0 | 0 | 0 | 0 | 0 |  8 |  0 | 0 | 0 | 0 | 2 | 0 |  0 | 0 | 0 | 5 | 0 |  0 | 0 | 0 | 0 |\n",
       "| 0610010F05Rik | 0 | 0 | 31 | 2 | 51 | 6 | 5 | 0 | 0 | 0 | 0 | 0 | 0 | 0 | 0 |  0 | 3 | 2 | 1 | 0 | 1 | 7 | 14 | 40 | 0 | 25 | 0 | 0 | 9 | 0 | 0 | 0 | 0 | 0 | 28 | 11 | 0 | 0 | 0 | 0 | 3 | 34 | 0 | 0 | 0 | 0 | 10 | 0 | 0 | 6 |\n",
       "\n"
      ],
      "text/plain": [
       "              plate1_C07 . bi_allelic plate1_D02 . bi_allelic\n",
       "0610005C13Rik  0                       1                     \n",
       "0610006L08Rik  0                       0                     \n",
       "0610009B22Rik 54                      78                     \n",
       "<U+22EE>        <U+22EE>                <U+22EE>               \n",
       "0610009L18Rik 0                       0                      \n",
       "0610010F05Rik 0                       0                      \n",
       "              plate1_E08 . bi_allelic plate2_A02 . cast plate2_A03 . cast\n",
       "0610005C13Rik  0                        2                 0              \n",
       "0610006L08Rik  0                        0                 0              \n",
       "0610009B22Rik 50                      164               101              \n",
       "<U+22EE>        <U+22EE>                <U+22EE>          <U+22EE>         \n",
       "0610009L18Rik  0                      0                  0               \n",
       "0610010F05Rik 31                      2                 51               \n",
       "              plate2_A04 . cast plate2_A05 . cast plate2_A06 . bi_allelic\n",
       "0610005C13Rik 86                 1                  0                    \n",
       "0610006L08Rik  0                 0                  0                    \n",
       "0610009B22Rik 85                55                114                    \n",
       "<U+22EE>        <U+22EE>          <U+22EE>          <U+22EE>               \n",
       "0610009L18Rik 0                 0                 0                      \n",
       "0610010F05Rik 6                 5                 0                      \n",
       "              plate2_B01 . mus plate2_B02 . bi_allelic plate2_B03 . bi_allelic\n",
       "0610005C13Rik  0                1                       5                     \n",
       "0610006L08Rik  0                0                       0                     \n",
       "0610009B22Rik 34               74                      85                     \n",
       "<U+22EE>        <U+22EE>         <U+22EE>                <U+22EE>               \n",
       "0610009L18Rik 0                0                       0                      \n",
       "0610010F05Rik 0                0                       0                      \n",
       "              plate2_B04 . cast plate2_B05 . mus plate2_B06 . bi_allelic\n",
       "0610005C13Rik   0                 0               30                    \n",
       "0610006L08Rik   0                 0                0                    \n",
       "0610009B22Rik 206               107              118                    \n",
       "<U+22EE>        <U+22EE>          <U+22EE>         <U+22EE>               \n",
       "0610009L18Rik 0                 0                0                      \n",
       "0610010F05Rik 0                 0                0                      \n",
       "              plate2_C01 . mus plate2_C02 . bi_allelic plate2_C03 . bi_allelic\n",
       "0610005C13Rik   0               5                       0                     \n",
       "0610006L08Rik   0               0                       0                     \n",
       "0610009B22Rik 180              29                      95                     \n",
       "<U+22EE>        <U+22EE>         <U+22EE>                <U+22EE>               \n",
       "0610009L18Rik 0                25                      0                      \n",
       "0610010F05Rik 0                 0                      3                      \n",
       "              plate2_C04 . cast plate2_C05 . cast plate2_C06 . mus\n",
       "0610005C13Rik   0                0                  0             \n",
       "0610006L08Rik   0                0                  0             \n",
       "0610009B22Rik 101               82                231             \n",
       "<U+22EE>        <U+22EE>          <U+22EE>          <U+22EE>        \n",
       "0610009L18Rik 0                 0                 0               \n",
       "0610010F05Rik 2                 1                 0               \n",
       "              plate2_D01 . mus plate2_D02 . mus plate2_D03 . bi_allelic\n",
       "0610005C13Rik  0               15               13                     \n",
       "0610006L08Rik  0                0                0                     \n",
       "0610009B22Rik 67               17               97                     \n",
       "<U+22EE>        <U+22EE>         <U+22EE>         <U+22EE>               \n",
       "0610009L18Rik 0                0                 0                     \n",
       "0610010F05Rik 1                7                14                     \n",
       "              plate2_D04 . bi_allelic plate2_D05 . bi_allelic plate2_D06 . cast\n",
       "0610005C13Rik 19                        0                       0              \n",
       "0610006L08Rik  0                        0                       0              \n",
       "0610009B22Rik 90                      155                     153              \n",
       "<U+22EE>        <U+22EE>                <U+22EE>                <U+22EE>         \n",
       "0610009L18Rik  0                      0                        0               \n",
       "0610010F05Rik 40                      0                       25               \n",
       "              plate2_E01 . mus plate2_E02 . cast plate2_E03 . bi_allelic\n",
       "0610005C13Rik   9                1                0                     \n",
       "0610006L08Rik   0                0                0                     \n",
       "0610009B22Rik 167              149               74                     \n",
       "<U+22EE>        <U+22EE>         <U+22EE>          <U+22EE>               \n",
       "0610009L18Rik 0                0                 0                      \n",
       "0610010F05Rik 0                0                 9                      \n",
       "              plate2_E04 . mus plate2_E05 . bi_allelic plate2_E06 . cast\n",
       "0610005C13Rik  0                 0                      0               \n",
       "0610006L08Rik  0                 0                      0               \n",
       "0610009B22Rik 85               139                     97               \n",
       "<U+22EE>        <U+22EE>         <U+22EE>                <U+22EE>         \n",
       "0610009L18Rik 0                0                       0                \n",
       "0610010F05Rik 0                0                       0                \n",
       "              plate2_F01 . bi_allelic plate2_F02 . bi_allelic\n",
       "0610005C13Rik   8                      6                     \n",
       "0610006L08Rik   0                      0                     \n",
       "0610009B22Rik 163                     93                     \n",
       "<U+22EE>        <U+22EE>                <U+22EE>               \n",
       "0610009L18Rik 0                       0                      \n",
       "0610010F05Rik 0                       0                      \n",
       "              plate2_F03 . bi_allelic plate2_F04 . bi_allelic plate2_F05 . cast\n",
       "0610005C13Rik  0                       7                       0               \n",
       "0610006L08Rik  0                       0                       0               \n",
       "0610009B22Rik 98                      56                      84               \n",
       "<U+22EE>        <U+22EE>                <U+22EE>                <U+22EE>         \n",
       "0610009L18Rik  8                       0                      0                \n",
       "0610010F05Rik 28                      11                      0                \n",
       "              plate2_F06 . bi_allelic plate2_G01 . cast plate2_G02 . mus\n",
       "0610005C13Rik   4                      14                0              \n",
       "0610006L08Rik   0                       0                0              \n",
       "0610009B22Rik 226                     219               41              \n",
       "<U+22EE>        <U+22EE>                <U+22EE>          <U+22EE>        \n",
       "0610009L18Rik 0                       0                 2               \n",
       "0610010F05Rik 0                       0                 0               \n",
       "              plate2_G03 . bi_allelic plate2_G04 . bi_allelic plate2_G05 . cast\n",
       "0610005C13Rik  0                        7                      0               \n",
       "0610006L08Rik  0                        0                      0               \n",
       "0610009B22Rik 55                      182                     69               \n",
       "<U+22EE>        <U+22EE>                <U+22EE>                <U+22EE>         \n",
       "0610009L18Rik 0                        0                      0                \n",
       "0610010F05Rik 3                       34                      0                \n",
       "              plate2_G06 . bi_allelic plate2_H01 . bi_allelic plate2_H02 . cast\n",
       "0610005C13Rik   0                      0                       1               \n",
       "0610006L08Rik   0                      0                       0               \n",
       "0610009B22Rik 249                     73                      66               \n",
       "<U+22EE>        <U+22EE>                <U+22EE>                <U+22EE>         \n",
       "0610009L18Rik 0                       5                       0                \n",
       "0610010F05Rik 0                       0                       0                \n",
       "              plate2_H03 . bi_allelic plate2_H04 . bi_allelic plate2_H05 . cast\n",
       "0610005C13Rik   0                      0                        0              \n",
       "0610006L08Rik   0                      0                        0              \n",
       "0610009B22Rik 106                     74                      218              \n",
       "<U+22EE>        <U+22EE>                <U+22EE>                <U+22EE>         \n",
       "0610009L18Rik  0                      0                       0                \n",
       "0610010F05Rik 10                      0                       0                \n",
       "              plate2_H06 . bi_allelic\n",
       "0610005C13Rik  5                     \n",
       "0610006L08Rik  0                     \n",
       "0610009B22Rik 52                     \n",
       "<U+22EE>        <U+22EE>               \n",
       "0610009L18Rik 0                      \n",
       "0610010F05Rik 6                      "
      ]
     },
     "metadata": {},
     "output_type": "display_data"
    }
   ],
   "source": [
    "head(X_loss_nonallelic_final)"
   ]
  },
  {
   "cell_type": "code",
   "execution_count": 180,
   "metadata": {},
   "outputs": [],
   "source": [
    "write.csv(X_loss_nonallelic_final, file = \"/lustre1/project/stg_00041/Irene/Talon_Janiszewski_XCR2/XO_transcriptional_burst/X_loss_nonallelic_final.csv\")"
   ]
  },
  {
   "cell_type": "code",
   "execution_count": null,
   "metadata": {},
   "outputs": [],
   "source": []
  }
 ],
 "metadata": {
  "kernelspec": {
   "display_name": "R [conda env:R_Seurat]",
   "language": "R",
   "name": "conda-env-R_Seurat-r"
  },
  "language_info": {
   "codemirror_mode": "r",
   "file_extension": ".r",
   "mimetype": "text/x-r-source",
   "name": "R",
   "pygments_lexer": "r",
   "version": "4.0.3"
  }
 },
 "nbformat": 4,
 "nbformat_minor": 4
}
