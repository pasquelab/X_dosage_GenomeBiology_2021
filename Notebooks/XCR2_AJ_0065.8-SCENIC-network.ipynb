{
 "cells": [
  {
   "cell_type": "markdown",
   "metadata": {},
   "source": [
    "## AJ_0065.8 - SCENIC - Network analysis"
   ]
  },
  {
   "cell_type": "markdown",
   "metadata": {},
   "source": [
    "The aim here is to use the data generated from multiple SCENIC runs, all combined, to construct a network of connections between TFs and targets.  \n",
    "\n",
    "#### PART 1\n",
    "The first step is to create a table with STABLE network connections. In other words keep connections that appear in all 5 runs. Therefore, also remove TFs that do not have recurrent connections. [Python]. \n",
    "#### PART 2\n",
    "The second step is to use this data to generate a network with all stable connections and subsequently look at how this network is changing during reprogramming. This can be done by for example projecting expression of tfs and targets in cells from different stages of reprogramming. To see which parts of network go off and which go on."
   ]
  },
  {
   "cell_type": "markdown",
   "metadata": {},
   "source": [
    "## PART 1 "
   ]
  },
  {
   "cell_type": "markdown",
   "metadata": {},
   "source": [
    "### CONDA ENV - pySCENIC_2"
   ]
  },
  {
   "cell_type": "code",
   "execution_count": 1,
   "metadata": {},
   "outputs": [
    {
     "name": "stderr",
     "output_type": "stream",
     "text": [
      "/data/leuven/320/vsc32023/miniconda/envs/pySCENIC_2/lib/python3.6/site-packages/dask/config.py:161: YAMLLoadWarning: calling yaml.load() without Loader=... is deprecated, as the default Loader is unsafe. Please read https://msg.pyyaml.org/load for full details.\n",
      "  data = yaml.load(f.read()) or {}\n"
     ]
    }
   ],
   "source": [
    "import os\n",
    "import glob\n",
    "import pickle\n",
    "import pandas as pd\n",
    "import numpy as np\n",
    "import matplotlib.pyplot as plt\n",
    "\n",
    "from pyscenic.rnkdb import FeatherRankingDatabase as RankingDatabase\n",
    "from pyscenic.utils import modules_from_adjacencies, load_motifs\n",
    "from pyscenic.prune import prune2df, df2regulons\n",
    "from pyscenic.aucell import aucell"
   ]
  },
  {
   "cell_type": "code",
   "execution_count": 2,
   "metadata": {},
   "outputs": [],
   "source": [
    "DATA_FOLDER=\"/staging/leuven/stg_00041/Adrian/TALON_JANISZEWSKI_XCR2/SCENIC/data_folder\""
   ]
  },
  {
   "cell_type": "code",
   "execution_count": 3,
   "metadata": {},
   "outputs": [
    {
     "name": "stdout",
     "output_type": "stream",
     "text": [
      "/lustre1/project/stg_00041/Adrian/TALON_JANISZEWSKI_XCR2\n"
     ]
    }
   ],
   "source": [
    "cd /staging/leuven/stg_00041/Adrian/TALON_JANISZEWSKI_XCR2/"
   ]
  },
  {
   "cell_type": "markdown",
   "metadata": {},
   "source": [
    "Load in motif files from AJ_0065.5b"
   ]
  },
  {
   "cell_type": "code",
   "execution_count": 4,
   "metadata": {},
   "outputs": [],
   "source": [
    "motifs1 = load_motifs(os.path.join(DATA_FOLDER, \"motifs.csv\"))\n",
    "motifs2 = load_motifs(os.path.join(DATA_FOLDER, \"motifs_2.csv\"))\n",
    "motifs3 = load_motifs(os.path.join(DATA_FOLDER, \"motifs_3.csv\"))\n",
    "motifs4 = load_motifs(os.path.join(DATA_FOLDER, \"motifs_4.csv\"))\n",
    "motifs5 = load_motifs(os.path.join(DATA_FOLDER, \"motifs_5.csv\"))"
   ]
  },
  {
   "cell_type": "code",
   "execution_count": 5,
   "metadata": {},
   "outputs": [],
   "source": [
    "regulons_1 = df2regulons(motifs1)\n",
    "regulons_2 = df2regulons(motifs2)\n",
    "regulons_3 = df2regulons(motifs3)\n",
    "regulons_4 = df2regulons(motifs4)\n",
    "regulons_5 = df2regulons(motifs5)"
   ]
  },
  {
   "cell_type": "markdown",
   "metadata": {},
   "source": [
    "##### Function: Convert regulons file into TF - target interaction table with two variables: TF and targets"
   ]
  },
  {
   "cell_type": "code",
   "execution_count": 6,
   "metadata": {},
   "outputs": [],
   "source": [
    "# The function to convert raw regulon dictionary from pySCENIC to a dataframe with TF-target connections and co-expression weight that corresponds to each connection\n",
    "\n",
    "# Input: regulons df directly from SCENIC (output of df2regulons(motifs1))\n",
    "# Output is a data frame with variables: TF, Target, Weight (co-expression weight)\n",
    "\n",
    "# The function repeats the similar operation twice, once to get TF - targets, and second to get weights. Then the two are merged to get TF-target-weight.\n",
    "# The repetition is because I don't know how to 'explode' two list containing columns in data frame. In most recent version of Pandas it's possible, so that would\n",
    "# simplify the function\n",
    "\n",
    "def regulons2connections(regulons):\n",
    "\n",
    "    #### Getting TF - Target list ####\n",
    "    TF_target = []\n",
    "\n",
    "    for tf in range(len(regulons)):\n",
    "        connections = [regulons[tf].name, list(regulons[tf].gene2weight)] \n",
    "        TF_target.append(connections)\n",
    "\n",
    "    # Create a data frame from the list with columns TF and Target (targets now are still in a list)\n",
    "\n",
    "    TF_target = pd.DataFrame(TF_target, columns=['TF', 'Target'])\n",
    "\n",
    "    # 'Explode' the listed targets so that now each row of the table contains a single interaction TF - target \n",
    "    #       (subfunction borrowed from internet. 'Explode' available in newer release of Pandas)\n",
    "\n",
    "    lst_col = 'Target'\n",
    "\n",
    "    TF_target_df_long = pd.DataFrame({\n",
    "          col:np.repeat(TF_target[col].values, TF_target[lst_col].str.len())\n",
    "          for col in TF_target.columns.drop(lst_col)}\n",
    "        ).assign(**{lst_col:np.concatenate(TF_target[lst_col].values)})[TF_target.columns]\n",
    "\n",
    "    #### Getting TF - Weight list == Same as above but for TFs and weights ####\n",
    "    TF_weight = []\n",
    "\n",
    "    for tf in range(len(regulons)):\n",
    "        connections = [regulons[tf].name, list(regulons[tf].gene2weight.values())] \n",
    "        TF_weight.append(connections)\n",
    "\n",
    "    TF_weight = pd.DataFrame(TF_weight, columns=['TF', 'Weight'])\n",
    "\n",
    "    lst_col = 'Weight'\n",
    "\n",
    "    TF_weight_df_long = pd.DataFrame({\n",
    "          col:np.repeat(TF_weight[col].values, TF_weight[lst_col].str.len())\n",
    "          for col in TF_weight.columns.drop(lst_col)}\n",
    "        ).assign(**{lst_col:np.concatenate(TF_weight[lst_col].values)})[TF_weight.columns]    \n",
    "    \n",
    "    #### Merge TF_targets with TF_weight, to get TF_target_weight ####     \n",
    "    TF_target_weight = pd.concat([TF_target_df_long, TF_weight_df_long['Weight']], axis=1)\n",
    "    \n",
    "    return TF_target_weight"
   ]
  },
  {
   "cell_type": "markdown",
   "metadata": {},
   "source": [
    "Collect all connections from all runs in one data frame"
   ]
  },
  {
   "cell_type": "code",
   "execution_count": 7,
   "metadata": {},
   "outputs": [],
   "source": [
    "all_runs = [regulons_1,regulons_2,regulons_3,regulons_4,regulons_5]\n",
    "\n",
    "regulons_connections = pd.DataFrame()\n",
    "\n",
    "for i in range(5):\n",
    "    temp =  regulons2connections(all_runs[i])\n",
    "    regulons_connections = regulons_connections.append(temp)"
   ]
  },
  {
   "cell_type": "code",
   "execution_count": 8,
   "metadata": {},
   "outputs": [],
   "source": [
    "regulons_connections.to_csv('SCENIC/regulons_connections_weights.csv')"
   ]
  },
  {
   "cell_type": "markdown",
   "metadata": {},
   "source": [
    "### CONDA ENV - R_base"
   ]
  },
  {
   "cell_type": "code",
   "execution_count": 1,
   "metadata": {},
   "outputs": [
    {
     "name": "stderr",
     "output_type": "stream",
     "text": [
      "\n",
      "Attaching package: 'dplyr'\n",
      "\n",
      "The following objects are masked from 'package:stats':\n",
      "\n",
      "    filter, lag\n",
      "\n",
      "The following objects are masked from 'package:base':\n",
      "\n",
      "    intersect, setdiff, setequal, union\n",
      "\n",
      "\n",
      "Attaching package: 'genefilter'\n",
      "\n",
      "The following object is masked from 'package:readr':\n",
      "\n",
      "    spec\n",
      "\n",
      "\n",
      "Attaching package: 'tidygraph'\n",
      "\n",
      "The following object is masked from 'package:stats':\n",
      "\n",
      "    filter\n",
      "\n"
     ]
    }
   ],
   "source": [
    "library(readr)\n",
    "library(tidyr)\n",
    "library(dplyr)\n",
    "library(purrr)\n",
    "library(ggplot2)\n",
    "#library(DESeq2)\n",
    "library(ggrepel)\n",
    "library(genefilter)\n",
    "library(pheatmap)\n",
    "library(tidygraph)\n",
    "library(ggraph)\n",
    "library(stringr)\n",
    "library(tibble)\n",
    "library(visNetwork)"
   ]
  },
  {
   "cell_type": "code",
   "execution_count": 2,
   "metadata": {},
   "outputs": [],
   "source": [
    "setwd(\"/staging/leuven/stg_00041/Adrian/TALON_JANISZEWSKI_XCR2/\")"
   ]
  },
  {
   "cell_type": "code",
   "execution_count": 3,
   "metadata": {},
   "outputs": [
    {
     "name": "stderr",
     "output_type": "stream",
     "text": [
      "Warning message:\n",
      "\"Missing column names filled in: 'X1' [1]\"Parsed with column specification:\n",
      "cols(\n",
      "  X1 = col_integer(),\n",
      "  TF = col_character(),\n",
      "  Target = col_character(),\n",
      "  Weight = col_double()\n",
      ")\n"
     ]
    }
   ],
   "source": [
    "all_connections <- read_csv('SCENIC/regulons_connections_weights.csv') \n",
    "all_connections <- all_connections[,-1]\n",
    "all_connections$TF <- str_replace(all_connections$TF, \"\\\\(\\\\+\\\\)\", \"\")"
   ]
  },
  {
   "cell_type": "code",
   "execution_count": 4,
   "metadata": {},
   "outputs": [
    {
     "data": {
      "text/html": [
       "<table>\n",
       "<thead><tr><th scope=col>TF</th><th scope=col>Target</th><th scope=col>Weight</th></tr></thead>\n",
       "<tbody>\n",
       "\t<tr><td>2410141K09Rik</td><td>Cdk4         </td><td> 0.9817824   </td></tr>\n",
       "\t<tr><td>2410141K09Rik</td><td>Gtf2h1       </td><td>17.7140512   </td></tr>\n",
       "\t<tr><td>2410141K09Rik</td><td>Sae1         </td><td>13.0603468   </td></tr>\n",
       "\t<tr><td>2410141K09Rik</td><td>Apex1        </td><td>11.7517344   </td></tr>\n",
       "\t<tr><td>2410141K09Rik</td><td>Dvl2         </td><td>13.0603468   </td></tr>\n",
       "\t<tr><td>2410141K09Rik</td><td>Pop1         </td><td>17.7140512   </td></tr>\n",
       "</tbody>\n",
       "</table>\n"
      ],
      "text/latex": [
       "\\begin{tabular}{r|lll}\n",
       " TF & Target & Weight\\\\\n",
       "\\hline\n",
       "\t 2410141K09Rik & Cdk4          &  0.9817824   \\\\\n",
       "\t 2410141K09Rik & Gtf2h1        & 17.7140512   \\\\\n",
       "\t 2410141K09Rik & Sae1          & 13.0603468   \\\\\n",
       "\t 2410141K09Rik & Apex1         & 11.7517344   \\\\\n",
       "\t 2410141K09Rik & Dvl2          & 13.0603468   \\\\\n",
       "\t 2410141K09Rik & Pop1          & 17.7140512   \\\\\n",
       "\\end{tabular}\n"
      ],
      "text/markdown": [
       "\n",
       "TF | Target | Weight | \n",
       "|---|---|---|---|---|---|\n",
       "| 2410141K09Rik | Cdk4          |  0.9817824    | \n",
       "| 2410141K09Rik | Gtf2h1        | 17.7140512    | \n",
       "| 2410141K09Rik | Sae1          | 13.0603468    | \n",
       "| 2410141K09Rik | Apex1         | 11.7517344    | \n",
       "| 2410141K09Rik | Dvl2          | 13.0603468    | \n",
       "| 2410141K09Rik | Pop1          | 17.7140512    | \n",
       "\n",
       "\n"
      ],
      "text/plain": [
       "  TF            Target Weight    \n",
       "1 2410141K09Rik Cdk4    0.9817824\n",
       "2 2410141K09Rik Gtf2h1 17.7140512\n",
       "3 2410141K09Rik Sae1   13.0603468\n",
       "4 2410141K09Rik Apex1  11.7517344\n",
       "5 2410141K09Rik Dvl2   13.0603468\n",
       "6 2410141K09Rik Pop1   17.7140512"
      ]
     },
     "metadata": {},
     "output_type": "display_data"
    },
    {
     "data": {
      "text/html": [
       "<ol class=list-inline>\n",
       "\t<li>133913</li>\n",
       "\t<li>3</li>\n",
       "</ol>\n"
      ],
      "text/latex": [
       "\\begin{enumerate*}\n",
       "\\item 133913\n",
       "\\item 3\n",
       "\\end{enumerate*}\n"
      ],
      "text/markdown": [
       "1. 133913\n",
       "2. 3\n",
       "\n",
       "\n"
      ],
      "text/plain": [
       "[1] 133913      3"
      ]
     },
     "metadata": {},
     "output_type": "display_data"
    }
   ],
   "source": [
    "head(all_connections)\n",
    "dim(all_connections)"
   ]
  },
  {
   "cell_type": "markdown",
   "metadata": {},
   "source": [
    "#### Filter to keep only the connections that appeared in all 5 runs of SCENIC"
   ]
  },
  {
   "cell_type": "code",
   "execution_count": 5,
   "metadata": {},
   "outputs": [],
   "source": [
    "all_robust_connections <- all_connections %>%\n",
    "                                unite(\"TF_Target\", TF, Target, sep = '_') %>%\n",
    "                                group_by(TF_Target) %>%\n",
    "                                add_count() %>%\n",
    "                                filter(n == 5) %>% # Keep only the connection that appear in all runs\n",
    "                                ungroup() %>%\n",
    "                                separate(TF_Target, c(\"TF\", \"Target\"), sep = \"_\") %>%\n",
    "                                select(TF, Target, Weight)"
   ]
  },
  {
   "cell_type": "code",
   "execution_count": 6,
   "metadata": {},
   "outputs": [
    {
     "data": {
      "text/html": [
       "140"
      ],
      "text/latex": [
       "140"
      ],
      "text/markdown": [
       "140"
      ],
      "text/plain": [
       "[1] 140"
      ]
     },
     "metadata": {},
     "output_type": "display_data"
    },
    {
     "data": {
      "text/html": [
       "<ol class=list-inline>\n",
       "\t<li>43090</li>\n",
       "\t<li>3</li>\n",
       "</ol>\n"
      ],
      "text/latex": [
       "\\begin{enumerate*}\n",
       "\\item 43090\n",
       "\\item 3\n",
       "\\end{enumerate*}\n"
      ],
      "text/markdown": [
       "1. 43090\n",
       "2. 3\n",
       "\n",
       "\n"
      ],
      "text/plain": [
       "[1] 43090     3"
      ]
     },
     "metadata": {},
     "output_type": "display_data"
    }
   ],
   "source": [
    "length(unique(all_robust_connections$TF))\n",
    "dim(all_robust_connections)"
   ]
  },
  {
   "cell_type": "markdown",
   "metadata": {},
   "source": [
    "#### Check the distribution of weight scores per connection"
   ]
  },
  {
   "cell_type": "code",
   "execution_count": 7,
   "metadata": {},
   "outputs": [
    {
     "data": {
      "text/plain": [
       "    Min.  1st Qu.   Median     Mean  3rd Qu.     Max. \n",
       " 0.01663  3.06292  6.42837  8.39192 11.78049 47.14832 "
      ]
     },
     "metadata": {},
     "output_type": "display_data"
    }
   ],
   "source": [
    "summary(all_robust_connections$Weight)"
   ]
  },
  {
   "cell_type": "code",
   "execution_count": 8,
   "metadata": {},
   "outputs": [
    {
     "data": {},
     "metadata": {},
     "output_type": "display_data"
    },
    {
     "data": {
      "image/png": "[encoded data removed]",
      "text/plain": [
       "plot without title"
      ]
     },
     "metadata": {},
     "output_type": "display_data",
     "source": "R display func"
    }
   ],
   "source": [
    "ggplot(all_robust_connections, aes(Weight)) +\n",
    "geom_histogram(bins = 200) +\n",
    "#xlim(0,10) +\n",
    "geom_vline(xintercept=1, color = 'red') +\n",
    "theme_light() +\n",
    "scale_x_log10() +\n",
    "xlab(\"log10(Weigth)\")"
   ]
  },
  {
   "cell_type": "code",
   "execution_count": 9,
   "metadata": {},
   "outputs": [
    {
     "data": {
      "text/plain": [
       "\n",
       "FALSE  TRUE \n",
       " 2324 40766 "
      ]
     },
     "metadata": {},
     "output_type": "display_data"
    },
    {
     "data": {
      "text/html": [
       "'5.7 % of connections was removed.'"
      ],
      "text/latex": [
       "'5.7 \\% of connections was removed.'"
      ],
      "text/markdown": [
       "'5.7 % of connections was removed.'"
      ],
      "text/plain": [
       "[1] \"5.7 % of connections was removed.\""
      ]
     },
     "metadata": {},
     "output_type": "display_data"
    }
   ],
   "source": [
    "table(all_robust_connections$Weight >= 1)\n",
    "\n",
    "paste(as.character(round((2324/40746)*100,2)),\"% of connections was removed.\")"
   ]
  },
  {
   "cell_type": "markdown",
   "metadata": {},
   "source": [
    "#### Apply the filter"
   ]
  },
  {
   "cell_type": "code",
   "execution_count": 10,
   "metadata": {},
   "outputs": [],
   "source": [
    "all_robust_connections <- all_robust_connections %>%\n",
    "                                filter(Weight >= 1)"
   ]
  },
  {
   "cell_type": "markdown",
   "metadata": {},
   "source": [
    "#### Load and filter my main connections list (after 5 runs) to keep only robust connections"
   ]
  },
  {
   "cell_type": "code",
   "execution_count": 11,
   "metadata": {},
   "outputs": [
    {
     "name": "stderr",
     "output_type": "stream",
     "text": [
      "Warning message:\n",
      "\"Missing column names filled in: 'X1' [1]\"Parsed with column specification:\n",
      "cols(\n",
      "  X1 = col_integer(),\n",
      "  Regulon = col_character(),\n",
      "  Targets = col_character()\n",
      ")\n"
     ]
    }
   ],
   "source": [
    "connections_5runs <- read_csv(\"SCENIC/regulons_targets.csv\") # 311 REGULONS LIST OF CONNECTIONS (MAIN REGULONS)"
   ]
  },
  {
   "cell_type": "code",
   "execution_count": 12,
   "metadata": {},
   "outputs": [],
   "source": [
    "connections_5runs <- connections_5runs[,2:3]\n",
    "connections_5runs$Regulon <- str_replace(connections_5runs$Regulon, \"\\\\(\\\\+\\\\)\", \"\")\n",
    "colnames(connections_5runs) <- c(\"TF\",\"Target\")"
   ]
  },
  {
   "cell_type": "code",
   "execution_count": 13,
   "metadata": {},
   "outputs": [
    {
     "data": {
      "text/html": [
       "<table>\n",
       "<thead><tr><th scope=col>TF</th><th scope=col>Target</th></tr></thead>\n",
       "<tbody>\n",
       "\t<tr><td>2410141K09Rik</td><td>Cdk4         </td></tr>\n",
       "\t<tr><td>2410141K09Rik</td><td>Gtf2h1       </td></tr>\n",
       "\t<tr><td>2410141K09Rik</td><td>Sae1         </td></tr>\n",
       "\t<tr><td>2410141K09Rik</td><td>Qtrt1        </td></tr>\n",
       "\t<tr><td>2410141K09Rik</td><td>Apex1        </td></tr>\n",
       "\t<tr><td>2410141K09Rik</td><td>Pop1         </td></tr>\n",
       "</tbody>\n",
       "</table>\n"
      ],
      "text/latex": [
       "\\begin{tabular}{r|ll}\n",
       " TF & Target\\\\\n",
       "\\hline\n",
       "\t 2410141K09Rik & Cdk4         \\\\\n",
       "\t 2410141K09Rik & Gtf2h1       \\\\\n",
       "\t 2410141K09Rik & Sae1         \\\\\n",
       "\t 2410141K09Rik & Qtrt1        \\\\\n",
       "\t 2410141K09Rik & Apex1        \\\\\n",
       "\t 2410141K09Rik & Pop1         \\\\\n",
       "\\end{tabular}\n"
      ],
      "text/markdown": [
       "\n",
       "TF | Target | \n",
       "|---|---|---|---|---|---|\n",
       "| 2410141K09Rik | Cdk4          | \n",
       "| 2410141K09Rik | Gtf2h1        | \n",
       "| 2410141K09Rik | Sae1          | \n",
       "| 2410141K09Rik | Qtrt1         | \n",
       "| 2410141K09Rik | Apex1         | \n",
       "| 2410141K09Rik | Pop1          | \n",
       "\n",
       "\n"
      ],
      "text/plain": [
       "  TF            Target\n",
       "1 2410141K09Rik Cdk4  \n",
       "2 2410141K09Rik Gtf2h1\n",
       "3 2410141K09Rik Sae1  \n",
       "4 2410141K09Rik Qtrt1 \n",
       "5 2410141K09Rik Apex1 \n",
       "6 2410141K09Rik Pop1  "
      ]
     },
     "metadata": {},
     "output_type": "display_data"
    },
    {
     "data": {
      "text/html": [
       "<ol class=list-inline>\n",
       "\t<li>24156</li>\n",
       "\t<li>2</li>\n",
       "</ol>\n"
      ],
      "text/latex": [
       "\\begin{enumerate*}\n",
       "\\item 24156\n",
       "\\item 2\n",
       "\\end{enumerate*}\n"
      ],
      "text/markdown": [
       "1. 24156\n",
       "2. 2\n",
       "\n",
       "\n"
      ],
      "text/plain": [
       "[1] 24156     2"
      ]
     },
     "metadata": {},
     "output_type": "display_data"
    },
    {
     "data": {
      "text/html": [
       "311"
      ],
      "text/latex": [
       "311"
      ],
      "text/markdown": [
       "311"
      ],
      "text/plain": [
       "[1] 311"
      ]
     },
     "metadata": {},
     "output_type": "display_data"
    },
    {
     "data": {
      "text/html": [
       "8976"
      ],
      "text/latex": [
       "8976"
      ],
      "text/markdown": [
       "8976"
      ],
      "text/plain": [
       "[1] 8976"
      ]
     },
     "metadata": {},
     "output_type": "display_data"
    }
   ],
   "source": [
    "head(connections_5runs)\n",
    "dim(connections_5runs)\n",
    "length(unique(connections_5runs$TF))\n",
    "length(unique(connections_5runs$Target))"
   ]
  },
  {
   "cell_type": "code",
   "execution_count": 14,
   "metadata": {},
   "outputs": [],
   "source": [
    "connections_5runs_filtered <- connections_5runs %>%\n",
    "                                    semi_join(all_robust_connections, by = c(\"TF\", \"Target\"))"
   ]
  },
  {
   "cell_type": "code",
   "execution_count": 15,
   "metadata": {},
   "outputs": [
    {
     "data": {
      "text/html": [
       "<table>\n",
       "<thead><tr><th scope=col>TF</th><th scope=col>Target</th></tr></thead>\n",
       "<tbody>\n",
       "\t<tr><td>Arid3a </td><td>Adgrg1 </td></tr>\n",
       "\t<tr><td>Arid3a </td><td>Sbsn   </td></tr>\n",
       "\t<tr><td>Arid3a </td><td>Cldn4  </td></tr>\n",
       "\t<tr><td>Arid3a </td><td>Sertad2</td></tr>\n",
       "\t<tr><td>Arid3a </td><td>Pdlim2 </td></tr>\n",
       "\t<tr><td>Arid3a </td><td>Clu    </td></tr>\n",
       "</tbody>\n",
       "</table>\n"
      ],
      "text/latex": [
       "\\begin{tabular}{r|ll}\n",
       " TF & Target\\\\\n",
       "\\hline\n",
       "\t Arid3a  & Adgrg1 \\\\\n",
       "\t Arid3a  & Sbsn   \\\\\n",
       "\t Arid3a  & Cldn4  \\\\\n",
       "\t Arid3a  & Sertad2\\\\\n",
       "\t Arid3a  & Pdlim2 \\\\\n",
       "\t Arid3a  & Clu    \\\\\n",
       "\\end{tabular}\n"
      ],
      "text/markdown": [
       "\n",
       "TF | Target | \n",
       "|---|---|---|---|---|---|\n",
       "| Arid3a  | Adgrg1  | \n",
       "| Arid3a  | Sbsn    | \n",
       "| Arid3a  | Cldn4   | \n",
       "| Arid3a  | Sertad2 | \n",
       "| Arid3a  | Pdlim2  | \n",
       "| Arid3a  | Clu     | \n",
       "\n",
       "\n"
      ],
      "text/plain": [
       "  TF     Target \n",
       "1 Arid3a Adgrg1 \n",
       "2 Arid3a Sbsn   \n",
       "3 Arid3a Cldn4  \n",
       "4 Arid3a Sertad2\n",
       "5 Arid3a Pdlim2 \n",
       "6 Arid3a Clu    "
      ]
     },
     "metadata": {},
     "output_type": "display_data"
    },
    {
     "data": {
      "text/html": [
       "<ol class=list-inline>\n",
       "\t<li>8614</li>\n",
       "\t<li>2</li>\n",
       "</ol>\n"
      ],
      "text/latex": [
       "\\begin{enumerate*}\n",
       "\\item 8614\n",
       "\\item 2\n",
       "\\end{enumerate*}\n"
      ],
      "text/markdown": [
       "1. 8614\n",
       "2. 2\n",
       "\n",
       "\n"
      ],
      "text/plain": [
       "[1] 8614    2"
      ]
     },
     "metadata": {},
     "output_type": "display_data"
    },
    {
     "data": {
      "text/html": [
       "140"
      ],
      "text/latex": [
       "140"
      ],
      "text/markdown": [
       "140"
      ],
      "text/plain": [
       "[1] 140"
      ]
     },
     "metadata": {},
     "output_type": "display_data"
    },
    {
     "data": {
      "text/html": [
       "4618"
      ],
      "text/latex": [
       "4618"
      ],
      "text/markdown": [
       "4618"
      ],
      "text/plain": [
       "[1] 4618"
      ]
     },
     "metadata": {},
     "output_type": "display_data"
    }
   ],
   "source": [
    "head(connections_5runs_filtered)\n",
    "dim(connections_5runs_filtered)\n",
    "length(unique(connections_5runs_filtered$TF))\n",
    "length(unique(connections_5runs_filtered$Target))"
   ]
  },
  {
   "cell_type": "markdown",
   "metadata": {},
   "source": [
    "#### Remove three factors that are not part of the network (Gabpb1, Gsc - those interact only with each other, and Bmyc which interacts only with Ikzf2)"
   ]
  },
  {
   "cell_type": "code",
   "execution_count": 16,
   "metadata": {},
   "outputs": [],
   "source": [
    "connections_5runs_filtered <- connections_5runs_filtered %>% filter(!(TF %in% c(\"Gabpb1\",\"Gsc\", \"Bmyc\")))"
   ]
  },
  {
   "cell_type": "code",
   "execution_count": 17,
   "metadata": {},
   "outputs": [
    {
     "data": {
      "text/html": [
       "<table>\n",
       "<thead><tr><th scope=col>TF</th><th scope=col>Target</th></tr></thead>\n",
       "<tbody>\n",
       "\t<tr><td>Arid3a </td><td>Adgrg1 </td></tr>\n",
       "\t<tr><td>Arid3a </td><td>Sbsn   </td></tr>\n",
       "\t<tr><td>Arid3a </td><td>Cldn4  </td></tr>\n",
       "\t<tr><td>Arid3a </td><td>Sertad2</td></tr>\n",
       "\t<tr><td>Arid3a </td><td>Pdlim2 </td></tr>\n",
       "\t<tr><td>Arid3a </td><td>Clu    </td></tr>\n",
       "</tbody>\n",
       "</table>\n"
      ],
      "text/latex": [
       "\\begin{tabular}{r|ll}\n",
       " TF & Target\\\\\n",
       "\\hline\n",
       "\t Arid3a  & Adgrg1 \\\\\n",
       "\t Arid3a  & Sbsn   \\\\\n",
       "\t Arid3a  & Cldn4  \\\\\n",
       "\t Arid3a  & Sertad2\\\\\n",
       "\t Arid3a  & Pdlim2 \\\\\n",
       "\t Arid3a  & Clu    \\\\\n",
       "\\end{tabular}\n"
      ],
      "text/markdown": [
       "\n",
       "TF | Target | \n",
       "|---|---|---|---|---|---|\n",
       "| Arid3a  | Adgrg1  | \n",
       "| Arid3a  | Sbsn    | \n",
       "| Arid3a  | Cldn4   | \n",
       "| Arid3a  | Sertad2 | \n",
       "| Arid3a  | Pdlim2  | \n",
       "| Arid3a  | Clu     | \n",
       "\n",
       "\n"
      ],
      "text/plain": [
       "  TF     Target \n",
       "1 Arid3a Adgrg1 \n",
       "2 Arid3a Sbsn   \n",
       "3 Arid3a Cldn4  \n",
       "4 Arid3a Sertad2\n",
       "5 Arid3a Pdlim2 \n",
       "6 Arid3a Clu    "
      ]
     },
     "metadata": {},
     "output_type": "display_data"
    },
    {
     "data": {
      "text/html": [
       "<ol class=list-inline>\n",
       "\t<li>8611</li>\n",
       "\t<li>2</li>\n",
       "</ol>\n"
      ],
      "text/latex": [
       "\\begin{enumerate*}\n",
       "\\item 8611\n",
       "\\item 2\n",
       "\\end{enumerate*}\n"
      ],
      "text/markdown": [
       "1. 8611\n",
       "2. 2\n",
       "\n",
       "\n"
      ],
      "text/plain": [
       "[1] 8611    2"
      ]
     },
     "metadata": {},
     "output_type": "display_data"
    },
    {
     "data": {
      "text/html": [
       "137"
      ],
      "text/latex": [
       "137"
      ],
      "text/markdown": [
       "137"
      ],
      "text/plain": [
       "[1] 137"
      ]
     },
     "metadata": {},
     "output_type": "display_data"
    }
   ],
   "source": [
    "head(connections_5runs_filtered)\n",
    "dim(connections_5runs_filtered)\n",
    "length(unique(connections_5runs_filtered$TF))"
   ]
  },
  {
   "cell_type": "markdown",
   "metadata": {},
   "source": [
    "### Filter the regulons, to keep only those that are active in at least 10 cells"
   ]
  },
  {
   "cell_type": "code",
   "execution_count": 18,
   "metadata": {},
   "outputs": [],
   "source": [
    "auc_mtx <- read.csv(\"SCENIC/auc_mtx_5.csv\")"
   ]
  },
  {
   "cell_type": "code",
   "execution_count": 19,
   "metadata": {},
   "outputs": [
    {
     "data": {
      "text/html": [
       "<table>\n",
       "<thead><tr><th scope=col>Cell</th><th scope=col>X2410141K09Rik...</th><th scope=col>Akr1a1...</th><th scope=col>Alx1...</th><th scope=col>Alx3...</th><th scope=col>Alx4...</th><th scope=col>Arid3a...</th><th scope=col>Arnt...</th><th scope=col>Atf3...</th><th scope=col>Atf4...</th><th scope=col>⋯</th><th scope=col>Zfp148...</th><th scope=col>Zfp362...</th><th scope=col>Zfp410...</th><th scope=col>Zfp42...</th><th scope=col>Zfp467...</th><th scope=col>Zfp667...</th><th scope=col>Zic3...</th><th scope=col>Zic5...</th><th scope=col>Zmiz1...</th><th scope=col>Zscan10...</th></tr></thead>\n",
       "<tbody>\n",
       "\t<tr><td>Day_9_Xi_Mus_33 </td><td>0.04189857      </td><td>0.1412515       </td><td>0               </td><td>0               </td><td>0               </td><td>0.17659295      </td><td>0.00000000      </td><td>0.07668644      </td><td>0.09558015      </td><td><U+22EF>        </td><td>0.00000000      </td><td>0               </td><td>0.0000000       </td><td>0.06540736      </td><td>0.07630722      </td><td>0.04782211      </td><td>0.0000000       </td><td>0               </td><td>0.075012198     </td><td>0.08569761      </td></tr>\n",
       "\t<tr><td>Day_10_Xi_Mus_25</td><td>0.17300972      </td><td>0.1295921       </td><td>0               </td><td>0               </td><td>0               </td><td>0.05630640      </td><td>0.08029930      </td><td>0.02993759      </td><td>0.16795411      </td><td><U+22EF>        </td><td>0.01319862      </td><td>0               </td><td>0.0000000       </td><td>0.11827622      </td><td>0.00000000      </td><td>0.11238005      </td><td>0.0000000       </td><td>0               </td><td>0.007973111     </td><td>0.15575260      </td></tr>\n",
       "\t<tr><td>Day_10_Xi_Mus_32</td><td>0.10660650      </td><td>0.1295921       </td><td>0               </td><td>0               </td><td>0               </td><td>0.10619694      </td><td>0.06599512      </td><td>0.05396919      </td><td>0.18447566      </td><td><U+22EF>        </td><td>0.00000000      </td><td>0               </td><td>0.0000000       </td><td>0.08585769      </td><td>0.00000000      </td><td>0.12837342      </td><td>0.0000000       </td><td>0               </td><td>0.031736208     </td><td>0.12836103      </td></tr>\n",
       "\t<tr><td>Day_9_Xi_Mus_27 </td><td>0.11266982      </td><td>0.1293932       </td><td>0               </td><td>0               </td><td>0               </td><td>0.13793736      </td><td>0.03021848      </td><td>0.07551412      </td><td>0.14347473      </td><td><U+22EF>        </td><td>0.03371463      </td><td>0               </td><td>0.0000000       </td><td>0.09190361      </td><td>0.00000000      </td><td>0.03700477      </td><td>0.0000000       </td><td>0               </td><td>0.039008209     </td><td>0.11342516      </td></tr>\n",
       "\t<tr><td>Day_9_Xi_Mus_36 </td><td>0.13542941      </td><td>0.1290948       </td><td>0               </td><td>0               </td><td>0               </td><td>0.11177643      </td><td>0.00000000      </td><td>0.04981346      </td><td>0.12447627      </td><td><U+22EF>        </td><td>0.00000000      </td><td>0               </td><td>0.1712373       </td><td>0.08658987      </td><td>0.07376799      </td><td>0.06449128      </td><td>0.0000000       </td><td>0               </td><td>0.023464786     </td><td>0.16054179      </td></tr>\n",
       "\t<tr><td>Day_10_Xi_Mus_30</td><td>0.24870989      </td><td>0.1293932       </td><td>0               </td><td>0               </td><td>0               </td><td>0.02614772      </td><td>0.00000000      </td><td>0.03021372      </td><td>0.15539862      </td><td><U+22EF>        </td><td>0.02900200      </td><td>0               </td><td>0.0000000       </td><td>0.18275565      </td><td>0.05202173      </td><td>0.08431324      </td><td>0.1364037       </td><td>0               </td><td>0.009582028     </td><td>0.21361607      </td></tr>\n",
       "</tbody>\n",
       "</table>\n"
      ],
      "text/latex": [
       "\\begin{tabular}{r|llllllllllllllllllllllllllllllllllllllllllllllllllllllllllllllllllllllllllllllllllllllllllllllllllllllllllllllllllllllllllllllllllllllllllllllllllllllllllllllllllllllllllllllllllllllllllllllllllllllllllllllllllllllllllllllllllllllllllllllllllllllllllllllllllllllllllllllllllllllllllllllllllllllllllllllllllllllll}\n",
       " Cell & X2410141K09Rik... & Akr1a1... & Alx1... & Alx3... & Alx4... & Arid3a... & Arnt... & Atf3... & Atf4... & ⋯ & Zfp148... & Zfp362... & Zfp410... & Zfp42... & Zfp467... & Zfp667... & Zic3... & Zic5... & Zmiz1... & Zscan10...\\\\\n",
       "\\hline\n",
       "\t Day\\_9\\_Xi\\_Mus\\_33  & 0.04189857               & 0.1412515                & 0                        & 0                        & 0                        & 0.17659295               & 0.00000000               & 0.07668644               & 0.09558015               & <U+22EF>                 & 0.00000000               & 0                        & 0.0000000                & 0.06540736               & 0.07630722               & 0.04782211               & 0.0000000                & 0                        & 0.075012198              & 0.08569761              \\\\\n",
       "\t Day\\_10\\_Xi\\_Mus\\_25 & 0.17300972               & 0.1295921                & 0                        & 0                        & 0                        & 0.05630640               & 0.08029930               & 0.02993759               & 0.16795411               & <U+22EF>                 & 0.01319862               & 0                        & 0.0000000                & 0.11827622               & 0.00000000               & 0.11238005               & 0.0000000                & 0                        & 0.007973111              & 0.15575260              \\\\\n",
       "\t Day\\_10\\_Xi\\_Mus\\_32 & 0.10660650               & 0.1295921                & 0                        & 0                        & 0                        & 0.10619694               & 0.06599512               & 0.05396919               & 0.18447566               & <U+22EF>                 & 0.00000000               & 0                        & 0.0000000                & 0.08585769               & 0.00000000               & 0.12837342               & 0.0000000                & 0                        & 0.031736208              & 0.12836103              \\\\\n",
       "\t Day\\_9\\_Xi\\_Mus\\_27  & 0.11266982               & 0.1293932                & 0                        & 0                        & 0                        & 0.13793736               & 0.03021848               & 0.07551412               & 0.14347473               & <U+22EF>                 & 0.03371463               & 0                        & 0.0000000                & 0.09190361               & 0.00000000               & 0.03700477               & 0.0000000                & 0                        & 0.039008209              & 0.11342516              \\\\\n",
       "\t Day\\_9\\_Xi\\_Mus\\_36  & 0.13542941               & 0.1290948                & 0                        & 0                        & 0                        & 0.11177643               & 0.00000000               & 0.04981346               & 0.12447627               & <U+22EF>                 & 0.00000000               & 0                        & 0.1712373                & 0.08658987               & 0.07376799               & 0.06449128               & 0.0000000                & 0                        & 0.023464786              & 0.16054179              \\\\\n",
       "\t Day\\_10\\_Xi\\_Mus\\_30 & 0.24870989               & 0.1293932                & 0                        & 0                        & 0                        & 0.02614772               & 0.00000000               & 0.03021372               & 0.15539862               & <U+22EF>                 & 0.02900200               & 0                        & 0.0000000                & 0.18275565               & 0.05202173               & 0.08431324               & 0.1364037                & 0                        & 0.009582028              & 0.21361607              \\\\\n",
       "\\end{tabular}\n"
      ],
      "text/markdown": [
       "\n",
       "Cell | X2410141K09Rik... | Akr1a1... | Alx1... | Alx3... | Alx4... | Arid3a... | Arnt... | Atf3... | Atf4... | ⋯ | Zfp148... | Zfp362... | Zfp410... | Zfp42... | Zfp467... | Zfp667... | Zic3... | Zic5... | Zmiz1... | Zscan10... | \n",
       "|---|---|---|---|---|---|\n",
       "| Day_9_Xi_Mus_33  | 0.04189857       | 0.1412515        | 0                | 0                | 0                | 0.17659295       | 0.00000000       | 0.07668644       | 0.09558015       | <U+22EF>         | 0.00000000       | 0                | 0.0000000        | 0.06540736       | 0.07630722       | 0.04782211       | 0.0000000        | 0                | 0.075012198      | 0.08569761       | \n",
       "| Day_10_Xi_Mus_25 | 0.17300972       | 0.1295921        | 0                | 0                | 0                | 0.05630640       | 0.08029930       | 0.02993759       | 0.16795411       | <U+22EF>         | 0.01319862       | 0                | 0.0000000        | 0.11827622       | 0.00000000       | 0.11238005       | 0.0000000        | 0                | 0.007973111      | 0.15575260       | \n",
       "| Day_10_Xi_Mus_32 | 0.10660650       | 0.1295921        | 0                | 0                | 0                | 0.10619694       | 0.06599512       | 0.05396919       | 0.18447566       | <U+22EF>         | 0.00000000       | 0                | 0.0000000        | 0.08585769       | 0.00000000       | 0.12837342       | 0.0000000        | 0                | 0.031736208      | 0.12836103       | \n",
       "| Day_9_Xi_Mus_27  | 0.11266982       | 0.1293932        | 0                | 0                | 0                | 0.13793736       | 0.03021848       | 0.07551412       | 0.14347473       | <U+22EF>         | 0.03371463       | 0                | 0.0000000        | 0.09190361       | 0.00000000       | 0.03700477       | 0.0000000        | 0                | 0.039008209      | 0.11342516       | \n",
       "| Day_9_Xi_Mus_36  | 0.13542941       | 0.1290948        | 0                | 0                | 0                | 0.11177643       | 0.00000000       | 0.04981346       | 0.12447627       | <U+22EF>         | 0.00000000       | 0                | 0.1712373        | 0.08658987       | 0.07376799       | 0.06449128       | 0.0000000        | 0                | 0.023464786      | 0.16054179       | \n",
       "| Day_10_Xi_Mus_30 | 0.24870989       | 0.1293932        | 0                | 0                | 0                | 0.02614772       | 0.00000000       | 0.03021372       | 0.15539862       | <U+22EF>         | 0.02900200       | 0                | 0.0000000        | 0.18275565       | 0.05202173       | 0.08431324       | 0.1364037        | 0                | 0.009582028      | 0.21361607       | \n",
       "\n",
       "\n"
      ],
      "text/plain": [
       "  Cell             X2410141K09Rik... Akr1a1... Alx1... Alx3... Alx4...\n",
       "1 Day_9_Xi_Mus_33  0.04189857        0.1412515 0       0       0      \n",
       "2 Day_10_Xi_Mus_25 0.17300972        0.1295921 0       0       0      \n",
       "3 Day_10_Xi_Mus_32 0.10660650        0.1295921 0       0       0      \n",
       "4 Day_9_Xi_Mus_27  0.11266982        0.1293932 0       0       0      \n",
       "5 Day_9_Xi_Mus_36  0.13542941        0.1290948 0       0       0      \n",
       "6 Day_10_Xi_Mus_30 0.24870989        0.1293932 0       0       0      \n",
       "  Arid3a...  Arnt...    Atf3...    Atf4...    <U+22EF>   Zfp148...  Zfp362...\n",
       "1 0.17659295 0.00000000 0.07668644 0.09558015 <U+22EF> 0.00000000 0        \n",
       "2 0.05630640 0.08029930 0.02993759 0.16795411 <U+22EF> 0.01319862 0        \n",
       "3 0.10619694 0.06599512 0.05396919 0.18447566 <U+22EF> 0.00000000 0        \n",
       "4 0.13793736 0.03021848 0.07551412 0.14347473 <U+22EF> 0.03371463 0        \n",
       "5 0.11177643 0.00000000 0.04981346 0.12447627 <U+22EF> 0.00000000 0        \n",
       "6 0.02614772 0.00000000 0.03021372 0.15539862 <U+22EF> 0.02900200 0        \n",
       "  Zfp410... Zfp42...   Zfp467...  Zfp667...  Zic3...   Zic5... Zmiz1...   \n",
       "1 0.0000000 0.06540736 0.07630722 0.04782211 0.0000000 0       0.075012198\n",
       "2 0.0000000 0.11827622 0.00000000 0.11238005 0.0000000 0       0.007973111\n",
       "3 0.0000000 0.08585769 0.00000000 0.12837342 0.0000000 0       0.031736208\n",
       "4 0.0000000 0.09190361 0.00000000 0.03700477 0.0000000 0       0.039008209\n",
       "5 0.1712373 0.08658987 0.07376799 0.06449128 0.0000000 0       0.023464786\n",
       "6 0.0000000 0.18275565 0.05202173 0.08431324 0.1364037 0       0.009582028\n",
       "  Zscan10...\n",
       "1 0.08569761\n",
       "2 0.15575260\n",
       "3 0.12836103\n",
       "4 0.11342516\n",
       "5 0.16054179\n",
       "6 0.21361607"
      ]
     },
     "metadata": {},
     "output_type": "display_data"
    }
   ],
   "source": [
    "head(auc_mtx)"
   ]
  },
  {
   "cell_type": "code",
   "execution_count": 20,
   "metadata": {},
   "outputs": [],
   "source": [
    "colnames(auc_mtx) <- gsub('\\\\...','', colnames(auc_mtx)) # Remove the dots at the end"
   ]
  },
  {
   "cell_type": "code",
   "execution_count": 21,
   "metadata": {},
   "outputs": [],
   "source": [
    "auc_mtx <- data.frame(auc_mtx[,-1], row.names = auc_mtx[,1])"
   ]
  },
  {
   "cell_type": "code",
   "execution_count": 22,
   "metadata": {},
   "outputs": [],
   "source": [
    "auc_mtx_T <- t(auc_mtx)"
   ]
  },
  {
   "cell_type": "code",
   "execution_count": 23,
   "metadata": {},
   "outputs": [
    {
     "data": {
      "text/html": [
       "<table>\n",
       "<thead><tr><th></th><th scope=col>Day_9_Xi_Mus_33</th><th scope=col>Day_10_Xi_Mus_25</th><th scope=col>Day_10_Xi_Mus_32</th><th scope=col>Day_9_Xi_Mus_27</th><th scope=col>Day_9_Xi_Mus_36</th><th scope=col>Day_10_Xi_Mus_30</th><th scope=col>Day_10_Xi_Mus_33</th><th scope=col>Day_9_Xi_Mus_32</th><th scope=col>Day_10_Xi_Mus_34</th><th scope=col>Day_10_Xi_Mus_28</th><th scope=col>⋯</th><th scope=col>iPSCs_Xi_Mus_42</th><th scope=col>iPSCs_Xi_Mus_45</th><th scope=col>iPSCs_Xi_Mus_46</th><th scope=col>iPSCs_Xi_Mus_40</th><th scope=col>iPSCs_Xi_Mus_39</th><th scope=col>iPSCs_Xi_Mus_38</th><th scope=col>iPSCs_Xi_Mus_41</th><th scope=col>iPSCs_Xi_Mus_43</th><th scope=col>iPSCs_Xi_Mus_48</th><th scope=col>iPSCs_Xi_Mus_47</th></tr></thead>\n",
       "<tbody>\n",
       "\t<tr><th scope=row>X2410141K09Rik</th><td>0.04189857 </td><td>0.1730097  </td><td>0.1066065  </td><td>0.1126698  </td><td>0.1354294  </td><td>0.24870989 </td><td>0.1104708  </td><td>0.1376676  </td><td>0.1405198  </td><td>0.207175768</td><td><U+22EF>   </td><td>0.30183685 </td><td>0.20605619 </td><td>0.27255571 </td><td>0.313626873</td><td>0.311225269</td><td>0.253466862</td><td>0.305373230</td><td>0.3066469  </td><td>0.26952744 </td><td>0.30643780 </td></tr>\n",
       "\t<tr><th scope=row>Akr1a1</th><td>0.14125150 </td><td>0.1295921  </td><td>0.1295921  </td><td>0.1293932  </td><td>0.1290948  </td><td>0.12939318 </td><td>0.1277024  </td><td>0.2502450  </td><td>0.1335637  </td><td>0.128995349</td><td><U+22EF>   </td><td>0.12909481 </td><td>0.12969155 </td><td>0.12889589 </td><td>0.128895892</td><td>0.128895892</td><td>0.177322419</td><td>0.129492632</td><td>0.1289953  </td><td>0.12909481 </td><td>0.12929372 </td></tr>\n",
       "\t<tr><th scope=row>Alx1</th><td>0.00000000 </td><td>0.0000000  </td><td>0.0000000  </td><td>0.0000000  </td><td>0.0000000  </td><td>0.00000000 </td><td>0.0000000  </td><td>0.0000000  </td><td>0.0000000  </td><td>0.000000000</td><td><U+22EF>   </td><td>0.00000000 </td><td>0.05865873 </td><td>0.00000000 </td><td>0.000000000</td><td>0.000000000</td><td>0.000000000</td><td>0.000000000</td><td>0.0000000  </td><td>0.00000000 </td><td>0.00000000 </td></tr>\n",
       "\t<tr><th scope=row>Alx3</th><td>0.00000000 </td><td>0.0000000  </td><td>0.0000000  </td><td>0.0000000  </td><td>0.0000000  </td><td>0.00000000 </td><td>0.0000000  </td><td>0.0000000  </td><td>0.0000000  </td><td>0.005523436</td><td><U+22EF>   </td><td>0.00000000 </td><td>0.00000000 </td><td>0.00000000 </td><td>0.000000000</td><td>0.000000000</td><td>0.000000000</td><td>0.000000000</td><td>0.0000000  </td><td>0.00000000 </td><td>0.00000000 </td></tr>\n",
       "\t<tr><th scope=row>Alx4</th><td>0.00000000 </td><td>0.0000000  </td><td>0.0000000  </td><td>0.0000000  </td><td>0.0000000  </td><td>0.00000000 </td><td>0.0000000  </td><td>0.0000000  </td><td>0.0000000  </td><td>0.000000000</td><td><U+22EF>   </td><td>0.00000000 </td><td>0.00000000 </td><td>0.00738797 </td><td>0.000000000</td><td>0.000000000</td><td>0.000000000</td><td>0.000000000</td><td>0.0000000  </td><td>0.00000000 </td><td>0.00000000 </td></tr>\n",
       "\t<tr><th scope=row>Arid3a</th><td>0.17659295 </td><td>0.0563064  </td><td>0.1061969  </td><td>0.1379374  </td><td>0.1117764  </td><td>0.02614772 </td><td>0.1426922  </td><td>0.1623219  </td><td>0.1668901  </td><td>0.110459134</td><td><U+22EF>   </td><td>0.01108922 </td><td>0.01642074 </td><td>0.01264046 </td><td>0.003818799</td><td>0.006898768</td><td>0.009666428</td><td>0.009332876</td><td>0.0065530  </td><td>0.00422476 </td><td>0.00896908 </td></tr>\n",
       "</tbody>\n",
       "</table>\n"
      ],
      "text/latex": [
       "\\begin{tabular}{r|lllllllllllllllllllllllllllllllllllllllllllllllllllllllllllllllllllllllllllllllllllllllllllllllllllllllllllllllllllllllllllllllllllllllllllllllllllllllllllllllllllllllllllllllllllllllllllllllllllllllllllllllllllllllllllllllllllllllllllllllllllllllllllllllllllllllllllllllllllllllllllllllllllllllllllllllllllllllllllllllllllllllllllllllllllllllllllllllllllllllllllllllllllllllllllllllllllllllllllllllllllllllllllllllllllllllllllllllllllllllllllllllllllllllllllllllllllllllllllllllllllllllllllllllllllllllllllllllllllllllllllllllllllllllllllllllllllllllllllllllllllllll}\n",
       "  & Day\\_9\\_Xi\\_Mus\\_33 & Day\\_10\\_Xi\\_Mus\\_25 & Day\\_10\\_Xi\\_Mus\\_32 & Day\\_9\\_Xi\\_Mus\\_27 & Day\\_9\\_Xi\\_Mus\\_36 & Day\\_10\\_Xi\\_Mus\\_30 & Day\\_10\\_Xi\\_Mus\\_33 & Day\\_9\\_Xi\\_Mus\\_32 & Day\\_10\\_Xi\\_Mus\\_34 & Day\\_10\\_Xi\\_Mus\\_28 & ⋯ & iPSCs\\_Xi\\_Mus\\_42 & iPSCs\\_Xi\\_Mus\\_45 & iPSCs\\_Xi\\_Mus\\_46 & iPSCs\\_Xi\\_Mus\\_40 & iPSCs\\_Xi\\_Mus\\_39 & iPSCs\\_Xi\\_Mus\\_38 & iPSCs\\_Xi\\_Mus\\_41 & iPSCs\\_Xi\\_Mus\\_43 & iPSCs\\_Xi\\_Mus\\_48 & iPSCs\\_Xi\\_Mus\\_47\\\\\n",
       "\\hline\n",
       "\tX2410141K09Rik & 0.04189857  & 0.1730097   & 0.1066065   & 0.1126698   & 0.1354294   & 0.24870989  & 0.1104708   & 0.1376676   & 0.1405198   & 0.207175768 & <U+22EF>    & 0.30183685  & 0.20605619  & 0.27255571  & 0.313626873 & 0.311225269 & 0.253466862 & 0.305373230 & 0.3066469   & 0.26952744  & 0.30643780 \\\\\n",
       "\tAkr1a1 & 0.14125150  & 0.1295921   & 0.1295921   & 0.1293932   & 0.1290948   & 0.12939318  & 0.1277024   & 0.2502450   & 0.1335637   & 0.128995349 & <U+22EF>    & 0.12909481  & 0.12969155  & 0.12889589  & 0.128895892 & 0.128895892 & 0.177322419 & 0.129492632 & 0.1289953   & 0.12909481  & 0.12929372 \\\\\n",
       "\tAlx1 & 0.00000000  & 0.0000000   & 0.0000000   & 0.0000000   & 0.0000000   & 0.00000000  & 0.0000000   & 0.0000000   & 0.0000000   & 0.000000000 & <U+22EF>    & 0.00000000  & 0.05865873  & 0.00000000  & 0.000000000 & 0.000000000 & 0.000000000 & 0.000000000 & 0.0000000   & 0.00000000  & 0.00000000 \\\\\n",
       "\tAlx3 & 0.00000000  & 0.0000000   & 0.0000000   & 0.0000000   & 0.0000000   & 0.00000000  & 0.0000000   & 0.0000000   & 0.0000000   & 0.005523436 & <U+22EF>    & 0.00000000  & 0.00000000  & 0.00000000  & 0.000000000 & 0.000000000 & 0.000000000 & 0.000000000 & 0.0000000   & 0.00000000  & 0.00000000 \\\\\n",
       "\tAlx4 & 0.00000000  & 0.0000000   & 0.0000000   & 0.0000000   & 0.0000000   & 0.00000000  & 0.0000000   & 0.0000000   & 0.0000000   & 0.000000000 & <U+22EF>    & 0.00000000  & 0.00000000  & 0.00738797  & 0.000000000 & 0.000000000 & 0.000000000 & 0.000000000 & 0.0000000   & 0.00000000  & 0.00000000 \\\\\n",
       "\tArid3a & 0.17659295  & 0.0563064   & 0.1061969   & 0.1379374   & 0.1117764   & 0.02614772  & 0.1426922   & 0.1623219   & 0.1668901   & 0.110459134 & <U+22EF>    & 0.01108922  & 0.01642074  & 0.01264046  & 0.003818799 & 0.006898768 & 0.009666428 & 0.009332876 & 0.0065530   & 0.00422476  & 0.00896908 \\\\\n",
       "\\end{tabular}\n"
      ],
      "text/markdown": [
       "\n",
       "| <!--/--> | Day_9_Xi_Mus_33 | Day_10_Xi_Mus_25 | Day_10_Xi_Mus_32 | Day_9_Xi_Mus_27 | Day_9_Xi_Mus_36 | Day_10_Xi_Mus_30 | Day_10_Xi_Mus_33 | Day_9_Xi_Mus_32 | Day_10_Xi_Mus_34 | Day_10_Xi_Mus_28 | ⋯ | iPSCs_Xi_Mus_42 | iPSCs_Xi_Mus_45 | iPSCs_Xi_Mus_46 | iPSCs_Xi_Mus_40 | iPSCs_Xi_Mus_39 | iPSCs_Xi_Mus_38 | iPSCs_Xi_Mus_41 | iPSCs_Xi_Mus_43 | iPSCs_Xi_Mus_48 | iPSCs_Xi_Mus_47 | \n",
       "|---|---|---|---|---|---|\n",
       "| X2410141K09Rik | 0.04189857  | 0.1730097   | 0.1066065   | 0.1126698   | 0.1354294   | 0.24870989  | 0.1104708   | 0.1376676   | 0.1405198   | 0.207175768 | <U+22EF>    | 0.30183685  | 0.20605619  | 0.27255571  | 0.313626873 | 0.311225269 | 0.253466862 | 0.305373230 | 0.3066469   | 0.26952744  | 0.30643780  | \n",
       "| Akr1a1 | 0.14125150  | 0.1295921   | 0.1295921   | 0.1293932   | 0.1290948   | 0.12939318  | 0.1277024   | 0.2502450   | 0.1335637   | 0.128995349 | <U+22EF>    | 0.12909481  | 0.12969155  | 0.12889589  | 0.128895892 | 0.128895892 | 0.177322419 | 0.129492632 | 0.1289953   | 0.12909481  | 0.12929372  | \n",
       "| Alx1 | 0.00000000  | 0.0000000   | 0.0000000   | 0.0000000   | 0.0000000   | 0.00000000  | 0.0000000   | 0.0000000   | 0.0000000   | 0.000000000 | <U+22EF>    | 0.00000000  | 0.05865873  | 0.00000000  | 0.000000000 | 0.000000000 | 0.000000000 | 0.000000000 | 0.0000000   | 0.00000000  | 0.00000000  | \n",
       "| Alx3 | 0.00000000  | 0.0000000   | 0.0000000   | 0.0000000   | 0.0000000   | 0.00000000  | 0.0000000   | 0.0000000   | 0.0000000   | 0.005523436 | <U+22EF>    | 0.00000000  | 0.00000000  | 0.00000000  | 0.000000000 | 0.000000000 | 0.000000000 | 0.000000000 | 0.0000000   | 0.00000000  | 0.00000000  | \n",
       "| Alx4 | 0.00000000  | 0.0000000   | 0.0000000   | 0.0000000   | 0.0000000   | 0.00000000  | 0.0000000   | 0.0000000   | 0.0000000   | 0.000000000 | <U+22EF>    | 0.00000000  | 0.00000000  | 0.00738797  | 0.000000000 | 0.000000000 | 0.000000000 | 0.000000000 | 0.0000000   | 0.00000000  | 0.00000000  | \n",
       "| Arid3a | 0.17659295  | 0.0563064   | 0.1061969   | 0.1379374   | 0.1117764   | 0.02614772  | 0.1426922   | 0.1623219   | 0.1668901   | 0.110459134 | <U+22EF>    | 0.01108922  | 0.01642074  | 0.01264046  | 0.003818799 | 0.006898768 | 0.009666428 | 0.009332876 | 0.0065530   | 0.00422476  | 0.00896908  | \n",
       "\n",
       "\n"
      ],
      "text/plain": [
       "               Day_9_Xi_Mus_33 Day_10_Xi_Mus_25 Day_10_Xi_Mus_32\n",
       "X2410141K09Rik 0.04189857      0.1730097        0.1066065       \n",
       "Akr1a1         0.14125150      0.1295921        0.1295921       \n",
       "Alx1           0.00000000      0.0000000        0.0000000       \n",
       "Alx3           0.00000000      0.0000000        0.0000000       \n",
       "Alx4           0.00000000      0.0000000        0.0000000       \n",
       "Arid3a         0.17659295      0.0563064        0.1061969       \n",
       "               Day_9_Xi_Mus_27 Day_9_Xi_Mus_36 Day_10_Xi_Mus_30\n",
       "X2410141K09Rik 0.1126698       0.1354294       0.24870989      \n",
       "Akr1a1         0.1293932       0.1290948       0.12939318      \n",
       "Alx1           0.0000000       0.0000000       0.00000000      \n",
       "Alx3           0.0000000       0.0000000       0.00000000      \n",
       "Alx4           0.0000000       0.0000000       0.00000000      \n",
       "Arid3a         0.1379374       0.1117764       0.02614772      \n",
       "               Day_10_Xi_Mus_33 Day_9_Xi_Mus_32 Day_10_Xi_Mus_34\n",
       "X2410141K09Rik 0.1104708        0.1376676       0.1405198       \n",
       "Akr1a1         0.1277024        0.2502450       0.1335637       \n",
       "Alx1           0.0000000        0.0000000       0.0000000       \n",
       "Alx3           0.0000000        0.0000000       0.0000000       \n",
       "Alx4           0.0000000        0.0000000       0.0000000       \n",
       "Arid3a         0.1426922        0.1623219       0.1668901       \n",
       "               Day_10_Xi_Mus_28 <U+22EF>   iPSCs_Xi_Mus_42 iPSCs_Xi_Mus_45\n",
       "X2410141K09Rik 0.207175768      <U+22EF> 0.30183685      0.20605619     \n",
       "Akr1a1         0.128995349      <U+22EF> 0.12909481      0.12969155     \n",
       "Alx1           0.000000000      <U+22EF> 0.00000000      0.05865873     \n",
       "Alx3           0.005523436      <U+22EF> 0.00000000      0.00000000     \n",
       "Alx4           0.000000000      <U+22EF> 0.00000000      0.00000000     \n",
       "Arid3a         0.110459134      <U+22EF> 0.01108922      0.01642074     \n",
       "               iPSCs_Xi_Mus_46 iPSCs_Xi_Mus_40 iPSCs_Xi_Mus_39 iPSCs_Xi_Mus_38\n",
       "X2410141K09Rik 0.27255571      0.313626873     0.311225269     0.253466862    \n",
       "Akr1a1         0.12889589      0.128895892     0.128895892     0.177322419    \n",
       "Alx1           0.00000000      0.000000000     0.000000000     0.000000000    \n",
       "Alx3           0.00000000      0.000000000     0.000000000     0.000000000    \n",
       "Alx4           0.00738797      0.000000000     0.000000000     0.000000000    \n",
       "Arid3a         0.01264046      0.003818799     0.006898768     0.009666428    \n",
       "               iPSCs_Xi_Mus_41 iPSCs_Xi_Mus_43 iPSCs_Xi_Mus_48 iPSCs_Xi_Mus_47\n",
       "X2410141K09Rik 0.305373230     0.3066469       0.26952744      0.30643780     \n",
       "Akr1a1         0.129492632     0.1289953       0.12909481      0.12929372     \n",
       "Alx1           0.000000000     0.0000000       0.00000000      0.00000000     \n",
       "Alx3           0.000000000     0.0000000       0.00000000      0.00000000     \n",
       "Alx4           0.000000000     0.0000000       0.00000000      0.00000000     \n",
       "Arid3a         0.009332876     0.0065530       0.00422476      0.00896908     "
      ]
     },
     "metadata": {},
     "output_type": "display_data"
    }
   ],
   "source": [
    "head(auc_mtx_T)"
   ]
  },
  {
   "cell_type": "markdown",
   "metadata": {},
   "source": [
    "#### Count number of cells in which each regulon is active and filter"
   ]
  },
  {
   "cell_type": "code",
   "execution_count": 24,
   "metadata": {},
   "outputs": [],
   "source": [
    "# Function count number of cells with AUC > 0.05\n",
    "\n",
    "count_active <- function(vector){\n",
    "  length(vector[vector>0.05])  \n",
    "}"
   ]
  },
  {
   "cell_type": "code",
   "execution_count": 25,
   "metadata": {},
   "outputs": [],
   "source": [
    "auc_mtx_T_df <- as.data.frame(auc_mtx_T)"
   ]
  },
  {
   "cell_type": "code",
   "execution_count": 26,
   "metadata": {},
   "outputs": [],
   "source": [
    "# Apply function to the AUC matrix by rows\n",
    "\n",
    "active_in_n_cells <- lapply(1:nrow(auc_mtx_T_df), function(r_num) { count_active(auc_mtx_T_df[r_num, ]) })\n",
    "active_in_n_cells <- do.call(rbind, active_in_n_cells)[,1]"
   ]
  },
  {
   "cell_type": "code",
   "execution_count": 27,
   "metadata": {},
   "outputs": [
    {
     "data": {},
     "metadata": {},
     "output_type": "display_data"
    },
    {
     "data": {
      "image/png": "[encoded data removed]",
      "text/plain": [
       "plot without title"
      ]
     },
     "metadata": {},
     "output_type": "display_data",
     "source": "R display func"
    }
   ],
   "source": [
    "# Check the number of cells in which regulons are active\n",
    "\n",
    "ggplot() +\n",
    "geom_histogram(aes(active_in_n_cells), bins = 100)+\n",
    "geom_vline(xintercept = 10, color = 'red') "
   ]
  },
  {
   "cell_type": "code",
   "execution_count": 28,
   "metadata": {},
   "outputs": [
    {
     "data": {
      "text/html": [
       "<ol class=list-inline>\n",
       "\t<li>'Alx3'</li>\n",
       "\t<li>'Alx4'</li>\n",
       "\t<li>'Bach2'</li>\n",
       "\t<li>'Batf'</li>\n",
       "\t<li>'Creb5'</li>\n",
       "\t<li>'Dmbx1'</li>\n",
       "\t<li>'Egr4'</li>\n",
       "\t<li>'Esr1'</li>\n",
       "\t<li>'Esrra'</li>\n",
       "\t<li>'Foxf1'</li>\n",
       "\t<li>'Foxf2'</li>\n",
       "\t<li>'Foxj1'</li>\n",
       "\t<li>'Foxj3'</li>\n",
       "\t<li>'Gata3'</li>\n",
       "\t<li>'Gm45871'</li>\n",
       "\t<li>'Hes7'</li>\n",
       "\t<li>'Hey1'</li>\n",
       "\t<li>'Hey2'</li>\n",
       "\t<li>'Hoxa11'</li>\n",
       "\t<li>'Hoxa13'</li>\n",
       "\t<li>'Hoxa3'</li>\n",
       "\t<li>'Hoxb5'</li>\n",
       "\t<li>'Hoxb6'</li>\n",
       "\t<li>'Hoxd8'</li>\n",
       "\t<li>'Hoxd9'</li>\n",
       "\t<li>'Irf5'</li>\n",
       "\t<li>'Irf8'</li>\n",
       "\t<li>'Lhx2'</li>\n",
       "\t<li>'Meox1'</li>\n",
       "\t<li>'Mixl1'</li>\n",
       "\t<li>'Nkx3..'</li>\n",
       "\t<li>'Nkx6..'</li>\n",
       "\t<li>'Npas2'</li>\n",
       "\t<li>'Nr1h3'</li>\n",
       "\t<li>'Nr2f6'</li>\n",
       "\t<li>'Pax9'</li>\n",
       "\t<li>'Pknox2'</li>\n",
       "\t<li>'Pou1f1'</li>\n",
       "\t<li>'Rfx3'</li>\n",
       "\t<li>'Rfx4'</li>\n",
       "\t<li>'Sox21'</li>\n",
       "\t<li>'Sox5'</li>\n",
       "\t<li>'Spi1'</li>\n",
       "\t<li>'Stat1'</li>\n",
       "\t<li>'Tal1'</li>\n",
       "\t<li>'Tbx2'</li>\n",
       "\t<li>'Tbx5'</li>\n",
       "\t<li>'Tbx6'</li>\n",
       "\t<li>'Tcf24'</li>\n",
       "\t<li>'Tfap2b'</li>\n",
       "\t<li>'Usf2'</li>\n",
       "\t<li>'Vdr'</li>\n",
       "\t<li>'Zfp362'</li>\n",
       "</ol>\n"
      ],
      "text/latex": [
       "\\begin{enumerate*}\n",
       "\\item 'Alx3'\n",
       "\\item 'Alx4'\n",
       "\\item 'Bach2'\n",
       "\\item 'Batf'\n",
       "\\item 'Creb5'\n",
       "\\item 'Dmbx1'\n",
       "\\item 'Egr4'\n",
       "\\item 'Esr1'\n",
       "\\item 'Esrra'\n",
       "\\item 'Foxf1'\n",
       "\\item 'Foxf2'\n",
       "\\item 'Foxj1'\n",
       "\\item 'Foxj3'\n",
       "\\item 'Gata3'\n",
       "\\item 'Gm45871'\n",
       "\\item 'Hes7'\n",
       "\\item 'Hey1'\n",
       "\\item 'Hey2'\n",
       "\\item 'Hoxa11'\n",
       "\\item 'Hoxa13'\n",
       "\\item 'Hoxa3'\n",
       "\\item 'Hoxb5'\n",
       "\\item 'Hoxb6'\n",
       "\\item 'Hoxd8'\n",
       "\\item 'Hoxd9'\n",
       "\\item 'Irf5'\n",
       "\\item 'Irf8'\n",
       "\\item 'Lhx2'\n",
       "\\item 'Meox1'\n",
       "\\item 'Mixl1'\n",
       "\\item 'Nkx3..'\n",
       "\\item 'Nkx6..'\n",
       "\\item 'Npas2'\n",
       "\\item 'Nr1h3'\n",
       "\\item 'Nr2f6'\n",
       "\\item 'Pax9'\n",
       "\\item 'Pknox2'\n",
       "\\item 'Pou1f1'\n",
       "\\item 'Rfx3'\n",
       "\\item 'Rfx4'\n",
       "\\item 'Sox21'\n",
       "\\item 'Sox5'\n",
       "\\item 'Spi1'\n",
       "\\item 'Stat1'\n",
       "\\item 'Tal1'\n",
       "\\item 'Tbx2'\n",
       "\\item 'Tbx5'\n",
       "\\item 'Tbx6'\n",
       "\\item 'Tcf24'\n",
       "\\item 'Tfap2b'\n",
       "\\item 'Usf2'\n",
       "\\item 'Vdr'\n",
       "\\item 'Zfp362'\n",
       "\\end{enumerate*}\n"
      ],
      "text/markdown": [
       "1. 'Alx3'\n",
       "2. 'Alx4'\n",
       "3. 'Bach2'\n",
       "4. 'Batf'\n",
       "5. 'Creb5'\n",
       "6. 'Dmbx1'\n",
       "7. 'Egr4'\n",
       "8. 'Esr1'\n",
       "9. 'Esrra'\n",
       "10. 'Foxf1'\n",
       "11. 'Foxf2'\n",
       "12. 'Foxj1'\n",
       "13. 'Foxj3'\n",
       "14. 'Gata3'\n",
       "15. 'Gm45871'\n",
       "16. 'Hes7'\n",
       "17. 'Hey1'\n",
       "18. 'Hey2'\n",
       "19. 'Hoxa11'\n",
       "20. 'Hoxa13'\n",
       "21. 'Hoxa3'\n",
       "22. 'Hoxb5'\n",
       "23. 'Hoxb6'\n",
       "24. 'Hoxd8'\n",
       "25. 'Hoxd9'\n",
       "26. 'Irf5'\n",
       "27. 'Irf8'\n",
       "28. 'Lhx2'\n",
       "29. 'Meox1'\n",
       "30. 'Mixl1'\n",
       "31. 'Nkx3..'\n",
       "32. 'Nkx6..'\n",
       "33. 'Npas2'\n",
       "34. 'Nr1h3'\n",
       "35. 'Nr2f6'\n",
       "36. 'Pax9'\n",
       "37. 'Pknox2'\n",
       "38. 'Pou1f1'\n",
       "39. 'Rfx3'\n",
       "40. 'Rfx4'\n",
       "41. 'Sox21'\n",
       "42. 'Sox5'\n",
       "43. 'Spi1'\n",
       "44. 'Stat1'\n",
       "45. 'Tal1'\n",
       "46. 'Tbx2'\n",
       "47. 'Tbx5'\n",
       "48. 'Tbx6'\n",
       "49. 'Tcf24'\n",
       "50. 'Tfap2b'\n",
       "51. 'Usf2'\n",
       "52. 'Vdr'\n",
       "53. 'Zfp362'\n",
       "\n",
       "\n"
      ],
      "text/plain": [
       " [1] \"Alx3\"    \"Alx4\"    \"Bach2\"   \"Batf\"    \"Creb5\"   \"Dmbx1\"   \"Egr4\"   \n",
       " [8] \"Esr1\"    \"Esrra\"   \"Foxf1\"   \"Foxf2\"   \"Foxj1\"   \"Foxj3\"   \"Gata3\"  \n",
       "[15] \"Gm45871\" \"Hes7\"    \"Hey1\"    \"Hey2\"    \"Hoxa11\"  \"Hoxa13\"  \"Hoxa3\"  \n",
       "[22] \"Hoxb5\"   \"Hoxb6\"   \"Hoxd8\"   \"Hoxd9\"   \"Irf5\"    \"Irf8\"    \"Lhx2\"   \n",
       "[29] \"Meox1\"   \"Mixl1\"   \"Nkx3..\"  \"Nkx6..\"  \"Npas2\"   \"Nr1h3\"   \"Nr2f6\"  \n",
       "[36] \"Pax9\"    \"Pknox2\"  \"Pou1f1\"  \"Rfx3\"    \"Rfx4\"    \"Sox21\"   \"Sox5\"   \n",
       "[43] \"Spi1\"    \"Stat1\"   \"Tal1\"    \"Tbx2\"    \"Tbx5\"    \"Tbx6\"    \"Tcf24\"  \n",
       "[50] \"Tfap2b\"  \"Usf2\"    \"Vdr\"     \"Zfp362\" "
      ]
     },
     "metadata": {},
     "output_type": "display_data"
    }
   ],
   "source": [
    "# Check which regulons would be removed. Useful to make sure and look them up on tSNEs.\n",
    "\n",
    "TFs_to_remove <- rownames(auc_mtx_T_df)[which(active_in_n_cells<10)]\n",
    "TFs_to_remove"
   ]
  },
  {
   "cell_type": "code",
   "execution_count": 29,
   "metadata": {},
   "outputs": [],
   "source": [
    "# Filter out those regulons\n",
    "\n",
    "connections_5runs_filtered_active <- connections_5runs_filtered %>%\n",
    "                                        filter(!(TF %in% TFs_to_remove))"
   ]
  },
  {
   "cell_type": "code",
   "execution_count": 30,
   "metadata": {},
   "outputs": [
    {
     "data": {
      "text/html": [
       "<table>\n",
       "<thead><tr><th scope=col>TF</th><th scope=col>Target</th></tr></thead>\n",
       "<tbody>\n",
       "\t<tr><td>Arid3a </td><td>Adgrg1 </td></tr>\n",
       "\t<tr><td>Arid3a </td><td>Sbsn   </td></tr>\n",
       "\t<tr><td>Arid3a </td><td>Cldn4  </td></tr>\n",
       "\t<tr><td>Arid3a </td><td>Sertad2</td></tr>\n",
       "\t<tr><td>Arid3a </td><td>Pdlim2 </td></tr>\n",
       "\t<tr><td>Arid3a </td><td>Clu    </td></tr>\n",
       "</tbody>\n",
       "</table>\n"
      ],
      "text/latex": [
       "\\begin{tabular}{r|ll}\n",
       " TF & Target\\\\\n",
       "\\hline\n",
       "\t Arid3a  & Adgrg1 \\\\\n",
       "\t Arid3a  & Sbsn   \\\\\n",
       "\t Arid3a  & Cldn4  \\\\\n",
       "\t Arid3a  & Sertad2\\\\\n",
       "\t Arid3a  & Pdlim2 \\\\\n",
       "\t Arid3a  & Clu    \\\\\n",
       "\\end{tabular}\n"
      ],
      "text/markdown": [
       "\n",
       "TF | Target | \n",
       "|---|---|---|---|---|---|\n",
       "| Arid3a  | Adgrg1  | \n",
       "| Arid3a  | Sbsn    | \n",
       "| Arid3a  | Cldn4   | \n",
       "| Arid3a  | Sertad2 | \n",
       "| Arid3a  | Pdlim2  | \n",
       "| Arid3a  | Clu     | \n",
       "\n",
       "\n"
      ],
      "text/plain": [
       "  TF     Target \n",
       "1 Arid3a Adgrg1 \n",
       "2 Arid3a Sbsn   \n",
       "3 Arid3a Cldn4  \n",
       "4 Arid3a Sertad2\n",
       "5 Arid3a Pdlim2 \n",
       "6 Arid3a Clu    "
      ]
     },
     "metadata": {},
     "output_type": "display_data"
    },
    {
     "data": {
      "text/html": [
       "<ol class=list-inline>\n",
       "\t<li>8263</li>\n",
       "\t<li>2</li>\n",
       "</ol>\n"
      ],
      "text/latex": [
       "\\begin{enumerate*}\n",
       "\\item 8263\n",
       "\\item 2\n",
       "\\end{enumerate*}\n"
      ],
      "text/markdown": [
       "1. 8263\n",
       "2. 2\n",
       "\n",
       "\n"
      ],
      "text/plain": [
       "[1] 8263    2"
      ]
     },
     "metadata": {},
     "output_type": "display_data"
    },
    {
     "data": {
      "text/html": [
       "123"
      ],
      "text/latex": [
       "123"
      ],
      "text/markdown": [
       "123"
      ],
      "text/plain": [
       "[1] 123"
      ]
     },
     "metadata": {},
     "output_type": "display_data"
    }
   ],
   "source": [
    "head(connections_5runs_filtered_active)\n",
    "dim(connections_5runs_filtered_active)\n",
    "length(unique(connections_5runs_filtered_active$TF))"
   ]
  },
  {
   "cell_type": "markdown",
   "metadata": {},
   "source": [
    "#### The above step removed only 14 regulons"
   ]
  },
  {
   "cell_type": "markdown",
   "metadata": {},
   "source": [
    "### ADD THE SCALED EXPRESSION WITHIN EACH STATE"
   ]
  },
  {
   "cell_type": "markdown",
   "metadata": {},
   "source": [
    "The goal here is to compare how expression of the network changes in three different states identified by SCENIC; somatic, intermediate and pluripotent.  \n",
    "I will take the scaled gene expression from SEURAT together with the information about clusters 0 for somatic, (1,2,3) for intermediate and (4,5) for pluripotent.  \n",
    "    Next I will group within those clusters and summarize with the mean. So now each gene has the expression value for each state.  \n",
    "    Next I will add this information to the network (expr_somatic, expr_inter, expr_pluri)"
   ]
  },
  {
   "cell_type": "code",
   "execution_count": 46,
   "metadata": {},
   "outputs": [],
   "source": [
    "seurat_clusters <- read.csv(\"monocle/pseudotime_cluster_gene_normExpr.csv\")"
   ]
  },
  {
   "cell_type": "code",
   "execution_count": 52,
   "metadata": {},
   "outputs": [],
   "source": [
    "seurat_clusters <- seurat_clusters %>% \n",
    "                    select(Name, seurat_clusters_rename) %>%\n",
    "                    distinct(Name, .keep_all = TRUE) "
   ]
  },
  {
   "cell_type": "markdown",
   "metadata": {},
   "source": [
    "#### IMPORT SCALED DATA DIRECTLY FROM SEURAT OBJECT"
   ]
  },
  {
   "cell_type": "code",
   "execution_count": null,
   "metadata": {},
   "outputs": [],
   "source": [
    "# seurat[[\"RNA\"]]@scale.data"
   ]
  },
  {
   "cell_type": "code",
   "execution_count": 31,
   "metadata": {},
   "outputs": [],
   "source": [
    "counts_scaled <- read.csv(\"seurat/seurat_scaled.csv\")\n",
    "counts_scaled <- data.frame(counts_scaled[,-1], row.names = counts_scaled$X)"
   ]
  },
  {
   "cell_type": "code",
   "execution_count": 34,
   "metadata": {},
   "outputs": [
    {
     "data": {
      "text/html": [
       "<table>\n",
       "<thead><tr><th></th><th scope=col>Day_9_Xi_Mus_33</th><th scope=col>Day_10_Xi_Mus_25</th><th scope=col>Day_10_Xi_Mus_32</th><th scope=col>Day_9_Xi_Mus_27</th><th scope=col>Day_9_Xi_Mus_36</th><th scope=col>Day_10_Xi_Mus_30</th><th scope=col>Day_10_Xi_Mus_33</th><th scope=col>Day_9_Xi_Mus_32</th><th scope=col>Day_10_Xi_Mus_34</th><th scope=col>Day_10_Xi_Mus_28</th><th scope=col>⋯</th><th scope=col>iPSCs_Xi_Mus_42</th><th scope=col>iPSCs_Xi_Mus_45</th><th scope=col>iPSCs_Xi_Mus_46</th><th scope=col>iPSCs_Xi_Mus_40</th><th scope=col>iPSCs_Xi_Mus_39</th><th scope=col>iPSCs_Xi_Mus_38</th><th scope=col>iPSCs_Xi_Mus_41</th><th scope=col>iPSCs_Xi_Mus_43</th><th scope=col>iPSCs_Xi_Mus_48</th><th scope=col>iPSCs_Xi_Mus_47</th></tr></thead>\n",
       "<tbody>\n",
       "\t<tr><th scope=row>Gm37363</th><td>-0.05154006</td><td>-0.05154006</td><td>-0.05154006</td><td>-0.05154006</td><td>-0.05154006</td><td>-0.05154006</td><td>-0.05154006</td><td>-0.05154006</td><td>-0.05154006</td><td>-0.05154006</td><td><U+22EF>   </td><td>-0.05154006</td><td>-0.05154006</td><td>-0.05154006</td><td>-0.05154006</td><td>-0.05154006</td><td>-0.05154006</td><td>-0.05154006</td><td>-0.05154006</td><td>-0.05154006</td><td>-0.05154006</td></tr>\n",
       "\t<tr><th scope=row>Gm19938</th><td>-0.06318326</td><td>-0.06318326</td><td>-0.06318326</td><td>-0.06318326</td><td>-0.06318326</td><td>-0.06318326</td><td>-0.06318326</td><td>-0.06318326</td><td>-0.06318326</td><td>-0.06318326</td><td><U+22EF>   </td><td>-0.06318326</td><td>-0.06318326</td><td>-0.06318326</td><td>-0.06318326</td><td>-0.06318326</td><td>-0.06318326</td><td>-0.06318326</td><td>-0.06318326</td><td>-0.06318326</td><td>-0.06318326</td></tr>\n",
       "\t<tr><th scope=row>Gm37381</th><td>-0.20643892</td><td>-0.20643892</td><td>-0.20643892</td><td> 6.88049037</td><td>-0.20643892</td><td>-0.20643892</td><td>-0.20643892</td><td>-0.20643892</td><td>-0.20643892</td><td>-0.20643892</td><td><U+22EF>   </td><td>-0.20643892</td><td>-0.20643892</td><td> 3.30035235</td><td>-0.20643892</td><td>-0.20643892</td><td>-0.20643892</td><td>-0.20643892</td><td>-0.20643892</td><td>-0.20643892</td><td>-0.20643892</td></tr>\n",
       "\t<tr><th scope=row>Gm6101</th><td> 2.69090429</td><td>-0.21405793</td><td>-0.21405793</td><td>-0.21405793</td><td>-0.21405793</td><td>-0.21405793</td><td>-0.21405793</td><td>-0.21405793</td><td>-0.21405793</td><td>-0.21405793</td><td><U+22EF>   </td><td>-0.21405793</td><td>-0.21405793</td><td>-0.21405793</td><td>-0.21405793</td><td>-0.21405793</td><td> 1.01780675</td><td>-0.21405793</td><td>-0.21405793</td><td>-0.21405793</td><td>-0.21405793</td></tr>\n",
       "\t<tr><th scope=row>Sox17</th><td>-0.06371262</td><td>-0.06371262</td><td>-0.06371262</td><td>-0.06371262</td><td>-0.06371262</td><td>-0.06371262</td><td>-0.06371262</td><td>-0.06371262</td><td>-0.06371262</td><td>-0.06371262</td><td><U+22EF>   </td><td>-0.06371262</td><td>-0.06371262</td><td>-0.06371262</td><td>-0.06371262</td><td>-0.06371262</td><td>-0.06371262</td><td> 5.00484697</td><td>-0.06371262</td><td>-0.06371262</td><td>-0.06371262</td></tr>\n",
       "\t<tr><th scope=row>Gm7357</th><td>-0.44025291</td><td>-0.44025291</td><td>-0.44025291</td><td>-0.44025291</td><td>-0.44025291</td><td>-0.44025291</td><td> 2.11324206</td><td>-0.44025291</td><td> 1.43607302</td><td> 1.71516847</td><td><U+22EF>   </td><td>-0.44025291</td><td> 0.47586969</td><td>-0.44025291</td><td>-0.44025291</td><td>-0.44025291</td><td> 0.65461659</td><td> 0.22181025</td><td> 0.36425838</td><td>-0.44025291</td><td>-0.44025291</td></tr>\n",
       "</tbody>\n",
       "</table>\n"
      ],
      "text/latex": [
       "\\begin{tabular}{r|lllllllllllllllllllllllllllllllllllllllllllllllllllllllllllllllllllllllllllllllllllllllllllllllllllllllllllllllllllllllllllllllllllllllllllllllllllllllllllllllllllllllllllllllllllllllllllllllllllllllllllllllllllllllllllllllllllllllllllllllllllllllllllllllllllllllllllllllllllllllllllllllllllllllllllllllllllllllllllllllllllllllllllllllllllllllllllllllllllllllllllllllllllllllllllllllllllllllllllllllllllllllllllllllllllllllllllllllllllllllllllllllllllllllllllllllllllllllllllllllllllllllllllllllllllllllllllllllllllllllllllllllllllllllllllllllllllllllllllllllllllllll}\n",
       "  & Day\\_9\\_Xi\\_Mus\\_33 & Day\\_10\\_Xi\\_Mus\\_25 & Day\\_10\\_Xi\\_Mus\\_32 & Day\\_9\\_Xi\\_Mus\\_27 & Day\\_9\\_Xi\\_Mus\\_36 & Day\\_10\\_Xi\\_Mus\\_30 & Day\\_10\\_Xi\\_Mus\\_33 & Day\\_9\\_Xi\\_Mus\\_32 & Day\\_10\\_Xi\\_Mus\\_34 & Day\\_10\\_Xi\\_Mus\\_28 & ⋯ & iPSCs\\_Xi\\_Mus\\_42 & iPSCs\\_Xi\\_Mus\\_45 & iPSCs\\_Xi\\_Mus\\_46 & iPSCs\\_Xi\\_Mus\\_40 & iPSCs\\_Xi\\_Mus\\_39 & iPSCs\\_Xi\\_Mus\\_38 & iPSCs\\_Xi\\_Mus\\_41 & iPSCs\\_Xi\\_Mus\\_43 & iPSCs\\_Xi\\_Mus\\_48 & iPSCs\\_Xi\\_Mus\\_47\\\\\n",
       "\\hline\n",
       "\tGm37363 & -0.05154006 & -0.05154006 & -0.05154006 & -0.05154006 & -0.05154006 & -0.05154006 & -0.05154006 & -0.05154006 & -0.05154006 & -0.05154006 & <U+22EF>    & -0.05154006 & -0.05154006 & -0.05154006 & -0.05154006 & -0.05154006 & -0.05154006 & -0.05154006 & -0.05154006 & -0.05154006 & -0.05154006\\\\\n",
       "\tGm19938 & -0.06318326 & -0.06318326 & -0.06318326 & -0.06318326 & -0.06318326 & -0.06318326 & -0.06318326 & -0.06318326 & -0.06318326 & -0.06318326 & <U+22EF>    & -0.06318326 & -0.06318326 & -0.06318326 & -0.06318326 & -0.06318326 & -0.06318326 & -0.06318326 & -0.06318326 & -0.06318326 & -0.06318326\\\\\n",
       "\tGm37381 & -0.20643892 & -0.20643892 & -0.20643892 &  6.88049037 & -0.20643892 & -0.20643892 & -0.20643892 & -0.20643892 & -0.20643892 & -0.20643892 & <U+22EF>    & -0.20643892 & -0.20643892 &  3.30035235 & -0.20643892 & -0.20643892 & -0.20643892 & -0.20643892 & -0.20643892 & -0.20643892 & -0.20643892\\\\\n",
       "\tGm6101 &  2.69090429 & -0.21405793 & -0.21405793 & -0.21405793 & -0.21405793 & -0.21405793 & -0.21405793 & -0.21405793 & -0.21405793 & -0.21405793 & <U+22EF>    & -0.21405793 & -0.21405793 & -0.21405793 & -0.21405793 & -0.21405793 &  1.01780675 & -0.21405793 & -0.21405793 & -0.21405793 & -0.21405793\\\\\n",
       "\tSox17 & -0.06371262 & -0.06371262 & -0.06371262 & -0.06371262 & -0.06371262 & -0.06371262 & -0.06371262 & -0.06371262 & -0.06371262 & -0.06371262 & <U+22EF>    & -0.06371262 & -0.06371262 & -0.06371262 & -0.06371262 & -0.06371262 & -0.06371262 &  5.00484697 & -0.06371262 & -0.06371262 & -0.06371262\\\\\n",
       "\tGm7357 & -0.44025291 & -0.44025291 & -0.44025291 & -0.44025291 & -0.44025291 & -0.44025291 &  2.11324206 & -0.44025291 &  1.43607302 &  1.71516847 & <U+22EF>    & -0.44025291 &  0.47586969 & -0.44025291 & -0.44025291 & -0.44025291 &  0.65461659 &  0.22181025 &  0.36425838 & -0.44025291 & -0.44025291\\\\\n",
       "\\end{tabular}\n"
      ],
      "text/markdown": [
       "\n",
       "| <!--/--> | Day_9_Xi_Mus_33 | Day_10_Xi_Mus_25 | Day_10_Xi_Mus_32 | Day_9_Xi_Mus_27 | Day_9_Xi_Mus_36 | Day_10_Xi_Mus_30 | Day_10_Xi_Mus_33 | Day_9_Xi_Mus_32 | Day_10_Xi_Mus_34 | Day_10_Xi_Mus_28 | ⋯ | iPSCs_Xi_Mus_42 | iPSCs_Xi_Mus_45 | iPSCs_Xi_Mus_46 | iPSCs_Xi_Mus_40 | iPSCs_Xi_Mus_39 | iPSCs_Xi_Mus_38 | iPSCs_Xi_Mus_41 | iPSCs_Xi_Mus_43 | iPSCs_Xi_Mus_48 | iPSCs_Xi_Mus_47 | \n",
       "|---|---|---|---|---|---|\n",
       "| Gm37363 | -0.05154006 | -0.05154006 | -0.05154006 | -0.05154006 | -0.05154006 | -0.05154006 | -0.05154006 | -0.05154006 | -0.05154006 | -0.05154006 | <U+22EF>    | -0.05154006 | -0.05154006 | -0.05154006 | -0.05154006 | -0.05154006 | -0.05154006 | -0.05154006 | -0.05154006 | -0.05154006 | -0.05154006 | \n",
       "| Gm19938 | -0.06318326 | -0.06318326 | -0.06318326 | -0.06318326 | -0.06318326 | -0.06318326 | -0.06318326 | -0.06318326 | -0.06318326 | -0.06318326 | <U+22EF>    | -0.06318326 | -0.06318326 | -0.06318326 | -0.06318326 | -0.06318326 | -0.06318326 | -0.06318326 | -0.06318326 | -0.06318326 | -0.06318326 | \n",
       "| Gm37381 | -0.20643892 | -0.20643892 | -0.20643892 |  6.88049037 | -0.20643892 | -0.20643892 | -0.20643892 | -0.20643892 | -0.20643892 | -0.20643892 | <U+22EF>    | -0.20643892 | -0.20643892 |  3.30035235 | -0.20643892 | -0.20643892 | -0.20643892 | -0.20643892 | -0.20643892 | -0.20643892 | -0.20643892 | \n",
       "| Gm6101 |  2.69090429 | -0.21405793 | -0.21405793 | -0.21405793 | -0.21405793 | -0.21405793 | -0.21405793 | -0.21405793 | -0.21405793 | -0.21405793 | <U+22EF>    | -0.21405793 | -0.21405793 | -0.21405793 | -0.21405793 | -0.21405793 |  1.01780675 | -0.21405793 | -0.21405793 | -0.21405793 | -0.21405793 | \n",
       "| Sox17 | -0.06371262 | -0.06371262 | -0.06371262 | -0.06371262 | -0.06371262 | -0.06371262 | -0.06371262 | -0.06371262 | -0.06371262 | -0.06371262 | <U+22EF>    | -0.06371262 | -0.06371262 | -0.06371262 | -0.06371262 | -0.06371262 | -0.06371262 |  5.00484697 | -0.06371262 | -0.06371262 | -0.06371262 | \n",
       "| Gm7357 | -0.44025291 | -0.44025291 | -0.44025291 | -0.44025291 | -0.44025291 | -0.44025291 |  2.11324206 | -0.44025291 |  1.43607302 |  1.71516847 | <U+22EF>    | -0.44025291 |  0.47586969 | -0.44025291 | -0.44025291 | -0.44025291 |  0.65461659 |  0.22181025 |  0.36425838 | -0.44025291 | -0.44025291 | \n",
       "\n",
       "\n"
      ],
      "text/plain": [
       "        Day_9_Xi_Mus_33 Day_10_Xi_Mus_25 Day_10_Xi_Mus_32 Day_9_Xi_Mus_27\n",
       "Gm37363 -0.05154006     -0.05154006      -0.05154006      -0.05154006    \n",
       "Gm19938 -0.06318326     -0.06318326      -0.06318326      -0.06318326    \n",
       "Gm37381 -0.20643892     -0.20643892      -0.20643892       6.88049037    \n",
       "Gm6101   2.69090429     -0.21405793      -0.21405793      -0.21405793    \n",
       "Sox17   -0.06371262     -0.06371262      -0.06371262      -0.06371262    \n",
       "Gm7357  -0.44025291     -0.44025291      -0.44025291      -0.44025291    \n",
       "        Day_9_Xi_Mus_36 Day_10_Xi_Mus_30 Day_10_Xi_Mus_33 Day_9_Xi_Mus_32\n",
       "Gm37363 -0.05154006     -0.05154006      -0.05154006      -0.05154006    \n",
       "Gm19938 -0.06318326     -0.06318326      -0.06318326      -0.06318326    \n",
       "Gm37381 -0.20643892     -0.20643892      -0.20643892      -0.20643892    \n",
       "Gm6101  -0.21405793     -0.21405793      -0.21405793      -0.21405793    \n",
       "Sox17   -0.06371262     -0.06371262      -0.06371262      -0.06371262    \n",
       "Gm7357  -0.44025291     -0.44025291       2.11324206      -0.44025291    \n",
       "        Day_10_Xi_Mus_34 Day_10_Xi_Mus_28 <U+22EF>   iPSCs_Xi_Mus_42\n",
       "Gm37363 -0.05154006      -0.05154006      <U+22EF> -0.05154006    \n",
       "Gm19938 -0.06318326      -0.06318326      <U+22EF> -0.06318326    \n",
       "Gm37381 -0.20643892      -0.20643892      <U+22EF> -0.20643892    \n",
       "Gm6101  -0.21405793      -0.21405793      <U+22EF> -0.21405793    \n",
       "Sox17   -0.06371262      -0.06371262      <U+22EF> -0.06371262    \n",
       "Gm7357   1.43607302       1.71516847      <U+22EF> -0.44025291    \n",
       "        iPSCs_Xi_Mus_45 iPSCs_Xi_Mus_46 iPSCs_Xi_Mus_40 iPSCs_Xi_Mus_39\n",
       "Gm37363 -0.05154006     -0.05154006     -0.05154006     -0.05154006    \n",
       "Gm19938 -0.06318326     -0.06318326     -0.06318326     -0.06318326    \n",
       "Gm37381 -0.20643892      3.30035235     -0.20643892     -0.20643892    \n",
       "Gm6101  -0.21405793     -0.21405793     -0.21405793     -0.21405793    \n",
       "Sox17   -0.06371262     -0.06371262     -0.06371262     -0.06371262    \n",
       "Gm7357   0.47586969     -0.44025291     -0.44025291     -0.44025291    \n",
       "        iPSCs_Xi_Mus_38 iPSCs_Xi_Mus_41 iPSCs_Xi_Mus_43 iPSCs_Xi_Mus_48\n",
       "Gm37363 -0.05154006     -0.05154006     -0.05154006     -0.05154006    \n",
       "Gm19938 -0.06318326     -0.06318326     -0.06318326     -0.06318326    \n",
       "Gm37381 -0.20643892     -0.20643892     -0.20643892     -0.20643892    \n",
       "Gm6101   1.01780675     -0.21405793     -0.21405793     -0.21405793    \n",
       "Sox17   -0.06371262      5.00484697     -0.06371262     -0.06371262    \n",
       "Gm7357   0.65461659      0.22181025      0.36425838     -0.44025291    \n",
       "        iPSCs_Xi_Mus_47\n",
       "Gm37363 -0.05154006    \n",
       "Gm19938 -0.06318326    \n",
       "Gm37381 -0.20643892    \n",
       "Gm6101  -0.21405793    \n",
       "Sox17   -0.06371262    \n",
       "Gm7357  -0.44025291    "
      ]
     },
     "metadata": {},
     "output_type": "display_data"
    }
   ],
   "source": [
    "head(counts_scaled)"
   ]
  },
  {
   "cell_type": "code",
   "execution_count": 37,
   "metadata": {},
   "outputs": [
    {
     "name": "stderr",
     "output_type": "stream",
     "text": [
      "ERROR while rich displaying an object: Error in sprintf(wrap, header, body): 'fmt' length exceeds maximal format length 8192\n",
      "\n",
      "Traceback:\n",
      "1. FUN(X[[i]], ...)\n",
      "2. tryCatch(withCallingHandlers({\n",
      " .     rpr <- mime2repr[[mime]](obj)\n",
      " .     if (is.null(rpr)) \n",
      " .         return(NULL)\n",
      " .     prepare_content(is.raw(rpr), rpr)\n",
      " . }, error = error_handler), error = outer_handler)\n",
      "3. tryCatchList(expr, classes, parentenv, handlers)\n",
      "4. tryCatchOne(expr, names, parentenv, handlers[[1L]])\n",
      "5. doTryCatch(return(expr), name, parentenv, handler)\n",
      "6. withCallingHandlers({\n",
      " .     rpr <- mime2repr[[mime]](obj)\n",
      " .     if (is.null(rpr)) \n",
      " .         return(NULL)\n",
      " .     prepare_content(is.raw(rpr), rpr)\n",
      " . }, error = error_handler)\n",
      "7. mime2repr[[mime]](obj)\n",
      "8. repr_latex.data.frame(obj)\n",
      "9. repr_matrix_generic(obj, sprintf(\"\\\\begin{tabular}{%s}\\n%%s%%s\\\\end{tabular}\\n\", \n",
      " .     cols), \"%s\\\\\\\\\\n\\\\hline\\n\", \"  &\", \" %s &\", \"%s\", \"\\t%s\\\\\\\\\\n\", \n",
      " .     \"%s &\", \" %s &\", escape_fun = latex_escape_vec, ...)\n",
      "10. sprintf(wrap, header, body)\n"
     ]
    },
    {
     "data": {
      "text/html": [
       "<table>\n",
       "<thead><tr><th></th><th scope=col>Gm37363</th><th scope=col>Gm19938</th><th scope=col>Gm37381</th><th scope=col>Gm6101</th><th scope=col>Sox17</th><th scope=col>Gm7357</th><th scope=col>Gm7369</th><th scope=col>Gm6085</th><th scope=col>Gm2053</th><th scope=col>Gm6123</th><th scope=col>⋯</th><th scope=col>mt-Nd4</th><th scope=col>mt-Ts2</th><th scope=col>mt-Tl2</th><th scope=col>mt-Nd5</th><th scope=col>mt-Nd6</th><th scope=col>mt-Te</th><th scope=col>mt-Cytb</th><th scope=col>mt-Tt</th><th scope=col>mt-Tp</th><th scope=col>pCX-eGFP</th></tr></thead>\n",
       "<tbody>\n",
       "\t<tr><th scope=row>Day_9_Xi_Mus_33</th><td>-0.05154006</td><td>-0.06318326</td><td>-0.2064389 </td><td> 2.6909043 </td><td>-0.06371262</td><td>-0.4402529 </td><td>-0.1167997 </td><td>-0.6906644 </td><td>-0.07245099</td><td>-0.5550123 </td><td><U+22EF>   </td><td> 0.2647002 </td><td>-0.2283588 </td><td>-0.2966698 </td><td> 0.5223387 </td><td> 0.1581316 </td><td>-0.1831701 </td><td>-1.3040578 </td><td>-0.24257533</td><td>-0.6602651 </td><td>-0.5729165 </td></tr>\n",
       "\t<tr><th scope=row>Day_10_Xi_Mus_25</th><td>-0.05154006</td><td>-0.06318326</td><td>-0.2064389 </td><td>-0.2140579 </td><td>-0.06371262</td><td>-0.4402529 </td><td>-0.1167997 </td><td>-1.0951444 </td><td>-0.07245099</td><td>-0.5550123 </td><td><U+22EF>   </td><td> 0.2264778 </td><td>-0.2283588 </td><td>-0.2966698 </td><td> 0.7455967 </td><td> 0.4521007 </td><td>-0.1831701 </td><td>-0.9481857 </td><td>-0.87608691</td><td>-0.3919177 </td><td>-0.5729165 </td></tr>\n",
       "\t<tr><th scope=row>Day_10_Xi_Mus_32</th><td>-0.05154006</td><td>-0.06318326</td><td>-0.2064389 </td><td>-0.2140579 </td><td>-0.06371262</td><td>-0.4402529 </td><td>-0.1167997 </td><td> 1.0207909 </td><td>-0.07245099</td><td> 1.0753504 </td><td><U+22EF>   </td><td>-1.3850378 </td><td>-0.2283588 </td><td>-0.2966698 </td><td>-2.0853767 </td><td>-1.4020854 </td><td>-0.1831701 </td><td>-1.5952828 </td><td>-0.37536461</td><td>-1.0186553 </td><td>-0.5729165 </td></tr>\n",
       "\t<tr><th scope=row>Day_9_Xi_Mus_27</th><td>-0.05154006</td><td>-0.06318326</td><td> 6.8804904 </td><td>-0.2140579 </td><td>-0.06371262</td><td>-0.4402529 </td><td>-0.1167997 </td><td>-0.5097732 </td><td>-0.07245099</td><td>-0.5550123 </td><td><U+22EF>   </td><td>-0.6884502 </td><td>-0.2283588 </td><td>-0.2966698 </td><td>-0.9180080 </td><td>-0.7080211 </td><td>-0.1831701 </td><td>-1.1434587 </td><td> 0.89025516</td><td>-0.2287020 </td><td>-0.5729165 </td></tr>\n",
       "\t<tr><th scope=row>Day_9_Xi_Mus_36</th><td>-0.05154006</td><td>-0.06318326</td><td>-0.2064389 </td><td>-0.2140579 </td><td>-0.06371262</td><td>-0.4402529 </td><td>-0.1167997 </td><td>-1.0951444 </td><td>-0.07245099</td><td>-0.5550123 </td><td><U+22EF>   </td><td> 2.5136262 </td><td>-0.2283588 </td><td>-0.2966698 </td><td> 1.9902700 </td><td> 1.8690474 </td><td>-0.1831701 </td><td> 1.8662977 </td><td> 0.44033668</td><td> 1.4360096 </td><td>-0.5729165 </td></tr>\n",
       "\t<tr><th scope=row>Day_10_Xi_Mus_30</th><td>-0.05154006</td><td>-0.06318326</td><td>-0.2064389 </td><td>-0.2140579 </td><td>-0.06371262</td><td>-0.4402529 </td><td>-0.1167997 </td><td>-0.7807222 </td><td>-0.07245099</td><td>-0.5550123 </td><td><U+22EF>   </td><td>-0.3874184 </td><td>-0.2283588 </td><td>-0.2966698 </td><td> 0.1691001 </td><td>-1.5549826 </td><td>-0.1831701 </td><td>-0.3728808 </td><td> 0.09387658</td><td>-0.6443212 </td><td> 0.1066036 </td></tr>\n",
       "</tbody>\n",
       "</table>\n"
      ],
      "text/markdown": [
       "\n",
       "| <!--/--> | Gm37363 | Gm19938 | Gm37381 | Gm6101 | Sox17 | Gm7357 | Gm7369 | Gm6085 | Gm2053 | Gm6123 | ⋯ | mt-Nd4 | mt-Ts2 | mt-Tl2 | mt-Nd5 | mt-Nd6 | mt-Te | mt-Cytb | mt-Tt | mt-Tp | pCX-eGFP | \n",
       "|---|---|---|---|---|---|\n",
       "| Day_9_Xi_Mus_33 | -0.05154006 | -0.06318326 | -0.2064389  |  2.6909043  | -0.06371262 | -0.4402529  | -0.1167997  | -0.6906644  | -0.07245099 | -0.5550123  | <U+22EF>    |  0.2647002  | -0.2283588  | -0.2966698  |  0.5223387  |  0.1581316  | -0.1831701  | -1.3040578  | -0.24257533 | -0.6602651  | -0.5729165  | \n",
       "| Day_10_Xi_Mus_25 | -0.05154006 | -0.06318326 | -0.2064389  | -0.2140579  | -0.06371262 | -0.4402529  | -0.1167997  | -1.0951444  | -0.07245099 | -0.5550123  | <U+22EF>    |  0.2264778  | -0.2283588  | -0.2966698  |  0.7455967  |  0.4521007  | -0.1831701  | -0.9481857  | -0.87608691 | -0.3919177  | -0.5729165  | \n",
       "| Day_10_Xi_Mus_32 | -0.05154006 | -0.06318326 | -0.2064389  | -0.2140579  | -0.06371262 | -0.4402529  | -0.1167997  |  1.0207909  | -0.07245099 |  1.0753504  | <U+22EF>    | -1.3850378  | -0.2283588  | -0.2966698  | -2.0853767  | -1.4020854  | -0.1831701  | -1.5952828  | -0.37536461 | -1.0186553  | -0.5729165  | \n",
       "| Day_9_Xi_Mus_27 | -0.05154006 | -0.06318326 |  6.8804904  | -0.2140579  | -0.06371262 | -0.4402529  | -0.1167997  | -0.5097732  | -0.07245099 | -0.5550123  | <U+22EF>    | -0.6884502  | -0.2283588  | -0.2966698  | -0.9180080  | -0.7080211  | -0.1831701  | -1.1434587  |  0.89025516 | -0.2287020  | -0.5729165  | \n",
       "| Day_9_Xi_Mus_36 | -0.05154006 | -0.06318326 | -0.2064389  | -0.2140579  | -0.06371262 | -0.4402529  | -0.1167997  | -1.0951444  | -0.07245099 | -0.5550123  | <U+22EF>    |  2.5136262  | -0.2283588  | -0.2966698  |  1.9902700  |  1.8690474  | -0.1831701  |  1.8662977  |  0.44033668 |  1.4360096  | -0.5729165  | \n",
       "| Day_10_Xi_Mus_30 | -0.05154006 | -0.06318326 | -0.2064389  | -0.2140579  | -0.06371262 | -0.4402529  | -0.1167997  | -0.7807222  | -0.07245099 | -0.5550123  | <U+22EF>    | -0.3874184  | -0.2283588  | -0.2966698  |  0.1691001  | -1.5549826  | -0.1831701  | -0.3728808  |  0.09387658 | -0.6443212  |  0.1066036  | \n",
       "\n",
       "\n"
      ],
      "text/plain": [
       "                 Gm37363     Gm19938     Gm37381    Gm6101     Sox17      \n",
       "Day_9_Xi_Mus_33  -0.05154006 -0.06318326 -0.2064389  2.6909043 -0.06371262\n",
       "Day_10_Xi_Mus_25 -0.05154006 -0.06318326 -0.2064389 -0.2140579 -0.06371262\n",
       "Day_10_Xi_Mus_32 -0.05154006 -0.06318326 -0.2064389 -0.2140579 -0.06371262\n",
       "Day_9_Xi_Mus_27  -0.05154006 -0.06318326  6.8804904 -0.2140579 -0.06371262\n",
       "Day_9_Xi_Mus_36  -0.05154006 -0.06318326 -0.2064389 -0.2140579 -0.06371262\n",
       "Day_10_Xi_Mus_30 -0.05154006 -0.06318326 -0.2064389 -0.2140579 -0.06371262\n",
       "                 Gm7357     Gm7369     Gm6085     Gm2053      Gm6123    \n",
       "Day_9_Xi_Mus_33  -0.4402529 -0.1167997 -0.6906644 -0.07245099 -0.5550123\n",
       "Day_10_Xi_Mus_25 -0.4402529 -0.1167997 -1.0951444 -0.07245099 -0.5550123\n",
       "Day_10_Xi_Mus_32 -0.4402529 -0.1167997  1.0207909 -0.07245099  1.0753504\n",
       "Day_9_Xi_Mus_27  -0.4402529 -0.1167997 -0.5097732 -0.07245099 -0.5550123\n",
       "Day_9_Xi_Mus_36  -0.4402529 -0.1167997 -1.0951444 -0.07245099 -0.5550123\n",
       "Day_10_Xi_Mus_30 -0.4402529 -0.1167997 -0.7807222 -0.07245099 -0.5550123\n",
       "                 <U+22EF>   mt-Nd4     mt-Ts2     mt-Tl2     mt-Nd5    \n",
       "Day_9_Xi_Mus_33  <U+22EF>  0.2647002 -0.2283588 -0.2966698  0.5223387\n",
       "Day_10_Xi_Mus_25 <U+22EF>  0.2264778 -0.2283588 -0.2966698  0.7455967\n",
       "Day_10_Xi_Mus_32 <U+22EF> -1.3850378 -0.2283588 -0.2966698 -2.0853767\n",
       "Day_9_Xi_Mus_27  <U+22EF> -0.6884502 -0.2283588 -0.2966698 -0.9180080\n",
       "Day_9_Xi_Mus_36  <U+22EF>  2.5136262 -0.2283588 -0.2966698  1.9902700\n",
       "Day_10_Xi_Mus_30 <U+22EF> -0.3874184 -0.2283588 -0.2966698  0.1691001\n",
       "                 mt-Nd6     mt-Te      mt-Cytb    mt-Tt       mt-Tp     \n",
       "Day_9_Xi_Mus_33   0.1581316 -0.1831701 -1.3040578 -0.24257533 -0.6602651\n",
       "Day_10_Xi_Mus_25  0.4521007 -0.1831701 -0.9481857 -0.87608691 -0.3919177\n",
       "Day_10_Xi_Mus_32 -1.4020854 -0.1831701 -1.5952828 -0.37536461 -1.0186553\n",
       "Day_9_Xi_Mus_27  -0.7080211 -0.1831701 -1.1434587  0.89025516 -0.2287020\n",
       "Day_9_Xi_Mus_36   1.8690474 -0.1831701  1.8662977  0.44033668  1.4360096\n",
       "Day_10_Xi_Mus_30 -1.5549826 -0.1831701 -0.3728808  0.09387658 -0.6443212\n",
       "                 pCX-eGFP  \n",
       "Day_9_Xi_Mus_33  -0.5729165\n",
       "Day_10_Xi_Mus_25 -0.5729165\n",
       "Day_10_Xi_Mus_32 -0.5729165\n",
       "Day_9_Xi_Mus_27  -0.5729165\n",
       "Day_9_Xi_Mus_36  -0.5729165\n",
       "Day_10_Xi_Mus_30  0.1066036"
      ]
     },
     "metadata": {},
     "output_type": "display_data"
    }
   ],
   "source": [
    "counts_scaled_t1 <- as.data.frame(t(counts_scaled))\n",
    "head(counts_scaled_t1)"
   ]
  },
  {
   "cell_type": "code",
   "execution_count": 38,
   "metadata": {},
   "outputs": [],
   "source": [
    "indx <- sapply(counts_scaled_t, is.factor)\n",
    "counts_scaled_t1[indx] <- lapply(counts_scaled_t[indx], function(x) as.numeric(as.character(x)))"
   ]
  },
  {
   "cell_type": "code",
   "execution_count": 39,
   "metadata": {},
   "outputs": [],
   "source": [
    "counts_scaled_t1$Name <- rownames(counts_scaled_t)"
   ]
  },
  {
   "cell_type": "code",
   "execution_count": 40,
   "metadata": {},
   "outputs": [
    {
     "name": "stderr",
     "output_type": "stream",
     "text": [
      "ERROR while rich displaying an object: Error in sprintf(wrap, header, body): 'fmt' length exceeds maximal format length 8192\n",
      "\n",
      "Traceback:\n",
      "1. FUN(X[[i]], ...)\n",
      "2. tryCatch(withCallingHandlers({\n",
      " .     rpr <- mime2repr[[mime]](obj)\n",
      " .     if (is.null(rpr)) \n",
      " .         return(NULL)\n",
      " .     prepare_content(is.raw(rpr), rpr)\n",
      " . }, error = error_handler), error = outer_handler)\n",
      "3. tryCatchList(expr, classes, parentenv, handlers)\n",
      "4. tryCatchOne(expr, names, parentenv, handlers[[1L]])\n",
      "5. doTryCatch(return(expr), name, parentenv, handler)\n",
      "6. withCallingHandlers({\n",
      " .     rpr <- mime2repr[[mime]](obj)\n",
      " .     if (is.null(rpr)) \n",
      " .         return(NULL)\n",
      " .     prepare_content(is.raw(rpr), rpr)\n",
      " . }, error = error_handler)\n",
      "7. mime2repr[[mime]](obj)\n",
      "8. repr_latex.data.frame(obj)\n",
      "9. repr_matrix_generic(obj, sprintf(\"\\\\begin{tabular}{%s}\\n%%s%%s\\\\end{tabular}\\n\", \n",
      " .     cols), \"%s\\\\\\\\\\n\\\\hline\\n\", \"  &\", \" %s &\", \"%s\", \"\\t%s\\\\\\\\\\n\", \n",
      " .     \"%s &\", \" %s &\", escape_fun = latex_escape_vec, ...)\n",
      "10. sprintf(wrap, header, body)\n"
     ]
    },
    {
     "data": {
      "text/html": [
       "<table>\n",
       "<thead><tr><th></th><th scope=col>Gm37363</th><th scope=col>Gm19938</th><th scope=col>Gm37381</th><th scope=col>Gm6101</th><th scope=col>Sox17</th><th scope=col>Gm7357</th><th scope=col>Gm7369</th><th scope=col>Gm6085</th><th scope=col>Gm2053</th><th scope=col>Gm6123</th><th scope=col>⋯</th><th scope=col>mt-Ts2</th><th scope=col>mt-Tl2</th><th scope=col>mt-Nd5</th><th scope=col>mt-Nd6</th><th scope=col>mt-Te</th><th scope=col>mt-Cytb</th><th scope=col>mt-Tt</th><th scope=col>mt-Tp</th><th scope=col>pCX-eGFP</th><th scope=col>Name</th></tr></thead>\n",
       "<tbody>\n",
       "\t<tr><th scope=row>Day_9_Xi_Mus_33</th><td>-0.05154006     </td><td>-0.06318326     </td><td>-0.2064389      </td><td> 2.6909043      </td><td>-0.06371262     </td><td>-0.4402529      </td><td>-0.1167997      </td><td>-0.6906644      </td><td>-0.07245099     </td><td>-0.5550123      </td><td><U+22EF>        </td><td>-0.2283588      </td><td>-0.2966698      </td><td> 0.5223387      </td><td> 0.1581316      </td><td>-0.1831701      </td><td>-1.3040578      </td><td>-0.24257533     </td><td>-0.6602651      </td><td>-0.5729165      </td><td>Day_9_Xi_Mus_33 </td></tr>\n",
       "\t<tr><th scope=row>Day_10_Xi_Mus_25</th><td>-0.05154006     </td><td>-0.06318326     </td><td>-0.2064389      </td><td>-0.2140579      </td><td>-0.06371262     </td><td>-0.4402529      </td><td>-0.1167997      </td><td>-1.0951444      </td><td>-0.07245099     </td><td>-0.5550123      </td><td><U+22EF>        </td><td>-0.2283588      </td><td>-0.2966698      </td><td> 0.7455967      </td><td> 0.4521007      </td><td>-0.1831701      </td><td>-0.9481857      </td><td>-0.87608691     </td><td>-0.3919177      </td><td>-0.5729165      </td><td>Day_10_Xi_Mus_25</td></tr>\n",
       "\t<tr><th scope=row>Day_10_Xi_Mus_32</th><td>-0.05154006     </td><td>-0.06318326     </td><td>-0.2064389      </td><td>-0.2140579      </td><td>-0.06371262     </td><td>-0.4402529      </td><td>-0.1167997      </td><td> 1.0207909      </td><td>-0.07245099     </td><td> 1.0753504      </td><td><U+22EF>        </td><td>-0.2283588      </td><td>-0.2966698      </td><td>-2.0853767      </td><td>-1.4020854      </td><td>-0.1831701      </td><td>-1.5952828      </td><td>-0.37536461     </td><td>-1.0186553      </td><td>-0.5729165      </td><td>Day_10_Xi_Mus_32</td></tr>\n",
       "\t<tr><th scope=row>Day_9_Xi_Mus_27</th><td>-0.05154006     </td><td>-0.06318326     </td><td> 6.8804904      </td><td>-0.2140579      </td><td>-0.06371262     </td><td>-0.4402529      </td><td>-0.1167997      </td><td>-0.5097732      </td><td>-0.07245099     </td><td>-0.5550123      </td><td><U+22EF>        </td><td>-0.2283588      </td><td>-0.2966698      </td><td>-0.9180080      </td><td>-0.7080211      </td><td>-0.1831701      </td><td>-1.1434587      </td><td> 0.89025516     </td><td>-0.2287020      </td><td>-0.5729165      </td><td>Day_9_Xi_Mus_27 </td></tr>\n",
       "\t<tr><th scope=row>Day_9_Xi_Mus_36</th><td>-0.05154006     </td><td>-0.06318326     </td><td>-0.2064389      </td><td>-0.2140579      </td><td>-0.06371262     </td><td>-0.4402529      </td><td>-0.1167997      </td><td>-1.0951444      </td><td>-0.07245099     </td><td>-0.5550123      </td><td><U+22EF>        </td><td>-0.2283588      </td><td>-0.2966698      </td><td> 1.9902700      </td><td> 1.8690474      </td><td>-0.1831701      </td><td> 1.8662977      </td><td> 0.44033668     </td><td> 1.4360096      </td><td>-0.5729165      </td><td>Day_9_Xi_Mus_36 </td></tr>\n",
       "\t<tr><th scope=row>Day_10_Xi_Mus_30</th><td>-0.05154006     </td><td>-0.06318326     </td><td>-0.2064389      </td><td>-0.2140579      </td><td>-0.06371262     </td><td>-0.4402529      </td><td>-0.1167997      </td><td>-0.7807222      </td><td>-0.07245099     </td><td>-0.5550123      </td><td><U+22EF>        </td><td>-0.2283588      </td><td>-0.2966698      </td><td> 0.1691001      </td><td>-1.5549826      </td><td>-0.1831701      </td><td>-0.3728808      </td><td> 0.09387658     </td><td>-0.6443212      </td><td> 0.1066036      </td><td>Day_10_Xi_Mus_30</td></tr>\n",
       "</tbody>\n",
       "</table>\n"
      ],
      "text/markdown": [
       "\n",
       "| <!--/--> | Gm37363 | Gm19938 | Gm37381 | Gm6101 | Sox17 | Gm7357 | Gm7369 | Gm6085 | Gm2053 | Gm6123 | ⋯ | mt-Ts2 | mt-Tl2 | mt-Nd5 | mt-Nd6 | mt-Te | mt-Cytb | mt-Tt | mt-Tp | pCX-eGFP | Name | \n",
       "|---|---|---|---|---|---|\n",
       "| Day_9_Xi_Mus_33 | -0.05154006      | -0.06318326      | -0.2064389       |  2.6909043       | -0.06371262      | -0.4402529       | -0.1167997       | -0.6906644       | -0.07245099      | -0.5550123       | <U+22EF>         | -0.2283588       | -0.2966698       |  0.5223387       |  0.1581316       | -0.1831701       | -1.3040578       | -0.24257533      | -0.6602651       | -0.5729165       | Day_9_Xi_Mus_33  | \n",
       "| Day_10_Xi_Mus_25 | -0.05154006      | -0.06318326      | -0.2064389       | -0.2140579       | -0.06371262      | -0.4402529       | -0.1167997       | -1.0951444       | -0.07245099      | -0.5550123       | <U+22EF>         | -0.2283588       | -0.2966698       |  0.7455967       |  0.4521007       | -0.1831701       | -0.9481857       | -0.87608691      | -0.3919177       | -0.5729165       | Day_10_Xi_Mus_25 | \n",
       "| Day_10_Xi_Mus_32 | -0.05154006      | -0.06318326      | -0.2064389       | -0.2140579       | -0.06371262      | -0.4402529       | -0.1167997       |  1.0207909       | -0.07245099      |  1.0753504       | <U+22EF>         | -0.2283588       | -0.2966698       | -2.0853767       | -1.4020854       | -0.1831701       | -1.5952828       | -0.37536461      | -1.0186553       | -0.5729165       | Day_10_Xi_Mus_32 | \n",
       "| Day_9_Xi_Mus_27 | -0.05154006      | -0.06318326      |  6.8804904       | -0.2140579       | -0.06371262      | -0.4402529       | -0.1167997       | -0.5097732       | -0.07245099      | -0.5550123       | <U+22EF>         | -0.2283588       | -0.2966698       | -0.9180080       | -0.7080211       | -0.1831701       | -1.1434587       |  0.89025516      | -0.2287020       | -0.5729165       | Day_9_Xi_Mus_27  | \n",
       "| Day_9_Xi_Mus_36 | -0.05154006      | -0.06318326      | -0.2064389       | -0.2140579       | -0.06371262      | -0.4402529       | -0.1167997       | -1.0951444       | -0.07245099      | -0.5550123       | <U+22EF>         | -0.2283588       | -0.2966698       |  1.9902700       |  1.8690474       | -0.1831701       |  1.8662977       |  0.44033668      |  1.4360096       | -0.5729165       | Day_9_Xi_Mus_36  | \n",
       "| Day_10_Xi_Mus_30 | -0.05154006      | -0.06318326      | -0.2064389       | -0.2140579       | -0.06371262      | -0.4402529       | -0.1167997       | -0.7807222       | -0.07245099      | -0.5550123       | <U+22EF>         | -0.2283588       | -0.2966698       |  0.1691001       | -1.5549826       | -0.1831701       | -0.3728808       |  0.09387658      | -0.6443212       |  0.1066036       | Day_10_Xi_Mus_30 | \n",
       "\n",
       "\n"
      ],
      "text/plain": [
       "                 Gm37363     Gm19938     Gm37381    Gm6101     Sox17      \n",
       "Day_9_Xi_Mus_33  -0.05154006 -0.06318326 -0.2064389  2.6909043 -0.06371262\n",
       "Day_10_Xi_Mus_25 -0.05154006 -0.06318326 -0.2064389 -0.2140579 -0.06371262\n",
       "Day_10_Xi_Mus_32 -0.05154006 -0.06318326 -0.2064389 -0.2140579 -0.06371262\n",
       "Day_9_Xi_Mus_27  -0.05154006 -0.06318326  6.8804904 -0.2140579 -0.06371262\n",
       "Day_9_Xi_Mus_36  -0.05154006 -0.06318326 -0.2064389 -0.2140579 -0.06371262\n",
       "Day_10_Xi_Mus_30 -0.05154006 -0.06318326 -0.2064389 -0.2140579 -0.06371262\n",
       "                 Gm7357     Gm7369     Gm6085     Gm2053      Gm6123    \n",
       "Day_9_Xi_Mus_33  -0.4402529 -0.1167997 -0.6906644 -0.07245099 -0.5550123\n",
       "Day_10_Xi_Mus_25 -0.4402529 -0.1167997 -1.0951444 -0.07245099 -0.5550123\n",
       "Day_10_Xi_Mus_32 -0.4402529 -0.1167997  1.0207909 -0.07245099  1.0753504\n",
       "Day_9_Xi_Mus_27  -0.4402529 -0.1167997 -0.5097732 -0.07245099 -0.5550123\n",
       "Day_9_Xi_Mus_36  -0.4402529 -0.1167997 -1.0951444 -0.07245099 -0.5550123\n",
       "Day_10_Xi_Mus_30 -0.4402529 -0.1167997 -0.7807222 -0.07245099 -0.5550123\n",
       "                 <U+22EF>   mt-Ts2     mt-Tl2     mt-Nd5     mt-Nd6    \n",
       "Day_9_Xi_Mus_33  <U+22EF> -0.2283588 -0.2966698  0.5223387  0.1581316\n",
       "Day_10_Xi_Mus_25 <U+22EF> -0.2283588 -0.2966698  0.7455967  0.4521007\n",
       "Day_10_Xi_Mus_32 <U+22EF> -0.2283588 -0.2966698 -2.0853767 -1.4020854\n",
       "Day_9_Xi_Mus_27  <U+22EF> -0.2283588 -0.2966698 -0.9180080 -0.7080211\n",
       "Day_9_Xi_Mus_36  <U+22EF> -0.2283588 -0.2966698  1.9902700  1.8690474\n",
       "Day_10_Xi_Mus_30 <U+22EF> -0.2283588 -0.2966698  0.1691001 -1.5549826\n",
       "                 mt-Te      mt-Cytb    mt-Tt       mt-Tp      pCX-eGFP  \n",
       "Day_9_Xi_Mus_33  -0.1831701 -1.3040578 -0.24257533 -0.6602651 -0.5729165\n",
       "Day_10_Xi_Mus_25 -0.1831701 -0.9481857 -0.87608691 -0.3919177 -0.5729165\n",
       "Day_10_Xi_Mus_32 -0.1831701 -1.5952828 -0.37536461 -1.0186553 -0.5729165\n",
       "Day_9_Xi_Mus_27  -0.1831701 -1.1434587  0.89025516 -0.2287020 -0.5729165\n",
       "Day_9_Xi_Mus_36  -0.1831701  1.8662977  0.44033668  1.4360096 -0.5729165\n",
       "Day_10_Xi_Mus_30 -0.1831701 -0.3728808  0.09387658 -0.6443212  0.1066036\n",
       "                 Name            \n",
       "Day_9_Xi_Mus_33  Day_9_Xi_Mus_33 \n",
       "Day_10_Xi_Mus_25 Day_10_Xi_Mus_25\n",
       "Day_10_Xi_Mus_32 Day_10_Xi_Mus_32\n",
       "Day_9_Xi_Mus_27  Day_9_Xi_Mus_27 \n",
       "Day_9_Xi_Mus_36  Day_9_Xi_Mus_36 \n",
       "Day_10_Xi_Mus_30 Day_10_Xi_Mus_30"
      ]
     },
     "metadata": {},
     "output_type": "display_data"
    }
   ],
   "source": [
    "head(counts_scaled_t1)"
   ]
  },
  {
   "cell_type": "code",
   "execution_count": 53,
   "metadata": {},
   "outputs": [
    {
     "name": "stderr",
     "output_type": "stream",
     "text": [
      "Warning message:\n",
      "\"Column `Name` joining character vector and factor, coercing into character vector\""
     ]
    }
   ],
   "source": [
    "counts_scaled_t2 <- counts_scaled_t1 %>%\n",
    "                    left_join(seurat_clusters, by = \"Name\")"
   ]
  },
  {
   "cell_type": "code",
   "execution_count": 54,
   "metadata": {},
   "outputs": [
    {
     "name": "stderr",
     "output_type": "stream",
     "text": [
      "ERROR while rich displaying an object: Error in sprintf(wrap, header, body): 'fmt' length exceeds maximal format length 8192\n",
      "\n",
      "Traceback:\n",
      "1. FUN(X[[i]], ...)\n",
      "2. tryCatch(withCallingHandlers({\n",
      " .     rpr <- mime2repr[[mime]](obj)\n",
      " .     if (is.null(rpr)) \n",
      " .         return(NULL)\n",
      " .     prepare_content(is.raw(rpr), rpr)\n",
      " . }, error = error_handler), error = outer_handler)\n",
      "3. tryCatchList(expr, classes, parentenv, handlers)\n",
      "4. tryCatchOne(expr, names, parentenv, handlers[[1L]])\n",
      "5. doTryCatch(return(expr), name, parentenv, handler)\n",
      "6. withCallingHandlers({\n",
      " .     rpr <- mime2repr[[mime]](obj)\n",
      " .     if (is.null(rpr)) \n",
      " .         return(NULL)\n",
      " .     prepare_content(is.raw(rpr), rpr)\n",
      " . }, error = error_handler)\n",
      "7. mime2repr[[mime]](obj)\n",
      "8. repr_latex.data.frame(obj)\n",
      "9. repr_matrix_generic(obj, sprintf(\"\\\\begin{tabular}{%s}\\n%%s%%s\\\\end{tabular}\\n\", \n",
      " .     cols), \"%s\\\\\\\\\\n\\\\hline\\n\", \"  &\", \" %s &\", \"%s\", \"\\t%s\\\\\\\\\\n\", \n",
      " .     \"%s &\", \" %s &\", escape_fun = latex_escape_vec, ...)\n",
      "10. sprintf(wrap, header, body)\n"
     ]
    },
    {
     "data": {
      "text/html": [
       "<table>\n",
       "<thead><tr><th scope=col>Gm37363</th><th scope=col>Gm19938</th><th scope=col>Gm37381</th><th scope=col>Gm6101</th><th scope=col>Sox17</th><th scope=col>Gm7357</th><th scope=col>Gm7369</th><th scope=col>Gm6085</th><th scope=col>Gm2053</th><th scope=col>Gm6123</th><th scope=col>⋯</th><th scope=col>mt-Tl2</th><th scope=col>mt-Nd5</th><th scope=col>mt-Nd6</th><th scope=col>mt-Te</th><th scope=col>mt-Cytb</th><th scope=col>mt-Tt</th><th scope=col>mt-Tp</th><th scope=col>pCX-eGFP</th><th scope=col>Name</th><th scope=col>seurat_clusters_rename</th></tr></thead>\n",
       "<tbody>\n",
       "\t<tr><td>-0.05154006     </td><td>-0.06318326     </td><td>-0.2064389      </td><td> 2.6909043      </td><td>-0.06371262     </td><td>-0.4402529      </td><td>-0.1167997      </td><td>-0.6906644      </td><td>-0.07245099     </td><td>-0.5550123      </td><td><U+22EF>        </td><td>-0.2966698      </td><td> 0.5223387      </td><td> 0.1581316      </td><td>-0.1831701      </td><td>-1.3040578      </td><td>-0.24257533     </td><td>-0.6602651      </td><td>-0.5729165      </td><td>Day_9_Xi_Mus_33 </td><td>1               </td></tr>\n",
       "\t<tr><td>-0.05154006     </td><td>-0.06318326     </td><td>-0.2064389      </td><td>-0.2140579      </td><td>-0.06371262     </td><td>-0.4402529      </td><td>-0.1167997      </td><td>-1.0951444      </td><td>-0.07245099     </td><td>-0.5550123      </td><td><U+22EF>        </td><td>-0.2966698      </td><td> 0.7455967      </td><td> 0.4521007      </td><td>-0.1831701      </td><td>-0.9481857      </td><td>-0.87608691     </td><td>-0.3919177      </td><td>-0.5729165      </td><td>Day_10_Xi_Mus_25</td><td>2               </td></tr>\n",
       "\t<tr><td>-0.05154006     </td><td>-0.06318326     </td><td>-0.2064389      </td><td>-0.2140579      </td><td>-0.06371262     </td><td>-0.4402529      </td><td>-0.1167997      </td><td> 1.0207909      </td><td>-0.07245099     </td><td> 1.0753504      </td><td><U+22EF>        </td><td>-0.2966698      </td><td>-2.0853767      </td><td>-1.4020854      </td><td>-0.1831701      </td><td>-1.5952828      </td><td>-0.37536461     </td><td>-1.0186553      </td><td>-0.5729165      </td><td>Day_10_Xi_Mus_32</td><td>2               </td></tr>\n",
       "\t<tr><td>-0.05154006     </td><td>-0.06318326     </td><td> 6.8804904      </td><td>-0.2140579      </td><td>-0.06371262     </td><td>-0.4402529      </td><td>-0.1167997      </td><td>-0.5097732      </td><td>-0.07245099     </td><td>-0.5550123      </td><td><U+22EF>        </td><td>-0.2966698      </td><td>-0.9180080      </td><td>-0.7080211      </td><td>-0.1831701      </td><td>-1.1434587      </td><td> 0.89025516     </td><td>-0.2287020      </td><td>-0.5729165      </td><td>Day_9_Xi_Mus_27 </td><td>1               </td></tr>\n",
       "\t<tr><td>-0.05154006     </td><td>-0.06318326     </td><td>-0.2064389      </td><td>-0.2140579      </td><td>-0.06371262     </td><td>-0.4402529      </td><td>-0.1167997      </td><td>-1.0951444      </td><td>-0.07245099     </td><td>-0.5550123      </td><td><U+22EF>        </td><td>-0.2966698      </td><td> 1.9902700      </td><td> 1.8690474      </td><td>-0.1831701      </td><td> 1.8662977      </td><td> 0.44033668     </td><td> 1.4360096      </td><td>-0.5729165      </td><td>Day_9_Xi_Mus_36 </td><td>2               </td></tr>\n",
       "\t<tr><td>-0.05154006     </td><td>-0.06318326     </td><td>-0.2064389      </td><td>-0.2140579      </td><td>-0.06371262     </td><td>-0.4402529      </td><td>-0.1167997      </td><td>-0.7807222      </td><td>-0.07245099     </td><td>-0.5550123      </td><td><U+22EF>        </td><td>-0.2966698      </td><td> 0.1691001      </td><td>-1.5549826      </td><td>-0.1831701      </td><td>-0.3728808      </td><td> 0.09387658     </td><td>-0.6443212      </td><td> 0.1066036      </td><td>Day_10_Xi_Mus_30</td><td>4               </td></tr>\n",
       "</tbody>\n",
       "</table>\n"
      ],
      "text/markdown": [
       "\n",
       "Gm37363 | Gm19938 | Gm37381 | Gm6101 | Sox17 | Gm7357 | Gm7369 | Gm6085 | Gm2053 | Gm6123 | ⋯ | mt-Tl2 | mt-Nd5 | mt-Nd6 | mt-Te | mt-Cytb | mt-Tt | mt-Tp | pCX-eGFP | Name | seurat_clusters_rename | \n",
       "|---|---|---|---|---|---|\n",
       "| -0.05154006      | -0.06318326      | -0.2064389       |  2.6909043       | -0.06371262      | -0.4402529       | -0.1167997       | -0.6906644       | -0.07245099      | -0.5550123       | <U+22EF>         | -0.2966698       |  0.5223387       |  0.1581316       | -0.1831701       | -1.3040578       | -0.24257533      | -0.6602651       | -0.5729165       | Day_9_Xi_Mus_33  | 1                | \n",
       "| -0.05154006      | -0.06318326      | -0.2064389       | -0.2140579       | -0.06371262      | -0.4402529       | -0.1167997       | -1.0951444       | -0.07245099      | -0.5550123       | <U+22EF>         | -0.2966698       |  0.7455967       |  0.4521007       | -0.1831701       | -0.9481857       | -0.87608691      | -0.3919177       | -0.5729165       | Day_10_Xi_Mus_25 | 2                | \n",
       "| -0.05154006      | -0.06318326      | -0.2064389       | -0.2140579       | -0.06371262      | -0.4402529       | -0.1167997       |  1.0207909       | -0.07245099      |  1.0753504       | <U+22EF>         | -0.2966698       | -2.0853767       | -1.4020854       | -0.1831701       | -1.5952828       | -0.37536461      | -1.0186553       | -0.5729165       | Day_10_Xi_Mus_32 | 2                | \n",
       "| -0.05154006      | -0.06318326      |  6.8804904       | -0.2140579       | -0.06371262      | -0.4402529       | -0.1167997       | -0.5097732       | -0.07245099      | -0.5550123       | <U+22EF>         | -0.2966698       | -0.9180080       | -0.7080211       | -0.1831701       | -1.1434587       |  0.89025516      | -0.2287020       | -0.5729165       | Day_9_Xi_Mus_27  | 1                | \n",
       "| -0.05154006      | -0.06318326      | -0.2064389       | -0.2140579       | -0.06371262      | -0.4402529       | -0.1167997       | -1.0951444       | -0.07245099      | -0.5550123       | <U+22EF>         | -0.2966698       |  1.9902700       |  1.8690474       | -0.1831701       |  1.8662977       |  0.44033668      |  1.4360096       | -0.5729165       | Day_9_Xi_Mus_36  | 2                | \n",
       "| -0.05154006      | -0.06318326      | -0.2064389       | -0.2140579       | -0.06371262      | -0.4402529       | -0.1167997       | -0.7807222       | -0.07245099      | -0.5550123       | <U+22EF>         | -0.2966698       |  0.1691001       | -1.5549826       | -0.1831701       | -0.3728808       |  0.09387658      | -0.6443212       |  0.1066036       | Day_10_Xi_Mus_30 | 4                | \n",
       "\n",
       "\n"
      ],
      "text/plain": [
       "  Gm37363     Gm19938     Gm37381    Gm6101     Sox17       Gm7357    \n",
       "1 -0.05154006 -0.06318326 -0.2064389  2.6909043 -0.06371262 -0.4402529\n",
       "2 -0.05154006 -0.06318326 -0.2064389 -0.2140579 -0.06371262 -0.4402529\n",
       "3 -0.05154006 -0.06318326 -0.2064389 -0.2140579 -0.06371262 -0.4402529\n",
       "4 -0.05154006 -0.06318326  6.8804904 -0.2140579 -0.06371262 -0.4402529\n",
       "5 -0.05154006 -0.06318326 -0.2064389 -0.2140579 -0.06371262 -0.4402529\n",
       "6 -0.05154006 -0.06318326 -0.2064389 -0.2140579 -0.06371262 -0.4402529\n",
       "  Gm7369     Gm6085     Gm2053      Gm6123     <U+22EF>   mt-Tl2     mt-Nd5    \n",
       "1 -0.1167997 -0.6906644 -0.07245099 -0.5550123 <U+22EF> -0.2966698  0.5223387\n",
       "2 -0.1167997 -1.0951444 -0.07245099 -0.5550123 <U+22EF> -0.2966698  0.7455967\n",
       "3 -0.1167997  1.0207909 -0.07245099  1.0753504 <U+22EF> -0.2966698 -2.0853767\n",
       "4 -0.1167997 -0.5097732 -0.07245099 -0.5550123 <U+22EF> -0.2966698 -0.9180080\n",
       "5 -0.1167997 -1.0951444 -0.07245099 -0.5550123 <U+22EF> -0.2966698  1.9902700\n",
       "6 -0.1167997 -0.7807222 -0.07245099 -0.5550123 <U+22EF> -0.2966698  0.1691001\n",
       "  mt-Nd6     mt-Te      mt-Cytb    mt-Tt       mt-Tp      pCX-eGFP  \n",
       "1  0.1581316 -0.1831701 -1.3040578 -0.24257533 -0.6602651 -0.5729165\n",
       "2  0.4521007 -0.1831701 -0.9481857 -0.87608691 -0.3919177 -0.5729165\n",
       "3 -1.4020854 -0.1831701 -1.5952828 -0.37536461 -1.0186553 -0.5729165\n",
       "4 -0.7080211 -0.1831701 -1.1434587  0.89025516 -0.2287020 -0.5729165\n",
       "5  1.8690474 -0.1831701  1.8662977  0.44033668  1.4360096 -0.5729165\n",
       "6 -1.5549826 -0.1831701 -0.3728808  0.09387658 -0.6443212  0.1066036\n",
       "  Name             seurat_clusters_rename\n",
       "1 Day_9_Xi_Mus_33  1                     \n",
       "2 Day_10_Xi_Mus_25 2                     \n",
       "3 Day_10_Xi_Mus_32 2                     \n",
       "4 Day_9_Xi_Mus_27  1                     \n",
       "5 Day_9_Xi_Mus_36  2                     \n",
       "6 Day_10_Xi_Mus_30 4                     "
      ]
     },
     "metadata": {},
     "output_type": "display_data"
    }
   ],
   "source": [
    "head(counts_scaled_t2)"
   ]
  },
  {
   "cell_type": "code",
   "execution_count": 56,
   "metadata": {},
   "outputs": [],
   "source": [
    "counts_scaled_t2_long <- counts_scaled_t2 %>%\n",
    "                                select(-Name) %>%\n",
    "                                gather(gene, expression,-seurat_clusters_rename) %>%\n",
    "                                mutate(scenic_state = case_when(\n",
    "                                                            seurat_clusters_rename == \"0\" ~ \"somatic\",\n",
    "                                                            seurat_clusters_rename %in% c(\"1\", \"2\", \"3\") ~ \"intermediate\",\n",
    "                                                            seurat_clusters_rename %in% c(\"4\",\"5\") ~ \"pluripotency\")) %>%\n",
    "                                group_by(scenic_state, gene) %>%\n",
    "                                summarize(mean_expression = mean(expression)) %>%\n",
    "                                ungroup()"
   ]
  },
  {
   "cell_type": "code",
   "execution_count": 57,
   "metadata": {},
   "outputs": [
    {
     "data": {
      "text/html": [
       "<table>\n",
       "<thead><tr><th scope=col>scenic_state</th><th scope=col>gene</th><th scope=col>mean_expression</th></tr></thead>\n",
       "<tbody>\n",
       "\t<tr><td>intermediate </td><td>0610005C13Rik</td><td>-0.1401220290</td></tr>\n",
       "\t<tr><td>intermediate </td><td>0610009B22Rik</td><td> 0.0261726822</td></tr>\n",
       "\t<tr><td>intermediate </td><td>0610009E02Rik</td><td>-0.0329694580</td></tr>\n",
       "\t<tr><td>intermediate </td><td>0610009L18Rik</td><td>-0.0457878814</td></tr>\n",
       "\t<tr><td>intermediate </td><td>0610009O20Rik</td><td> 0.1548098686</td></tr>\n",
       "\t<tr><td>intermediate </td><td>0610010F05Rik</td><td> 0.0009555432</td></tr>\n",
       "</tbody>\n",
       "</table>\n"
      ],
      "text/latex": [
       "\\begin{tabular}{r|lll}\n",
       " scenic\\_state & gene & mean\\_expression\\\\\n",
       "\\hline\n",
       "\t intermediate  & 0610005C13Rik & -0.1401220290\\\\\n",
       "\t intermediate  & 0610009B22Rik &  0.0261726822\\\\\n",
       "\t intermediate  & 0610009E02Rik & -0.0329694580\\\\\n",
       "\t intermediate  & 0610009L18Rik & -0.0457878814\\\\\n",
       "\t intermediate  & 0610009O20Rik &  0.1548098686\\\\\n",
       "\t intermediate  & 0610010F05Rik &  0.0009555432\\\\\n",
       "\\end{tabular}\n"
      ],
      "text/markdown": [
       "\n",
       "scenic_state | gene | mean_expression | \n",
       "|---|---|---|---|---|---|\n",
       "| intermediate  | 0610005C13Rik | -0.1401220290 | \n",
       "| intermediate  | 0610009B22Rik |  0.0261726822 | \n",
       "| intermediate  | 0610009E02Rik | -0.0329694580 | \n",
       "| intermediate  | 0610009L18Rik | -0.0457878814 | \n",
       "| intermediate  | 0610009O20Rik |  0.1548098686 | \n",
       "| intermediate  | 0610010F05Rik |  0.0009555432 | \n",
       "\n",
       "\n"
      ],
      "text/plain": [
       "  scenic_state gene          mean_expression\n",
       "1 intermediate 0610005C13Rik -0.1401220290  \n",
       "2 intermediate 0610009B22Rik  0.0261726822  \n",
       "3 intermediate 0610009E02Rik -0.0329694580  \n",
       "4 intermediate 0610009L18Rik -0.0457878814  \n",
       "5 intermediate 0610009O20Rik  0.1548098686  \n",
       "6 intermediate 0610010F05Rik  0.0009555432  "
      ]
     },
     "metadata": {},
     "output_type": "display_data"
    }
   ],
   "source": [
    "head(counts_scaled_t2_long)"
   ]
  },
  {
   "cell_type": "code",
   "execution_count": 59,
   "metadata": {},
   "outputs": [
    {
     "data": {},
     "metadata": {},
     "output_type": "display_data"
    },
    {
     "data": {
      "image/png": "[encoded data removed]",
      "text/plain": [
       "plot without title"
      ]
     },
     "metadata": {},
     "output_type": "display_data",
     "source": "R display func"
    }
   ],
   "source": [
    "counts_scaled_t2_long %>% \n",
    "            filter(gene == \"Col1a1\") %>%\n",
    "            ggplot(., aes(scenic_state, mean_expression)) +\n",
    "                geom_boxplot()"
   ]
  },
  {
   "cell_type": "code",
   "execution_count": 60,
   "metadata": {},
   "outputs": [],
   "source": [
    "counts_scaled_t2_long <- counts_scaled_t2_long %>%\n",
    "    spread(scenic_state, mean_expression)"
   ]
  },
  {
   "cell_type": "code",
   "execution_count": 61,
   "metadata": {},
   "outputs": [
    {
     "data": {
      "text/html": [
       "<table>\n",
       "<thead><tr><th scope=col>gene</th><th scope=col>intermediate</th><th scope=col>pluripotency</th><th scope=col>somatic</th></tr></thead>\n",
       "<tbody>\n",
       "\t<tr><td>0610005C13Rik</td><td>-0.1401220290</td><td> 0.31738223  </td><td>-0.09529591  </td></tr>\n",
       "\t<tr><td>0610009B22Rik</td><td> 0.0261726822</td><td> 0.17271654  </td><td>-0.39391861  </td></tr>\n",
       "\t<tr><td>0610009E02Rik</td><td>-0.0329694580</td><td>-0.07170767  </td><td> 0.23793637  </td></tr>\n",
       "\t<tr><td>0610009L18Rik</td><td>-0.0457878814</td><td>-0.02978747  </td><td> 0.09253778  </td></tr>\n",
       "\t<tr><td>0610009O20Rik</td><td> 0.1548098686</td><td>-0.07212381  </td><td>-0.45326070  </td></tr>\n",
       "\t<tr><td>0610010F05Rik</td><td> 0.0009555432</td><td>-0.14342010  </td><td> 0.24253428  </td></tr>\n",
       "</tbody>\n",
       "</table>\n"
      ],
      "text/latex": [
       "\\begin{tabular}{r|llll}\n",
       " gene & intermediate & pluripotency & somatic\\\\\n",
       "\\hline\n",
       "\t 0610005C13Rik & -0.1401220290 &  0.31738223   & -0.09529591  \\\\\n",
       "\t 0610009B22Rik &  0.0261726822 &  0.17271654   & -0.39391861  \\\\\n",
       "\t 0610009E02Rik & -0.0329694580 & -0.07170767   &  0.23793637  \\\\\n",
       "\t 0610009L18Rik & -0.0457878814 & -0.02978747   &  0.09253778  \\\\\n",
       "\t 0610009O20Rik &  0.1548098686 & -0.07212381   & -0.45326070  \\\\\n",
       "\t 0610010F05Rik &  0.0009555432 & -0.14342010   &  0.24253428  \\\\\n",
       "\\end{tabular}\n"
      ],
      "text/markdown": [
       "\n",
       "gene | intermediate | pluripotency | somatic | \n",
       "|---|---|---|---|---|---|\n",
       "| 0610005C13Rik | -0.1401220290 |  0.31738223   | -0.09529591   | \n",
       "| 0610009B22Rik |  0.0261726822 |  0.17271654   | -0.39391861   | \n",
       "| 0610009E02Rik | -0.0329694580 | -0.07170767   |  0.23793637   | \n",
       "| 0610009L18Rik | -0.0457878814 | -0.02978747   |  0.09253778   | \n",
       "| 0610009O20Rik |  0.1548098686 | -0.07212381   | -0.45326070   | \n",
       "| 0610010F05Rik |  0.0009555432 | -0.14342010   |  0.24253428   | \n",
       "\n",
       "\n"
      ],
      "text/plain": [
       "  gene          intermediate  pluripotency somatic    \n",
       "1 0610005C13Rik -0.1401220290  0.31738223  -0.09529591\n",
       "2 0610009B22Rik  0.0261726822  0.17271654  -0.39391861\n",
       "3 0610009E02Rik -0.0329694580 -0.07170767   0.23793637\n",
       "4 0610009L18Rik -0.0457878814 -0.02978747   0.09253778\n",
       "5 0610009O20Rik  0.1548098686 -0.07212381  -0.45326070\n",
       "6 0610010F05Rik  0.0009555432 -0.14342010   0.24253428"
      ]
     },
     "metadata": {},
     "output_type": "display_data"
    }
   ],
   "source": [
    "head(counts_scaled_t2_long)"
   ]
  },
  {
   "cell_type": "code",
   "execution_count": 62,
   "metadata": {},
   "outputs": [
    {
     "data": {
      "text/html": [
       "<table>\n",
       "<thead><tr><th scope=col>gene</th><th scope=col>intermediate</th><th scope=col>pluripotency</th><th scope=col>somatic</th></tr></thead>\n",
       "<tbody>\n",
       "\t<tr><td>Col1a1    </td><td>-0.4048776</td><td>-0.4501511</td><td>2.281508  </td></tr>\n",
       "</tbody>\n",
       "</table>\n"
      ],
      "text/latex": [
       "\\begin{tabular}{r|llll}\n",
       " gene & intermediate & pluripotency & somatic\\\\\n",
       "\\hline\n",
       "\t Col1a1     & -0.4048776 & -0.4501511 & 2.281508  \\\\\n",
       "\\end{tabular}\n"
      ],
      "text/markdown": [
       "\n",
       "gene | intermediate | pluripotency | somatic | \n",
       "|---|\n",
       "| Col1a1     | -0.4048776 | -0.4501511 | 2.281508   | \n",
       "\n",
       "\n"
      ],
      "text/plain": [
       "  gene   intermediate pluripotency somatic \n",
       "1 Col1a1 -0.4048776   -0.4501511   2.281508"
      ]
     },
     "metadata": {},
     "output_type": "display_data"
    }
   ],
   "source": [
    "filter(counts_scaled_t2_long, gene == \"Col1a1\")"
   ]
  },
  {
   "cell_type": "markdown",
   "metadata": {},
   "source": [
    "# PART TWO"
   ]
  },
  {
   "cell_type": "markdown",
   "metadata": {},
   "source": [
    "## GENERATE NETWORK"
   ]
  },
  {
   "cell_type": "markdown",
   "metadata": {},
   "source": [
    "### Create nodes"
   ]
  },
  {
   "cell_type": "code",
   "execution_count": 63,
   "metadata": {},
   "outputs": [],
   "source": [
    "TFs <- connections_5runs_filtered_active %>%\n",
    "                select(TF) %>%\n",
    "                rename(label = TF) %>%\n",
    "                filter(!duplicated(.$label))"
   ]
  },
  {
   "cell_type": "code",
   "execution_count": 64,
   "metadata": {},
   "outputs": [
    {
     "data": {
      "text/html": [
       "<table>\n",
       "<thead><tr><th scope=col>label</th></tr></thead>\n",
       "<tbody>\n",
       "\t<tr><td>Arid3a</td></tr>\n",
       "\t<tr><td>Atf3  </td></tr>\n",
       "\t<tr><td>Atf4  </td></tr>\n",
       "\t<tr><td>Atf6b </td></tr>\n",
       "\t<tr><td>Barx1 </td></tr>\n",
       "\t<tr><td>Bcl6  </td></tr>\n",
       "</tbody>\n",
       "</table>\n"
      ],
      "text/latex": [
       "\\begin{tabular}{r|l}\n",
       " label\\\\\n",
       "\\hline\n",
       "\t Arid3a\\\\\n",
       "\t Atf3  \\\\\n",
       "\t Atf4  \\\\\n",
       "\t Atf6b \\\\\n",
       "\t Barx1 \\\\\n",
       "\t Bcl6  \\\\\n",
       "\\end{tabular}\n"
      ],
      "text/markdown": [
       "\n",
       "label | \n",
       "|---|---|---|---|---|---|\n",
       "| Arid3a | \n",
       "| Atf3   | \n",
       "| Atf4   | \n",
       "| Atf6b  | \n",
       "| Barx1  | \n",
       "| Bcl6   | \n",
       "\n",
       "\n"
      ],
      "text/plain": [
       "  label \n",
       "1 Arid3a\n",
       "2 Atf3  \n",
       "3 Atf4  \n",
       "4 Atf6b \n",
       "5 Barx1 \n",
       "6 Bcl6  "
      ]
     },
     "metadata": {},
     "output_type": "display_data"
    }
   ],
   "source": [
    "head(TFs)"
   ]
  },
  {
   "cell_type": "code",
   "execution_count": 65,
   "metadata": {},
   "outputs": [],
   "source": [
    "targets <- connections_5runs_filtered_active %>%\n",
    "                select(Target) %>%\n",
    "                rename(label = Target) %>%\n",
    "                filter(!duplicated(.$label))"
   ]
  },
  {
   "cell_type": "code",
   "execution_count": 66,
   "metadata": {},
   "outputs": [],
   "source": [
    "nodes <- full_join(TFs, targets, by = c('label'))"
   ]
  },
  {
   "cell_type": "code",
   "execution_count": 67,
   "metadata": {},
   "outputs": [
    {
     "data": {
      "text/html": [
       "<table>\n",
       "<thead><tr><th scope=col>id</th><th scope=col>label</th></tr></thead>\n",
       "<tbody>\n",
       "\t<tr><td>1     </td><td>Arid3a</td></tr>\n",
       "\t<tr><td>2     </td><td>Atf3  </td></tr>\n",
       "\t<tr><td>3     </td><td>Atf4  </td></tr>\n",
       "\t<tr><td>4     </td><td>Atf6b </td></tr>\n",
       "\t<tr><td>5     </td><td>Barx1 </td></tr>\n",
       "\t<tr><td>6     </td><td>Bcl6  </td></tr>\n",
       "</tbody>\n",
       "</table>\n"
      ],
      "text/latex": [
       "\\begin{tabular}{r|ll}\n",
       " id & label\\\\\n",
       "\\hline\n",
       "\t 1      & Arid3a\\\\\n",
       "\t 2      & Atf3  \\\\\n",
       "\t 3      & Atf4  \\\\\n",
       "\t 4      & Atf6b \\\\\n",
       "\t 5      & Barx1 \\\\\n",
       "\t 6      & Bcl6  \\\\\n",
       "\\end{tabular}\n"
      ],
      "text/markdown": [
       "\n",
       "id | label | \n",
       "|---|---|---|---|---|---|\n",
       "| 1      | Arid3a | \n",
       "| 2      | Atf3   | \n",
       "| 3      | Atf4   | \n",
       "| 4      | Atf6b  | \n",
       "| 5      | Barx1  | \n",
       "| 6      | Bcl6   | \n",
       "\n",
       "\n"
      ],
      "text/plain": [
       "  id label \n",
       "1 1  Arid3a\n",
       "2 2  Atf3  \n",
       "3 3  Atf4  \n",
       "4 4  Atf6b \n",
       "5 5  Barx1 \n",
       "6 6  Bcl6  "
      ]
     },
     "metadata": {},
     "output_type": "display_data"
    }
   ],
   "source": [
    "nodes <- nodes %>% rowid_to_column(\"id\")\n",
    "head(nodes)"
   ]
  },
  {
   "cell_type": "markdown",
   "metadata": {},
   "source": [
    "Combine nodes with gene expression"
   ]
  },
  {
   "cell_type": "code",
   "execution_count": 68,
   "metadata": {},
   "outputs": [],
   "source": [
    "nodes <- nodes %>%\n",
    "            rename(gene = label) %>%\n",
    "            left_join(counts_scaled_t2_long, by = 'gene') %>%\n",
    "            rename(label = gene)"
   ]
  },
  {
   "cell_type": "code",
   "execution_count": 69,
   "metadata": {},
   "outputs": [
    {
     "data": {
      "text/html": [
       "<table>\n",
       "<thead><tr><th scope=col>id</th><th scope=col>label</th><th scope=col>intermediate</th><th scope=col>pluripotency</th><th scope=col>somatic</th></tr></thead>\n",
       "<tbody>\n",
       "\t<tr><td>1          </td><td>Arid3a     </td><td> 0.26086467</td><td>-0.3658604 </td><td>-0.34453064</td></tr>\n",
       "\t<tr><td>2          </td><td>Atf3       </td><td> 0.18871350</td><td>-0.3689751 </td><td>-0.07025901</td></tr>\n",
       "\t<tr><td>3          </td><td>Atf4       </td><td>-0.20642217</td><td> 0.3786784 </td><td> 0.11961397</td></tr>\n",
       "\t<tr><td>4          </td><td>Atf6b      </td><td>-0.20894679</td><td> 0.2967940 </td><td> 0.26953009</td></tr>\n",
       "\t<tr><td>5          </td><td>Barx1      </td><td> 0.06343997</td><td>-0.2264398 </td><td> 0.14334252</td></tr>\n",
       "\t<tr><td>6          </td><td>Bcl6       </td><td>-0.06848822</td><td>-0.3665439 </td><td> 0.88423023</td></tr>\n",
       "</tbody>\n",
       "</table>\n"
      ],
      "text/latex": [
       "\\begin{tabular}{r|lllll}\n",
       " id & label & intermediate & pluripotency & somatic\\\\\n",
       "\\hline\n",
       "\t 1           & Arid3a      &  0.26086467 & -0.3658604  & -0.34453064\\\\\n",
       "\t 2           & Atf3        &  0.18871350 & -0.3689751  & -0.07025901\\\\\n",
       "\t 3           & Atf4        & -0.20642217 &  0.3786784  &  0.11961397\\\\\n",
       "\t 4           & Atf6b       & -0.20894679 &  0.2967940  &  0.26953009\\\\\n",
       "\t 5           & Barx1       &  0.06343997 & -0.2264398  &  0.14334252\\\\\n",
       "\t 6           & Bcl6        & -0.06848822 & -0.3665439  &  0.88423023\\\\\n",
       "\\end{tabular}\n"
      ],
      "text/markdown": [
       "\n",
       "id | label | intermediate | pluripotency | somatic | \n",
       "|---|---|---|---|---|---|\n",
       "| 1           | Arid3a      |  0.26086467 | -0.3658604  | -0.34453064 | \n",
       "| 2           | Atf3        |  0.18871350 | -0.3689751  | -0.07025901 | \n",
       "| 3           | Atf4        | -0.20642217 |  0.3786784  |  0.11961397 | \n",
       "| 4           | Atf6b       | -0.20894679 |  0.2967940  |  0.26953009 | \n",
       "| 5           | Barx1       |  0.06343997 | -0.2264398  |  0.14334252 | \n",
       "| 6           | Bcl6        | -0.06848822 | -0.3665439  |  0.88423023 | \n",
       "\n",
       "\n"
      ],
      "text/plain": [
       "  id label  intermediate pluripotency somatic    \n",
       "1 1  Arid3a  0.26086467  -0.3658604   -0.34453064\n",
       "2 2  Atf3    0.18871350  -0.3689751   -0.07025901\n",
       "3 3  Atf4   -0.20642217   0.3786784    0.11961397\n",
       "4 4  Atf6b  -0.20894679   0.2967940    0.26953009\n",
       "5 5  Barx1   0.06343997  -0.2264398    0.14334252\n",
       "6 6  Bcl6   -0.06848822  -0.3665439    0.88423023"
      ]
     },
     "metadata": {},
     "output_type": "display_data"
    }
   ],
   "source": [
    "head(nodes)"
   ]
  },
  {
   "cell_type": "code",
   "execution_count": 70,
   "metadata": {},
   "outputs": [
    {
     "data": {
      "text/html": [
       "<ol class=list-inline>\n",
       "\t<li>4419</li>\n",
       "\t<li>5</li>\n",
       "</ol>\n"
      ],
      "text/latex": [
       "\\begin{enumerate*}\n",
       "\\item 4419\n",
       "\\item 5\n",
       "\\end{enumerate*}\n"
      ],
      "text/markdown": [
       "1. 4419\n",
       "2. 5\n",
       "\n",
       "\n"
      ],
      "text/plain": [
       "[1] 4419    5"
      ]
     },
     "metadata": {},
     "output_type": "display_data"
    }
   ],
   "source": [
    "dim(nodes)"
   ]
  },
  {
   "cell_type": "code",
   "execution_count": 71,
   "metadata": {},
   "outputs": [
    {
     "data": {
      "text/html": [],
      "text/latex": [],
      "text/markdown": [],
      "text/plain": [
       "character(0)"
      ]
     },
     "metadata": {},
     "output_type": "display_data"
    }
   ],
   "source": [
    "nodes$label[which(duplicated(nodes$label))]"
   ]
  },
  {
   "cell_type": "markdown",
   "metadata": {},
   "source": [
    "### Create edges"
   ]
  },
  {
   "cell_type": "code",
   "execution_count": 72,
   "metadata": {},
   "outputs": [],
   "source": [
    "edges <- connections_5runs_filtered_active %>% \n",
    "  left_join(nodes, by = c(\"TF\" = \"label\")) %>% \n",
    "  rename(from = id)\n",
    "\n",
    "edges <- edges %>% \n",
    "  left_join(nodes, by = c(\"Target\" = \"label\")) %>% \n",
    "  rename(to = id)"
   ]
  },
  {
   "cell_type": "code",
   "execution_count": 73,
   "metadata": {},
   "outputs": [
    {
     "data": {
      "text/html": [
       "<table>\n",
       "<thead><tr><th scope=col>TF</th><th scope=col>Target</th><th scope=col>from</th><th scope=col>intermediate.x</th><th scope=col>pluripotency.x</th><th scope=col>somatic.x</th><th scope=col>to</th><th scope=col>intermediate.y</th><th scope=col>pluripotency.y</th><th scope=col>somatic.y</th></tr></thead>\n",
       "<tbody>\n",
       "\t<tr><td>Arid3a    </td><td>Adgrg1    </td><td>1         </td><td>0.2608647 </td><td>-0.3658604</td><td>-0.3445306</td><td>124       </td><td>0.2047546 </td><td>-0.2230913</td><td>-0.3803718</td></tr>\n",
       "\t<tr><td>Arid3a    </td><td>Sbsn      </td><td>1         </td><td>0.2608647 </td><td>-0.3658604</td><td>-0.3445306</td><td>125       </td><td>0.2979134 </td><td>-0.4398324</td><td>-0.3556918</td></tr>\n",
       "\t<tr><td>Arid3a    </td><td>Cldn4     </td><td>1         </td><td>0.2608647 </td><td>-0.3658604</td><td>-0.3445306</td><td>126       </td><td>0.6652790 </td><td>-0.6856023</td><td>-1.3032449</td></tr>\n",
       "\t<tr><td>Arid3a    </td><td>Sertad2   </td><td>1         </td><td>0.2608647 </td><td>-0.3658604</td><td>-0.3445306</td><td>127       </td><td>0.1796071 </td><td>-0.4681896</td><td> 0.1339260</td></tr>\n",
       "\t<tr><td>Arid3a    </td><td>Pdlim2    </td><td>1         </td><td>0.2608647 </td><td>-0.3658604</td><td>-0.3445306</td><td>128       </td><td>0.2159863 </td><td>-0.5974494</td><td> 0.2201291</td></tr>\n",
       "\t<tr><td>Arid3a    </td><td>Clu       </td><td>1         </td><td>0.2608647 </td><td>-0.3658604</td><td>-0.3445306</td><td>129       </td><td>0.3712355 </td><td>-0.4830664</td><td>-0.5547980</td></tr>\n",
       "</tbody>\n",
       "</table>\n"
      ],
      "text/latex": [
       "\\begin{tabular}{r|llllllllll}\n",
       " TF & Target & from & intermediate.x & pluripotency.x & somatic.x & to & intermediate.y & pluripotency.y & somatic.y\\\\\n",
       "\\hline\n",
       "\t Arid3a     & Adgrg1     & 1          & 0.2608647  & -0.3658604 & -0.3445306 & 124        & 0.2047546  & -0.2230913 & -0.3803718\\\\\n",
       "\t Arid3a     & Sbsn       & 1          & 0.2608647  & -0.3658604 & -0.3445306 & 125        & 0.2979134  & -0.4398324 & -0.3556918\\\\\n",
       "\t Arid3a     & Cldn4      & 1          & 0.2608647  & -0.3658604 & -0.3445306 & 126        & 0.6652790  & -0.6856023 & -1.3032449\\\\\n",
       "\t Arid3a     & Sertad2    & 1          & 0.2608647  & -0.3658604 & -0.3445306 & 127        & 0.1796071  & -0.4681896 &  0.1339260\\\\\n",
       "\t Arid3a     & Pdlim2     & 1          & 0.2608647  & -0.3658604 & -0.3445306 & 128        & 0.2159863  & -0.5974494 &  0.2201291\\\\\n",
       "\t Arid3a     & Clu        & 1          & 0.2608647  & -0.3658604 & -0.3445306 & 129        & 0.3712355  & -0.4830664 & -0.5547980\\\\\n",
       "\\end{tabular}\n"
      ],
      "text/markdown": [
       "\n",
       "TF | Target | from | intermediate.x | pluripotency.x | somatic.x | to | intermediate.y | pluripotency.y | somatic.y | \n",
       "|---|---|---|---|---|---|\n",
       "| Arid3a     | Adgrg1     | 1          | 0.2608647  | -0.3658604 | -0.3445306 | 124        | 0.2047546  | -0.2230913 | -0.3803718 | \n",
       "| Arid3a     | Sbsn       | 1          | 0.2608647  | -0.3658604 | -0.3445306 | 125        | 0.2979134  | -0.4398324 | -0.3556918 | \n",
       "| Arid3a     | Cldn4      | 1          | 0.2608647  | -0.3658604 | -0.3445306 | 126        | 0.6652790  | -0.6856023 | -1.3032449 | \n",
       "| Arid3a     | Sertad2    | 1          | 0.2608647  | -0.3658604 | -0.3445306 | 127        | 0.1796071  | -0.4681896 |  0.1339260 | \n",
       "| Arid3a     | Pdlim2     | 1          | 0.2608647  | -0.3658604 | -0.3445306 | 128        | 0.2159863  | -0.5974494 |  0.2201291 | \n",
       "| Arid3a     | Clu        | 1          | 0.2608647  | -0.3658604 | -0.3445306 | 129        | 0.3712355  | -0.4830664 | -0.5547980 | \n",
       "\n",
       "\n"
      ],
      "text/plain": [
       "  TF     Target  from intermediate.x pluripotency.x somatic.x  to \n",
       "1 Arid3a Adgrg1  1    0.2608647      -0.3658604     -0.3445306 124\n",
       "2 Arid3a Sbsn    1    0.2608647      -0.3658604     -0.3445306 125\n",
       "3 Arid3a Cldn4   1    0.2608647      -0.3658604     -0.3445306 126\n",
       "4 Arid3a Sertad2 1    0.2608647      -0.3658604     -0.3445306 127\n",
       "5 Arid3a Pdlim2  1    0.2608647      -0.3658604     -0.3445306 128\n",
       "6 Arid3a Clu     1    0.2608647      -0.3658604     -0.3445306 129\n",
       "  intermediate.y pluripotency.y somatic.y \n",
       "1 0.2047546      -0.2230913     -0.3803718\n",
       "2 0.2979134      -0.4398324     -0.3556918\n",
       "3 0.6652790      -0.6856023     -1.3032449\n",
       "4 0.1796071      -0.4681896      0.1339260\n",
       "5 0.2159863      -0.5974494      0.2201291\n",
       "6 0.3712355      -0.4830664     -0.5547980"
      ]
     },
     "metadata": {},
     "output_type": "display_data"
    }
   ],
   "source": [
    "head(edges)"
   ]
  },
  {
   "cell_type": "code",
   "execution_count": 74,
   "metadata": {},
   "outputs": [
    {
     "data": {
      "text/html": [
       "<table>\n",
       "<thead><tr><th scope=col>from</th><th scope=col>to</th></tr></thead>\n",
       "<tbody>\n",
       "\t<tr><td>1  </td><td>124</td></tr>\n",
       "\t<tr><td>1  </td><td>125</td></tr>\n",
       "\t<tr><td>1  </td><td>126</td></tr>\n",
       "\t<tr><td>1  </td><td>127</td></tr>\n",
       "\t<tr><td>1  </td><td>128</td></tr>\n",
       "\t<tr><td>1  </td><td>129</td></tr>\n",
       "</tbody>\n",
       "</table>\n"
      ],
      "text/latex": [
       "\\begin{tabular}{r|ll}\n",
       " from & to\\\\\n",
       "\\hline\n",
       "\t 1   & 124\\\\\n",
       "\t 1   & 125\\\\\n",
       "\t 1   & 126\\\\\n",
       "\t 1   & 127\\\\\n",
       "\t 1   & 128\\\\\n",
       "\t 1   & 129\\\\\n",
       "\\end{tabular}\n"
      ],
      "text/markdown": [
       "\n",
       "from | to | \n",
       "|---|---|---|---|---|---|\n",
       "| 1   | 124 | \n",
       "| 1   | 125 | \n",
       "| 1   | 126 | \n",
       "| 1   | 127 | \n",
       "| 1   | 128 | \n",
       "| 1   | 129 | \n",
       "\n",
       "\n"
      ],
      "text/plain": [
       "  from to \n",
       "1 1    124\n",
       "2 1    125\n",
       "3 1    126\n",
       "4 1    127\n",
       "5 1    128\n",
       "6 1    129"
      ]
     },
     "metadata": {},
     "output_type": "display_data"
    }
   ],
   "source": [
    "edges <- edges %>%\n",
    "            select(from, to)\n",
    "            \n",
    "head(edges)"
   ]
  },
  {
   "cell_type": "markdown",
   "metadata": {},
   "source": [
    "### Create a tidygraph object"
   ]
  },
  {
   "cell_type": "code",
   "execution_count": 75,
   "metadata": {},
   "outputs": [],
   "source": [
    "GRNs <- tbl_graph(nodes = nodes, edges = edges, directed = TRUE) "
   ]
  },
  {
   "cell_type": "code",
   "execution_count": 76,
   "metadata": {},
   "outputs": [
    {
     "data": {
      "text/plain": [
       "# A tbl_graph: 4419 nodes and 8263 edges\n",
       "#\n",
       "# A directed multigraph with 1 component\n",
       "#\n",
       "# Node Data: 4,419 x 6 (active)\n",
       "     id label  intermediate pluripotency somatic degree\n",
       "  <int> <chr>         <dbl>        <dbl>   <dbl>  <dbl>\n",
       "1     1 Arid3a       0.261        -0.366 -0.345      55\n",
       "2     2 Atf3         0.189        -0.369 -0.0703    140\n",
       "3     3 Atf4        -0.206         0.379  0.120      85\n",
       "4     4 Atf6b       -0.209         0.297  0.270       5\n",
       "5     5 Barx1        0.0634       -0.226  0.143       4\n",
       "6     6 Bcl6        -0.0685       -0.367  0.884      12\n",
       "# ... with 4,413 more rows\n",
       "#\n",
       "# Edge Data: 8,263 x 2\n",
       "   from    to\n",
       "  <int> <int>\n",
       "1     1   124\n",
       "2     1   125\n",
       "3     1   126\n",
       "# ... with 8,260 more rows"
      ]
     },
     "metadata": {},
     "output_type": "display_data"
    }
   ],
   "source": [
    "#GRNs <- GRNs %>% \n",
    "#                  activate(edges) %>% \n",
    "#                 arrange(desc(weight)) %>%\n",
    "#                   filter(weight > 0) %>%\n",
    "#                   activate(nodes) %>%\n",
    "#                   filter(no_edges > 100)\n",
    "GRNs <- GRNs %>%\n",
    "activate(nodes) %>% \n",
    "  mutate(degree  = centrality_degree())\n",
    "GRNs"
   ]
  },
  {
   "cell_type": "code",
   "execution_count": 77,
   "metadata": {},
   "outputs": [],
   "source": [
    "net <- ggraph(GRNs, layout = 'stress', bbox = 20, niter = 500) + \n",
    "  \n",
    "  geom_edge_fan(alpha = 0.5) + \n",
    "  scale_edge_width(range = c(2, 4)) +\n",
    "  geom_node_point(aes(size = degree, color = pluripotency), show.legend = T) +\n",
    "  #geom_node_text(aes(label = label), color = 'black', repel = FALSE, size = 20) +\n",
    "  #geom_node_text(aes(label = ifelse(degree > 50, label, NA)), color = 'black', repel = FALSE, size = 40) +\n",
    "  scale_size(range = c(10,200))+\n",
    "  labs(edge_width = \"GRNs\") +\n",
    "  #scale_colour_gradient2(low = \"blue\", mid = \"wheat1\", high = \"red\", midpoint = 0) +\n",
    "  scale_color_viridis(option = \"plasma\") +\n",
    "  theme_graph(base_family = \"Times\")\n"
   ]
  },
  {
   "cell_type": "markdown",
   "metadata": {},
   "source": [
    "When exporting the networks remember that they are very very big, so it takes time and space.  "
   ]
  },
  {
   "cell_type": "code",
   "execution_count": 708,
   "metadata": {},
   "outputs": [
    {
     "data": {
      "text/html": [
       "<strong>png:</strong> 2"
      ],
      "text/latex": [
       "\\textbf{png:} 2"
      ],
      "text/markdown": [
       "**png:** 2"
      ],
      "text/plain": [
       "png \n",
       "  2 "
      ]
     },
     "metadata": {},
     "output_type": "display_data"
    }
   ],
   "source": [
    "pdf(\"SCENIC/GRNs_SCENIC_robust_all_filtered_active_expr_pluripotency_seurat_scaled_3_nolabel.pdf\", width = 170, height = 150)\n",
    "plot(net)\n",
    "dev.off()"
   ]
  },
  {
   "cell_type": "code",
   "execution_count": 689,
   "metadata": {},
   "outputs": [
    {
     "data": {
      "text/html": [
       "<strong>pdf:</strong> 3"
      ],
      "text/latex": [
       "\\textbf{pdf:} 3"
      ],
      "text/markdown": [
       "**pdf:** 3"
      ],
      "text/plain": [
       "pdf \n",
       "  3 "
      ]
     },
     "metadata": {},
     "output_type": "display_data"
    }
   ],
   "source": [
    "dev.off()"
   ]
  },
  {
   "cell_type": "code",
   "execution_count": 690,
   "metadata": {},
   "outputs": [
    {
     "name": "stderr",
     "output_type": "stream",
     "text": [
      "Warning message:\n",
      "\"Removed 4374 rows containing missing values (geom_text).\""
     ]
    },
    {
     "data": {
      "text/html": [
       "<strong>png:</strong> 2"
      ],
      "text/latex": [
       "\\textbf{png:} 2"
      ],
      "text/markdown": [
       "**png:** 2"
      ],
      "text/plain": [
       "png \n",
       "  2 "
      ]
     },
     "metadata": {},
     "output_type": "display_data"
    }
   ],
   "source": [
    "jpeg(\"SCENIC/GRN_somatic.jpeg\", width = 10000, height = 10000, res = 1000)\n",
    "plot(net)\n",
    "dev.off()"
   ]
  }
 ],
 "metadata": {
  "kernelspec": {
   "display_name": "R [conda env:R_base]",
   "language": "R",
   "name": "conda-env-R_base-r"
  },
  "language_info": {
   "codemirror_mode": "r",
   "file_extension": ".r",
   "mimetype": "text/x-r-source",
   "name": "R",
   "pygments_lexer": "r",
   "version": "3.5.1"
  }
 },
 "nbformat": 4,
 "nbformat_minor": 2
}
