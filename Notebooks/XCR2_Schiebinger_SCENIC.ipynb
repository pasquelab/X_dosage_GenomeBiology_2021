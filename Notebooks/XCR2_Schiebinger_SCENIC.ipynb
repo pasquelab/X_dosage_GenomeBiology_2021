{
 "cells": [
  {
   "cell_type": "markdown",
   "metadata": {},
   "source": [
    "### Run with R_scRNAseq"
   ]
  },
  {
   "cell_type": "code",
   "execution_count": 1,
   "metadata": {},
   "outputs": [
    {
     "name": "stderr",
     "output_type": "stream",
     "text": [
      "Warning message:\n",
      "\"package 'Seurat' was built under R version 3.6.2\"Warning message:\n",
      "\"package 'matrixStats' was built under R version 3.6.2\""
     ]
    }
   ],
   "source": [
    "suppressPackageStartupMessages({library(dplyr)\n",
    "library(Seurat)\n",
    "library(readr)\n",
    "library(SingleCellExperiment, quietly = TRUE)\n",
    "library(scater, quietly = TRUE)\n",
    "library(tidyr)\n",
    "library(purrr)\n",
    "library(cowplot)\n",
    "library(ggrepel)\n",
    "library(viridis)\n",
    "library(ggdendro)\n",
    "library(gridExtra)\n",
    "library(egg)\n",
    "library(pheatmap)})"
   ]
  },
  {
   "cell_type": "code",
   "execution_count": 4,
   "metadata": {},
   "outputs": [],
   "source": [
    "setwd(\"/staging/leuven/stg_00041/Adrian/TALON_JANISZEWSKI_XCR2/\")"
   ]
  },
  {
   "cell_type": "markdown",
   "metadata": {},
   "source": [
    "### Read R object "
   ]
  },
  {
   "cell_type": "code",
   "execution_count": 5,
   "metadata": {},
   "outputs": [],
   "source": [
    "reprogramming.big <- readRDS(\"Schiebinger_integration/reprogramming.big.rds\")"
   ]
  },
  {
   "cell_type": "code",
   "execution_count": 6,
   "metadata": {},
   "outputs": [
    {
     "name": "stderr",
     "output_type": "stream",
     "text": [
      "Loading required package: Seurat\n",
      "Warning message:\n",
      "\"package 'Seurat' was built under R version 3.6.2\"Registered S3 method overwritten by 'R.oo':\n",
      "  method        from       \n",
      "  throw.default R.methodsS3\n",
      "Registered S3 methods overwritten by 'ggplot2':\n",
      "  method         from \n",
      "  [.quosures     rlang\n",
      "  c.quosures     rlang\n",
      "  print.quosures rlang\n"
     ]
    },
    {
     "data": {
      "text/plain": [
       "An object of class Seurat \n",
       "28703 features across 57536 samples within 1 assay \n",
       "Active assay: RNA (28703 features)"
      ]
     },
     "metadata": {},
     "output_type": "display_data"
    }
   ],
   "source": [
    "reprogramming.big"
   ]
  },
  {
   "cell_type": "code",
   "execution_count": 4,
   "metadata": {},
   "outputs": [
    {
     "data": {
      "text/plain": [
       "An object of class Seurat \n",
       "28703 features across 57536 samples within 1 assay \n",
       "Active assay: RNA (28703 features)"
      ]
     },
     "metadata": {},
     "output_type": "display_data"
    }
   ],
   "source": [
    "reprogramming.big"
   ]
  },
  {
   "cell_type": "code",
   "execution_count": 7,
   "metadata": {},
   "outputs": [],
   "source": [
    "reprogramming.big_norm_counts <- reprogramming.big@assays$RNA@data"
   ]
  },
  {
   "cell_type": "code",
   "execution_count": 8,
   "metadata": {},
   "outputs": [],
   "source": [
    "write.csv(reprogramming.big_norm_counts, 'SCENIC/resources_folder/reprogramming.big_norm_counts.csv')"
   ]
  },
  {
   "cell_type": "markdown",
   "metadata": {},
   "source": [
    "Extract normalized counts from object from John"
   ]
  },
  {
   "cell_type": "code",
   "execution_count": 7,
   "metadata": {},
   "outputs": [
    {
     "ename": "ERROR",
     "evalue": "Error: Unable to find a DimReduc matching one of 'umap', 'tsne', or 'pca', please specify a dimensional reduction to use\n",
     "output_type": "error",
     "traceback": [
      "Error: Unable to find a DimReduc matching one of 'umap', 'tsne', or 'pca', please specify a dimensional reduction to use\nTraceback:\n",
      "1. DimPlot(reprogramming.big, label = T, label.size = 2)",
      "2. reduction %||% DefaultDimReduc(object = object)",
      "3. DefaultDimReduc(object = object)",
      "4. stop(\"Unable to find a DimReduc matching one of '\", paste(drs.use[1:(length(x = drs.use) - \n .     1)], collapse = \"', '\"), \"', or '\", drs.use[length(x = drs.use)], \n .     \"', please specify a dimensional reduction to use\", call. = FALSE)"
     ]
    }
   ],
   "source": [
    "DimPlot(reprogramming.big, label = T, label.size = 2) + NoLegend()"
   ]
  },
  {
   "cell_type": "markdown",
   "metadata": {},
   "source": [
    "# RUN SCENIC "
   ]
  },
  {
   "cell_type": "markdown",
   "metadata": {},
   "source": [
    "## pySCENIC2"
   ]
  },
  {
   "cell_type": "code",
   "execution_count": 1,
   "metadata": {},
   "outputs": [],
   "source": [
    "import os\n",
    "import glob\n",
    "import pickle\n",
    "import pandas as pd\n",
    "import numpy as np"
   ]
  },
  {
   "cell_type": "code",
   "execution_count": 2,
   "metadata": {},
   "outputs": [
    {
     "name": "stderr",
     "output_type": "stream",
     "text": [
      "/data/leuven/320/vsc32023/miniconda/envs/pySCENIC_2/lib/python3.6/site-packages/dask/config.py:161: YAMLLoadWarning: calling yaml.load() without Loader=... is deprecated, as the default Loader is unsafe. Please read https://msg.pyyaml.org/load for full details.\n",
      "  data = yaml.load(f.read()) or {}\n"
     ]
    }
   ],
   "source": [
    "from dask.diagnostics import ProgressBar"
   ]
  },
  {
   "cell_type": "code",
   "execution_count": 3,
   "metadata": {},
   "outputs": [],
   "source": [
    "from arboreto.utils import load_tf_names\n",
    "from arboreto.algo import grnboost2"
   ]
  },
  {
   "cell_type": "code",
   "execution_count": 4,
   "metadata": {},
   "outputs": [],
   "source": [
    "from pyscenic.rnkdb import FeatherRankingDatabase as RankingDatabase\n",
    "from pyscenic.utils import modules_from_adjacencies, load_motifs\n",
    "from pyscenic.prune import prune2df, df2regulons\n",
    "from pyscenic.aucell import aucell"
   ]
  },
  {
   "cell_type": "code",
   "execution_count": 5,
   "metadata": {},
   "outputs": [],
   "source": [
    "import seaborn as sns"
   ]
  },
  {
   "cell_type": "code",
   "execution_count": 6,
   "metadata": {},
   "outputs": [
    {
     "name": "stdout",
     "output_type": "stream",
     "text": [
      "/ddn1/vol1/staging/leuven/stg_00041/Adrian/AJ_0069_Schiebinger_SCENIC\n"
     ]
    }
   ],
   "source": [
    "cd \"/staging/leuven/stg_00041/Adrian/TALON_JANISZEWSKI_XCR2/\""
   ]
  },
  {
   "cell_type": "code",
   "execution_count": 7,
   "metadata": {},
   "outputs": [],
   "source": [
    "ROOT_FOLDER=\"/staging/leuven/stg_00041/Adrian/TALON_JANISZEWSKI_XCR2/\"\n",
    "\n",
    "DATA_FOLDER = os.path.join(ROOT_FOLDER,\"SCENIC/Schiebinger/data_folder\")\n",
    "RESOURCES_FOLDER = os.path.join(ROOT_FOLDER,\"SCENIC/resources_folder\")\n",
    "DATABASE_FOLDER = (\"/staging/leuven/stg_00041/Adrian/TALON_JANISZEWSKI_XCR2/SCENIC/database_folder/\")\n",
    "                         \n",
    "SCHEDULER=\"123.122.8.24:8786\"\n",
    "                         \n",
    "DATABASES_GLOB = os.path.join(DATABASE_FOLDER, \"mm10*.mc9nr.feather\")\n",
    "MOTIF_ANNOTATIONS_FNAME = os.path.join(RESOURCES_FOLDER, \"motifs-v9-nr.mgi-m0.001-o0.0.tbl\")\n",
    "MM_TFS_FNAME = os.path.join(RESOURCES_FOLDER, 'mm_mgi_tfs.txt')"
   ]
  },
  {
   "cell_type": "code",
   "execution_count": 8,
   "metadata": {},
   "outputs": [],
   "source": [
    "tf_names = load_tf_names(MM_TFS_FNAME)"
   ]
  },
  {
   "cell_type": "code",
   "execution_count": 9,
   "metadata": {},
   "outputs": [
    {
     "data": {
      "text/plain": [
       "[FeatherRankingDatabase(name=\"mm10__refseq-r80__500bp_up_and_100bp_down_tss.mc9nr\"),\n",
       " FeatherRankingDatabase(name=\"mm10__refseq-r80__10kb_up_and_down_tss.mc9nr\")]"
      ]
     },
     "execution_count": 9,
     "metadata": {},
     "output_type": "execute_result"
    }
   ],
   "source": [
    "db_fnames = glob.glob(DATABASES_GLOB)\n",
    "def name(fname):\n",
    "    return os.path.splitext(os.path.basename(fname))[0]\n",
    "dbs = [RankingDatabase(fname=fname, name=name(fname)) for fname in db_fnames]\n",
    "dbs"
   ]
  },
  {
   "cell_type": "code",
   "execution_count": 10,
   "metadata": {},
   "outputs": [],
   "source": [
    "from distributed import Client, LocalCluster"
   ]
  },
  {
   "cell_type": "markdown",
   "metadata": {},
   "source": [
    "### RUN SCENIC"
   ]
  },
  {
   "cell_type": "code",
   "execution_count": 14,
   "metadata": {},
   "outputs": [],
   "source": [
    "SC_EXP_FNAME = os.path.join(RESOURCES_FOLDER, \"SCENIC/reprogramming.big_norm_counts.csv\")\n",
    "REGULONS_FNAME = os.path.join(DATA_FOLDER, \"reprogramming_big_norm_regulons_1.p\")\n",
    "MOTIFS_FNAME = os.path.join(DATA_FOLDER, \"reprogramming_big_norm_motifs_1.csv\")"
   ]
  },
  {
   "cell_type": "code",
   "execution_count": 15,
   "metadata": {},
   "outputs": [],
   "source": [
    "exp_mtx = pd.read_csv(SC_EXP_FNAME, index_col=0, sep=',').T"
   ]
  },
  {
   "cell_type": "code",
   "execution_count": 13,
   "metadata": {},
   "outputs": [],
   "source": [
    "local_cluster = LocalCluster(n_workers=8, threads_per_worker=1)\n",
    "client = Client(local_cluster)"
   ]
  },
  {
   "cell_type": "code",
   "execution_count": 14,
   "metadata": {},
   "outputs": [
    {
     "data": {
      "text/html": [
       "<div>\n",
       "<style scoped>\n",
       "    .dataframe tbody tr th:only-of-type {\n",
       "        vertical-align: middle;\n",
       "    }\n",
       "\n",
       "    .dataframe tbody tr th {\n",
       "        vertical-align: top;\n",
       "    }\n",
       "\n",
       "    .dataframe thead th {\n",
       "        text-align: right;\n",
       "    }\n",
       "</style>\n",
       "<table border=\"1\" class=\"dataframe\">\n",
       "  <thead>\n",
       "    <tr style=\"text-align: right;\">\n",
       "      <th></th>\n",
       "      <th>Sox17</th>\n",
       "      <th>Mrpl15</th>\n",
       "      <th>Lypla1</th>\n",
       "      <th>Tcea1</th>\n",
       "      <th>Rgs20</th>\n",
       "      <th>Atp6v1h</th>\n",
       "      <th>Rb1cc1</th>\n",
       "      <th>4732440D04Rik</th>\n",
       "      <th>Fam150a</th>\n",
       "      <th>Pcmtd1</th>\n",
       "      <th>...</th>\n",
       "      <th>mt-Ta</th>\n",
       "      <th>mt-Tn</th>\n",
       "      <th>mt-Tc</th>\n",
       "      <th>mt-Tr</th>\n",
       "      <th>mt-Ts2</th>\n",
       "      <th>mt-Tl2</th>\n",
       "      <th>mt-Te</th>\n",
       "      <th>mt-Tt</th>\n",
       "      <th>mt-Tp</th>\n",
       "      <th>pCX-eGFP</th>\n",
       "    </tr>\n",
       "  </thead>\n",
       "  <tbody>\n",
       "    <tr>\n",
       "      <th>Schiebinger_DiPSC_2i_C1_CCATGTCAGACTAGGC.1</th>\n",
       "      <td>0.0</td>\n",
       "      <td>0.585802</td>\n",
       "      <td>1.220622</td>\n",
       "      <td>0.952763</td>\n",
       "      <td>0.0</td>\n",
       "      <td>0.000000</td>\n",
       "      <td>0.0</td>\n",
       "      <td>0.0</td>\n",
       "      <td>0.0</td>\n",
       "      <td>0.0</td>\n",
       "      <td>...</td>\n",
       "      <td>0.0</td>\n",
       "      <td>0.0</td>\n",
       "      <td>0.0</td>\n",
       "      <td>0.0</td>\n",
       "      <td>0.0</td>\n",
       "      <td>0.0</td>\n",
       "      <td>0.0</td>\n",
       "      <td>0.0</td>\n",
       "      <td>0.0</td>\n",
       "      <td>0.0</td>\n",
       "    </tr>\n",
       "    <tr>\n",
       "      <th>Schiebinger_D8.5_2i_C1_CGGACTGGTAATTGGA.1</th>\n",
       "      <td>0.0</td>\n",
       "      <td>1.324153</td>\n",
       "      <td>0.000000</td>\n",
       "      <td>0.000000</td>\n",
       "      <td>0.0</td>\n",
       "      <td>0.000000</td>\n",
       "      <td>0.0</td>\n",
       "      <td>0.0</td>\n",
       "      <td>0.0</td>\n",
       "      <td>0.0</td>\n",
       "      <td>...</td>\n",
       "      <td>0.0</td>\n",
       "      <td>0.0</td>\n",
       "      <td>0.0</td>\n",
       "      <td>0.0</td>\n",
       "      <td>0.0</td>\n",
       "      <td>0.0</td>\n",
       "      <td>0.0</td>\n",
       "      <td>0.0</td>\n",
       "      <td>0.0</td>\n",
       "      <td>0.0</td>\n",
       "    </tr>\n",
       "    <tr>\n",
       "      <th>Schiebinger_D4_Dox_C1_AGAGCTTCAGGAATGC.1</th>\n",
       "      <td>0.0</td>\n",
       "      <td>0.511066</td>\n",
       "      <td>0.000000</td>\n",
       "      <td>1.299720</td>\n",
       "      <td>0.0</td>\n",
       "      <td>0.000000</td>\n",
       "      <td>0.0</td>\n",
       "      <td>0.0</td>\n",
       "      <td>0.0</td>\n",
       "      <td>0.0</td>\n",
       "      <td>...</td>\n",
       "      <td>0.0</td>\n",
       "      <td>0.0</td>\n",
       "      <td>0.0</td>\n",
       "      <td>0.0</td>\n",
       "      <td>0.0</td>\n",
       "      <td>0.0</td>\n",
       "      <td>0.0</td>\n",
       "      <td>0.0</td>\n",
       "      <td>0.0</td>\n",
       "      <td>0.0</td>\n",
       "    </tr>\n",
       "    <tr>\n",
       "      <th>Schiebinger_D12.5_2i_C1_GTCTTCGGTGACGGTA.1</th>\n",
       "      <td>0.0</td>\n",
       "      <td>1.098301</td>\n",
       "      <td>0.000000</td>\n",
       "      <td>0.510639</td>\n",
       "      <td>0.0</td>\n",
       "      <td>0.510639</td>\n",
       "      <td>0.0</td>\n",
       "      <td>0.0</td>\n",
       "      <td>0.0</td>\n",
       "      <td>0.0</td>\n",
       "      <td>...</td>\n",
       "      <td>0.0</td>\n",
       "      <td>0.0</td>\n",
       "      <td>0.0</td>\n",
       "      <td>0.0</td>\n",
       "      <td>0.0</td>\n",
       "      <td>0.0</td>\n",
       "      <td>0.0</td>\n",
       "      <td>0.0</td>\n",
       "      <td>0.0</td>\n",
       "      <td>0.0</td>\n",
       "    </tr>\n",
       "    <tr>\n",
       "      <th>Schiebinger_D3_Dox_C2_TCTGGAAAGCTGCGAA.1</th>\n",
       "      <td>0.0</td>\n",
       "      <td>0.847184</td>\n",
       "      <td>0.510746</td>\n",
       "      <td>0.510746</td>\n",
       "      <td>0.0</td>\n",
       "      <td>0.000000</td>\n",
       "      <td>0.0</td>\n",
       "      <td>0.0</td>\n",
       "      <td>0.0</td>\n",
       "      <td>0.0</td>\n",
       "      <td>...</td>\n",
       "      <td>0.0</td>\n",
       "      <td>0.0</td>\n",
       "      <td>0.0</td>\n",
       "      <td>0.0</td>\n",
       "      <td>0.0</td>\n",
       "      <td>0.0</td>\n",
       "      <td>0.0</td>\n",
       "      <td>0.0</td>\n",
       "      <td>0.0</td>\n",
       "      <td>0.0</td>\n",
       "    </tr>\n",
       "  </tbody>\n",
       "</table>\n",
       "<p>5 rows × 28703 columns</p>\n",
       "</div>"
      ],
      "text/plain": [
       "                                            Sox17    Mrpl15    Lypla1  \\\n",
       "Schiebinger_DiPSC_2i_C1_CCATGTCAGACTAGGC.1    0.0  0.585802  1.220622   \n",
       "Schiebinger_D8.5_2i_C1_CGGACTGGTAATTGGA.1     0.0  1.324153  0.000000   \n",
       "Schiebinger_D4_Dox_C1_AGAGCTTCAGGAATGC.1      0.0  0.511066  0.000000   \n",
       "Schiebinger_D12.5_2i_C1_GTCTTCGGTGACGGTA.1    0.0  1.098301  0.000000   \n",
       "Schiebinger_D3_Dox_C2_TCTGGAAAGCTGCGAA.1      0.0  0.847184  0.510746   \n",
       "\n",
       "                                               Tcea1  Rgs20   Atp6v1h  Rb1cc1  \\\n",
       "Schiebinger_DiPSC_2i_C1_CCATGTCAGACTAGGC.1  0.952763    0.0  0.000000     0.0   \n",
       "Schiebinger_D8.5_2i_C1_CGGACTGGTAATTGGA.1   0.000000    0.0  0.000000     0.0   \n",
       "Schiebinger_D4_Dox_C1_AGAGCTTCAGGAATGC.1    1.299720    0.0  0.000000     0.0   \n",
       "Schiebinger_D12.5_2i_C1_GTCTTCGGTGACGGTA.1  0.510639    0.0  0.510639     0.0   \n",
       "Schiebinger_D3_Dox_C2_TCTGGAAAGCTGCGAA.1    0.510746    0.0  0.000000     0.0   \n",
       "\n",
       "                                            4732440D04Rik  Fam150a  Pcmtd1  \\\n",
       "Schiebinger_DiPSC_2i_C1_CCATGTCAGACTAGGC.1            0.0      0.0     0.0   \n",
       "Schiebinger_D8.5_2i_C1_CGGACTGGTAATTGGA.1             0.0      0.0     0.0   \n",
       "Schiebinger_D4_Dox_C1_AGAGCTTCAGGAATGC.1              0.0      0.0     0.0   \n",
       "Schiebinger_D12.5_2i_C1_GTCTTCGGTGACGGTA.1            0.0      0.0     0.0   \n",
       "Schiebinger_D3_Dox_C2_TCTGGAAAGCTGCGAA.1              0.0      0.0     0.0   \n",
       "\n",
       "                                              ...     mt-Ta  mt-Tn  mt-Tc  \\\n",
       "Schiebinger_DiPSC_2i_C1_CCATGTCAGACTAGGC.1    ...       0.0    0.0    0.0   \n",
       "Schiebinger_D8.5_2i_C1_CGGACTGGTAATTGGA.1     ...       0.0    0.0    0.0   \n",
       "Schiebinger_D4_Dox_C1_AGAGCTTCAGGAATGC.1      ...       0.0    0.0    0.0   \n",
       "Schiebinger_D12.5_2i_C1_GTCTTCGGTGACGGTA.1    ...       0.0    0.0    0.0   \n",
       "Schiebinger_D3_Dox_C2_TCTGGAAAGCTGCGAA.1      ...       0.0    0.0    0.0   \n",
       "\n",
       "                                            mt-Tr  mt-Ts2  mt-Tl2  mt-Te  \\\n",
       "Schiebinger_DiPSC_2i_C1_CCATGTCAGACTAGGC.1    0.0     0.0     0.0    0.0   \n",
       "Schiebinger_D8.5_2i_C1_CGGACTGGTAATTGGA.1     0.0     0.0     0.0    0.0   \n",
       "Schiebinger_D4_Dox_C1_AGAGCTTCAGGAATGC.1      0.0     0.0     0.0    0.0   \n",
       "Schiebinger_D12.5_2i_C1_GTCTTCGGTGACGGTA.1    0.0     0.0     0.0    0.0   \n",
       "Schiebinger_D3_Dox_C2_TCTGGAAAGCTGCGAA.1      0.0     0.0     0.0    0.0   \n",
       "\n",
       "                                            mt-Tt  mt-Tp  pCX-eGFP  \n",
       "Schiebinger_DiPSC_2i_C1_CCATGTCAGACTAGGC.1    0.0    0.0       0.0  \n",
       "Schiebinger_D8.5_2i_C1_CGGACTGGTAATTGGA.1     0.0    0.0       0.0  \n",
       "Schiebinger_D4_Dox_C1_AGAGCTTCAGGAATGC.1      0.0    0.0       0.0  \n",
       "Schiebinger_D12.5_2i_C1_GTCTTCGGTGACGGTA.1    0.0    0.0       0.0  \n",
       "Schiebinger_D3_Dox_C2_TCTGGAAAGCTGCGAA.1      0.0    0.0       0.0  \n",
       "\n",
       "[5 rows x 28703 columns]"
      ]
     },
     "execution_count": 14,
     "metadata": {},
     "output_type": "execute_result"
    }
   ],
   "source": [
    "exp_mtx.head()"
   ]
  },
  {
   "cell_type": "code",
   "execution_count": null,
   "metadata": {},
   "outputs": [
    {
     "name": "stdout",
     "output_type": "stream",
     "text": [
      "preparing dask client\n",
      "parsing input\n",
      "creating dask graph\n"
     ]
    },
    {
     "name": "stderr",
     "output_type": "stream",
     "text": [
      "/data/leuven/320/vsc32023/miniconda/envs/pySCENIC_2/lib/python3.6/site-packages/arboreto/algo.py:214: FutureWarning: Method .as_matrix will be removed in a future version. Use .values instead.\n",
      "  expression_matrix = expression_data.as_matrix()\n"
     ]
    },
    {
     "name": "stdout",
     "output_type": "stream",
     "text": [
      "15 partitions\n",
      "computing dask graph\n"
     ]
    }
   ],
   "source": [
    "reprogramming_big_norm_adjacencies_1 = grnboost2(\n",
    "    expression_data=exp_mtx,\n",
    "    tf_names=tf_names,\n",
    "    verbose=True,\n",
    "    client_or_address=client)"
   ]
  },
  {
   "cell_type": "code",
   "execution_count": 21,
   "metadata": {},
   "outputs": [],
   "source": [
    "reprogramming_big_norm_adjacencies_1.to_csv(\"SCENIC/Schiebinger/reprogramming_big_norm_adjacencies_1_692.csv\")"
   ]
  },
  {
   "cell_type": "code",
   "execution_count": 12,
   "metadata": {},
   "outputs": [],
   "source": [
    "reprogramming_big_norm_adjacencies_1 = pd.read_csv(\"SCENIC/Schiebinger/reprogramming_big_norm_adjacencies_1_692.csv\")"
   ]
  },
  {
   "cell_type": "code",
   "execution_count": 16,
   "metadata": {},
   "outputs": [
    {
     "name": "stderr",
     "output_type": "stream",
     "text": [
      "/data/leuven/320/vsc32023/miniconda/envs/pySCENIC_2/lib/python3.6/site-packages/pyscenic/utils.py:138: RuntimeWarning: invalid value encountered in greater\n",
      "  regulations = (rhos > rho_threshold).astype(int) - (rhos < -rho_threshold).astype(int)\n",
      "/data/leuven/320/vsc32023/miniconda/envs/pySCENIC_2/lib/python3.6/site-packages/pyscenic/utils.py:138: RuntimeWarning: invalid value encountered in less\n",
      "  regulations = (rhos > rho_threshold).astype(int) - (rhos < -rho_threshold).astype(int)\n"
     ]
    }
   ],
   "source": [
    "modules_1 = list(modules_from_adjacencies(reprogramming_big_norm_adjacencies_1, exp_mtx))"
   ]
  },
  {
   "cell_type": "code",
   "execution_count": 17,
   "metadata": {},
   "outputs": [],
   "source": [
    "local_cluster = LocalCluster(n_workers=4, threads_per_worker=1)\n",
    "client = Client(local_cluster)"
   ]
  },
  {
   "cell_type": "code",
   "execution_count": 18,
   "metadata": {},
   "outputs": [
    {
     "name": "stderr",
     "output_type": "stream",
     "text": [
      "/data/leuven/320/vsc32023/miniconda/envs/pySCENIC_2/lib/python3.6/site-packages/distributed/worker.py:3101: UserWarning: Large object of size 1.09 MB detected in task graph: \n",
      "  ([\"('from-delayed-e0e12ee7ca9430b57ffa3ffe2d08d50f ... 0f', 18637)\"],)\n",
      "Consider scattering large objects ahead of time\n",
      "with client.scatter to reduce scheduler burden and \n",
      "keep data on workers\n",
      "\n",
      "    future = client.submit(func, big_data)    # bad\n",
      "\n",
      "    big_future = client.scatter(big_data)     # good\n",
      "    future = client.submit(func, big_future)  # good\n",
      "  % (format_bytes(len(b)), s)\n"
     ]
    }
   ],
   "source": [
    "# Calculate a list of enriched motifs and the corresponding target genes for all modules.\n",
    "with ProgressBar():\n",
    "    df = prune2df(dbs, modules_1, MOTIF_ANNOTATIONS_FNAME, client_or_address=client)"
   ]
  },
  {
   "cell_type": "code",
   "execution_count": 19,
   "metadata": {},
   "outputs": [],
   "source": [
    "regulons_1 = df2regulons(df)"
   ]
  },
  {
   "cell_type": "code",
   "execution_count": 20,
   "metadata": {},
   "outputs": [],
   "source": [
    "df.to_csv(MOTIFS_FNAME)"
   ]
  },
  {
   "cell_type": "code",
   "execution_count": 21,
   "metadata": {},
   "outputs": [],
   "source": [
    "with open(REGULONS_FNAME, \"wb\") as f:\n",
    "    pickle.dump(regulons_1, f)"
   ]
  },
  {
   "cell_type": "code",
   "execution_count": 22,
   "metadata": {},
   "outputs": [],
   "source": [
    "auc_mtx = aucell(exp_mtx, regulons_1, num_workers=8)"
   ]
  },
  {
   "cell_type": "code",
   "execution_count": 23,
   "metadata": {},
   "outputs": [],
   "source": [
    "auc_mtx.to_csv(\"SCENIC/Schiebinger/auc_reprogramming.big_embryo_norm_692.csv\")"
   ]
  },
  {
   "cell_type": "code",
   "execution_count": null,
   "metadata": {},
   "outputs": [],
   "source": []
  }
 ],
 "metadata": {
  "kernelspec": {
   "display_name": "R [conda env:R_scRNAseq]",
   "language": "R",
   "name": "conda-env-R_scRNAseq-r"
  },
  "language_info": {
   "codemirror_mode": "r",
   "file_extension": ".r",
   "mimetype": "text/x-r-source",
   "name": "R",
   "pygments_lexer": "r",
   "version": "3.6.1"
  }
 },
 "nbformat": 4,
 "nbformat_minor": 2
}
