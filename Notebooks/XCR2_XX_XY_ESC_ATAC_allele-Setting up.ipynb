{
 "cells": [
  {
   "cell_type": "markdown",
   "metadata": {},
   "source": [
    "## AJ_0075 - Re-analyzing Song et al., ATAC-seq data with MusCast ESCs XX and XY.  \n",
    "#### Is there enhanced chromatin accessibility in males XY cells and which regions are hyperaccessible?"
   ]
  },
  {
   "cell_type": "code",
   "execution_count": 4,
   "metadata": {},
   "outputs": [
    {
     "name": "stdout",
     "output_type": "stream",
     "text": [
      "(encode-atac-seq-pipeline) "
     ]
    },
    {
     "ename": "",
     "evalue": "1",
     "execution_count": 4,
     "output_type": "error",
     "traceback": []
    }
   ],
   "source": [
    "# Activate pipeline environment. This env has to be installed using the script that comes with the pipeline\n",
    "## and not from simple .yml.\n",
    "\n",
    "conda activate encode-atac-seq-pipeline"
   ]
  },
  {
   "cell_type": "code",
   "execution_count": 9,
   "metadata": {},
   "outputs": [
    {
     "name": "stdout",
     "output_type": "stream",
     "text": [
      "(encode-atac-seq-pipeline) "
     ]
    },
    {
     "ename": "",
     "evalue": "1",
     "execution_count": 9,
     "output_type": "error",
     "traceback": []
    }
   ],
   "source": [
    "cd /staging/leuven/stg_00041/Adrian/AJ_0075_XCU_SONG_DATA/ATAC_seq/"
   ]
  },
  {
   "cell_type": "code",
   "execution_count": 5,
   "metadata": {},
   "outputs": [
    {
     "name": "stdout",
     "output_type": "stream",
     "text": [
      "usage: caper [-h] [-v]\n",
      "             {init,run,server,submit,abort,unhold,list,metadata,troubleshoot,debug}\n",
      "             ...\n",
      "\n",
      "Caper (Cromwell-assisted Pipeline ExecutioneR)\n",
      "\n",
      "positional arguments:\n",
      "  {init,run,server,submit,abort,unhold,list,metadata,troubleshoot,debug}\n",
      "    init                Initialize Caper's configuration file. THIS WILL\n",
      "                        OVERWRITE ON A SPECIFIED(-c)/DEFAULT CONF FILE. e.g.\n",
      "                        ~/.caper/default.conf.\n",
      "    run                 Run a single workflow without server\n",
      "    server              Run a Cromwell server\n",
      "    submit              Submit a workflow to a Cromwell server\n",
      "    abort               Abort running/pending workflows on a Cromwell server\n",
      "    unhold              Release hold of workflows on a Cromwell server\n",
      "    list                List running/pending workflows on a Cromwell server\n",
      "    metadata            Retrieve metadata JSON for workflows from a Cromwell\n",
      "                        server\n",
      "    troubleshoot        Troubleshoot workflow problems from metadata JSON file\n",
      "                        or workflow IDs\n",
      "    debug               Identical to \"troubleshoot\"\n",
      "\n",
      "optional arguments:\n",
      "  -h, --help            show this help message and exit\n",
      "  -v, --version         Show version\n",
      "(encode-atac-seq-pipeline) "
     ]
    },
    {
     "ename": "",
     "evalue": "1",
     "execution_count": 5,
     "output_type": "error",
     "traceback": []
    }
   ],
   "source": [
    "# Check if caper is correctly installed and running\n",
    "caper"
   ]
  },
  {
   "cell_type": "markdown",
   "metadata": {},
   "source": [
    "Choose a platform from the following table and initialize Caper. This will create a default Caper configuration file ~/.caper/default.conf.\n",
    "Picked option according to system:\n",
    "<br>        sherlock \tStanford Sherlock cluster (SLURM)\n",
    "<br>        scg \tStanford SCG cluster (SLURM)\n",
    "<br>        gcp \tGoogle Cloud Platform\n",
    "<br>        aws \tAmazon Web Service\n",
    "<br>        local \tGeneral local computer <------\n",
    "<br>        sge \tHPC with Sun GridEngine cluster engine\n",
    "<br>        pbs \tHPC with PBS cluster engine \n",
    "<br>        slurm \tHPC with SLURM cluster engine"
   ]
  },
  {
   "cell_type": "code",
   "execution_count": 7,
   "metadata": {},
   "outputs": [
    {
     "name": "stdout",
     "output_type": "stream",
     "text": [
      "(encode-atac-seq-pipeline) "
     ]
    },
    {
     "ename": "",
     "evalue": "1",
     "execution_count": 7,
     "output_type": "error",
     "traceback": []
    }
   ],
   "source": [
    "# Need to make that directory before running caper init local\n",
    "mkdir -p ~/.caper/"
   ]
  },
  {
   "cell_type": "code",
   "execution_count": 8,
   "metadata": {},
   "outputs": [
    {
     "name": "stdout",
     "output_type": "stream",
     "text": [
      "2021-03-08 09:38:36,847|caper.cromwell|INFO| Installing Cromwell JAR... https://github.com/broadinstitute/cromwell/releases/download/52/cromwell-52.jar\n",
      "2021-03-08 09:38:38,106|autouri.autouri|INFO| cp: skipped due to md5_match, md5=5ff39628c67af8d5b9d35d7fd9584775, src=https://github.com/broadinstitute/cromwell/releases/download/52/cromwell-52.jar, dest=/user/leuven/320/vsc32023/.caper/cromwell_jar/cromwell-52.jar\n",
      "2021-03-08 09:38:38,107|caper.cromwell|INFO| Installing Womtool JAR... https://github.com/broadinstitute/cromwell/releases/download/52/womtool-52.jar\n",
      "2021-03-08 09:38:39,297|autouri.autouri|INFO| cp: skipped due to md5_match, md5=258d2eb824b66e38a0624105c26df6db, src=https://github.com/broadinstitute/cromwell/releases/download/52/womtool-52.jar, dest=/user/leuven/320/vsc32023/.caper/womtool_jar/womtool-52.jar\n",
      "(encode-atac-seq-pipeline) "
     ]
    },
    {
     "ename": "",
     "evalue": "1",
     "execution_count": 8,
     "output_type": "error",
     "traceback": []
    }
   ],
   "source": [
    "caper init local"
   ]
  },
  {
   "cell_type": "markdown",
   "metadata": {},
   "source": [
    "Change config file (location: /vsc-hard-mounts/leuven-user/328/vsc32847/.caper/)"
   ]
  },
  {
   "cell_type": "markdown",
   "metadata": {},
   "source": [
    "Specify tmp_dir: /ddn1/vol1/staging/leuven/stg_00041/software/ATAC_encode_pipeline/atac-seq-pipeline/temp_caper/"
   ]
  },
  {
   "cell_type": "markdown",
   "metadata": {},
   "source": [
    "Before running, make a separate directory for each workflow."
   ]
  },
  {
   "cell_type": "code",
   "execution_count": 10,
   "metadata": {},
   "outputs": [
    {
     "name": "stdout",
     "output_type": "stream",
     "text": [
      "1.1.0\n",
      "(encode-atac-seq-pipeline) "
     ]
    },
    {
     "ename": "",
     "evalue": "1",
     "execution_count": 10,
     "output_type": "error",
     "traceback": []
    }
   ],
   "source": [
    "# Edit ~/.caper/default.conf. Find instruction for each parameter in the following table.\n",
    "# Changed local-loc-dir to: /ddn1/vol1/staging/leuven/stg_00041/Adrian/AJ_0075_XCU_SONG_DATA/ATAC_seq/"
   ]
  },
  {
   "cell_type": "code",
   "execution_count": 2,
   "metadata": {},
   "outputs": [
    {
     "name": "stdout",
     "output_type": "stream",
     "text": [
      "/vsc-hard-mounts/leuven-data/320/vsc32023/jupyter_notebooks/AJ_0075_XO_XA_upregulation\n"
     ]
    }
   ],
   "source": [
    "pwd"
   ]
  },
  {
   "cell_type": "code",
   "execution_count": 1,
   "metadata": {},
   "outputs": [],
   "source": [
    "# Pipeline needed a few adjustments \n",
    "\n",
    "# In genome building pipeline install_genome_data.sh (to build the genome for N-masked genome):\n",
    "\n",
    "# How to do that explained in the evernote AJ_0039.3 with only the changes as below:\n",
    "\n",
    "#   First: --sort=name  - this didn’t work and apparently it doesn’t work on centos => removed this parameter\n",
    "#   second: tar —owner=root:0 didn’t work, gave error unknown owner => changed to —owner=0 and group=0\n",
    "#     also change nthreads for indexing from 2 to 15\n",
    "# third: --local parameter in mapping scripts was already removed now by defaults it's end-to-end\n",
    "\n",
    "\n",
    "# Then I built the genome by modyfying the build genome script\n",
    "# Then aligned with align-only setting in the .json file\n",
    "\n",
    "# Then run regular SNPsplit on the data\n",
    "\n",
    "# Then used filtered no dup bams to perform peak calling with peak-calling only setting in json\n",
    "\n",
    "# Had to do: CM1_gen1, CM2_gen1 in one json. Then in another CM1_gen2, CM2_gen2. etc etc\n"
   ]
  },
  {
   "cell_type": "code",
   "execution_count": null,
   "metadata": {},
   "outputs": [],
   "source": []
  }
 ],
 "metadata": {
  "kernelspec": {
   "display_name": "Bash",
   "language": "bash",
   "name": "bash"
  },
  "language_info": {
   "codemirror_mode": "shell",
   "file_extension": ".sh",
   "mimetype": "text/x-sh",
   "name": "bash"
  }
 },
 "nbformat": 4,
 "nbformat_minor": 2
}
