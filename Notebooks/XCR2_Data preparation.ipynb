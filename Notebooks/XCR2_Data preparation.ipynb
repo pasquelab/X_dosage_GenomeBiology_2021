{
 "cells": [
  {
   "cell_type": "markdown",
   "metadata": {},
   "source": [
    "**Run with conda env: allele_specific**"
   ]
  },
  {
   "cell_type": "markdown",
   "metadata": {},
   "source": [
    "### Preparing the data for TxBurst inference "
   ]
  },
  {
   "cell_type": "code",
   "execution_count": 1,
   "metadata": {},
   "outputs": [
    {
     "name": "stdout",
     "output_type": "stream",
     "text": [
      "/lustre1/project/stg_00041/Adrian/TALON_JANISZEWSKI_XCR2\n"
     ]
    }
   ],
   "source": [
    "cd /staging/leuven/stg_00041/Adrian/TALON_JANISZEWSKI_XCR2/"
   ]
  },
  {
   "cell_type": "code",
   "execution_count": 2,
   "metadata": {},
   "outputs": [],
   "source": [
    "import pandas as pd\n",
    "import numpy as np\n",
    "import sys"
   ]
  },
  {
   "cell_type": "markdown",
   "metadata": {},
   "source": [
    "## Calculate RPKMs manually with numpy\n",
    "#### Import raw allelic count table \n",
    "\n"
   ]
  },
  {
   "cell_type": "code",
   "execution_count": 3,
   "metadata": {},
   "outputs": [
    {
     "name": "stderr",
     "output_type": "stream",
     "text": [
      "/data/leuven/320/vsc32023/miniconda/envs/allele_specific/lib/python3.7/site-packages/IPython/core/interactiveshell.py:3058: DtypeWarning: Columns (1) have mixed types. Specify dtype option on import or set low_memory=False.\n",
      "  interactivity=interactivity, compiler=compiler, result=result)\n"
     ]
    }
   ],
   "source": [
    "allelic_mtx = pd.read_csv(\"allele_specific/pre_processing/AJ_0065.9_allelic_count_mtx.csv\").sort_values([\"GENE\"]).reset_index()"
   ]
  },
  {
   "cell_type": "code",
   "execution_count": 4,
   "metadata": {},
   "outputs": [],
   "source": [
    "allelic_anno = pd.read_csv(\"allele_specific/txburst/genes.sorted.bed\", sep = \"\\t\", names=[\"chr\",\"start\",\"end\",\"GENE\"])"
   ]
  },
  {
   "cell_type": "code",
   "execution_count": 5,
   "metadata": {},
   "outputs": [],
   "source": [
    "allelic_anno_match = allelic_anno[allelic_anno[\"GENE\"] \\\n",
    "                                  .isin(allelic_mtx[\"GENE\"])] \\\n",
    "                                  .drop_duplicates(subset=[\"GENE\"]) \\\n",
    "                                  .sort_values([\"GENE\"]) \\\n",
    "                                  .reset_index()"
   ]
  },
  {
   "cell_type": "code",
   "execution_count": 6,
   "metadata": {},
   "outputs": [],
   "source": [
    "# Assert matching between expr matrix and gene anno and extract matching index\n",
    "\n",
    "\n",
    "pd.testing.assert_series_equal(allelic_mtx['GENE'], allelic_anno_match['GENE'])\n",
    "allelic_mtx = allelic_mtx.set_index(\"GENE\")\n",
    "allelic_anno_match = allelic_anno_match.set_index(\"GENE\")\n",
    "\n",
    "matched_index = pd.Index.intersection(allelic_mtx.index, allelic_anno_match.index)"
   ]
  },
  {
   "cell_type": "code",
   "execution_count": 7,
   "metadata": {},
   "outputs": [],
   "source": [
    "# Calculate gene lengths\n",
    "\n",
    "allelic_anno_match[\"gene_len\"] = allelic_anno_match[\"end\"] - allelic_anno_match[\"start\"]"
   ]
  },
  {
   "cell_type": "code",
   "execution_count": 8,
   "metadata": {},
   "outputs": [],
   "source": [
    "# Clean matrix\n",
    "\n",
    "allelic_mtx = allelic_mtx.drop([\"index\",\"Unnamed: 0\",\"CHROM\"], axis = 1)"
   ]
  },
  {
   "cell_type": "code",
   "execution_count": 9,
   "metadata": {},
   "outputs": [],
   "source": [
    "# Split expr matrix by the allele\n",
    "allelic_mtx_129 = allelic_mtx.filter(like=\".129\")\n",
    "allelic_mtx_129.columns = allelic_mtx_129.columns.str.replace(\"\\\\.129\",\"\")\n",
    "\n",
    "allelic_mtx_Cast = allelic_mtx.filter(like=\".Cast\")\n",
    "allelic_mtx_Cast.columns = allelic_mtx_Cast.columns.str.replace(\"\\\\.Cast\",\"\")"
   ]
  },
  {
   "cell_type": "code",
   "execution_count": 10,
   "metadata": {},
   "outputs": [],
   "source": [
    "counts = np.asarray(allelic_mtx.loc[matched_index], dtype=int)\n",
    "\n",
    "counts_129 = np.asarray(allelic_mtx_129.loc[matched_index], dtype=int)\n",
    "counts_Cast = np.asarray(allelic_mtx_Cast.loc[matched_index], dtype=int)\n",
    "\n",
    "gene_lengths = np.asarray(allelic_anno_match.loc[matched_index]['gene_len'],\n",
    "                          dtype=int)\n",
    "\n",
    "gene_names = np.array(matched_index)"
   ]
  },
  {
   "cell_type": "code",
   "execution_count": 11,
   "metadata": {},
   "outputs": [
    {
     "name": "stdout",
     "output_type": "stream",
     "text": [
      "(15912, 1324)\n",
      "(15912, 662)\n",
      "(15912, 662)\n",
      "(15912,)\n"
     ]
    }
   ],
   "source": [
    "print(counts.shape)\n",
    "print(counts_129.shape)\n",
    "print(counts_Cast.shape)\n",
    "print(gene_lengths.shape)"
   ]
  },
  {
   "cell_type": "code",
   "execution_count": 12,
   "metadata": {},
   "outputs": [],
   "source": [
    "# Function copied from Elegant NumPy book\n",
    "# https://www.oreilly.com/library/view/elegant-scipy/9781491922927/ch01.html\n",
    "\n",
    "def rpkm(counts, lengths):\n",
    "    \"\"\"Calculate reads per kilobase transcript per million reads.\n",
    "\n",
    "    RPKM = (10^9 * C) / (N * L)\n",
    "\n",
    "    Where:\n",
    "    C = Number of reads mapped to a gene\n",
    "    N = Total mapped reads in the experiment\n",
    "    L = Exon length in base pairs for a gene\n",
    "\n",
    "    Parameters\n",
    "    ----------\n",
    "    counts: array, shape (N_genes, N_samples)\n",
    "        RNAseq (or similar) count data where columns are individual samples\n",
    "        and rows are genes.\n",
    "    lengths: array, shape (N_genes,)\n",
    "        Gene lengths in base pairs in the same order\n",
    "        as the rows in counts.\n",
    "\n",
    "    Returns\n",
    "    -------\n",
    "    normed : array, shape (N_genes, N_samples)\n",
    "        The RPKM normalized counts matrix.\n",
    "    \"\"\"\n",
    "    N = np.sum(counts, axis=0)  # sum each column to get total reads per sample\n",
    "    L = lengths\n",
    "    C = counts\n",
    "\n",
    "    normed = 1e9 * C / (N[np.newaxis, :] * L[:, np.newaxis])\n",
    "\n",
    "    return(normed)"
   ]
  },
  {
   "cell_type": "code",
   "execution_count": 13,
   "metadata": {},
   "outputs": [
    {
     "name": "stderr",
     "output_type": "stream",
     "text": [
      "/data/leuven/320/vsc32023/miniconda/envs/allele_specific/lib/python3.7/site-packages/ipykernel_launcher.py:32: RuntimeWarning: divide by zero encountered in true_divide\n",
      "/data/leuven/320/vsc32023/miniconda/envs/allele_specific/lib/python3.7/site-packages/ipykernel_launcher.py:32: RuntimeWarning: invalid value encountered in true_divide\n"
     ]
    }
   ],
   "source": [
    "allelic_rpkm = rpkm(counts, gene_lengths)\n",
    "\n",
    "allelic_129_rpkm = rpkm(counts_129, gene_lengths)\n",
    "allelic_Cast_rpkm = rpkm(counts_Cast, gene_lengths)"
   ]
  },
  {
   "cell_type": "code",
   "execution_count": 14,
   "metadata": {},
   "outputs": [],
   "source": [
    "allelic_rpkm_df = pd.DataFrame(data=allelic_rpkm, index=matched_index, columns=allelic_mtx.columns)\n",
    "\n",
    "allelic_129_rpkm_df = pd.DataFrame(data=allelic_129_rpkm, index=matched_index, columns=allelic_mtx_129.columns)\n",
    "allelic_Cast_rpkm_df = pd.DataFrame(data=allelic_Cast_rpkm, index=matched_index, columns=allelic_mtx_Cast.columns)"
   ]
  },
  {
   "cell_type": "code",
   "execution_count": 15,
   "metadata": {},
   "outputs": [],
   "source": [
    "allelic_rpkm_df.to_csv(\"allele_specific/txburst/allelic_mtx_rpkm.csv\")\n",
    "\n",
    "allelic_129_rpkm_df.to_csv(\"allele_specific/txburst/allelic_mtx_129_rpkm.csv\")\n",
    "allelic_Cast_rpkm_df.to_csv(\"allele_specific/txburst/allelic_mtx_Cast_rpkm.csv\")"
   ]
  },
  {
   "cell_type": "markdown",
   "metadata": {},
   "source": [
    "### Distinguish missing data from no-expression"
   ]
  },
  {
   "cell_type": "markdown",
   "metadata": {},
   "source": [
    "From Larsson TxBursts github:  \n",
    "    “If you have estimated the allelic transcript counts from the fraction of allelic reads,  \n",
    "    it is important to consider what is missing data in this case. Genes with expression (reads)  \n",
    "    but no allelic reads are different from genes without expression (and therefore no allelic reads).  \n",
    "    We handle the first case as missing data, since it is not possible to assign the expression.  \n",
    "    In the second case, we replace the NaN with a 0 since there is genuinely no detected expression.  \n",
    "    Omitting this step may have severe effects on the quality of the inference.”"
   ]
  },
  {
   "cell_type": "code",
   "execution_count": 16,
   "metadata": {},
   "outputs": [],
   "source": [
    "# Import non allelic count matrix\n",
    "counts_nonAllelic = pd.read_csv(\"allele_specific/txburst/AJ_0065_seurat_normCounts.csv\", \n",
    "                               index_col=0)"
   ]
  },
  {
   "cell_type": "code",
   "execution_count": 17,
   "metadata": {},
   "outputs": [],
   "source": [
    "# Convert tables to a long format\n",
    "\n",
    "allelic_129_rpkm_long = allelic_129_rpkm_df \\\n",
    "    .reset_index() \\\n",
    "    .melt(id_vars = \"GENE\", var_name = \"cell\", value_name=\"129_rpkm\") \n",
    "\n",
    "allelic_Cast_rpkm_long = allelic_Cast_rpkm_df \\\n",
    "    .reset_index() \\\n",
    "    .melt(id_vars = \"GENE\", var_name = \"cell\", value_name=\"Cast_rpkm\") \n",
    "\n",
    "counts_nonAllelic_long = counts_nonAllelic \\\n",
    "    .rename_axis(\"GENE\") \\\n",
    "    .reset_index() \\\n",
    "    .melt(id_vars = \"GENE\", var_name = \"cell\", value_name = \"nonAllelic\") "
   ]
  },
  {
   "cell_type": "code",
   "execution_count": 18,
   "metadata": {},
   "outputs": [],
   "source": [
    "# Merge the allelic tables and calculate sumReads of the two alleles and allelic ratio (129/sumReads)\n",
    "\n",
    "pd.testing.assert_series_equal(allelic_129_rpkm_long[\"GENE\"],allelic_Cast_rpkm_long[\"GENE\"])\n",
    "pd.testing.assert_series_equal(allelic_129_rpkm_long[\"cell\"],allelic_Cast_rpkm_long[\"cell\"])\n",
    "\n",
    "allelic_129_Cast_rpkm = allelic_129_rpkm_long \\\n",
    "                                .merge(\n",
    "                                allelic_Cast_rpkm_long,\n",
    "                                on=[\"GENE\",\"cell\"], how=\"left\",\n",
    "                                validate = \"one_to_one\") \n",
    "\n",
    "allelic_129_Cast_rpkm[\"sumReads\"] = allelic_129_Cast_rpkm[\"129_rpkm\"] + allelic_129_Cast_rpkm[\"Cast_rpkm\"]"
   ]
  },
  {
   "cell_type": "code",
   "execution_count": 19,
   "metadata": {},
   "outputs": [],
   "source": [
    "# Filter join with smaller nonAllelic table which is after seurat cell/gene filtering\n",
    "\n",
    "counts_all = counts_nonAllelic_long \\\n",
    "                .merge(allelic_129_Cast_rpkm,\n",
    "                      on=[\"GENE\",\"cell\"], how = \"left\")"
   ]
  },
  {
   "cell_type": "code",
   "execution_count": 128,
   "metadata": {},
   "outputs": [],
   "source": [
    "# Handle missing data and no expression\n",
    "\n",
    "## Genes with expression (reads, nonAllelic > 0) \n",
    "## but \n",
    "## no allelic reads (sumReads 0 or NaN) => NaN\n",
    "\n",
    "# are different from \n",
    "\n",
    "## genes without expression (nonAllelic = 0) \n",
    "## and therefore \n",
    "## no allelic reads (sumReads = 0 or NaN) => 0\n",
    "\n",
    "\n",
    "def data_handler(df, allele):\n",
    "    \n",
    "    \"\"\"\n",
    "    df is the name of the dataframe\n",
    "    allele is the name of the column which will be corrected, either 129 or Cast\n",
    "    \"\"\"\n",
    "    \n",
    "    if df['nonAllelic'] > 0 and (df['sumReads'] == 0 or np.isnan(df['sumReads'])):\n",
    "                               return float('NaN')\n",
    "    if df['nonAllelic'] == 0 and (df['sumReads'] == 0 or np.isnan(df['sumReads'])):\n",
    "                               return 0\n",
    "    return df[allele]"
   ]
  },
  {
   "cell_type": "code",
   "execution_count": 141,
   "metadata": {},
   "outputs": [],
   "source": [
    "# This is not time efficient and will take long\n",
    "# For optimization vectorize with np.select\n",
    "\n",
    "counts_all['129_rpkm_corr'] = counts_all.apply(data_handler, allele = '129_rpkm', axis=1)\n",
    "counts_all['Cast_rpkm_corr'] = counts_all.apply(data_handler, allele = 'Cast_rpkm', axis=1)"
   ]
  },
  {
   "cell_type": "code",
   "execution_count": 365,
   "metadata": {},
   "outputs": [],
   "source": [
    "counts_all.to_csv(\"allele_specific/txburst/allelic_counts_corrected.csv\")"
   ]
  },
  {
   "cell_type": "code",
   "execution_count": 335,
   "metadata": {},
   "outputs": [],
   "source": [
    "# Remove mitochondrial genes and GFP\n",
    "\n",
    "counts_all_filt = counts_all[~counts_all[\"GENE\"].str.contains('mt\\\\-|pCX-eGFP', na=False)]\n",
    "\n",
    "# Remove Day 12 with Cast reactivated\n",
    "\n",
    "counts_all_filt = counts_all_filt[~counts_all_filt[\"cell\"].str.contains('Day_12_Xi_Cast', na=False)]"
   ]
  },
  {
   "cell_type": "code",
   "execution_count": 343,
   "metadata": {},
   "outputs": [],
   "source": [
    "# Merge with information about clusters and pseuodotime\n",
    "\n",
    "cell_cluster_pseudo = pd.read_csv('allele_specific/txburst/seurat_data_pseudotime_clusters.csv')\n",
    "cell_cluster_pseudo = cell_cluster_pseudo[[\"Name\",\"Pseudotime\",\"State\",\"seurat_clusters_rename\"]].rename(columns={\"Name\":\"cell\", \"seurat_clusters_rename\":\"cluster\"})\n",
    "\n",
    "counts_all_filt = counts_all_filt \\\n",
    "                                .merge(\n",
    "                                cell_cluster_pseudo,\n",
    "                                on=[\"cell\"], how=\"left\",\n",
    "                                validate = \"many_to_one\") "
   ]
  },
  {
   "cell_type": "code",
   "execution_count": 366,
   "metadata": {},
   "outputs": [],
   "source": [
    "counts_all_filt.to_csv(\"allele_specific/txburst/allelic_counts_all_filt.csv\")"
   ]
  },
  {
   "cell_type": "code",
   "execution_count": 362,
   "metadata": {},
   "outputs": [],
   "source": [
    "def long_to_mtx(df_long,\n",
    "                allele,\n",
    "                timepoint=None, \n",
    "                cluster=None):\n",
    "    \"\"\" Convert long format gene expression back to genes x cells matrix for each \n",
    "    cell type or cluster for each allele. \n",
    "    \n",
    "    Generates a valid input for txburstML.py\n",
    "    \n",
    "    timepoint: string\n",
    "       A strings that will be used to grep timepoints from \"cell\" column\n",
    "    cluster: string\n",
    "        A string that selects the cluster from cluster column\n",
    "    allele: string\n",
    "       String that will indicate which allele to choose. Here, either: 'Cast_rpkm_corr'\n",
    "           or '129_rpkm_corr'\n",
    "    \"\"\"\n",
    "    if timepoint:   \n",
    "        mtx = df_long[df_long['cell'].str.contains(timepoint)][['GENE','cell',allele]] \\\n",
    "            .pivot(index='GENE',columns='cell',values=allele)\n",
    "    \n",
    "        mtx.to_csv(\"allele_specific/txburst/{}_{}.csv\".format(timepoint, allele))  \n",
    "    else:  \n",
    "        mtx = df_long[df_long['cluster']==cluster][['GENE','cell',allele]] \\\n",
    "            .pivot(index='GENE',columns='cell',values=allele)\n",
    "    \n",
    "        mtx.to_csv(\"allele_specific/txburst/clust_{}_{}.csv\".format(cluster, allele))"
   ]
  },
  {
   "cell_type": "code",
   "execution_count": 364,
   "metadata": {},
   "outputs": [],
   "source": [
    "timepoints = ['Day_0','Day_8','Day_9','Day_10','Day_12','iPSC']\n",
    "alleles = ['129_rpkm_corr', 'Cast_rpkm_corr']\n",
    "\n",
    "for day in timepoints:\n",
    "    for allele in alleles:\n",
    "        long_to_mtx(counts_all_filt, allele = allele, timepoint = day)"
   ]
  },
  {
   "cell_type": "code",
   "execution_count": 363,
   "metadata": {},
   "outputs": [],
   "source": [
    "clusters = [0,1,2,3,4,5]\n",
    "alleles = ['129_rpkm_corr', 'Cast_rpkm_corr']\n",
    "\n",
    "for cluster in clusters:\n",
    "    for allele in alleles:\n",
    "        long_to_mtx(counts_all_filt, allele = allele, cluster = cluster)"
   ]
  },
  {
   "cell_type": "code",
   "execution_count": 291,
   "metadata": {},
   "outputs": [],
   "source": [
    "# Prepare the table with selected sample and allele\n",
    "# For starters Xa in Day 0 vs Xa in iPSCs\n",
    "\n",
    "#D0_Xa = counts_all_filt[counts_all_filt['cell'].str.contains(\"Day_0\")][['GENE','cell','Cast_rpkm_corr']] \\\n",
    "#            .pivot(index='GENE',columns='cell',values='Cast_rpkm_corr')\n",
    "\n",
    "#D12_Xa = counts_all_filt[counts_all_filt['cell'].str.contains(\"Day_12_Xi_Mus\")][['GENE','cell','Cast_rpkm_corr']] \\\n",
    "#            .pivot(index='GENE',columns='cell',values='Cast_rpkm_corr')\n",
    "\n",
    "#D0_Xa.to_csv(\"data/D0_Xa_rpkm.csv\")\n",
    "#D12_Xa.to_csv(\"data/D12_Xa_rpkm.csv\")"
   ]
  },
  {
   "cell_type": "code",
   "execution_count": null,
   "metadata": {},
   "outputs": [],
   "source": []
  }
 ],
 "metadata": {
  "kernelspec": {
   "display_name": "Python [conda env:allele_specific]",
   "language": "python",
   "name": "conda-env-allele_specific-py"
  },
  "language_info": {
   "codemirror_mode": {
    "name": "ipython",
    "version": 3
   },
   "file_extension": ".py",
   "mimetype": "text/x-python",
   "name": "python",
   "nbconvert_exporter": "python",
   "pygments_lexer": "ipython3",
   "version": "3.7.5"
  }
 },
 "nbformat": 4,
 "nbformat_minor": 2
}
