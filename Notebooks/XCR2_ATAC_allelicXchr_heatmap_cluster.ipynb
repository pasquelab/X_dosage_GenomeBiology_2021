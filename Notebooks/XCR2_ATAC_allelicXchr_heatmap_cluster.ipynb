{
 "cells": [
  {
   "cell_type": "markdown",
   "metadata": {},
   "source": [
    "# Xchr Ratio Heatmap with kmeans = 10 clustering"
   ]
  },
  {
   "cell_type": "code",
   "execution_count": 88,
   "metadata": {},
   "outputs": [],
   "source": [
    "library(readr)\n",
    "library(DiffBind)\n",
    "library(DESeq2)\n",
    "library(dplyr)\n",
    "library(tidyr)\n",
    "library(ggplot2)\n",
    "library(viridis)\n",
    "library(ggridges)\n",
    "library(readxl)\n",
    "library(gplots)"
   ]
  },
  {
   "cell_type": "code",
   "execution_count": 89,
   "metadata": {},
   "outputs": [],
   "source": [
    "setwd(\"/ddn1/vol1/staging/leuven/stg_00041/Irene/ATAC_analysis/Allelic_ATAC/6_4_2020/\")"
   ]
  },
  {
   "cell_type": "code",
   "execution_count": 90,
   "metadata": {},
   "outputs": [
    {
     "name": "stderr",
     "output_type": "stream",
     "text": [
      "Warning message:\n",
      "\"Missing column names filled in: 'X1' [1]\"Parsed with column specification:\n",
      "cols(\n",
      "  X1 = col_double(),\n",
      "  Day0_ratio = col_double(),\n",
      "  Day8_ratio = col_double(),\n",
      "  Day9_ratio = col_double(),\n",
      "  Day10_ratio = col_double(),\n",
      "  Day12_ratio = col_double(),\n",
      "  iPSCs_ratio = col_double(),\n",
      "  cluster = col_double()\n",
      ")\n"
     ]
    }
   ],
   "source": [
    "\n",
    "ordered_ATAC_clusters_heatmap <- read_delim(\"ordered_ATAC_clusters_heatmap.csv\",\";\", escape_double = FALSE, trim_ws = TRUE)\n",
    "\n"
   ]
  },
  {
   "cell_type": "code",
   "execution_count": 91,
   "metadata": {},
   "outputs": [
    {
     "data": {
      "text/html": [
       "<table>\n",
       "<thead><tr><th scope=col>X1</th><th scope=col>Day0_ratio</th><th scope=col>Day8_ratio</th><th scope=col>Day9_ratio</th><th scope=col>Day10_ratio</th><th scope=col>Day12_ratio</th><th scope=col>iPSCs_ratio</th><th scope=col>cluster</th></tr></thead>\n",
       "<tbody>\n",
       "\t<tr><td>402763   </td><td>0.9759036</td><td>0.8666667</td><td>0.8333333</td><td>0.7142857</td><td>0.6181818</td><td>0.7272727</td><td>7        </td></tr>\n",
       "\t<tr><td>402764   </td><td>0.9487179</td><td>0.8750000</td><td>0.5263158</td><td>0.5757576</td><td>0.5686275</td><td>0.4017857</td><td>7        </td></tr>\n",
       "\t<tr><td>402765   </td><td>0.9897959</td><td>0.6862745</td><td>0.8000000</td><td>0.7341772</td><td>0.5263158</td><td>0.3926380</td><td>7        </td></tr>\n",
       "\t<tr><td>402767   </td><td>0.9880952</td><td>0.8529412</td><td>0.9655172</td><td>0.8750000</td><td>0.7014925</td><td>0.4823529</td><td>7        </td></tr>\n",
       "\t<tr><td>402768   </td><td>0.9815498</td><td>0.8383838</td><td>0.8588235</td><td>0.8356164</td><td>0.5564516</td><td>0.4465409</td><td>7        </td></tr>\n",
       "\t<tr><td>402770   </td><td>0.9264706</td><td>0.7866667</td><td>0.9411765</td><td>0.7481481</td><td>0.6559140</td><td>0.6357388</td><td>7        </td></tr>\n",
       "</tbody>\n",
       "</table>\n"
      ],
      "text/latex": [
       "\\begin{tabular}{r|llllllll}\n",
       " X1 & Day0\\_ratio & Day8\\_ratio & Day9\\_ratio & Day10\\_ratio & Day12\\_ratio & iPSCs\\_ratio & cluster\\\\\n",
       "\\hline\n",
       "\t 402763    & 0.9759036 & 0.8666667 & 0.8333333 & 0.7142857 & 0.6181818 & 0.7272727 & 7        \\\\\n",
       "\t 402764    & 0.9487179 & 0.8750000 & 0.5263158 & 0.5757576 & 0.5686275 & 0.4017857 & 7        \\\\\n",
       "\t 402765    & 0.9897959 & 0.6862745 & 0.8000000 & 0.7341772 & 0.5263158 & 0.3926380 & 7        \\\\\n",
       "\t 402767    & 0.9880952 & 0.8529412 & 0.9655172 & 0.8750000 & 0.7014925 & 0.4823529 & 7        \\\\\n",
       "\t 402768    & 0.9815498 & 0.8383838 & 0.8588235 & 0.8356164 & 0.5564516 & 0.4465409 & 7        \\\\\n",
       "\t 402770    & 0.9264706 & 0.7866667 & 0.9411765 & 0.7481481 & 0.6559140 & 0.6357388 & 7        \\\\\n",
       "\\end{tabular}\n"
      ],
      "text/markdown": [
       "\n",
       "| X1 | Day0_ratio | Day8_ratio | Day9_ratio | Day10_ratio | Day12_ratio | iPSCs_ratio | cluster |\n",
       "|---|---|---|---|---|---|---|---|\n",
       "| 402763    | 0.9759036 | 0.8666667 | 0.8333333 | 0.7142857 | 0.6181818 | 0.7272727 | 7         |\n",
       "| 402764    | 0.9487179 | 0.8750000 | 0.5263158 | 0.5757576 | 0.5686275 | 0.4017857 | 7         |\n",
       "| 402765    | 0.9897959 | 0.6862745 | 0.8000000 | 0.7341772 | 0.5263158 | 0.3926380 | 7         |\n",
       "| 402767    | 0.9880952 | 0.8529412 | 0.9655172 | 0.8750000 | 0.7014925 | 0.4823529 | 7         |\n",
       "| 402768    | 0.9815498 | 0.8383838 | 0.8588235 | 0.8356164 | 0.5564516 | 0.4465409 | 7         |\n",
       "| 402770    | 0.9264706 | 0.7866667 | 0.9411765 | 0.7481481 | 0.6559140 | 0.6357388 | 7         |\n",
       "\n"
      ],
      "text/plain": [
       "  X1     Day0_ratio Day8_ratio Day9_ratio Day10_ratio Day12_ratio iPSCs_ratio\n",
       "1 402763 0.9759036  0.8666667  0.8333333  0.7142857   0.6181818   0.7272727  \n",
       "2 402764 0.9487179  0.8750000  0.5263158  0.5757576   0.5686275   0.4017857  \n",
       "3 402765 0.9897959  0.6862745  0.8000000  0.7341772   0.5263158   0.3926380  \n",
       "4 402767 0.9880952  0.8529412  0.9655172  0.8750000   0.7014925   0.4823529  \n",
       "5 402768 0.9815498  0.8383838  0.8588235  0.8356164   0.5564516   0.4465409  \n",
       "6 402770 0.9264706  0.7866667  0.9411765  0.7481481   0.6559140   0.6357388  \n",
       "  cluster\n",
       "1 7      \n",
       "2 7      \n",
       "3 7      \n",
       "4 7      \n",
       "5 7      \n",
       "6 7      "
      ]
     },
     "metadata": {},
     "output_type": "display_data"
    }
   ],
   "source": [
    "head(ordered_ATAC_clusters_heatmap)"
   ]
  },
  {
   "cell_type": "code",
   "execution_count": 92,
   "metadata": {},
   "outputs": [
    {
     "data": {
      "text/html": [
       "<ol class=list-inline>\n",
       "\t<li>'spec_tbl_df'</li>\n",
       "\t<li>'tbl_df'</li>\n",
       "\t<li>'tbl'</li>\n",
       "\t<li>'data.frame'</li>\n",
       "</ol>\n"
      ],
      "text/latex": [
       "\\begin{enumerate*}\n",
       "\\item 'spec\\_tbl\\_df'\n",
       "\\item 'tbl\\_df'\n",
       "\\item 'tbl'\n",
       "\\item 'data.frame'\n",
       "\\end{enumerate*}\n"
      ],
      "text/markdown": [
       "1. 'spec_tbl_df'\n",
       "2. 'tbl_df'\n",
       "3. 'tbl'\n",
       "4. 'data.frame'\n",
       "\n",
       "\n"
      ],
      "text/plain": [
       "[1] \"spec_tbl_df\" \"tbl_df\"      \"tbl\"         \"data.frame\" "
      ]
     },
     "metadata": {},
     "output_type": "display_data"
    }
   ],
   "source": [
    "class(ordered_ATAC_clusters_heatmap)"
   ]
  },
  {
   "cell_type": "code",
   "execution_count": 93,
   "metadata": {},
   "outputs": [
    {
     "data": {
      "text/html": [
       "750"
      ],
      "text/latex": [
       "750"
      ],
      "text/markdown": [
       "750"
      ],
      "text/plain": [
       "[1] 750"
      ]
     },
     "metadata": {},
     "output_type": "display_data"
    }
   ],
   "source": [
    "nrow(ordered_ATAC_clusters_heatmap)"
   ]
  },
  {
   "cell_type": "code",
   "execution_count": 94,
   "metadata": {},
   "outputs": [],
   "source": [
    "library(tibble)"
   ]
  },
  {
   "cell_type": "code",
   "execution_count": 95,
   "metadata": {},
   "outputs": [],
   "source": [
    "new_ordered_ATAC_clusters_heatmap <- column_to_rownames(ordered_ATAC_clusters_heatmap, var = \"X1\")"
   ]
  },
  {
   "cell_type": "code",
   "execution_count": 96,
   "metadata": {},
   "outputs": [
    {
     "data": {
      "text/html": [
       "<table>\n",
       "<thead><tr><th></th><th scope=col>Day0_ratio</th><th scope=col>Day8_ratio</th><th scope=col>Day9_ratio</th><th scope=col>Day10_ratio</th><th scope=col>Day12_ratio</th><th scope=col>iPSCs_ratio</th><th scope=col>cluster</th></tr></thead>\n",
       "<tbody>\n",
       "\t<tr><th scope=row>402763</th><td>0.9759036</td><td>0.8666667</td><td>0.8333333</td><td>0.7142857</td><td>0.6181818</td><td>0.7272727</td><td>7        </td></tr>\n",
       "\t<tr><th scope=row>402764</th><td>0.9487179</td><td>0.8750000</td><td>0.5263158</td><td>0.5757576</td><td>0.5686275</td><td>0.4017857</td><td>7        </td></tr>\n",
       "\t<tr><th scope=row>402765</th><td>0.9897959</td><td>0.6862745</td><td>0.8000000</td><td>0.7341772</td><td>0.5263158</td><td>0.3926380</td><td>7        </td></tr>\n",
       "\t<tr><th scope=row>402767</th><td>0.9880952</td><td>0.8529412</td><td>0.9655172</td><td>0.8750000</td><td>0.7014925</td><td>0.4823529</td><td>7        </td></tr>\n",
       "\t<tr><th scope=row>402768</th><td>0.9815498</td><td>0.8383838</td><td>0.8588235</td><td>0.8356164</td><td>0.5564516</td><td>0.4465409</td><td>7        </td></tr>\n",
       "\t<tr><th scope=row>402770</th><td>0.9264706</td><td>0.7866667</td><td>0.9411765</td><td>0.7481481</td><td>0.6559140</td><td>0.6357388</td><td>7        </td></tr>\n",
       "</tbody>\n",
       "</table>\n"
      ],
      "text/latex": [
       "\\begin{tabular}{r|lllllll}\n",
       "  & Day0\\_ratio & Day8\\_ratio & Day9\\_ratio & Day10\\_ratio & Day12\\_ratio & iPSCs\\_ratio & cluster\\\\\n",
       "\\hline\n",
       "\t402763 & 0.9759036 & 0.8666667 & 0.8333333 & 0.7142857 & 0.6181818 & 0.7272727 & 7        \\\\\n",
       "\t402764 & 0.9487179 & 0.8750000 & 0.5263158 & 0.5757576 & 0.5686275 & 0.4017857 & 7        \\\\\n",
       "\t402765 & 0.9897959 & 0.6862745 & 0.8000000 & 0.7341772 & 0.5263158 & 0.3926380 & 7        \\\\\n",
       "\t402767 & 0.9880952 & 0.8529412 & 0.9655172 & 0.8750000 & 0.7014925 & 0.4823529 & 7        \\\\\n",
       "\t402768 & 0.9815498 & 0.8383838 & 0.8588235 & 0.8356164 & 0.5564516 & 0.4465409 & 7        \\\\\n",
       "\t402770 & 0.9264706 & 0.7866667 & 0.9411765 & 0.7481481 & 0.6559140 & 0.6357388 & 7        \\\\\n",
       "\\end{tabular}\n"
      ],
      "text/markdown": [
       "\n",
       "| <!--/--> | Day0_ratio | Day8_ratio | Day9_ratio | Day10_ratio | Day12_ratio | iPSCs_ratio | cluster |\n",
       "|---|---|---|---|---|---|---|---|\n",
       "| 402763 | 0.9759036 | 0.8666667 | 0.8333333 | 0.7142857 | 0.6181818 | 0.7272727 | 7         |\n",
       "| 402764 | 0.9487179 | 0.8750000 | 0.5263158 | 0.5757576 | 0.5686275 | 0.4017857 | 7         |\n",
       "| 402765 | 0.9897959 | 0.6862745 | 0.8000000 | 0.7341772 | 0.5263158 | 0.3926380 | 7         |\n",
       "| 402767 | 0.9880952 | 0.8529412 | 0.9655172 | 0.8750000 | 0.7014925 | 0.4823529 | 7         |\n",
       "| 402768 | 0.9815498 | 0.8383838 | 0.8588235 | 0.8356164 | 0.5564516 | 0.4465409 | 7         |\n",
       "| 402770 | 0.9264706 | 0.7866667 | 0.9411765 | 0.7481481 | 0.6559140 | 0.6357388 | 7         |\n",
       "\n"
      ],
      "text/plain": [
       "       Day0_ratio Day8_ratio Day9_ratio Day10_ratio Day12_ratio iPSCs_ratio\n",
       "402763 0.9759036  0.8666667  0.8333333  0.7142857   0.6181818   0.7272727  \n",
       "402764 0.9487179  0.8750000  0.5263158  0.5757576   0.5686275   0.4017857  \n",
       "402765 0.9897959  0.6862745  0.8000000  0.7341772   0.5263158   0.3926380  \n",
       "402767 0.9880952  0.8529412  0.9655172  0.8750000   0.7014925   0.4823529  \n",
       "402768 0.9815498  0.8383838  0.8588235  0.8356164   0.5564516   0.4465409  \n",
       "402770 0.9264706  0.7866667  0.9411765  0.7481481   0.6559140   0.6357388  \n",
       "       cluster\n",
       "402763 7      \n",
       "402764 7      \n",
       "402765 7      \n",
       "402767 7      \n",
       "402768 7      \n",
       "402770 7      "
      ]
     },
     "metadata": {},
     "output_type": "display_data"
    }
   ],
   "source": [
    "head(new_ordered_ATAC_clusters_heatmap)"
   ]
  },
  {
   "cell_type": "code",
   "execution_count": 97,
   "metadata": {},
   "outputs": [
    {
     "data": {
      "text/html": [
       "'data.frame'"
      ],
      "text/latex": [
       "'data.frame'"
      ],
      "text/markdown": [
       "'data.frame'"
      ],
      "text/plain": [
       "[1] \"data.frame\""
      ]
     },
     "metadata": {},
     "output_type": "display_data"
    }
   ],
   "source": [
    "class(new_ordered_ATAC_clusters_heatmap)"
   ]
  },
  {
   "cell_type": "code",
   "execution_count": 98,
   "metadata": {},
   "outputs": [
    {
     "data": {
      "text/html": [
       "750"
      ],
      "text/latex": [
       "750"
      ],
      "text/markdown": [
       "750"
      ],
      "text/plain": [
       "[1] 750"
      ]
     },
     "metadata": {},
     "output_type": "display_data"
    }
   ],
   "source": [
    "nrow(new_ordered_ATAC_clusters_heatmap)"
   ]
  },
  {
   "cell_type": "code",
   "execution_count": 99,
   "metadata": {},
   "outputs": [],
   "source": [
    "ratio_column <- c(\"Day0_ratio\", \"Day8_ratio\", \"Day9_ratio\", \"Day10_ratio\", \"Day12_ratio\", \"iPSCs_ratio\")\n",
    "cluster_column <- c(\"cluster\")"
   ]
  },
  {
   "cell_type": "code",
   "execution_count": 100,
   "metadata": {},
   "outputs": [],
   "source": [
    "ratio_df <- new_ordered_ATAC_clusters_heatmap[ratio_column]\n",
    "cluster_df <- new_ordered_ATAC_clusters_heatmap[cluster_column]"
   ]
  },
  {
   "cell_type": "code",
   "execution_count": 101,
   "metadata": {},
   "outputs": [
    {
     "data": {
      "text/html": [
       "<table>\n",
       "<thead><tr><th></th><th scope=col>Day0_ratio</th><th scope=col>Day8_ratio</th><th scope=col>Day9_ratio</th><th scope=col>Day10_ratio</th><th scope=col>Day12_ratio</th><th scope=col>iPSCs_ratio</th></tr></thead>\n",
       "<tbody>\n",
       "\t<tr><th scope=row>402763</th><td>0.9759036</td><td>0.8666667</td><td>0.8333333</td><td>0.7142857</td><td>0.6181818</td><td>0.7272727</td></tr>\n",
       "\t<tr><th scope=row>402764</th><td>0.9487179</td><td>0.8750000</td><td>0.5263158</td><td>0.5757576</td><td>0.5686275</td><td>0.4017857</td></tr>\n",
       "\t<tr><th scope=row>402765</th><td>0.9897959</td><td>0.6862745</td><td>0.8000000</td><td>0.7341772</td><td>0.5263158</td><td>0.3926380</td></tr>\n",
       "\t<tr><th scope=row>402767</th><td>0.9880952</td><td>0.8529412</td><td>0.9655172</td><td>0.8750000</td><td>0.7014925</td><td>0.4823529</td></tr>\n",
       "\t<tr><th scope=row>402768</th><td>0.9815498</td><td>0.8383838</td><td>0.8588235</td><td>0.8356164</td><td>0.5564516</td><td>0.4465409</td></tr>\n",
       "\t<tr><th scope=row>402770</th><td>0.9264706</td><td>0.7866667</td><td>0.9411765</td><td>0.7481481</td><td>0.6559140</td><td>0.6357388</td></tr>\n",
       "</tbody>\n",
       "</table>\n"
      ],
      "text/latex": [
       "\\begin{tabular}{r|llllll}\n",
       "  & Day0\\_ratio & Day8\\_ratio & Day9\\_ratio & Day10\\_ratio & Day12\\_ratio & iPSCs\\_ratio\\\\\n",
       "\\hline\n",
       "\t402763 & 0.9759036 & 0.8666667 & 0.8333333 & 0.7142857 & 0.6181818 & 0.7272727\\\\\n",
       "\t402764 & 0.9487179 & 0.8750000 & 0.5263158 & 0.5757576 & 0.5686275 & 0.4017857\\\\\n",
       "\t402765 & 0.9897959 & 0.6862745 & 0.8000000 & 0.7341772 & 0.5263158 & 0.3926380\\\\\n",
       "\t402767 & 0.9880952 & 0.8529412 & 0.9655172 & 0.8750000 & 0.7014925 & 0.4823529\\\\\n",
       "\t402768 & 0.9815498 & 0.8383838 & 0.8588235 & 0.8356164 & 0.5564516 & 0.4465409\\\\\n",
       "\t402770 & 0.9264706 & 0.7866667 & 0.9411765 & 0.7481481 & 0.6559140 & 0.6357388\\\\\n",
       "\\end{tabular}\n"
      ],
      "text/markdown": [
       "\n",
       "| <!--/--> | Day0_ratio | Day8_ratio | Day9_ratio | Day10_ratio | Day12_ratio | iPSCs_ratio |\n",
       "|---|---|---|---|---|---|---|\n",
       "| 402763 | 0.9759036 | 0.8666667 | 0.8333333 | 0.7142857 | 0.6181818 | 0.7272727 |\n",
       "| 402764 | 0.9487179 | 0.8750000 | 0.5263158 | 0.5757576 | 0.5686275 | 0.4017857 |\n",
       "| 402765 | 0.9897959 | 0.6862745 | 0.8000000 | 0.7341772 | 0.5263158 | 0.3926380 |\n",
       "| 402767 | 0.9880952 | 0.8529412 | 0.9655172 | 0.8750000 | 0.7014925 | 0.4823529 |\n",
       "| 402768 | 0.9815498 | 0.8383838 | 0.8588235 | 0.8356164 | 0.5564516 | 0.4465409 |\n",
       "| 402770 | 0.9264706 | 0.7866667 | 0.9411765 | 0.7481481 | 0.6559140 | 0.6357388 |\n",
       "\n"
      ],
      "text/plain": [
       "       Day0_ratio Day8_ratio Day9_ratio Day10_ratio Day12_ratio iPSCs_ratio\n",
       "402763 0.9759036  0.8666667  0.8333333  0.7142857   0.6181818   0.7272727  \n",
       "402764 0.9487179  0.8750000  0.5263158  0.5757576   0.5686275   0.4017857  \n",
       "402765 0.9897959  0.6862745  0.8000000  0.7341772   0.5263158   0.3926380  \n",
       "402767 0.9880952  0.8529412  0.9655172  0.8750000   0.7014925   0.4823529  \n",
       "402768 0.9815498  0.8383838  0.8588235  0.8356164   0.5564516   0.4465409  \n",
       "402770 0.9264706  0.7866667  0.9411765  0.7481481   0.6559140   0.6357388  "
      ]
     },
     "metadata": {},
     "output_type": "display_data"
    },
    {
     "data": {
      "text/html": [
       "<table>\n",
       "<thead><tr><th></th><th scope=col>cluster</th></tr></thead>\n",
       "<tbody>\n",
       "\t<tr><th scope=row>402763</th><td>7</td></tr>\n",
       "\t<tr><th scope=row>402764</th><td>7</td></tr>\n",
       "\t<tr><th scope=row>402765</th><td>7</td></tr>\n",
       "\t<tr><th scope=row>402767</th><td>7</td></tr>\n",
       "\t<tr><th scope=row>402768</th><td>7</td></tr>\n",
       "\t<tr><th scope=row>402770</th><td>7</td></tr>\n",
       "</tbody>\n",
       "</table>\n"
      ],
      "text/latex": [
       "\\begin{tabular}{r|l}\n",
       "  & cluster\\\\\n",
       "\\hline\n",
       "\t402763 & 7\\\\\n",
       "\t402764 & 7\\\\\n",
       "\t402765 & 7\\\\\n",
       "\t402767 & 7\\\\\n",
       "\t402768 & 7\\\\\n",
       "\t402770 & 7\\\\\n",
       "\\end{tabular}\n"
      ],
      "text/markdown": [
       "\n",
       "| <!--/--> | cluster |\n",
       "|---|---|\n",
       "| 402763 | 7 |\n",
       "| 402764 | 7 |\n",
       "| 402765 | 7 |\n",
       "| 402767 | 7 |\n",
       "| 402768 | 7 |\n",
       "| 402770 | 7 |\n",
       "\n"
      ],
      "text/plain": [
       "       cluster\n",
       "402763 7      \n",
       "402764 7      \n",
       "402765 7      \n",
       "402767 7      \n",
       "402768 7      \n",
       "402770 7      "
      ]
     },
     "metadata": {},
     "output_type": "display_data"
    }
   ],
   "source": [
    "head(ratio_df)\n",
    "head(cluster_df)"
   ]
  },
  {
   "cell_type": "code",
   "execution_count": 102,
   "metadata": {},
   "outputs": [
    {
     "data": {
      "text/html": [
       "7"
      ],
      "text/latex": [
       "7"
      ],
      "text/markdown": [
       "7"
      ],
      "text/plain": [
       "[1] 7"
      ]
     },
     "metadata": {},
     "output_type": "display_data"
    },
    {
     "data": {
      "text/html": [
       "22"
      ],
      "text/latex": [
       "22"
      ],
      "text/markdown": [
       "22"
      ],
      "text/plain": [
       "[1] 22"
      ]
     },
     "metadata": {},
     "output_type": "display_data"
    },
    {
     "data": {
      "text/html": [
       "38"
      ],
      "text/latex": [
       "38"
      ],
      "text/markdown": [
       "38"
      ],
      "text/plain": [
       "[1] 38"
      ]
     },
     "metadata": {},
     "output_type": "display_data"
    },
    {
     "data": {
      "text/html": [
       "59"
      ],
      "text/latex": [
       "59"
      ],
      "text/markdown": [
       "59"
      ],
      "text/plain": [
       "[1] 59"
      ]
     },
     "metadata": {},
     "output_type": "display_data"
    },
    {
     "data": {
      "text/html": [
       "122"
      ],
      "text/latex": [
       "122"
      ],
      "text/markdown": [
       "122"
      ],
      "text/plain": [
       "[1] 122"
      ]
     },
     "metadata": {},
     "output_type": "display_data"
    },
    {
     "data": {
      "text/html": [
       "81"
      ],
      "text/latex": [
       "81"
      ],
      "text/markdown": [
       "81"
      ],
      "text/plain": [
       "[1] 81"
      ]
     },
     "metadata": {},
     "output_type": "display_data"
    },
    {
     "data": {
      "text/html": [
       "141"
      ],
      "text/latex": [
       "141"
      ],
      "text/markdown": [
       "141"
      ],
      "text/plain": [
       "[1] 141"
      ]
     },
     "metadata": {},
     "output_type": "display_data"
    },
    {
     "data": {
      "text/html": [
       "134"
      ],
      "text/latex": [
       "134"
      ],
      "text/markdown": [
       "134"
      ],
      "text/plain": [
       "[1] 134"
      ]
     },
     "metadata": {},
     "output_type": "display_data"
    },
    {
     "data": {
      "text/html": [
       "104"
      ],
      "text/latex": [
       "104"
      ],
      "text/markdown": [
       "104"
      ],
      "text/plain": [
       "[1] 104"
      ]
     },
     "metadata": {},
     "output_type": "display_data"
    },
    {
     "data": {
      "text/html": [
       "42"
      ],
      "text/latex": [
       "42"
      ],
      "text/markdown": [
       "42"
      ],
      "text/plain": [
       "[1] 42"
      ]
     },
     "metadata": {},
     "output_type": "display_data"
    }
   ],
   "source": [
    "NROW(cluster_df[cluster_df$cluster==7,])\n",
    "NROW(cluster_df[cluster_df$cluster==6,])\n",
    "NROW(cluster_df[cluster_df$cluster==1,])\n",
    "NROW(cluster_df[cluster_df$cluster==8,])\n",
    "NROW(cluster_df[cluster_df$cluster==5,])\n",
    "NROW(cluster_df[cluster_df$cluster==3,])\n",
    "NROW(cluster_df[cluster_df$cluster==9,])\n",
    "NROW(cluster_df[cluster_df$cluster==2,])\n",
    "NROW(cluster_df[cluster_df$cluster==10,])\n",
    "NROW(cluster_df[cluster_df$cluster==4,])\n"
   ]
  },
  {
   "cell_type": "code",
   "execution_count": 103,
   "metadata": {},
   "outputs": [],
   "source": [
    "ratio_matrix <- as.matrix(ratio_df)"
   ]
  },
  {
   "cell_type": "code",
   "execution_count": 104,
   "metadata": {},
   "outputs": [
    {
     "data": {
      "text/html": [
       "<strong>png:</strong> 2"
      ],
      "text/latex": [
       "\\textbf{png:} 2"
      ],
      "text/markdown": [
       "**png:** 2"
      ],
      "text/plain": [
       "png \n",
       "  2 "
      ]
     },
     "metadata": {},
     "output_type": "display_data"
    }
   ],
   "source": [
    "options(repr.plot.width=5, repr.plot.height=5)\n",
    "pdf(file = \"Xchr_allele_ratios_ordered_new4.pdf\")\n",
    "heatmap.2(ratio_matrix, \n",
    "          col= inferno (100), \n",
    "          trace = \"none\", \n",
    "          Rowv = FALSE, \n",
    "          Colv = FALSE,\n",
    "          dendrogram=\"none\", \n",
    "          rowsep = c(7,29,67,126,248,329,470,604,708),\n",
    "          sepcolor=\"white\", \n",
    "          sepwidth=c(4,4),\n",
    "          main = \"Xchr_allele_ratios_ordered\")\n",
    "         \n",
    "dev.off()"
   ]
  },
  {
   "cell_type": "code",
   "execution_count": null,
   "metadata": {},
   "outputs": [],
   "source": []
  }
 ],
 "metadata": {
  "kernelspec": {
   "display_name": "R [conda env:R_ATACseq2]",
   "language": "R",
   "name": "conda-env-R_ATACseq2-r"
  },
  "language_info": {
   "codemirror_mode": "r",
   "file_extension": ".r",
   "mimetype": "text/x-r-source",
   "name": "R",
   "pygments_lexer": "r",
   "version": "3.6.1"
  }
 },
 "nbformat": 4,
 "nbformat_minor": 4
}
