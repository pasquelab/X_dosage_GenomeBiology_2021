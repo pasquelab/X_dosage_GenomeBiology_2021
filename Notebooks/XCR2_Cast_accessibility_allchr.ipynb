{
 "cells": [
  {
   "cell_type": "code",
   "execution_count": 1,
   "metadata": {},
   "outputs": [
    {
     "name": "stderr",
     "output_type": "stream",
     "text": [
      "Registered S3 methods overwritten by 'ggplot2':\n",
      "  method         from \n",
      "  [.quosures     rlang\n",
      "  c.quosures     rlang\n",
      "  print.quosures rlang\n",
      "\n",
      "Attaching package: 'dplyr'\n",
      "\n",
      "The following objects are masked from 'package:stats':\n",
      "\n",
      "    filter, lag\n",
      "\n",
      "The following objects are masked from 'package:base':\n",
      "\n",
      "    intersect, setdiff, setequal, union\n",
      "\n",
      "Loading required package: S4Vectors\n",
      "Loading required package: stats4\n",
      "Loading required package: BiocGenerics\n",
      "Loading required package: parallel\n",
      "\n",
      "Attaching package: 'BiocGenerics'\n",
      "\n",
      "The following objects are masked from 'package:parallel':\n",
      "\n",
      "    clusterApply, clusterApplyLB, clusterCall, clusterEvalQ,\n",
      "    clusterExport, clusterMap, parApply, parCapply, parLapply,\n",
      "    parLapplyLB, parRapply, parSapply, parSapplyLB\n",
      "\n",
      "The following objects are masked from 'package:dplyr':\n",
      "\n",
      "    combine, intersect, setdiff, union\n",
      "\n",
      "The following objects are masked from 'package:stats':\n",
      "\n",
      "    IQR, mad, sd, var, xtabs\n",
      "\n",
      "The following objects are masked from 'package:base':\n",
      "\n",
      "    Filter, Find, Map, Position, Reduce, anyDuplicated, append,\n",
      "    as.data.frame, basename, cbind, colnames, dirname, do.call,\n",
      "    duplicated, eval, evalq, get, grep, grepl, intersect, is.unsorted,\n",
      "    lapply, mapply, match, mget, order, paste, pmax, pmax.int, pmin,\n",
      "    pmin.int, rank, rbind, rownames, sapply, setdiff, sort, table,\n",
      "    tapply, union, unique, unsplit, which, which.max, which.min\n",
      "\n",
      "\n",
      "Attaching package: 'S4Vectors'\n",
      "\n",
      "The following objects are masked from 'package:dplyr':\n",
      "\n",
      "    first, rename\n",
      "\n",
      "The following object is masked from 'package:base':\n",
      "\n",
      "    expand.grid\n",
      "\n",
      "Loading required package: IRanges\n",
      "\n",
      "Attaching package: 'IRanges'\n",
      "\n",
      "The following objects are masked from 'package:dplyr':\n",
      "\n",
      "    collapse, desc, slice\n",
      "\n",
      "Loading required package: GenomicRanges\n",
      "Loading required package: GenomeInfoDb\n",
      "Loading required package: SummarizedExperiment\n",
      "Loading required package: Biobase\n",
      "Welcome to Bioconductor\n",
      "\n",
      "    Vignettes contain introductory material; view with\n",
      "    'browseVignettes()'. To cite Bioconductor, see\n",
      "    'citation(\"Biobase\")', and for packages 'citation(\"pkgname\")'.\n",
      "\n",
      "Loading required package: DelayedArray\n",
      "Loading required package: matrixStats\n",
      "\n",
      "Attaching package: 'matrixStats'\n",
      "\n",
      "The following objects are masked from 'package:Biobase':\n",
      "\n",
      "    anyMissing, rowMedians\n",
      "\n",
      "The following object is masked from 'package:dplyr':\n",
      "\n",
      "    count\n",
      "\n",
      "Loading required package: BiocParallel\n",
      "\n",
      "Attaching package: 'DelayedArray'\n",
      "\n",
      "The following objects are masked from 'package:matrixStats':\n",
      "\n",
      "    colMaxs, colMins, colRanges, rowMaxs, rowMins, rowRanges\n",
      "\n",
      "The following objects are masked from 'package:base':\n",
      "\n",
      "    aperm, apply, rowsum\n",
      "\n",
      "Registered S3 method overwritten by 'openssl':\n",
      "  method      from\n",
      "  print.bytes Rcpp\n",
      "\n",
      "\n",
      "Attaching package: 'tidyr'\n",
      "\n",
      "The following object is masked from 'package:S4Vectors':\n",
      "\n",
      "    expand\n",
      "\n",
      "Loading required package: viridisLite\n",
      "\n",
      "Attaching package: 'gplots'\n",
      "\n",
      "The following object is masked from 'package:IRanges':\n",
      "\n",
      "    space\n",
      "\n",
      "The following object is masked from 'package:S4Vectors':\n",
      "\n",
      "    space\n",
      "\n",
      "The following object is masked from 'package:stats':\n",
      "\n",
      "    lowess\n",
      "\n"
     ]
    }
   ],
   "source": [
    "library(ggplot2)\n",
    "library(dplyr)\n",
    "library(readr)\n",
    "library(DESeq2)\n",
    "library(DiffBind)\n",
    "library(tidyr)\n",
    "library(wesanderson)\n",
    "library(viridis)\n",
    "library(gplots)"
   ]
  },
  {
   "cell_type": "code",
   "execution_count": 2,
   "metadata": {},
   "outputs": [],
   "source": [
    "setwd(\"/ddn1/vol1/staging/leuven/stg_00041/Irene/ATAC_analysis/Allelic_ATAC/X_to_A_allelic_ratio/\")"
   ]
  },
  {
   "cell_type": "code",
   "execution_count": 3,
   "metadata": {},
   "outputs": [],
   "source": [
    "df_allelic_full <- read.delim(\"df_allelic_full.txt\")"
   ]
  },
  {
   "cell_type": "code",
   "execution_count": 4,
   "metadata": {},
   "outputs": [
    {
     "data": {
      "text/html": [
       "<table>\n",
       "<thead><tr><th scope=col>seqnames</th><th scope=col>start</th><th scope=col>end</th><th scope=col>width</th><th scope=col>strand</th><th scope=col>Day0_M</th><th scope=col>Day0_C</th><th scope=col>Day8_M</th><th scope=col>Day8_C</th><th scope=col>Day9_M</th><th scope=col>Day9_C</th><th scope=col>Day10_M</th><th scope=col>Day10_C</th><th scope=col>Day12_M</th><th scope=col>Day12_C</th><th scope=col>iPSCs_M</th><th scope=col>iPSCs_C</th></tr></thead>\n",
       "<tbody>\n",
       "\t<tr><td>1      </td><td>3046042</td><td>3046267</td><td>226    </td><td>*      </td><td>1      </td><td>1      </td><td> 1     </td><td> 1     </td><td> 7     </td><td>1      </td><td> 2     </td><td>1      </td><td>5      </td><td>1      </td><td>1      </td><td>2      </td></tr>\n",
       "\t<tr><td>1      </td><td>3046446</td><td>3046917</td><td>472    </td><td>*      </td><td>1      </td><td>1      </td><td>21     </td><td>12     </td><td>16     </td><td>9      </td><td>13     </td><td>9      </td><td>3      </td><td>4      </td><td>1      </td><td>2      </td></tr>\n",
       "\t<tr><td>1      </td><td>3215905</td><td>3216127</td><td>223    </td><td>*      </td><td>1      </td><td>3      </td><td> 2     </td><td> 1     </td><td> 1     </td><td>2      </td><td> 5     </td><td>1      </td><td>4      </td><td>2      </td><td>1      </td><td>1      </td></tr>\n",
       "\t<tr><td>1      </td><td>3250793</td><td>3251095</td><td>303    </td><td>*      </td><td>1      </td><td>1      </td><td> 1     </td><td> 1     </td><td> 1     </td><td>1      </td><td> 1     </td><td>5      </td><td>1      </td><td>3      </td><td>5      </td><td>2      </td></tr>\n",
       "\t<tr><td>1      </td><td>3251341</td><td>3251716</td><td>376    </td><td>*      </td><td>1      </td><td>1      </td><td> 3     </td><td> 1     </td><td> 2     </td><td>1      </td><td> 1     </td><td>4      </td><td>3      </td><td>1      </td><td>5      </td><td>1      </td></tr>\n",
       "\t<tr><td>1      </td><td>3285287</td><td>3285526</td><td>240    </td><td>*      </td><td>2      </td><td>2      </td><td> 1     </td><td> 6     </td><td> 1     </td><td>1      </td><td> 1     </td><td>1      </td><td>1      </td><td>1      </td><td>4      </td><td>1      </td></tr>\n",
       "</tbody>\n",
       "</table>\n"
      ],
      "text/latex": [
       "\\begin{tabular}{r|lllllllllllllllll}\n",
       " seqnames & start & end & width & strand & Day0\\_M & Day0\\_C & Day8\\_M & Day8\\_C & Day9\\_M & Day9\\_C & Day10\\_M & Day10\\_C & Day12\\_M & Day12\\_C & iPSCs\\_M & iPSCs\\_C\\\\\n",
       "\\hline\n",
       "\t 1       & 3046042 & 3046267 & 226     & *       & 1       & 1       &  1      &  1      &  7      & 1       &  2      & 1       & 5       & 1       & 1       & 2      \\\\\n",
       "\t 1       & 3046446 & 3046917 & 472     & *       & 1       & 1       & 21      & 12      & 16      & 9       & 13      & 9       & 3       & 4       & 1       & 2      \\\\\n",
       "\t 1       & 3215905 & 3216127 & 223     & *       & 1       & 3       &  2      &  1      &  1      & 2       &  5      & 1       & 4       & 2       & 1       & 1      \\\\\n",
       "\t 1       & 3250793 & 3251095 & 303     & *       & 1       & 1       &  1      &  1      &  1      & 1       &  1      & 5       & 1       & 3       & 5       & 2      \\\\\n",
       "\t 1       & 3251341 & 3251716 & 376     & *       & 1       & 1       &  3      &  1      &  2      & 1       &  1      & 4       & 3       & 1       & 5       & 1      \\\\\n",
       "\t 1       & 3285287 & 3285526 & 240     & *       & 2       & 2       &  1      &  6      &  1      & 1       &  1      & 1       & 1       & 1       & 4       & 1      \\\\\n",
       "\\end{tabular}\n"
      ],
      "text/markdown": [
       "\n",
       "| seqnames | start | end | width | strand | Day0_M | Day0_C | Day8_M | Day8_C | Day9_M | Day9_C | Day10_M | Day10_C | Day12_M | Day12_C | iPSCs_M | iPSCs_C |\n",
       "|---|---|---|---|---|---|---|---|---|---|---|---|---|---|---|---|---|\n",
       "| 1       | 3046042 | 3046267 | 226     | *       | 1       | 1       |  1      |  1      |  7      | 1       |  2      | 1       | 5       | 1       | 1       | 2       |\n",
       "| 1       | 3046446 | 3046917 | 472     | *       | 1       | 1       | 21      | 12      | 16      | 9       | 13      | 9       | 3       | 4       | 1       | 2       |\n",
       "| 1       | 3215905 | 3216127 | 223     | *       | 1       | 3       |  2      |  1      |  1      | 2       |  5      | 1       | 4       | 2       | 1       | 1       |\n",
       "| 1       | 3250793 | 3251095 | 303     | *       | 1       | 1       |  1      |  1      |  1      | 1       |  1      | 5       | 1       | 3       | 5       | 2       |\n",
       "| 1       | 3251341 | 3251716 | 376     | *       | 1       | 1       |  3      |  1      |  2      | 1       |  1      | 4       | 3       | 1       | 5       | 1       |\n",
       "| 1       | 3285287 | 3285526 | 240     | *       | 2       | 2       |  1      |  6      |  1      | 1       |  1      | 1       | 1       | 1       | 4       | 1       |\n",
       "\n"
      ],
      "text/plain": [
       "  seqnames start   end     width strand Day0_M Day0_C Day8_M Day8_C Day9_M\n",
       "1 1        3046042 3046267 226   *      1      1       1      1      7    \n",
       "2 1        3046446 3046917 472   *      1      1      21     12     16    \n",
       "3 1        3215905 3216127 223   *      1      3       2      1      1    \n",
       "4 1        3250793 3251095 303   *      1      1       1      1      1    \n",
       "5 1        3251341 3251716 376   *      1      1       3      1      2    \n",
       "6 1        3285287 3285526 240   *      2      2       1      6      1    \n",
       "  Day9_C Day10_M Day10_C Day12_M Day12_C iPSCs_M iPSCs_C\n",
       "1 1       2      1       5       1       1       2      \n",
       "2 9      13      9       3       4       1       2      \n",
       "3 2       5      1       4       2       1       1      \n",
       "4 1       1      5       1       3       5       2      \n",
       "5 1       1      4       3       1       5       1      \n",
       "6 1       1      1       1       1       4       1      "
      ]
     },
     "metadata": {},
     "output_type": "display_data"
    }
   ],
   "source": [
    "head(df_allelic_full)"
   ]
  },
  {
   "cell_type": "code",
   "execution_count": 5,
   "metadata": {},
   "outputs": [],
   "source": [
    "names(df_allelic_full)[names(df_allelic_full) == 'seqnames'] <- 'chr'"
   ]
  },
  {
   "cell_type": "code",
   "execution_count": 6,
   "metadata": {},
   "outputs": [
    {
     "data": {
      "text/html": [
       "<table>\n",
       "<thead><tr><th scope=col>chr</th><th scope=col>start</th><th scope=col>end</th><th scope=col>width</th><th scope=col>strand</th><th scope=col>Day0_M</th><th scope=col>Day0_C</th><th scope=col>Day8_M</th><th scope=col>Day8_C</th><th scope=col>Day9_M</th><th scope=col>Day9_C</th><th scope=col>Day10_M</th><th scope=col>Day10_C</th><th scope=col>Day12_M</th><th scope=col>Day12_C</th><th scope=col>iPSCs_M</th><th scope=col>iPSCs_C</th></tr></thead>\n",
       "<tbody>\n",
       "\t<tr><td>1      </td><td>3046042</td><td>3046267</td><td>226    </td><td>*      </td><td>1      </td><td>1      </td><td> 1     </td><td> 1     </td><td> 7     </td><td>1      </td><td> 2     </td><td>1      </td><td>5      </td><td>1      </td><td>1      </td><td>2      </td></tr>\n",
       "\t<tr><td>1      </td><td>3046446</td><td>3046917</td><td>472    </td><td>*      </td><td>1      </td><td>1      </td><td>21     </td><td>12     </td><td>16     </td><td>9      </td><td>13     </td><td>9      </td><td>3      </td><td>4      </td><td>1      </td><td>2      </td></tr>\n",
       "\t<tr><td>1      </td><td>3215905</td><td>3216127</td><td>223    </td><td>*      </td><td>1      </td><td>3      </td><td> 2     </td><td> 1     </td><td> 1     </td><td>2      </td><td> 5     </td><td>1      </td><td>4      </td><td>2      </td><td>1      </td><td>1      </td></tr>\n",
       "\t<tr><td>1      </td><td>3250793</td><td>3251095</td><td>303    </td><td>*      </td><td>1      </td><td>1      </td><td> 1     </td><td> 1     </td><td> 1     </td><td>1      </td><td> 1     </td><td>5      </td><td>1      </td><td>3      </td><td>5      </td><td>2      </td></tr>\n",
       "\t<tr><td>1      </td><td>3251341</td><td>3251716</td><td>376    </td><td>*      </td><td>1      </td><td>1      </td><td> 3     </td><td> 1     </td><td> 2     </td><td>1      </td><td> 1     </td><td>4      </td><td>3      </td><td>1      </td><td>5      </td><td>1      </td></tr>\n",
       "\t<tr><td>1      </td><td>3285287</td><td>3285526</td><td>240    </td><td>*      </td><td>2      </td><td>2      </td><td> 1     </td><td> 6     </td><td> 1     </td><td>1      </td><td> 1     </td><td>1      </td><td>1      </td><td>1      </td><td>4      </td><td>1      </td></tr>\n",
       "</tbody>\n",
       "</table>\n"
      ],
      "text/latex": [
       "\\begin{tabular}{r|lllllllllllllllll}\n",
       " chr & start & end & width & strand & Day0\\_M & Day0\\_C & Day8\\_M & Day8\\_C & Day9\\_M & Day9\\_C & Day10\\_M & Day10\\_C & Day12\\_M & Day12\\_C & iPSCs\\_M & iPSCs\\_C\\\\\n",
       "\\hline\n",
       "\t 1       & 3046042 & 3046267 & 226     & *       & 1       & 1       &  1      &  1      &  7      & 1       &  2      & 1       & 5       & 1       & 1       & 2      \\\\\n",
       "\t 1       & 3046446 & 3046917 & 472     & *       & 1       & 1       & 21      & 12      & 16      & 9       & 13      & 9       & 3       & 4       & 1       & 2      \\\\\n",
       "\t 1       & 3215905 & 3216127 & 223     & *       & 1       & 3       &  2      &  1      &  1      & 2       &  5      & 1       & 4       & 2       & 1       & 1      \\\\\n",
       "\t 1       & 3250793 & 3251095 & 303     & *       & 1       & 1       &  1      &  1      &  1      & 1       &  1      & 5       & 1       & 3       & 5       & 2      \\\\\n",
       "\t 1       & 3251341 & 3251716 & 376     & *       & 1       & 1       &  3      &  1      &  2      & 1       &  1      & 4       & 3       & 1       & 5       & 1      \\\\\n",
       "\t 1       & 3285287 & 3285526 & 240     & *       & 2       & 2       &  1      &  6      &  1      & 1       &  1      & 1       & 1       & 1       & 4       & 1      \\\\\n",
       "\\end{tabular}\n"
      ],
      "text/markdown": [
       "\n",
       "| chr | start | end | width | strand | Day0_M | Day0_C | Day8_M | Day8_C | Day9_M | Day9_C | Day10_M | Day10_C | Day12_M | Day12_C | iPSCs_M | iPSCs_C |\n",
       "|---|---|---|---|---|---|---|---|---|---|---|---|---|---|---|---|---|\n",
       "| 1       | 3046042 | 3046267 | 226     | *       | 1       | 1       |  1      |  1      |  7      | 1       |  2      | 1       | 5       | 1       | 1       | 2       |\n",
       "| 1       | 3046446 | 3046917 | 472     | *       | 1       | 1       | 21      | 12      | 16      | 9       | 13      | 9       | 3       | 4       | 1       | 2       |\n",
       "| 1       | 3215905 | 3216127 | 223     | *       | 1       | 3       |  2      |  1      |  1      | 2       |  5      | 1       | 4       | 2       | 1       | 1       |\n",
       "| 1       | 3250793 | 3251095 | 303     | *       | 1       | 1       |  1      |  1      |  1      | 1       |  1      | 5       | 1       | 3       | 5       | 2       |\n",
       "| 1       | 3251341 | 3251716 | 376     | *       | 1       | 1       |  3      |  1      |  2      | 1       |  1      | 4       | 3       | 1       | 5       | 1       |\n",
       "| 1       | 3285287 | 3285526 | 240     | *       | 2       | 2       |  1      |  6      |  1      | 1       |  1      | 1       | 1       | 1       | 4       | 1       |\n",
       "\n"
      ],
      "text/plain": [
       "  chr start   end     width strand Day0_M Day0_C Day8_M Day8_C Day9_M Day9_C\n",
       "1 1   3046042 3046267 226   *      1      1       1      1      7     1     \n",
       "2 1   3046446 3046917 472   *      1      1      21     12     16     9     \n",
       "3 1   3215905 3216127 223   *      1      3       2      1      1     2     \n",
       "4 1   3250793 3251095 303   *      1      1       1      1      1     1     \n",
       "5 1   3251341 3251716 376   *      1      1       3      1      2     1     \n",
       "6 1   3285287 3285526 240   *      2      2       1      6      1     1     \n",
       "  Day10_M Day10_C Day12_M Day12_C iPSCs_M iPSCs_C\n",
       "1  2      1       5       1       1       2      \n",
       "2 13      9       3       4       1       2      \n",
       "3  5      1       4       2       1       1      \n",
       "4  1      5       1       3       5       2      \n",
       "5  1      4       3       1       5       1      \n",
       "6  1      1       1       1       4       1      "
      ]
     },
     "metadata": {},
     "output_type": "display_data"
    }
   ],
   "source": [
    "head(df_allelic_full)"
   ]
  },
  {
   "cell_type": "code",
   "execution_count": 7,
   "metadata": {},
   "outputs": [],
   "source": [
    "df_allelic_full$names <- 1:nrow(df_allelic_full) "
   ]
  },
  {
   "cell_type": "code",
   "execution_count": 8,
   "metadata": {},
   "outputs": [
    {
     "data": {
      "text/html": [
       "<table>\n",
       "<thead><tr><th scope=col>chr</th><th scope=col>start</th><th scope=col>end</th><th scope=col>width</th><th scope=col>strand</th><th scope=col>Day0_M</th><th scope=col>Day0_C</th><th scope=col>Day8_M</th><th scope=col>Day8_C</th><th scope=col>Day9_M</th><th scope=col>Day9_C</th><th scope=col>Day10_M</th><th scope=col>Day10_C</th><th scope=col>Day12_M</th><th scope=col>Day12_C</th><th scope=col>iPSCs_M</th><th scope=col>iPSCs_C</th><th scope=col>names</th></tr></thead>\n",
       "<tbody>\n",
       "\t<tr><td>1      </td><td>3046042</td><td>3046267</td><td>226    </td><td>*      </td><td>1      </td><td>1      </td><td> 1     </td><td> 1     </td><td> 7     </td><td>1      </td><td> 2     </td><td>1      </td><td>5      </td><td>1      </td><td>1      </td><td>2      </td><td>1      </td></tr>\n",
       "\t<tr><td>1      </td><td>3046446</td><td>3046917</td><td>472    </td><td>*      </td><td>1      </td><td>1      </td><td>21     </td><td>12     </td><td>16     </td><td>9      </td><td>13     </td><td>9      </td><td>3      </td><td>4      </td><td>1      </td><td>2      </td><td>2      </td></tr>\n",
       "\t<tr><td>1      </td><td>3215905</td><td>3216127</td><td>223    </td><td>*      </td><td>1      </td><td>3      </td><td> 2     </td><td> 1     </td><td> 1     </td><td>2      </td><td> 5     </td><td>1      </td><td>4      </td><td>2      </td><td>1      </td><td>1      </td><td>3      </td></tr>\n",
       "\t<tr><td>1      </td><td>3250793</td><td>3251095</td><td>303    </td><td>*      </td><td>1      </td><td>1      </td><td> 1     </td><td> 1     </td><td> 1     </td><td>1      </td><td> 1     </td><td>5      </td><td>1      </td><td>3      </td><td>5      </td><td>2      </td><td>4      </td></tr>\n",
       "\t<tr><td>1      </td><td>3251341</td><td>3251716</td><td>376    </td><td>*      </td><td>1      </td><td>1      </td><td> 3     </td><td> 1     </td><td> 2     </td><td>1      </td><td> 1     </td><td>4      </td><td>3      </td><td>1      </td><td>5      </td><td>1      </td><td>5      </td></tr>\n",
       "\t<tr><td>1      </td><td>3285287</td><td>3285526</td><td>240    </td><td>*      </td><td>2      </td><td>2      </td><td> 1     </td><td> 6     </td><td> 1     </td><td>1      </td><td> 1     </td><td>1      </td><td>1      </td><td>1      </td><td>4      </td><td>1      </td><td>6      </td></tr>\n",
       "</tbody>\n",
       "</table>\n"
      ],
      "text/latex": [
       "\\begin{tabular}{r|llllllllllllllllll}\n",
       " chr & start & end & width & strand & Day0\\_M & Day0\\_C & Day8\\_M & Day8\\_C & Day9\\_M & Day9\\_C & Day10\\_M & Day10\\_C & Day12\\_M & Day12\\_C & iPSCs\\_M & iPSCs\\_C & names\\\\\n",
       "\\hline\n",
       "\t 1       & 3046042 & 3046267 & 226     & *       & 1       & 1       &  1      &  1      &  7      & 1       &  2      & 1       & 5       & 1       & 1       & 2       & 1      \\\\\n",
       "\t 1       & 3046446 & 3046917 & 472     & *       & 1       & 1       & 21      & 12      & 16      & 9       & 13      & 9       & 3       & 4       & 1       & 2       & 2      \\\\\n",
       "\t 1       & 3215905 & 3216127 & 223     & *       & 1       & 3       &  2      &  1      &  1      & 2       &  5      & 1       & 4       & 2       & 1       & 1       & 3      \\\\\n",
       "\t 1       & 3250793 & 3251095 & 303     & *       & 1       & 1       &  1      &  1      &  1      & 1       &  1      & 5       & 1       & 3       & 5       & 2       & 4      \\\\\n",
       "\t 1       & 3251341 & 3251716 & 376     & *       & 1       & 1       &  3      &  1      &  2      & 1       &  1      & 4       & 3       & 1       & 5       & 1       & 5      \\\\\n",
       "\t 1       & 3285287 & 3285526 & 240     & *       & 2       & 2       &  1      &  6      &  1      & 1       &  1      & 1       & 1       & 1       & 4       & 1       & 6      \\\\\n",
       "\\end{tabular}\n"
      ],
      "text/markdown": [
       "\n",
       "| chr | start | end | width | strand | Day0_M | Day0_C | Day8_M | Day8_C | Day9_M | Day9_C | Day10_M | Day10_C | Day12_M | Day12_C | iPSCs_M | iPSCs_C | names |\n",
       "|---|---|---|---|---|---|---|---|---|---|---|---|---|---|---|---|---|---|\n",
       "| 1       | 3046042 | 3046267 | 226     | *       | 1       | 1       |  1      |  1      |  7      | 1       |  2      | 1       | 5       | 1       | 1       | 2       | 1       |\n",
       "| 1       | 3046446 | 3046917 | 472     | *       | 1       | 1       | 21      | 12      | 16      | 9       | 13      | 9       | 3       | 4       | 1       | 2       | 2       |\n",
       "| 1       | 3215905 | 3216127 | 223     | *       | 1       | 3       |  2      |  1      |  1      | 2       |  5      | 1       | 4       | 2       | 1       | 1       | 3       |\n",
       "| 1       | 3250793 | 3251095 | 303     | *       | 1       | 1       |  1      |  1      |  1      | 1       |  1      | 5       | 1       | 3       | 5       | 2       | 4       |\n",
       "| 1       | 3251341 | 3251716 | 376     | *       | 1       | 1       |  3      |  1      |  2      | 1       |  1      | 4       | 3       | 1       | 5       | 1       | 5       |\n",
       "| 1       | 3285287 | 3285526 | 240     | *       | 2       | 2       |  1      |  6      |  1      | 1       |  1      | 1       | 1       | 1       | 4       | 1       | 6       |\n",
       "\n"
      ],
      "text/plain": [
       "  chr start   end     width strand Day0_M Day0_C Day8_M Day8_C Day9_M Day9_C\n",
       "1 1   3046042 3046267 226   *      1      1       1      1      7     1     \n",
       "2 1   3046446 3046917 472   *      1      1      21     12     16     9     \n",
       "3 1   3215905 3216127 223   *      1      3       2      1      1     2     \n",
       "4 1   3250793 3251095 303   *      1      1       1      1      1     1     \n",
       "5 1   3251341 3251716 376   *      1      1       3      1      2     1     \n",
       "6 1   3285287 3285526 240   *      2      2       1      6      1     1     \n",
       "  Day10_M Day10_C Day12_M Day12_C iPSCs_M iPSCs_C names\n",
       "1  2      1       5       1       1       2       1    \n",
       "2 13      9       3       4       1       2       2    \n",
       "3  5      1       4       2       1       1       3    \n",
       "4  1      5       1       3       5       2       4    \n",
       "5  1      4       3       1       5       1       5    \n",
       "6  1      1       1       1       4       1       6    "
      ]
     },
     "metadata": {},
     "output_type": "display_data"
    }
   ],
   "source": [
    "head(df_allelic_full)"
   ]
  },
  {
   "cell_type": "code",
   "execution_count": 9,
   "metadata": {},
   "outputs": [],
   "source": [
    "variables <- c(\"chr\", \"names\", \"Day0_M\", \"Day8_M\", \"Day9_M\", \"Day10_M\", \"Day12_M\", \"iPSCs_M\", \"Day0_C\", \"Day8_C\", \"Day9_C\", \"Day10_C\", \"Day12_C\", \"iPSCs_C\")"
   ]
  },
  {
   "cell_type": "code",
   "execution_count": 10,
   "metadata": {},
   "outputs": [],
   "source": [
    "df_allelic_full <- df_allelic_full[variables]"
   ]
  },
  {
   "cell_type": "code",
   "execution_count": 11,
   "metadata": {},
   "outputs": [
    {
     "data": {
      "text/html": [
       "<table>\n",
       "<thead><tr><th scope=col>chr</th><th scope=col>names</th><th scope=col>Day0_M</th><th scope=col>Day8_M</th><th scope=col>Day9_M</th><th scope=col>Day10_M</th><th scope=col>Day12_M</th><th scope=col>iPSCs_M</th><th scope=col>Day0_C</th><th scope=col>Day8_C</th><th scope=col>Day9_C</th><th scope=col>Day10_C</th><th scope=col>Day12_C</th><th scope=col>iPSCs_C</th></tr></thead>\n",
       "<tbody>\n",
       "\t<tr><td>1 </td><td>1 </td><td>1 </td><td> 1</td><td> 7</td><td> 2</td><td>5 </td><td>1 </td><td>1 </td><td> 1</td><td>1 </td><td>1 </td><td>1 </td><td>2 </td></tr>\n",
       "\t<tr><td>1 </td><td>2 </td><td>1 </td><td>21</td><td>16</td><td>13</td><td>3 </td><td>1 </td><td>1 </td><td>12</td><td>9 </td><td>9 </td><td>4 </td><td>2 </td></tr>\n",
       "\t<tr><td>1 </td><td>3 </td><td>1 </td><td> 2</td><td> 1</td><td> 5</td><td>4 </td><td>1 </td><td>3 </td><td> 1</td><td>2 </td><td>1 </td><td>2 </td><td>1 </td></tr>\n",
       "\t<tr><td>1 </td><td>4 </td><td>1 </td><td> 1</td><td> 1</td><td> 1</td><td>1 </td><td>5 </td><td>1 </td><td> 1</td><td>1 </td><td>5 </td><td>3 </td><td>2 </td></tr>\n",
       "\t<tr><td>1 </td><td>5 </td><td>1 </td><td> 3</td><td> 2</td><td> 1</td><td>3 </td><td>5 </td><td>1 </td><td> 1</td><td>1 </td><td>4 </td><td>1 </td><td>1 </td></tr>\n",
       "\t<tr><td>1 </td><td>6 </td><td>2 </td><td> 1</td><td> 1</td><td> 1</td><td>1 </td><td>4 </td><td>2 </td><td> 6</td><td>1 </td><td>1 </td><td>1 </td><td>1 </td></tr>\n",
       "</tbody>\n",
       "</table>\n"
      ],
      "text/latex": [
       "\\begin{tabular}{r|llllllllllllll}\n",
       " chr & names & Day0\\_M & Day8\\_M & Day9\\_M & Day10\\_M & Day12\\_M & iPSCs\\_M & Day0\\_C & Day8\\_C & Day9\\_C & Day10\\_C & Day12\\_C & iPSCs\\_C\\\\\n",
       "\\hline\n",
       "\t 1  & 1  & 1  &  1 &  7 &  2 & 5  & 1  & 1  &  1 & 1  & 1  & 1  & 2 \\\\\n",
       "\t 1  & 2  & 1  & 21 & 16 & 13 & 3  & 1  & 1  & 12 & 9  & 9  & 4  & 2 \\\\\n",
       "\t 1  & 3  & 1  &  2 &  1 &  5 & 4  & 1  & 3  &  1 & 2  & 1  & 2  & 1 \\\\\n",
       "\t 1  & 4  & 1  &  1 &  1 &  1 & 1  & 5  & 1  &  1 & 1  & 5  & 3  & 2 \\\\\n",
       "\t 1  & 5  & 1  &  3 &  2 &  1 & 3  & 5  & 1  &  1 & 1  & 4  & 1  & 1 \\\\\n",
       "\t 1  & 6  & 2  &  1 &  1 &  1 & 1  & 4  & 2  &  6 & 1  & 1  & 1  & 1 \\\\\n",
       "\\end{tabular}\n"
      ],
      "text/markdown": [
       "\n",
       "| chr | names | Day0_M | Day8_M | Day9_M | Day10_M | Day12_M | iPSCs_M | Day0_C | Day8_C | Day9_C | Day10_C | Day12_C | iPSCs_C |\n",
       "|---|---|---|---|---|---|---|---|---|---|---|---|---|---|\n",
       "| 1  | 1  | 1  |  1 |  7 |  2 | 5  | 1  | 1  |  1 | 1  | 1  | 1  | 2  |\n",
       "| 1  | 2  | 1  | 21 | 16 | 13 | 3  | 1  | 1  | 12 | 9  | 9  | 4  | 2  |\n",
       "| 1  | 3  | 1  |  2 |  1 |  5 | 4  | 1  | 3  |  1 | 2  | 1  | 2  | 1  |\n",
       "| 1  | 4  | 1  |  1 |  1 |  1 | 1  | 5  | 1  |  1 | 1  | 5  | 3  | 2  |\n",
       "| 1  | 5  | 1  |  3 |  2 |  1 | 3  | 5  | 1  |  1 | 1  | 4  | 1  | 1  |\n",
       "| 1  | 6  | 2  |  1 |  1 |  1 | 1  | 4  | 2  |  6 | 1  | 1  | 1  | 1  |\n",
       "\n"
      ],
      "text/plain": [
       "  chr names Day0_M Day8_M Day9_M Day10_M Day12_M iPSCs_M Day0_C Day8_C Day9_C\n",
       "1 1   1     1       1      7      2      5       1       1       1     1     \n",
       "2 1   2     1      21     16     13      3       1       1      12     9     \n",
       "3 1   3     1       2      1      5      4       1       3       1     2     \n",
       "4 1   4     1       1      1      1      1       5       1       1     1     \n",
       "5 1   5     1       3      2      1      3       5       1       1     1     \n",
       "6 1   6     2       1      1      1      1       4       2       6     1     \n",
       "  Day10_C Day12_C iPSCs_C\n",
       "1 1       1       2      \n",
       "2 9       4       2      \n",
       "3 1       2       1      \n",
       "4 5       3       2      \n",
       "5 4       1       1      \n",
       "6 1       1       1      "
      ]
     },
     "metadata": {},
     "output_type": "display_data"
    }
   ],
   "source": [
    "head(df_allelic_full)"
   ]
  },
  {
   "cell_type": "code",
   "execution_count": 12,
   "metadata": {},
   "outputs": [
    {
     "data": {
      "text/html": [
       "408372"
      ],
      "text/latex": [
       "408372"
      ],
      "text/markdown": [
       "408372"
      ],
      "text/plain": [
       "[1] 408372"
      ]
     },
     "metadata": {},
     "output_type": "display_data"
    }
   ],
   "source": [
    "nrow(df_allelic_full)"
   ]
  },
  {
   "cell_type": "code",
   "execution_count": 13,
   "metadata": {},
   "outputs": [],
   "source": [
    "df_allelic_full_gathered <- gather(df_allelic_full, sample_allele, count, -chr, -names)"
   ]
  },
  {
   "cell_type": "code",
   "execution_count": 14,
   "metadata": {},
   "outputs": [],
   "source": [
    "df_allelic_full_gathered <- separate(data = df_allelic_full_gathered, col = sample_allele, into = c(\"sample\", \"allele\"), sep = \"_\")"
   ]
  },
  {
   "cell_type": "code",
   "execution_count": 15,
   "metadata": {},
   "outputs": [
    {
     "data": {
      "text/html": [
       "<table>\n",
       "<thead><tr><th scope=col>chr</th><th scope=col>names</th><th scope=col>sample</th><th scope=col>allele</th><th scope=col>count</th></tr></thead>\n",
       "<tbody>\n",
       "\t<tr><td>1   </td><td>1   </td><td>Day0</td><td>M   </td><td>1   </td></tr>\n",
       "\t<tr><td>1   </td><td>2   </td><td>Day0</td><td>M   </td><td>1   </td></tr>\n",
       "\t<tr><td>1   </td><td>3   </td><td>Day0</td><td>M   </td><td>1   </td></tr>\n",
       "\t<tr><td>1   </td><td>4   </td><td>Day0</td><td>M   </td><td>1   </td></tr>\n",
       "\t<tr><td>1   </td><td>5   </td><td>Day0</td><td>M   </td><td>1   </td></tr>\n",
       "\t<tr><td>1   </td><td>6   </td><td>Day0</td><td>M   </td><td>2   </td></tr>\n",
       "</tbody>\n",
       "</table>\n"
      ],
      "text/latex": [
       "\\begin{tabular}{r|lllll}\n",
       " chr & names & sample & allele & count\\\\\n",
       "\\hline\n",
       "\t 1    & 1    & Day0 & M    & 1   \\\\\n",
       "\t 1    & 2    & Day0 & M    & 1   \\\\\n",
       "\t 1    & 3    & Day0 & M    & 1   \\\\\n",
       "\t 1    & 4    & Day0 & M    & 1   \\\\\n",
       "\t 1    & 5    & Day0 & M    & 1   \\\\\n",
       "\t 1    & 6    & Day0 & M    & 2   \\\\\n",
       "\\end{tabular}\n"
      ],
      "text/markdown": [
       "\n",
       "| chr | names | sample | allele | count |\n",
       "|---|---|---|---|---|\n",
       "| 1    | 1    | Day0 | M    | 1    |\n",
       "| 1    | 2    | Day0 | M    | 1    |\n",
       "| 1    | 3    | Day0 | M    | 1    |\n",
       "| 1    | 4    | Day0 | M    | 1    |\n",
       "| 1    | 5    | Day0 | M    | 1    |\n",
       "| 1    | 6    | Day0 | M    | 2    |\n",
       "\n"
      ],
      "text/plain": [
       "  chr names sample allele count\n",
       "1 1   1     Day0   M      1    \n",
       "2 1   2     Day0   M      1    \n",
       "3 1   3     Day0   M      1    \n",
       "4 1   4     Day0   M      1    \n",
       "5 1   5     Day0   M      1    \n",
       "6 1   6     Day0   M      2    "
      ]
     },
     "metadata": {},
     "output_type": "display_data"
    }
   ],
   "source": [
    "head(df_allelic_full_gathered)"
   ]
  },
  {
   "cell_type": "code",
   "execution_count": 16,
   "metadata": {},
   "outputs": [],
   "source": [
    "df_allelic_full_gathered <- spread(df_allelic_full_gathered, allele, count)"
   ]
  },
  {
   "cell_type": "code",
   "execution_count": 17,
   "metadata": {},
   "outputs": [
    {
     "data": {
      "text/html": [
       "<table>\n",
       "<thead><tr><th scope=col>chr</th><th scope=col>names</th><th scope=col>sample</th><th scope=col>C</th><th scope=col>M</th></tr></thead>\n",
       "<tbody>\n",
       "\t<tr><td>1    </td><td>1    </td><td>Day0 </td><td>1    </td><td>1    </td></tr>\n",
       "\t<tr><td>1    </td><td>1    </td><td>Day10</td><td>1    </td><td>2    </td></tr>\n",
       "\t<tr><td>1    </td><td>1    </td><td>Day12</td><td>1    </td><td>5    </td></tr>\n",
       "\t<tr><td>1    </td><td>1    </td><td>Day8 </td><td>1    </td><td>1    </td></tr>\n",
       "\t<tr><td>1    </td><td>1    </td><td>Day9 </td><td>1    </td><td>7    </td></tr>\n",
       "\t<tr><td>1    </td><td>1    </td><td>iPSCs</td><td>2    </td><td>1    </td></tr>\n",
       "</tbody>\n",
       "</table>\n"
      ],
      "text/latex": [
       "\\begin{tabular}{r|lllll}\n",
       " chr & names & sample & C & M\\\\\n",
       "\\hline\n",
       "\t 1     & 1     & Day0  & 1     & 1    \\\\\n",
       "\t 1     & 1     & Day10 & 1     & 2    \\\\\n",
       "\t 1     & 1     & Day12 & 1     & 5    \\\\\n",
       "\t 1     & 1     & Day8  & 1     & 1    \\\\\n",
       "\t 1     & 1     & Day9  & 1     & 7    \\\\\n",
       "\t 1     & 1     & iPSCs & 2     & 1    \\\\\n",
       "\\end{tabular}\n"
      ],
      "text/markdown": [
       "\n",
       "| chr | names | sample | C | M |\n",
       "|---|---|---|---|---|\n",
       "| 1     | 1     | Day0  | 1     | 1     |\n",
       "| 1     | 1     | Day10 | 1     | 2     |\n",
       "| 1     | 1     | Day12 | 1     | 5     |\n",
       "| 1     | 1     | Day8  | 1     | 1     |\n",
       "| 1     | 1     | Day9  | 1     | 7     |\n",
       "| 1     | 1     | iPSCs | 2     | 1     |\n",
       "\n"
      ],
      "text/plain": [
       "  chr names sample C M\n",
       "1 1   1     Day0   1 1\n",
       "2 1   1     Day10  1 2\n",
       "3 1   1     Day12  1 5\n",
       "4 1   1     Day8   1 1\n",
       "5 1   1     Day9   1 7\n",
       "6 1   1     iPSCs  2 1"
      ]
     },
     "metadata": {},
     "output_type": "display_data"
    }
   ],
   "source": [
    "head(df_allelic_full_gathered)"
   ]
  },
  {
   "cell_type": "code",
   "execution_count": 18,
   "metadata": {},
   "outputs": [],
   "source": [
    "df_allelic_full_gathered$sample <- factor(df_allelic_full_gathered$sample, levels=c('Day0', 'Day8', 'Day9', 'Day10', 'Day12', 'iPSCs'))"
   ]
  },
  {
   "cell_type": "code",
   "execution_count": 19,
   "metadata": {},
   "outputs": [],
   "source": [
    "df_allelic_full_gathered <- df_allelic_full_gathered %>% arrange(chr, names, sample)"
   ]
  },
  {
   "cell_type": "code",
   "execution_count": 20,
   "metadata": {},
   "outputs": [
    {
     "data": {
      "text/html": [
       "<table>\n",
       "<thead><tr><th scope=col>chr</th><th scope=col>names</th><th scope=col>sample</th><th scope=col>C</th><th scope=col>M</th></tr></thead>\n",
       "<tbody>\n",
       "\t<tr><td>1    </td><td>1    </td><td>Day0 </td><td>1    </td><td>1    </td></tr>\n",
       "\t<tr><td>1    </td><td>1    </td><td>Day8 </td><td>1    </td><td>1    </td></tr>\n",
       "\t<tr><td>1    </td><td>1    </td><td>Day9 </td><td>1    </td><td>7    </td></tr>\n",
       "\t<tr><td>1    </td><td>1    </td><td>Day10</td><td>1    </td><td>2    </td></tr>\n",
       "\t<tr><td>1    </td><td>1    </td><td>Day12</td><td>1    </td><td>5    </td></tr>\n",
       "\t<tr><td>1    </td><td>1    </td><td>iPSCs</td><td>2    </td><td>1    </td></tr>\n",
       "</tbody>\n",
       "</table>\n"
      ],
      "text/latex": [
       "\\begin{tabular}{r|lllll}\n",
       " chr & names & sample & C & M\\\\\n",
       "\\hline\n",
       "\t 1     & 1     & Day0  & 1     & 1    \\\\\n",
       "\t 1     & 1     & Day8  & 1     & 1    \\\\\n",
       "\t 1     & 1     & Day9  & 1     & 7    \\\\\n",
       "\t 1     & 1     & Day10 & 1     & 2    \\\\\n",
       "\t 1     & 1     & Day12 & 1     & 5    \\\\\n",
       "\t 1     & 1     & iPSCs & 2     & 1    \\\\\n",
       "\\end{tabular}\n"
      ],
      "text/markdown": [
       "\n",
       "| chr | names | sample | C | M |\n",
       "|---|---|---|---|---|\n",
       "| 1     | 1     | Day0  | 1     | 1     |\n",
       "| 1     | 1     | Day8  | 1     | 1     |\n",
       "| 1     | 1     | Day9  | 1     | 7     |\n",
       "| 1     | 1     | Day10 | 1     | 2     |\n",
       "| 1     | 1     | Day12 | 1     | 5     |\n",
       "| 1     | 1     | iPSCs | 2     | 1     |\n",
       "\n"
      ],
      "text/plain": [
       "  chr names sample C M\n",
       "1 1   1     Day0   1 1\n",
       "2 1   1     Day8   1 1\n",
       "3 1   1     Day9   1 7\n",
       "4 1   1     Day10  1 2\n",
       "5 1   1     Day12  1 5\n",
       "6 1   1     iPSCs  2 1"
      ]
     },
     "metadata": {},
     "output_type": "display_data"
    }
   ],
   "source": [
    "head(df_allelic_full_gathered)"
   ]
  },
  {
   "cell_type": "code",
   "execution_count": 21,
   "metadata": {},
   "outputs": [],
   "source": [
    "df_allelic_full_gathered$sumR <- df_allelic_full_gathered$C + df_allelic_full_gathered$M"
   ]
  },
  {
   "cell_type": "code",
   "execution_count": 22,
   "metadata": {},
   "outputs": [
    {
     "data": {
      "text/html": [
       "<table>\n",
       "<thead><tr><th scope=col>chr</th><th scope=col>names</th><th scope=col>sample</th><th scope=col>C</th><th scope=col>M</th><th scope=col>sumR</th></tr></thead>\n",
       "<tbody>\n",
       "\t<tr><td>1    </td><td>1    </td><td>Day0 </td><td>1    </td><td>1    </td><td>2    </td></tr>\n",
       "\t<tr><td>1    </td><td>1    </td><td>Day8 </td><td>1    </td><td>1    </td><td>2    </td></tr>\n",
       "\t<tr><td>1    </td><td>1    </td><td>Day9 </td><td>1    </td><td>7    </td><td>8    </td></tr>\n",
       "\t<tr><td>1    </td><td>1    </td><td>Day10</td><td>1    </td><td>2    </td><td>3    </td></tr>\n",
       "\t<tr><td>1    </td><td>1    </td><td>Day12</td><td>1    </td><td>5    </td><td>6    </td></tr>\n",
       "\t<tr><td>1    </td><td>1    </td><td>iPSCs</td><td>2    </td><td>1    </td><td>3    </td></tr>\n",
       "</tbody>\n",
       "</table>\n"
      ],
      "text/latex": [
       "\\begin{tabular}{r|llllll}\n",
       " chr & names & sample & C & M & sumR\\\\\n",
       "\\hline\n",
       "\t 1     & 1     & Day0  & 1     & 1     & 2    \\\\\n",
       "\t 1     & 1     & Day8  & 1     & 1     & 2    \\\\\n",
       "\t 1     & 1     & Day9  & 1     & 7     & 8    \\\\\n",
       "\t 1     & 1     & Day10 & 1     & 2     & 3    \\\\\n",
       "\t 1     & 1     & Day12 & 1     & 5     & 6    \\\\\n",
       "\t 1     & 1     & iPSCs & 2     & 1     & 3    \\\\\n",
       "\\end{tabular}\n"
      ],
      "text/markdown": [
       "\n",
       "| chr | names | sample | C | M | sumR |\n",
       "|---|---|---|---|---|---|\n",
       "| 1     | 1     | Day0  | 1     | 1     | 2     |\n",
       "| 1     | 1     | Day8  | 1     | 1     | 2     |\n",
       "| 1     | 1     | Day9  | 1     | 7     | 8     |\n",
       "| 1     | 1     | Day10 | 1     | 2     | 3     |\n",
       "| 1     | 1     | Day12 | 1     | 5     | 6     |\n",
       "| 1     | 1     | iPSCs | 2     | 1     | 3     |\n",
       "\n"
      ],
      "text/plain": [
       "  chr names sample C M sumR\n",
       "1 1   1     Day0   1 1 2   \n",
       "2 1   1     Day8   1 1 2   \n",
       "3 1   1     Day9   1 7 8   \n",
       "4 1   1     Day10  1 2 3   \n",
       "5 1   1     Day12  1 5 6   \n",
       "6 1   1     iPSCs  2 1 3   "
      ]
     },
     "metadata": {},
     "output_type": "display_data"
    }
   ],
   "source": [
    "head(df_allelic_full_gathered)"
   ]
  },
  {
   "cell_type": "code",
   "execution_count": 23,
   "metadata": {},
   "outputs": [
    {
     "data": {
      "text/html": [
       "2450232"
      ],
      "text/latex": [
       "2450232"
      ],
      "text/markdown": [
       "2450232"
      ],
      "text/plain": [
       "[1] 2450232"
      ]
     },
     "metadata": {},
     "output_type": "display_data"
    }
   ],
   "source": [
    "nrow(df_allelic_full_gathered)"
   ]
  },
  {
   "cell_type": "code",
   "execution_count": 24,
   "metadata": {},
   "outputs": [],
   "source": [
    "count_samples <- df_allelic_full_gathered %>% group_by(sample) %>% summarise(total_reads = sum(sumR))\n",
    "df_allelic_full_gathered <- merge(df_allelic_full_gathered, count_samples, by = \"sample\")"
   ]
  },
  {
   "cell_type": "code",
   "execution_count": 25,
   "metadata": {},
   "outputs": [
    {
     "data": {
      "text/html": [
       "<table>\n",
       "<thead><tr><th scope=col>sample</th><th scope=col>chr</th><th scope=col>names</th><th scope=col>C</th><th scope=col>M</th><th scope=col>sumR</th><th scope=col>total_reads</th></tr></thead>\n",
       "<tbody>\n",
       "\t<tr><td>Day0    </td><td>1       </td><td>     1  </td><td> 1      </td><td> 1      </td><td>  2     </td><td>11348313</td></tr>\n",
       "\t<tr><td>Day0    </td><td>17      </td><td>177148  </td><td> 1      </td><td> 1      </td><td>  2     </td><td>11348313</td></tr>\n",
       "\t<tr><td>Day0    </td><td>10      </td><td> 44288  </td><td>23      </td><td>21      </td><td> 44     </td><td>11348313</td></tr>\n",
       "\t<tr><td>Day0    </td><td>9       </td><td>398582  </td><td> 1      </td><td> 6      </td><td>  7     </td><td>11348313</td></tr>\n",
       "\t<tr><td>Day0    </td><td>4       </td><td>265722  </td><td>63      </td><td>45      </td><td>108     </td><td>11348313</td></tr>\n",
       "\t<tr><td>Day0    </td><td>14      </td><td>132862  </td><td> 5      </td><td> 1      </td><td>  6     </td><td>11348313</td></tr>\n",
       "</tbody>\n",
       "</table>\n"
      ],
      "text/latex": [
       "\\begin{tabular}{r|lllllll}\n",
       " sample & chr & names & C & M & sumR & total\\_reads\\\\\n",
       "\\hline\n",
       "\t Day0     & 1        &      1   &  1       &  1       &   2      & 11348313\\\\\n",
       "\t Day0     & 17       & 177148   &  1       &  1       &   2      & 11348313\\\\\n",
       "\t Day0     & 10       &  44288   & 23       & 21       &  44      & 11348313\\\\\n",
       "\t Day0     & 9        & 398582   &  1       &  6       &   7      & 11348313\\\\\n",
       "\t Day0     & 4        & 265722   & 63       & 45       & 108      & 11348313\\\\\n",
       "\t Day0     & 14       & 132862   &  5       &  1       &   6      & 11348313\\\\\n",
       "\\end{tabular}\n"
      ],
      "text/markdown": [
       "\n",
       "| sample | chr | names | C | M | sumR | total_reads |\n",
       "|---|---|---|---|---|---|---|\n",
       "| Day0     | 1        |      1   |  1       |  1       |   2      | 11348313 |\n",
       "| Day0     | 17       | 177148   |  1       |  1       |   2      | 11348313 |\n",
       "| Day0     | 10       |  44288   | 23       | 21       |  44      | 11348313 |\n",
       "| Day0     | 9        | 398582   |  1       |  6       |   7      | 11348313 |\n",
       "| Day0     | 4        | 265722   | 63       | 45       | 108      | 11348313 |\n",
       "| Day0     | 14       | 132862   |  5       |  1       |   6      | 11348313 |\n",
       "\n"
      ],
      "text/plain": [
       "  sample chr names  C  M  sumR total_reads\n",
       "1 Day0   1        1  1  1   2  11348313   \n",
       "2 Day0   17  177148  1  1   2  11348313   \n",
       "3 Day0   10   44288 23 21  44  11348313   \n",
       "4 Day0   9   398582  1  6   7  11348313   \n",
       "5 Day0   4   265722 63 45 108  11348313   \n",
       "6 Day0   14  132862  5  1   6  11348313   "
      ]
     },
     "metadata": {},
     "output_type": "display_data"
    }
   ],
   "source": [
    "head(df_allelic_full_gathered)"
   ]
  },
  {
   "cell_type": "code",
   "execution_count": 26,
   "metadata": {},
   "outputs": [],
   "source": [
    "df_allelic_full_gathered$mus_norm <- log1p((df_allelic_full_gathered$M/df_allelic_full_gathered$total_reads)*10000)\n",
    "df_allelic_full_gathered$cast_norm <- log1p((df_allelic_full_gathered$C/df_allelic_full_gathered$total_reads)*10000)"
   ]
  },
  {
   "cell_type": "code",
   "execution_count": 27,
   "metadata": {},
   "outputs": [
    {
     "data": {
      "text/html": [
       "<table>\n",
       "<thead><tr><th scope=col>sample</th><th scope=col>chr</th><th scope=col>names</th><th scope=col>C</th><th scope=col>M</th><th scope=col>sumR</th><th scope=col>total_reads</th><th scope=col>mus_norm</th><th scope=col>cast_norm</th></tr></thead>\n",
       "<tbody>\n",
       "\t<tr><td>Day0        </td><td>1           </td><td>     1      </td><td> 1          </td><td> 1          </td><td>  2         </td><td>11348313    </td><td>0.0008808002</td><td>0.0008808002</td></tr>\n",
       "\t<tr><td>Day0        </td><td>17          </td><td>177148      </td><td> 1          </td><td> 1          </td><td>  2         </td><td>11348313    </td><td>0.0008808002</td><td>0.0008808002</td></tr>\n",
       "\t<tr><td>Day0        </td><td>10          </td><td> 44288      </td><td>23          </td><td>21          </td><td> 44         </td><td>11348313    </td><td>0.0183358198</td><td>0.0200646808</td></tr>\n",
       "\t<tr><td>Day0        </td><td>9           </td><td>398582      </td><td> 1          </td><td> 6          </td><td>  7         </td><td>11348313    </td><td>0.0052732017</td><td>0.0008808002</td></tr>\n",
       "\t<tr><td>Day0        </td><td>4           </td><td>265722      </td><td>63          </td><td>45          </td><td>108         </td><td>11348313    </td><td>0.0388874566</td><td>0.0540286662</td></tr>\n",
       "\t<tr><td>Day0        </td><td>14          </td><td>132862      </td><td> 5          </td><td> 1          </td><td>  6         </td><td>11348313    </td><td>0.0008808002</td><td>0.0043962635</td></tr>\n",
       "</tbody>\n",
       "</table>\n"
      ],
      "text/latex": [
       "\\begin{tabular}{r|lllllllll}\n",
       " sample & chr & names & C & M & sumR & total\\_reads & mus\\_norm & cast\\_norm\\\\\n",
       "\\hline\n",
       "\t Day0         & 1            &      1       &  1           &  1           &   2          & 11348313     & 0.0008808002 & 0.0008808002\\\\\n",
       "\t Day0         & 17           & 177148       &  1           &  1           &   2          & 11348313     & 0.0008808002 & 0.0008808002\\\\\n",
       "\t Day0         & 10           &  44288       & 23           & 21           &  44          & 11348313     & 0.0183358198 & 0.0200646808\\\\\n",
       "\t Day0         & 9            & 398582       &  1           &  6           &   7          & 11348313     & 0.0052732017 & 0.0008808002\\\\\n",
       "\t Day0         & 4            & 265722       & 63           & 45           & 108          & 11348313     & 0.0388874566 & 0.0540286662\\\\\n",
       "\t Day0         & 14           & 132862       &  5           &  1           &   6          & 11348313     & 0.0008808002 & 0.0043962635\\\\\n",
       "\\end{tabular}\n"
      ],
      "text/markdown": [
       "\n",
       "| sample | chr | names | C | M | sumR | total_reads | mus_norm | cast_norm |\n",
       "|---|---|---|---|---|---|---|---|---|\n",
       "| Day0         | 1            |      1       |  1           |  1           |   2          | 11348313     | 0.0008808002 | 0.0008808002 |\n",
       "| Day0         | 17           | 177148       |  1           |  1           |   2          | 11348313     | 0.0008808002 | 0.0008808002 |\n",
       "| Day0         | 10           |  44288       | 23           | 21           |  44          | 11348313     | 0.0183358198 | 0.0200646808 |\n",
       "| Day0         | 9            | 398582       |  1           |  6           |   7          | 11348313     | 0.0052732017 | 0.0008808002 |\n",
       "| Day0         | 4            | 265722       | 63           | 45           | 108          | 11348313     | 0.0388874566 | 0.0540286662 |\n",
       "| Day0         | 14           | 132862       |  5           |  1           |   6          | 11348313     | 0.0008808002 | 0.0043962635 |\n",
       "\n"
      ],
      "text/plain": [
       "  sample chr names  C  M  sumR total_reads mus_norm     cast_norm   \n",
       "1 Day0   1        1  1  1   2  11348313    0.0008808002 0.0008808002\n",
       "2 Day0   17  177148  1  1   2  11348313    0.0008808002 0.0008808002\n",
       "3 Day0   10   44288 23 21  44  11348313    0.0183358198 0.0200646808\n",
       "4 Day0   9   398582  1  6   7  11348313    0.0052732017 0.0008808002\n",
       "5 Day0   4   265722 63 45 108  11348313    0.0388874566 0.0540286662\n",
       "6 Day0   14  132862  5  1   6  11348313    0.0008808002 0.0043962635"
      ]
     },
     "metadata": {},
     "output_type": "display_data"
    }
   ],
   "source": [
    "head(df_allelic_full_gathered)"
   ]
  },
  {
   "cell_type": "markdown",
   "metadata": {},
   "source": [
    "Filter for all autosomes and the X chromosome plus equal to or more than 10 reads between cast and mus alleles."
   ]
  },
  {
   "cell_type": "code",
   "execution_count": 28,
   "metadata": {},
   "outputs": [],
   "source": [
    "allchr_10reads <- df_allelic_full_gathered[ which( df_allelic_full_gathered$chr!= \"Y\" & df_allelic_full_gathered$chr!= \"MT\" & df_allelic_full_gathered$sumR >= 10),]"
   ]
  },
  {
   "cell_type": "code",
   "execution_count": 29,
   "metadata": {},
   "outputs": [
    {
     "data": {
      "text/html": [
       "<table>\n",
       "<thead><tr><th></th><th scope=col>sample</th><th scope=col>chr</th><th scope=col>names</th><th scope=col>C</th><th scope=col>M</th><th scope=col>sumR</th><th scope=col>total_reads</th><th scope=col>mus_norm</th><th scope=col>cast_norm</th></tr></thead>\n",
       "<tbody>\n",
       "\t<tr><th scope=row>3</th><td>Day0       </td><td>10         </td><td> 44288     </td><td>23         </td><td>21         </td><td> 44        </td><td>11348313   </td><td>0.018335820</td><td>0.020064681</td></tr>\n",
       "\t<tr><th scope=row>5</th><td>Day0       </td><td>4          </td><td>265722     </td><td>63         </td><td>45         </td><td>108        </td><td>11348313   </td><td>0.038887457</td><td>0.054028666</td></tr>\n",
       "\t<tr><th scope=row>10</th><td>Day0       </td><td>9          </td><td>398583     </td><td> 2         </td><td> 8         </td><td> 10        </td><td>11348313   </td><td>0.007024774</td><td>0.001760825</td></tr>\n",
       "\t<tr><th scope=row>11</th><td>Day0       </td><td>4          </td><td>265723     </td><td>39         </td><td>24         </td><td> 63        </td><td>11348313   </td><td>0.020927992</td><td>0.033789009</td></tr>\n",
       "\t<tr><th scope=row>16</th><td>Day0       </td><td>9          </td><td>398584     </td><td>61         </td><td>67         </td><td>128        </td><td>11348313   </td><td>0.057362471</td><td>0.052357587</td></tr>\n",
       "\t<tr><th scope=row>22</th><td>Day0       </td><td>9          </td><td>398585     </td><td>74         </td><td>36         </td><td>110        </td><td>11348313   </td><td>0.031230004</td><td>0.063170020</td></tr>\n",
       "</tbody>\n",
       "</table>\n"
      ],
      "text/latex": [
       "\\begin{tabular}{r|lllllllll}\n",
       "  & sample & chr & names & C & M & sumR & total\\_reads & mus\\_norm & cast\\_norm\\\\\n",
       "\\hline\n",
       "\t3 & Day0        & 10          &  44288      & 23          & 21          &  44         & 11348313    & 0.018335820 & 0.020064681\\\\\n",
       "\t5 & Day0        & 4           & 265722      & 63          & 45          & 108         & 11348313    & 0.038887457 & 0.054028666\\\\\n",
       "\t10 & Day0        & 9           & 398583      &  2          &  8          &  10         & 11348313    & 0.007024774 & 0.001760825\\\\\n",
       "\t11 & Day0        & 4           & 265723      & 39          & 24          &  63         & 11348313    & 0.020927992 & 0.033789009\\\\\n",
       "\t16 & Day0        & 9           & 398584      & 61          & 67          & 128         & 11348313    & 0.057362471 & 0.052357587\\\\\n",
       "\t22 & Day0        & 9           & 398585      & 74          & 36          & 110         & 11348313    & 0.031230004 & 0.063170020\\\\\n",
       "\\end{tabular}\n"
      ],
      "text/markdown": [
       "\n",
       "| <!--/--> | sample | chr | names | C | M | sumR | total_reads | mus_norm | cast_norm |\n",
       "|---|---|---|---|---|---|---|---|---|---|\n",
       "| 3 | Day0        | 10          |  44288      | 23          | 21          |  44         | 11348313    | 0.018335820 | 0.020064681 |\n",
       "| 5 | Day0        | 4           | 265722      | 63          | 45          | 108         | 11348313    | 0.038887457 | 0.054028666 |\n",
       "| 10 | Day0        | 9           | 398583      |  2          |  8          |  10         | 11348313    | 0.007024774 | 0.001760825 |\n",
       "| 11 | Day0        | 4           | 265723      | 39          | 24          |  63         | 11348313    | 0.020927992 | 0.033789009 |\n",
       "| 16 | Day0        | 9           | 398584      | 61          | 67          | 128         | 11348313    | 0.057362471 | 0.052357587 |\n",
       "| 22 | Day0        | 9           | 398585      | 74          | 36          | 110         | 11348313    | 0.031230004 | 0.063170020 |\n",
       "\n"
      ],
      "text/plain": [
       "   sample chr names  C  M  sumR total_reads mus_norm    cast_norm  \n",
       "3  Day0   10   44288 23 21  44  11348313    0.018335820 0.020064681\n",
       "5  Day0   4   265722 63 45 108  11348313    0.038887457 0.054028666\n",
       "10 Day0   9   398583  2  8  10  11348313    0.007024774 0.001760825\n",
       "11 Day0   4   265723 39 24  63  11348313    0.020927992 0.033789009\n",
       "16 Day0   9   398584 61 67 128  11348313    0.057362471 0.052357587\n",
       "22 Day0   9   398585 74 36 110  11348313    0.031230004 0.063170020"
      ]
     },
     "metadata": {},
     "output_type": "display_data"
    }
   ],
   "source": [
    "head(allchr_10reads)"
   ]
  },
  {
   "cell_type": "code",
   "execution_count": 30,
   "metadata": {},
   "outputs": [
    {
     "data": {
      "text/html": [
       "1145497"
      ],
      "text/latex": [
       "1145497"
      ],
      "text/markdown": [
       "1145497"
      ],
      "text/plain": [
       "[1] 1145497"
      ]
     },
     "metadata": {},
     "output_type": "display_data"
    }
   ],
   "source": [
    "nrow(allchr_10reads)"
   ]
  },
  {
   "cell_type": "code",
   "execution_count": 31,
   "metadata": {},
   "outputs": [],
   "source": [
    "columns <- c(\"chr\", \"cast_norm\", \"sample\")"
   ]
  },
  {
   "cell_type": "code",
   "execution_count": 32,
   "metadata": {},
   "outputs": [],
   "source": [
    "allchr_cast <- allchr_10reads[columns]"
   ]
  },
  {
   "cell_type": "code",
   "execution_count": 33,
   "metadata": {},
   "outputs": [
    {
     "data": {
      "text/html": [
       "<table>\n",
       "<thead><tr><th></th><th scope=col>chr</th><th scope=col>cast_norm</th><th scope=col>sample</th></tr></thead>\n",
       "<tbody>\n",
       "\t<tr><th scope=row>3</th><td>10         </td><td>0.020064681</td><td>Day0       </td></tr>\n",
       "\t<tr><th scope=row>5</th><td>4          </td><td>0.054028666</td><td>Day0       </td></tr>\n",
       "\t<tr><th scope=row>10</th><td>9          </td><td>0.001760825</td><td>Day0       </td></tr>\n",
       "\t<tr><th scope=row>11</th><td>4          </td><td>0.033789009</td><td>Day0       </td></tr>\n",
       "\t<tr><th scope=row>16</th><td>9          </td><td>0.052357587</td><td>Day0       </td></tr>\n",
       "\t<tr><th scope=row>22</th><td>9          </td><td>0.063170020</td><td>Day0       </td></tr>\n",
       "</tbody>\n",
       "</table>\n"
      ],
      "text/latex": [
       "\\begin{tabular}{r|lll}\n",
       "  & chr & cast\\_norm & sample\\\\\n",
       "\\hline\n",
       "\t3 & 10          & 0.020064681 & Day0       \\\\\n",
       "\t5 & 4           & 0.054028666 & Day0       \\\\\n",
       "\t10 & 9           & 0.001760825 & Day0       \\\\\n",
       "\t11 & 4           & 0.033789009 & Day0       \\\\\n",
       "\t16 & 9           & 0.052357587 & Day0       \\\\\n",
       "\t22 & 9           & 0.063170020 & Day0       \\\\\n",
       "\\end{tabular}\n"
      ],
      "text/markdown": [
       "\n",
       "| <!--/--> | chr | cast_norm | sample |\n",
       "|---|---|---|---|\n",
       "| 3 | 10          | 0.020064681 | Day0        |\n",
       "| 5 | 4           | 0.054028666 | Day0        |\n",
       "| 10 | 9           | 0.001760825 | Day0        |\n",
       "| 11 | 4           | 0.033789009 | Day0        |\n",
       "| 16 | 9           | 0.052357587 | Day0        |\n",
       "| 22 | 9           | 0.063170020 | Day0        |\n",
       "\n"
      ],
      "text/plain": [
       "   chr cast_norm   sample\n",
       "3  10  0.020064681 Day0  \n",
       "5  4   0.054028666 Day0  \n",
       "10 9   0.001760825 Day0  \n",
       "11 4   0.033789009 Day0  \n",
       "16 9   0.052357587 Day0  \n",
       "22 9   0.063170020 Day0  "
      ]
     },
     "metadata": {},
     "output_type": "display_data"
    }
   ],
   "source": [
    "head(allchr_cast)"
   ]
  },
  {
   "cell_type": "code",
   "execution_count": 34,
   "metadata": {},
   "outputs": [],
   "source": [
    "#X_ordered <- X[, c(3, 2)]"
   ]
  },
  {
   "cell_type": "code",
   "execution_count": 35,
   "metadata": {},
   "outputs": [],
   "source": [
    "#head(X_ordered)"
   ]
  },
  {
   "cell_type": "code",
   "execution_count": 36,
   "metadata": {},
   "outputs": [],
   "source": [
    "allchr_cast$sample <- as.character(allchr_cast$sample)"
   ]
  },
  {
   "cell_type": "code",
   "execution_count": 37,
   "metadata": {},
   "outputs": [],
   "source": [
    "day0 <- subset(allchr_cast, sample == 'Day0')\n",
    "day8 <- subset(allchr_cast, sample == 'Day8')\n",
    "day9 <- subset(allchr_cast, sample == 'Day9')\n",
    "day10 <- subset(allchr_cast, sample == 'Day10')\n",
    "day12 <- subset(allchr_cast, sample == 'Day12')\n",
    "iPSCs <- subset(allchr_cast, sample == 'iPSCs')"
   ]
  },
  {
   "cell_type": "code",
   "execution_count": 38,
   "metadata": {},
   "outputs": [],
   "source": [
    "day0$chr <- factor(day0$chr, levels=c('X', '1', '2', '3', '4', '5', '6', '7', '8', '9', '10', '11', '12', '13', '14', '15', '16', '17', '18', '19'))\n",
    "day8$chr <- factor(day8$chr, levels=c('X', '1', '2', '3', '4', '5', '6', '7', '8', '9', '10', '11', '12', '13', '14', '15', '16', '17', '18', '19'))\n",
    "day9$chr <- factor(day9$chr, levels=c('X', '1', '2', '3', '4', '5', '6', '7', '8', '9', '10', '11', '12', '13', '14', '15', '16', '17', '18', '19'))\n",
    "day10$chr <- factor(day10$chr, levels=c('X', '1', '2', '3', '4', '5', '6', '7', '8', '9', '10', '11', '12', '13', '14', '15', '16', '17', '18', '19'))\n",
    "day12$chr <- factor(day12$chr, levels=c('X', '1', '2', '3', '4', '5', '6', '7', '8', '9', '10', '11', '12', '13', '14', '15', '16', '17', '18', '19'))\n",
    "iPSCs$chr <- factor(iPSCs$chr, levels=c('X', '1', '2', '3', '4', '5', '6', '7', '8', '9', '10', '11', '12', '13', '14', '15', '16', '17', '18', '19'))"
   ]
  },
  {
   "cell_type": "code",
   "execution_count": 39,
   "metadata": {},
   "outputs": [
    {
     "data": {
      "text/html": [
       "<table>\n",
       "<thead><tr><th></th><th scope=col>chr</th><th scope=col>cast_norm</th><th scope=col>sample</th></tr></thead>\n",
       "<tbody>\n",
       "\t<tr><th scope=row>3</th><td>10         </td><td>0.020064681</td><td>Day0       </td></tr>\n",
       "\t<tr><th scope=row>5</th><td>4          </td><td>0.054028666</td><td>Day0       </td></tr>\n",
       "\t<tr><th scope=row>10</th><td>9          </td><td>0.001760825</td><td>Day0       </td></tr>\n",
       "\t<tr><th scope=row>11</th><td>4          </td><td>0.033789009</td><td>Day0       </td></tr>\n",
       "\t<tr><th scope=row>16</th><td>9          </td><td>0.052357587</td><td>Day0       </td></tr>\n",
       "\t<tr><th scope=row>22</th><td>9          </td><td>0.063170020</td><td>Day0       </td></tr>\n",
       "</tbody>\n",
       "</table>\n"
      ],
      "text/latex": [
       "\\begin{tabular}{r|lll}\n",
       "  & chr & cast\\_norm & sample\\\\\n",
       "\\hline\n",
       "\t3 & 10          & 0.020064681 & Day0       \\\\\n",
       "\t5 & 4           & 0.054028666 & Day0       \\\\\n",
       "\t10 & 9           & 0.001760825 & Day0       \\\\\n",
       "\t11 & 4           & 0.033789009 & Day0       \\\\\n",
       "\t16 & 9           & 0.052357587 & Day0       \\\\\n",
       "\t22 & 9           & 0.063170020 & Day0       \\\\\n",
       "\\end{tabular}\n"
      ],
      "text/markdown": [
       "\n",
       "| <!--/--> | chr | cast_norm | sample |\n",
       "|---|---|---|---|\n",
       "| 3 | 10          | 0.020064681 | Day0        |\n",
       "| 5 | 4           | 0.054028666 | Day0        |\n",
       "| 10 | 9           | 0.001760825 | Day0        |\n",
       "| 11 | 4           | 0.033789009 | Day0        |\n",
       "| 16 | 9           | 0.052357587 | Day0        |\n",
       "| 22 | 9           | 0.063170020 | Day0        |\n",
       "\n"
      ],
      "text/plain": [
       "   chr cast_norm   sample\n",
       "3  10  0.020064681 Day0  \n",
       "5  4   0.054028666 Day0  \n",
       "10 9   0.001760825 Day0  \n",
       "11 4   0.033789009 Day0  \n",
       "16 9   0.052357587 Day0  \n",
       "22 9   0.063170020 Day0  "
      ]
     },
     "metadata": {},
     "output_type": "display_data"
    }
   ],
   "source": [
    "head(day0)"
   ]
  },
  {
   "cell_type": "code",
   "execution_count": 40,
   "metadata": {},
   "outputs": [],
   "source": [
    "median_iPSCs <- iPSCs %>%\n",
    "  group_by(chr) %>%\n",
    "  summarize(median=median(cast_norm))"
   ]
  },
  {
   "cell_type": "code",
   "execution_count": 41,
   "metadata": {},
   "outputs": [
    {
     "data": {
      "text/html": [
       "<table>\n",
       "<thead><tr><th scope=col>chr</th><th scope=col>median</th></tr></thead>\n",
       "<tbody>\n",
       "\t<tr><td>X         </td><td>0.01248889</td></tr>\n",
       "\t<tr><td>1         </td><td>0.01248889</td></tr>\n",
       "\t<tr><td>2         </td><td>0.01248889</td></tr>\n",
       "\t<tr><td>3         </td><td>0.01248889</td></tr>\n",
       "\t<tr><td>4         </td><td>0.01361655</td></tr>\n",
       "\t<tr><td>5         </td><td>0.01361655</td></tr>\n",
       "\t<tr><td>6         </td><td>0.01248889</td></tr>\n",
       "\t<tr><td>7         </td><td>0.01474293</td></tr>\n",
       "\t<tr><td>8         </td><td>0.01361655</td></tr>\n",
       "\t<tr><td>9         </td><td>0.01361655</td></tr>\n",
       "\t<tr><td>10        </td><td>0.01248889</td></tr>\n",
       "\t<tr><td>11        </td><td>0.01361655</td></tr>\n",
       "\t<tr><td>12        </td><td>0.01248889</td></tr>\n",
       "\t<tr><td>13        </td><td>0.01361655</td></tr>\n",
       "\t<tr><td>14        </td><td>0.01361655</td></tr>\n",
       "\t<tr><td>15        </td><td>0.01361655</td></tr>\n",
       "\t<tr><td>16        </td><td>0.01248889</td></tr>\n",
       "\t<tr><td>17        </td><td>0.01474293</td></tr>\n",
       "\t<tr><td>18        </td><td>0.01361655</td></tr>\n",
       "\t<tr><td>19        </td><td>0.01361655</td></tr>\n",
       "</tbody>\n",
       "</table>\n"
      ],
      "text/latex": [
       "\\begin{tabular}{r|ll}\n",
       " chr & median\\\\\n",
       "\\hline\n",
       "\t X          & 0.01248889\\\\\n",
       "\t 1          & 0.01248889\\\\\n",
       "\t 2          & 0.01248889\\\\\n",
       "\t 3          & 0.01248889\\\\\n",
       "\t 4          & 0.01361655\\\\\n",
       "\t 5          & 0.01361655\\\\\n",
       "\t 6          & 0.01248889\\\\\n",
       "\t 7          & 0.01474293\\\\\n",
       "\t 8          & 0.01361655\\\\\n",
       "\t 9          & 0.01361655\\\\\n",
       "\t 10         & 0.01248889\\\\\n",
       "\t 11         & 0.01361655\\\\\n",
       "\t 12         & 0.01248889\\\\\n",
       "\t 13         & 0.01361655\\\\\n",
       "\t 14         & 0.01361655\\\\\n",
       "\t 15         & 0.01361655\\\\\n",
       "\t 16         & 0.01248889\\\\\n",
       "\t 17         & 0.01474293\\\\\n",
       "\t 18         & 0.01361655\\\\\n",
       "\t 19         & 0.01361655\\\\\n",
       "\\end{tabular}\n"
      ],
      "text/markdown": [
       "\n",
       "| chr | median |\n",
       "|---|---|\n",
       "| X          | 0.01248889 |\n",
       "| 1          | 0.01248889 |\n",
       "| 2          | 0.01248889 |\n",
       "| 3          | 0.01248889 |\n",
       "| 4          | 0.01361655 |\n",
       "| 5          | 0.01361655 |\n",
       "| 6          | 0.01248889 |\n",
       "| 7          | 0.01474293 |\n",
       "| 8          | 0.01361655 |\n",
       "| 9          | 0.01361655 |\n",
       "| 10         | 0.01248889 |\n",
       "| 11         | 0.01361655 |\n",
       "| 12         | 0.01248889 |\n",
       "| 13         | 0.01361655 |\n",
       "| 14         | 0.01361655 |\n",
       "| 15         | 0.01361655 |\n",
       "| 16         | 0.01248889 |\n",
       "| 17         | 0.01474293 |\n",
       "| 18         | 0.01361655 |\n",
       "| 19         | 0.01361655 |\n",
       "\n"
      ],
      "text/plain": [
       "   chr median    \n",
       "1  X   0.01248889\n",
       "2  1   0.01248889\n",
       "3  2   0.01248889\n",
       "4  3   0.01248889\n",
       "5  4   0.01361655\n",
       "6  5   0.01361655\n",
       "7  6   0.01248889\n",
       "8  7   0.01474293\n",
       "9  8   0.01361655\n",
       "10 9   0.01361655\n",
       "11 10  0.01248889\n",
       "12 11  0.01361655\n",
       "13 12  0.01248889\n",
       "14 13  0.01361655\n",
       "15 14  0.01361655\n",
       "16 15  0.01361655\n",
       "17 16  0.01248889\n",
       "18 17  0.01474293\n",
       "19 18  0.01361655\n",
       "20 19  0.01361655"
      ]
     },
     "metadata": {},
     "output_type": "display_data"
    }
   ],
   "source": [
    "median_iPSCs"
   ]
  },
  {
   "cell_type": "code",
   "execution_count": 42,
   "metadata": {},
   "outputs": [],
   "source": [
    "median_day0 <- day0 %>%\n",
    "  group_by(chr) %>%\n",
    "  summarize(median=median(cast_norm))"
   ]
  },
  {
   "cell_type": "code",
   "execution_count": 43,
   "metadata": {},
   "outputs": [
    {
     "data": {
      "text/html": [
       "<table>\n",
       "<thead><tr><th scope=col>chr</th><th scope=col>median</th></tr></thead>\n",
       "<tbody>\n",
       "\t<tr><td>X         </td><td>0.01747027</td></tr>\n",
       "\t<tr><td>1         </td><td>0.01313123</td></tr>\n",
       "\t<tr><td>2         </td><td>0.01313123</td></tr>\n",
       "\t<tr><td>3         </td><td>0.01400055</td></tr>\n",
       "\t<tr><td>4         </td><td>0.01313123</td></tr>\n",
       "\t<tr><td>5         </td><td>0.01313123</td></tr>\n",
       "\t<tr><td>6         </td><td>0.01400055</td></tr>\n",
       "\t<tr><td>7         </td><td>0.01400055</td></tr>\n",
       "\t<tr><td>8         </td><td>0.01313123</td></tr>\n",
       "\t<tr><td>9         </td><td>0.01400055</td></tr>\n",
       "\t<tr><td>10        </td><td>0.01313123</td></tr>\n",
       "\t<tr><td>11        </td><td>0.01400055</td></tr>\n",
       "\t<tr><td>12        </td><td>0.01313123</td></tr>\n",
       "\t<tr><td>13        </td><td>0.01400055</td></tr>\n",
       "\t<tr><td>14        </td><td>0.01313123</td></tr>\n",
       "\t<tr><td>15        </td><td>0.01400055</td></tr>\n",
       "\t<tr><td>16        </td><td>0.01313123</td></tr>\n",
       "\t<tr><td>17        </td><td>0.01400055</td></tr>\n",
       "\t<tr><td>18        </td><td>0.01400055</td></tr>\n",
       "\t<tr><td>19        </td><td>0.01400055</td></tr>\n",
       "</tbody>\n",
       "</table>\n"
      ],
      "text/latex": [
       "\\begin{tabular}{r|ll}\n",
       " chr & median\\\\\n",
       "\\hline\n",
       "\t X          & 0.01747027\\\\\n",
       "\t 1          & 0.01313123\\\\\n",
       "\t 2          & 0.01313123\\\\\n",
       "\t 3          & 0.01400055\\\\\n",
       "\t 4          & 0.01313123\\\\\n",
       "\t 5          & 0.01313123\\\\\n",
       "\t 6          & 0.01400055\\\\\n",
       "\t 7          & 0.01400055\\\\\n",
       "\t 8          & 0.01313123\\\\\n",
       "\t 9          & 0.01400055\\\\\n",
       "\t 10         & 0.01313123\\\\\n",
       "\t 11         & 0.01400055\\\\\n",
       "\t 12         & 0.01313123\\\\\n",
       "\t 13         & 0.01400055\\\\\n",
       "\t 14         & 0.01313123\\\\\n",
       "\t 15         & 0.01400055\\\\\n",
       "\t 16         & 0.01313123\\\\\n",
       "\t 17         & 0.01400055\\\\\n",
       "\t 18         & 0.01400055\\\\\n",
       "\t 19         & 0.01400055\\\\\n",
       "\\end{tabular}\n"
      ],
      "text/markdown": [
       "\n",
       "| chr | median |\n",
       "|---|---|\n",
       "| X          | 0.01747027 |\n",
       "| 1          | 0.01313123 |\n",
       "| 2          | 0.01313123 |\n",
       "| 3          | 0.01400055 |\n",
       "| 4          | 0.01313123 |\n",
       "| 5          | 0.01313123 |\n",
       "| 6          | 0.01400055 |\n",
       "| 7          | 0.01400055 |\n",
       "| 8          | 0.01313123 |\n",
       "| 9          | 0.01400055 |\n",
       "| 10         | 0.01313123 |\n",
       "| 11         | 0.01400055 |\n",
       "| 12         | 0.01313123 |\n",
       "| 13         | 0.01400055 |\n",
       "| 14         | 0.01313123 |\n",
       "| 15         | 0.01400055 |\n",
       "| 16         | 0.01313123 |\n",
       "| 17         | 0.01400055 |\n",
       "| 18         | 0.01400055 |\n",
       "| 19         | 0.01400055 |\n",
       "\n"
      ],
      "text/plain": [
       "   chr median    \n",
       "1  X   0.01747027\n",
       "2  1   0.01313123\n",
       "3  2   0.01313123\n",
       "4  3   0.01400055\n",
       "5  4   0.01313123\n",
       "6  5   0.01313123\n",
       "7  6   0.01400055\n",
       "8  7   0.01400055\n",
       "9  8   0.01313123\n",
       "10 9   0.01400055\n",
       "11 10  0.01313123\n",
       "12 11  0.01400055\n",
       "13 12  0.01313123\n",
       "14 13  0.01400055\n",
       "15 14  0.01313123\n",
       "16 15  0.01400055\n",
       "17 16  0.01313123\n",
       "18 17  0.01400055\n",
       "19 18  0.01400055\n",
       "20 19  0.01400055"
      ]
     },
     "metadata": {},
     "output_type": "display_data"
    }
   ],
   "source": [
    "median_day0"
   ]
  },
  {
   "cell_type": "code",
   "execution_count": 44,
   "metadata": {},
   "outputs": [],
   "source": [
    "res <- pairwise.wilcox.test(iPSCs$cast_norm, iPSCs$chr, p.adjust.method = \"bonferroni\")"
   ]
  },
  {
   "cell_type": "code",
   "execution_count": 46,
   "metadata": {},
   "outputs": [
    {
     "data": {
      "text/plain": [
       "\n",
       "\tPairwise comparisons using Wilcoxon rank sum test \n",
       "\n",
       "data:  iPSCs$cast_norm and iPSCs$chr \n",
       "\n",
       "   X       1       2       3       4       5       6       7       8      \n",
       "1  1.00000 -       -       -       -       -       -       -       -      \n",
       "2  1.00000 1.00000 -       -       -       -       -       -       -      \n",
       "3  1.00000 1.00000 1.00000 -       -       -       -       -       -      \n",
       "4  0.00051 4.5e-12 3.2e-10 5.4e-12 -       -       -       -       -      \n",
       "5  1.00000 0.00925 0.14255 0.00299 0.03993 -       -       -       -      \n",
       "6  1.00000 1.00000 1.00000 1.00000 1.7e-06 1.00000 -       -       -      \n",
       "7  4.3e-07 < 2e-16 2.9e-16 < 2e-16 1.00000 5.7e-06 2.5e-11 -       -      \n",
       "8  1.00000 1.00000 1.00000 1.00000 8.9e-05 1.00000 1.00000 3.8e-09 -      \n",
       "9  0.00057 3.6e-11 2.1e-09 2.8e-11 1.00000 0.05725 4.3e-06 1.00000 0.00014\n",
       "10 0.00463 0.00352 6.0e-05 0.12377 < 2e-16 1.0e-13 6.0e-06 < 2e-16 2.2e-07\n",
       "11 0.37281 4.8e-06 0.00015 2.2e-06 1.00000 1.00000 0.03236 0.01053 0.41526\n",
       "12 1.00000 1.00000 1.00000 1.00000 5.5e-05 1.00000 1.00000 5.0e-09 1.00000\n",
       "13 1.00000 0.13192 1.00000 0.04174 0.05534 1.00000 1.00000 2.9e-05 1.00000\n",
       "14 1.00000 0.00966 0.11173 0.00307 1.00000 1.00000 1.00000 0.00423 1.00000\n",
       "15 0.00183 2.7e-09 1.0e-07 1.3e-09 1.00000 0.20909 4.7e-05 1.00000 0.00111\n",
       "16 1.00000 1.00000 1.00000 1.00000 3.1e-12 0.00030 1.00000 < 2e-16 0.22296\n",
       "17 2.9e-05 7.1e-13 3.8e-11 6.1e-13 1.00000 0.00211 9.1e-08 1.00000 4.7e-06\n",
       "18 1.00000 1.00000 1.00000 0.38058 0.04869 1.00000 1.00000 4.8e-05 1.00000\n",
       "19 1.00000 1.00000 1.00000 1.00000 0.06709 1.00000 1.00000 0.00012 1.00000\n",
       "   9       10      11      12      13      14      15      16      17     \n",
       "1  -       -       -       -       -       -       -       -       -      \n",
       "2  -       -       -       -       -       -       -       -       -      \n",
       "3  -       -       -       -       -       -       -       -       -      \n",
       "4  -       -       -       -       -       -       -       -       -      \n",
       "5  -       -       -       -       -       -       -       -       -      \n",
       "6  -       -       -       -       -       -       -       -       -      \n",
       "7  -       -       -       -       -       -       -       -       -      \n",
       "8  -       -       -       -       -       -       -       -       -      \n",
       "9  -       -       -       -       -       -       -       -       -      \n",
       "10 < 2e-16 -       -       -       -       -       -       -       -      \n",
       "11 1.00000 < 2e-16 -       -       -       -       -       -       -      \n",
       "12 9.3e-05 1.6e-05 0.20750 -       -       -       -       -       -      \n",
       "13 0.07651 2.1e-10 1.00000 1.00000 -       -       -       -       -      \n",
       "14 1.00000 6.6e-12 1.00000 1.00000 1.00000 -       -       -       -      \n",
       "15 1.00000 < 2e-16 1.00000 0.00056 0.20398 1.00000 -       -       -      \n",
       "16 1.0e-11 1.00000 3.5e-07 1.00000 0.00439 0.00032 2.7e-10 -       -      \n",
       "17 1.00000 < 2e-16 0.48802 2.8e-06 0.00311 0.11848 1.00000 2.5e-13 -      \n",
       "18 0.06079 8.9e-08 1.00000 1.00000 1.00000 1.00000 0.15398 0.04269 0.00307\n",
       "19 0.06753 9.0e-06 1.00000 1.00000 1.00000 1.00000 0.16511 0.26078 0.00496\n",
       "   18     \n",
       "1  -      \n",
       "2  -      \n",
       "3  -      \n",
       "4  -      \n",
       "5  -      \n",
       "6  -      \n",
       "7  -      \n",
       "8  -      \n",
       "9  -      \n",
       "10 -      \n",
       "11 -      \n",
       "12 -      \n",
       "13 -      \n",
       "14 -      \n",
       "15 -      \n",
       "16 -      \n",
       "17 -      \n",
       "18 -      \n",
       "19 1.00000\n",
       "\n",
       "P value adjustment method: bonferroni "
      ]
     },
     "metadata": {},
     "output_type": "display_data"
    }
   ],
   "source": [
    "res"
   ]
  },
  {
   "cell_type": "code",
   "execution_count": 45,
   "metadata": {},
   "outputs": [
    {
     "data": {
      "text/html": [
       "<table>\n",
       "<thead><tr><th scope=col>X</th><th scope=col>1</th><th scope=col>2</th><th scope=col>3</th><th scope=col>4</th><th scope=col>5</th><th scope=col>6</th><th scope=col>7</th><th scope=col>8</th><th scope=col>9</th><th scope=col>10</th><th scope=col>11</th><th scope=col>12</th><th scope=col>13</th><th scope=col>14</th><th scope=col>15</th><th scope=col>16</th><th scope=col>17</th><th scope=col>18</th></tr></thead>\n",
       "<tbody>\n",
       "\t<tr><td>1.000000e+00</td><td>          NA</td><td>          NA</td><td>          NA</td><td>          NA</td><td>          NA</td><td>          NA</td><td>          NA</td><td>          NA</td><td>          NA</td><td>          NA</td><td>          NA</td><td>          NA</td><td>         NA </td><td>         NA </td><td>          NA</td><td>          NA</td><td>         NA </td><td>NA          </td></tr>\n",
       "\t<tr><td>1.000000e+00</td><td>1.000000e+00</td><td>          NA</td><td>          NA</td><td>          NA</td><td>          NA</td><td>          NA</td><td>          NA</td><td>          NA</td><td>          NA</td><td>          NA</td><td>          NA</td><td>          NA</td><td>         NA </td><td>         NA </td><td>          NA</td><td>          NA</td><td>         NA </td><td>NA          </td></tr>\n",
       "\t<tr><td>1.000000e+00</td><td>1.000000e+00</td><td>1.000000e+00</td><td>          NA</td><td>          NA</td><td>          NA</td><td>          NA</td><td>          NA</td><td>          NA</td><td>          NA</td><td>          NA</td><td>          NA</td><td>          NA</td><td>         NA </td><td>         NA </td><td>          NA</td><td>          NA</td><td>         NA </td><td>NA          </td></tr>\n",
       "\t<tr><td>5.093214e-04</td><td>4.521216e-12</td><td>3.194821e-10</td><td>5.368775e-12</td><td>          NA</td><td>          NA</td><td>          NA</td><td>          NA</td><td>          NA</td><td>          NA</td><td>          NA</td><td>          NA</td><td>          NA</td><td>         NA </td><td>         NA </td><td>          NA</td><td>          NA</td><td>         NA </td><td>NA          </td></tr>\n",
       "\t<tr><td>1.000000e+00</td><td>9.249253e-03</td><td>1.425532e-01</td><td>2.991773e-03</td><td>3.992863e-02</td><td>          NA</td><td>          NA</td><td>          NA</td><td>          NA</td><td>          NA</td><td>          NA</td><td>          NA</td><td>          NA</td><td>         NA </td><td>         NA </td><td>          NA</td><td>          NA</td><td>         NA </td><td>NA          </td></tr>\n",
       "\t<tr><td>1.000000e+00</td><td>1.000000e+00</td><td>1.000000e+00</td><td>1.000000e+00</td><td>1.687347e-06</td><td>1.000000e+00</td><td>          NA</td><td>          NA</td><td>          NA</td><td>          NA</td><td>          NA</td><td>          NA</td><td>          NA</td><td>         NA </td><td>         NA </td><td>          NA</td><td>          NA</td><td>         NA </td><td>NA          </td></tr>\n",
       "\t<tr><td>4.283324e-07</td><td>3.430823e-18</td><td>2.948431e-16</td><td>1.158778e-17</td><td>1.000000e+00</td><td>5.682451e-06</td><td>2.540644e-11</td><td>          NA</td><td>          NA</td><td>          NA</td><td>          NA</td><td>          NA</td><td>          NA</td><td>         NA </td><td>         NA </td><td>          NA</td><td>          NA</td><td>         NA </td><td>NA          </td></tr>\n",
       "\t<tr><td>1.000000e+00</td><td>1.000000e+00</td><td>1.000000e+00</td><td>1.000000e+00</td><td>8.861273e-05</td><td>1.000000e+00</td><td>1.000000e+00</td><td>3.788343e-09</td><td>          NA</td><td>          NA</td><td>          NA</td><td>          NA</td><td>          NA</td><td>         NA </td><td>         NA </td><td>          NA</td><td>          NA</td><td>         NA </td><td>NA          </td></tr>\n",
       "\t<tr><td>5.666173e-04</td><td>3.567949e-11</td><td>2.103258e-09</td><td>2.837455e-11</td><td>1.000000e+00</td><td>5.725034e-02</td><td>4.273859e-06</td><td>1.000000e+00</td><td>1.438157e-04</td><td>          NA</td><td>          NA</td><td>          NA</td><td>          NA</td><td>         NA </td><td>         NA </td><td>          NA</td><td>          NA</td><td>         NA </td><td>NA          </td></tr>\n",
       "\t<tr><td>4.628968e-03</td><td>3.523446e-03</td><td>6.016712e-05</td><td>1.237653e-01</td><td>1.119109e-27</td><td>1.023129e-13</td><td>6.011210e-06</td><td>2.013537e-35</td><td>2.203352e-07</td><td>8.523482e-26</td><td>          NA</td><td>          NA</td><td>          NA</td><td>         NA </td><td>         NA </td><td>          NA</td><td>          NA</td><td>         NA </td><td>NA          </td></tr>\n",
       "\t<tr><td>3.728142e-01</td><td>4.810694e-06</td><td>1.526528e-04</td><td>2.213806e-06</td><td>1.000000e+00</td><td>1.000000e+00</td><td>3.236153e-02</td><td>1.052794e-02</td><td>4.152620e-01</td><td>1.000000e+00</td><td>3.626125e-19</td><td>          NA</td><td>          NA</td><td>         NA </td><td>         NA </td><td>          NA</td><td>          NA</td><td>         NA </td><td>NA          </td></tr>\n",
       "\t<tr><td>1.000000e+00</td><td>1.000000e+00</td><td>1.000000e+00</td><td>1.000000e+00</td><td>5.481297e-05</td><td>1.000000e+00</td><td>1.000000e+00</td><td>4.996107e-09</td><td>1.000000e+00</td><td>9.261957e-05</td><td>1.569155e-05</td><td>2.074959e-01</td><td>          NA</td><td>         NA </td><td>         NA </td><td>          NA</td><td>          NA</td><td>         NA </td><td>NA          </td></tr>\n",
       "\t<tr><td>1.000000e+00</td><td>1.319182e-01</td><td>1.000000e+00</td><td>4.173779e-02</td><td>5.534071e-02</td><td>1.000000e+00</td><td>1.000000e+00</td><td>2.930097e-05</td><td>1.000000e+00</td><td>7.651324e-02</td><td>2.143251e-10</td><td>1.000000e+00</td><td>1.000000e+00</td><td>         NA </td><td>         NA </td><td>          NA</td><td>          NA</td><td>         NA </td><td>NA          </td></tr>\n",
       "\t<tr><td>1.000000e+00</td><td>9.661579e-03</td><td>1.117265e-01</td><td>3.068327e-03</td><td>1.000000e+00</td><td>1.000000e+00</td><td>1.000000e+00</td><td>4.234145e-03</td><td>1.000000e+00</td><td>1.000000e+00</td><td>6.603704e-12</td><td>1.000000e+00</td><td>1.000000e+00</td><td>1.000000000 </td><td>         NA </td><td>          NA</td><td>          NA</td><td>         NA </td><td>NA          </td></tr>\n",
       "\t<tr><td>1.827637e-03</td><td>2.666746e-09</td><td>1.038420e-07</td><td>1.309732e-09</td><td>1.000000e+00</td><td>2.090866e-01</td><td>4.712976e-05</td><td>1.000000e+00</td><td>1.111341e-03</td><td>1.000000e+00</td><td>4.331722e-22</td><td>1.000000e+00</td><td>5.603593e-04</td><td>0.203984234 </td><td>1.000000000 </td><td>          NA</td><td>          NA</td><td>         NA </td><td>NA          </td></tr>\n",
       "\t<tr><td>1.000000e+00</td><td>1.000000e+00</td><td>1.000000e+00</td><td>1.000000e+00</td><td>3.079512e-12</td><td>3.005799e-04</td><td>1.000000e+00</td><td>3.225050e-17</td><td>2.229610e-01</td><td>1.044002e-11</td><td>1.000000e+00</td><td>3.480694e-07</td><td>1.000000e+00</td><td>0.004390719 </td><td>0.000318823 </td><td>2.673350e-10</td><td>          NA</td><td>         NA </td><td>NA          </td></tr>\n",
       "\t<tr><td>2.935532e-05</td><td>7.110280e-13</td><td>3.788031e-11</td><td>6.053527e-13</td><td>1.000000e+00</td><td>2.108234e-03</td><td>9.064289e-08</td><td>1.000000e+00</td><td>4.672076e-06</td><td>1.000000e+00</td><td>6.302341e-27</td><td>4.880221e-01</td><td>2.805273e-06</td><td>0.003110701 </td><td>0.118484990 </td><td>1.000000e+00</td><td>2.487462e-13</td><td>         NA </td><td>NA          </td></tr>\n",
       "\t<tr><td>1.000000e+00</td><td>1.000000e+00</td><td>1.000000e+00</td><td>3.805784e-01</td><td>4.868763e-02</td><td>1.000000e+00</td><td>1.000000e+00</td><td>4.830289e-05</td><td>1.000000e+00</td><td>6.079021e-02</td><td>8.869054e-08</td><td>1.000000e+00</td><td>1.000000e+00</td><td>1.000000000 </td><td>1.000000000 </td><td>1.539755e-01</td><td>4.268819e-02</td><td>0.003073641 </td><td>NA          </td></tr>\n",
       "\t<tr><td>1.000000e+00</td><td>1.000000e+00</td><td>1.000000e+00</td><td>1.000000e+00</td><td>6.708512e-02</td><td>1.000000e+00</td><td>1.000000e+00</td><td>1.219603e-04</td><td>1.000000e+00</td><td>6.752656e-02</td><td>9.038909e-06</td><td>1.000000e+00</td><td>1.000000e+00</td><td>1.000000000 </td><td>1.000000000 </td><td>1.651058e-01</td><td>2.607764e-01</td><td>0.004956894 </td><td> 1          </td></tr>\n",
       "</tbody>\n",
       "</table>\n"
      ],
      "text/latex": [
       "\\begin{tabular}{r|lllllllllllllllllll}\n",
       " X & 1 & 2 & 3 & 4 & 5 & 6 & 7 & 8 & 9 & 10 & 11 & 12 & 13 & 14 & 15 & 16 & 17 & 18\\\\\n",
       "\\hline\n",
       "\t 1.000000e+00 &           NA &           NA &           NA &           NA &           NA &           NA &           NA &           NA &           NA &           NA &           NA &           NA &          NA  &          NA  &           NA &           NA &          NA  & NA          \\\\\n",
       "\t 1.000000e+00 & 1.000000e+00 &           NA &           NA &           NA &           NA &           NA &           NA &           NA &           NA &           NA &           NA &           NA &          NA  &          NA  &           NA &           NA &          NA  & NA          \\\\\n",
       "\t 1.000000e+00 & 1.000000e+00 & 1.000000e+00 &           NA &           NA &           NA &           NA &           NA &           NA &           NA &           NA &           NA &           NA &          NA  &          NA  &           NA &           NA &          NA  & NA          \\\\\n",
       "\t 5.093214e-04 & 4.521216e-12 & 3.194821e-10 & 5.368775e-12 &           NA &           NA &           NA &           NA &           NA &           NA &           NA &           NA &           NA &          NA  &          NA  &           NA &           NA &          NA  & NA          \\\\\n",
       "\t 1.000000e+00 & 9.249253e-03 & 1.425532e-01 & 2.991773e-03 & 3.992863e-02 &           NA &           NA &           NA &           NA &           NA &           NA &           NA &           NA &          NA  &          NA  &           NA &           NA &          NA  & NA          \\\\\n",
       "\t 1.000000e+00 & 1.000000e+00 & 1.000000e+00 & 1.000000e+00 & 1.687347e-06 & 1.000000e+00 &           NA &           NA &           NA &           NA &           NA &           NA &           NA &          NA  &          NA  &           NA &           NA &          NA  & NA          \\\\\n",
       "\t 4.283324e-07 & 3.430823e-18 & 2.948431e-16 & 1.158778e-17 & 1.000000e+00 & 5.682451e-06 & 2.540644e-11 &           NA &           NA &           NA &           NA &           NA &           NA &          NA  &          NA  &           NA &           NA &          NA  & NA          \\\\\n",
       "\t 1.000000e+00 & 1.000000e+00 & 1.000000e+00 & 1.000000e+00 & 8.861273e-05 & 1.000000e+00 & 1.000000e+00 & 3.788343e-09 &           NA &           NA &           NA &           NA &           NA &          NA  &          NA  &           NA &           NA &          NA  & NA          \\\\\n",
       "\t 5.666173e-04 & 3.567949e-11 & 2.103258e-09 & 2.837455e-11 & 1.000000e+00 & 5.725034e-02 & 4.273859e-06 & 1.000000e+00 & 1.438157e-04 &           NA &           NA &           NA &           NA &          NA  &          NA  &           NA &           NA &          NA  & NA          \\\\\n",
       "\t 4.628968e-03 & 3.523446e-03 & 6.016712e-05 & 1.237653e-01 & 1.119109e-27 & 1.023129e-13 & 6.011210e-06 & 2.013537e-35 & 2.203352e-07 & 8.523482e-26 &           NA &           NA &           NA &          NA  &          NA  &           NA &           NA &          NA  & NA          \\\\\n",
       "\t 3.728142e-01 & 4.810694e-06 & 1.526528e-04 & 2.213806e-06 & 1.000000e+00 & 1.000000e+00 & 3.236153e-02 & 1.052794e-02 & 4.152620e-01 & 1.000000e+00 & 3.626125e-19 &           NA &           NA &          NA  &          NA  &           NA &           NA &          NA  & NA          \\\\\n",
       "\t 1.000000e+00 & 1.000000e+00 & 1.000000e+00 & 1.000000e+00 & 5.481297e-05 & 1.000000e+00 & 1.000000e+00 & 4.996107e-09 & 1.000000e+00 & 9.261957e-05 & 1.569155e-05 & 2.074959e-01 &           NA &          NA  &          NA  &           NA &           NA &          NA  & NA          \\\\\n",
       "\t 1.000000e+00 & 1.319182e-01 & 1.000000e+00 & 4.173779e-02 & 5.534071e-02 & 1.000000e+00 & 1.000000e+00 & 2.930097e-05 & 1.000000e+00 & 7.651324e-02 & 2.143251e-10 & 1.000000e+00 & 1.000000e+00 &          NA  &          NA  &           NA &           NA &          NA  & NA          \\\\\n",
       "\t 1.000000e+00 & 9.661579e-03 & 1.117265e-01 & 3.068327e-03 & 1.000000e+00 & 1.000000e+00 & 1.000000e+00 & 4.234145e-03 & 1.000000e+00 & 1.000000e+00 & 6.603704e-12 & 1.000000e+00 & 1.000000e+00 & 1.000000000  &          NA  &           NA &           NA &          NA  & NA          \\\\\n",
       "\t 1.827637e-03 & 2.666746e-09 & 1.038420e-07 & 1.309732e-09 & 1.000000e+00 & 2.090866e-01 & 4.712976e-05 & 1.000000e+00 & 1.111341e-03 & 1.000000e+00 & 4.331722e-22 & 1.000000e+00 & 5.603593e-04 & 0.203984234  & 1.000000000  &           NA &           NA &          NA  & NA          \\\\\n",
       "\t 1.000000e+00 & 1.000000e+00 & 1.000000e+00 & 1.000000e+00 & 3.079512e-12 & 3.005799e-04 & 1.000000e+00 & 3.225050e-17 & 2.229610e-01 & 1.044002e-11 & 1.000000e+00 & 3.480694e-07 & 1.000000e+00 & 0.004390719  & 0.000318823  & 2.673350e-10 &           NA &          NA  & NA          \\\\\n",
       "\t 2.935532e-05 & 7.110280e-13 & 3.788031e-11 & 6.053527e-13 & 1.000000e+00 & 2.108234e-03 & 9.064289e-08 & 1.000000e+00 & 4.672076e-06 & 1.000000e+00 & 6.302341e-27 & 4.880221e-01 & 2.805273e-06 & 0.003110701  & 0.118484990  & 1.000000e+00 & 2.487462e-13 &          NA  & NA          \\\\\n",
       "\t 1.000000e+00 & 1.000000e+00 & 1.000000e+00 & 3.805784e-01 & 4.868763e-02 & 1.000000e+00 & 1.000000e+00 & 4.830289e-05 & 1.000000e+00 & 6.079021e-02 & 8.869054e-08 & 1.000000e+00 & 1.000000e+00 & 1.000000000  & 1.000000000  & 1.539755e-01 & 4.268819e-02 & 0.003073641  & NA          \\\\\n",
       "\t 1.000000e+00 & 1.000000e+00 & 1.000000e+00 & 1.000000e+00 & 6.708512e-02 & 1.000000e+00 & 1.000000e+00 & 1.219603e-04 & 1.000000e+00 & 6.752656e-02 & 9.038909e-06 & 1.000000e+00 & 1.000000e+00 & 1.000000000  & 1.000000000  & 1.651058e-01 & 2.607764e-01 & 0.004956894  &  1          \\\\\n",
       "\\end{tabular}\n"
      ],
      "text/markdown": [
       "\n",
       "| X | 1 | 2 | 3 | 4 | 5 | 6 | 7 | 8 | 9 | 10 | 11 | 12 | 13 | 14 | 15 | 16 | 17 | 18 |\n",
       "|---|---|---|---|---|---|---|---|---|---|---|---|---|---|---|---|---|---|---|\n",
       "| 1.000000e+00 |           NA |           NA |           NA |           NA |           NA |           NA |           NA |           NA |           NA |           NA |           NA |           NA |          NA  |          NA  |           NA |           NA |          NA  | NA           |\n",
       "| 1.000000e+00 | 1.000000e+00 |           NA |           NA |           NA |           NA |           NA |           NA |           NA |           NA |           NA |           NA |           NA |          NA  |          NA  |           NA |           NA |          NA  | NA           |\n",
       "| 1.000000e+00 | 1.000000e+00 | 1.000000e+00 |           NA |           NA |           NA |           NA |           NA |           NA |           NA |           NA |           NA |           NA |          NA  |          NA  |           NA |           NA |          NA  | NA           |\n",
       "| 5.093214e-04 | 4.521216e-12 | 3.194821e-10 | 5.368775e-12 |           NA |           NA |           NA |           NA |           NA |           NA |           NA |           NA |           NA |          NA  |          NA  |           NA |           NA |          NA  | NA           |\n",
       "| 1.000000e+00 | 9.249253e-03 | 1.425532e-01 | 2.991773e-03 | 3.992863e-02 |           NA |           NA |           NA |           NA |           NA |           NA |           NA |           NA |          NA  |          NA  |           NA |           NA |          NA  | NA           |\n",
       "| 1.000000e+00 | 1.000000e+00 | 1.000000e+00 | 1.000000e+00 | 1.687347e-06 | 1.000000e+00 |           NA |           NA |           NA |           NA |           NA |           NA |           NA |          NA  |          NA  |           NA |           NA |          NA  | NA           |\n",
       "| 4.283324e-07 | 3.430823e-18 | 2.948431e-16 | 1.158778e-17 | 1.000000e+00 | 5.682451e-06 | 2.540644e-11 |           NA |           NA |           NA |           NA |           NA |           NA |          NA  |          NA  |           NA |           NA |          NA  | NA           |\n",
       "| 1.000000e+00 | 1.000000e+00 | 1.000000e+00 | 1.000000e+00 | 8.861273e-05 | 1.000000e+00 | 1.000000e+00 | 3.788343e-09 |           NA |           NA |           NA |           NA |           NA |          NA  |          NA  |           NA |           NA |          NA  | NA           |\n",
       "| 5.666173e-04 | 3.567949e-11 | 2.103258e-09 | 2.837455e-11 | 1.000000e+00 | 5.725034e-02 | 4.273859e-06 | 1.000000e+00 | 1.438157e-04 |           NA |           NA |           NA |           NA |          NA  |          NA  |           NA |           NA |          NA  | NA           |\n",
       "| 4.628968e-03 | 3.523446e-03 | 6.016712e-05 | 1.237653e-01 | 1.119109e-27 | 1.023129e-13 | 6.011210e-06 | 2.013537e-35 | 2.203352e-07 | 8.523482e-26 |           NA |           NA |           NA |          NA  |          NA  |           NA |           NA |          NA  | NA           |\n",
       "| 3.728142e-01 | 4.810694e-06 | 1.526528e-04 | 2.213806e-06 | 1.000000e+00 | 1.000000e+00 | 3.236153e-02 | 1.052794e-02 | 4.152620e-01 | 1.000000e+00 | 3.626125e-19 |           NA |           NA |          NA  |          NA  |           NA |           NA |          NA  | NA           |\n",
       "| 1.000000e+00 | 1.000000e+00 | 1.000000e+00 | 1.000000e+00 | 5.481297e-05 | 1.000000e+00 | 1.000000e+00 | 4.996107e-09 | 1.000000e+00 | 9.261957e-05 | 1.569155e-05 | 2.074959e-01 |           NA |          NA  |          NA  |           NA |           NA |          NA  | NA           |\n",
       "| 1.000000e+00 | 1.319182e-01 | 1.000000e+00 | 4.173779e-02 | 5.534071e-02 | 1.000000e+00 | 1.000000e+00 | 2.930097e-05 | 1.000000e+00 | 7.651324e-02 | 2.143251e-10 | 1.000000e+00 | 1.000000e+00 |          NA  |          NA  |           NA |           NA |          NA  | NA           |\n",
       "| 1.000000e+00 | 9.661579e-03 | 1.117265e-01 | 3.068327e-03 | 1.000000e+00 | 1.000000e+00 | 1.000000e+00 | 4.234145e-03 | 1.000000e+00 | 1.000000e+00 | 6.603704e-12 | 1.000000e+00 | 1.000000e+00 | 1.000000000  |          NA  |           NA |           NA |          NA  | NA           |\n",
       "| 1.827637e-03 | 2.666746e-09 | 1.038420e-07 | 1.309732e-09 | 1.000000e+00 | 2.090866e-01 | 4.712976e-05 | 1.000000e+00 | 1.111341e-03 | 1.000000e+00 | 4.331722e-22 | 1.000000e+00 | 5.603593e-04 | 0.203984234  | 1.000000000  |           NA |           NA |          NA  | NA           |\n",
       "| 1.000000e+00 | 1.000000e+00 | 1.000000e+00 | 1.000000e+00 | 3.079512e-12 | 3.005799e-04 | 1.000000e+00 | 3.225050e-17 | 2.229610e-01 | 1.044002e-11 | 1.000000e+00 | 3.480694e-07 | 1.000000e+00 | 0.004390719  | 0.000318823  | 2.673350e-10 |           NA |          NA  | NA           |\n",
       "| 2.935532e-05 | 7.110280e-13 | 3.788031e-11 | 6.053527e-13 | 1.000000e+00 | 2.108234e-03 | 9.064289e-08 | 1.000000e+00 | 4.672076e-06 | 1.000000e+00 | 6.302341e-27 | 4.880221e-01 | 2.805273e-06 | 0.003110701  | 0.118484990  | 1.000000e+00 | 2.487462e-13 |          NA  | NA           |\n",
       "| 1.000000e+00 | 1.000000e+00 | 1.000000e+00 | 3.805784e-01 | 4.868763e-02 | 1.000000e+00 | 1.000000e+00 | 4.830289e-05 | 1.000000e+00 | 6.079021e-02 | 8.869054e-08 | 1.000000e+00 | 1.000000e+00 | 1.000000000  | 1.000000000  | 1.539755e-01 | 4.268819e-02 | 0.003073641  | NA           |\n",
       "| 1.000000e+00 | 1.000000e+00 | 1.000000e+00 | 1.000000e+00 | 6.708512e-02 | 1.000000e+00 | 1.000000e+00 | 1.219603e-04 | 1.000000e+00 | 6.752656e-02 | 9.038909e-06 | 1.000000e+00 | 1.000000e+00 | 1.000000000  | 1.000000000  | 1.651058e-01 | 2.607764e-01 | 0.004956894  |  1           |\n",
       "\n"
      ],
      "text/plain": [
       "   X            1            2            3            4           \n",
       "1  1.000000e+00           NA           NA           NA           NA\n",
       "2  1.000000e+00 1.000000e+00           NA           NA           NA\n",
       "3  1.000000e+00 1.000000e+00 1.000000e+00           NA           NA\n",
       "4  5.093214e-04 4.521216e-12 3.194821e-10 5.368775e-12           NA\n",
       "5  1.000000e+00 9.249253e-03 1.425532e-01 2.991773e-03 3.992863e-02\n",
       "6  1.000000e+00 1.000000e+00 1.000000e+00 1.000000e+00 1.687347e-06\n",
       "7  4.283324e-07 3.430823e-18 2.948431e-16 1.158778e-17 1.000000e+00\n",
       "8  1.000000e+00 1.000000e+00 1.000000e+00 1.000000e+00 8.861273e-05\n",
       "9  5.666173e-04 3.567949e-11 2.103258e-09 2.837455e-11 1.000000e+00\n",
       "10 4.628968e-03 3.523446e-03 6.016712e-05 1.237653e-01 1.119109e-27\n",
       "11 3.728142e-01 4.810694e-06 1.526528e-04 2.213806e-06 1.000000e+00\n",
       "12 1.000000e+00 1.000000e+00 1.000000e+00 1.000000e+00 5.481297e-05\n",
       "13 1.000000e+00 1.319182e-01 1.000000e+00 4.173779e-02 5.534071e-02\n",
       "14 1.000000e+00 9.661579e-03 1.117265e-01 3.068327e-03 1.000000e+00\n",
       "15 1.827637e-03 2.666746e-09 1.038420e-07 1.309732e-09 1.000000e+00\n",
       "16 1.000000e+00 1.000000e+00 1.000000e+00 1.000000e+00 3.079512e-12\n",
       "17 2.935532e-05 7.110280e-13 3.788031e-11 6.053527e-13 1.000000e+00\n",
       "18 1.000000e+00 1.000000e+00 1.000000e+00 3.805784e-01 4.868763e-02\n",
       "19 1.000000e+00 1.000000e+00 1.000000e+00 1.000000e+00 6.708512e-02\n",
       "   5            6            7            8            9           \n",
       "1            NA           NA           NA           NA           NA\n",
       "2            NA           NA           NA           NA           NA\n",
       "3            NA           NA           NA           NA           NA\n",
       "4            NA           NA           NA           NA           NA\n",
       "5            NA           NA           NA           NA           NA\n",
       "6  1.000000e+00           NA           NA           NA           NA\n",
       "7  5.682451e-06 2.540644e-11           NA           NA           NA\n",
       "8  1.000000e+00 1.000000e+00 3.788343e-09           NA           NA\n",
       "9  5.725034e-02 4.273859e-06 1.000000e+00 1.438157e-04           NA\n",
       "10 1.023129e-13 6.011210e-06 2.013537e-35 2.203352e-07 8.523482e-26\n",
       "11 1.000000e+00 3.236153e-02 1.052794e-02 4.152620e-01 1.000000e+00\n",
       "12 1.000000e+00 1.000000e+00 4.996107e-09 1.000000e+00 9.261957e-05\n",
       "13 1.000000e+00 1.000000e+00 2.930097e-05 1.000000e+00 7.651324e-02\n",
       "14 1.000000e+00 1.000000e+00 4.234145e-03 1.000000e+00 1.000000e+00\n",
       "15 2.090866e-01 4.712976e-05 1.000000e+00 1.111341e-03 1.000000e+00\n",
       "16 3.005799e-04 1.000000e+00 3.225050e-17 2.229610e-01 1.044002e-11\n",
       "17 2.108234e-03 9.064289e-08 1.000000e+00 4.672076e-06 1.000000e+00\n",
       "18 1.000000e+00 1.000000e+00 4.830289e-05 1.000000e+00 6.079021e-02\n",
       "19 1.000000e+00 1.000000e+00 1.219603e-04 1.000000e+00 6.752656e-02\n",
       "   10           11           12           13          14          15          \n",
       "1            NA           NA           NA          NA          NA           NA\n",
       "2            NA           NA           NA          NA          NA           NA\n",
       "3            NA           NA           NA          NA          NA           NA\n",
       "4            NA           NA           NA          NA          NA           NA\n",
       "5            NA           NA           NA          NA          NA           NA\n",
       "6            NA           NA           NA          NA          NA           NA\n",
       "7            NA           NA           NA          NA          NA           NA\n",
       "8            NA           NA           NA          NA          NA           NA\n",
       "9            NA           NA           NA          NA          NA           NA\n",
       "10           NA           NA           NA          NA          NA           NA\n",
       "11 3.626125e-19           NA           NA          NA          NA           NA\n",
       "12 1.569155e-05 2.074959e-01           NA          NA          NA           NA\n",
       "13 2.143251e-10 1.000000e+00 1.000000e+00          NA          NA           NA\n",
       "14 6.603704e-12 1.000000e+00 1.000000e+00 1.000000000          NA           NA\n",
       "15 4.331722e-22 1.000000e+00 5.603593e-04 0.203984234 1.000000000           NA\n",
       "16 1.000000e+00 3.480694e-07 1.000000e+00 0.004390719 0.000318823 2.673350e-10\n",
       "17 6.302341e-27 4.880221e-01 2.805273e-06 0.003110701 0.118484990 1.000000e+00\n",
       "18 8.869054e-08 1.000000e+00 1.000000e+00 1.000000000 1.000000000 1.539755e-01\n",
       "19 9.038909e-06 1.000000e+00 1.000000e+00 1.000000000 1.000000000 1.651058e-01\n",
       "   16           17          18\n",
       "1            NA          NA NA\n",
       "2            NA          NA NA\n",
       "3            NA          NA NA\n",
       "4            NA          NA NA\n",
       "5            NA          NA NA\n",
       "6            NA          NA NA\n",
       "7            NA          NA NA\n",
       "8            NA          NA NA\n",
       "9            NA          NA NA\n",
       "10           NA          NA NA\n",
       "11           NA          NA NA\n",
       "12           NA          NA NA\n",
       "13           NA          NA NA\n",
       "14           NA          NA NA\n",
       "15           NA          NA NA\n",
       "16           NA          NA NA\n",
       "17 2.487462e-13          NA NA\n",
       "18 4.268819e-02 0.003073641 NA\n",
       "19 2.607764e-01 0.004956894  1"
      ]
     },
     "metadata": {},
     "output_type": "display_data"
    }
   ],
   "source": [
    "res$p.value"
   ]
  },
  {
   "cell_type": "code",
   "execution_count": 76,
   "metadata": {},
   "outputs": [
    {
     "name": "stderr",
     "output_type": "stream",
     "text": [
      "Warning message:\n",
      "\"Ignoring unknown parameters: outlier.shape\""
     ]
    }
   ],
   "source": [
    "options(repr.plot.width=10, repr.plot.height=3)\n",
    "day0_allchr_accessibility_plot <- ggplot(day0, aes(x=chr, y=cast_norm, fill=sample)) + \n",
    "  \n",
    "geom_violin(scale = \"width\", alpha = 0.7, show.legend=FALSE, outlier.shape = FALSE) +\n",
    "scale_fill_brewer(palette=\"Pastel1\")+\n",
    "geom_boxplot(width=0.2, fill=\"white\", alpha = 0.5, outlier.shape = FALSE) +\n",
    "\n",
    "  scale_colour_brewer(\"Colors in Paired\", palette=\"Pastel1\")+\n",
    "  #geom_jitter(width = 1, alpha = 0.5, show.legend=FALSE, aes(color = sample)) +\n",
    "\n",
    " \n",
    " theme(plot.title = element_text(size=6))+\n",
    "\n",
    "    xlab(\"chromosome\") + \n",
    "    ylab(\"accessibility in MEFs\")+\n",
    "    coord_cartesian(ylim = c(0,0.075))+\n",
    "    theme(axis.text.x  = element_text(angle=0, vjust=0.5, size=8, color = \"black\"))+\n",
    " theme(axis.text.y  = element_text(color = \"black\"))+\n",
    "    theme(legend.title=element_blank())+\n",
    "    theme(axis.line = element_line(colour = \"black\"),\n",
    "    panel.grid.major = element_line(colour = \"grey82\"),\n",
    "   \n",
    "    panel.border = element_blank(),\n",
    "    panel.background = element_blank())"
   ]
  },
  {
   "cell_type": "code",
   "execution_count": 77,
   "metadata": {},
   "outputs": [
    {
     "data": {
      "image/png": "[encoded data removed]",
      "text/plain": [
       "plot without title"
      ]
     },
     "metadata": {},
     "output_type": "display_data"
    }
   ],
   "source": [
    "day0_allchr_accessibility_plot"
   ]
  },
  {
   "cell_type": "code",
   "execution_count": 78,
   "metadata": {},
   "outputs": [],
   "source": [
    "setwd(\"/ddn1/vol1/staging/leuven/stg_00041/Irene/ATAC_analysis/Allelic_ATAC/hyperaccessibility/\")\n",
    "ggsave(\"Xa_Auto_accessibility_MEFs.pdf\", width = 10, height = 3)"
   ]
  },
  {
   "cell_type": "code",
   "execution_count": 268,
   "metadata": {},
   "outputs": [],
   "source": [
    "\n",
    "options(repr.plot.width=5, repr.plot.height=2.5)\n",
    "iPSCs_new <- ggplot(iPSCs, aes(x=cast_norm, color=chr)) +\n",
    "  geom_density()+\n",
    "\n",
    "\n",
    "geom_vline(data=median_iPSCs, aes(xintercept=median, colour=chr), linetype=\"dashed\", size= 1) +\n",
    "\n",
    "\n",
    " theme(plot.title = element_text(size=6))+\n",
    "    xlab(\"normalized accessibility\") + \n",
    "    ylab(\"Regions (density)\")+\n",
    "   # coord_cartesian(ylim = c(0,4))+\n",
    "    coord_cartesian(xlim = c(0,0.1))+\n",
    "scale_x_continuous(expand = c(0, 0)) + \n",
    "scale_y_continuous(expand = c(0, 0))+\n",
    "    theme(axis.text.x  = element_text(angle=0, vjust=0.5, size=8, color = \"black\"))+\n",
    " theme(axis.text.y  = element_text(color = \"black\"))+\n",
    "theme_classic()+   \n",
    "theme(legend.title=element_blank())\n",
    "\n",
    " "
   ]
  },
  {
   "cell_type": "code",
   "execution_count": 79,
   "metadata": {},
   "outputs": [
    {
     "name": "stderr",
     "output_type": "stream",
     "text": [
      "Warning message:\n",
      "\"Ignoring unknown parameters: outlier.shape\""
     ]
    }
   ],
   "source": [
    "options(repr.plot.width=10, repr.plot.height=3)\n",
    "iPSCs_allchr_accessibility_plot <- ggplot(iPSCs, aes(x=chr, y=cast_norm, fill=sample)) + \n",
    "  \n",
    "geom_violin(scale = \"width\", alpha = 0.7, show.legend=FALSE, outlier.shape = FALSE) +\n",
    "scale_fill_brewer(palette=\"Pastel1\")+\n",
    "geom_boxplot(width=0.2, fill=\"white\", alpha = 0.5, outlier.shape = FALSE) +\n",
    "\n",
    "  scale_colour_brewer(\"Colors in Paired\", palette=\"Pastel1\")+\n",
    "  #geom_jitter(width = 1, alpha = 0.5, show.legend=FALSE, aes(color = sample)) +\n",
    "\n",
    " \n",
    " theme(plot.title = element_text(size=6))+\n",
    "\n",
    "    xlab(\"chromosome\") + \n",
    "    ylab(\"accessibility in iPSCs\")+\n",
    "    coord_cartesian(ylim = c(0,0.075))+\n",
    "    theme(axis.text.x  = element_text(angle=0, vjust=0.5, size=8, color = \"black\"))+\n",
    " theme(axis.text.y  = element_text(color = \"black\"))+\n",
    "    theme(legend.title=element_blank())+\n",
    "    theme(axis.line = element_line(colour = \"black\"),\n",
    "    panel.grid.major = element_line(colour = \"grey82\"),\n",
    "   \n",
    "    panel.border = element_blank(),\n",
    "    panel.background = element_blank())"
   ]
  },
  {
   "cell_type": "code",
   "execution_count": 80,
   "metadata": {},
   "outputs": [
    {
     "data": {
      "image/png": "[encoded data removed]",
      "text/plain": [
       "plot without title"
      ]
     },
     "metadata": {},
     "output_type": "display_data"
    }
   ],
   "source": [
    "iPSCs_allchr_accessibility_plot "
   ]
  },
  {
   "cell_type": "code",
   "execution_count": 81,
   "metadata": {},
   "outputs": [],
   "source": [
    "setwd(\"/ddn1/vol1/staging/leuven/stg_00041/Irene/ATAC_analysis/Allelic_ATAC/hyperaccessibility/\")\n",
    "ggsave(\"Xa_Auto_accessibility_iPSCs.pdf\", width = 10, height = 3)"
   ]
  },
  {
   "cell_type": "code",
   "execution_count": null,
   "metadata": {},
   "outputs": [],
   "source": []
  }
 ],
 "metadata": {
  "kernelspec": {
   "display_name": "R [conda env:R_ATACseq2]",
   "language": "R",
   "name": "conda-env-R_ATACseq2-r"
  },
  "language_info": {
   "codemirror_mode": "r",
   "file_extension": ".r",
   "mimetype": "text/x-r-source",
   "name": "R",
   "pygments_lexer": "r",
   "version": "3.6.1"
  }
 },
 "nbformat": 4,
 "nbformat_minor": 4
}
