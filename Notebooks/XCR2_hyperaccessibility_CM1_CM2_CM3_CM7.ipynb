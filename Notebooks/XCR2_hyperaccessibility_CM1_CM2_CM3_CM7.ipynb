{
 "cells": [
  {
   "cell_type": "code",
   "execution_count": 1,
   "metadata": {
    "collapsed": true,
    "jupyter": {
     "outputs_hidden": true
    }
   },
   "outputs": [
    {
     "name": "stderr",
     "output_type": "stream",
     "text": [
      "Registered S3 methods overwritten by 'ggplot2':\n",
      "  method         from \n",
      "  [.quosures     rlang\n",
      "  c.quosures     rlang\n",
      "  print.quosures rlang\n",
      "\n",
      "Attaching package: 'dplyr'\n",
      "\n",
      "The following objects are masked from 'package:stats':\n",
      "\n",
      "    filter, lag\n",
      "\n",
      "The following objects are masked from 'package:base':\n",
      "\n",
      "    intersect, setdiff, setequal, union\n",
      "\n",
      "Loading required package: S4Vectors\n",
      "Loading required package: stats4\n",
      "Loading required package: BiocGenerics\n",
      "Loading required package: parallel\n",
      "\n",
      "Attaching package: 'BiocGenerics'\n",
      "\n",
      "The following objects are masked from 'package:parallel':\n",
      "\n",
      "    clusterApply, clusterApplyLB, clusterCall, clusterEvalQ,\n",
      "    clusterExport, clusterMap, parApply, parCapply, parLapply,\n",
      "    parLapplyLB, parRapply, parSapply, parSapplyLB\n",
      "\n",
      "The following objects are masked from 'package:dplyr':\n",
      "\n",
      "    combine, intersect, setdiff, union\n",
      "\n",
      "The following objects are masked from 'package:stats':\n",
      "\n",
      "    IQR, mad, sd, var, xtabs\n",
      "\n",
      "The following objects are masked from 'package:base':\n",
      "\n",
      "    Filter, Find, Map, Position, Reduce, anyDuplicated, append,\n",
      "    as.data.frame, basename, cbind, colnames, dirname, do.call,\n",
      "    duplicated, eval, evalq, get, grep, grepl, intersect, is.unsorted,\n",
      "    lapply, mapply, match, mget, order, paste, pmax, pmax.int, pmin,\n",
      "    pmin.int, rank, rbind, rownames, sapply, setdiff, sort, table,\n",
      "    tapply, union, unique, unsplit, which, which.max, which.min\n",
      "\n",
      "\n",
      "Attaching package: 'S4Vectors'\n",
      "\n",
      "The following objects are masked from 'package:dplyr':\n",
      "\n",
      "    first, rename\n",
      "\n",
      "The following object is masked from 'package:base':\n",
      "\n",
      "    expand.grid\n",
      "\n",
      "Loading required package: IRanges\n",
      "\n",
      "Attaching package: 'IRanges'\n",
      "\n",
      "The following objects are masked from 'package:dplyr':\n",
      "\n",
      "    collapse, desc, slice\n",
      "\n",
      "Loading required package: GenomicRanges\n",
      "Loading required package: GenomeInfoDb\n",
      "Loading required package: SummarizedExperiment\n",
      "Loading required package: Biobase\n",
      "Welcome to Bioconductor\n",
      "\n",
      "    Vignettes contain introductory material; view with\n",
      "    'browseVignettes()'. To cite Bioconductor, see\n",
      "    'citation(\"Biobase\")', and for packages 'citation(\"pkgname\")'.\n",
      "\n",
      "Loading required package: DelayedArray\n",
      "Loading required package: matrixStats\n",
      "\n",
      "Attaching package: 'matrixStats'\n",
      "\n",
      "The following objects are masked from 'package:Biobase':\n",
      "\n",
      "    anyMissing, rowMedians\n",
      "\n",
      "The following object is masked from 'package:dplyr':\n",
      "\n",
      "    count\n",
      "\n",
      "Loading required package: BiocParallel\n",
      "\n",
      "Attaching package: 'DelayedArray'\n",
      "\n",
      "The following objects are masked from 'package:matrixStats':\n",
      "\n",
      "    colMaxs, colMins, colRanges, rowMaxs, rowMins, rowRanges\n",
      "\n",
      "The following objects are masked from 'package:base':\n",
      "\n",
      "    aperm, apply, rowsum\n",
      "\n",
      "Registered S3 method overwritten by 'openssl':\n",
      "  method      from\n",
      "  print.bytes Rcpp\n",
      "\n",
      "\n",
      "Attaching package: 'tidyr'\n",
      "\n",
      "The following object is masked from 'package:S4Vectors':\n",
      "\n",
      "    expand\n",
      "\n",
      "Loading required package: viridisLite\n",
      "\n",
      "Attaching package: 'gplots'\n",
      "\n",
      "The following object is masked from 'package:IRanges':\n",
      "\n",
      "    space\n",
      "\n",
      "The following object is masked from 'package:S4Vectors':\n",
      "\n",
      "    space\n",
      "\n",
      "The following object is masked from 'package:stats':\n",
      "\n",
      "    lowess\n",
      "\n"
     ]
    }
   ],
   "source": [
    "library(ggplot2)\n",
    "library(dplyr)\n",
    "library(readr)\n",
    "library(DESeq2)\n",
    "library(DiffBind)\n",
    "library(tidyr)\n",
    "library(wesanderson)\n",
    "library(viridis)\n",
    "library(gplots)"
   ]
  },
  {
   "cell_type": "code",
   "execution_count": 2,
   "metadata": {},
   "outputs": [],
   "source": [
    "setwd(\"/lustre1/project/stg_00041/Adrian/AJ_0075_XCU_SONG_DATA/ATAC_seq/\")"
   ]
  },
  {
   "cell_type": "code",
   "execution_count": 3,
   "metadata": {},
   "outputs": [],
   "source": [
    "song_mesc_atac <- read.csv(\"AJ_0075_ATAC_XX_XY_allelic_data_norm.csv\")"
   ]
  },
  {
   "cell_type": "code",
   "execution_count": 4,
   "metadata": {},
   "outputs": [
    {
     "data": {
      "text/html": [
       "<table>\n",
       "<thead><tr><th scope=col>X</th><th scope=col>cell_type</th><th scope=col>total_reads_per_sample</th><th scope=col>region_id</th><th scope=col>seqnames</th><th scope=col>start</th><th scope=col>end</th><th scope=col>accessibility_genome1</th><th scope=col>accessibility_genome2</th><th scope=col>sumReads</th><th scope=col>acc_gen1_norm</th><th scope=col>acc_gen2_norm</th><th scope=col>sumReads_norm</th></tr></thead>\n",
       "<tbody>\n",
       "\t<tr><td>1         </td><td>CM1       </td><td>4988564   </td><td>1         </td><td>chr1      </td><td>3008518   </td><td>3008729   </td><td> 1        </td><td>1         </td><td> 2        </td><td>0.01984758</td><td>0.01984758</td><td>0.03930888</td></tr>\n",
       "\t<tr><td>2         </td><td>CM1       </td><td>4988564   </td><td>2         </td><td>chr1      </td><td>3012678   </td><td>3012785   </td><td> 1        </td><td>1         </td><td> 2        </td><td>0.01984758</td><td>0.01984758</td><td>0.03930888</td></tr>\n",
       "\t<tr><td>3         </td><td>CM1       </td><td>4988564   </td><td>3         </td><td>chr1      </td><td>3027133   </td><td>3027524   </td><td> 1        </td><td>3         </td><td> 4        </td><td>0.01984758</td><td>0.05839866</td><td>0.07713084</td></tr>\n",
       "\t<tr><td>4         </td><td>CM1       </td><td>4988564   </td><td>4         </td><td>chr1      </td><td>3035676   </td><td>3035918   </td><td> 4        </td><td>1         </td><td> 5        </td><td>0.07713084</td><td>0.01984758</td><td>0.09551856</td></tr>\n",
       "\t<tr><td>5         </td><td>CM1       </td><td>4988564   </td><td>5         </td><td>chr1      </td><td>3062439   </td><td>3062745   </td><td>11        </td><td>5         </td><td>16        </td><td>0.19926416</td><td>0.09551856</td><td>0.27818733</td></tr>\n",
       "\t<tr><td>6         </td><td>CM1       </td><td>4988564   </td><td>6         </td><td>chr1      </td><td>3062895   </td><td>3063027   </td><td> 2        </td><td>1         </td><td> 3        </td><td>0.03930888</td><td>0.01984758</td><td>0.05839866</td></tr>\n",
       "</tbody>\n",
       "</table>\n"
      ],
      "text/latex": [
       "\\begin{tabular}{r|lllllllllllll}\n",
       " X & cell\\_type & total\\_reads\\_per\\_sample & region\\_id & seqnames & start & end & accessibility\\_genome1 & accessibility\\_genome2 & sumReads & acc\\_gen1\\_norm & acc\\_gen2\\_norm & sumReads\\_norm\\\\\n",
       "\\hline\n",
       "\t 1          & CM1        & 4988564    & 1          & chr1       & 3008518    & 3008729    &  1         & 1          &  2         & 0.01984758 & 0.01984758 & 0.03930888\\\\\n",
       "\t 2          & CM1        & 4988564    & 2          & chr1       & 3012678    & 3012785    &  1         & 1          &  2         & 0.01984758 & 0.01984758 & 0.03930888\\\\\n",
       "\t 3          & CM1        & 4988564    & 3          & chr1       & 3027133    & 3027524    &  1         & 3          &  4         & 0.01984758 & 0.05839866 & 0.07713084\\\\\n",
       "\t 4          & CM1        & 4988564    & 4          & chr1       & 3035676    & 3035918    &  4         & 1          &  5         & 0.07713084 & 0.01984758 & 0.09551856\\\\\n",
       "\t 5          & CM1        & 4988564    & 5          & chr1       & 3062439    & 3062745    & 11         & 5          & 16         & 0.19926416 & 0.09551856 & 0.27818733\\\\\n",
       "\t 6          & CM1        & 4988564    & 6          & chr1       & 3062895    & 3063027    &  2         & 1          &  3         & 0.03930888 & 0.01984758 & 0.05839866\\\\\n",
       "\\end{tabular}\n"
      ],
      "text/markdown": [
       "\n",
       "| X | cell_type | total_reads_per_sample | region_id | seqnames | start | end | accessibility_genome1 | accessibility_genome2 | sumReads | acc_gen1_norm | acc_gen2_norm | sumReads_norm |\n",
       "|---|---|---|---|---|---|---|---|---|---|---|---|---|\n",
       "| 1          | CM1        | 4988564    | 1          | chr1       | 3008518    | 3008729    |  1         | 1          |  2         | 0.01984758 | 0.01984758 | 0.03930888 |\n",
       "| 2          | CM1        | 4988564    | 2          | chr1       | 3012678    | 3012785    |  1         | 1          |  2         | 0.01984758 | 0.01984758 | 0.03930888 |\n",
       "| 3          | CM1        | 4988564    | 3          | chr1       | 3027133    | 3027524    |  1         | 3          |  4         | 0.01984758 | 0.05839866 | 0.07713084 |\n",
       "| 4          | CM1        | 4988564    | 4          | chr1       | 3035676    | 3035918    |  4         | 1          |  5         | 0.07713084 | 0.01984758 | 0.09551856 |\n",
       "| 5          | CM1        | 4988564    | 5          | chr1       | 3062439    | 3062745    | 11         | 5          | 16         | 0.19926416 | 0.09551856 | 0.27818733 |\n",
       "| 6          | CM1        | 4988564    | 6          | chr1       | 3062895    | 3063027    |  2         | 1          |  3         | 0.03930888 | 0.01984758 | 0.05839866 |\n",
       "\n"
      ],
      "text/plain": [
       "  X cell_type total_reads_per_sample region_id seqnames start   end    \n",
       "1 1 CM1       4988564                1         chr1     3008518 3008729\n",
       "2 2 CM1       4988564                2         chr1     3012678 3012785\n",
       "3 3 CM1       4988564                3         chr1     3027133 3027524\n",
       "4 4 CM1       4988564                4         chr1     3035676 3035918\n",
       "5 5 CM1       4988564                5         chr1     3062439 3062745\n",
       "6 6 CM1       4988564                6         chr1     3062895 3063027\n",
       "  accessibility_genome1 accessibility_genome2 sumReads acc_gen1_norm\n",
       "1  1                    1                      2       0.01984758   \n",
       "2  1                    1                      2       0.01984758   \n",
       "3  1                    3                      4       0.01984758   \n",
       "4  4                    1                      5       0.07713084   \n",
       "5 11                    5                     16       0.19926416   \n",
       "6  2                    1                      3       0.03930888   \n",
       "  acc_gen2_norm sumReads_norm\n",
       "1 0.01984758    0.03930888   \n",
       "2 0.01984758    0.03930888   \n",
       "3 0.05839866    0.07713084   \n",
       "4 0.01984758    0.09551856   \n",
       "5 0.09551856    0.27818733   \n",
       "6 0.01984758    0.05839866   "
      ]
     },
     "metadata": {},
     "output_type": "display_data"
    }
   ],
   "source": [
    "head(song_mesc_atac)"
   ]
  },
  {
   "cell_type": "code",
   "execution_count": 5,
   "metadata": {},
   "outputs": [],
   "source": [
    "names(song_mesc_atac)[names(song_mesc_atac) == 'seqnames'] <- 'chr'"
   ]
  },
  {
   "cell_type": "code",
   "execution_count": 6,
   "metadata": {},
   "outputs": [
    {
     "data": {
      "text/html": [
       "<table>\n",
       "<thead><tr><th scope=col>X</th><th scope=col>cell_type</th><th scope=col>total_reads_per_sample</th><th scope=col>region_id</th><th scope=col>chr</th><th scope=col>start</th><th scope=col>end</th><th scope=col>accessibility_genome1</th><th scope=col>accessibility_genome2</th><th scope=col>sumReads</th><th scope=col>acc_gen1_norm</th><th scope=col>acc_gen2_norm</th><th scope=col>sumReads_norm</th></tr></thead>\n",
       "<tbody>\n",
       "\t<tr><td>1         </td><td>CM1       </td><td>4988564   </td><td>1         </td><td>chr1      </td><td>3008518   </td><td>3008729   </td><td> 1        </td><td>1         </td><td> 2        </td><td>0.01984758</td><td>0.01984758</td><td>0.03930888</td></tr>\n",
       "\t<tr><td>2         </td><td>CM1       </td><td>4988564   </td><td>2         </td><td>chr1      </td><td>3012678   </td><td>3012785   </td><td> 1        </td><td>1         </td><td> 2        </td><td>0.01984758</td><td>0.01984758</td><td>0.03930888</td></tr>\n",
       "\t<tr><td>3         </td><td>CM1       </td><td>4988564   </td><td>3         </td><td>chr1      </td><td>3027133   </td><td>3027524   </td><td> 1        </td><td>3         </td><td> 4        </td><td>0.01984758</td><td>0.05839866</td><td>0.07713084</td></tr>\n",
       "\t<tr><td>4         </td><td>CM1       </td><td>4988564   </td><td>4         </td><td>chr1      </td><td>3035676   </td><td>3035918   </td><td> 4        </td><td>1         </td><td> 5        </td><td>0.07713084</td><td>0.01984758</td><td>0.09551856</td></tr>\n",
       "\t<tr><td>5         </td><td>CM1       </td><td>4988564   </td><td>5         </td><td>chr1      </td><td>3062439   </td><td>3062745   </td><td>11        </td><td>5         </td><td>16        </td><td>0.19926416</td><td>0.09551856</td><td>0.27818733</td></tr>\n",
       "\t<tr><td>6         </td><td>CM1       </td><td>4988564   </td><td>6         </td><td>chr1      </td><td>3062895   </td><td>3063027   </td><td> 2        </td><td>1         </td><td> 3        </td><td>0.03930888</td><td>0.01984758</td><td>0.05839866</td></tr>\n",
       "</tbody>\n",
       "</table>\n"
      ],
      "text/latex": [
       "\\begin{tabular}{r|lllllllllllll}\n",
       " X & cell\\_type & total\\_reads\\_per\\_sample & region\\_id & chr & start & end & accessibility\\_genome1 & accessibility\\_genome2 & sumReads & acc\\_gen1\\_norm & acc\\_gen2\\_norm & sumReads\\_norm\\\\\n",
       "\\hline\n",
       "\t 1          & CM1        & 4988564    & 1          & chr1       & 3008518    & 3008729    &  1         & 1          &  2         & 0.01984758 & 0.01984758 & 0.03930888\\\\\n",
       "\t 2          & CM1        & 4988564    & 2          & chr1       & 3012678    & 3012785    &  1         & 1          &  2         & 0.01984758 & 0.01984758 & 0.03930888\\\\\n",
       "\t 3          & CM1        & 4988564    & 3          & chr1       & 3027133    & 3027524    &  1         & 3          &  4         & 0.01984758 & 0.05839866 & 0.07713084\\\\\n",
       "\t 4          & CM1        & 4988564    & 4          & chr1       & 3035676    & 3035918    &  4         & 1          &  5         & 0.07713084 & 0.01984758 & 0.09551856\\\\\n",
       "\t 5          & CM1        & 4988564    & 5          & chr1       & 3062439    & 3062745    & 11         & 5          & 16         & 0.19926416 & 0.09551856 & 0.27818733\\\\\n",
       "\t 6          & CM1        & 4988564    & 6          & chr1       & 3062895    & 3063027    &  2         & 1          &  3         & 0.03930888 & 0.01984758 & 0.05839866\\\\\n",
       "\\end{tabular}\n"
      ],
      "text/markdown": [
       "\n",
       "| X | cell_type | total_reads_per_sample | region_id | chr | start | end | accessibility_genome1 | accessibility_genome2 | sumReads | acc_gen1_norm | acc_gen2_norm | sumReads_norm |\n",
       "|---|---|---|---|---|---|---|---|---|---|---|---|---|\n",
       "| 1          | CM1        | 4988564    | 1          | chr1       | 3008518    | 3008729    |  1         | 1          |  2         | 0.01984758 | 0.01984758 | 0.03930888 |\n",
       "| 2          | CM1        | 4988564    | 2          | chr1       | 3012678    | 3012785    |  1         | 1          |  2         | 0.01984758 | 0.01984758 | 0.03930888 |\n",
       "| 3          | CM1        | 4988564    | 3          | chr1       | 3027133    | 3027524    |  1         | 3          |  4         | 0.01984758 | 0.05839866 | 0.07713084 |\n",
       "| 4          | CM1        | 4988564    | 4          | chr1       | 3035676    | 3035918    |  4         | 1          |  5         | 0.07713084 | 0.01984758 | 0.09551856 |\n",
       "| 5          | CM1        | 4988564    | 5          | chr1       | 3062439    | 3062745    | 11         | 5          | 16         | 0.19926416 | 0.09551856 | 0.27818733 |\n",
       "| 6          | CM1        | 4988564    | 6          | chr1       | 3062895    | 3063027    |  2         | 1          |  3         | 0.03930888 | 0.01984758 | 0.05839866 |\n",
       "\n"
      ],
      "text/plain": [
       "  X cell_type total_reads_per_sample region_id chr  start   end    \n",
       "1 1 CM1       4988564                1         chr1 3008518 3008729\n",
       "2 2 CM1       4988564                2         chr1 3012678 3012785\n",
       "3 3 CM1       4988564                3         chr1 3027133 3027524\n",
       "4 4 CM1       4988564                4         chr1 3035676 3035918\n",
       "5 5 CM1       4988564                5         chr1 3062439 3062745\n",
       "6 6 CM1       4988564                6         chr1 3062895 3063027\n",
       "  accessibility_genome1 accessibility_genome2 sumReads acc_gen1_norm\n",
       "1  1                    1                      2       0.01984758   \n",
       "2  1                    1                      2       0.01984758   \n",
       "3  1                    3                      4       0.01984758   \n",
       "4  4                    1                      5       0.07713084   \n",
       "5 11                    5                     16       0.19926416   \n",
       "6  2                    1                      3       0.03930888   \n",
       "  acc_gen2_norm sumReads_norm\n",
       "1 0.01984758    0.03930888   \n",
       "2 0.01984758    0.03930888   \n",
       "3 0.05839866    0.07713084   \n",
       "4 0.01984758    0.09551856   \n",
       "5 0.09551856    0.27818733   \n",
       "6 0.01984758    0.05839866   "
      ]
     },
     "metadata": {},
     "output_type": "display_data"
    }
   ],
   "source": [
    "head(song_mesc_atac)"
   ]
  },
  {
   "cell_type": "code",
   "execution_count": 7,
   "metadata": {},
   "outputs": [
    {
     "data": {
      "text/html": [
       "<ol class=list-inline>\n",
       "\t<li>4988564</li>\n",
       "\t<li>4099695</li>\n",
       "\t<li>6985349</li>\n",
       "\t<li>4268510</li>\n",
       "</ol>\n"
      ],
      "text/latex": [
       "\\begin{enumerate*}\n",
       "\\item 4988564\n",
       "\\item 4099695\n",
       "\\item 6985349\n",
       "\\item 4268510\n",
       "\\end{enumerate*}\n"
      ],
      "text/markdown": [
       "1. 4988564\n",
       "2. 4099695\n",
       "3. 6985349\n",
       "4. 4268510\n",
       "\n",
       "\n"
      ],
      "text/plain": [
       "[1] 4988564 4099695 6985349 4268510"
      ]
     },
     "metadata": {},
     "output_type": "display_data"
    }
   ],
   "source": [
    "unique(song_mesc_atac$total_reads_per_sample)"
   ]
  },
  {
   "cell_type": "code",
   "execution_count": 8,
   "metadata": {},
   "outputs": [],
   "source": [
    "song_mesc_atac$cell_type <- factor(song_mesc_atac$cell_type, levels=c('CM1', 'CM2', 'CM3', 'CM7'))"
   ]
  },
  {
   "cell_type": "code",
   "execution_count": 9,
   "metadata": {},
   "outputs": [
    {
     "data": {
      "text/html": [
       "1632440"
      ],
      "text/latex": [
       "1632440"
      ],
      "text/markdown": [
       "1632440"
      ],
      "text/plain": [
       "[1] 1632440"
      ]
     },
     "metadata": {},
     "output_type": "display_data"
    }
   ],
   "source": [
    "nrow(song_mesc_atac)"
   ]
  },
  {
   "cell_type": "code",
   "execution_count": 10,
   "metadata": {},
   "outputs": [],
   "source": [
    "song_mesc_atac$mus_norm <- log1p((song_mesc_atac$accessibility_genome1/song_mesc_atac$total_reads_per_sample)*10000)"
   ]
  },
  {
   "cell_type": "code",
   "execution_count": 15,
   "metadata": {},
   "outputs": [],
   "source": [
    "song_mesc_atac$cast_norm <- log1p((song_mesc_atac$accessibility_genome2/song_mesc_atac$total_reads_per_sample)*10000)"
   ]
  },
  {
   "cell_type": "code",
   "execution_count": 16,
   "metadata": {},
   "outputs": [
    {
     "data": {
      "text/html": [
       "<table>\n",
       "<thead><tr><th scope=col>X</th><th scope=col>cell_type</th><th scope=col>total_reads_per_sample</th><th scope=col>region_id</th><th scope=col>chr</th><th scope=col>start</th><th scope=col>end</th><th scope=col>accessibility_genome1</th><th scope=col>accessibility_genome2</th><th scope=col>sumReads</th><th scope=col>acc_gen1_norm</th><th scope=col>acc_gen2_norm</th><th scope=col>sumReads_norm</th><th scope=col>mus_norm</th><th scope=col>cast_norm</th></tr></thead>\n",
       "<tbody>\n",
       "\t<tr><td>1          </td><td>CM1        </td><td>4988564    </td><td>1          </td><td>chr1       </td><td>3008518    </td><td>3008729    </td><td> 1         </td><td>1          </td><td> 2         </td><td>0.01984758 </td><td>0.01984758 </td><td>0.03930888 </td><td>0.002002578</td><td>0.002002578</td></tr>\n",
       "\t<tr><td>2          </td><td>CM1        </td><td>4988564    </td><td>2          </td><td>chr1       </td><td>3012678    </td><td>3012785    </td><td> 1         </td><td>1          </td><td> 2         </td><td>0.01984758 </td><td>0.01984758 </td><td>0.03930888 </td><td>0.002002578</td><td>0.002002578</td></tr>\n",
       "\t<tr><td>3          </td><td>CM1        </td><td>4988564    </td><td>3          </td><td>chr1       </td><td>3027133    </td><td>3027524    </td><td> 1         </td><td>3          </td><td> 4         </td><td>0.01984758 </td><td>0.05839866 </td><td>0.07713084 </td><td>0.002002578</td><td>0.005995744</td></tr>\n",
       "\t<tr><td>4          </td><td>CM1        </td><td>4988564    </td><td>4          </td><td>chr1       </td><td>3035676    </td><td>3035918    </td><td> 4         </td><td>1          </td><td> 5         </td><td>0.07713084 </td><td>0.01984758 </td><td>0.09551856 </td><td>0.007986363</td><td>0.002002578</td></tr>\n",
       "\t<tr><td>5          </td><td>CM1        </td><td>4988564    </td><td>5          </td><td>chr1       </td><td>3062439    </td><td>3062745    </td><td>11         </td><td>5          </td><td>16         </td><td>0.19926416 </td><td>0.09551856 </td><td>0.27818733 </td><td>0.021810839</td><td>0.009973028</td></tr>\n",
       "\t<tr><td>6          </td><td>CM1        </td><td>4988564    </td><td>6          </td><td>chr1       </td><td>3062895    </td><td>3063027    </td><td> 2         </td><td>1          </td><td> 3         </td><td>0.03930888 </td><td>0.01984758 </td><td>0.05839866 </td><td>0.004001154</td><td>0.002002578</td></tr>\n",
       "</tbody>\n",
       "</table>\n"
      ],
      "text/latex": [
       "\\begin{tabular}{r|lllllllllllllll}\n",
       " X & cell\\_type & total\\_reads\\_per\\_sample & region\\_id & chr & start & end & accessibility\\_genome1 & accessibility\\_genome2 & sumReads & acc\\_gen1\\_norm & acc\\_gen2\\_norm & sumReads\\_norm & mus\\_norm & cast\\_norm\\\\\n",
       "\\hline\n",
       "\t 1           & CM1         & 4988564     & 1           & chr1        & 3008518     & 3008729     &  1          & 1           &  2          & 0.01984758  & 0.01984758  & 0.03930888  & 0.002002578 & 0.002002578\\\\\n",
       "\t 2           & CM1         & 4988564     & 2           & chr1        & 3012678     & 3012785     &  1          & 1           &  2          & 0.01984758  & 0.01984758  & 0.03930888  & 0.002002578 & 0.002002578\\\\\n",
       "\t 3           & CM1         & 4988564     & 3           & chr1        & 3027133     & 3027524     &  1          & 3           &  4          & 0.01984758  & 0.05839866  & 0.07713084  & 0.002002578 & 0.005995744\\\\\n",
       "\t 4           & CM1         & 4988564     & 4           & chr1        & 3035676     & 3035918     &  4          & 1           &  5          & 0.07713084  & 0.01984758  & 0.09551856  & 0.007986363 & 0.002002578\\\\\n",
       "\t 5           & CM1         & 4988564     & 5           & chr1        & 3062439     & 3062745     & 11          & 5           & 16          & 0.19926416  & 0.09551856  & 0.27818733  & 0.021810839 & 0.009973028\\\\\n",
       "\t 6           & CM1         & 4988564     & 6           & chr1        & 3062895     & 3063027     &  2          & 1           &  3          & 0.03930888  & 0.01984758  & 0.05839866  & 0.004001154 & 0.002002578\\\\\n",
       "\\end{tabular}\n"
      ],
      "text/markdown": [
       "\n",
       "| X | cell_type | total_reads_per_sample | region_id | chr | start | end | accessibility_genome1 | accessibility_genome2 | sumReads | acc_gen1_norm | acc_gen2_norm | sumReads_norm | mus_norm | cast_norm |\n",
       "|---|---|---|---|---|---|---|---|---|---|---|---|---|---|---|\n",
       "| 1           | CM1         | 4988564     | 1           | chr1        | 3008518     | 3008729     |  1          | 1           |  2          | 0.01984758  | 0.01984758  | 0.03930888  | 0.002002578 | 0.002002578 |\n",
       "| 2           | CM1         | 4988564     | 2           | chr1        | 3012678     | 3012785     |  1          | 1           |  2          | 0.01984758  | 0.01984758  | 0.03930888  | 0.002002578 | 0.002002578 |\n",
       "| 3           | CM1         | 4988564     | 3           | chr1        | 3027133     | 3027524     |  1          | 3           |  4          | 0.01984758  | 0.05839866  | 0.07713084  | 0.002002578 | 0.005995744 |\n",
       "| 4           | CM1         | 4988564     | 4           | chr1        | 3035676     | 3035918     |  4          | 1           |  5          | 0.07713084  | 0.01984758  | 0.09551856  | 0.007986363 | 0.002002578 |\n",
       "| 5           | CM1         | 4988564     | 5           | chr1        | 3062439     | 3062745     | 11          | 5           | 16          | 0.19926416  | 0.09551856  | 0.27818733  | 0.021810839 | 0.009973028 |\n",
       "| 6           | CM1         | 4988564     | 6           | chr1        | 3062895     | 3063027     |  2          | 1           |  3          | 0.03930888  | 0.01984758  | 0.05839866  | 0.004001154 | 0.002002578 |\n",
       "\n"
      ],
      "text/plain": [
       "  X cell_type total_reads_per_sample region_id chr  start   end    \n",
       "1 1 CM1       4988564                1         chr1 3008518 3008729\n",
       "2 2 CM1       4988564                2         chr1 3012678 3012785\n",
       "3 3 CM1       4988564                3         chr1 3027133 3027524\n",
       "4 4 CM1       4988564                4         chr1 3035676 3035918\n",
       "5 5 CM1       4988564                5         chr1 3062439 3062745\n",
       "6 6 CM1       4988564                6         chr1 3062895 3063027\n",
       "  accessibility_genome1 accessibility_genome2 sumReads acc_gen1_norm\n",
       "1  1                    1                      2       0.01984758   \n",
       "2  1                    1                      2       0.01984758   \n",
       "3  1                    3                      4       0.01984758   \n",
       "4  4                    1                      5       0.07713084   \n",
       "5 11                    5                     16       0.19926416   \n",
       "6  2                    1                      3       0.03930888   \n",
       "  acc_gen2_norm sumReads_norm mus_norm    cast_norm  \n",
       "1 0.01984758    0.03930888    0.002002578 0.002002578\n",
       "2 0.01984758    0.03930888    0.002002578 0.002002578\n",
       "3 0.05839866    0.07713084    0.002002578 0.005995744\n",
       "4 0.01984758    0.09551856    0.007986363 0.002002578\n",
       "5 0.09551856    0.27818733    0.021810839 0.009973028\n",
       "6 0.01984758    0.05839866    0.004001154 0.002002578"
      ]
     },
     "metadata": {},
     "output_type": "display_data"
    }
   ],
   "source": [
    "head(song_mesc_atac)"
   ]
  },
  {
   "cell_type": "code",
   "execution_count": 17,
   "metadata": {},
   "outputs": [],
   "source": [
    "song_mesc_atac_X <- song_mesc_atac[ which(song_mesc_atac$chr=='chrX' & song_mesc_atac$sumReads >= 10),]\n",
    "\n",
    "song_mesc_atac_A <- song_mesc_atac[ which(song_mesc_atac$chr!= \"chrX\" & song_mesc_atac$chr!= \"chrY\" &  song_mesc_atac$sumReads >= 10),]"
   ]
  },
  {
   "cell_type": "code",
   "execution_count": 18,
   "metadata": {},
   "outputs": [],
   "source": [
    "song_mesc_atac_A$chr <- 'Auto'"
   ]
  },
  {
   "cell_type": "code",
   "execution_count": 19,
   "metadata": {},
   "outputs": [
    {
     "data": {
      "text/html": [
       "<table>\n",
       "<thead><tr><th></th><th scope=col>X</th><th scope=col>cell_type</th><th scope=col>total_reads_per_sample</th><th scope=col>region_id</th><th scope=col>chr</th><th scope=col>start</th><th scope=col>end</th><th scope=col>accessibility_genome1</th><th scope=col>accessibility_genome2</th><th scope=col>sumReads</th><th scope=col>acc_gen1_norm</th><th scope=col>acc_gen2_norm</th><th scope=col>sumReads_norm</th><th scope=col>mus_norm</th><th scope=col>cast_norm</th></tr></thead>\n",
       "<tbody>\n",
       "\t<tr><th scope=row>400951</th><td>400951     </td><td>CM1        </td><td>4988564    </td><td>400951     </td><td>chrX       </td><td>5435757    </td><td>5435959    </td><td>10         </td><td>13         </td><td>23         </td><td>0.18270356 </td><td>0.23158465 </td><td>0.3791585  </td><td>0.019847576</td><td>0.025725838</td></tr>\n",
       "\t<tr><th scope=row>400952</th><td>400952     </td><td>CM1        </td><td>4988564    </td><td>400952     </td><td>chrX       </td><td>5436194    </td><td>5436420    </td><td> 6         </td><td>10         </td><td>16         </td><td>0.11357427 </td><td>0.18270356 </td><td>0.2781873  </td><td>0.011955754</td><td>0.019847576</td></tr>\n",
       "\t<tr><th scope=row>400953</th><td>400953     </td><td>CM1        </td><td>4988564    </td><td>400953     </td><td>chrX       </td><td>5467900    </td><td>5468056    </td><td> 3         </td><td> 7         </td><td>10         </td><td>0.05839866 </td><td>0.13130975 </td><td>0.1827036  </td><td>0.005995744</td><td>0.013934556</td></tr>\n",
       "\t<tr><th scope=row>400956</th><td>400956     </td><td>CM1        </td><td>4988564    </td><td>400956     </td><td>chrX       </td><td>5925868    </td><td>5926228    </td><td>16         </td><td>11         </td><td>27         </td><td>0.27818733 </td><td>0.19926416 </td><td>0.4325859  </td><td>0.031569748</td><td>0.021810839</td></tr>\n",
       "\t<tr><th scope=row>400961</th><td>400961     </td><td>CM1        </td><td>4988564    </td><td>400961     </td><td>chrX       </td><td>6081829    </td><td>6082130    </td><td> 7         </td><td> 3         </td><td>10         </td><td>0.13130975 </td><td>0.05839866 </td><td>0.1827036  </td><td>0.013934556</td><td>0.005995744</td></tr>\n",
       "\t<tr><th scope=row>400962</th><td>400962     </td><td>CM1        </td><td>4988564    </td><td>400962     </td><td>chrX       </td><td>6083257    </td><td>6083513    </td><td>13         </td><td>11         </td><td>24         </td><td>0.23158465 </td><td>0.19926416 </td><td>0.3927853  </td><td>0.025725838</td><td>0.021810839</td></tr>\n",
       "</tbody>\n",
       "</table>\n"
      ],
      "text/latex": [
       "\\begin{tabular}{r|lllllllllllllll}\n",
       "  & X & cell\\_type & total\\_reads\\_per\\_sample & region\\_id & chr & start & end & accessibility\\_genome1 & accessibility\\_genome2 & sumReads & acc\\_gen1\\_norm & acc\\_gen2\\_norm & sumReads\\_norm & mus\\_norm & cast\\_norm\\\\\n",
       "\\hline\n",
       "\t400951 & 400951      & CM1         & 4988564     & 400951      & chrX        & 5435757     & 5435959     & 10          & 13          & 23          & 0.18270356  & 0.23158465  & 0.3791585   & 0.019847576 & 0.025725838\\\\\n",
       "\t400952 & 400952      & CM1         & 4988564     & 400952      & chrX        & 5436194     & 5436420     &  6          & 10          & 16          & 0.11357427  & 0.18270356  & 0.2781873   & 0.011955754 & 0.019847576\\\\\n",
       "\t400953 & 400953      & CM1         & 4988564     & 400953      & chrX        & 5467900     & 5468056     &  3          &  7          & 10          & 0.05839866  & 0.13130975  & 0.1827036   & 0.005995744 & 0.013934556\\\\\n",
       "\t400956 & 400956      & CM1         & 4988564     & 400956      & chrX        & 5925868     & 5926228     & 16          & 11          & 27          & 0.27818733  & 0.19926416  & 0.4325859   & 0.031569748 & 0.021810839\\\\\n",
       "\t400961 & 400961      & CM1         & 4988564     & 400961      & chrX        & 6081829     & 6082130     &  7          &  3          & 10          & 0.13130975  & 0.05839866  & 0.1827036   & 0.013934556 & 0.005995744\\\\\n",
       "\t400962 & 400962      & CM1         & 4988564     & 400962      & chrX        & 6083257     & 6083513     & 13          & 11          & 24          & 0.23158465  & 0.19926416  & 0.3927853   & 0.025725838 & 0.021810839\\\\\n",
       "\\end{tabular}\n"
      ],
      "text/markdown": [
       "\n",
       "| <!--/--> | X | cell_type | total_reads_per_sample | region_id | chr | start | end | accessibility_genome1 | accessibility_genome2 | sumReads | acc_gen1_norm | acc_gen2_norm | sumReads_norm | mus_norm | cast_norm |\n",
       "|---|---|---|---|---|---|---|---|---|---|---|---|---|---|---|---|\n",
       "| 400951 | 400951      | CM1         | 4988564     | 400951      | chrX        | 5435757     | 5435959     | 10          | 13          | 23          | 0.18270356  | 0.23158465  | 0.3791585   | 0.019847576 | 0.025725838 |\n",
       "| 400952 | 400952      | CM1         | 4988564     | 400952      | chrX        | 5436194     | 5436420     |  6          | 10          | 16          | 0.11357427  | 0.18270356  | 0.2781873   | 0.011955754 | 0.019847576 |\n",
       "| 400953 | 400953      | CM1         | 4988564     | 400953      | chrX        | 5467900     | 5468056     |  3          |  7          | 10          | 0.05839866  | 0.13130975  | 0.1827036   | 0.005995744 | 0.013934556 |\n",
       "| 400956 | 400956      | CM1         | 4988564     | 400956      | chrX        | 5925868     | 5926228     | 16          | 11          | 27          | 0.27818733  | 0.19926416  | 0.4325859   | 0.031569748 | 0.021810839 |\n",
       "| 400961 | 400961      | CM1         | 4988564     | 400961      | chrX        | 6081829     | 6082130     |  7          |  3          | 10          | 0.13130975  | 0.05839866  | 0.1827036   | 0.013934556 | 0.005995744 |\n",
       "| 400962 | 400962      | CM1         | 4988564     | 400962      | chrX        | 6083257     | 6083513     | 13          | 11          | 24          | 0.23158465  | 0.19926416  | 0.3927853   | 0.025725838 | 0.021810839 |\n",
       "\n"
      ],
      "text/plain": [
       "       X      cell_type total_reads_per_sample region_id chr  start   end    \n",
       "400951 400951 CM1       4988564                400951    chrX 5435757 5435959\n",
       "400952 400952 CM1       4988564                400952    chrX 5436194 5436420\n",
       "400953 400953 CM1       4988564                400953    chrX 5467900 5468056\n",
       "400956 400956 CM1       4988564                400956    chrX 5925868 5926228\n",
       "400961 400961 CM1       4988564                400961    chrX 6081829 6082130\n",
       "400962 400962 CM1       4988564                400962    chrX 6083257 6083513\n",
       "       accessibility_genome1 accessibility_genome2 sumReads acc_gen1_norm\n",
       "400951 10                    13                    23       0.18270356   \n",
       "400952  6                    10                    16       0.11357427   \n",
       "400953  3                     7                    10       0.05839866   \n",
       "400956 16                    11                    27       0.27818733   \n",
       "400961  7                     3                    10       0.13130975   \n",
       "400962 13                    11                    24       0.23158465   \n",
       "       acc_gen2_norm sumReads_norm mus_norm    cast_norm  \n",
       "400951 0.23158465    0.3791585     0.019847576 0.025725838\n",
       "400952 0.18270356    0.2781873     0.011955754 0.019847576\n",
       "400953 0.13130975    0.1827036     0.005995744 0.013934556\n",
       "400956 0.19926416    0.4325859     0.031569748 0.021810839\n",
       "400961 0.05839866    0.1827036     0.013934556 0.005995744\n",
       "400962 0.19926416    0.3927853     0.025725838 0.021810839"
      ]
     },
     "metadata": {},
     "output_type": "display_data"
    },
    {
     "data": {
      "text/html": [
       "<table>\n",
       "<thead><tr><th></th><th scope=col>X</th><th scope=col>cell_type</th><th scope=col>total_reads_per_sample</th><th scope=col>region_id</th><th scope=col>chr</th><th scope=col>start</th><th scope=col>end</th><th scope=col>accessibility_genome1</th><th scope=col>accessibility_genome2</th><th scope=col>sumReads</th><th scope=col>acc_gen1_norm</th><th scope=col>acc_gen2_norm</th><th scope=col>sumReads_norm</th><th scope=col>mus_norm</th><th scope=col>cast_norm</th></tr></thead>\n",
       "<tbody>\n",
       "\t<tr><th scope=row>5</th><td> 5         </td><td>CM1        </td><td>4988564    </td><td> 5         </td><td>Auto       </td><td>3062439    </td><td>3062745    </td><td>11         </td><td> 5         </td><td>16         </td><td>0.19926416 </td><td>0.09551856 </td><td>0.2781873  </td><td>0.021810839</td><td>0.009973028</td></tr>\n",
       "\t<tr><th scope=row>29</th><td>29         </td><td>CM1        </td><td>4988564    </td><td>29         </td><td>Auto       </td><td>3483005    </td><td>3483431    </td><td>38         </td><td>31         </td><td>69         </td><td>0.56630324 </td><td>0.48330312 </td><td>0.8684288  </td><td>0.073412368</td><td>0.060287748</td></tr>\n",
       "\t<tr><th scope=row>40</th><td>40         </td><td>CM1        </td><td>4988564    </td><td>40         </td><td>Auto       </td><td>3549564    </td><td>3549737    </td><td> 5         </td><td>22         </td><td>27         </td><td>0.09551856 </td><td>0.36534334 </td><td>0.4325859  </td><td>0.009973028</td><td>0.043156101</td></tr>\n",
       "\t<tr><th scope=row>41</th><td>41         </td><td>CM1        </td><td>4988564    </td><td>41         </td><td>Auto       </td><td>3549987    </td><td>3550219    </td><td> 6         </td><td>13         </td><td>19         </td><td>0.11357427 </td><td>0.23158465 </td><td>0.3227146  </td><td>0.011955754</td><td>0.025725838</td></tr>\n",
       "\t<tr><th scope=row>50</th><td>50         </td><td>CM1        </td><td>4988564    </td><td>50         </td><td>Auto       </td><td>3670543    </td><td>3670681    </td><td> 7         </td><td> 4         </td><td>11         </td><td>0.13130975 </td><td>0.07713084 </td><td>0.1992642  </td><td>0.013934556</td><td>0.007986363</td></tr>\n",
       "\t<tr><th scope=row>51</th><td>51         </td><td>CM1        </td><td>4988564    </td><td>51         </td><td>Auto       </td><td>3671409    </td><td>3671667    </td><td>13         </td><td>23         </td><td>36         </td><td>0.23158465 </td><td>0.37915845 </td><td>0.5432835  </td><td>0.025725838</td><td>0.045074175</td></tr>\n",
       "</tbody>\n",
       "</table>\n"
      ],
      "text/latex": [
       "\\begin{tabular}{r|lllllllllllllll}\n",
       "  & X & cell\\_type & total\\_reads\\_per\\_sample & region\\_id & chr & start & end & accessibility\\_genome1 & accessibility\\_genome2 & sumReads & acc\\_gen1\\_norm & acc\\_gen2\\_norm & sumReads\\_norm & mus\\_norm & cast\\_norm\\\\\n",
       "\\hline\n",
       "\t5 &  5          & CM1         & 4988564     &  5          & Auto        & 3062439     & 3062745     & 11          &  5          & 16          & 0.19926416  & 0.09551856  & 0.2781873   & 0.021810839 & 0.009973028\\\\\n",
       "\t29 & 29          & CM1         & 4988564     & 29          & Auto        & 3483005     & 3483431     & 38          & 31          & 69          & 0.56630324  & 0.48330312  & 0.8684288   & 0.073412368 & 0.060287748\\\\\n",
       "\t40 & 40          & CM1         & 4988564     & 40          & Auto        & 3549564     & 3549737     &  5          & 22          & 27          & 0.09551856  & 0.36534334  & 0.4325859   & 0.009973028 & 0.043156101\\\\\n",
       "\t41 & 41          & CM1         & 4988564     & 41          & Auto        & 3549987     & 3550219     &  6          & 13          & 19          & 0.11357427  & 0.23158465  & 0.3227146   & 0.011955754 & 0.025725838\\\\\n",
       "\t50 & 50          & CM1         & 4988564     & 50          & Auto        & 3670543     & 3670681     &  7          &  4          & 11          & 0.13130975  & 0.07713084  & 0.1992642   & 0.013934556 & 0.007986363\\\\\n",
       "\t51 & 51          & CM1         & 4988564     & 51          & Auto        & 3671409     & 3671667     & 13          & 23          & 36          & 0.23158465  & 0.37915845  & 0.5432835   & 0.025725838 & 0.045074175\\\\\n",
       "\\end{tabular}\n"
      ],
      "text/markdown": [
       "\n",
       "| <!--/--> | X | cell_type | total_reads_per_sample | region_id | chr | start | end | accessibility_genome1 | accessibility_genome2 | sumReads | acc_gen1_norm | acc_gen2_norm | sumReads_norm | mus_norm | cast_norm |\n",
       "|---|---|---|---|---|---|---|---|---|---|---|---|---|---|---|---|\n",
       "| 5 |  5          | CM1         | 4988564     |  5          | Auto        | 3062439     | 3062745     | 11          |  5          | 16          | 0.19926416  | 0.09551856  | 0.2781873   | 0.021810839 | 0.009973028 |\n",
       "| 29 | 29          | CM1         | 4988564     | 29          | Auto        | 3483005     | 3483431     | 38          | 31          | 69          | 0.56630324  | 0.48330312  | 0.8684288   | 0.073412368 | 0.060287748 |\n",
       "| 40 | 40          | CM1         | 4988564     | 40          | Auto        | 3549564     | 3549737     |  5          | 22          | 27          | 0.09551856  | 0.36534334  | 0.4325859   | 0.009973028 | 0.043156101 |\n",
       "| 41 | 41          | CM1         | 4988564     | 41          | Auto        | 3549987     | 3550219     |  6          | 13          | 19          | 0.11357427  | 0.23158465  | 0.3227146   | 0.011955754 | 0.025725838 |\n",
       "| 50 | 50          | CM1         | 4988564     | 50          | Auto        | 3670543     | 3670681     |  7          |  4          | 11          | 0.13130975  | 0.07713084  | 0.1992642   | 0.013934556 | 0.007986363 |\n",
       "| 51 | 51          | CM1         | 4988564     | 51          | Auto        | 3671409     | 3671667     | 13          | 23          | 36          | 0.23158465  | 0.37915845  | 0.5432835   | 0.025725838 | 0.045074175 |\n",
       "\n"
      ],
      "text/plain": [
       "   X  cell_type total_reads_per_sample region_id chr  start   end    \n",
       "5   5 CM1       4988564                 5        Auto 3062439 3062745\n",
       "29 29 CM1       4988564                29        Auto 3483005 3483431\n",
       "40 40 CM1       4988564                40        Auto 3549564 3549737\n",
       "41 41 CM1       4988564                41        Auto 3549987 3550219\n",
       "50 50 CM1       4988564                50        Auto 3670543 3670681\n",
       "51 51 CM1       4988564                51        Auto 3671409 3671667\n",
       "   accessibility_genome1 accessibility_genome2 sumReads acc_gen1_norm\n",
       "5  11                     5                    16       0.19926416   \n",
       "29 38                    31                    69       0.56630324   \n",
       "40  5                    22                    27       0.09551856   \n",
       "41  6                    13                    19       0.11357427   \n",
       "50  7                     4                    11       0.13130975   \n",
       "51 13                    23                    36       0.23158465   \n",
       "   acc_gen2_norm sumReads_norm mus_norm    cast_norm  \n",
       "5  0.09551856    0.2781873     0.021810839 0.009973028\n",
       "29 0.48330312    0.8684288     0.073412368 0.060287748\n",
       "40 0.36534334    0.4325859     0.009973028 0.043156101\n",
       "41 0.23158465    0.3227146     0.011955754 0.025725838\n",
       "50 0.07713084    0.1992642     0.013934556 0.007986363\n",
       "51 0.37915845    0.5432835     0.025725838 0.045074175"
      ]
     },
     "metadata": {},
     "output_type": "display_data"
    }
   ],
   "source": [
    "head(song_mesc_atac_X)\n",
    "head(song_mesc_atac_A)"
   ]
  },
  {
   "cell_type": "code",
   "execution_count": 59,
   "metadata": {},
   "outputs": [],
   "source": [
    "song_mesc_atac_X_A <- rbind(song_mesc_atac_A, song_mesc_atac_X)"
   ]
  },
  {
   "cell_type": "code",
   "execution_count": 60,
   "metadata": {},
   "outputs": [],
   "source": [
    "female_mESCs_CM2 <- subset(song_mesc_atac_X_A, cell_type == 'CM2')\n",
    "male_mESCs_CM7 <- subset(song_mesc_atac_X_A, cell_type == 'CM7')\n",
    "female_mESCs_CM1 <- subset(song_mesc_atac_X_A, cell_type == 'CM1')\n",
    "male_mESCs_CM3 <- subset(song_mesc_atac_X_A, cell_type == 'CM3')"
   ]
  },
  {
   "cell_type": "code",
   "execution_count": 61,
   "metadata": {},
   "outputs": [
    {
     "data": {
      "text/html": [
       "<ol class=list-inline>\n",
       "\t<li>'Auto'</li>\n",
       "\t<li>'chrX'</li>\n",
       "</ol>\n"
      ],
      "text/latex": [
       "\\begin{enumerate*}\n",
       "\\item 'Auto'\n",
       "\\item 'chrX'\n",
       "\\end{enumerate*}\n"
      ],
      "text/markdown": [
       "1. 'Auto'\n",
       "2. 'chrX'\n",
       "\n",
       "\n"
      ],
      "text/plain": [
       "[1] \"Auto\" \"chrX\""
      ]
     },
     "metadata": {},
     "output_type": "display_data"
    }
   ],
   "source": [
    "unique(male_mESCs_CM7$chr)"
   ]
  },
  {
   "cell_type": "code",
   "execution_count": 62,
   "metadata": {},
   "outputs": [
    {
     "data": {
      "text/html": [
       "<table>\n",
       "<thead><tr><th></th><th scope=col>X</th><th scope=col>cell_type</th><th scope=col>total_reads_per_sample</th><th scope=col>region_id</th><th scope=col>chr</th><th scope=col>start</th><th scope=col>end</th><th scope=col>accessibility_genome1</th><th scope=col>accessibility_genome2</th><th scope=col>sumReads</th><th scope=col>acc_gen1_norm</th><th scope=col>acc_gen2_norm</th><th scope=col>sumReads_norm</th><th scope=col>mus_norm</th></tr></thead>\n",
       "<tbody>\n",
       "\t<tr><th scope=row>1224335</th><td>1224335    </td><td>CM7        </td><td>4268510    </td><td> 5         </td><td>Auto       </td><td>3062439    </td><td>3062745    </td><td> 7         </td><td> 3         </td><td>10         </td><td>0.15185518 </td><td>0.06792229 </td><td>0.2104828  </td><td>0.016266151</td></tr>\n",
       "\t<tr><th scope=row>1224359</th><td>1224359    </td><td>CM7        </td><td>4268510    </td><td>29         </td><td>Auto       </td><td>3483005    </td><td>3483431    </td><td>53         </td><td>34         </td><td>87         </td><td>0.80721268 </td><td>0.58585751 </td><td>1.1112593  </td><td>0.117040633</td></tr>\n",
       "\t<tr><th scope=row>1224370</th><td>1224370    </td><td>CM7        </td><td>4268510    </td><td>40         </td><td>Auto       </td><td>3549564    </td><td>3549737    </td><td> 6         </td><td> 9         </td><td>15         </td><td>0.13152312 </td><td>0.19131963 </td><td>0.3011490  </td><td>0.013958552</td></tr>\n",
       "\t<tr><th scope=row>1224371</th><td>1224371    </td><td>CM7        </td><td>4268510    </td><td>41         </td><td>Auto       </td><td>3549987    </td><td>3550219    </td><td> 1         </td><td>12         </td><td>13         </td><td>0.02315717 </td><td>0.24774136 </td><td>0.2658627  </td><td>0.002339998</td></tr>\n",
       "\t<tr><th scope=row>1224381</th><td>1224381    </td><td>CM7        </td><td>4268510    </td><td>51         </td><td>Auto       </td><td>3671409    </td><td>3671667    </td><td>15         </td><td>10         </td><td>25         </td><td>0.30114899 </td><td>0.21048277 </td><td>0.4610162  </td><td>0.034537715</td></tr>\n",
       "\t<tr><th scope=row>1224382</th><td>1224382    </td><td>CM7        </td><td>4268510    </td><td>52         </td><td>Auto       </td><td>3671960    </td><td>3672109    </td><td> 8         </td><td> 3         </td><td>11         </td><td>0.17178207 </td><td>0.06792229 </td><td>0.2292856  </td><td>0.018568437</td></tr>\n",
       "</tbody>\n",
       "</table>\n"
      ],
      "text/latex": [
       "\\begin{tabular}{r|llllllllllllll}\n",
       "  & X & cell\\_type & total\\_reads\\_per\\_sample & region\\_id & chr & start & end & accessibility\\_genome1 & accessibility\\_genome2 & sumReads & acc\\_gen1\\_norm & acc\\_gen2\\_norm & sumReads\\_norm & mus\\_norm\\\\\n",
       "\\hline\n",
       "\t1224335 & 1224335     & CM7         & 4268510     &  5          & Auto        & 3062439     & 3062745     &  7          &  3          & 10          & 0.15185518  & 0.06792229  & 0.2104828   & 0.016266151\\\\\n",
       "\t1224359 & 1224359     & CM7         & 4268510     & 29          & Auto        & 3483005     & 3483431     & 53          & 34          & 87          & 0.80721268  & 0.58585751  & 1.1112593   & 0.117040633\\\\\n",
       "\t1224370 & 1224370     & CM7         & 4268510     & 40          & Auto        & 3549564     & 3549737     &  6          &  9          & 15          & 0.13152312  & 0.19131963  & 0.3011490   & 0.013958552\\\\\n",
       "\t1224371 & 1224371     & CM7         & 4268510     & 41          & Auto        & 3549987     & 3550219     &  1          & 12          & 13          & 0.02315717  & 0.24774136  & 0.2658627   & 0.002339998\\\\\n",
       "\t1224381 & 1224381     & CM7         & 4268510     & 51          & Auto        & 3671409     & 3671667     & 15          & 10          & 25          & 0.30114899  & 0.21048277  & 0.4610162   & 0.034537715\\\\\n",
       "\t1224382 & 1224382     & CM7         & 4268510     & 52          & Auto        & 3671960     & 3672109     &  8          &  3          & 11          & 0.17178207  & 0.06792229  & 0.2292856   & 0.018568437\\\\\n",
       "\\end{tabular}\n"
      ],
      "text/markdown": [
       "\n",
       "| <!--/--> | X | cell_type | total_reads_per_sample | region_id | chr | start | end | accessibility_genome1 | accessibility_genome2 | sumReads | acc_gen1_norm | acc_gen2_norm | sumReads_norm | mus_norm |\n",
       "|---|---|---|---|---|---|---|---|---|---|---|---|---|---|---|\n",
       "| 1224335 | 1224335     | CM7         | 4268510     |  5          | Auto        | 3062439     | 3062745     |  7          |  3          | 10          | 0.15185518  | 0.06792229  | 0.2104828   | 0.016266151 |\n",
       "| 1224359 | 1224359     | CM7         | 4268510     | 29          | Auto        | 3483005     | 3483431     | 53          | 34          | 87          | 0.80721268  | 0.58585751  | 1.1112593   | 0.117040633 |\n",
       "| 1224370 | 1224370     | CM7         | 4268510     | 40          | Auto        | 3549564     | 3549737     |  6          |  9          | 15          | 0.13152312  | 0.19131963  | 0.3011490   | 0.013958552 |\n",
       "| 1224371 | 1224371     | CM7         | 4268510     | 41          | Auto        | 3549987     | 3550219     |  1          | 12          | 13          | 0.02315717  | 0.24774136  | 0.2658627   | 0.002339998 |\n",
       "| 1224381 | 1224381     | CM7         | 4268510     | 51          | Auto        | 3671409     | 3671667     | 15          | 10          | 25          | 0.30114899  | 0.21048277  | 0.4610162   | 0.034537715 |\n",
       "| 1224382 | 1224382     | CM7         | 4268510     | 52          | Auto        | 3671960     | 3672109     |  8          |  3          | 11          | 0.17178207  | 0.06792229  | 0.2292856   | 0.018568437 |\n",
       "\n"
      ],
      "text/plain": [
       "        X       cell_type total_reads_per_sample region_id chr  start   end    \n",
       "1224335 1224335 CM7       4268510                 5        Auto 3062439 3062745\n",
       "1224359 1224359 CM7       4268510                29        Auto 3483005 3483431\n",
       "1224370 1224370 CM7       4268510                40        Auto 3549564 3549737\n",
       "1224371 1224371 CM7       4268510                41        Auto 3549987 3550219\n",
       "1224381 1224381 CM7       4268510                51        Auto 3671409 3671667\n",
       "1224382 1224382 CM7       4268510                52        Auto 3671960 3672109\n",
       "        accessibility_genome1 accessibility_genome2 sumReads acc_gen1_norm\n",
       "1224335  7                     3                    10       0.15185518   \n",
       "1224359 53                    34                    87       0.80721268   \n",
       "1224370  6                     9                    15       0.13152312   \n",
       "1224371  1                    12                    13       0.02315717   \n",
       "1224381 15                    10                    25       0.30114899   \n",
       "1224382  8                     3                    11       0.17178207   \n",
       "        acc_gen2_norm sumReads_norm mus_norm   \n",
       "1224335 0.06792229    0.2104828     0.016266151\n",
       "1224359 0.58585751    1.1112593     0.117040633\n",
       "1224370 0.19131963    0.3011490     0.013958552\n",
       "1224371 0.24774136    0.2658627     0.002339998\n",
       "1224381 0.21048277    0.4610162     0.034537715\n",
       "1224382 0.06792229    0.2292856     0.018568437"
      ]
     },
     "metadata": {},
     "output_type": "display_data"
    }
   ],
   "source": [
    "head(male_mESCs_CM7)"
   ]
  },
  {
   "cell_type": "code",
   "execution_count": 32,
   "metadata": {},
   "outputs": [],
   "source": [
    "#male_mESCs_CM7$chr <- factor(male_mESCs_CM7$chr, levels=c('chrX', 'Auto'))\n",
    "#male_mESCs_CM3$chr <- factor(male_mESCs_CM3$chr, levels=c('chrX', 'Auto'))"
   ]
  },
  {
   "cell_type": "code",
   "execution_count": 35,
   "metadata": {},
   "outputs": [
    {
     "data": {
      "text/html": [
       "<ol class=list-inline>\n",
       "\t<li>Auto</li>\n",
       "\t<li>&lt;NA&gt;</li>\n",
       "</ol>\n",
       "\n",
       "<details>\n",
       "\t<summary style=display:list-item;cursor:pointer>\n",
       "\t\t<strong>Levels</strong>:\n",
       "\t</summary>\n",
       "\t<ol class=list-inline>\n",
       "\t\t<li>'chrX'</li>\n",
       "\t\t<li>'Auto'</li>\n",
       "\t</ol>\n",
       "</details>"
      ],
      "text/latex": [
       "\\begin{enumerate*}\n",
       "\\item Auto\n",
       "\\item <NA>\n",
       "\\end{enumerate*}\n",
       "\n",
       "\\emph{Levels}: \\begin{enumerate*}\n",
       "\\item 'chrX'\n",
       "\\item 'Auto'\n",
       "\\end{enumerate*}\n"
      ],
      "text/markdown": [
       "1. Auto\n",
       "2. &lt;NA&gt;\n",
       "\n",
       "\n",
       "\n",
       "**Levels**: 1. 'chrX'\n",
       "2. 'Auto'\n",
       "\n",
       "\n"
      ],
      "text/plain": [
       "[1] Auto <NA>\n",
       "Levels: chrX Auto"
      ]
     },
     "metadata": {},
     "output_type": "display_data"
    }
   ],
   "source": [
    "#unique(male_mESCs_CM7$chr)"
   ]
  },
  {
   "cell_type": "code",
   "execution_count": 63,
   "metadata": {},
   "outputs": [
    {
     "name": "stderr",
     "output_type": "stream",
     "text": [
      "Warning message:\n",
      "\"Ignoring unknown parameters: outlier.shape\""
     ]
    }
   ],
   "source": [
    "options(repr.plot.width=4, repr.plot.height=5)\n",
    "plot_CM7 <- ggplot(male_mESCs_CM7, aes(x=chr, y=mus_norm, fill=cell_type)) + \n",
    "  \n",
    "geom_violin(scale = \"width\", alpha = 0.7, show.legend=FALSE, outlier.shape = NA) +\n",
    "scale_fill_brewer(palette=\"Pastel1\")+\n",
    "geom_boxplot(width=0.2, fill=\"white\", alpha = 0.5) +\n",
    "    coord_cartesian(ylim = c(0,0.075))+\n",
    "  \n",
    "  scale_colour_brewer(\"Colors in Paired\", palette=\"Pastel1\")+\n",
    "  #geom_jitter(width = 1, alpha = 0.5, show.legend=FALSE, aes(color = sample)) +\n",
    "\n",
    " \n",
    " theme(plot.title = element_text(size=6))+\n",
    "\n",
    "    xlab(\"\") + \n",
    "    ylab(\"Xa and Auto accessibility in CM7\")+\n",
    "\n",
    "    theme(axis.text.x  = element_text(angle=0, vjust=0.5, size=8, color = \"black\"))+\n",
    " theme(axis.text.y  = element_text(color = \"black\"))+\n",
    "    theme(legend.title=element_blank())+\n",
    "    theme(axis.line = element_line(colour = \"black\"),\n",
    "    panel.grid.major = element_line(colour = \"grey82\"),\n",
    "   \n",
    "    panel.border = element_blank(),\n",
    "    panel.background = element_blank())"
   ]
  },
  {
   "cell_type": "code",
   "execution_count": 64,
   "metadata": {},
   "outputs": [
    {
     "data": {
      "image/png": "[encoded data removed]",
      "text/plain": [
       "plot without title"
      ]
     },
     "metadata": {},
     "output_type": "display_data"
    }
   ],
   "source": [
    "plot_CM7"
   ]
  },
  {
   "cell_type": "code",
   "execution_count": 38,
   "metadata": {},
   "outputs": [
    {
     "name": "stderr",
     "output_type": "stream",
     "text": [
      "Warning message:\n",
      "\"Ignoring unknown parameters: outlier.shape\""
     ]
    }
   ],
   "source": [
    "options(repr.plot.width=4, repr.plot.height=5)\n",
    "plot_CM3 <- ggplot(male_mESCs_CM3, aes(x=chr, y=mus_norm, fill=cell_type)) + \n",
    "  \n",
    "geom_violin(scale = \"width\", alpha = 0.7, show.legend=FALSE, outlier.shape = NA) +\n",
    "scale_fill_brewer(palette=\"Pastel1\")+\n",
    "geom_boxplot(width=0.2, fill=\"white\", alpha = 0.5) +\n",
    "    coord_cartesian(ylim = c(0,0.075))+\n",
    "  \n",
    "  scale_colour_brewer(\"Colors in Paired\", palette=\"Pastel1\")+\n",
    "  #geom_jitter(width = 1, alpha = 0.5, show.legend=FALSE, aes(color = sample)) +\n",
    "\n",
    " \n",
    " theme(plot.title = element_text(size=6))+\n",
    "\n",
    "    xlab(\"\") + \n",
    "    ylab(\"Xa and Auto accessibility in CM3\")+\n",
    "\n",
    "    theme(axis.text.x  = element_text(angle=0, vjust=0.5, size=8, color = \"black\"))+\n",
    " theme(axis.text.y  = element_text(color = \"black\"))+\n",
    "    theme(legend.title=element_blank())+\n",
    "    theme(axis.line = element_line(colour = \"black\"),\n",
    "    panel.grid.major = element_line(colour = \"grey82\"),\n",
    "   \n",
    "    panel.border = element_blank(),\n",
    "    panel.background = element_blank())"
   ]
  },
  {
   "cell_type": "code",
   "execution_count": 39,
   "metadata": {},
   "outputs": [
    {
     "data": {
      "image/png": "[encoded data removed]",
      "text/plain": [
       "plot without title"
      ]
     },
     "metadata": {},
     "output_type": "display_data"
    }
   ],
   "source": [
    "plot_CM3"
   ]
  },
  {
   "cell_type": "code",
   "execution_count": 66,
   "metadata": {},
   "outputs": [],
   "source": [
    "test_CM7 <- pairwise.wilcox.test(male_mESCs_CM7$mus_norm, male_mESCs_CM7$chr, p.adjust.method = \"bonferroni\")"
   ]
  },
  {
   "cell_type": "code",
   "execution_count": 67,
   "metadata": {},
   "outputs": [
    {
     "data": {
      "text/html": [
       "<table>\n",
       "<thead><tr><th></th><th scope=col>Auto</th></tr></thead>\n",
       "<tbody>\n",
       "\t<tr><th scope=row>chrX</th><td>2.862895e-154</td></tr>\n",
       "</tbody>\n",
       "</table>\n"
      ],
      "text/latex": [
       "\\begin{tabular}{r|l}\n",
       "  & Auto\\\\\n",
       "\\hline\n",
       "\tchrX & 2.862895e-154\\\\\n",
       "\\end{tabular}\n"
      ],
      "text/markdown": [
       "\n",
       "| <!--/--> | Auto |\n",
       "|---|---|\n",
       "| chrX | 2.862895e-154 |\n",
       "\n"
      ],
      "text/plain": [
       "     Auto         \n",
       "chrX 2.862895e-154"
      ]
     },
     "metadata": {},
     "output_type": "display_data"
    }
   ],
   "source": [
    "test_CM7$p.value"
   ]
  },
  {
   "cell_type": "code",
   "execution_count": 68,
   "metadata": {},
   "outputs": [],
   "source": [
    "test_CM3 <- pairwise.wilcox.test(male_mESCs_CM3$mus_norm, male_mESCs_CM3$chr, p.adjust.method = \"bonferroni\")"
   ]
  },
  {
   "cell_type": "code",
   "execution_count": 69,
   "metadata": {},
   "outputs": [
    {
     "data": {
      "text/html": [
       "<table>\n",
       "<thead><tr><th></th><th scope=col>Auto</th></tr></thead>\n",
       "<tbody>\n",
       "\t<tr><th scope=row>chrX</th><td>4.313212e-241</td></tr>\n",
       "</tbody>\n",
       "</table>\n"
      ],
      "text/latex": [
       "\\begin{tabular}{r|l}\n",
       "  & Auto\\\\\n",
       "\\hline\n",
       "\tchrX & 4.313212e-241\\\\\n",
       "\\end{tabular}\n"
      ],
      "text/markdown": [
       "\n",
       "| <!--/--> | Auto |\n",
       "|---|---|\n",
       "| chrX | 4.313212e-241 |\n",
       "\n"
      ],
      "text/plain": [
       "     Auto         \n",
       "chrX 4.313212e-241"
      ]
     },
     "metadata": {},
     "output_type": "display_data"
    }
   ],
   "source": [
    "test_CM3$p.value"
   ]
  },
  {
   "cell_type": "code",
   "execution_count": 40,
   "metadata": {},
   "outputs": [],
   "source": [
    "ggsave(\"/lustre1/project/stg_00041/Irene/ATAC_analysis/Revisions/Xa_Auto_Mus_acc_mESC_CM3.pdf\", width = 4, height = 5)"
   ]
  },
  {
   "cell_type": "code",
   "execution_count": 70,
   "metadata": {},
   "outputs": [],
   "source": [
    "male_mESCs_CM3_median <- male_mESCs_CM3 %>%\n",
    "  group_by(chr) %>%\n",
    "  summarize(median=median(mus_norm))"
   ]
  },
  {
   "cell_type": "code",
   "execution_count": 71,
   "metadata": {},
   "outputs": [
    {
     "data": {
      "text/html": [
       "<table>\n",
       "<thead><tr><th scope=col>chr</th><th scope=col>median</th></tr></thead>\n",
       "<tbody>\n",
       "\t<tr><td>Auto      </td><td>0.01562454</td></tr>\n",
       "\t<tr><td>chrX      </td><td>0.02264670</td></tr>\n",
       "</tbody>\n",
       "</table>\n"
      ],
      "text/latex": [
       "\\begin{tabular}{r|ll}\n",
       " chr & median\\\\\n",
       "\\hline\n",
       "\t Auto       & 0.01562454\\\\\n",
       "\t chrX       & 0.02264670\\\\\n",
       "\\end{tabular}\n"
      ],
      "text/markdown": [
       "\n",
       "| chr | median |\n",
       "|---|---|\n",
       "| Auto       | 0.01562454 |\n",
       "| chrX       | 0.02264670 |\n",
       "\n"
      ],
      "text/plain": [
       "  chr  median    \n",
       "1 Auto 0.01562454\n",
       "2 chrX 0.02264670"
      ]
     },
     "metadata": {},
     "output_type": "display_data"
    }
   ],
   "source": [
    "male_mESCs_CM3_median"
   ]
  },
  {
   "cell_type": "code",
   "execution_count": 72,
   "metadata": {},
   "outputs": [],
   "source": [
    "male_mESCs_CM7_median <- male_mESCs_CM7 %>%\n",
    "  group_by(chr) %>%\n",
    "  summarize(median=median(mus_norm))"
   ]
  },
  {
   "cell_type": "code",
   "execution_count": 73,
   "metadata": {},
   "outputs": [
    {
     "data": {
      "text/html": [
       "<table>\n",
       "<thead><tr><th scope=col>chr</th><th scope=col>median</th></tr></thead>\n",
       "<tbody>\n",
       "\t<tr><td>Auto      </td><td>0.02315717</td></tr>\n",
       "\t<tr><td>chrX      </td><td>0.03227194</td></tr>\n",
       "</tbody>\n",
       "</table>\n"
      ],
      "text/latex": [
       "\\begin{tabular}{r|ll}\n",
       " chr & median\\\\\n",
       "\\hline\n",
       "\t Auto       & 0.02315717\\\\\n",
       "\t chrX       & 0.03227194\\\\\n",
       "\\end{tabular}\n"
      ],
      "text/markdown": [
       "\n",
       "| chr | median |\n",
       "|---|---|\n",
       "| Auto       | 0.02315717 |\n",
       "| chrX       | 0.03227194 |\n",
       "\n"
      ],
      "text/plain": [
       "  chr  median    \n",
       "1 Auto 0.02315717\n",
       "2 chrX 0.03227194"
      ]
     },
     "metadata": {},
     "output_type": "display_data"
    }
   ],
   "source": [
    "male_mESCs_CM7_median"
   ]
  },
  {
   "cell_type": "markdown",
   "metadata": {},
   "source": [
    "### Compare X-Cast and X-Mus accessibility levels from XX mESCs CM1 and CM2"
   ]
  },
  {
   "cell_type": "code",
   "execution_count": 20,
   "metadata": {},
   "outputs": [
    {
     "data": {
      "text/html": [
       "<table>\n",
       "<thead><tr><th></th><th scope=col>X</th><th scope=col>cell_type</th><th scope=col>total_reads_per_sample</th><th scope=col>region_id</th><th scope=col>chr</th><th scope=col>start</th><th scope=col>end</th><th scope=col>accessibility_genome1</th><th scope=col>accessibility_genome2</th><th scope=col>sumReads</th><th scope=col>acc_gen1_norm</th><th scope=col>acc_gen2_norm</th><th scope=col>sumReads_norm</th><th scope=col>mus_norm</th><th scope=col>cast_norm</th></tr></thead>\n",
       "<tbody>\n",
       "\t<tr><th scope=row>400951</th><td>400951     </td><td>CM1        </td><td>4988564    </td><td>400951     </td><td>chrX       </td><td>5435757    </td><td>5435959    </td><td>10         </td><td>13         </td><td>23         </td><td>0.18270356 </td><td>0.23158465 </td><td>0.3791585  </td><td>0.019847576</td><td>0.025725838</td></tr>\n",
       "\t<tr><th scope=row>400952</th><td>400952     </td><td>CM1        </td><td>4988564    </td><td>400952     </td><td>chrX       </td><td>5436194    </td><td>5436420    </td><td> 6         </td><td>10         </td><td>16         </td><td>0.11357427 </td><td>0.18270356 </td><td>0.2781873  </td><td>0.011955754</td><td>0.019847576</td></tr>\n",
       "\t<tr><th scope=row>400953</th><td>400953     </td><td>CM1        </td><td>4988564    </td><td>400953     </td><td>chrX       </td><td>5467900    </td><td>5468056    </td><td> 3         </td><td> 7         </td><td>10         </td><td>0.05839866 </td><td>0.13130975 </td><td>0.1827036  </td><td>0.005995744</td><td>0.013934556</td></tr>\n",
       "\t<tr><th scope=row>400956</th><td>400956     </td><td>CM1        </td><td>4988564    </td><td>400956     </td><td>chrX       </td><td>5925868    </td><td>5926228    </td><td>16         </td><td>11         </td><td>27         </td><td>0.27818733 </td><td>0.19926416 </td><td>0.4325859  </td><td>0.031569748</td><td>0.021810839</td></tr>\n",
       "\t<tr><th scope=row>400961</th><td>400961     </td><td>CM1        </td><td>4988564    </td><td>400961     </td><td>chrX       </td><td>6081829    </td><td>6082130    </td><td> 7         </td><td> 3         </td><td>10         </td><td>0.13130975 </td><td>0.05839866 </td><td>0.1827036  </td><td>0.013934556</td><td>0.005995744</td></tr>\n",
       "\t<tr><th scope=row>400962</th><td>400962     </td><td>CM1        </td><td>4988564    </td><td>400962     </td><td>chrX       </td><td>6083257    </td><td>6083513    </td><td>13         </td><td>11         </td><td>24         </td><td>0.23158465 </td><td>0.19926416 </td><td>0.3927853  </td><td>0.025725838</td><td>0.021810839</td></tr>\n",
       "</tbody>\n",
       "</table>\n"
      ],
      "text/latex": [
       "\\begin{tabular}{r|lllllllllllllll}\n",
       "  & X & cell\\_type & total\\_reads\\_per\\_sample & region\\_id & chr & start & end & accessibility\\_genome1 & accessibility\\_genome2 & sumReads & acc\\_gen1\\_norm & acc\\_gen2\\_norm & sumReads\\_norm & mus\\_norm & cast\\_norm\\\\\n",
       "\\hline\n",
       "\t400951 & 400951      & CM1         & 4988564     & 400951      & chrX        & 5435757     & 5435959     & 10          & 13          & 23          & 0.18270356  & 0.23158465  & 0.3791585   & 0.019847576 & 0.025725838\\\\\n",
       "\t400952 & 400952      & CM1         & 4988564     & 400952      & chrX        & 5436194     & 5436420     &  6          & 10          & 16          & 0.11357427  & 0.18270356  & 0.2781873   & 0.011955754 & 0.019847576\\\\\n",
       "\t400953 & 400953      & CM1         & 4988564     & 400953      & chrX        & 5467900     & 5468056     &  3          &  7          & 10          & 0.05839866  & 0.13130975  & 0.1827036   & 0.005995744 & 0.013934556\\\\\n",
       "\t400956 & 400956      & CM1         & 4988564     & 400956      & chrX        & 5925868     & 5926228     & 16          & 11          & 27          & 0.27818733  & 0.19926416  & 0.4325859   & 0.031569748 & 0.021810839\\\\\n",
       "\t400961 & 400961      & CM1         & 4988564     & 400961      & chrX        & 6081829     & 6082130     &  7          &  3          & 10          & 0.13130975  & 0.05839866  & 0.1827036   & 0.013934556 & 0.005995744\\\\\n",
       "\t400962 & 400962      & CM1         & 4988564     & 400962      & chrX        & 6083257     & 6083513     & 13          & 11          & 24          & 0.23158465  & 0.19926416  & 0.3927853   & 0.025725838 & 0.021810839\\\\\n",
       "\\end{tabular}\n"
      ],
      "text/markdown": [
       "\n",
       "| <!--/--> | X | cell_type | total_reads_per_sample | region_id | chr | start | end | accessibility_genome1 | accessibility_genome2 | sumReads | acc_gen1_norm | acc_gen2_norm | sumReads_norm | mus_norm | cast_norm |\n",
       "|---|---|---|---|---|---|---|---|---|---|---|---|---|---|---|---|\n",
       "| 400951 | 400951      | CM1         | 4988564     | 400951      | chrX        | 5435757     | 5435959     | 10          | 13          | 23          | 0.18270356  | 0.23158465  | 0.3791585   | 0.019847576 | 0.025725838 |\n",
       "| 400952 | 400952      | CM1         | 4988564     | 400952      | chrX        | 5436194     | 5436420     |  6          | 10          | 16          | 0.11357427  | 0.18270356  | 0.2781873   | 0.011955754 | 0.019847576 |\n",
       "| 400953 | 400953      | CM1         | 4988564     | 400953      | chrX        | 5467900     | 5468056     |  3          |  7          | 10          | 0.05839866  | 0.13130975  | 0.1827036   | 0.005995744 | 0.013934556 |\n",
       "| 400956 | 400956      | CM1         | 4988564     | 400956      | chrX        | 5925868     | 5926228     | 16          | 11          | 27          | 0.27818733  | 0.19926416  | 0.4325859   | 0.031569748 | 0.021810839 |\n",
       "| 400961 | 400961      | CM1         | 4988564     | 400961      | chrX        | 6081829     | 6082130     |  7          |  3          | 10          | 0.13130975  | 0.05839866  | 0.1827036   | 0.013934556 | 0.005995744 |\n",
       "| 400962 | 400962      | CM1         | 4988564     | 400962      | chrX        | 6083257     | 6083513     | 13          | 11          | 24          | 0.23158465  | 0.19926416  | 0.3927853   | 0.025725838 | 0.021810839 |\n",
       "\n"
      ],
      "text/plain": [
       "       X      cell_type total_reads_per_sample region_id chr  start   end    \n",
       "400951 400951 CM1       4988564                400951    chrX 5435757 5435959\n",
       "400952 400952 CM1       4988564                400952    chrX 5436194 5436420\n",
       "400953 400953 CM1       4988564                400953    chrX 5467900 5468056\n",
       "400956 400956 CM1       4988564                400956    chrX 5925868 5926228\n",
       "400961 400961 CM1       4988564                400961    chrX 6081829 6082130\n",
       "400962 400962 CM1       4988564                400962    chrX 6083257 6083513\n",
       "       accessibility_genome1 accessibility_genome2 sumReads acc_gen1_norm\n",
       "400951 10                    13                    23       0.18270356   \n",
       "400952  6                    10                    16       0.11357427   \n",
       "400953  3                     7                    10       0.05839866   \n",
       "400956 16                    11                    27       0.27818733   \n",
       "400961  7                     3                    10       0.13130975   \n",
       "400962 13                    11                    24       0.23158465   \n",
       "       acc_gen2_norm sumReads_norm mus_norm    cast_norm  \n",
       "400951 0.23158465    0.3791585     0.019847576 0.025725838\n",
       "400952 0.18270356    0.2781873     0.011955754 0.019847576\n",
       "400953 0.13130975    0.1827036     0.005995744 0.013934556\n",
       "400956 0.19926416    0.4325859     0.031569748 0.021810839\n",
       "400961 0.05839866    0.1827036     0.013934556 0.005995744\n",
       "400962 0.19926416    0.3927853     0.025725838 0.021810839"
      ]
     },
     "metadata": {},
     "output_type": "display_data"
    }
   ],
   "source": [
    "head(song_mesc_atac_X)"
   ]
  },
  {
   "cell_type": "code",
   "execution_count": 21,
   "metadata": {},
   "outputs": [],
   "source": [
    "female_mESCs_CM2_X <- subset(song_mesc_atac_X, cell_type == 'CM2')\n",
    "female_mESCs_CM1_X <- subset(song_mesc_atac_X, cell_type == 'CM1')"
   ]
  },
  {
   "cell_type": "code",
   "execution_count": 29,
   "metadata": {},
   "outputs": [
    {
     "name": "stderr",
     "output_type": "stream",
     "text": [
      "Warning message:\n",
      "\"Ignoring unknown parameters: outlier.shape\""
     ]
    }
   ],
   "source": [
    "options(repr.plot.width=2, repr.plot.height=5)\n",
    "mus_CM1 <- ggplot(female_mESCs_CM1_X, aes(x=cell_type, y=mus_norm, fill=cell_type)) + \n",
    "  \n",
    "geom_violin(scale = \"width\", alpha = 0.7, show.legend=FALSE, outlier.shape = NA) +\n",
    "scale_fill_brewer(palette=\"Pastel1\")+\n",
    "geom_boxplot(width=0.2, fill=\"white\", alpha = 0.5) +\n",
    "    coord_cartesian(ylim = c(0,0.075))+\n",
    "  \n",
    "  scale_colour_brewer(\"Colors in Paired\", palette=\"Pastel1\")+\n",
    "  #geom_jitter(width = 1, alpha = 0.5, show.legend=FALSE, aes(color = sample)) +\n",
    "\n",
    " \n",
    " theme(plot.title = element_text(size=6))+\n",
    "\n",
    "    xlab(\"\") + \n",
    "    ylab(\"Mus Normalized accessibility in CM1\")+\n",
    "\n",
    "    theme(axis.text.x  = element_text(angle=0, vjust=0.5, size=8, color = \"black\"))+\n",
    " theme(axis.text.y  = element_text(color = \"black\"))+\n",
    "    theme(legend.title=element_blank())+\n",
    "    theme(axis.line = element_line(colour = \"black\"),\n",
    "    panel.grid.major = element_line(colour = \"grey82\"),\n",
    "   \n",
    "    panel.border = element_blank(),\n",
    "    panel.background = element_blank())"
   ]
  },
  {
   "cell_type": "code",
   "execution_count": 30,
   "metadata": {},
   "outputs": [
    {
     "data": {
      "image/png": "[encoded data removed]",
      "text/plain": [
       "plot without title"
      ]
     },
     "metadata": {},
     "output_type": "display_data"
    }
   ],
   "source": [
    "mus_CM1"
   ]
  },
  {
   "cell_type": "code",
   "execution_count": 31,
   "metadata": {},
   "outputs": [],
   "source": [
    "ggsave(\"/lustre1/project/stg_00041/Irene/ATAC_analysis/Revisions/Mus_acc_mESC_CM1.pdf\", width = 2, height = 5)"
   ]
  },
  {
   "cell_type": "code",
   "execution_count": 26,
   "metadata": {},
   "outputs": [
    {
     "name": "stderr",
     "output_type": "stream",
     "text": [
      "Warning message:\n",
      "\"Ignoring unknown parameters: outlier.shape\""
     ]
    }
   ],
   "source": [
    "options(repr.plot.width=2, repr.plot.height=5)\n",
    "cast_CM1 <- ggplot(female_mESCs_CM1_X, aes(x=cell_type, y=cast_norm, fill=cell_type)) + \n",
    "  \n",
    "geom_violin(scale = \"width\", alpha = 0.7, show.legend=FALSE, outlier.shape = NA) +\n",
    "scale_fill_brewer(palette=\"Pastel1\")+\n",
    "geom_boxplot(width=0.2, fill=\"white\", alpha = 0.5) +\n",
    "    coord_cartesian(ylim = c(0,0.075))+\n",
    "  \n",
    "  scale_colour_brewer(\"Colors in Paired\", palette=\"Pastel1\")+\n",
    "  #geom_jitter(width = 1, alpha = 0.5, show.legend=FALSE, aes(color = sample)) +\n",
    "\n",
    " \n",
    " theme(plot.title = element_text(size=6))+\n",
    "\n",
    "    xlab(\"\") + \n",
    "    ylab(\"Cast Normalized accessibility in CM1\")+\n",
    "\n",
    "    theme(axis.text.x  = element_text(angle=0, vjust=0.5, size=8, color = \"black\"))+\n",
    " theme(axis.text.y  = element_text(color = \"black\"))+\n",
    "    theme(legend.title=element_blank())+\n",
    "    theme(axis.line = element_line(colour = \"black\"),\n",
    "    panel.grid.major = element_line(colour = \"grey82\"),\n",
    "   \n",
    "    panel.border = element_blank(),\n",
    "    panel.background = element_blank())"
   ]
  },
  {
   "cell_type": "code",
   "execution_count": 27,
   "metadata": {},
   "outputs": [
    {
     "data": {
      "image/png": "[encoded data removed]",
      "text/plain": [
       "plot without title"
      ]
     },
     "metadata": {},
     "output_type": "display_data"
    }
   ],
   "source": [
    "cast_CM1"
   ]
  },
  {
   "cell_type": "code",
   "execution_count": 28,
   "metadata": {},
   "outputs": [],
   "source": [
    "ggsave(\"/lustre1/project/stg_00041/Irene/ATAC_analysis/Revisions/Cast_acc_mESC_CM1.pdf\", width = 2, height = 5)"
   ]
  },
  {
   "cell_type": "code",
   "execution_count": 33,
   "metadata": {},
   "outputs": [
    {
     "name": "stderr",
     "output_type": "stream",
     "text": [
      "Warning message:\n",
      "\"Ignoring unknown parameters: outlier.shape\""
     ]
    }
   ],
   "source": [
    "options(repr.plot.width=2, repr.plot.height=5)\n",
    "cast_CM2 <- ggplot(female_mESCs_CM2_X, aes(x=cell_type, y=cast_norm, fill=cell_type)) + \n",
    "  \n",
    "geom_violin(scale = \"width\", alpha = 0.7, show.legend=FALSE, outlier.shape = NA) +\n",
    "scale_fill_brewer(palette=\"Pastel1\")+\n",
    "geom_boxplot(width=0.2, fill=\"white\", alpha = 0.5) +\n",
    "    coord_cartesian(ylim = c(0,0.075))+\n",
    "  \n",
    "  scale_colour_brewer(\"Colors in Paired\", palette=\"Pastel1\")+\n",
    "  #geom_jitter(width = 1, alpha = 0.5, show.legend=FALSE, aes(color = sample)) +\n",
    "\n",
    " \n",
    " theme(plot.title = element_text(size=6))+\n",
    "\n",
    "    xlab(\"\") + \n",
    "    ylab(\"Cast Normalized accessibility in CM2\")+\n",
    "\n",
    "    theme(axis.text.x  = element_text(angle=0, vjust=0.5, size=8, color = \"black\"))+\n",
    " theme(axis.text.y  = element_text(color = \"black\"))+\n",
    "    theme(legend.title=element_blank())+\n",
    "    theme(axis.line = element_line(colour = \"black\"),\n",
    "    panel.grid.major = element_line(colour = \"grey82\"),\n",
    "   \n",
    "    panel.border = element_blank(),\n",
    "    panel.background = element_blank())"
   ]
  },
  {
   "cell_type": "code",
   "execution_count": 34,
   "metadata": {},
   "outputs": [
    {
     "data": {
      "image/png": "[encoded data removed]",
      "text/plain": [
       "plot without title"
      ]
     },
     "metadata": {},
     "output_type": "display_data"
    }
   ],
   "source": [
    "cast_CM2"
   ]
  },
  {
   "cell_type": "code",
   "execution_count": 35,
   "metadata": {},
   "outputs": [],
   "source": [
    "ggsave(\"/lustre1/project/stg_00041/Irene/ATAC_analysis/Revisions/Cast_acc_mESC_CM2.pdf\", width = 2, height = 5)"
   ]
  },
  {
   "cell_type": "code",
   "execution_count": 36,
   "metadata": {},
   "outputs": [
    {
     "name": "stderr",
     "output_type": "stream",
     "text": [
      "Warning message:\n",
      "\"Ignoring unknown parameters: outlier.shape\""
     ]
    }
   ],
   "source": [
    "options(repr.plot.width=2, repr.plot.height=5)\n",
    "mus_CM2 <- ggplot(female_mESCs_CM2_X, aes(x=cell_type, y=mus_norm, fill=cell_type)) + \n",
    "  \n",
    "geom_violin(scale = \"width\", alpha = 0.7, show.legend=FALSE, outlier.shape = NA) +\n",
    "scale_fill_brewer(palette=\"Pastel1\")+\n",
    "geom_boxplot(width=0.2, fill=\"white\", alpha = 0.5) +\n",
    "    coord_cartesian(ylim = c(0,0.075))+\n",
    "  \n",
    "  scale_colour_brewer(\"Colors in Paired\", palette=\"Pastel1\")+\n",
    "  #geom_jitter(width = 1, alpha = 0.5, show.legend=FALSE, aes(color = sample)) +\n",
    "\n",
    " \n",
    " theme(plot.title = element_text(size=6))+\n",
    "\n",
    "    xlab(\"\") + \n",
    "    ylab(\"Mus Normalized accessibility in CM2\")+\n",
    "\n",
    "    theme(axis.text.x  = element_text(angle=0, vjust=0.5, size=8, color = \"black\"))+\n",
    " theme(axis.text.y  = element_text(color = \"black\"))+\n",
    "    theme(legend.title=element_blank())+\n",
    "    theme(axis.line = element_line(colour = \"black\"),\n",
    "    panel.grid.major = element_line(colour = \"grey82\"),\n",
    "   \n",
    "    panel.border = element_blank(),\n",
    "    panel.background = element_blank())"
   ]
  },
  {
   "cell_type": "code",
   "execution_count": 37,
   "metadata": {},
   "outputs": [
    {
     "data": {
      "image/png": "[encoded data removed]",
      "text/plain": [
       "plot without title"
      ]
     },
     "metadata": {},
     "output_type": "display_data"
    }
   ],
   "source": [
    "mus_CM2"
   ]
  },
  {
   "cell_type": "code",
   "execution_count": 38,
   "metadata": {},
   "outputs": [],
   "source": [
    "ggsave(\"/lustre1/project/stg_00041/Irene/ATAC_analysis/Revisions/Mus_acc_mESC_CM2.pdf\", width = 2, height = 5)"
   ]
  },
  {
   "cell_type": "code",
   "execution_count": 40,
   "metadata": {},
   "outputs": [],
   "source": [
    "#pvalue"
   ]
  },
  {
   "cell_type": "code",
   "execution_count": 60,
   "metadata": {},
   "outputs": [],
   "source": [
    "myvars <- c(\"mus_norm\")\n",
    "mus_norm_CM1 <- female_mESCs_CM1_X[myvars]"
   ]
  },
  {
   "cell_type": "code",
   "execution_count": 61,
   "metadata": {},
   "outputs": [
    {
     "data": {
      "text/html": [
       "<table>\n",
       "<thead><tr><th></th><th scope=col>mus_norm</th></tr></thead>\n",
       "<tbody>\n",
       "\t<tr><th scope=row>400951</th><td>0.019847576</td></tr>\n",
       "\t<tr><th scope=row>400952</th><td>0.011955754</td></tr>\n",
       "\t<tr><th scope=row>400953</th><td>0.005995744</td></tr>\n",
       "\t<tr><th scope=row>400956</th><td>0.031569748</td></tr>\n",
       "\t<tr><th scope=row>400961</th><td>0.013934556</td></tr>\n",
       "\t<tr><th scope=row>400962</th><td>0.025725838</td></tr>\n",
       "</tbody>\n",
       "</table>\n"
      ],
      "text/latex": [
       "\\begin{tabular}{r|l}\n",
       "  & mus\\_norm\\\\\n",
       "\\hline\n",
       "\t400951 & 0.019847576\\\\\n",
       "\t400952 & 0.011955754\\\\\n",
       "\t400953 & 0.005995744\\\\\n",
       "\t400956 & 0.031569748\\\\\n",
       "\t400961 & 0.013934556\\\\\n",
       "\t400962 & 0.025725838\\\\\n",
       "\\end{tabular}\n"
      ],
      "text/markdown": [
       "\n",
       "| <!--/--> | mus_norm |\n",
       "|---|---|\n",
       "| 400951 | 0.019847576 |\n",
       "| 400952 | 0.011955754 |\n",
       "| 400953 | 0.005995744 |\n",
       "| 400956 | 0.031569748 |\n",
       "| 400961 | 0.013934556 |\n",
       "| 400962 | 0.025725838 |\n",
       "\n"
      ],
      "text/plain": [
       "       mus_norm   \n",
       "400951 0.019847576\n",
       "400952 0.011955754\n",
       "400953 0.005995744\n",
       "400956 0.031569748\n",
       "400961 0.013934556\n",
       "400962 0.025725838"
      ]
     },
     "metadata": {},
     "output_type": "display_data"
    }
   ],
   "source": [
    "head(mus_norm_CM1)"
   ]
  },
  {
   "cell_type": "code",
   "execution_count": 62,
   "metadata": {},
   "outputs": [],
   "source": [
    "mus_norm_CM1$allele <- 'mus'"
   ]
  },
  {
   "cell_type": "code",
   "execution_count": 63,
   "metadata": {},
   "outputs": [
    {
     "data": {
      "text/html": [
       "<table>\n",
       "<thead><tr><th></th><th scope=col>mus_norm</th><th scope=col>allele</th></tr></thead>\n",
       "<tbody>\n",
       "\t<tr><th scope=row>400951</th><td>0.019847576</td><td>mus        </td></tr>\n",
       "\t<tr><th scope=row>400952</th><td>0.011955754</td><td>mus        </td></tr>\n",
       "\t<tr><th scope=row>400953</th><td>0.005995744</td><td>mus        </td></tr>\n",
       "\t<tr><th scope=row>400956</th><td>0.031569748</td><td>mus        </td></tr>\n",
       "\t<tr><th scope=row>400961</th><td>0.013934556</td><td>mus        </td></tr>\n",
       "\t<tr><th scope=row>400962</th><td>0.025725838</td><td>mus        </td></tr>\n",
       "</tbody>\n",
       "</table>\n"
      ],
      "text/latex": [
       "\\begin{tabular}{r|ll}\n",
       "  & mus\\_norm & allele\\\\\n",
       "\\hline\n",
       "\t400951 & 0.019847576 & mus        \\\\\n",
       "\t400952 & 0.011955754 & mus        \\\\\n",
       "\t400953 & 0.005995744 & mus        \\\\\n",
       "\t400956 & 0.031569748 & mus        \\\\\n",
       "\t400961 & 0.013934556 & mus        \\\\\n",
       "\t400962 & 0.025725838 & mus        \\\\\n",
       "\\end{tabular}\n"
      ],
      "text/markdown": [
       "\n",
       "| <!--/--> | mus_norm | allele |\n",
       "|---|---|---|\n",
       "| 400951 | 0.019847576 | mus         |\n",
       "| 400952 | 0.011955754 | mus         |\n",
       "| 400953 | 0.005995744 | mus         |\n",
       "| 400956 | 0.031569748 | mus         |\n",
       "| 400961 | 0.013934556 | mus         |\n",
       "| 400962 | 0.025725838 | mus         |\n",
       "\n"
      ],
      "text/plain": [
       "       mus_norm    allele\n",
       "400951 0.019847576 mus   \n",
       "400952 0.011955754 mus   \n",
       "400953 0.005995744 mus   \n",
       "400956 0.031569748 mus   \n",
       "400961 0.013934556 mus   \n",
       "400962 0.025725838 mus   "
      ]
     },
     "metadata": {},
     "output_type": "display_data"
    }
   ],
   "source": [
    "head(mus_norm_CM1)"
   ]
  },
  {
   "cell_type": "code",
   "execution_count": 64,
   "metadata": {},
   "outputs": [],
   "source": [
    "myvars2 <- c(\"cast_norm\")\n",
    "cast_norm_CM1 <- female_mESCs_CM1_X[myvars2]"
   ]
  },
  {
   "cell_type": "code",
   "execution_count": 65,
   "metadata": {},
   "outputs": [],
   "source": [
    "cast_norm_CM1$allele <- 'cast'"
   ]
  },
  {
   "cell_type": "code",
   "execution_count": 66,
   "metadata": {},
   "outputs": [],
   "source": [
    "names(mus_norm_CM1)[1] <- \"norm\"\n",
    "names(cast_norm_CM1)[1] <- \"norm\""
   ]
  },
  {
   "cell_type": "code",
   "execution_count": 67,
   "metadata": {},
   "outputs": [],
   "source": [
    "CM1 <- rbind(mus_norm_CM1, cast_norm_CM1)"
   ]
  },
  {
   "cell_type": "code",
   "execution_count": 68,
   "metadata": {},
   "outputs": [
    {
     "data": {
      "text/html": [
       "<table>\n",
       "<thead><tr><th></th><th scope=col>norm</th><th scope=col>allele</th></tr></thead>\n",
       "<tbody>\n",
       "\t<tr><th scope=row>400951</th><td>0.019847576</td><td>mus        </td></tr>\n",
       "\t<tr><th scope=row>400952</th><td>0.011955754</td><td>mus        </td></tr>\n",
       "\t<tr><th scope=row>400953</th><td>0.005995744</td><td>mus        </td></tr>\n",
       "\t<tr><th scope=row>400956</th><td>0.031569748</td><td>mus        </td></tr>\n",
       "\t<tr><th scope=row>400961</th><td>0.013934556</td><td>mus        </td></tr>\n",
       "\t<tr><th scope=row>400962</th><td>0.025725838</td><td>mus        </td></tr>\n",
       "</tbody>\n",
       "</table>\n"
      ],
      "text/latex": [
       "\\begin{tabular}{r|ll}\n",
       "  & norm & allele\\\\\n",
       "\\hline\n",
       "\t400951 & 0.019847576 & mus        \\\\\n",
       "\t400952 & 0.011955754 & mus        \\\\\n",
       "\t400953 & 0.005995744 & mus        \\\\\n",
       "\t400956 & 0.031569748 & mus        \\\\\n",
       "\t400961 & 0.013934556 & mus        \\\\\n",
       "\t400962 & 0.025725838 & mus        \\\\\n",
       "\\end{tabular}\n"
      ],
      "text/markdown": [
       "\n",
       "| <!--/--> | norm | allele |\n",
       "|---|---|---|\n",
       "| 400951 | 0.019847576 | mus         |\n",
       "| 400952 | 0.011955754 | mus         |\n",
       "| 400953 | 0.005995744 | mus         |\n",
       "| 400956 | 0.031569748 | mus         |\n",
       "| 400961 | 0.013934556 | mus         |\n",
       "| 400962 | 0.025725838 | mus         |\n",
       "\n"
      ],
      "text/plain": [
       "       norm        allele\n",
       "400951 0.019847576 mus   \n",
       "400952 0.011955754 mus   \n",
       "400953 0.005995744 mus   \n",
       "400956 0.031569748 mus   \n",
       "400961 0.013934556 mus   \n",
       "400962 0.025725838 mus   "
      ]
     },
     "metadata": {},
     "output_type": "display_data"
    }
   ],
   "source": [
    "head(CM1)"
   ]
  },
  {
   "cell_type": "code",
   "execution_count": 58,
   "metadata": {},
   "outputs": [],
   "source": [
    "test_CM2 <- pairwise.wilcox.test(CM2$norm, CM2$allele, p.adjust.method = \"bonferroni\")"
   ]
  },
  {
   "cell_type": "code",
   "execution_count": 59,
   "metadata": {},
   "outputs": [
    {
     "data": {
      "text/html": [
       "<table>\n",
       "<thead><tr><th></th><th scope=col>cast</th></tr></thead>\n",
       "<tbody>\n",
       "\t<tr><th scope=row>mus</th><td>0.09112608</td></tr>\n",
       "</tbody>\n",
       "</table>\n"
      ],
      "text/latex": [
       "\\begin{tabular}{r|l}\n",
       "  & cast\\\\\n",
       "\\hline\n",
       "\tmus & 0.09112608\\\\\n",
       "\\end{tabular}\n"
      ],
      "text/markdown": [
       "\n",
       "| <!--/--> | cast |\n",
       "|---|---|\n",
       "| mus | 0.09112608 |\n",
       "\n"
      ],
      "text/plain": [
       "    cast      \n",
       "mus 0.09112608"
      ]
     },
     "metadata": {},
     "output_type": "display_data"
    }
   ],
   "source": [
    "test_CM2$p.value"
   ]
  },
  {
   "cell_type": "code",
   "execution_count": 69,
   "metadata": {},
   "outputs": [],
   "source": [
    "test_CM1 <- pairwise.wilcox.test(CM1$norm, CM1$allele, p.adjust.method = \"bonferroni\")"
   ]
  },
  {
   "cell_type": "code",
   "execution_count": 70,
   "metadata": {},
   "outputs": [
    {
     "data": {
      "text/html": [
       "<table>\n",
       "<thead><tr><th></th><th scope=col>cast</th></tr></thead>\n",
       "<tbody>\n",
       "\t<tr><th scope=row>mus</th><td>0.3421587</td></tr>\n",
       "</tbody>\n",
       "</table>\n"
      ],
      "text/latex": [
       "\\begin{tabular}{r|l}\n",
       "  & cast\\\\\n",
       "\\hline\n",
       "\tmus & 0.3421587\\\\\n",
       "\\end{tabular}\n"
      ],
      "text/markdown": [
       "\n",
       "| <!--/--> | cast |\n",
       "|---|---|\n",
       "| mus | 0.3421587 |\n",
       "\n"
      ],
      "text/plain": [
       "    cast     \n",
       "mus 0.3421587"
      ]
     },
     "metadata": {},
     "output_type": "display_data"
    }
   ],
   "source": [
    "test_CM1$p.value"
   ]
  },
  {
   "cell_type": "code",
   "execution_count": null,
   "metadata": {},
   "outputs": [],
   "source": []
  }
 ],
 "metadata": {
  "kernelspec": {
   "display_name": "R [conda env:R_ATACseq2]",
   "language": "R",
   "name": "conda-env-R_ATACseq2-r"
  },
  "language_info": {
   "codemirror_mode": "r",
   "file_extension": ".r",
   "mimetype": "text/x-r-source",
   "name": "R",
   "pygments_lexer": "r",
   "version": "3.6.1"
  }
 },
 "nbformat": 4,
 "nbformat_minor": 4
}
