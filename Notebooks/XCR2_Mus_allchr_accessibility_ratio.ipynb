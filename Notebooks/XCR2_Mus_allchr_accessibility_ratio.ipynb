{
 "cells": [
  {
   "cell_type": "code",
   "execution_count": 1,
   "metadata": {},
   "outputs": [
    {
     "name": "stderr",
     "output_type": "stream",
     "text": [
      "Registered S3 methods overwritten by 'ggplot2':\n",
      "  method         from \n",
      "  [.quosures     rlang\n",
      "  c.quosures     rlang\n",
      "  print.quosures rlang\n",
      "\n",
      "Attaching package: 'dplyr'\n",
      "\n",
      "The following objects are masked from 'package:stats':\n",
      "\n",
      "    filter, lag\n",
      "\n",
      "The following objects are masked from 'package:base':\n",
      "\n",
      "    intersect, setdiff, setequal, union\n",
      "\n",
      "Loading required package: S4Vectors\n",
      "Loading required package: stats4\n",
      "Loading required package: BiocGenerics\n",
      "Loading required package: parallel\n",
      "\n",
      "Attaching package: 'BiocGenerics'\n",
      "\n",
      "The following objects are masked from 'package:parallel':\n",
      "\n",
      "    clusterApply, clusterApplyLB, clusterCall, clusterEvalQ,\n",
      "    clusterExport, clusterMap, parApply, parCapply, parLapply,\n",
      "    parLapplyLB, parRapply, parSapply, parSapplyLB\n",
      "\n",
      "The following objects are masked from 'package:dplyr':\n",
      "\n",
      "    combine, intersect, setdiff, union\n",
      "\n",
      "The following objects are masked from 'package:stats':\n",
      "\n",
      "    IQR, mad, sd, var, xtabs\n",
      "\n",
      "The following objects are masked from 'package:base':\n",
      "\n",
      "    Filter, Find, Map, Position, Reduce, anyDuplicated, append,\n",
      "    as.data.frame, basename, cbind, colnames, dirname, do.call,\n",
      "    duplicated, eval, evalq, get, grep, grepl, intersect, is.unsorted,\n",
      "    lapply, mapply, match, mget, order, paste, pmax, pmax.int, pmin,\n",
      "    pmin.int, rank, rbind, rownames, sapply, setdiff, sort, table,\n",
      "    tapply, union, unique, unsplit, which, which.max, which.min\n",
      "\n",
      "\n",
      "Attaching package: 'S4Vectors'\n",
      "\n",
      "The following objects are masked from 'package:dplyr':\n",
      "\n",
      "    first, rename\n",
      "\n",
      "The following object is masked from 'package:base':\n",
      "\n",
      "    expand.grid\n",
      "\n",
      "Loading required package: IRanges\n",
      "\n",
      "Attaching package: 'IRanges'\n",
      "\n",
      "The following objects are masked from 'package:dplyr':\n",
      "\n",
      "    collapse, desc, slice\n",
      "\n",
      "Loading required package: GenomicRanges\n",
      "Loading required package: GenomeInfoDb\n",
      "Loading required package: SummarizedExperiment\n",
      "Loading required package: Biobase\n",
      "Welcome to Bioconductor\n",
      "\n",
      "    Vignettes contain introductory material; view with\n",
      "    'browseVignettes()'. To cite Bioconductor, see\n",
      "    'citation(\"Biobase\")', and for packages 'citation(\"pkgname\")'.\n",
      "\n",
      "Loading required package: DelayedArray\n",
      "Loading required package: matrixStats\n",
      "\n",
      "Attaching package: 'matrixStats'\n",
      "\n",
      "The following objects are masked from 'package:Biobase':\n",
      "\n",
      "    anyMissing, rowMedians\n",
      "\n",
      "The following object is masked from 'package:dplyr':\n",
      "\n",
      "    count\n",
      "\n",
      "Loading required package: BiocParallel\n",
      "\n",
      "Attaching package: 'DelayedArray'\n",
      "\n",
      "The following objects are masked from 'package:matrixStats':\n",
      "\n",
      "    colMaxs, colMins, colRanges, rowMaxs, rowMins, rowRanges\n",
      "\n",
      "The following objects are masked from 'package:base':\n",
      "\n",
      "    aperm, apply, rowsum\n",
      "\n",
      "Registered S3 method overwritten by 'openssl':\n",
      "  method      from\n",
      "  print.bytes Rcpp\n",
      "\n",
      "\n",
      "Attaching package: 'tidyr'\n",
      "\n",
      "The following object is masked from 'package:S4Vectors':\n",
      "\n",
      "    expand\n",
      "\n",
      "Loading required package: viridisLite\n",
      "\n",
      "Attaching package: 'gplots'\n",
      "\n",
      "The following object is masked from 'package:IRanges':\n",
      "\n",
      "    space\n",
      "\n",
      "The following object is masked from 'package:S4Vectors':\n",
      "\n",
      "    space\n",
      "\n",
      "The following object is masked from 'package:stats':\n",
      "\n",
      "    lowess\n",
      "\n"
     ]
    }
   ],
   "source": [
    "library(ggplot2)\n",
    "library(dplyr)\n",
    "library(readr)\n",
    "library(DESeq2)\n",
    "library(DiffBind)\n",
    "library(tidyr)\n",
    "library(wesanderson)\n",
    "library(viridis)\n",
    "library(gplots)"
   ]
  },
  {
   "cell_type": "code",
   "execution_count": 2,
   "metadata": {},
   "outputs": [],
   "source": [
    "setwd(\"/ddn1/vol1/staging/leuven/stg_00041/Irene/ATAC_analysis/Allelic_ATAC/X_to_A_allelic_ratio/\")"
   ]
  },
  {
   "cell_type": "code",
   "execution_count": 3,
   "metadata": {},
   "outputs": [],
   "source": [
    "df_allelic_full <- read.delim(\"df_allelic_full.txt\")"
   ]
  },
  {
   "cell_type": "code",
   "execution_count": 4,
   "metadata": {},
   "outputs": [
    {
     "data": {
      "text/html": [
       "<table>\n",
       "<thead><tr><th scope=col>seqnames</th><th scope=col>start</th><th scope=col>end</th><th scope=col>width</th><th scope=col>strand</th><th scope=col>Day0_M</th><th scope=col>Day0_C</th><th scope=col>Day8_M</th><th scope=col>Day8_C</th><th scope=col>Day9_M</th><th scope=col>Day9_C</th><th scope=col>Day10_M</th><th scope=col>Day10_C</th><th scope=col>Day12_M</th><th scope=col>Day12_C</th><th scope=col>iPSCs_M</th><th scope=col>iPSCs_C</th></tr></thead>\n",
       "<tbody>\n",
       "\t<tr><td>1      </td><td>3046042</td><td>3046267</td><td>226    </td><td>*      </td><td>1      </td><td>1      </td><td> 1     </td><td> 1     </td><td> 7     </td><td>1      </td><td> 2     </td><td>1      </td><td>5      </td><td>1      </td><td>1      </td><td>2      </td></tr>\n",
       "\t<tr><td>1      </td><td>3046446</td><td>3046917</td><td>472    </td><td>*      </td><td>1      </td><td>1      </td><td>21     </td><td>12     </td><td>16     </td><td>9      </td><td>13     </td><td>9      </td><td>3      </td><td>4      </td><td>1      </td><td>2      </td></tr>\n",
       "\t<tr><td>1      </td><td>3215905</td><td>3216127</td><td>223    </td><td>*      </td><td>1      </td><td>3      </td><td> 2     </td><td> 1     </td><td> 1     </td><td>2      </td><td> 5     </td><td>1      </td><td>4      </td><td>2      </td><td>1      </td><td>1      </td></tr>\n",
       "\t<tr><td>1      </td><td>3250793</td><td>3251095</td><td>303    </td><td>*      </td><td>1      </td><td>1      </td><td> 1     </td><td> 1     </td><td> 1     </td><td>1      </td><td> 1     </td><td>5      </td><td>1      </td><td>3      </td><td>5      </td><td>2      </td></tr>\n",
       "\t<tr><td>1      </td><td>3251341</td><td>3251716</td><td>376    </td><td>*      </td><td>1      </td><td>1      </td><td> 3     </td><td> 1     </td><td> 2     </td><td>1      </td><td> 1     </td><td>4      </td><td>3      </td><td>1      </td><td>5      </td><td>1      </td></tr>\n",
       "\t<tr><td>1      </td><td>3285287</td><td>3285526</td><td>240    </td><td>*      </td><td>2      </td><td>2      </td><td> 1     </td><td> 6     </td><td> 1     </td><td>1      </td><td> 1     </td><td>1      </td><td>1      </td><td>1      </td><td>4      </td><td>1      </td></tr>\n",
       "</tbody>\n",
       "</table>\n"
      ],
      "text/latex": [
       "\\begin{tabular}{r|lllllllllllllllll}\n",
       " seqnames & start & end & width & strand & Day0\\_M & Day0\\_C & Day8\\_M & Day8\\_C & Day9\\_M & Day9\\_C & Day10\\_M & Day10\\_C & Day12\\_M & Day12\\_C & iPSCs\\_M & iPSCs\\_C\\\\\n",
       "\\hline\n",
       "\t 1       & 3046042 & 3046267 & 226     & *       & 1       & 1       &  1      &  1      &  7      & 1       &  2      & 1       & 5       & 1       & 1       & 2      \\\\\n",
       "\t 1       & 3046446 & 3046917 & 472     & *       & 1       & 1       & 21      & 12      & 16      & 9       & 13      & 9       & 3       & 4       & 1       & 2      \\\\\n",
       "\t 1       & 3215905 & 3216127 & 223     & *       & 1       & 3       &  2      &  1      &  1      & 2       &  5      & 1       & 4       & 2       & 1       & 1      \\\\\n",
       "\t 1       & 3250793 & 3251095 & 303     & *       & 1       & 1       &  1      &  1      &  1      & 1       &  1      & 5       & 1       & 3       & 5       & 2      \\\\\n",
       "\t 1       & 3251341 & 3251716 & 376     & *       & 1       & 1       &  3      &  1      &  2      & 1       &  1      & 4       & 3       & 1       & 5       & 1      \\\\\n",
       "\t 1       & 3285287 & 3285526 & 240     & *       & 2       & 2       &  1      &  6      &  1      & 1       &  1      & 1       & 1       & 1       & 4       & 1      \\\\\n",
       "\\end{tabular}\n"
      ],
      "text/markdown": [
       "\n",
       "| seqnames | start | end | width | strand | Day0_M | Day0_C | Day8_M | Day8_C | Day9_M | Day9_C | Day10_M | Day10_C | Day12_M | Day12_C | iPSCs_M | iPSCs_C |\n",
       "|---|---|---|---|---|---|---|---|---|---|---|---|---|---|---|---|---|\n",
       "| 1       | 3046042 | 3046267 | 226     | *       | 1       | 1       |  1      |  1      |  7      | 1       |  2      | 1       | 5       | 1       | 1       | 2       |\n",
       "| 1       | 3046446 | 3046917 | 472     | *       | 1       | 1       | 21      | 12      | 16      | 9       | 13      | 9       | 3       | 4       | 1       | 2       |\n",
       "| 1       | 3215905 | 3216127 | 223     | *       | 1       | 3       |  2      |  1      |  1      | 2       |  5      | 1       | 4       | 2       | 1       | 1       |\n",
       "| 1       | 3250793 | 3251095 | 303     | *       | 1       | 1       |  1      |  1      |  1      | 1       |  1      | 5       | 1       | 3       | 5       | 2       |\n",
       "| 1       | 3251341 | 3251716 | 376     | *       | 1       | 1       |  3      |  1      |  2      | 1       |  1      | 4       | 3       | 1       | 5       | 1       |\n",
       "| 1       | 3285287 | 3285526 | 240     | *       | 2       | 2       |  1      |  6      |  1      | 1       |  1      | 1       | 1       | 1       | 4       | 1       |\n",
       "\n"
      ],
      "text/plain": [
       "  seqnames start   end     width strand Day0_M Day0_C Day8_M Day8_C Day9_M\n",
       "1 1        3046042 3046267 226   *      1      1       1      1      7    \n",
       "2 1        3046446 3046917 472   *      1      1      21     12     16    \n",
       "3 1        3215905 3216127 223   *      1      3       2      1      1    \n",
       "4 1        3250793 3251095 303   *      1      1       1      1      1    \n",
       "5 1        3251341 3251716 376   *      1      1       3      1      2    \n",
       "6 1        3285287 3285526 240   *      2      2       1      6      1    \n",
       "  Day9_C Day10_M Day10_C Day12_M Day12_C iPSCs_M iPSCs_C\n",
       "1 1       2      1       5       1       1       2      \n",
       "2 9      13      9       3       4       1       2      \n",
       "3 2       5      1       4       2       1       1      \n",
       "4 1       1      5       1       3       5       2      \n",
       "5 1       1      4       3       1       5       1      \n",
       "6 1       1      1       1       1       4       1      "
      ]
     },
     "metadata": {},
     "output_type": "display_data"
    }
   ],
   "source": [
    "head(df_allelic_full)"
   ]
  },
  {
   "cell_type": "code",
   "execution_count": 5,
   "metadata": {},
   "outputs": [],
   "source": [
    "names(df_allelic_full)[names(df_allelic_full) == 'seqnames'] <- 'chr'"
   ]
  },
  {
   "cell_type": "code",
   "execution_count": 6,
   "metadata": {},
   "outputs": [
    {
     "data": {
      "text/html": [
       "<table>\n",
       "<thead><tr><th scope=col>chr</th><th scope=col>start</th><th scope=col>end</th><th scope=col>width</th><th scope=col>strand</th><th scope=col>Day0_M</th><th scope=col>Day0_C</th><th scope=col>Day8_M</th><th scope=col>Day8_C</th><th scope=col>Day9_M</th><th scope=col>Day9_C</th><th scope=col>Day10_M</th><th scope=col>Day10_C</th><th scope=col>Day12_M</th><th scope=col>Day12_C</th><th scope=col>iPSCs_M</th><th scope=col>iPSCs_C</th></tr></thead>\n",
       "<tbody>\n",
       "\t<tr><td>1      </td><td>3046042</td><td>3046267</td><td>226    </td><td>*      </td><td>1      </td><td>1      </td><td> 1     </td><td> 1     </td><td> 7     </td><td>1      </td><td> 2     </td><td>1      </td><td>5      </td><td>1      </td><td>1      </td><td>2      </td></tr>\n",
       "\t<tr><td>1      </td><td>3046446</td><td>3046917</td><td>472    </td><td>*      </td><td>1      </td><td>1      </td><td>21     </td><td>12     </td><td>16     </td><td>9      </td><td>13     </td><td>9      </td><td>3      </td><td>4      </td><td>1      </td><td>2      </td></tr>\n",
       "\t<tr><td>1      </td><td>3215905</td><td>3216127</td><td>223    </td><td>*      </td><td>1      </td><td>3      </td><td> 2     </td><td> 1     </td><td> 1     </td><td>2      </td><td> 5     </td><td>1      </td><td>4      </td><td>2      </td><td>1      </td><td>1      </td></tr>\n",
       "\t<tr><td>1      </td><td>3250793</td><td>3251095</td><td>303    </td><td>*      </td><td>1      </td><td>1      </td><td> 1     </td><td> 1     </td><td> 1     </td><td>1      </td><td> 1     </td><td>5      </td><td>1      </td><td>3      </td><td>5      </td><td>2      </td></tr>\n",
       "\t<tr><td>1      </td><td>3251341</td><td>3251716</td><td>376    </td><td>*      </td><td>1      </td><td>1      </td><td> 3     </td><td> 1     </td><td> 2     </td><td>1      </td><td> 1     </td><td>4      </td><td>3      </td><td>1      </td><td>5      </td><td>1      </td></tr>\n",
       "\t<tr><td>1      </td><td>3285287</td><td>3285526</td><td>240    </td><td>*      </td><td>2      </td><td>2      </td><td> 1     </td><td> 6     </td><td> 1     </td><td>1      </td><td> 1     </td><td>1      </td><td>1      </td><td>1      </td><td>4      </td><td>1      </td></tr>\n",
       "</tbody>\n",
       "</table>\n"
      ],
      "text/latex": [
       "\\begin{tabular}{r|lllllllllllllllll}\n",
       " chr & start & end & width & strand & Day0\\_M & Day0\\_C & Day8\\_M & Day8\\_C & Day9\\_M & Day9\\_C & Day10\\_M & Day10\\_C & Day12\\_M & Day12\\_C & iPSCs\\_M & iPSCs\\_C\\\\\n",
       "\\hline\n",
       "\t 1       & 3046042 & 3046267 & 226     & *       & 1       & 1       &  1      &  1      &  7      & 1       &  2      & 1       & 5       & 1       & 1       & 2      \\\\\n",
       "\t 1       & 3046446 & 3046917 & 472     & *       & 1       & 1       & 21      & 12      & 16      & 9       & 13      & 9       & 3       & 4       & 1       & 2      \\\\\n",
       "\t 1       & 3215905 & 3216127 & 223     & *       & 1       & 3       &  2      &  1      &  1      & 2       &  5      & 1       & 4       & 2       & 1       & 1      \\\\\n",
       "\t 1       & 3250793 & 3251095 & 303     & *       & 1       & 1       &  1      &  1      &  1      & 1       &  1      & 5       & 1       & 3       & 5       & 2      \\\\\n",
       "\t 1       & 3251341 & 3251716 & 376     & *       & 1       & 1       &  3      &  1      &  2      & 1       &  1      & 4       & 3       & 1       & 5       & 1      \\\\\n",
       "\t 1       & 3285287 & 3285526 & 240     & *       & 2       & 2       &  1      &  6      &  1      & 1       &  1      & 1       & 1       & 1       & 4       & 1      \\\\\n",
       "\\end{tabular}\n"
      ],
      "text/markdown": [
       "\n",
       "| chr | start | end | width | strand | Day0_M | Day0_C | Day8_M | Day8_C | Day9_M | Day9_C | Day10_M | Day10_C | Day12_M | Day12_C | iPSCs_M | iPSCs_C |\n",
       "|---|---|---|---|---|---|---|---|---|---|---|---|---|---|---|---|---|\n",
       "| 1       | 3046042 | 3046267 | 226     | *       | 1       | 1       |  1      |  1      |  7      | 1       |  2      | 1       | 5       | 1       | 1       | 2       |\n",
       "| 1       | 3046446 | 3046917 | 472     | *       | 1       | 1       | 21      | 12      | 16      | 9       | 13      | 9       | 3       | 4       | 1       | 2       |\n",
       "| 1       | 3215905 | 3216127 | 223     | *       | 1       | 3       |  2      |  1      |  1      | 2       |  5      | 1       | 4       | 2       | 1       | 1       |\n",
       "| 1       | 3250793 | 3251095 | 303     | *       | 1       | 1       |  1      |  1      |  1      | 1       |  1      | 5       | 1       | 3       | 5       | 2       |\n",
       "| 1       | 3251341 | 3251716 | 376     | *       | 1       | 1       |  3      |  1      |  2      | 1       |  1      | 4       | 3       | 1       | 5       | 1       |\n",
       "| 1       | 3285287 | 3285526 | 240     | *       | 2       | 2       |  1      |  6      |  1      | 1       |  1      | 1       | 1       | 1       | 4       | 1       |\n",
       "\n"
      ],
      "text/plain": [
       "  chr start   end     width strand Day0_M Day0_C Day8_M Day8_C Day9_M Day9_C\n",
       "1 1   3046042 3046267 226   *      1      1       1      1      7     1     \n",
       "2 1   3046446 3046917 472   *      1      1      21     12     16     9     \n",
       "3 1   3215905 3216127 223   *      1      3       2      1      1     2     \n",
       "4 1   3250793 3251095 303   *      1      1       1      1      1     1     \n",
       "5 1   3251341 3251716 376   *      1      1       3      1      2     1     \n",
       "6 1   3285287 3285526 240   *      2      2       1      6      1     1     \n",
       "  Day10_M Day10_C Day12_M Day12_C iPSCs_M iPSCs_C\n",
       "1  2      1       5       1       1       2      \n",
       "2 13      9       3       4       1       2      \n",
       "3  5      1       4       2       1       1      \n",
       "4  1      5       1       3       5       2      \n",
       "5  1      4       3       1       5       1      \n",
       "6  1      1       1       1       4       1      "
      ]
     },
     "metadata": {},
     "output_type": "display_data"
    }
   ],
   "source": [
    "head(df_allelic_full)"
   ]
  },
  {
   "cell_type": "code",
   "execution_count": null,
   "metadata": {},
   "outputs": [],
   "source": []
  },
  {
   "cell_type": "code",
   "execution_count": 7,
   "metadata": {},
   "outputs": [],
   "source": [
    "df_allelic_full$names <- 1:nrow(df_allelic_full) "
   ]
  },
  {
   "cell_type": "code",
   "execution_count": 8,
   "metadata": {},
   "outputs": [
    {
     "data": {
      "text/html": [
       "<table>\n",
       "<thead><tr><th scope=col>chr</th><th scope=col>start</th><th scope=col>end</th><th scope=col>width</th><th scope=col>strand</th><th scope=col>Day0_M</th><th scope=col>Day0_C</th><th scope=col>Day8_M</th><th scope=col>Day8_C</th><th scope=col>Day9_M</th><th scope=col>Day9_C</th><th scope=col>Day10_M</th><th scope=col>Day10_C</th><th scope=col>Day12_M</th><th scope=col>Day12_C</th><th scope=col>iPSCs_M</th><th scope=col>iPSCs_C</th><th scope=col>names</th></tr></thead>\n",
       "<tbody>\n",
       "\t<tr><td>1      </td><td>3046042</td><td>3046267</td><td>226    </td><td>*      </td><td>1      </td><td>1      </td><td> 1     </td><td> 1     </td><td> 7     </td><td>1      </td><td> 2     </td><td>1      </td><td>5      </td><td>1      </td><td>1      </td><td>2      </td><td>1      </td></tr>\n",
       "\t<tr><td>1      </td><td>3046446</td><td>3046917</td><td>472    </td><td>*      </td><td>1      </td><td>1      </td><td>21     </td><td>12     </td><td>16     </td><td>9      </td><td>13     </td><td>9      </td><td>3      </td><td>4      </td><td>1      </td><td>2      </td><td>2      </td></tr>\n",
       "\t<tr><td>1      </td><td>3215905</td><td>3216127</td><td>223    </td><td>*      </td><td>1      </td><td>3      </td><td> 2     </td><td> 1     </td><td> 1     </td><td>2      </td><td> 5     </td><td>1      </td><td>4      </td><td>2      </td><td>1      </td><td>1      </td><td>3      </td></tr>\n",
       "\t<tr><td>1      </td><td>3250793</td><td>3251095</td><td>303    </td><td>*      </td><td>1      </td><td>1      </td><td> 1     </td><td> 1     </td><td> 1     </td><td>1      </td><td> 1     </td><td>5      </td><td>1      </td><td>3      </td><td>5      </td><td>2      </td><td>4      </td></tr>\n",
       "\t<tr><td>1      </td><td>3251341</td><td>3251716</td><td>376    </td><td>*      </td><td>1      </td><td>1      </td><td> 3     </td><td> 1     </td><td> 2     </td><td>1      </td><td> 1     </td><td>4      </td><td>3      </td><td>1      </td><td>5      </td><td>1      </td><td>5      </td></tr>\n",
       "\t<tr><td>1      </td><td>3285287</td><td>3285526</td><td>240    </td><td>*      </td><td>2      </td><td>2      </td><td> 1     </td><td> 6     </td><td> 1     </td><td>1      </td><td> 1     </td><td>1      </td><td>1      </td><td>1      </td><td>4      </td><td>1      </td><td>6      </td></tr>\n",
       "</tbody>\n",
       "</table>\n"
      ],
      "text/latex": [
       "\\begin{tabular}{r|llllllllllllllllll}\n",
       " chr & start & end & width & strand & Day0\\_M & Day0\\_C & Day8\\_M & Day8\\_C & Day9\\_M & Day9\\_C & Day10\\_M & Day10\\_C & Day12\\_M & Day12\\_C & iPSCs\\_M & iPSCs\\_C & names\\\\\n",
       "\\hline\n",
       "\t 1       & 3046042 & 3046267 & 226     & *       & 1       & 1       &  1      &  1      &  7      & 1       &  2      & 1       & 5       & 1       & 1       & 2       & 1      \\\\\n",
       "\t 1       & 3046446 & 3046917 & 472     & *       & 1       & 1       & 21      & 12      & 16      & 9       & 13      & 9       & 3       & 4       & 1       & 2       & 2      \\\\\n",
       "\t 1       & 3215905 & 3216127 & 223     & *       & 1       & 3       &  2      &  1      &  1      & 2       &  5      & 1       & 4       & 2       & 1       & 1       & 3      \\\\\n",
       "\t 1       & 3250793 & 3251095 & 303     & *       & 1       & 1       &  1      &  1      &  1      & 1       &  1      & 5       & 1       & 3       & 5       & 2       & 4      \\\\\n",
       "\t 1       & 3251341 & 3251716 & 376     & *       & 1       & 1       &  3      &  1      &  2      & 1       &  1      & 4       & 3       & 1       & 5       & 1       & 5      \\\\\n",
       "\t 1       & 3285287 & 3285526 & 240     & *       & 2       & 2       &  1      &  6      &  1      & 1       &  1      & 1       & 1       & 1       & 4       & 1       & 6      \\\\\n",
       "\\end{tabular}\n"
      ],
      "text/markdown": [
       "\n",
       "| chr | start | end | width | strand | Day0_M | Day0_C | Day8_M | Day8_C | Day9_M | Day9_C | Day10_M | Day10_C | Day12_M | Day12_C | iPSCs_M | iPSCs_C | names |\n",
       "|---|---|---|---|---|---|---|---|---|---|---|---|---|---|---|---|---|---|\n",
       "| 1       | 3046042 | 3046267 | 226     | *       | 1       | 1       |  1      |  1      |  7      | 1       |  2      | 1       | 5       | 1       | 1       | 2       | 1       |\n",
       "| 1       | 3046446 | 3046917 | 472     | *       | 1       | 1       | 21      | 12      | 16      | 9       | 13      | 9       | 3       | 4       | 1       | 2       | 2       |\n",
       "| 1       | 3215905 | 3216127 | 223     | *       | 1       | 3       |  2      |  1      |  1      | 2       |  5      | 1       | 4       | 2       | 1       | 1       | 3       |\n",
       "| 1       | 3250793 | 3251095 | 303     | *       | 1       | 1       |  1      |  1      |  1      | 1       |  1      | 5       | 1       | 3       | 5       | 2       | 4       |\n",
       "| 1       | 3251341 | 3251716 | 376     | *       | 1       | 1       |  3      |  1      |  2      | 1       |  1      | 4       | 3       | 1       | 5       | 1       | 5       |\n",
       "| 1       | 3285287 | 3285526 | 240     | *       | 2       | 2       |  1      |  6      |  1      | 1       |  1      | 1       | 1       | 1       | 4       | 1       | 6       |\n",
       "\n"
      ],
      "text/plain": [
       "  chr start   end     width strand Day0_M Day0_C Day8_M Day8_C Day9_M Day9_C\n",
       "1 1   3046042 3046267 226   *      1      1       1      1      7     1     \n",
       "2 1   3046446 3046917 472   *      1      1      21     12     16     9     \n",
       "3 1   3215905 3216127 223   *      1      3       2      1      1     2     \n",
       "4 1   3250793 3251095 303   *      1      1       1      1      1     1     \n",
       "5 1   3251341 3251716 376   *      1      1       3      1      2     1     \n",
       "6 1   3285287 3285526 240   *      2      2       1      6      1     1     \n",
       "  Day10_M Day10_C Day12_M Day12_C iPSCs_M iPSCs_C names\n",
       "1  2      1       5       1       1       2       1    \n",
       "2 13      9       3       4       1       2       2    \n",
       "3  5      1       4       2       1       1       3    \n",
       "4  1      5       1       3       5       2       4    \n",
       "5  1      4       3       1       5       1       5    \n",
       "6  1      1       1       1       4       1       6    "
      ]
     },
     "metadata": {},
     "output_type": "display_data"
    }
   ],
   "source": [
    "head(df_allelic_full)"
   ]
  },
  {
   "cell_type": "code",
   "execution_count": 9,
   "metadata": {},
   "outputs": [],
   "source": [
    "variables <- c(\"chr\", \"names\", \"Day0_M\", \"Day8_M\", \"Day9_M\", \"Day10_M\", \"Day12_M\", \"iPSCs_M\", \"Day0_C\", \"Day8_C\", \"Day9_C\", \"Day10_C\", \"Day12_C\", \"iPSCs_C\")"
   ]
  },
  {
   "cell_type": "code",
   "execution_count": 10,
   "metadata": {},
   "outputs": [],
   "source": [
    "df_allelic_full <- df_allelic_full[variables]"
   ]
  },
  {
   "cell_type": "code",
   "execution_count": 11,
   "metadata": {},
   "outputs": [
    {
     "data": {
      "text/html": [
       "<table>\n",
       "<thead><tr><th scope=col>chr</th><th scope=col>names</th><th scope=col>Day0_M</th><th scope=col>Day8_M</th><th scope=col>Day9_M</th><th scope=col>Day10_M</th><th scope=col>Day12_M</th><th scope=col>iPSCs_M</th><th scope=col>Day0_C</th><th scope=col>Day8_C</th><th scope=col>Day9_C</th><th scope=col>Day10_C</th><th scope=col>Day12_C</th><th scope=col>iPSCs_C</th></tr></thead>\n",
       "<tbody>\n",
       "\t<tr><td>1 </td><td>1 </td><td>1 </td><td> 1</td><td> 7</td><td> 2</td><td>5 </td><td>1 </td><td>1 </td><td> 1</td><td>1 </td><td>1 </td><td>1 </td><td>2 </td></tr>\n",
       "\t<tr><td>1 </td><td>2 </td><td>1 </td><td>21</td><td>16</td><td>13</td><td>3 </td><td>1 </td><td>1 </td><td>12</td><td>9 </td><td>9 </td><td>4 </td><td>2 </td></tr>\n",
       "\t<tr><td>1 </td><td>3 </td><td>1 </td><td> 2</td><td> 1</td><td> 5</td><td>4 </td><td>1 </td><td>3 </td><td> 1</td><td>2 </td><td>1 </td><td>2 </td><td>1 </td></tr>\n",
       "\t<tr><td>1 </td><td>4 </td><td>1 </td><td> 1</td><td> 1</td><td> 1</td><td>1 </td><td>5 </td><td>1 </td><td> 1</td><td>1 </td><td>5 </td><td>3 </td><td>2 </td></tr>\n",
       "\t<tr><td>1 </td><td>5 </td><td>1 </td><td> 3</td><td> 2</td><td> 1</td><td>3 </td><td>5 </td><td>1 </td><td> 1</td><td>1 </td><td>4 </td><td>1 </td><td>1 </td></tr>\n",
       "\t<tr><td>1 </td><td>6 </td><td>2 </td><td> 1</td><td> 1</td><td> 1</td><td>1 </td><td>4 </td><td>2 </td><td> 6</td><td>1 </td><td>1 </td><td>1 </td><td>1 </td></tr>\n",
       "</tbody>\n",
       "</table>\n"
      ],
      "text/latex": [
       "\\begin{tabular}{r|llllllllllllll}\n",
       " chr & names & Day0\\_M & Day8\\_M & Day9\\_M & Day10\\_M & Day12\\_M & iPSCs\\_M & Day0\\_C & Day8\\_C & Day9\\_C & Day10\\_C & Day12\\_C & iPSCs\\_C\\\\\n",
       "\\hline\n",
       "\t 1  & 1  & 1  &  1 &  7 &  2 & 5  & 1  & 1  &  1 & 1  & 1  & 1  & 2 \\\\\n",
       "\t 1  & 2  & 1  & 21 & 16 & 13 & 3  & 1  & 1  & 12 & 9  & 9  & 4  & 2 \\\\\n",
       "\t 1  & 3  & 1  &  2 &  1 &  5 & 4  & 1  & 3  &  1 & 2  & 1  & 2  & 1 \\\\\n",
       "\t 1  & 4  & 1  &  1 &  1 &  1 & 1  & 5  & 1  &  1 & 1  & 5  & 3  & 2 \\\\\n",
       "\t 1  & 5  & 1  &  3 &  2 &  1 & 3  & 5  & 1  &  1 & 1  & 4  & 1  & 1 \\\\\n",
       "\t 1  & 6  & 2  &  1 &  1 &  1 & 1  & 4  & 2  &  6 & 1  & 1  & 1  & 1 \\\\\n",
       "\\end{tabular}\n"
      ],
      "text/markdown": [
       "\n",
       "| chr | names | Day0_M | Day8_M | Day9_M | Day10_M | Day12_M | iPSCs_M | Day0_C | Day8_C | Day9_C | Day10_C | Day12_C | iPSCs_C |\n",
       "|---|---|---|---|---|---|---|---|---|---|---|---|---|---|\n",
       "| 1  | 1  | 1  |  1 |  7 |  2 | 5  | 1  | 1  |  1 | 1  | 1  | 1  | 2  |\n",
       "| 1  | 2  | 1  | 21 | 16 | 13 | 3  | 1  | 1  | 12 | 9  | 9  | 4  | 2  |\n",
       "| 1  | 3  | 1  |  2 |  1 |  5 | 4  | 1  | 3  |  1 | 2  | 1  | 2  | 1  |\n",
       "| 1  | 4  | 1  |  1 |  1 |  1 | 1  | 5  | 1  |  1 | 1  | 5  | 3  | 2  |\n",
       "| 1  | 5  | 1  |  3 |  2 |  1 | 3  | 5  | 1  |  1 | 1  | 4  | 1  | 1  |\n",
       "| 1  | 6  | 2  |  1 |  1 |  1 | 1  | 4  | 2  |  6 | 1  | 1  | 1  | 1  |\n",
       "\n"
      ],
      "text/plain": [
       "  chr names Day0_M Day8_M Day9_M Day10_M Day12_M iPSCs_M Day0_C Day8_C Day9_C\n",
       "1 1   1     1       1      7      2      5       1       1       1     1     \n",
       "2 1   2     1      21     16     13      3       1       1      12     9     \n",
       "3 1   3     1       2      1      5      4       1       3       1     2     \n",
       "4 1   4     1       1      1      1      1       5       1       1     1     \n",
       "5 1   5     1       3      2      1      3       5       1       1     1     \n",
       "6 1   6     2       1      1      1      1       4       2       6     1     \n",
       "  Day10_C Day12_C iPSCs_C\n",
       "1 1       1       2      \n",
       "2 9       4       2      \n",
       "3 1       2       1      \n",
       "4 5       3       2      \n",
       "5 4       1       1      \n",
       "6 1       1       1      "
      ]
     },
     "metadata": {},
     "output_type": "display_data"
    }
   ],
   "source": [
    "head(df_allelic_full)"
   ]
  },
  {
   "cell_type": "code",
   "execution_count": 12,
   "metadata": {},
   "outputs": [
    {
     "data": {
      "text/html": [
       "408372"
      ],
      "text/latex": [
       "408372"
      ],
      "text/markdown": [
       "408372"
      ],
      "text/plain": [
       "[1] 408372"
      ]
     },
     "metadata": {},
     "output_type": "display_data"
    }
   ],
   "source": [
    "nrow(df_allelic_full)"
   ]
  },
  {
   "cell_type": "code",
   "execution_count": 13,
   "metadata": {},
   "outputs": [],
   "source": [
    "df_allelic_full_gathered <- gather(df_allelic_full, sample_allele, count, -chr, -names)"
   ]
  },
  {
   "cell_type": "code",
   "execution_count": 14,
   "metadata": {},
   "outputs": [],
   "source": [
    "df_allelic_full_gathered <- separate(data = df_allelic_full_gathered, col = sample_allele, into = c(\"sample\", \"allele\"), sep = \"_\")"
   ]
  },
  {
   "cell_type": "code",
   "execution_count": 15,
   "metadata": {},
   "outputs": [
    {
     "data": {
      "text/html": [
       "<table>\n",
       "<thead><tr><th scope=col>chr</th><th scope=col>names</th><th scope=col>sample</th><th scope=col>allele</th><th scope=col>count</th></tr></thead>\n",
       "<tbody>\n",
       "\t<tr><td>1   </td><td>1   </td><td>Day0</td><td>M   </td><td>1   </td></tr>\n",
       "\t<tr><td>1   </td><td>2   </td><td>Day0</td><td>M   </td><td>1   </td></tr>\n",
       "\t<tr><td>1   </td><td>3   </td><td>Day0</td><td>M   </td><td>1   </td></tr>\n",
       "\t<tr><td>1   </td><td>4   </td><td>Day0</td><td>M   </td><td>1   </td></tr>\n",
       "\t<tr><td>1   </td><td>5   </td><td>Day0</td><td>M   </td><td>1   </td></tr>\n",
       "\t<tr><td>1   </td><td>6   </td><td>Day0</td><td>M   </td><td>2   </td></tr>\n",
       "</tbody>\n",
       "</table>\n"
      ],
      "text/latex": [
       "\\begin{tabular}{r|lllll}\n",
       " chr & names & sample & allele & count\\\\\n",
       "\\hline\n",
       "\t 1    & 1    & Day0 & M    & 1   \\\\\n",
       "\t 1    & 2    & Day0 & M    & 1   \\\\\n",
       "\t 1    & 3    & Day0 & M    & 1   \\\\\n",
       "\t 1    & 4    & Day0 & M    & 1   \\\\\n",
       "\t 1    & 5    & Day0 & M    & 1   \\\\\n",
       "\t 1    & 6    & Day0 & M    & 2   \\\\\n",
       "\\end{tabular}\n"
      ],
      "text/markdown": [
       "\n",
       "| chr | names | sample | allele | count |\n",
       "|---|---|---|---|---|\n",
       "| 1    | 1    | Day0 | M    | 1    |\n",
       "| 1    | 2    | Day0 | M    | 1    |\n",
       "| 1    | 3    | Day0 | M    | 1    |\n",
       "| 1    | 4    | Day0 | M    | 1    |\n",
       "| 1    | 5    | Day0 | M    | 1    |\n",
       "| 1    | 6    | Day0 | M    | 2    |\n",
       "\n"
      ],
      "text/plain": [
       "  chr names sample allele count\n",
       "1 1   1     Day0   M      1    \n",
       "2 1   2     Day0   M      1    \n",
       "3 1   3     Day0   M      1    \n",
       "4 1   4     Day0   M      1    \n",
       "5 1   5     Day0   M      1    \n",
       "6 1   6     Day0   M      2    "
      ]
     },
     "metadata": {},
     "output_type": "display_data"
    }
   ],
   "source": [
    "head(df_allelic_full_gathered)"
   ]
  },
  {
   "cell_type": "code",
   "execution_count": 16,
   "metadata": {},
   "outputs": [],
   "source": [
    "df_allelic_full_gathered <- spread(df_allelic_full_gathered, allele, count)"
   ]
  },
  {
   "cell_type": "code",
   "execution_count": 17,
   "metadata": {},
   "outputs": [
    {
     "data": {
      "text/html": [
       "<table>\n",
       "<thead><tr><th scope=col>chr</th><th scope=col>names</th><th scope=col>sample</th><th scope=col>C</th><th scope=col>M</th></tr></thead>\n",
       "<tbody>\n",
       "\t<tr><td>1    </td><td>1    </td><td>Day0 </td><td>1    </td><td>1    </td></tr>\n",
       "\t<tr><td>1    </td><td>1    </td><td>Day10</td><td>1    </td><td>2    </td></tr>\n",
       "\t<tr><td>1    </td><td>1    </td><td>Day12</td><td>1    </td><td>5    </td></tr>\n",
       "\t<tr><td>1    </td><td>1    </td><td>Day8 </td><td>1    </td><td>1    </td></tr>\n",
       "\t<tr><td>1    </td><td>1    </td><td>Day9 </td><td>1    </td><td>7    </td></tr>\n",
       "\t<tr><td>1    </td><td>1    </td><td>iPSCs</td><td>2    </td><td>1    </td></tr>\n",
       "</tbody>\n",
       "</table>\n"
      ],
      "text/latex": [
       "\\begin{tabular}{r|lllll}\n",
       " chr & names & sample & C & M\\\\\n",
       "\\hline\n",
       "\t 1     & 1     & Day0  & 1     & 1    \\\\\n",
       "\t 1     & 1     & Day10 & 1     & 2    \\\\\n",
       "\t 1     & 1     & Day12 & 1     & 5    \\\\\n",
       "\t 1     & 1     & Day8  & 1     & 1    \\\\\n",
       "\t 1     & 1     & Day9  & 1     & 7    \\\\\n",
       "\t 1     & 1     & iPSCs & 2     & 1    \\\\\n",
       "\\end{tabular}\n"
      ],
      "text/markdown": [
       "\n",
       "| chr | names | sample | C | M |\n",
       "|---|---|---|---|---|\n",
       "| 1     | 1     | Day0  | 1     | 1     |\n",
       "| 1     | 1     | Day10 | 1     | 2     |\n",
       "| 1     | 1     | Day12 | 1     | 5     |\n",
       "| 1     | 1     | Day8  | 1     | 1     |\n",
       "| 1     | 1     | Day9  | 1     | 7     |\n",
       "| 1     | 1     | iPSCs | 2     | 1     |\n",
       "\n"
      ],
      "text/plain": [
       "  chr names sample C M\n",
       "1 1   1     Day0   1 1\n",
       "2 1   1     Day10  1 2\n",
       "3 1   1     Day12  1 5\n",
       "4 1   1     Day8   1 1\n",
       "5 1   1     Day9   1 7\n",
       "6 1   1     iPSCs  2 1"
      ]
     },
     "metadata": {},
     "output_type": "display_data"
    }
   ],
   "source": [
    "head(df_allelic_full_gathered)"
   ]
  },
  {
   "cell_type": "code",
   "execution_count": 18,
   "metadata": {},
   "outputs": [],
   "source": [
    "df_allelic_full_gathered$sample <- factor(df_allelic_full_gathered$sample, levels=c('Day0', 'Day8', 'Day9', 'Day10', 'Day12', 'iPSCs'))"
   ]
  },
  {
   "cell_type": "code",
   "execution_count": 19,
   "metadata": {},
   "outputs": [],
   "source": [
    "df_allelic_full_gathered <- df_allelic_full_gathered %>% arrange(chr, names, sample)"
   ]
  },
  {
   "cell_type": "code",
   "execution_count": 20,
   "metadata": {},
   "outputs": [
    {
     "data": {
      "text/html": [
       "<table>\n",
       "<thead><tr><th scope=col>chr</th><th scope=col>names</th><th scope=col>sample</th><th scope=col>C</th><th scope=col>M</th></tr></thead>\n",
       "<tbody>\n",
       "\t<tr><td>1    </td><td>1    </td><td>Day0 </td><td>1    </td><td>1    </td></tr>\n",
       "\t<tr><td>1    </td><td>1    </td><td>Day8 </td><td>1    </td><td>1    </td></tr>\n",
       "\t<tr><td>1    </td><td>1    </td><td>Day9 </td><td>1    </td><td>7    </td></tr>\n",
       "\t<tr><td>1    </td><td>1    </td><td>Day10</td><td>1    </td><td>2    </td></tr>\n",
       "\t<tr><td>1    </td><td>1    </td><td>Day12</td><td>1    </td><td>5    </td></tr>\n",
       "\t<tr><td>1    </td><td>1    </td><td>iPSCs</td><td>2    </td><td>1    </td></tr>\n",
       "</tbody>\n",
       "</table>\n"
      ],
      "text/latex": [
       "\\begin{tabular}{r|lllll}\n",
       " chr & names & sample & C & M\\\\\n",
       "\\hline\n",
       "\t 1     & 1     & Day0  & 1     & 1    \\\\\n",
       "\t 1     & 1     & Day8  & 1     & 1    \\\\\n",
       "\t 1     & 1     & Day9  & 1     & 7    \\\\\n",
       "\t 1     & 1     & Day10 & 1     & 2    \\\\\n",
       "\t 1     & 1     & Day12 & 1     & 5    \\\\\n",
       "\t 1     & 1     & iPSCs & 2     & 1    \\\\\n",
       "\\end{tabular}\n"
      ],
      "text/markdown": [
       "\n",
       "| chr | names | sample | C | M |\n",
       "|---|---|---|---|---|\n",
       "| 1     | 1     | Day0  | 1     | 1     |\n",
       "| 1     | 1     | Day8  | 1     | 1     |\n",
       "| 1     | 1     | Day9  | 1     | 7     |\n",
       "| 1     | 1     | Day10 | 1     | 2     |\n",
       "| 1     | 1     | Day12 | 1     | 5     |\n",
       "| 1     | 1     | iPSCs | 2     | 1     |\n",
       "\n"
      ],
      "text/plain": [
       "  chr names sample C M\n",
       "1 1   1     Day0   1 1\n",
       "2 1   1     Day8   1 1\n",
       "3 1   1     Day9   1 7\n",
       "4 1   1     Day10  1 2\n",
       "5 1   1     Day12  1 5\n",
       "6 1   1     iPSCs  2 1"
      ]
     },
     "metadata": {},
     "output_type": "display_data"
    }
   ],
   "source": [
    "head(df_allelic_full_gathered)"
   ]
  },
  {
   "cell_type": "code",
   "execution_count": 21,
   "metadata": {},
   "outputs": [],
   "source": [
    "df_allelic_full_gathered$sumR <- df_allelic_full_gathered$C + df_allelic_full_gathered$M"
   ]
  },
  {
   "cell_type": "code",
   "execution_count": 22,
   "metadata": {},
   "outputs": [
    {
     "data": {
      "text/html": [
       "<table>\n",
       "<thead><tr><th scope=col>chr</th><th scope=col>names</th><th scope=col>sample</th><th scope=col>C</th><th scope=col>M</th><th scope=col>sumR</th></tr></thead>\n",
       "<tbody>\n",
       "\t<tr><td>1    </td><td>1    </td><td>Day0 </td><td>1    </td><td>1    </td><td>2    </td></tr>\n",
       "\t<tr><td>1    </td><td>1    </td><td>Day8 </td><td>1    </td><td>1    </td><td>2    </td></tr>\n",
       "\t<tr><td>1    </td><td>1    </td><td>Day9 </td><td>1    </td><td>7    </td><td>8    </td></tr>\n",
       "\t<tr><td>1    </td><td>1    </td><td>Day10</td><td>1    </td><td>2    </td><td>3    </td></tr>\n",
       "\t<tr><td>1    </td><td>1    </td><td>Day12</td><td>1    </td><td>5    </td><td>6    </td></tr>\n",
       "\t<tr><td>1    </td><td>1    </td><td>iPSCs</td><td>2    </td><td>1    </td><td>3    </td></tr>\n",
       "</tbody>\n",
       "</table>\n"
      ],
      "text/latex": [
       "\\begin{tabular}{r|llllll}\n",
       " chr & names & sample & C & M & sumR\\\\\n",
       "\\hline\n",
       "\t 1     & 1     & Day0  & 1     & 1     & 2    \\\\\n",
       "\t 1     & 1     & Day8  & 1     & 1     & 2    \\\\\n",
       "\t 1     & 1     & Day9  & 1     & 7     & 8    \\\\\n",
       "\t 1     & 1     & Day10 & 1     & 2     & 3    \\\\\n",
       "\t 1     & 1     & Day12 & 1     & 5     & 6    \\\\\n",
       "\t 1     & 1     & iPSCs & 2     & 1     & 3    \\\\\n",
       "\\end{tabular}\n"
      ],
      "text/markdown": [
       "\n",
       "| chr | names | sample | C | M | sumR |\n",
       "|---|---|---|---|---|---|\n",
       "| 1     | 1     | Day0  | 1     | 1     | 2     |\n",
       "| 1     | 1     | Day8  | 1     | 1     | 2     |\n",
       "| 1     | 1     | Day9  | 1     | 7     | 8     |\n",
       "| 1     | 1     | Day10 | 1     | 2     | 3     |\n",
       "| 1     | 1     | Day12 | 1     | 5     | 6     |\n",
       "| 1     | 1     | iPSCs | 2     | 1     | 3     |\n",
       "\n"
      ],
      "text/plain": [
       "  chr names sample C M sumR\n",
       "1 1   1     Day0   1 1 2   \n",
       "2 1   1     Day8   1 1 2   \n",
       "3 1   1     Day9   1 7 8   \n",
       "4 1   1     Day10  1 2 3   \n",
       "5 1   1     Day12  1 5 6   \n",
       "6 1   1     iPSCs  2 1 3   "
      ]
     },
     "metadata": {},
     "output_type": "display_data"
    }
   ],
   "source": [
    "head(df_allelic_full_gathered)"
   ]
  },
  {
   "cell_type": "code",
   "execution_count": 23,
   "metadata": {},
   "outputs": [
    {
     "data": {
      "text/html": [
       "2450232"
      ],
      "text/latex": [
       "2450232"
      ],
      "text/markdown": [
       "2450232"
      ],
      "text/plain": [
       "[1] 2450232"
      ]
     },
     "metadata": {},
     "output_type": "display_data"
    }
   ],
   "source": [
    "nrow(df_allelic_full_gathered)"
   ]
  },
  {
   "cell_type": "code",
   "execution_count": 24,
   "metadata": {},
   "outputs": [],
   "source": [
    "count_samples <- df_allelic_full_gathered %>% group_by(sample) %>% summarise(total_reads = sum(sumR))\n",
    "df_allelic_full_gathered <- merge(df_allelic_full_gathered, count_samples, by = \"sample\")"
   ]
  },
  {
   "cell_type": "code",
   "execution_count": 25,
   "metadata": {},
   "outputs": [
    {
     "data": {
      "text/html": [
       "<table>\n",
       "<thead><tr><th scope=col>sample</th><th scope=col>chr</th><th scope=col>names</th><th scope=col>C</th><th scope=col>M</th><th scope=col>sumR</th><th scope=col>total_reads</th></tr></thead>\n",
       "<tbody>\n",
       "\t<tr><td>Day0    </td><td>1       </td><td>     1  </td><td> 1      </td><td> 1      </td><td>  2     </td><td>11348313</td></tr>\n",
       "\t<tr><td>Day0    </td><td>17      </td><td>177148  </td><td> 1      </td><td> 1      </td><td>  2     </td><td>11348313</td></tr>\n",
       "\t<tr><td>Day0    </td><td>10      </td><td> 44288  </td><td>23      </td><td>21      </td><td> 44     </td><td>11348313</td></tr>\n",
       "\t<tr><td>Day0    </td><td>9       </td><td>398582  </td><td> 1      </td><td> 6      </td><td>  7     </td><td>11348313</td></tr>\n",
       "\t<tr><td>Day0    </td><td>4       </td><td>265722  </td><td>63      </td><td>45      </td><td>108     </td><td>11348313</td></tr>\n",
       "\t<tr><td>Day0    </td><td>14      </td><td>132862  </td><td> 5      </td><td> 1      </td><td>  6     </td><td>11348313</td></tr>\n",
       "</tbody>\n",
       "</table>\n"
      ],
      "text/latex": [
       "\\begin{tabular}{r|lllllll}\n",
       " sample & chr & names & C & M & sumR & total\\_reads\\\\\n",
       "\\hline\n",
       "\t Day0     & 1        &      1   &  1       &  1       &   2      & 11348313\\\\\n",
       "\t Day0     & 17       & 177148   &  1       &  1       &   2      & 11348313\\\\\n",
       "\t Day0     & 10       &  44288   & 23       & 21       &  44      & 11348313\\\\\n",
       "\t Day0     & 9        & 398582   &  1       &  6       &   7      & 11348313\\\\\n",
       "\t Day0     & 4        & 265722   & 63       & 45       & 108      & 11348313\\\\\n",
       "\t Day0     & 14       & 132862   &  5       &  1       &   6      & 11348313\\\\\n",
       "\\end{tabular}\n"
      ],
      "text/markdown": [
       "\n",
       "| sample | chr | names | C | M | sumR | total_reads |\n",
       "|---|---|---|---|---|---|---|\n",
       "| Day0     | 1        |      1   |  1       |  1       |   2      | 11348313 |\n",
       "| Day0     | 17       | 177148   |  1       |  1       |   2      | 11348313 |\n",
       "| Day0     | 10       |  44288   | 23       | 21       |  44      | 11348313 |\n",
       "| Day0     | 9        | 398582   |  1       |  6       |   7      | 11348313 |\n",
       "| Day0     | 4        | 265722   | 63       | 45       | 108      | 11348313 |\n",
       "| Day0     | 14       | 132862   |  5       |  1       |   6      | 11348313 |\n",
       "\n"
      ],
      "text/plain": [
       "  sample chr names  C  M  sumR total_reads\n",
       "1 Day0   1        1  1  1   2  11348313   \n",
       "2 Day0   17  177148  1  1   2  11348313   \n",
       "3 Day0   10   44288 23 21  44  11348313   \n",
       "4 Day0   9   398582  1  6   7  11348313   \n",
       "5 Day0   4   265722 63 45 108  11348313   \n",
       "6 Day0   14  132862  5  1   6  11348313   "
      ]
     },
     "metadata": {},
     "output_type": "display_data"
    }
   ],
   "source": [
    "head(df_allelic_full_gathered)"
   ]
  },
  {
   "cell_type": "code",
   "execution_count": 26,
   "metadata": {},
   "outputs": [],
   "source": [
    "df_allelic_full_gathered$mus_norm <- log1p((df_allelic_full_gathered$M/df_allelic_full_gathered$total_reads)*10000)\n",
    "df_allelic_full_gathered$cast_norm <- log1p((df_allelic_full_gathered$C/df_allelic_full_gathered$total_reads)*10000)"
   ]
  },
  {
   "cell_type": "code",
   "execution_count": 27,
   "metadata": {},
   "outputs": [
    {
     "data": {
      "text/html": [
       "<table>\n",
       "<thead><tr><th scope=col>sample</th><th scope=col>chr</th><th scope=col>names</th><th scope=col>C</th><th scope=col>M</th><th scope=col>sumR</th><th scope=col>total_reads</th><th scope=col>mus_norm</th><th scope=col>cast_norm</th></tr></thead>\n",
       "<tbody>\n",
       "\t<tr><td>Day0        </td><td>1           </td><td>     1      </td><td> 1          </td><td> 1          </td><td>  2         </td><td>11348313    </td><td>0.0008808002</td><td>0.0008808002</td></tr>\n",
       "\t<tr><td>Day0        </td><td>17          </td><td>177148      </td><td> 1          </td><td> 1          </td><td>  2         </td><td>11348313    </td><td>0.0008808002</td><td>0.0008808002</td></tr>\n",
       "\t<tr><td>Day0        </td><td>10          </td><td> 44288      </td><td>23          </td><td>21          </td><td> 44         </td><td>11348313    </td><td>0.0183358198</td><td>0.0200646808</td></tr>\n",
       "\t<tr><td>Day0        </td><td>9           </td><td>398582      </td><td> 1          </td><td> 6          </td><td>  7         </td><td>11348313    </td><td>0.0052732017</td><td>0.0008808002</td></tr>\n",
       "\t<tr><td>Day0        </td><td>4           </td><td>265722      </td><td>63          </td><td>45          </td><td>108         </td><td>11348313    </td><td>0.0388874566</td><td>0.0540286662</td></tr>\n",
       "\t<tr><td>Day0        </td><td>14          </td><td>132862      </td><td> 5          </td><td> 1          </td><td>  6         </td><td>11348313    </td><td>0.0008808002</td><td>0.0043962635</td></tr>\n",
       "</tbody>\n",
       "</table>\n"
      ],
      "text/latex": [
       "\\begin{tabular}{r|lllllllll}\n",
       " sample & chr & names & C & M & sumR & total\\_reads & mus\\_norm & cast\\_norm\\\\\n",
       "\\hline\n",
       "\t Day0         & 1            &      1       &  1           &  1           &   2          & 11348313     & 0.0008808002 & 0.0008808002\\\\\n",
       "\t Day0         & 17           & 177148       &  1           &  1           &   2          & 11348313     & 0.0008808002 & 0.0008808002\\\\\n",
       "\t Day0         & 10           &  44288       & 23           & 21           &  44          & 11348313     & 0.0183358198 & 0.0200646808\\\\\n",
       "\t Day0         & 9            & 398582       &  1           &  6           &   7          & 11348313     & 0.0052732017 & 0.0008808002\\\\\n",
       "\t Day0         & 4            & 265722       & 63           & 45           & 108          & 11348313     & 0.0388874566 & 0.0540286662\\\\\n",
       "\t Day0         & 14           & 132862       &  5           &  1           &   6          & 11348313     & 0.0008808002 & 0.0043962635\\\\\n",
       "\\end{tabular}\n"
      ],
      "text/markdown": [
       "\n",
       "| sample | chr | names | C | M | sumR | total_reads | mus_norm | cast_norm |\n",
       "|---|---|---|---|---|---|---|---|---|\n",
       "| Day0         | 1            |      1       |  1           |  1           |   2          | 11348313     | 0.0008808002 | 0.0008808002 |\n",
       "| Day0         | 17           | 177148       |  1           |  1           |   2          | 11348313     | 0.0008808002 | 0.0008808002 |\n",
       "| Day0         | 10           |  44288       | 23           | 21           |  44          | 11348313     | 0.0183358198 | 0.0200646808 |\n",
       "| Day0         | 9            | 398582       |  1           |  6           |   7          | 11348313     | 0.0052732017 | 0.0008808002 |\n",
       "| Day0         | 4            | 265722       | 63           | 45           | 108          | 11348313     | 0.0388874566 | 0.0540286662 |\n",
       "| Day0         | 14           | 132862       |  5           |  1           |   6          | 11348313     | 0.0008808002 | 0.0043962635 |\n",
       "\n"
      ],
      "text/plain": [
       "  sample chr names  C  M  sumR total_reads mus_norm     cast_norm   \n",
       "1 Day0   1        1  1  1   2  11348313    0.0008808002 0.0008808002\n",
       "2 Day0   17  177148  1  1   2  11348313    0.0008808002 0.0008808002\n",
       "3 Day0   10   44288 23 21  44  11348313    0.0183358198 0.0200646808\n",
       "4 Day0   9   398582  1  6   7  11348313    0.0052732017 0.0008808002\n",
       "5 Day0   4   265722 63 45 108  11348313    0.0388874566 0.0540286662\n",
       "6 Day0   14  132862  5  1   6  11348313    0.0008808002 0.0043962635"
      ]
     },
     "metadata": {},
     "output_type": "display_data"
    }
   ],
   "source": [
    "head(df_allelic_full_gathered)"
   ]
  },
  {
   "cell_type": "markdown",
   "metadata": {},
   "source": [
    "Filter for X chromosome and equal to or more than 10 reads between cast and mus"
   ]
  },
  {
   "cell_type": "code",
   "execution_count": 28,
   "metadata": {},
   "outputs": [
    {
     "data": {
      "text/html": [
       "'data.frame'"
      ],
      "text/latex": [
       "'data.frame'"
      ],
      "text/markdown": [
       "'data.frame'"
      ],
      "text/plain": [
       "[1] \"data.frame\""
      ]
     },
     "metadata": {},
     "output_type": "display_data"
    }
   ],
   "source": [
    "class(df_allelic_full_gathered)"
   ]
  },
  {
   "cell_type": "code",
   "execution_count": 29,
   "metadata": {},
   "outputs": [
    {
     "data": {
      "text/html": [
       "2450232"
      ],
      "text/latex": [
       "2450232"
      ],
      "text/markdown": [
       "2450232"
      ],
      "text/plain": [
       "[1] 2450232"
      ]
     },
     "metadata": {},
     "output_type": "display_data"
    }
   ],
   "source": [
    "nrow(df_allelic_full_gathered)"
   ]
  },
  {
   "cell_type": "code",
   "execution_count": 30,
   "metadata": {},
   "outputs": [],
   "source": [
    "X_10reads <- df_allelic_full_gathered[ which(df_allelic_full_gathered$chr=='X' & df_allelic_full_gathered$sumR >= 10),]\n",
    "Auto_10reads <- df_allelic_full_gathered[ which(df_allelic_full_gathered$chr!= \"X\" & df_allelic_full_gathered$chr!= \"Y\" & df_allelic_full_gathered$chr!= \"MT\" & df_allelic_full_gathered$sumR >= 10),]\n",
    "allchr_10reads <- df_allelic_full_gathered[ which( df_allelic_full_gathered$chr!= \"Y\" & df_allelic_full_gathered$chr!= \"MT\" & df_allelic_full_gathered$sumR >= 10),]"
   ]
  },
  {
   "cell_type": "code",
   "execution_count": 31,
   "metadata": {},
   "outputs": [
    {
     "data": {
      "text/html": [
       "<table>\n",
       "<thead><tr><th></th><th scope=col>sample</th><th scope=col>chr</th><th scope=col>names</th><th scope=col>C</th><th scope=col>M</th><th scope=col>sumR</th><th scope=col>total_reads</th><th scope=col>mus_norm</th><th scope=col>cast_norm</th></tr></thead>\n",
       "<tbody>\n",
       "\t<tr><th scope=row>3</th><td>Day0       </td><td>10         </td><td> 44288     </td><td>23         </td><td>21         </td><td> 44        </td><td>11348313   </td><td>0.018335820</td><td>0.020064681</td></tr>\n",
       "\t<tr><th scope=row>5</th><td>Day0       </td><td>4          </td><td>265722     </td><td>63         </td><td>45         </td><td>108        </td><td>11348313   </td><td>0.038887457</td><td>0.054028666</td></tr>\n",
       "\t<tr><th scope=row>10</th><td>Day0       </td><td>9          </td><td>398583     </td><td> 2         </td><td> 8         </td><td> 10        </td><td>11348313   </td><td>0.007024774</td><td>0.001760825</td></tr>\n",
       "\t<tr><th scope=row>11</th><td>Day0       </td><td>4          </td><td>265723     </td><td>39         </td><td>24         </td><td> 63        </td><td>11348313   </td><td>0.020927992</td><td>0.033789009</td></tr>\n",
       "\t<tr><th scope=row>16</th><td>Day0       </td><td>9          </td><td>398584     </td><td>61         </td><td>67         </td><td>128        </td><td>11348313   </td><td>0.057362471</td><td>0.052357587</td></tr>\n",
       "\t<tr><th scope=row>22</th><td>Day0       </td><td>9          </td><td>398585     </td><td>74         </td><td>36         </td><td>110        </td><td>11348313   </td><td>0.031230004</td><td>0.063170020</td></tr>\n",
       "</tbody>\n",
       "</table>\n"
      ],
      "text/latex": [
       "\\begin{tabular}{r|lllllllll}\n",
       "  & sample & chr & names & C & M & sumR & total\\_reads & mus\\_norm & cast\\_norm\\\\\n",
       "\\hline\n",
       "\t3 & Day0        & 10          &  44288      & 23          & 21          &  44         & 11348313    & 0.018335820 & 0.020064681\\\\\n",
       "\t5 & Day0        & 4           & 265722      & 63          & 45          & 108         & 11348313    & 0.038887457 & 0.054028666\\\\\n",
       "\t10 & Day0        & 9           & 398583      &  2          &  8          &  10         & 11348313    & 0.007024774 & 0.001760825\\\\\n",
       "\t11 & Day0        & 4           & 265723      & 39          & 24          &  63         & 11348313    & 0.020927992 & 0.033789009\\\\\n",
       "\t16 & Day0        & 9           & 398584      & 61          & 67          & 128         & 11348313    & 0.057362471 & 0.052357587\\\\\n",
       "\t22 & Day0        & 9           & 398585      & 74          & 36          & 110         & 11348313    & 0.031230004 & 0.063170020\\\\\n",
       "\\end{tabular}\n"
      ],
      "text/markdown": [
       "\n",
       "| <!--/--> | sample | chr | names | C | M | sumR | total_reads | mus_norm | cast_norm |\n",
       "|---|---|---|---|---|---|---|---|---|---|\n",
       "| 3 | Day0        | 10          |  44288      | 23          | 21          |  44         | 11348313    | 0.018335820 | 0.020064681 |\n",
       "| 5 | Day0        | 4           | 265722      | 63          | 45          | 108         | 11348313    | 0.038887457 | 0.054028666 |\n",
       "| 10 | Day0        | 9           | 398583      |  2          |  8          |  10         | 11348313    | 0.007024774 | 0.001760825 |\n",
       "| 11 | Day0        | 4           | 265723      | 39          | 24          |  63         | 11348313    | 0.020927992 | 0.033789009 |\n",
       "| 16 | Day0        | 9           | 398584      | 61          | 67          | 128         | 11348313    | 0.057362471 | 0.052357587 |\n",
       "| 22 | Day0        | 9           | 398585      | 74          | 36          | 110         | 11348313    | 0.031230004 | 0.063170020 |\n",
       "\n"
      ],
      "text/plain": [
       "   sample chr names  C  M  sumR total_reads mus_norm    cast_norm  \n",
       "3  Day0   10   44288 23 21  44  11348313    0.018335820 0.020064681\n",
       "5  Day0   4   265722 63 45 108  11348313    0.038887457 0.054028666\n",
       "10 Day0   9   398583  2  8  10  11348313    0.007024774 0.001760825\n",
       "11 Day0   4   265723 39 24  63  11348313    0.020927992 0.033789009\n",
       "16 Day0   9   398584 61 67 128  11348313    0.057362471 0.052357587\n",
       "22 Day0   9   398585 74 36 110  11348313    0.031230004 0.063170020"
      ]
     },
     "metadata": {},
     "output_type": "display_data"
    }
   ],
   "source": [
    "head(allchr_10reads)"
   ]
  },
  {
   "cell_type": "code",
   "execution_count": 32,
   "metadata": {},
   "outputs": [],
   "source": [
    "allchr_10reads <- subset(allchr_10reads, sample == 'Day0')"
   ]
  },
  {
   "cell_type": "code",
   "execution_count": 33,
   "metadata": {},
   "outputs": [],
   "source": [
    "allchr_10reads$chr <- factor(allchr_10reads$chr, levels=c('X', '1', '2', '3', '4', '5', '6', '7', '8', '9', '10', '11', '12', '13', '14', '15', '16', '17', '18', '19'))"
   ]
  },
  {
   "cell_type": "code",
   "execution_count": 34,
   "metadata": {},
   "outputs": [],
   "source": [
    "median_of_chr <- allchr_10reads %>% group_by(chr) %>% summarise(median_chr_mus = median(mus_norm))\n",
    "#Now you have to make the median of the chromosomes except the one that will be used to make the ratio. e.g. for chr 1 you have to take the median of chr 2-19. \n",
    "#this is done with excel faster for now. "
   ]
  },
  {
   "cell_type": "code",
   "execution_count": 35,
   "metadata": {},
   "outputs": [
    {
     "data": {
      "text/html": [
       "<table>\n",
       "<thead><tr><th scope=col>chr</th><th scope=col>median_chr_mus</th></tr></thead>\n",
       "<tbody>\n",
       "\t<tr><td>X           </td><td>0.0008808002</td></tr>\n",
       "\t<tr><td>1           </td><td>0.0113903304</td></tr>\n",
       "\t<tr><td>2           </td><td>0.0105187425</td></tr>\n",
       "\t<tr><td>3           </td><td>0.0105187425</td></tr>\n",
       "\t<tr><td>4           </td><td>0.0113903304</td></tr>\n",
       "\t<tr><td>5           </td><td>0.0113903304</td></tr>\n",
       "\t<tr><td>6           </td><td>0.0105187425</td></tr>\n",
       "\t<tr><td>7           </td><td>0.0113903304</td></tr>\n",
       "\t<tr><td>8           </td><td>0.0113903304</td></tr>\n",
       "\t<tr><td>9           </td><td>0.0105187425</td></tr>\n",
       "\t<tr><td>10          </td><td>0.0122611592</td></tr>\n",
       "\t<tr><td>11          </td><td>0.0113903304</td></tr>\n",
       "\t<tr><td>12          </td><td>0.0105187425</td></tr>\n",
       "\t<tr><td>13          </td><td>0.0105187425</td></tr>\n",
       "\t<tr><td>14          </td><td>0.0096463943</td></tr>\n",
       "\t<tr><td>15          </td><td>0.0105187425</td></tr>\n",
       "\t<tr><td>16          </td><td>0.0113903304</td></tr>\n",
       "\t<tr><td>17          </td><td>0.0105187425</td></tr>\n",
       "\t<tr><td>18          </td><td>0.0105187425</td></tr>\n",
       "\t<tr><td>19          </td><td>0.0122611592</td></tr>\n",
       "</tbody>\n",
       "</table>\n"
      ],
      "text/latex": [
       "\\begin{tabular}{r|ll}\n",
       " chr & median\\_chr\\_mus\\\\\n",
       "\\hline\n",
       "\t X            & 0.0008808002\\\\\n",
       "\t 1            & 0.0113903304\\\\\n",
       "\t 2            & 0.0105187425\\\\\n",
       "\t 3            & 0.0105187425\\\\\n",
       "\t 4            & 0.0113903304\\\\\n",
       "\t 5            & 0.0113903304\\\\\n",
       "\t 6            & 0.0105187425\\\\\n",
       "\t 7            & 0.0113903304\\\\\n",
       "\t 8            & 0.0113903304\\\\\n",
       "\t 9            & 0.0105187425\\\\\n",
       "\t 10           & 0.0122611592\\\\\n",
       "\t 11           & 0.0113903304\\\\\n",
       "\t 12           & 0.0105187425\\\\\n",
       "\t 13           & 0.0105187425\\\\\n",
       "\t 14           & 0.0096463943\\\\\n",
       "\t 15           & 0.0105187425\\\\\n",
       "\t 16           & 0.0113903304\\\\\n",
       "\t 17           & 0.0105187425\\\\\n",
       "\t 18           & 0.0105187425\\\\\n",
       "\t 19           & 0.0122611592\\\\\n",
       "\\end{tabular}\n"
      ],
      "text/markdown": [
       "\n",
       "| chr | median_chr_mus |\n",
       "|---|---|\n",
       "| X            | 0.0008808002 |\n",
       "| 1            | 0.0113903304 |\n",
       "| 2            | 0.0105187425 |\n",
       "| 3            | 0.0105187425 |\n",
       "| 4            | 0.0113903304 |\n",
       "| 5            | 0.0113903304 |\n",
       "| 6            | 0.0105187425 |\n",
       "| 7            | 0.0113903304 |\n",
       "| 8            | 0.0113903304 |\n",
       "| 9            | 0.0105187425 |\n",
       "| 10           | 0.0122611592 |\n",
       "| 11           | 0.0113903304 |\n",
       "| 12           | 0.0105187425 |\n",
       "| 13           | 0.0105187425 |\n",
       "| 14           | 0.0096463943 |\n",
       "| 15           | 0.0105187425 |\n",
       "| 16           | 0.0113903304 |\n",
       "| 17           | 0.0105187425 |\n",
       "| 18           | 0.0105187425 |\n",
       "| 19           | 0.0122611592 |\n",
       "\n"
      ],
      "text/plain": [
       "   chr median_chr_mus\n",
       "1  X   0.0008808002  \n",
       "2  1   0.0113903304  \n",
       "3  2   0.0105187425  \n",
       "4  3   0.0105187425  \n",
       "5  4   0.0113903304  \n",
       "6  5   0.0113903304  \n",
       "7  6   0.0105187425  \n",
       "8  7   0.0113903304  \n",
       "9  8   0.0113903304  \n",
       "10 9   0.0105187425  \n",
       "11 10  0.0122611592  \n",
       "12 11  0.0113903304  \n",
       "13 12  0.0105187425  \n",
       "14 13  0.0105187425  \n",
       "15 14  0.0096463943  \n",
       "16 15  0.0105187425  \n",
       "17 16  0.0113903304  \n",
       "18 17  0.0105187425  \n",
       "19 18  0.0105187425  \n",
       "20 19  0.0122611592  "
      ]
     },
     "metadata": {},
     "output_type": "display_data"
    }
   ],
   "source": [
    "median_of_chr"
   ]
  },
  {
   "cell_type": "code",
   "execution_count": 36,
   "metadata": {},
   "outputs": [],
   "source": [
    "setwd(\"/ddn1/vol1/staging/leuven/stg_00041/Irene/ATAC_analysis/Xa_Xi_dynamics/\")"
   ]
  },
  {
   "cell_type": "code",
   "execution_count": 37,
   "metadata": {},
   "outputs": [],
   "source": [
    "write.table(median_of_chr, file = 'median_of_chr_mus.txt', sep = \"\\t\")"
   ]
  },
  {
   "cell_type": "code",
   "execution_count": 38,
   "metadata": {},
   "outputs": [],
   "source": [
    "median_autos_except_thisone <- read.delim(\"median_autos_except_thisone_mus.txt\")"
   ]
  },
  {
   "cell_type": "code",
   "execution_count": 39,
   "metadata": {},
   "outputs": [
    {
     "data": {
      "text/html": [
       "<table>\n",
       "<thead><tr><th scope=col>chr</th><th scope=col>median_chr_mus</th><th scope=col>median_autos_except_thisone_mus</th></tr></thead>\n",
       "<tbody>\n",
       "\t<tr><td>X         </td><td>0.00088080</td><td>0.01051874</td></tr>\n",
       "\t<tr><td>1         </td><td>0.01139033</td><td>0.01051874</td></tr>\n",
       "\t<tr><td>2         </td><td>0.01051874</td><td>0.01095454</td></tr>\n",
       "\t<tr><td>3         </td><td>0.01051874</td><td>0.01095454</td></tr>\n",
       "\t<tr><td>4         </td><td>0.01139033</td><td>0.01051874</td></tr>\n",
       "\t<tr><td>5         </td><td>0.01139033</td><td>0.01051874</td></tr>\n",
       "</tbody>\n",
       "</table>\n"
      ],
      "text/latex": [
       "\\begin{tabular}{r|lll}\n",
       " chr & median\\_chr\\_mus & median\\_autos\\_except\\_thisone\\_mus\\\\\n",
       "\\hline\n",
       "\t X          & 0.00088080 & 0.01051874\\\\\n",
       "\t 1          & 0.01139033 & 0.01051874\\\\\n",
       "\t 2          & 0.01051874 & 0.01095454\\\\\n",
       "\t 3          & 0.01051874 & 0.01095454\\\\\n",
       "\t 4          & 0.01139033 & 0.01051874\\\\\n",
       "\t 5          & 0.01139033 & 0.01051874\\\\\n",
       "\\end{tabular}\n"
      ],
      "text/markdown": [
       "\n",
       "| chr | median_chr_mus | median_autos_except_thisone_mus |\n",
       "|---|---|---|\n",
       "| X          | 0.00088080 | 0.01051874 |\n",
       "| 1          | 0.01139033 | 0.01051874 |\n",
       "| 2          | 0.01051874 | 0.01095454 |\n",
       "| 3          | 0.01051874 | 0.01095454 |\n",
       "| 4          | 0.01139033 | 0.01051874 |\n",
       "| 5          | 0.01139033 | 0.01051874 |\n",
       "\n"
      ],
      "text/plain": [
       "  chr median_chr_mus median_autos_except_thisone_mus\n",
       "1 X   0.00088080     0.01051874                     \n",
       "2 1   0.01139033     0.01051874                     \n",
       "3 2   0.01051874     0.01095454                     \n",
       "4 3   0.01051874     0.01095454                     \n",
       "5 4   0.01139033     0.01051874                     \n",
       "6 5   0.01139033     0.01051874                     "
      ]
     },
     "metadata": {},
     "output_type": "display_data"
    }
   ],
   "source": [
    "head(median_autos_except_thisone)"
   ]
  },
  {
   "cell_type": "code",
   "execution_count": 40,
   "metadata": {},
   "outputs": [],
   "source": [
    "allchr_10reads <- merge(allchr_10reads, median_autos_except_thisone, by = \"chr\")"
   ]
  },
  {
   "cell_type": "code",
   "execution_count": 41,
   "metadata": {},
   "outputs": [
    {
     "data": {
      "text/html": [
       "<table>\n",
       "<thead><tr><th scope=col>chr</th><th scope=col>sample</th><th scope=col>names</th><th scope=col>C</th><th scope=col>M</th><th scope=col>sumR</th><th scope=col>total_reads</th><th scope=col>mus_norm</th><th scope=col>cast_norm</th><th scope=col>median_chr_mus</th><th scope=col>median_autos_except_thisone_mus</th></tr></thead>\n",
       "<tbody>\n",
       "\t<tr><td>1          </td><td>Day0       </td><td>29341      </td><td> 5         </td><td> 7         </td><td> 12        </td><td>11348313   </td><td>0.006149372</td><td>0.004396263</td><td>0.01139033 </td><td>0.01051874 </td></tr>\n",
       "\t<tr><td>1          </td><td>Day0       </td><td> 4475      </td><td>29         </td><td>33         </td><td> 62        </td><td>11348313   </td><td>0.028664434</td><td>0.025233402</td><td>0.01139033 </td><td>0.01051874 </td></tr>\n",
       "\t<tr><td>1          </td><td>Day0       </td><td> 1025      </td><td> 7         </td><td> 7         </td><td> 14        </td><td>11348313   </td><td>0.006149372</td><td>0.006149372</td><td>0.01139033 </td><td>0.01051874 </td></tr>\n",
       "\t<tr><td>1          </td><td>Day0       </td><td>  237      </td><td>19         </td><td>34         </td><td> 53        </td><td>11348313   </td><td>0.029520355</td><td>0.016603965</td><td>0.01139033 </td><td>0.01051874 </td></tr>\n",
       "\t<tr><td>1          </td><td>Day0       </td><td>18967      </td><td>24         </td><td>15         </td><td> 39        </td><td>11348313   </td><td>0.013131230</td><td>0.020927992</td><td>0.01139033 </td><td>0.01051874 </td></tr>\n",
       "\t<tr><td>1          </td><td>Day0       </td><td> 5510      </td><td>58         </td><td>53         </td><td>111        </td><td>11348313   </td><td>0.045645202</td><td>0.049845719</td><td>0.01139033 </td><td>0.01051874 </td></tr>\n",
       "</tbody>\n",
       "</table>\n"
      ],
      "text/latex": [
       "\\begin{tabular}{r|lllllllllll}\n",
       " chr & sample & names & C & M & sumR & total\\_reads & mus\\_norm & cast\\_norm & median\\_chr\\_mus & median\\_autos\\_except\\_thisone\\_mus\\\\\n",
       "\\hline\n",
       "\t 1           & Day0        & 29341       &  5          &  7          &  12         & 11348313    & 0.006149372 & 0.004396263 & 0.01139033  & 0.01051874 \\\\\n",
       "\t 1           & Day0        &  4475       & 29          & 33          &  62         & 11348313    & 0.028664434 & 0.025233402 & 0.01139033  & 0.01051874 \\\\\n",
       "\t 1           & Day0        &  1025       &  7          &  7          &  14         & 11348313    & 0.006149372 & 0.006149372 & 0.01139033  & 0.01051874 \\\\\n",
       "\t 1           & Day0        &   237       & 19          & 34          &  53         & 11348313    & 0.029520355 & 0.016603965 & 0.01139033  & 0.01051874 \\\\\n",
       "\t 1           & Day0        & 18967       & 24          & 15          &  39         & 11348313    & 0.013131230 & 0.020927992 & 0.01139033  & 0.01051874 \\\\\n",
       "\t 1           & Day0        &  5510       & 58          & 53          & 111         & 11348313    & 0.045645202 & 0.049845719 & 0.01139033  & 0.01051874 \\\\\n",
       "\\end{tabular}\n"
      ],
      "text/markdown": [
       "\n",
       "| chr | sample | names | C | M | sumR | total_reads | mus_norm | cast_norm | median_chr_mus | median_autos_except_thisone_mus |\n",
       "|---|---|---|---|---|---|---|---|---|---|---|\n",
       "| 1           | Day0        | 29341       |  5          |  7          |  12         | 11348313    | 0.006149372 | 0.004396263 | 0.01139033  | 0.01051874  |\n",
       "| 1           | Day0        |  4475       | 29          | 33          |  62         | 11348313    | 0.028664434 | 0.025233402 | 0.01139033  | 0.01051874  |\n",
       "| 1           | Day0        |  1025       |  7          |  7          |  14         | 11348313    | 0.006149372 | 0.006149372 | 0.01139033  | 0.01051874  |\n",
       "| 1           | Day0        |   237       | 19          | 34          |  53         | 11348313    | 0.029520355 | 0.016603965 | 0.01139033  | 0.01051874  |\n",
       "| 1           | Day0        | 18967       | 24          | 15          |  39         | 11348313    | 0.013131230 | 0.020927992 | 0.01139033  | 0.01051874  |\n",
       "| 1           | Day0        |  5510       | 58          | 53          | 111         | 11348313    | 0.045645202 | 0.049845719 | 0.01139033  | 0.01051874  |\n",
       "\n"
      ],
      "text/plain": [
       "  chr sample names C  M  sumR total_reads mus_norm    cast_norm  \n",
       "1 1   Day0   29341  5  7  12  11348313    0.006149372 0.004396263\n",
       "2 1   Day0    4475 29 33  62  11348313    0.028664434 0.025233402\n",
       "3 1   Day0    1025  7  7  14  11348313    0.006149372 0.006149372\n",
       "4 1   Day0     237 19 34  53  11348313    0.029520355 0.016603965\n",
       "5 1   Day0   18967 24 15  39  11348313    0.013131230 0.020927992\n",
       "6 1   Day0    5510 58 53 111  11348313    0.045645202 0.049845719\n",
       "  median_chr_mus median_autos_except_thisone_mus\n",
       "1 0.01139033     0.01051874                     \n",
       "2 0.01139033     0.01051874                     \n",
       "3 0.01139033     0.01051874                     \n",
       "4 0.01139033     0.01051874                     \n",
       "5 0.01139033     0.01051874                     \n",
       "6 0.01139033     0.01051874                     "
      ]
     },
     "metadata": {},
     "output_type": "display_data"
    }
   ],
   "source": [
    "head(allchr_10reads)"
   ]
  },
  {
   "cell_type": "code",
   "execution_count": 42,
   "metadata": {},
   "outputs": [],
   "source": [
    "allchr_10reads$chr_to_auto_ratio_mus <- allchr_10reads$mus_norm/allchr_10reads$median_autos_except_thisone_mus"
   ]
  },
  {
   "cell_type": "code",
   "execution_count": 43,
   "metadata": {},
   "outputs": [
    {
     "name": "stderr",
     "output_type": "stream",
     "text": [
      "Warning message:\n",
      "\"Ignoring unknown parameters: outlier.shape\""
     ]
    }
   ],
   "source": [
    "options(repr.plot.width=10, repr.plot.height=3)\n",
    "plot <- ggplot(allchr_10reads, aes(x=chr, y=chr_to_auto_ratio_mus, fill=sample)) + \n",
    "  \n",
    "geom_violin(scale = \"width\", alpha = 1, show.legend=FALSE, outlier.shape = NA) +\n",
    "scale_fill_brewer(palette=\"Pastel1\")+\n",
    "geom_boxplot(width=0.3, fill=\"white\", alpha = 0.5) +\n",
    "  \n",
    "  scale_colour_brewer(\"Colors in Paired\", palette=\"Pastel1\")+\n",
    "  #geom_jitter(width = 1, alpha = 0.5, show.legend=FALSE, aes(color = sample)) +\n",
    "\n",
    " \n",
    " theme(plot.title = element_text(size=6))+\n",
    "    xlab(\"\") + \n",
    "    ylab(\"chr/Auto accessibility ratio MEFs mus\")+\n",
    "    coord_cartesian(ylim = c(0,4))+\n",
    "    theme(axis.text.x  = element_text(angle=0, vjust=0.5, size=8, color = \"black\"))+\n",
    " theme(axis.text.y  = element_text(color = \"black\"))+\n",
    "    theme(legend.title=element_blank())+\n",
    "    theme(axis.line = element_line(colour = \"black\"),\n",
    "    panel.grid.major = element_line(colour = \"grey82\"),\n",
    "   \n",
    "    panel.border = element_blank(),\n",
    "    panel.background = element_blank())"
   ]
  },
  {
   "cell_type": "code",
   "execution_count": 44,
   "metadata": {},
   "outputs": [
    {
     "data": {
      "image/png": "[encoded data removed]",
      "text/plain": [
       "plot without title"
      ]
     },
     "metadata": {},
     "output_type": "display_data"
    }
   ],
   "source": [
    "plot"
   ]
  },
  {
   "cell_type": "code",
   "execution_count": 45,
   "metadata": {},
   "outputs": [],
   "source": [
    "ggsave(\"chr_to_auto_ratio_MEFs_mus.pdf\", width = 10, height = 3)"
   ]
  },
  {
   "cell_type": "code",
   "execution_count": 93,
   "metadata": {},
   "outputs": [],
   "source": [
    "res2 <- pairwise.wilcox.test(X_10reads$x_to_auto_ratio, X_10reads$sample, p.adjust.method = \"bonferroni\")"
   ]
  },
  {
   "cell_type": "code",
   "execution_count": 94,
   "metadata": {},
   "outputs": [
    {
     "data": {
      "text/html": [
       "<table>\n",
       "<thead><tr><th></th><th scope=col>Day0</th><th scope=col>Day8</th><th scope=col>Day9</th><th scope=col>Day10</th><th scope=col>Day12</th></tr></thead>\n",
       "<tbody>\n",
       "\t<tr><th scope=row>Day8</th><td>1.000000e+00</td><td>          NA</td><td>          NA</td><td>          NA</td><td>          NA</td></tr>\n",
       "\t<tr><th scope=row>Day9</th><td>1.000000e+00</td><td>1.000000e+00</td><td>          NA</td><td>          NA</td><td>          NA</td></tr>\n",
       "\t<tr><th scope=row>Day10</th><td>1.000000e+00</td><td>4.461100e-02</td><td>1.000000e+00</td><td>          NA</td><td>          NA</td></tr>\n",
       "\t<tr><th scope=row>Day12</th><td>1.457788e-15</td><td>5.206473e-25</td><td>8.233927e-26</td><td>3.542285e-15</td><td>          NA</td></tr>\n",
       "\t<tr><th scope=row>iPSCs</th><td>3.504081e-52</td><td>1.716923e-63</td><td>1.969412e-67</td><td>5.011372e-49</td><td>2.636826e-15</td></tr>\n",
       "</tbody>\n",
       "</table>\n"
      ],
      "text/latex": [
       "\\begin{tabular}{r|lllll}\n",
       "  & Day0 & Day8 & Day9 & Day10 & Day12\\\\\n",
       "\\hline\n",
       "\tDay8 & 1.000000e+00 &           NA &           NA &           NA &           NA\\\\\n",
       "\tDay9 & 1.000000e+00 & 1.000000e+00 &           NA &           NA &           NA\\\\\n",
       "\tDay10 & 1.000000e+00 & 4.461100e-02 & 1.000000e+00 &           NA &           NA\\\\\n",
       "\tDay12 & 1.457788e-15 & 5.206473e-25 & 8.233927e-26 & 3.542285e-15 &           NA\\\\\n",
       "\tiPSCs & 3.504081e-52 & 1.716923e-63 & 1.969412e-67 & 5.011372e-49 & 2.636826e-15\\\\\n",
       "\\end{tabular}\n"
      ],
      "text/markdown": [
       "\n",
       "| <!--/--> | Day0 | Day8 | Day9 | Day10 | Day12 |\n",
       "|---|---|---|---|---|---|\n",
       "| Day8 | 1.000000e+00 |           NA |           NA |           NA |           NA |\n",
       "| Day9 | 1.000000e+00 | 1.000000e+00 |           NA |           NA |           NA |\n",
       "| Day10 | 1.000000e+00 | 4.461100e-02 | 1.000000e+00 |           NA |           NA |\n",
       "| Day12 | 1.457788e-15 | 5.206473e-25 | 8.233927e-26 | 3.542285e-15 |           NA |\n",
       "| iPSCs | 3.504081e-52 | 1.716923e-63 | 1.969412e-67 | 5.011372e-49 | 2.636826e-15 |\n",
       "\n"
      ],
      "text/plain": [
       "      Day0         Day8         Day9         Day10        Day12       \n",
       "Day8  1.000000e+00           NA           NA           NA           NA\n",
       "Day9  1.000000e+00 1.000000e+00           NA           NA           NA\n",
       "Day10 1.000000e+00 4.461100e-02 1.000000e+00           NA           NA\n",
       "Day12 1.457788e-15 5.206473e-25 8.233927e-26 3.542285e-15           NA\n",
       "iPSCs 3.504081e-52 1.716923e-63 1.969412e-67 5.011372e-49 2.636826e-15"
      ]
     },
     "metadata": {},
     "output_type": "display_data"
    }
   ],
   "source": [
    "res2$p.value"
   ]
  }
 ],
 "metadata": {
  "kernelspec": {
   "display_name": "R [conda env:R_ATACseq2]",
   "language": "R",
   "name": "conda-env-R_ATACseq2-r"
  },
  "language_info": {
   "codemirror_mode": "r",
   "file_extension": ".r",
   "mimetype": "text/x-r-source",
   "name": "R",
   "pygments_lexer": "r",
   "version": "3.6.1"
  }
 },
 "nbformat": 4,
 "nbformat_minor": 4
}
