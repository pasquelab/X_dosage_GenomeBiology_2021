{
 "cells": [
  {
   "cell_type": "markdown",
   "metadata": {},
   "source": [
    "# Generate normalized allelic tables "
   ]
  },
  {
   "cell_type": "markdown",
   "metadata": {},
   "source": [
    "**Run with R_scRNAseq env**"
   ]
  },
  {
   "cell_type": "markdown",
   "metadata": {},
   "source": [
    "### load packages"
   ]
  },
  {
   "cell_type": "code",
   "execution_count": 3,
   "metadata": {},
   "outputs": [],
   "source": [
    "setwd(\"/staging/leuven/stg_00041/Adrian/TALON_JANISZEWSKI_XCR2/\")"
   ]
  },
  {
   "cell_type": "code",
   "execution_count": 2,
   "metadata": {},
   "outputs": [
    {
     "name": "stderr",
     "output_type": "stream",
     "text": [
      "Warning message:\n",
      "\"package 'Seurat' was built under R version 3.6.2\""
     ]
    }
   ],
   "source": [
    "suppressPackageStartupMessages({\n",
    "    library(Seurat)\n",
    "    library(dplyr)\n",
    "    library(readr)\n",
    "    library(ggplot2)\n",
    "    library(tidyr)\n",
    "    suppressMessages(library(viridis))\n",
    "})"
   ]
  },
  {
   "cell_type": "code",
   "execution_count": 4,
   "metadata": {},
   "outputs": [
    {
     "name": "stderr",
     "output_type": "stream",
     "text": [
      "Warning message:\n",
      "\"Missing column names filled in: 'X1' [1]\"Parsed with column specification:\n",
      "cols(\n",
      "  .default = col_double(),\n",
      "  gene = col_character(),\n",
      "  RNA_id = col_character(),\n",
      "  cell_type = col_character(),\n",
      "  Xi = col_character(),\n",
      "  Chr = col_character()\n",
      ")\n",
      "See spec(...) for full column specifications.\n"
     ]
    }
   ],
   "source": [
    "# for reference:\n",
    "\n",
    "ref_allelic <- read_csv(\"/staging/leuven/stg_00041/Adrian/AJ_0065.9-sc_allele_specific/AJ_0065.9c_allelic_norm_complete.csv\")"
   ]
  },
  {
   "cell_type": "code",
   "execution_count": 5,
   "metadata": {},
   "outputs": [
    {
     "data": {
      "text/html": [
       "<table>\n",
       "<thead><tr><th scope=col>X1</th><th scope=col>gene</th><th scope=col>RNA_id</th><th scope=col>X</th><th scope=col>X129</th><th scope=col>Cast</th><th scope=col>sumReads</th><th scope=col>ratioPercent</th><th scope=col>ratioLog</th><th scope=col>Pseudotime</th><th scope=col>...</th><th scope=col>Xi</th><th scope=col>X2</th><th scope=col>cluster</th><th scope=col>cluster_replace</th><th scope=col>Chr</th><th scope=col>total_reads</th><th scope=col>mus_norm</th><th scope=col>cast_norm</th><th scope=col>ratio_norm</th><th scope=col>sum_norm</th></tr></thead>\n",
       "<tbody>\n",
       "\t<tr><td>1               </td><td>0610009B22Rik   </td><td>Day_10_Xi_Mus_59</td><td>2323152         </td><td>0               </td><td>0               </td><td>0               </td><td>    NA          </td><td>        NA      </td><td>43.62880        </td><td>...             </td><td>Mus             </td><td>226             </td><td>0               </td><td>2               </td><td>chr11           </td><td> 88329          </td><td>0.00000000      </td><td>0.0000000       </td><td>       NA       </td><td>0.0000000       </td></tr>\n",
       "\t<tr><td>2               </td><td>0610009B22Rik   </td><td>Day_10_Xi_Mus_15</td><td>1559376         </td><td>0               </td><td>0               </td><td>0               </td><td>    NA          </td><td>        NA      </td><td>48.75234        </td><td>...             </td><td>Mus             </td><td> 58             </td><td>4               </td><td>3               </td><td>chr11           </td><td> 10125          </td><td>0.00000000      </td><td>0.0000000       </td><td>       NA       </td><td>0.0000000       </td></tr>\n",
       "\t<tr><td>3               </td><td>0610009B22Rik   </td><td>Day_10_Xi_Mus_55</td><td>2259504         </td><td>0               </td><td>4               </td><td>4               </td><td>0.0001          </td><td>-13.287712      </td><td>44.71111        </td><td>...             </td><td>Mus             </td><td>222             </td><td>0               </td><td>2               </td><td>chr11           </td><td>115942          </td><td>0.00000000      </td><td>0.2963941       </td><td>0.0000000       </td><td>0.2963941       </td></tr>\n",
       "\t<tr><td>4               </td><td>0610009B22Rik   </td><td>Day_12_Xi_Mus_85</td><td>5823792         </td><td>1               </td><td>7               </td><td>8               </td><td>0.1251          </td><td> -2.806345      </td><td>32.38629        </td><td>...             </td><td>Mus             </td><td>397             </td><td>1               </td><td>1               </td><td>chr11           </td><td>142685          </td><td>0.06773757      </td><td>0.3991728       </td><td>0.1450762       </td><td>0.4669104       </td></tr>\n",
       "\t<tr><td>5               </td><td>0610009B22Rik   </td><td>Day_12_Xi_Mus_87</td><td>5855616         </td><td>0               </td><td>0               </td><td>0               </td><td>    NA          </td><td>        NA      </td><td>79.94168        </td><td>...             </td><td>Mus             </td><td>391             </td><td>5               </td><td>4               </td><td>chr11           </td><td>202247          </td><td>0.00000000      </td><td>0.0000000       </td><td>       NA       </td><td>0.0000000       </td></tr>\n",
       "\t<tr><td>6               </td><td>0610009B22Rik   </td><td>Day_9_Xi_Mus_26 </td><td>7765056         </td><td>4               </td><td>0               </td><td>4               </td><td>1.0001          </td><td>       Inf      </td><td>46.96879        </td><td>...             </td><td>Mus             </td><td> 11             </td><td>0               </td><td>2               </td><td>chr11           </td><td>181032          </td><td>0.19963368      </td><td>0.0000000       </td><td>1.0000000       </td><td>0.1996337       </td></tr>\n",
       "</tbody>\n",
       "</table>\n"
      ],
      "text/latex": [
       "\\begin{tabular}{r|lllllllllllllllllllll}\n",
       " X1 & gene & RNA\\_id & X & X129 & Cast & sumReads & ratioPercent & ratioLog & Pseudotime & ... & Xi & X2 & cluster & cluster\\_replace & Chr & total\\_reads & mus\\_norm & cast\\_norm & ratio\\_norm & sum\\_norm\\\\\n",
       "\\hline\n",
       "\t 1                        & 0610009B22Rik            & Day\\_10\\_Xi\\_Mus\\_59 & 2323152                  & 0                        & 0                        & 0                        &     NA                   &         NA               & 43.62880                 & ...                      & Mus                      & 226                      & 0                        & 2                        & chr11                    &  88329                   & 0.00000000               & 0.0000000                &        NA                & 0.0000000               \\\\\n",
       "\t 2                        & 0610009B22Rik            & Day\\_10\\_Xi\\_Mus\\_15 & 1559376                  & 0                        & 0                        & 0                        &     NA                   &         NA               & 48.75234                 & ...                      & Mus                      &  58                      & 4                        & 3                        & chr11                    &  10125                   & 0.00000000               & 0.0000000                &        NA                & 0.0000000               \\\\\n",
       "\t 3                        & 0610009B22Rik            & Day\\_10\\_Xi\\_Mus\\_55 & 2259504                  & 0                        & 4                        & 4                        & 0.0001                   & -13.287712               & 44.71111                 & ...                      & Mus                      & 222                      & 0                        & 2                        & chr11                    & 115942                   & 0.00000000               & 0.2963941                & 0.0000000                & 0.2963941               \\\\\n",
       "\t 4                        & 0610009B22Rik            & Day\\_12\\_Xi\\_Mus\\_85 & 5823792                  & 1                        & 7                        & 8                        & 0.1251                   &  -2.806345               & 32.38629                 & ...                      & Mus                      & 397                      & 1                        & 1                        & chr11                    & 142685                   & 0.06773757               & 0.3991728                & 0.1450762                & 0.4669104               \\\\\n",
       "\t 5                        & 0610009B22Rik            & Day\\_12\\_Xi\\_Mus\\_87 & 5855616                  & 0                        & 0                        & 0                        &     NA                   &         NA               & 79.94168                 & ...                      & Mus                      & 391                      & 5                        & 4                        & chr11                    & 202247                   & 0.00000000               & 0.0000000                &        NA                & 0.0000000               \\\\\n",
       "\t 6                        & 0610009B22Rik            & Day\\_9\\_Xi\\_Mus\\_26  & 7765056                  & 4                        & 0                        & 4                        & 1.0001                   &        Inf               & 46.96879                 & ...                      & Mus                      &  11                      & 0                        & 2                        & chr11                    & 181032                   & 0.19963368               & 0.0000000                & 1.0000000                & 0.1996337               \\\\\n",
       "\\end{tabular}\n"
      ],
      "text/markdown": [
       "\n",
       "| X1 | gene | RNA_id | X | X129 | Cast | sumReads | ratioPercent | ratioLog | Pseudotime | ... | Xi | X2 | cluster | cluster_replace | Chr | total_reads | mus_norm | cast_norm | ratio_norm | sum_norm |\n",
       "|---|---|---|---|---|---|---|---|---|---|---|---|---|---|---|---|---|---|---|---|---|\n",
       "| 1                | 0610009B22Rik    | Day_10_Xi_Mus_59 | 2323152          | 0                | 0                | 0                |     NA           |         NA       | 43.62880         | ...              | Mus              | 226              | 0                | 2                | chr11            |  88329           | 0.00000000       | 0.0000000        |        NA        | 0.0000000        |\n",
       "| 2                | 0610009B22Rik    | Day_10_Xi_Mus_15 | 1559376          | 0                | 0                | 0                |     NA           |         NA       | 48.75234         | ...              | Mus              |  58              | 4                | 3                | chr11            |  10125           | 0.00000000       | 0.0000000        |        NA        | 0.0000000        |\n",
       "| 3                | 0610009B22Rik    | Day_10_Xi_Mus_55 | 2259504          | 0                | 4                | 4                | 0.0001           | -13.287712       | 44.71111         | ...              | Mus              | 222              | 0                | 2                | chr11            | 115942           | 0.00000000       | 0.2963941        | 0.0000000        | 0.2963941        |\n",
       "| 4                | 0610009B22Rik    | Day_12_Xi_Mus_85 | 5823792          | 1                | 7                | 8                | 0.1251           |  -2.806345       | 32.38629         | ...              | Mus              | 397              | 1                | 1                | chr11            | 142685           | 0.06773757       | 0.3991728        | 0.1450762        | 0.4669104        |\n",
       "| 5                | 0610009B22Rik    | Day_12_Xi_Mus_87 | 5855616          | 0                | 0                | 0                |     NA           |         NA       | 79.94168         | ...              | Mus              | 391              | 5                | 4                | chr11            | 202247           | 0.00000000       | 0.0000000        |        NA        | 0.0000000        |\n",
       "| 6                | 0610009B22Rik    | Day_9_Xi_Mus_26  | 7765056          | 4                | 0                | 4                | 1.0001           |        Inf       | 46.96879         | ...              | Mus              |  11              | 0                | 2                | chr11            | 181032           | 0.19963368       | 0.0000000        | 1.0000000        | 0.1996337        |\n",
       "\n"
      ],
      "text/plain": [
       "  X1 gene          RNA_id           X       X129 Cast sumReads ratioPercent\n",
       "1 1  0610009B22Rik Day_10_Xi_Mus_59 2323152 0    0    0            NA      \n",
       "2 2  0610009B22Rik Day_10_Xi_Mus_15 1559376 0    0    0            NA      \n",
       "3 3  0610009B22Rik Day_10_Xi_Mus_55 2259504 0    4    4        0.0001      \n",
       "4 4  0610009B22Rik Day_12_Xi_Mus_85 5823792 1    7    8        0.1251      \n",
       "5 5  0610009B22Rik Day_12_Xi_Mus_87 5855616 0    0    0            NA      \n",
       "6 6  0610009B22Rik Day_9_Xi_Mus_26  7765056 4    0    4        1.0001      \n",
       "  ratioLog   Pseudotime ... Xi  X2  cluster cluster_replace Chr   total_reads\n",
       "1         NA 43.62880   ... Mus 226 0       2               chr11  88329     \n",
       "2         NA 48.75234   ... Mus  58 4       3               chr11  10125     \n",
       "3 -13.287712 44.71111   ... Mus 222 0       2               chr11 115942     \n",
       "4  -2.806345 32.38629   ... Mus 397 1       1               chr11 142685     \n",
       "5         NA 79.94168   ... Mus 391 5       4               chr11 202247     \n",
       "6        Inf 46.96879   ... Mus  11 0       2               chr11 181032     \n",
       "  mus_norm   cast_norm ratio_norm sum_norm \n",
       "1 0.00000000 0.0000000        NA  0.0000000\n",
       "2 0.00000000 0.0000000        NA  0.0000000\n",
       "3 0.00000000 0.2963941 0.0000000  0.2963941\n",
       "4 0.06773757 0.3991728 0.1450762  0.4669104\n",
       "5 0.00000000 0.0000000        NA  0.0000000\n",
       "6 0.19963368 0.0000000 1.0000000  0.1996337"
      ]
     },
     "metadata": {},
     "output_type": "display_data"
    }
   ],
   "source": [
    "ref_allelic %>% head()"
   ]
  },
  {
   "cell_type": "markdown",
   "metadata": {},
   "source": [
    "### I/O"
   ]
  },
  {
   "cell_type": "code",
   "execution_count": 15,
   "metadata": {},
   "outputs": [],
   "source": [
    "io <- list()\n",
    "io$allele <- \"allele_specific/pre_processing/AJ_0065.9_allelic_bart_zeros_included.csv\"\n",
    "io$meta <- \"input/AJ_0065_annotation.csv\"\n",
    "io$clusters <- \"monocle/pseudotime_cluster_gene_normExpr.csv\"\n",
    "io$gene.metadata <- \"/staging/leuven/stg_00041/genomes/mm10_GRCm38.p6/genemetadata.csv\""
   ]
  },
  {
   "cell_type": "code",
   "execution_count": 8,
   "metadata": {},
   "outputs": [],
   "source": [
    "allelic <- read.csv(io$allele)\n",
    "colnames(allelic)[2] <- \"Name\"\n",
    "allelic$Name <- as.character(allelic$Name)"
   ]
  },
  {
   "cell_type": "code",
   "execution_count": 5,
   "metadata": {},
   "outputs": [
    {
     "data": {
      "text/html": [
       "662"
      ],
      "text/latex": [
       "662"
      ],
      "text/markdown": [
       "662"
      ],
      "text/plain": [
       "[1] 662"
      ]
     },
     "metadata": {},
     "output_type": "display_data"
    }
   ],
   "source": [
    "length(unique(allelic$Name))"
   ]
  },
  {
   "cell_type": "code",
   "execution_count": 10,
   "metadata": {},
   "outputs": [
    {
     "data": {
      "text/html": [
       "<table>\n",
       "<thead><tr><th scope=col>X</th><th scope=col>Name</th><th scope=col>gene</th><th scope=col>X129</th><th scope=col>Cast</th><th scope=col>sumReads</th><th scope=col>ratioPercent</th><th scope=col>ratioLog</th></tr></thead>\n",
       "<tbody>\n",
       "\t<tr><td>0             </td><td>Day_0_Xi_Mus_1</td><td>0610009B22Rik </td><td>0             </td><td>0             </td><td>0             </td><td>NA            </td><td>NA            </td></tr>\n",
       "\t<tr><td>1             </td><td>Day_0_Xi_Mus_1</td><td>0610009O20Rik </td><td>0             </td><td>0             </td><td>0             </td><td>NA            </td><td>NA            </td></tr>\n",
       "\t<tr><td>2             </td><td>Day_0_Xi_Mus_1</td><td>0610010F05Rik </td><td>0             </td><td>0             </td><td>0             </td><td>NA            </td><td>NA            </td></tr>\n",
       "\t<tr><td>3             </td><td>Day_0_Xi_Mus_1</td><td>0610010K14Rik </td><td>0             </td><td>0             </td><td>0             </td><td>NA            </td><td>NA            </td></tr>\n",
       "\t<tr><td>4             </td><td>Day_0_Xi_Mus_1</td><td>0610030E20Rik </td><td>0             </td><td>0             </td><td>0             </td><td>NA            </td><td>NA            </td></tr>\n",
       "\t<tr><td>5             </td><td>Day_0_Xi_Mus_1</td><td>0610037L13Rik </td><td>0             </td><td>0             </td><td>0             </td><td>NA            </td><td>NA            </td></tr>\n",
       "</tbody>\n",
       "</table>\n"
      ],
      "text/latex": [
       "\\begin{tabular}{r|llllllll}\n",
       " X & Name & gene & X129 & Cast & sumReads & ratioPercent & ratioLog\\\\\n",
       "\\hline\n",
       "\t 0                      & Day\\_0\\_Xi\\_Mus\\_1 & 0610009B22Rik          & 0                      & 0                      & 0                      & NA                     & NA                    \\\\\n",
       "\t 1                      & Day\\_0\\_Xi\\_Mus\\_1 & 0610009O20Rik          & 0                      & 0                      & 0                      & NA                     & NA                    \\\\\n",
       "\t 2                      & Day\\_0\\_Xi\\_Mus\\_1 & 0610010F05Rik          & 0                      & 0                      & 0                      & NA                     & NA                    \\\\\n",
       "\t 3                      & Day\\_0\\_Xi\\_Mus\\_1 & 0610010K14Rik          & 0                      & 0                      & 0                      & NA                     & NA                    \\\\\n",
       "\t 4                      & Day\\_0\\_Xi\\_Mus\\_1 & 0610030E20Rik          & 0                      & 0                      & 0                      & NA                     & NA                    \\\\\n",
       "\t 5                      & Day\\_0\\_Xi\\_Mus\\_1 & 0610037L13Rik          & 0                      & 0                      & 0                      & NA                     & NA                    \\\\\n",
       "\\end{tabular}\n"
      ],
      "text/markdown": [
       "\n",
       "| X | Name | gene | X129 | Cast | sumReads | ratioPercent | ratioLog |\n",
       "|---|---|---|---|---|---|---|---|\n",
       "| 0              | Day_0_Xi_Mus_1 | 0610009B22Rik  | 0              | 0              | 0              | NA             | NA             |\n",
       "| 1              | Day_0_Xi_Mus_1 | 0610009O20Rik  | 0              | 0              | 0              | NA             | NA             |\n",
       "| 2              | Day_0_Xi_Mus_1 | 0610010F05Rik  | 0              | 0              | 0              | NA             | NA             |\n",
       "| 3              | Day_0_Xi_Mus_1 | 0610010K14Rik  | 0              | 0              | 0              | NA             | NA             |\n",
       "| 4              | Day_0_Xi_Mus_1 | 0610030E20Rik  | 0              | 0              | 0              | NA             | NA             |\n",
       "| 5              | Day_0_Xi_Mus_1 | 0610037L13Rik  | 0              | 0              | 0              | NA             | NA             |\n",
       "\n"
      ],
      "text/plain": [
       "  X Name           gene          X129 Cast sumReads ratioPercent ratioLog\n",
       "1 0 Day_0_Xi_Mus_1 0610009B22Rik 0    0    0        NA           NA      \n",
       "2 1 Day_0_Xi_Mus_1 0610009O20Rik 0    0    0        NA           NA      \n",
       "3 2 Day_0_Xi_Mus_1 0610010F05Rik 0    0    0        NA           NA      \n",
       "4 3 Day_0_Xi_Mus_1 0610010K14Rik 0    0    0        NA           NA      \n",
       "5 4 Day_0_Xi_Mus_1 0610030E20Rik 0    0    0        NA           NA      \n",
       "6 5 Day_0_Xi_Mus_1 0610037L13Rik 0    0    0        NA           NA      "
      ]
     },
     "metadata": {},
     "output_type": "display_data"
    }
   ],
   "source": [
    "allelic %>% head()"
   ]
  },
  {
   "cell_type": "code",
   "execution_count": 36,
   "metadata": {},
   "outputs": [],
   "source": [
    "meta <- read.csv(io$meta) %>% select(Name, Timepoint, Xi)"
   ]
  },
  {
   "cell_type": "code",
   "execution_count": 37,
   "metadata": {},
   "outputs": [
    {
     "data": {
      "text/html": [
       "<table>\n",
       "<thead><tr><th scope=col>Name</th><th scope=col>Timepoint</th><th scope=col>Xi</th></tr></thead>\n",
       "<tbody>\n",
       "\t<tr><td>Day_9_Xi_Mus_33 </td><td>Day_9           </td><td>Mus             </td></tr>\n",
       "\t<tr><td>Day_10_Xi_Mus_25</td><td>Day_10          </td><td>Mus             </td></tr>\n",
       "\t<tr><td>Day_10_Xi_Mus_32</td><td>Day_10          </td><td>Mus             </td></tr>\n",
       "\t<tr><td>Day_9_Xi_Mus_27 </td><td>Day_9           </td><td>Mus             </td></tr>\n",
       "\t<tr><td>Day_9_Xi_Mus_36 </td><td>Day_9           </td><td>Mus             </td></tr>\n",
       "\t<tr><td>Day_10_Xi_Mus_30</td><td>Day_10          </td><td>Mus             </td></tr>\n",
       "</tbody>\n",
       "</table>\n"
      ],
      "text/latex": [
       "\\begin{tabular}{r|lll}\n",
       " Name & Timepoint & Xi\\\\\n",
       "\\hline\n",
       "\t Day\\_9\\_Xi\\_Mus\\_33  & Day\\_9                  & Mus                     \\\\\n",
       "\t Day\\_10\\_Xi\\_Mus\\_25 & Day\\_10                 & Mus                     \\\\\n",
       "\t Day\\_10\\_Xi\\_Mus\\_32 & Day\\_10                 & Mus                     \\\\\n",
       "\t Day\\_9\\_Xi\\_Mus\\_27  & Day\\_9                  & Mus                     \\\\\n",
       "\t Day\\_9\\_Xi\\_Mus\\_36  & Day\\_9                  & Mus                     \\\\\n",
       "\t Day\\_10\\_Xi\\_Mus\\_30 & Day\\_10                 & Mus                     \\\\\n",
       "\\end{tabular}\n"
      ],
      "text/markdown": [
       "\n",
       "| Name | Timepoint | Xi |\n",
       "|---|---|---|\n",
       "| Day_9_Xi_Mus_33  | Day_9            | Mus              |\n",
       "| Day_10_Xi_Mus_25 | Day_10           | Mus              |\n",
       "| Day_10_Xi_Mus_32 | Day_10           | Mus              |\n",
       "| Day_9_Xi_Mus_27  | Day_9            | Mus              |\n",
       "| Day_9_Xi_Mus_36  | Day_9            | Mus              |\n",
       "| Day_10_Xi_Mus_30 | Day_10           | Mus              |\n",
       "\n"
      ],
      "text/plain": [
       "  Name             Timepoint Xi \n",
       "1 Day_9_Xi_Mus_33  Day_9     Mus\n",
       "2 Day_10_Xi_Mus_25 Day_10    Mus\n",
       "3 Day_10_Xi_Mus_32 Day_10    Mus\n",
       "4 Day_9_Xi_Mus_27  Day_9     Mus\n",
       "5 Day_9_Xi_Mus_36  Day_9     Mus\n",
       "6 Day_10_Xi_Mus_30 Day_10    Mus"
      ]
     },
     "metadata": {},
     "output_type": "display_data"
    }
   ],
   "source": [
    "meta %>% head()"
   ]
  },
  {
   "cell_type": "code",
   "execution_count": 17,
   "metadata": {},
   "outputs": [],
   "source": [
    "clusters <- read.csv(io$clusters)"
   ]
  },
  {
   "cell_type": "code",
   "execution_count": 30,
   "metadata": {},
   "outputs": [],
   "source": [
    "clusters <- clusters %>% \n",
    "                select(Name, Pseudotime, seurat_clusters_rename) %>%\n",
    "                dplyr::distinct(Name, .keep_all = TRUE)\n",
    "clusters$seurat_clusters_rename <- factor(clusters$seurat_clusters_rename, levels = c(0,1,2,3,4,5))"
   ]
  },
  {
   "cell_type": "code",
   "execution_count": 41,
   "metadata": {},
   "outputs": [
    {
     "name": "stderr",
     "output_type": "stream",
     "text": [
      "Warning message:\n",
      "\"Column `Name` joining factors with different levels, coercing to character vector\""
     ]
    }
   ],
   "source": [
    "meta <- clusters %>% left_join(meta, by=\"Name\")"
   ]
  },
  {
   "cell_type": "code",
   "execution_count": 51,
   "metadata": {},
   "outputs": [],
   "source": [
    "allele_meta <- allelic %>% merge(meta, by=\"Name\", all.x=TRUE)\n",
    "cells <- unique(meta$Name)\n",
    "allele_meta <- allele_meta %>% filter(Name %in% cells)"
   ]
  },
  {
   "cell_type": "code",
   "execution_count": 48,
   "metadata": {},
   "outputs": [
    {
     "name": "stderr",
     "output_type": "stream",
     "text": [
      "Warning message:\n",
      "\"Missing column names filled in: 'X1' [1]\"Parsed with column specification:\n",
      "cols(\n",
      "  X1 = col_character(),\n",
      "  Chr = col_character()\n",
      ")\n"
     ]
    }
   ],
   "source": [
    "chr_gene_map <- read_csv(io$gene.metadata)\n",
    "chr_gene_map <- data.frame(chr_gene_map, row.names = chr_gene_map$X1)\n",
    "chr_gene_map <- data.frame(chr_gene_map)\n",
    "colnames(chr_gene_map) <- c(\"Geneid\", \"Chr\")"
   ]
  },
  {
   "cell_type": "code",
   "execution_count": 49,
   "metadata": {},
   "outputs": [
    {
     "data": {
      "text/html": [
       "<table>\n",
       "<thead><tr><th></th><th scope=col>Geneid</th><th scope=col>Chr</th></tr></thead>\n",
       "<tbody>\n",
       "\t<tr><th scope=row>4933401J01Rik</th><td>4933401J01Rik</td><td>chr1         </td></tr>\n",
       "\t<tr><th scope=row>Gm26206</th><td>Gm26206      </td><td>chr1         </td></tr>\n",
       "\t<tr><th scope=row>Xkr4</th><td>Xkr4         </td><td>chr1         </td></tr>\n",
       "\t<tr><th scope=row>Gm18956</th><td>Gm18956      </td><td>chr1         </td></tr>\n",
       "\t<tr><th scope=row>Gm37180</th><td>Gm37180      </td><td>chr1         </td></tr>\n",
       "\t<tr><th scope=row>Gm37363</th><td>Gm37363      </td><td>chr1         </td></tr>\n",
       "</tbody>\n",
       "</table>\n"
      ],
      "text/latex": [
       "\\begin{tabular}{r|ll}\n",
       "  & Geneid & Chr\\\\\n",
       "\\hline\n",
       "\t4933401J01Rik & 4933401J01Rik & chr1         \\\\\n",
       "\tGm26206 & Gm26206       & chr1         \\\\\n",
       "\tXkr4 & Xkr4          & chr1         \\\\\n",
       "\tGm18956 & Gm18956       & chr1         \\\\\n",
       "\tGm37180 & Gm37180       & chr1         \\\\\n",
       "\tGm37363 & Gm37363       & chr1         \\\\\n",
       "\\end{tabular}\n"
      ],
      "text/markdown": [
       "\n",
       "| <!--/--> | Geneid | Chr |\n",
       "|---|---|---|\n",
       "| 4933401J01Rik | 4933401J01Rik | chr1          |\n",
       "| Gm26206 | Gm26206       | chr1          |\n",
       "| Xkr4 | Xkr4          | chr1          |\n",
       "| Gm18956 | Gm18956       | chr1          |\n",
       "| Gm37180 | Gm37180       | chr1          |\n",
       "| Gm37363 | Gm37363       | chr1          |\n",
       "\n"
      ],
      "text/plain": [
       "              Geneid        Chr \n",
       "4933401J01Rik 4933401J01Rik chr1\n",
       "Gm26206       Gm26206       chr1\n",
       "Xkr4          Xkr4          chr1\n",
       "Gm18956       Gm18956       chr1\n",
       "Gm37180       Gm37180       chr1\n",
       "Gm37363       Gm37363       chr1"
      ]
     },
     "metadata": {},
     "output_type": "display_data"
    }
   ],
   "source": [
    "head(chr_gene_map)"
   ]
  },
  {
   "cell_type": "code",
   "execution_count": 13,
   "metadata": {},
   "outputs": [
    {
     "data": {
      "text/html": [
       "8894808"
      ],
      "text/latex": [
       "8894808"
      ],
      "text/markdown": [
       "8894808"
      ],
      "text/plain": [
       "[1] 8894808"
      ]
     },
     "metadata": {},
     "output_type": "display_data"
    }
   ],
   "source": [
    "nrow(allele_meta)"
   ]
  },
  {
   "cell_type": "code",
   "execution_count": 53,
   "metadata": {},
   "outputs": [],
   "source": [
    "allele_meta <- merge(allele_meta, chr_gene_map, by.x=\"gene\", by.y=\"Geneid\", all.x=TRUE)"
   ]
  },
  {
   "cell_type": "markdown",
   "metadata": {},
   "source": [
    "Makeing the DF compatible with the code"
   ]
  },
  {
   "cell_type": "code",
   "execution_count": 57,
   "metadata": {},
   "outputs": [],
   "source": [
    "allelic <- allele_meta %>% rename(\"RNA_id\" = \"Name\")"
   ]
  },
  {
   "cell_type": "code",
   "execution_count": 58,
   "metadata": {},
   "outputs": [
    {
     "data": {
      "text/html": [
       "<table>\n",
       "<thead><tr><th scope=col>gene</th><th scope=col>RNA_id</th><th scope=col>X</th><th scope=col>X129</th><th scope=col>Cast</th><th scope=col>sumReads</th><th scope=col>ratioPercent</th><th scope=col>ratioLog</th><th scope=col>Pseudotime</th><th scope=col>seurat_clusters_rename</th><th scope=col>Timepoint</th><th scope=col>Xi</th><th scope=col>Chr</th></tr></thead>\n",
       "<tbody>\n",
       "\t<tr><td>0610009B22Rik   </td><td>Day_10_Xi_Mus_59</td><td>2323152         </td><td>0               </td><td>0               </td><td>0               </td><td>    NA          </td><td>        NA      </td><td>43.62880        </td><td>2               </td><td>Day_10          </td><td>Mus             </td><td>chr11           </td></tr>\n",
       "\t<tr><td>0610009B22Rik   </td><td>Day_10_Xi_Mus_15</td><td>1559376         </td><td>0               </td><td>0               </td><td>0               </td><td>    NA          </td><td>        NA      </td><td>48.75234        </td><td>3               </td><td>Day_10          </td><td>Mus             </td><td>chr11           </td></tr>\n",
       "\t<tr><td>0610009B22Rik   </td><td>Day_10_Xi_Mus_55</td><td>2259504         </td><td>0               </td><td>4               </td><td>4               </td><td>0.0001          </td><td>-13.287712      </td><td>44.71111        </td><td>2               </td><td>Day_10          </td><td>Mus             </td><td>chr11           </td></tr>\n",
       "\t<tr><td>0610009B22Rik   </td><td>Day_12_Xi_Mus_85</td><td>5823792         </td><td>1               </td><td>7               </td><td>8               </td><td>0.1251          </td><td> -2.806345      </td><td>32.38629        </td><td>1               </td><td>Day_12          </td><td>Mus             </td><td>chr11           </td></tr>\n",
       "\t<tr><td>0610009B22Rik   </td><td>Day_12_Xi_Mus_87</td><td>5855616         </td><td>0               </td><td>0               </td><td>0               </td><td>    NA          </td><td>        NA      </td><td>79.94168        </td><td>4               </td><td>Day_12          </td><td>Mus             </td><td>chr11           </td></tr>\n",
       "\t<tr><td>0610009B22Rik   </td><td>Day_9_Xi_Mus_26 </td><td>7765056         </td><td>4               </td><td>0               </td><td>4               </td><td>1.0001          </td><td>       Inf      </td><td>46.96879        </td><td>2               </td><td>Day_9           </td><td>Mus             </td><td>chr11           </td></tr>\n",
       "</tbody>\n",
       "</table>\n"
      ],
      "text/latex": [
       "\\begin{tabular}{r|lllllllllllll}\n",
       " gene & RNA\\_id & X & X129 & Cast & sumReads & ratioPercent & ratioLog & Pseudotime & seurat\\_clusters\\_rename & Timepoint & Xi & Chr\\\\\n",
       "\\hline\n",
       "\t 0610009B22Rik            & Day\\_10\\_Xi\\_Mus\\_59 & 2323152                  & 0                        & 0                        & 0                        &     NA                   &         NA               & 43.62880                 & 2                        & Day\\_10                 & Mus                      & chr11                   \\\\\n",
       "\t 0610009B22Rik            & Day\\_10\\_Xi\\_Mus\\_15 & 1559376                  & 0                        & 0                        & 0                        &     NA                   &         NA               & 48.75234                 & 3                        & Day\\_10                 & Mus                      & chr11                   \\\\\n",
       "\t 0610009B22Rik            & Day\\_10\\_Xi\\_Mus\\_55 & 2259504                  & 0                        & 4                        & 4                        & 0.0001                   & -13.287712               & 44.71111                 & 2                        & Day\\_10                 & Mus                      & chr11                   \\\\\n",
       "\t 0610009B22Rik            & Day\\_12\\_Xi\\_Mus\\_85 & 5823792                  & 1                        & 7                        & 8                        & 0.1251                   &  -2.806345               & 32.38629                 & 1                        & Day\\_12                 & Mus                      & chr11                   \\\\\n",
       "\t 0610009B22Rik            & Day\\_12\\_Xi\\_Mus\\_87 & 5855616                  & 0                        & 0                        & 0                        &     NA                   &         NA               & 79.94168                 & 4                        & Day\\_12                 & Mus                      & chr11                   \\\\\n",
       "\t 0610009B22Rik            & Day\\_9\\_Xi\\_Mus\\_26  & 7765056                  & 4                        & 0                        & 4                        & 1.0001                   &        Inf               & 46.96879                 & 2                        & Day\\_9                  & Mus                      & chr11                   \\\\\n",
       "\\end{tabular}\n"
      ],
      "text/markdown": [
       "\n",
       "| gene | RNA_id | X | X129 | Cast | sumReads | ratioPercent | ratioLog | Pseudotime | seurat_clusters_rename | Timepoint | Xi | Chr |\n",
       "|---|---|---|---|---|---|---|---|---|---|---|---|---|\n",
       "| 0610009B22Rik    | Day_10_Xi_Mus_59 | 2323152          | 0                | 0                | 0                |     NA           |         NA       | 43.62880         | 2                | Day_10           | Mus              | chr11            |\n",
       "| 0610009B22Rik    | Day_10_Xi_Mus_15 | 1559376          | 0                | 0                | 0                |     NA           |         NA       | 48.75234         | 3                | Day_10           | Mus              | chr11            |\n",
       "| 0610009B22Rik    | Day_10_Xi_Mus_55 | 2259504          | 0                | 4                | 4                | 0.0001           | -13.287712       | 44.71111         | 2                | Day_10           | Mus              | chr11            |\n",
       "| 0610009B22Rik    | Day_12_Xi_Mus_85 | 5823792          | 1                | 7                | 8                | 0.1251           |  -2.806345       | 32.38629         | 1                | Day_12           | Mus              | chr11            |\n",
       "| 0610009B22Rik    | Day_12_Xi_Mus_87 | 5855616          | 0                | 0                | 0                |     NA           |         NA       | 79.94168         | 4                | Day_12           | Mus              | chr11            |\n",
       "| 0610009B22Rik    | Day_9_Xi_Mus_26  | 7765056          | 4                | 0                | 4                | 1.0001           |        Inf       | 46.96879         | 2                | Day_9            | Mus              | chr11            |\n",
       "\n"
      ],
      "text/plain": [
       "  gene          RNA_id           X       X129 Cast sumReads ratioPercent\n",
       "1 0610009B22Rik Day_10_Xi_Mus_59 2323152 0    0    0            NA      \n",
       "2 0610009B22Rik Day_10_Xi_Mus_15 1559376 0    0    0            NA      \n",
       "3 0610009B22Rik Day_10_Xi_Mus_55 2259504 0    4    4        0.0001      \n",
       "4 0610009B22Rik Day_12_Xi_Mus_85 5823792 1    7    8        0.1251      \n",
       "5 0610009B22Rik Day_12_Xi_Mus_87 5855616 0    0    0            NA      \n",
       "6 0610009B22Rik Day_9_Xi_Mus_26  7765056 4    0    4        1.0001      \n",
       "  ratioLog   Pseudotime seurat_clusters_rename Timepoint Xi  Chr  \n",
       "1         NA 43.62880   2                      Day_10    Mus chr11\n",
       "2         NA 48.75234   3                      Day_10    Mus chr11\n",
       "3 -13.287712 44.71111   2                      Day_10    Mus chr11\n",
       "4  -2.806345 32.38629   1                      Day_12    Mus chr11\n",
       "5         NA 79.94168   4                      Day_12    Mus chr11\n",
       "6        Inf 46.96879   2                      Day_9     Mus chr11"
      ]
     },
     "metadata": {},
     "output_type": "display_data"
    }
   ],
   "source": [
    "allelic %>% head()"
   ]
  },
  {
   "cell_type": "code",
   "execution_count": 59,
   "metadata": {},
   "outputs": [
    {
     "data": {
      "text/html": [
       "441"
      ],
      "text/latex": [
       "441"
      ],
      "text/markdown": [
       "441"
      ],
      "text/plain": [
       "[1] 441"
      ]
     },
     "metadata": {},
     "output_type": "display_data"
    }
   ],
   "source": [
    "a <- allelic %>% filter(Chr==\"chrX\")\n",
    "a <-  unique(a$gene)\n",
    "length(a)"
   ]
  },
  {
   "cell_type": "markdown",
   "metadata": {},
   "source": [
    "#### Select only cells with same X inactivated to not mess with ratio's."
   ]
  },
  {
   "cell_type": "code",
   "execution_count": 60,
   "metadata": {},
   "outputs": [],
   "source": [
    "allelic <- allelic %>% filter(Xi==\"Mus\")"
   ]
  },
  {
   "cell_type": "markdown",
   "metadata": {},
   "source": [
    "### Normalise"
   ]
  },
  {
   "cell_type": "code",
   "execution_count": 61,
   "metadata": {},
   "outputs": [],
   "source": [
    "expr_cell <- allelic %>% select(RNA_id, sumReads) %>% group_by(RNA_id) %>% summarise(total_reads = sum(sumReads))"
   ]
  },
  {
   "cell_type": "code",
   "execution_count": 62,
   "metadata": {},
   "outputs": [],
   "source": [
    "allelic <- left_join(allelic, expr_cell, by=\"RNA_id\")"
   ]
  },
  {
   "cell_type": "code",
   "execution_count": 63,
   "metadata": {},
   "outputs": [],
   "source": [
    "allelic$mus_norm <- log1p((allelic$X129/allelic$total_reads)*10000)\n",
    "allelic$cast_norm <- log1p((allelic$Cast/allelic$total_reads)*10000)"
   ]
  },
  {
   "cell_type": "code",
   "execution_count": 64,
   "metadata": {},
   "outputs": [],
   "source": [
    "allelic$ratio_norm <- (allelic$mus_norm/(allelic$mus_norm + allelic$cast_norm))\n",
    "allelic$sum_norm <- allelic$mus_norm + allelic$cast_norm"
   ]
  },
  {
   "cell_type": "code",
   "execution_count": 23,
   "metadata": {},
   "outputs": [
    {
     "data": {
      "text/html": [
       "<table>\n",
       "<thead><tr><th scope=col>gene</th><th scope=col>RNA_id</th><th scope=col>X</th><th scope=col>X129</th><th scope=col>Cast</th><th scope=col>sumReads</th><th scope=col>ratioPercent</th><th scope=col>ratioLog</th><th scope=col>Pseudotime</th><th scope=col>cell_type</th><th scope=col>Xi</th><th scope=col>X2</th><th scope=col>cluster</th><th scope=col>cluster_replace</th><th scope=col>Chr</th><th scope=col>total_reads</th><th scope=col>mus_norm</th><th scope=col>cast_norm</th><th scope=col>ratio_norm</th><th scope=col>sum_norm</th></tr></thead>\n",
       "<tbody>\n",
       "\t<tr><td>0610009B22Rik   </td><td>Day_10_Xi_Mus_59</td><td>2323152         </td><td>0               </td><td>0               </td><td>0               </td><td>    NA          </td><td>        NA      </td><td>43.62880        </td><td>Day_10          </td><td>Mus             </td><td>226             </td><td>0               </td><td>2               </td><td>chr11           </td><td> 88329          </td><td>0.00000000      </td><td>0.0000000       </td><td>      NaN       </td><td>0.0000000       </td></tr>\n",
       "\t<tr><td>0610009B22Rik   </td><td>Day_10_Xi_Mus_15</td><td>1559376         </td><td>0               </td><td>0               </td><td>0               </td><td>    NA          </td><td>        NA      </td><td>48.75234        </td><td>Day_10          </td><td>Mus             </td><td> 58             </td><td>4               </td><td>3               </td><td>chr11           </td><td> 10125          </td><td>0.00000000      </td><td>0.0000000       </td><td>      NaN       </td><td>0.0000000       </td></tr>\n",
       "\t<tr><td>0610009B22Rik   </td><td>Day_10_Xi_Mus_55</td><td>2259504         </td><td>0               </td><td>4               </td><td>4               </td><td>0.0001          </td><td>-13.287712      </td><td>44.71111        </td><td>Day_10          </td><td>Mus             </td><td>222             </td><td>0               </td><td>2               </td><td>chr11           </td><td>115942          </td><td>0.00000000      </td><td>0.2963941       </td><td>0.0000000       </td><td>0.2963941       </td></tr>\n",
       "\t<tr><td>0610009B22Rik   </td><td>Day_12_Xi_Mus_85</td><td>5823792         </td><td>1               </td><td>7               </td><td>8               </td><td>0.1251          </td><td> -2.806345      </td><td>32.38629        </td><td>Day_12          </td><td>Mus             </td><td>397             </td><td>1               </td><td>1               </td><td>chr11           </td><td>142685          </td><td>0.06773757      </td><td>0.3991728       </td><td>0.1450762       </td><td>0.4669104       </td></tr>\n",
       "\t<tr><td>0610009B22Rik   </td><td>Day_12_Xi_Mus_87</td><td>5855616         </td><td>0               </td><td>0               </td><td>0               </td><td>    NA          </td><td>        NA      </td><td>79.94168        </td><td>Day_12          </td><td>Mus             </td><td>391             </td><td>5               </td><td>4               </td><td>chr11           </td><td>202247          </td><td>0.00000000      </td><td>0.0000000       </td><td>      NaN       </td><td>0.0000000       </td></tr>\n",
       "\t<tr><td>0610009B22Rik   </td><td>Day_9_Xi_Mus_26 </td><td>7765056         </td><td>4               </td><td>0               </td><td>4               </td><td>1.0001          </td><td>       Inf      </td><td>46.96879        </td><td>Day_9           </td><td>Mus             </td><td> 11             </td><td>0               </td><td>2               </td><td>chr11           </td><td>181032          </td><td>0.19963368      </td><td>0.0000000       </td><td>1.0000000       </td><td>0.1996337       </td></tr>\n",
       "</tbody>\n",
       "</table>\n"
      ],
      "text/latex": [
       "\\begin{tabular}{r|llllllllllllllllllll}\n",
       " gene & RNA\\_id & X & X129 & Cast & sumReads & ratioPercent & ratioLog & Pseudotime & cell\\_type & Xi & X2 & cluster & cluster\\_replace & Chr & total\\_reads & mus\\_norm & cast\\_norm & ratio\\_norm & sum\\_norm\\\\\n",
       "\\hline\n",
       "\t 0610009B22Rik            & Day\\_10\\_Xi\\_Mus\\_59 & 2323152                  & 0                        & 0                        & 0                        &     NA                   &         NA               & 43.62880                 & Day\\_10                 & Mus                      & 226                      & 0                        & 2                        & chr11                    &  88329                   & 0.00000000               & 0.0000000                &       NaN                & 0.0000000               \\\\\n",
       "\t 0610009B22Rik            & Day\\_10\\_Xi\\_Mus\\_15 & 1559376                  & 0                        & 0                        & 0                        &     NA                   &         NA               & 48.75234                 & Day\\_10                 & Mus                      &  58                      & 4                        & 3                        & chr11                    &  10125                   & 0.00000000               & 0.0000000                &       NaN                & 0.0000000               \\\\\n",
       "\t 0610009B22Rik            & Day\\_10\\_Xi\\_Mus\\_55 & 2259504                  & 0                        & 4                        & 4                        & 0.0001                   & -13.287712               & 44.71111                 & Day\\_10                 & Mus                      & 222                      & 0                        & 2                        & chr11                    & 115942                   & 0.00000000               & 0.2963941                & 0.0000000                & 0.2963941               \\\\\n",
       "\t 0610009B22Rik            & Day\\_12\\_Xi\\_Mus\\_85 & 5823792                  & 1                        & 7                        & 8                        & 0.1251                   &  -2.806345               & 32.38629                 & Day\\_12                 & Mus                      & 397                      & 1                        & 1                        & chr11                    & 142685                   & 0.06773757               & 0.3991728                & 0.1450762                & 0.4669104               \\\\\n",
       "\t 0610009B22Rik            & Day\\_12\\_Xi\\_Mus\\_87 & 5855616                  & 0                        & 0                        & 0                        &     NA                   &         NA               & 79.94168                 & Day\\_12                 & Mus                      & 391                      & 5                        & 4                        & chr11                    & 202247                   & 0.00000000               & 0.0000000                &       NaN                & 0.0000000               \\\\\n",
       "\t 0610009B22Rik            & Day\\_9\\_Xi\\_Mus\\_26  & 7765056                  & 4                        & 0                        & 4                        & 1.0001                   &        Inf               & 46.96879                 & Day\\_9                  & Mus                      &  11                      & 0                        & 2                        & chr11                    & 181032                   & 0.19963368               & 0.0000000                & 1.0000000                & 0.1996337               \\\\\n",
       "\\end{tabular}\n"
      ],
      "text/markdown": [
       "\n",
       "| gene | RNA_id | X | X129 | Cast | sumReads | ratioPercent | ratioLog | Pseudotime | cell_type | Xi | X2 | cluster | cluster_replace | Chr | total_reads | mus_norm | cast_norm | ratio_norm | sum_norm |\n",
       "|---|---|---|---|---|---|---|---|---|---|---|---|---|---|---|---|---|---|---|---|\n",
       "| 0610009B22Rik    | Day_10_Xi_Mus_59 | 2323152          | 0                | 0                | 0                |     NA           |         NA       | 43.62880         | Day_10           | Mus              | 226              | 0                | 2                | chr11            |  88329           | 0.00000000       | 0.0000000        |       NaN        | 0.0000000        |\n",
       "| 0610009B22Rik    | Day_10_Xi_Mus_15 | 1559376          | 0                | 0                | 0                |     NA           |         NA       | 48.75234         | Day_10           | Mus              |  58              | 4                | 3                | chr11            |  10125           | 0.00000000       | 0.0000000        |       NaN        | 0.0000000        |\n",
       "| 0610009B22Rik    | Day_10_Xi_Mus_55 | 2259504          | 0                | 4                | 4                | 0.0001           | -13.287712       | 44.71111         | Day_10           | Mus              | 222              | 0                | 2                | chr11            | 115942           | 0.00000000       | 0.2963941        | 0.0000000        | 0.2963941        |\n",
       "| 0610009B22Rik    | Day_12_Xi_Mus_85 | 5823792          | 1                | 7                | 8                | 0.1251           |  -2.806345       | 32.38629         | Day_12           | Mus              | 397              | 1                | 1                | chr11            | 142685           | 0.06773757       | 0.3991728        | 0.1450762        | 0.4669104        |\n",
       "| 0610009B22Rik    | Day_12_Xi_Mus_87 | 5855616          | 0                | 0                | 0                |     NA           |         NA       | 79.94168         | Day_12           | Mus              | 391              | 5                | 4                | chr11            | 202247           | 0.00000000       | 0.0000000        |       NaN        | 0.0000000        |\n",
       "| 0610009B22Rik    | Day_9_Xi_Mus_26  | 7765056          | 4                | 0                | 4                | 1.0001           |        Inf       | 46.96879         | Day_9            | Mus              |  11              | 0                | 2                | chr11            | 181032           | 0.19963368       | 0.0000000        | 1.0000000        | 0.1996337        |\n",
       "\n"
      ],
      "text/plain": [
       "  gene          RNA_id           X       X129 Cast sumReads ratioPercent\n",
       "1 0610009B22Rik Day_10_Xi_Mus_59 2323152 0    0    0            NA      \n",
       "2 0610009B22Rik Day_10_Xi_Mus_15 1559376 0    0    0            NA      \n",
       "3 0610009B22Rik Day_10_Xi_Mus_55 2259504 0    4    4        0.0001      \n",
       "4 0610009B22Rik Day_12_Xi_Mus_85 5823792 1    7    8        0.1251      \n",
       "5 0610009B22Rik Day_12_Xi_Mus_87 5855616 0    0    0            NA      \n",
       "6 0610009B22Rik Day_9_Xi_Mus_26  7765056 4    0    4        1.0001      \n",
       "  ratioLog   Pseudotime cell_type Xi  X2  cluster cluster_replace Chr  \n",
       "1         NA 43.62880   Day_10    Mus 226 0       2               chr11\n",
       "2         NA 48.75234   Day_10    Mus  58 4       3               chr11\n",
       "3 -13.287712 44.71111   Day_10    Mus 222 0       2               chr11\n",
       "4  -2.806345 32.38629   Day_12    Mus 397 1       1               chr11\n",
       "5         NA 79.94168   Day_12    Mus 391 5       4               chr11\n",
       "6        Inf 46.96879   Day_9     Mus  11 0       2               chr11\n",
       "  total_reads mus_norm   cast_norm ratio_norm sum_norm \n",
       "1  88329      0.00000000 0.0000000       NaN  0.0000000\n",
       "2  10125      0.00000000 0.0000000       NaN  0.0000000\n",
       "3 115942      0.00000000 0.2963941 0.0000000  0.2963941\n",
       "4 142685      0.06773757 0.3991728 0.1450762  0.4669104\n",
       "5 202247      0.00000000 0.0000000       NaN  0.0000000\n",
       "6 181032      0.19963368 0.0000000 1.0000000  0.1996337"
      ]
     },
     "metadata": {},
     "output_type": "display_data"
    }
   ],
   "source": [
    "head(allelic)"
   ]
  },
  {
   "cell_type": "code",
   "execution_count": 66,
   "metadata": {},
   "outputs": [
    {
     "name": "stderr",
     "output_type": "stream",
     "text": [
      "`stat_bin()` using `bins = 30`. Pick better value with `binwidth`.\n",
      "`stat_bin()` using `bins = 30`. Pick better value with `binwidth`.\n"
     ]
    },
    {
     "data": {
      "image/png": "[encoded data removed]",
      "text/plain": [
       "plot without title"
      ]
     },
     "metadata": {},
     "output_type": "display_data"
    },
    {
     "data": {
      "image/png": "[encoded data removed]",
      "text/plain": [
       "plot without title"
      ]
     },
     "metadata": {},
     "output_type": "display_data"
    }
   ],
   "source": [
    "allelic %>% filter(sumReads > 0 ) %>% ggplot(aes(cast_norm)) + geom_histogram()\n",
    "allelic %>% filter(sumReads > 0 ) %>% ggplot(aes(mus_norm)) + geom_histogram()"
   ]
  },
  {
   "cell_type": "code",
   "execution_count": 67,
   "metadata": {},
   "outputs": [],
   "source": [
    "write.csv(allelic, \"allele_specific/pre_processing/AJ_0065.9c_allelic_norm_complete.csv\")"
   ]
  }
 ],
 "metadata": {
  "kernelspec": {
   "display_name": "R [conda env:R_scRNAseq]",
   "language": "R",
   "name": "conda-env-R_scRNAseq-r"
  },
  "language_info": {
   "codemirror_mode": "r",
   "file_extension": ".r",
   "mimetype": "text/x-r-source",
   "name": "R",
   "pygments_lexer": "r",
   "version": "3.6.1"
  }
 },
 "nbformat": 4,
 "nbformat_minor": 4
}
