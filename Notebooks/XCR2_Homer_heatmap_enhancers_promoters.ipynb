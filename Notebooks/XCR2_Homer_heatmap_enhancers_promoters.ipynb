{
 "cells": [
  {
   "cell_type": "markdown",
   "metadata": {},
   "source": [
    "Heatmap with HOMER discovery motif analysis in enhancers and promoters of regions that become biallelic during reprogramming defined with chromHMM. \n"
   ]
  },
  {
   "cell_type": "code",
   "execution_count": 1,
   "metadata": {},
   "outputs": [
    {
     "name": "stderr",
     "output_type": "stream",
     "text": [
      "Loading required package: GenomicRanges\n",
      "Loading required package: stats4\n",
      "Loading required package: BiocGenerics\n",
      "Loading required package: parallel\n",
      "\n",
      "Attaching package: 'BiocGenerics'\n",
      "\n",
      "The following objects are masked from 'package:parallel':\n",
      "\n",
      "    clusterApply, clusterApplyLB, clusterCall, clusterEvalQ,\n",
      "    clusterExport, clusterMap, parApply, parCapply, parLapply,\n",
      "    parLapplyLB, parRapply, parSapply, parSapplyLB\n",
      "\n",
      "The following objects are masked from 'package:stats':\n",
      "\n",
      "    IQR, mad, sd, var, xtabs\n",
      "\n",
      "The following objects are masked from 'package:base':\n",
      "\n",
      "    Filter, Find, Map, Position, Reduce, anyDuplicated, append,\n",
      "    as.data.frame, basename, cbind, colnames, dirname, do.call,\n",
      "    duplicated, eval, evalq, get, grep, grepl, intersect, is.unsorted,\n",
      "    lapply, mapply, match, mget, order, paste, pmax, pmax.int, pmin,\n",
      "    pmin.int, rank, rbind, rownames, sapply, setdiff, sort, table,\n",
      "    tapply, union, unique, unsplit, which, which.max, which.min\n",
      "\n",
      "Loading required package: S4Vectors\n",
      "\n",
      "Attaching package: 'S4Vectors'\n",
      "\n",
      "The following object is masked from 'package:base':\n",
      "\n",
      "    expand.grid\n",
      "\n",
      "Loading required package: IRanges\n",
      "Loading required package: GenomeInfoDb\n",
      "Loading required package: SummarizedExperiment\n",
      "Loading required package: Biobase\n",
      "Welcome to Bioconductor\n",
      "\n",
      "    Vignettes contain introductory material; view with\n",
      "    'browseVignettes()'. To cite Bioconductor, see\n",
      "    'citation(\"Biobase\")', and for packages 'citation(\"pkgname\")'.\n",
      "\n",
      "Loading required package: DelayedArray\n",
      "Loading required package: matrixStats\n",
      "\n",
      "Attaching package: 'matrixStats'\n",
      "\n",
      "The following objects are masked from 'package:Biobase':\n",
      "\n",
      "    anyMissing, rowMedians\n",
      "\n",
      "Loading required package: BiocParallel\n",
      "\n",
      "Attaching package: 'DelayedArray'\n",
      "\n",
      "The following objects are masked from 'package:matrixStats':\n",
      "\n",
      "    colMaxs, colMins, colRanges, rowMaxs, rowMins, rowRanges\n",
      "\n",
      "The following objects are masked from 'package:base':\n",
      "\n",
      "    aperm, apply, rowsum\n",
      "\n",
      "Registered S3 method overwritten by 'openssl':\n",
      "  method      from\n",
      "  print.bytes Rcpp\n",
      "Registered S3 methods overwritten by 'ggplot2':\n",
      "  method         from \n",
      "  [.quosures     rlang\n",
      "  c.quosures     rlang\n",
      "  print.quosures rlang\n",
      "\n",
      "\n",
      "Attaching package: 'dplyr'\n",
      "\n",
      "The following object is masked from 'package:matrixStats':\n",
      "\n",
      "    count\n",
      "\n",
      "The following object is masked from 'package:Biobase':\n",
      "\n",
      "    combine\n",
      "\n",
      "The following objects are masked from 'package:GenomicRanges':\n",
      "\n",
      "    intersect, setdiff, union\n",
      "\n",
      "The following object is masked from 'package:GenomeInfoDb':\n",
      "\n",
      "    intersect\n",
      "\n",
      "The following objects are masked from 'package:IRanges':\n",
      "\n",
      "    collapse, desc, intersect, setdiff, slice, union\n",
      "\n",
      "The following objects are masked from 'package:S4Vectors':\n",
      "\n",
      "    first, intersect, rename, setdiff, setequal, union\n",
      "\n",
      "The following objects are masked from 'package:BiocGenerics':\n",
      "\n",
      "    combine, intersect, setdiff, union\n",
      "\n",
      "The following objects are masked from 'package:stats':\n",
      "\n",
      "    filter, lag\n",
      "\n",
      "The following objects are masked from 'package:base':\n",
      "\n",
      "    intersect, setdiff, setequal, union\n",
      "\n",
      "\n",
      "Attaching package: 'tidyr'\n",
      "\n",
      "The following object is masked from 'package:S4Vectors':\n",
      "\n",
      "    expand\n",
      "\n",
      "Loading required package: viridisLite\n",
      "Warning message:\n",
      "\"package 'ggridges' was built under R version 3.6.2\""
     ]
    }
   ],
   "source": [
    "library(readr)\n",
    "library(DiffBind)\n",
    "library(DESeq2)\n",
    "library(dplyr)\n",
    "library(tidyr)\n",
    "library(ggplot2)\n",
    "library(viridis)\n",
    "library(ggridges)\n",
    "library(readxl)\n",
    "library(pheatmap)\n",
    "library(RColorBrewer)"
   ]
  },
  {
   "cell_type": "code",
   "execution_count": 34,
   "metadata": {},
   "outputs": [],
   "source": [
    "setwd(\"/ddn1/vol1/staging/leuven/stg_00041/Irene/homer_results/enhancers_promoters/\")"
   ]
  },
  {
   "cell_type": "code",
   "execution_count": 56,
   "metadata": {},
   "outputs": [
    {
     "name": "stderr",
     "output_type": "stream",
     "text": [
      "Warning message:\n",
      "\"Missing column names filled in: 'X1' [1]\"Parsed with column specification:\n",
      "cols(\n",
      "  X1 = col_character(),\n",
      "  percentage = col_double()\n",
      ")\n",
      "Warning message:\n",
      "\"Missing column names filled in: 'X1' [1]\"Parsed with column specification:\n",
      "cols(\n",
      "  X1 = col_character(),\n",
      "  percentage = col_double()\n",
      ")\n"
     ]
    }
   ],
   "source": [
    "enhancers <- read_delim(\"enhancer_motifs.csv\",\";\", escape_double = FALSE, trim_ws = TRUE )\n",
    "promoters <- read_delim(\"promoters_motifs.csv\",\";\", escape_double = FALSE, trim_ws = TRUE )"
   ]
  },
  {
   "cell_type": "code",
   "execution_count": 57,
   "metadata": {},
   "outputs": [
    {
     "data": {
      "text/html": [
       "<table>\n",
       "<thead><tr><th scope=col>X1</th><th scope=col>percentage</th></tr></thead>\n",
       "<tbody>\n",
       "\t<tr><td>KLF14(Zf)/HEK293-KLF14.GFP-ChIP-Seq(GSE58341)/Homer</td><td>68.72                                              </td></tr>\n",
       "\t<tr><td>KLF3(Zf)/MEF-Klf3-ChIP-Seq(GSE44748)/Homer         </td><td>32.56                                              </td></tr>\n",
       "\t<tr><td>Sp2(Zf)/HEK293-Sp2.eGFP-ChIP-Seq(Encode)/Homer     </td><td>64.62                                              </td></tr>\n",
       "\t<tr><td>Sp5(Zf)/mES-Sp5.Flag-ChIP-Seq(GSE72989)/Homer      </td><td>56.15                                              </td></tr>\n",
       "\t<tr><td>Maz(Zf)/HepG2-Maz-ChIP-Seq(GSE31477)/Homer         </td><td>60.51                                              </td></tr>\n",
       "\t<tr><td>Zfp281(Zf)/ES-Zfp281-ChIP-Seq(GSE81042)/Homer      </td><td>16.67                                              </td></tr>\n",
       "</tbody>\n",
       "</table>\n"
      ],
      "text/latex": [
       "\\begin{tabular}{r|ll}\n",
       " X1 & percentage\\\\\n",
       "\\hline\n",
       "\t KLF14(Zf)/HEK293-KLF14.GFP-ChIP-Seq(GSE58341)/Homer & 68.72                                              \\\\\n",
       "\t KLF3(Zf)/MEF-Klf3-ChIP-Seq(GSE44748)/Homer          & 32.56                                              \\\\\n",
       "\t Sp2(Zf)/HEK293-Sp2.eGFP-ChIP-Seq(Encode)/Homer      & 64.62                                              \\\\\n",
       "\t Sp5(Zf)/mES-Sp5.Flag-ChIP-Seq(GSE72989)/Homer       & 56.15                                              \\\\\n",
       "\t Maz(Zf)/HepG2-Maz-ChIP-Seq(GSE31477)/Homer          & 60.51                                              \\\\\n",
       "\t Zfp281(Zf)/ES-Zfp281-ChIP-Seq(GSE81042)/Homer       & 16.67                                              \\\\\n",
       "\\end{tabular}\n"
      ],
      "text/markdown": [
       "\n",
       "| X1 | percentage |\n",
       "|---|---|\n",
       "| KLF14(Zf)/HEK293-KLF14.GFP-ChIP-Seq(GSE58341)/Homer | 68.72                                               |\n",
       "| KLF3(Zf)/MEF-Klf3-ChIP-Seq(GSE44748)/Homer          | 32.56                                               |\n",
       "| Sp2(Zf)/HEK293-Sp2.eGFP-ChIP-Seq(Encode)/Homer      | 64.62                                               |\n",
       "| Sp5(Zf)/mES-Sp5.Flag-ChIP-Seq(GSE72989)/Homer       | 56.15                                               |\n",
       "| Maz(Zf)/HepG2-Maz-ChIP-Seq(GSE31477)/Homer          | 60.51                                               |\n",
       "| Zfp281(Zf)/ES-Zfp281-ChIP-Seq(GSE81042)/Homer       | 16.67                                               |\n",
       "\n"
      ],
      "text/plain": [
       "  X1                                                  percentage\n",
       "1 KLF14(Zf)/HEK293-KLF14.GFP-ChIP-Seq(GSE58341)/Homer 68.72     \n",
       "2 KLF3(Zf)/MEF-Klf3-ChIP-Seq(GSE44748)/Homer          32.56     \n",
       "3 Sp2(Zf)/HEK293-Sp2.eGFP-ChIP-Seq(Encode)/Homer      64.62     \n",
       "4 Sp5(Zf)/mES-Sp5.Flag-ChIP-Seq(GSE72989)/Homer       56.15     \n",
       "5 Maz(Zf)/HepG2-Maz-ChIP-Seq(GSE31477)/Homer          60.51     \n",
       "6 Zfp281(Zf)/ES-Zfp281-ChIP-Seq(GSE81042)/Homer       16.67     "
      ]
     },
     "metadata": {},
     "output_type": "display_data"
    },
    {
     "data": {
      "text/html": [
       "<table>\n",
       "<thead><tr><th scope=col>X1</th><th scope=col>percentage</th></tr></thead>\n",
       "<tbody>\n",
       "\t<tr><td>prueba                                             </td><td>68.72                                              </td></tr>\n",
       "\t<tr><td>CTCF(Zf)/CD4+-CTCF-ChIP-Seq(Barski_et_al.)/Homer   </td><td>18.40                                              </td></tr>\n",
       "\t<tr><td>BORIS(Zf)/K562-CTCFL-ChIP-Seq(GSE32465)/Homer      </td><td>19.02                                              </td></tr>\n",
       "\t<tr><td>KLF14(Zf)/HEK293-KLF14.GFP-ChIP-Seq(GSE58341)/Homer</td><td>60.74                                              </td></tr>\n",
       "\t<tr><td>KLF5(Zf)/LoVo-KLF5-ChIP-Seq(GSE49402)/Homer        </td><td>49.69                                              </td></tr>\n",
       "\t<tr><td>KLF6(Zf)/PDAC-KLF6-ChIP-Seq(GSE64557)/Homer        </td><td>37.42                                              </td></tr>\n",
       "</tbody>\n",
       "</table>\n"
      ],
      "text/latex": [
       "\\begin{tabular}{r|ll}\n",
       " X1 & percentage\\\\\n",
       "\\hline\n",
       "\t prueba                                              & 68.72                                              \\\\\n",
       "\t CTCF(Zf)/CD4+-CTCF-ChIP-Seq(Barski\\_et\\_al.)/Homer    & 18.40                                                  \\\\\n",
       "\t BORIS(Zf)/K562-CTCFL-ChIP-Seq(GSE32465)/Homer       & 19.02                                              \\\\\n",
       "\t KLF14(Zf)/HEK293-KLF14.GFP-ChIP-Seq(GSE58341)/Homer & 60.74                                              \\\\\n",
       "\t KLF5(Zf)/LoVo-KLF5-ChIP-Seq(GSE49402)/Homer         & 49.69                                              \\\\\n",
       "\t KLF6(Zf)/PDAC-KLF6-ChIP-Seq(GSE64557)/Homer         & 37.42                                              \\\\\n",
       "\\end{tabular}\n"
      ],
      "text/markdown": [
       "\n",
       "| X1 | percentage |\n",
       "|---|---|\n",
       "| prueba                                              | 68.72                                               |\n",
       "| CTCF(Zf)/CD4+-CTCF-ChIP-Seq(Barski_et_al.)/Homer    | 18.40                                               |\n",
       "| BORIS(Zf)/K562-CTCFL-ChIP-Seq(GSE32465)/Homer       | 19.02                                               |\n",
       "| KLF14(Zf)/HEK293-KLF14.GFP-ChIP-Seq(GSE58341)/Homer | 60.74                                               |\n",
       "| KLF5(Zf)/LoVo-KLF5-ChIP-Seq(GSE49402)/Homer         | 49.69                                               |\n",
       "| KLF6(Zf)/PDAC-KLF6-ChIP-Seq(GSE64557)/Homer         | 37.42                                               |\n",
       "\n"
      ],
      "text/plain": [
       "  X1                                                  percentage\n",
       "1 prueba                                              68.72     \n",
       "2 CTCF(Zf)/CD4+-CTCF-ChIP-Seq(Barski_et_al.)/Homer    18.40     \n",
       "3 BORIS(Zf)/K562-CTCFL-ChIP-Seq(GSE32465)/Homer       19.02     \n",
       "4 KLF14(Zf)/HEK293-KLF14.GFP-ChIP-Seq(GSE58341)/Homer 60.74     \n",
       "5 KLF5(Zf)/LoVo-KLF5-ChIP-Seq(GSE49402)/Homer         49.69     \n",
       "6 KLF6(Zf)/PDAC-KLF6-ChIP-Seq(GSE64557)/Homer         37.42     "
      ]
     },
     "metadata": {},
     "output_type": "display_data"
    }
   ],
   "source": [
    "head(promoters)\n",
    "head(enhancers)"
   ]
  },
  {
   "cell_type": "code",
   "execution_count": 58,
   "metadata": {},
   "outputs": [],
   "source": [
    "enhancers <- as.data.frame(enhancers)\n",
    "promoters <- as.data.frame(promoters)\n"
   ]
  },
  {
   "cell_type": "code",
   "execution_count": 59,
   "metadata": {},
   "outputs": [],
   "source": [
    "enhancers <- data.frame(enhancers, row.names = 1)"
   ]
  },
  {
   "cell_type": "code",
   "execution_count": 60,
   "metadata": {},
   "outputs": [],
   "source": [
    "promoters <- data.frame(promoters, row.names = 1)"
   ]
  },
  {
   "cell_type": "code",
   "execution_count": 61,
   "metadata": {},
   "outputs": [
    {
     "data": {
      "text/html": [
       "<table>\n",
       "<thead><tr><th></th><th scope=col>percentage</th></tr></thead>\n",
       "<tbody>\n",
       "\t<tr><th scope=row>prueba</th><td>68.72</td></tr>\n",
       "\t<tr><th scope=row>CTCF(Zf)/CD4+-CTCF-ChIP-Seq(Barski_et_al.)/Homer</th><td>18.40</td></tr>\n",
       "\t<tr><th scope=row>BORIS(Zf)/K562-CTCFL-ChIP-Seq(GSE32465)/Homer</th><td>19.02</td></tr>\n",
       "\t<tr><th scope=row>KLF14(Zf)/HEK293-KLF14.GFP-ChIP-Seq(GSE58341)/Homer</th><td>60.74</td></tr>\n",
       "\t<tr><th scope=row>KLF5(Zf)/LoVo-KLF5-ChIP-Seq(GSE49402)/Homer</th><td>49.69</td></tr>\n",
       "\t<tr><th scope=row>KLF6(Zf)/PDAC-KLF6-ChIP-Seq(GSE64557)/Homer</th><td>37.42</td></tr>\n",
       "</tbody>\n",
       "</table>\n"
      ],
      "text/latex": [
       "\\begin{tabular}{r|l}\n",
       "  & percentage\\\\\n",
       "\\hline\n",
       "\tprueba & 68.72\\\\\n",
       "\tCTCF(Zf)/CD4+-CTCF-ChIP-Seq(Barski\\_et\\_al.)/Homer & 18.40\\\\\n",
       "\tBORIS(Zf)/K562-CTCFL-ChIP-Seq(GSE32465)/Homer & 19.02\\\\\n",
       "\tKLF14(Zf)/HEK293-KLF14.GFP-ChIP-Seq(GSE58341)/Homer & 60.74\\\\\n",
       "\tKLF5(Zf)/LoVo-KLF5-ChIP-Seq(GSE49402)/Homer & 49.69\\\\\n",
       "\tKLF6(Zf)/PDAC-KLF6-ChIP-Seq(GSE64557)/Homer & 37.42\\\\\n",
       "\\end{tabular}\n"
      ],
      "text/markdown": [
       "\n",
       "| <!--/--> | percentage |\n",
       "|---|---|\n",
       "| prueba | 68.72 |\n",
       "| CTCF(Zf)/CD4+-CTCF-ChIP-Seq(Barski_et_al.)/Homer | 18.40 |\n",
       "| BORIS(Zf)/K562-CTCFL-ChIP-Seq(GSE32465)/Homer | 19.02 |\n",
       "| KLF14(Zf)/HEK293-KLF14.GFP-ChIP-Seq(GSE58341)/Homer | 60.74 |\n",
       "| KLF5(Zf)/LoVo-KLF5-ChIP-Seq(GSE49402)/Homer | 49.69 |\n",
       "| KLF6(Zf)/PDAC-KLF6-ChIP-Seq(GSE64557)/Homer | 37.42 |\n",
       "\n"
      ],
      "text/plain": [
       "                                                    percentage\n",
       "prueba                                              68.72     \n",
       "CTCF(Zf)/CD4+-CTCF-ChIP-Seq(Barski_et_al.)/Homer    18.40     \n",
       "BORIS(Zf)/K562-CTCFL-ChIP-Seq(GSE32465)/Homer       19.02     \n",
       "KLF14(Zf)/HEK293-KLF14.GFP-ChIP-Seq(GSE58341)/Homer 60.74     \n",
       "KLF5(Zf)/LoVo-KLF5-ChIP-Seq(GSE49402)/Homer         49.69     \n",
       "KLF6(Zf)/PDAC-KLF6-ChIP-Seq(GSE64557)/Homer         37.42     "
      ]
     },
     "metadata": {},
     "output_type": "display_data"
    },
    {
     "data": {
      "text/html": [
       "<table>\n",
       "<thead><tr><th></th><th scope=col>percentage</th></tr></thead>\n",
       "<tbody>\n",
       "\t<tr><th scope=row>KLF14(Zf)/HEK293-KLF14.GFP-ChIP-Seq(GSE58341)/Homer</th><td>68.72</td></tr>\n",
       "\t<tr><th scope=row>KLF3(Zf)/MEF-Klf3-ChIP-Seq(GSE44748)/Homer</th><td>32.56</td></tr>\n",
       "\t<tr><th scope=row>Sp2(Zf)/HEK293-Sp2.eGFP-ChIP-Seq(Encode)/Homer</th><td>64.62</td></tr>\n",
       "\t<tr><th scope=row>Sp5(Zf)/mES-Sp5.Flag-ChIP-Seq(GSE72989)/Homer</th><td>56.15</td></tr>\n",
       "\t<tr><th scope=row>Maz(Zf)/HepG2-Maz-ChIP-Seq(GSE31477)/Homer</th><td>60.51</td></tr>\n",
       "\t<tr><th scope=row>Zfp281(Zf)/ES-Zfp281-ChIP-Seq(GSE81042)/Homer</th><td>16.67</td></tr>\n",
       "</tbody>\n",
       "</table>\n"
      ],
      "text/latex": [
       "\\begin{tabular}{r|l}\n",
       "  & percentage\\\\\n",
       "\\hline\n",
       "\tKLF14(Zf)/HEK293-KLF14.GFP-ChIP-Seq(GSE58341)/Homer & 68.72\\\\\n",
       "\tKLF3(Zf)/MEF-Klf3-ChIP-Seq(GSE44748)/Homer & 32.56\\\\\n",
       "\tSp2(Zf)/HEK293-Sp2.eGFP-ChIP-Seq(Encode)/Homer & 64.62\\\\\n",
       "\tSp5(Zf)/mES-Sp5.Flag-ChIP-Seq(GSE72989)/Homer & 56.15\\\\\n",
       "\tMaz(Zf)/HepG2-Maz-ChIP-Seq(GSE31477)/Homer & 60.51\\\\\n",
       "\tZfp281(Zf)/ES-Zfp281-ChIP-Seq(GSE81042)/Homer & 16.67\\\\\n",
       "\\end{tabular}\n"
      ],
      "text/markdown": [
       "\n",
       "| <!--/--> | percentage |\n",
       "|---|---|\n",
       "| KLF14(Zf)/HEK293-KLF14.GFP-ChIP-Seq(GSE58341)/Homer | 68.72 |\n",
       "| KLF3(Zf)/MEF-Klf3-ChIP-Seq(GSE44748)/Homer | 32.56 |\n",
       "| Sp2(Zf)/HEK293-Sp2.eGFP-ChIP-Seq(Encode)/Homer | 64.62 |\n",
       "| Sp5(Zf)/mES-Sp5.Flag-ChIP-Seq(GSE72989)/Homer | 56.15 |\n",
       "| Maz(Zf)/HepG2-Maz-ChIP-Seq(GSE31477)/Homer | 60.51 |\n",
       "| Zfp281(Zf)/ES-Zfp281-ChIP-Seq(GSE81042)/Homer | 16.67 |\n",
       "\n"
      ],
      "text/plain": [
       "                                                    percentage\n",
       "KLF14(Zf)/HEK293-KLF14.GFP-ChIP-Seq(GSE58341)/Homer 68.72     \n",
       "KLF3(Zf)/MEF-Klf3-ChIP-Seq(GSE44748)/Homer          32.56     \n",
       "Sp2(Zf)/HEK293-Sp2.eGFP-ChIP-Seq(Encode)/Homer      64.62     \n",
       "Sp5(Zf)/mES-Sp5.Flag-ChIP-Seq(GSE72989)/Homer       56.15     \n",
       "Maz(Zf)/HepG2-Maz-ChIP-Seq(GSE31477)/Homer          60.51     \n",
       "Zfp281(Zf)/ES-Zfp281-ChIP-Seq(GSE81042)/Homer       16.67     "
      ]
     },
     "metadata": {},
     "output_type": "display_data"
    }
   ],
   "source": [
    "head(enhancers)\n",
    "head(promoters)"
   ]
  },
  {
   "cell_type": "code",
   "execution_count": 62,
   "metadata": {},
   "outputs": [],
   "source": [
    "promoters <- as.matrix(promoters)"
   ]
  },
  {
   "cell_type": "code",
   "execution_count": 63,
   "metadata": {},
   "outputs": [],
   "source": [
    "enhancers <- as.matrix(enhancers)"
   ]
  },
  {
   "cell_type": "code",
   "execution_count": 48,
   "metadata": {},
   "outputs": [],
   "source": [
    "options(repr.plot.width=5, repr.plot.height=5)\n",
    "pheatmap(promoters, \n",
    "         color = colorRampPalette(rev(brewer.pal(n = 7, name = \"Spectral\")))(100),\n",
    "         cluster_cols = FALSE, \n",
    "         cluster_rows = FALSE, \n",
    "         cellheight = 15, \n",
    "         cellwidth = 15, \n",
    "         border_color = \"grey60\", \n",
    "      gaps_row = c(6,8,12 ),\n",
    "         fontsize_row = 8,\n",
    "        angle_col = 270,\n",
    "        \n",
    "       filename = \"MOTIFS_HOMER_heatmap_promoters.pdf\")"
   ]
  },
  {
   "cell_type": "code",
   "execution_count": 66,
   "metadata": {},
   "outputs": [],
   "source": [
    "options(repr.plot.width=5, repr.plot.height=13)\n",
    "pheatmap(enhancers, \n",
    "         color = colorRampPalette(rev(brewer.pal(n = 7, name = \"Spectral\")))(100),\n",
    "         cluster_cols = FALSE, \n",
    "         cluster_rows = FALSE, \n",
    "         cellheight = 15, \n",
    "         cellwidth = 15, \n",
    "         border_color = \"grey60\", \n",
    "     gaps_row = c(1, 16,21,36,37,39,40,42,48, 49, 50, 51),\n",
    "         fontsize_row = 8,\n",
    "        angle_col = 270,\n",
    "        \n",
    "      filename = \"MOTIFS_HOMER_heatmap_enhancers.pdf\")"
   ]
  },
  {
   "cell_type": "code",
   "execution_count": null,
   "metadata": {},
   "outputs": [],
   "source": []
  }
 ],
 "metadata": {
  "kernelspec": {
   "display_name": "R [conda env:R_ATACseq2]",
   "language": "R",
   "name": "conda-env-R_ATACseq2-r"
  },
  "language_info": {
   "codemirror_mode": "r",
   "file_extension": ".r",
   "mimetype": "text/x-r-source",
   "name": "R",
   "pygments_lexer": "r",
   "version": "3.6.1"
  }
 },
 "nbformat": 4,
 "nbformat_minor": 4
}
