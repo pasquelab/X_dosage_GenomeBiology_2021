{
 "cells": [
  {
   "cell_type": "markdown",
   "metadata": {},
   "source": [
    "# Relating regulon activity to Xi reactivation"
   ]
  },
  {
   "cell_type": "markdown",
   "metadata": {},
   "source": [
    "### runa with conda env: R_scRNAseq"
   ]
  },
  {
   "cell_type": "code",
   "execution_count": 1,
   "metadata": {},
   "outputs": [
    {
     "name": "stderr",
     "output_type": "stream",
     "text": [
      "Warning message:\n",
      "\"package 'Seurat' was built under R version 3.6.2\""
     ]
    }
   ],
   "source": [
    "suppressPackageStartupMessages({\n",
    "    library(Seurat)\n",
    "    library(dplyr)\n",
    "    library(readr)\n",
    "    library(ggplot2)\n",
    "    library(tidyr)\n",
    "    library(viridis)\n",
    "})"
   ]
  },
  {
   "cell_type": "code",
   "execution_count": 2,
   "metadata": {},
   "outputs": [],
   "source": [
    "setwd(\"/staging/leuven/stg_00041/Adrian/TALON_JANISZEWSKI_XCR2/\")"
   ]
  },
  {
   "cell_type": "markdown",
   "metadata": {},
   "source": [
    "### I/O"
   ]
  },
  {
   "cell_type": "code",
   "execution_count": 8,
   "metadata": {},
   "outputs": [],
   "source": [
    "io <- list()\n",
    "\n",
    "io$regulon <- \"SCENIC/auc_mtx_5.csv\"\n",
    "io$targets <- \"SCENIC/regulon_target_chr.csv\"\n",
    "io$reg_chr <- \"SCENIC/reg_chr_counts.csv\""
   ]
  },
  {
   "cell_type": "code",
   "execution_count": 5,
   "metadata": {},
   "outputs": [
    {
     "name": "stderr",
     "output_type": "stream",
     "text": [
      "Warning message:\n",
      "\"Missing column names filled in: 'X1' [1]\"Parsed with column specification:\n",
      "cols(\n",
      "  X1 = col_double(),\n",
      "  gene = col_character(),\n",
      "  RNA_id = col_character(),\n",
      "  X = col_double(),\n",
      "  X129 = col_double(),\n",
      "  Cast = col_double(),\n",
      "  sumReads = col_double(),\n",
      "  ratioPercent = col_double(),\n",
      "  ratioLog = col_double(),\n",
      "  Pseudotime = col_double(),\n",
      "  seurat_clusters_rename = col_double(),\n",
      "  Timepoint = col_character(),\n",
      "  Xi = col_character(),\n",
      "  Chr = col_character(),\n",
      "  total_reads = col_double(),\n",
      "  mus_norm = col_double(),\n",
      "  cast_norm = col_double(),\n",
      "  ratio_norm = col_double(),\n",
      "  sum_norm = col_double()\n",
      ")\n"
     ]
    }
   ],
   "source": [
    "allelic <- read_csv(\"allele_specific/pre_processing/AJ_0065.9c_allelic_norm_complete.csv\")"
   ]
  },
  {
   "cell_type": "code",
   "execution_count": 7,
   "metadata": {},
   "outputs": [],
   "source": [
    "allelic <- allelic %>% \n",
    "                dplyr::rename(\"Cell\" = \"RNA_id\", \"cluster_replace\" = \"seurat_clusters_rename\") "
   ]
  },
  {
   "cell_type": "markdown",
   "metadata": {},
   "source": [
    "## Import regulons and targets"
   ]
  },
  {
   "cell_type": "code",
   "execution_count": 9,
   "metadata": {},
   "outputs": [
    {
     "name": "stderr",
     "output_type": "stream",
     "text": [
      "Parsed with column specification:\n",
      "cols(\n",
      "  .default = col_double(),\n",
      "  Cell = col_character()\n",
      ")\n",
      "See spec(...) for full column specifications.\n",
      "Warning message:\n",
      "\"Missing column names filled in: 'X1' [1]\"Parsed with column specification:\n",
      "cols(\n",
      "  X1 = col_double(),\n",
      "  `Unnamed: 0` = col_double(),\n",
      "  Regulon = col_character(),\n",
      "  Targets = col_character(),\n",
      "  Chr = col_character()\n",
      ")\n",
      "Warning message:\n",
      "\"Missing column names filled in: 'X1' [1]\"Parsed with column specification:\n",
      "cols(\n",
      "  X1 = col_double(),\n",
      "  Regulon = col_character(),\n",
      "  Chr = col_character(),\n",
      "  n_targets = col_double()\n",
      ")\n"
     ]
    }
   ],
   "source": [
    "regulon <- read_csv(io$regulon)\n",
    "targets <- read_csv(io$targets)\n",
    "reg_chr <- read_csv(io$reg_chr)"
   ]
  },
  {
   "cell_type": "code",
   "execution_count": 10,
   "metadata": {},
   "outputs": [
    {
     "data": {
      "text/html": [
       "<table>\n",
       "<thead><tr><th scope=col>Cell</th><th scope=col>2410141K09Rik</th><th scope=col>Akr1a1</th><th scope=col>Alx1</th><th scope=col>Alx3</th><th scope=col>Alx4</th><th scope=col>Arid3a</th><th scope=col>Arnt</th><th scope=col>Atf3</th><th scope=col>Atf4</th><th scope=col>...</th><th scope=col>Zfp148</th><th scope=col>Zfp362</th><th scope=col>Zfp410</th><th scope=col>Zfp42</th><th scope=col>Zfp467</th><th scope=col>Zfp667</th><th scope=col>Zic3</th><th scope=col>Zic5</th><th scope=col>Zmiz1</th><th scope=col>Zscan10</th></tr></thead>\n",
       "<tbody>\n",
       "\t<tr><td>Day_9_Xi_Mus_33 </td><td>0.04189857      </td><td>0.1412515       </td><td>0               </td><td>0               </td><td>0               </td><td>0.17659295      </td><td>0.00000000      </td><td>0.07668644      </td><td>0.09558015      </td><td>...             </td><td>0.00000000      </td><td>0               </td><td>0.0000000       </td><td>0.06540736      </td><td>0.07630722      </td><td>0.04782211      </td><td>0.0000000       </td><td>0               </td><td>0.075012198     </td><td>0.08569761      </td></tr>\n",
       "\t<tr><td>Day_10_Xi_Mus_25</td><td>0.17300972      </td><td>0.1295921       </td><td>0               </td><td>0               </td><td>0               </td><td>0.05630640      </td><td>0.08029930      </td><td>0.02993759      </td><td>0.16795411      </td><td>...             </td><td>0.01319862      </td><td>0               </td><td>0.0000000       </td><td>0.11827622      </td><td>0.00000000      </td><td>0.11238005      </td><td>0.0000000       </td><td>0               </td><td>0.007973111     </td><td>0.15575260      </td></tr>\n",
       "\t<tr><td>Day_10_Xi_Mus_32</td><td>0.10660650      </td><td>0.1295921       </td><td>0               </td><td>0               </td><td>0               </td><td>0.10619694      </td><td>0.06599512      </td><td>0.05396919      </td><td>0.18447566      </td><td>...             </td><td>0.00000000      </td><td>0               </td><td>0.0000000       </td><td>0.08585769      </td><td>0.00000000      </td><td>0.12837342      </td><td>0.0000000       </td><td>0               </td><td>0.031736208     </td><td>0.12836103      </td></tr>\n",
       "\t<tr><td>Day_9_Xi_Mus_27 </td><td>0.11266982      </td><td>0.1293932       </td><td>0               </td><td>0               </td><td>0               </td><td>0.13793736      </td><td>0.03021848      </td><td>0.07551412      </td><td>0.14347473      </td><td>...             </td><td>0.03371463      </td><td>0               </td><td>0.0000000       </td><td>0.09190361      </td><td>0.00000000      </td><td>0.03700477      </td><td>0.0000000       </td><td>0               </td><td>0.039008209     </td><td>0.11342516      </td></tr>\n",
       "\t<tr><td>Day_9_Xi_Mus_36 </td><td>0.13542941      </td><td>0.1290948       </td><td>0               </td><td>0               </td><td>0               </td><td>0.11177643      </td><td>0.00000000      </td><td>0.04981346      </td><td>0.12447627      </td><td>...             </td><td>0.00000000      </td><td>0               </td><td>0.1712373       </td><td>0.08658987      </td><td>0.07376799      </td><td>0.06449128      </td><td>0.0000000       </td><td>0               </td><td>0.023464786     </td><td>0.16054179      </td></tr>\n",
       "\t<tr><td>Day_10_Xi_Mus_30</td><td>0.24870989      </td><td>0.1293932       </td><td>0               </td><td>0               </td><td>0               </td><td>0.02614772      </td><td>0.00000000      </td><td>0.03021372      </td><td>0.15539862      </td><td>...             </td><td>0.02900200      </td><td>0               </td><td>0.0000000       </td><td>0.18275565      </td><td>0.05202173      </td><td>0.08431324      </td><td>0.1364037       </td><td>0               </td><td>0.009582028     </td><td>0.21361607      </td></tr>\n",
       "</tbody>\n",
       "</table>\n"
      ],
      "text/latex": [
       "\\begin{tabular}{r|llllllllllllllllllllllllllllllllllllllllllllllllllllllllllllllllllllllllllllllllllllllllllllllllllllllllllllllllllllllllllllllllllllllllllllllllllllllllllllllllllllllllllllllllllllllllllllllllllllllllllllllllllllllllllllllllllllllllllllllllllllllllllllllllllllllllllllllllllllllllllllllllllllllllllllllllllllllll}\n",
       " Cell & 2410141K09Rik & Akr1a1 & Alx1 & Alx3 & Alx4 & Arid3a & Arnt & Atf3 & Atf4 & ... & Zfp148 & Zfp362 & Zfp410 & Zfp42 & Zfp467 & Zfp667 & Zic3 & Zic5 & Zmiz1 & Zscan10\\\\\n",
       "\\hline\n",
       "\t Day\\_9\\_Xi\\_Mus\\_33  & 0.04189857               & 0.1412515                & 0                        & 0                        & 0                        & 0.17659295               & 0.00000000               & 0.07668644               & 0.09558015               & ...                      & 0.00000000               & 0                        & 0.0000000                & 0.06540736               & 0.07630722               & 0.04782211               & 0.0000000                & 0                        & 0.075012198              & 0.08569761              \\\\\n",
       "\t Day\\_10\\_Xi\\_Mus\\_25 & 0.17300972               & 0.1295921                & 0                        & 0                        & 0                        & 0.05630640               & 0.08029930               & 0.02993759               & 0.16795411               & ...                      & 0.01319862               & 0                        & 0.0000000                & 0.11827622               & 0.00000000               & 0.11238005               & 0.0000000                & 0                        & 0.007973111              & 0.15575260              \\\\\n",
       "\t Day\\_10\\_Xi\\_Mus\\_32 & 0.10660650               & 0.1295921                & 0                        & 0                        & 0                        & 0.10619694               & 0.06599512               & 0.05396919               & 0.18447566               & ...                      & 0.00000000               & 0                        & 0.0000000                & 0.08585769               & 0.00000000               & 0.12837342               & 0.0000000                & 0                        & 0.031736208              & 0.12836103              \\\\\n",
       "\t Day\\_9\\_Xi\\_Mus\\_27  & 0.11266982               & 0.1293932                & 0                        & 0                        & 0                        & 0.13793736               & 0.03021848               & 0.07551412               & 0.14347473               & ...                      & 0.03371463               & 0                        & 0.0000000                & 0.09190361               & 0.00000000               & 0.03700477               & 0.0000000                & 0                        & 0.039008209              & 0.11342516              \\\\\n",
       "\t Day\\_9\\_Xi\\_Mus\\_36  & 0.13542941               & 0.1290948                & 0                        & 0                        & 0                        & 0.11177643               & 0.00000000               & 0.04981346               & 0.12447627               & ...                      & 0.00000000               & 0                        & 0.1712373                & 0.08658987               & 0.07376799               & 0.06449128               & 0.0000000                & 0                        & 0.023464786              & 0.16054179              \\\\\n",
       "\t Day\\_10\\_Xi\\_Mus\\_30 & 0.24870989               & 0.1293932                & 0                        & 0                        & 0                        & 0.02614772               & 0.00000000               & 0.03021372               & 0.15539862               & ...                      & 0.02900200               & 0                        & 0.0000000                & 0.18275565               & 0.05202173               & 0.08431324               & 0.1364037                & 0                        & 0.009582028              & 0.21361607              \\\\\n",
       "\\end{tabular}\n"
      ],
      "text/markdown": [
       "\n",
       "| Cell | 2410141K09Rik | Akr1a1 | Alx1 | Alx3 | Alx4 | Arid3a | Arnt | Atf3 | Atf4 | ... | Zfp148 | Zfp362 | Zfp410 | Zfp42 | Zfp467 | Zfp667 | Zic3 | Zic5 | Zmiz1 | Zscan10 |\n",
       "|---|---|---|---|---|---|---|---|---|---|---|---|---|---|---|---|---|---|---|---|---|\n",
       "| Day_9_Xi_Mus_33  | 0.04189857       | 0.1412515        | 0                | 0                | 0                | 0.17659295       | 0.00000000       | 0.07668644       | 0.09558015       | ...              | 0.00000000       | 0                | 0.0000000        | 0.06540736       | 0.07630722       | 0.04782211       | 0.0000000        | 0                | 0.075012198      | 0.08569761       |\n",
       "| Day_10_Xi_Mus_25 | 0.17300972       | 0.1295921        | 0                | 0                | 0                | 0.05630640       | 0.08029930       | 0.02993759       | 0.16795411       | ...              | 0.01319862       | 0                | 0.0000000        | 0.11827622       | 0.00000000       | 0.11238005       | 0.0000000        | 0                | 0.007973111      | 0.15575260       |\n",
       "| Day_10_Xi_Mus_32 | 0.10660650       | 0.1295921        | 0                | 0                | 0                | 0.10619694       | 0.06599512       | 0.05396919       | 0.18447566       | ...              | 0.00000000       | 0                | 0.0000000        | 0.08585769       | 0.00000000       | 0.12837342       | 0.0000000        | 0                | 0.031736208      | 0.12836103       |\n",
       "| Day_9_Xi_Mus_27  | 0.11266982       | 0.1293932        | 0                | 0                | 0                | 0.13793736       | 0.03021848       | 0.07551412       | 0.14347473       | ...              | 0.03371463       | 0                | 0.0000000        | 0.09190361       | 0.00000000       | 0.03700477       | 0.0000000        | 0                | 0.039008209      | 0.11342516       |\n",
       "| Day_9_Xi_Mus_36  | 0.13542941       | 0.1290948        | 0                | 0                | 0                | 0.11177643       | 0.00000000       | 0.04981346       | 0.12447627       | ...              | 0.00000000       | 0                | 0.1712373        | 0.08658987       | 0.07376799       | 0.06449128       | 0.0000000        | 0                | 0.023464786      | 0.16054179       |\n",
       "| Day_10_Xi_Mus_30 | 0.24870989       | 0.1293932        | 0                | 0                | 0                | 0.02614772       | 0.00000000       | 0.03021372       | 0.15539862       | ...              | 0.02900200       | 0                | 0.0000000        | 0.18275565       | 0.05202173       | 0.08431324       | 0.1364037        | 0                | 0.009582028      | 0.21361607       |\n",
       "\n"
      ],
      "text/plain": [
       "  Cell             2410141K09Rik Akr1a1    Alx1 Alx3 Alx4 Arid3a     Arnt      \n",
       "1 Day_9_Xi_Mus_33  0.04189857    0.1412515 0    0    0    0.17659295 0.00000000\n",
       "2 Day_10_Xi_Mus_25 0.17300972    0.1295921 0    0    0    0.05630640 0.08029930\n",
       "3 Day_10_Xi_Mus_32 0.10660650    0.1295921 0    0    0    0.10619694 0.06599512\n",
       "4 Day_9_Xi_Mus_27  0.11266982    0.1293932 0    0    0    0.13793736 0.03021848\n",
       "5 Day_9_Xi_Mus_36  0.13542941    0.1290948 0    0    0    0.11177643 0.00000000\n",
       "6 Day_10_Xi_Mus_30 0.24870989    0.1293932 0    0    0    0.02614772 0.00000000\n",
       "  Atf3       Atf4       ... Zfp148     Zfp362 Zfp410    Zfp42      Zfp467    \n",
       "1 0.07668644 0.09558015 ... 0.00000000 0      0.0000000 0.06540736 0.07630722\n",
       "2 0.02993759 0.16795411 ... 0.01319862 0      0.0000000 0.11827622 0.00000000\n",
       "3 0.05396919 0.18447566 ... 0.00000000 0      0.0000000 0.08585769 0.00000000\n",
       "4 0.07551412 0.14347473 ... 0.03371463 0      0.0000000 0.09190361 0.00000000\n",
       "5 0.04981346 0.12447627 ... 0.00000000 0      0.1712373 0.08658987 0.07376799\n",
       "6 0.03021372 0.15539862 ... 0.02900200 0      0.0000000 0.18275565 0.05202173\n",
       "  Zfp667     Zic3      Zic5 Zmiz1       Zscan10   \n",
       "1 0.04782211 0.0000000 0    0.075012198 0.08569761\n",
       "2 0.11238005 0.0000000 0    0.007973111 0.15575260\n",
       "3 0.12837342 0.0000000 0    0.031736208 0.12836103\n",
       "4 0.03700477 0.0000000 0    0.039008209 0.11342516\n",
       "5 0.06449128 0.0000000 0    0.023464786 0.16054179\n",
       "6 0.08431324 0.1364037 0    0.009582028 0.21361607"
      ]
     },
     "metadata": {},
     "output_type": "display_data"
    },
    {
     "data": {
      "text/html": [
       "<table>\n",
       "<thead><tr><th scope=col>X1</th><th scope=col>Unnamed: 0</th><th scope=col>Regulon</th><th scope=col>Targets</th><th scope=col>Chr</th></tr></thead>\n",
       "<tbody>\n",
       "\t<tr><td>0            </td><td>0            </td><td>2410141K09Rik</td><td>Cdk4         </td><td>chr10        </td></tr>\n",
       "\t<tr><td>1            </td><td>1            </td><td>2410141K09Rik</td><td>Gtf2h1       </td><td>chr7         </td></tr>\n",
       "\t<tr><td>2            </td><td>2            </td><td>2410141K09Rik</td><td>Sae1         </td><td>chr7         </td></tr>\n",
       "\t<tr><td>3            </td><td>3            </td><td>2410141K09Rik</td><td>Qtrt1        </td><td>chr9         </td></tr>\n",
       "\t<tr><td>4            </td><td>4            </td><td>2410141K09Rik</td><td>Apex1        </td><td>chr14        </td></tr>\n",
       "\t<tr><td>5            </td><td>5            </td><td>2410141K09Rik</td><td>Pop1         </td><td>chr15        </td></tr>\n",
       "</tbody>\n",
       "</table>\n"
      ],
      "text/latex": [
       "\\begin{tabular}{r|lllll}\n",
       " X1 & Unnamed: 0 & Regulon & Targets & Chr\\\\\n",
       "\\hline\n",
       "\t 0             & 0             & 2410141K09Rik & Cdk4          & chr10        \\\\\n",
       "\t 1             & 1             & 2410141K09Rik & Gtf2h1        & chr7         \\\\\n",
       "\t 2             & 2             & 2410141K09Rik & Sae1          & chr7         \\\\\n",
       "\t 3             & 3             & 2410141K09Rik & Qtrt1         & chr9         \\\\\n",
       "\t 4             & 4             & 2410141K09Rik & Apex1         & chr14        \\\\\n",
       "\t 5             & 5             & 2410141K09Rik & Pop1          & chr15        \\\\\n",
       "\\end{tabular}\n"
      ],
      "text/markdown": [
       "\n",
       "| X1 | Unnamed: 0 | Regulon | Targets | Chr |\n",
       "|---|---|---|---|---|\n",
       "| 0             | 0             | 2410141K09Rik | Cdk4          | chr10         |\n",
       "| 1             | 1             | 2410141K09Rik | Gtf2h1        | chr7          |\n",
       "| 2             | 2             | 2410141K09Rik | Sae1          | chr7          |\n",
       "| 3             | 3             | 2410141K09Rik | Qtrt1         | chr9          |\n",
       "| 4             | 4             | 2410141K09Rik | Apex1         | chr14         |\n",
       "| 5             | 5             | 2410141K09Rik | Pop1          | chr15         |\n",
       "\n"
      ],
      "text/plain": [
       "  X1 Unnamed: 0 Regulon       Targets Chr  \n",
       "1 0  0          2410141K09Rik Cdk4    chr10\n",
       "2 1  1          2410141K09Rik Gtf2h1  chr7 \n",
       "3 2  2          2410141K09Rik Sae1    chr7 \n",
       "4 3  3          2410141K09Rik Qtrt1   chr9 \n",
       "5 4  4          2410141K09Rik Apex1   chr14\n",
       "6 5  5          2410141K09Rik Pop1    chr15"
      ]
     },
     "metadata": {},
     "output_type": "display_data"
    },
    {
     "data": {
      "text/html": [
       "<table>\n",
       "<thead><tr><th scope=col>X1</th><th scope=col>Regulon</th><th scope=col>Chr</th><th scope=col>n_targets</th></tr></thead>\n",
       "<tbody>\n",
       "\t<tr><td>0            </td><td>2410141K09Rik</td><td>chr1         </td><td>5            </td></tr>\n",
       "\t<tr><td>1            </td><td>2410141K09Rik</td><td>chr10        </td><td>8            </td></tr>\n",
       "\t<tr><td>2            </td><td>2410141K09Rik</td><td>chr11        </td><td>8            </td></tr>\n",
       "\t<tr><td>3            </td><td>2410141K09Rik</td><td>chr13        </td><td>1            </td></tr>\n",
       "\t<tr><td>4            </td><td>2410141K09Rik</td><td>chr14        </td><td>2            </td></tr>\n",
       "\t<tr><td>5            </td><td>2410141K09Rik</td><td>chr15        </td><td>3            </td></tr>\n",
       "</tbody>\n",
       "</table>\n"
      ],
      "text/latex": [
       "\\begin{tabular}{r|llll}\n",
       " X1 & Regulon & Chr & n\\_targets\\\\\n",
       "\\hline\n",
       "\t 0             & 2410141K09Rik & chr1          & 5            \\\\\n",
       "\t 1             & 2410141K09Rik & chr10         & 8            \\\\\n",
       "\t 2             & 2410141K09Rik & chr11         & 8            \\\\\n",
       "\t 3             & 2410141K09Rik & chr13         & 1            \\\\\n",
       "\t 4             & 2410141K09Rik & chr14         & 2            \\\\\n",
       "\t 5             & 2410141K09Rik & chr15         & 3            \\\\\n",
       "\\end{tabular}\n"
      ],
      "text/markdown": [
       "\n",
       "| X1 | Regulon | Chr | n_targets |\n",
       "|---|---|---|---|\n",
       "| 0             | 2410141K09Rik | chr1          | 5             |\n",
       "| 1             | 2410141K09Rik | chr10         | 8             |\n",
       "| 2             | 2410141K09Rik | chr11         | 8             |\n",
       "| 3             | 2410141K09Rik | chr13         | 1             |\n",
       "| 4             | 2410141K09Rik | chr14         | 2             |\n",
       "| 5             | 2410141K09Rik | chr15         | 3             |\n",
       "\n"
      ],
      "text/plain": [
       "  X1 Regulon       Chr   n_targets\n",
       "1 0  2410141K09Rik chr1  5        \n",
       "2 1  2410141K09Rik chr10 8        \n",
       "3 2  2410141K09Rik chr11 8        \n",
       "4 3  2410141K09Rik chr13 1        \n",
       "5 4  2410141K09Rik chr14 2        \n",
       "6 5  2410141K09Rik chr15 3        "
      ]
     },
     "metadata": {},
     "output_type": "display_data"
    }
   ],
   "source": [
    "names(regulon) <- gsub(\"\\\\.\", \"\", names(regulon))\n",
    "names(regulon) <- gsub(\"\\\\(\\\\+\\\\)\", \"\", names(regulon))\n",
    "head(regulon)\n",
    "targets$Regulon <- gsub(\"\\\\(\\\\+\\\\)\", \"\", targets$Regulon)\n",
    "head(targets)\n",
    "reg_chr$Regulon <- gsub(\"\\\\(\\\\+\\\\)\", \"\", reg_chr$Regulon)\n",
    "head(reg_chr)"
   ]
  },
  {
   "cell_type": "code",
   "execution_count": 11,
   "metadata": {},
   "outputs": [],
   "source": [
    "allelic2 <- allelic %>% \n",
    "                filter(Chr==\"chrX\")\n",
    "\n",
    "allele_X <- allelic2 %>% \n",
    "                na.omit() %>% \n",
    "                group_by(Cell, Pseudotime) %>% \n",
    "                summarize(Xi = mean(ratio_norm)) "
   ]
  },
  {
   "cell_type": "code",
   "execution_count": 12,
   "metadata": {},
   "outputs": [],
   "source": [
    "regulon_xcr <- left_join(regulon, allele_X, by = \"Cell\") "
   ]
  },
  {
   "cell_type": "code",
   "execution_count": 13,
   "metadata": {},
   "outputs": [],
   "source": [
    "regulon_xcr <- data.frame(regulon_xcr[,-1], row.names = regulon_xcr$Cell)\n",
    "regulon_xcr_class <- regulon_xcr %>% mutate(xcr = case_when(Xi > 0.15 & Xi < 0.85 ~ 1,\n",
    "                                                           Xi < 0.15 ~ 0,\n",
    "                                                           Xi > 0.85 ~ 2)) %>% filter(xcr != 2) %>% select(-Xi) "
   ]
  },
  {
   "cell_type": "code",
   "execution_count": 14,
   "metadata": {},
   "outputs": [
    {
     "name": "stderr",
     "output_type": "stream",
     "text": [
      "Warning message:\n",
      "\"glm.fit: fitted probabilities numerically 0 or 1 occurred\"Warning message:\n",
      "\"glm.fit: fitted probabilities numerically 0 or 1 occurred\"Warning message:\n",
      "\"glm.fit: fitted probabilities numerically 0 or 1 occurred\"Warning message:\n",
      "\"glm.fit: fitted probabilities numerically 0 or 1 occurred\"Warning message:\n",
      "\"glm.fit: fitted probabilities numerically 0 or 1 occurred\"Warning message:\n",
      "\"glm.fit: fitted probabilities numerically 0 or 1 occurred\"Warning message:\n",
      "\"glm.fit: fitted probabilities numerically 0 or 1 occurred\"Warning message:\n",
      "\"glm.fit: fitted probabilities numerically 0 or 1 occurred\"Warning message:\n",
      "\"glm.fit: fitted probabilities numerically 0 or 1 occurred\"Warning message:\n",
      "\"glm.fit: fitted probabilities numerically 0 or 1 occurred\"Warning message:\n",
      "\"glm.fit: fitted probabilities numerically 0 or 1 occurred\"Warning message:\n",
      "\"glm.fit: fitted probabilities numerically 0 or 1 occurred\"Warning message:\n",
      "\"glm.fit: fitted probabilities numerically 0 or 1 occurred\"Warning message:\n",
      "\"glm.fit: fitted probabilities numerically 0 or 1 occurred\"Warning message:\n",
      "\"glm.fit: fitted probabilities numerically 0 or 1 occurred\"Warning message:\n",
      "\"glm.fit: fitted probabilities numerically 0 or 1 occurred\"Warning message:\n",
      "\"glm.fit: fitted probabilities numerically 0 or 1 occurred\"Warning message:\n",
      "\"glm.fit: fitted probabilities numerically 0 or 1 occurred\"Warning message:\n",
      "\"glm.fit: fitted probabilities numerically 0 or 1 occurred\"Warning message:\n",
      "\"glm.fit: fitted probabilities numerically 0 or 1 occurred\"Warning message:\n",
      "\"glm.fit: fitted probabilities numerically 0 or 1 occurred\"Warning message:\n",
      "\"glm.fit: fitted probabilities numerically 0 or 1 occurred\"Warning message:\n",
      "\"glm.fit: fitted probabilities numerically 0 or 1 occurred\"Warning message:\n",
      "\"glm.fit: fitted probabilities numerically 0 or 1 occurred\"Warning message:\n",
      "\"glm.fit: fitted probabilities numerically 0 or 1 occurred\"Warning message:\n",
      "\"glm.fit: fitted probabilities numerically 0 or 1 occurred\"Warning message:\n",
      "\"glm.fit: fitted probabilities numerically 0 or 1 occurred\"Warning message:\n",
      "\"glm.fit: fitted probabilities numerically 0 or 1 occurred\"Warning message:\n",
      "\"glm.fit: fitted probabilities numerically 0 or 1 occurred\"Warning message:\n",
      "\"glm.fit: fitted probabilities numerically 0 or 1 occurred\"Warning message:\n",
      "\"glm.fit: fitted probabilities numerically 0 or 1 occurred\"Warning message:\n",
      "\"glm.fit: fitted probabilities numerically 0 or 1 occurred\"Warning message:\n",
      "\"glm.fit: fitted probabilities numerically 0 or 1 occurred\"Warning message:\n",
      "\"glm.fit: fitted probabilities numerically 0 or 1 occurred\"Warning message:\n",
      "\"glm.fit: fitted probabilities numerically 0 or 1 occurred\"Warning message:\n",
      "\"glm.fit: fitted probabilities numerically 0 or 1 occurred\"Warning message:\n",
      "\"glm.fit: fitted probabilities numerically 0 or 1 occurred\"Warning message:\n",
      "\"glm.fit: fitted probabilities numerically 0 or 1 occurred\"Warning message:\n",
      "\"glm.fit: fitted probabilities numerically 0 or 1 occurred\""
     ]
    }
   ],
   "source": [
    "reg_xcr_logit_summary <- list()\n",
    "\n",
    "for (i in 1:ncol(regulon_xcr_class[,-2])){\n",
    "    \n",
    "    \n",
    "    model <- glm(regulon_xcr_class$xcr ~ regulon_xcr_class[[i]], family=binomial(link=\"logit\"))\n",
    "    \n",
    "    coeffs <- summary(model)$coefficients\n",
    "    \n",
    "    reg_xcr_logit_summary[[i]] <- coeffs[2,]\n",
    "    \n",
    "    names(reg_xcr_logit_summary)[i] <- names(regulon_xcr_class)[i]\n",
    "    \n",
    "    \n",
    "}"
   ]
  },
  {
   "cell_type": "code",
   "execution_count": 15,
   "metadata": {},
   "outputs": [],
   "source": [
    "reg_xcr_logit_summary_df <- bind_rows(reg_xcr_logit_summary)"
   ]
  },
  {
   "cell_type": "code",
   "execution_count": 16,
   "metadata": {},
   "outputs": [
    {
     "data": {
      "text/html": [
       "<table>\n",
       "<thead><tr><th scope=col>X2410141K09Rik</th><th scope=col>Akr1a1</th><th scope=col>Alx1</th><th scope=col>Alx3</th><th scope=col>Alx4</th><th scope=col>Arid3a</th><th scope=col>Arnt</th><th scope=col>Atf3</th><th scope=col>Atf4</th><th scope=col>Atf6</th><th scope=col>...</th><th scope=col>Zfp362</th><th scope=col>Zfp410</th><th scope=col>Zfp42</th><th scope=col>Zfp467</th><th scope=col>Zfp667</th><th scope=col>Zic3</th><th scope=col>Zic5</th><th scope=col>Zmiz1</th><th scope=col>Zscan10</th><th scope=col>Pseudotime</th></tr></thead>\n",
       "<tbody>\n",
       "\t<tr><td>5.877898e+01 </td><td>-9.1614427261</td><td>-52.16469998 </td><td>-102.99906297</td><td>-113.0967039 </td><td>-8.361748e+01</td><td>-6.032326e+01</td><td>-1.342494e+02</td><td>1.245506e+01 </td><td>-2.848668e+01</td><td>...          </td><td>-48.6182203  </td><td>-22.42376271 </td><td>8.771982e+01 </td><td>-2.744046e+01</td><td>-5.21188499  </td><td>2.006137e+01 </td><td>1.073066e+01 </td><td>-1.197181e+02</td><td>7.484703e+01 </td><td>2.615402e-01 </td></tr>\n",
       "\t<tr><td>6.359557e+00 </td><td> 2.6816911937</td><td> 21.24364471 </td><td>  50.70549440</td><td>  79.7335027 </td><td> 9.372254e+00</td><td> 1.096408e+01</td><td> 1.421130e+01</td><td>2.457449e+00 </td><td> 5.276522e+00</td><td>...          </td><td> 54.0425834  </td><td>  9.11854032 </td><td>9.031521e+00 </td><td> 5.836103e+00</td><td> 2.63747514  </td><td>2.394141e+00 </td><td>1.125264e+00 </td><td> 1.525423e+01</td><td>7.924068e+00 </td><td>3.087445e-02 </td></tr>\n",
       "\t<tr><td>9.242623e+00 </td><td>-3.4162929526</td><td> -2.45554380 </td><td>  -2.03131957</td><td>  -1.4184339 </td><td>-8.921810e+00</td><td>-5.501902e+00</td><td>-9.446668e+00</td><td>5.068288e+00 </td><td>-5.398761e+00</td><td>...          </td><td> -0.8996280  </td><td> -2.45913950 </td><td>9.712630e+00 </td><td>-4.701847e+00</td><td>-1.97608876  </td><td>8.379359e+00 </td><td>9.536127e+00 </td><td>-7.848190e+00</td><td>9.445531e+00 </td><td>8.471091e+00 </td></tr>\n",
       "\t<tr><td>2.405282e-20 </td><td> 0.0006347992</td><td>  0.01406716 </td><td>   0.04222259</td><td>   0.1560641 </td><td> 4.587269e-19</td><td> 3.757165e-08</td><td> 3.497891e-21</td><td>4.014090e-07 </td><td> 6.710288e-08</td><td>...          </td><td>  0.3683183  </td><td>  0.01392705 </td><td>2.663744e-22 </td><td> 2.578188e-06</td><td> 0.04814473  </td><td>5.321686e-17 </td><td>1.482657e-21 </td><td> 4.220847e-15</td><td>3.536053e-21 </td><td>2.431048e-17 </td></tr>\n",
       "</tbody>\n",
       "</table>\n"
      ],
      "text/latex": [
       "\\begin{tabular}{r|llllllllllllllllllllllllllllllllllllllllllllllllllllllllllllllllllllllllllllllllllllllllllllllllllllllllllllllllllllllllllllllllllllllllllllllllllllllllllllllllllllllllllllllllllllllllllllllllllllllllllllllllllllllllllllllllllllllllllllllllllllllllllllllllllllllllllllllllllllllllllllllllllllllllllllllllllllllll}\n",
       " X2410141K09Rik & Akr1a1 & Alx1 & Alx3 & Alx4 & Arid3a & Arnt & Atf3 & Atf4 & Atf6 & ... & Zfp362 & Zfp410 & Zfp42 & Zfp467 & Zfp667 & Zic3 & Zic5 & Zmiz1 & Zscan10 & Pseudotime\\\\\n",
       "\\hline\n",
       "\t 5.877898e+01  & -9.1614427261 & -52.16469998  & -102.99906297 & -113.0967039  & -8.361748e+01 & -6.032326e+01 & -1.342494e+02 & 1.245506e+01  & -2.848668e+01 & ...           & -48.6182203   & -22.42376271  & 8.771982e+01  & -2.744046e+01 & -5.21188499   & 2.006137e+01  & 1.073066e+01  & -1.197181e+02 & 7.484703e+01  & 2.615402e-01 \\\\\n",
       "\t 6.359557e+00  &  2.6816911937 &  21.24364471  &   50.70549440 &   79.7335027  &  9.372254e+00 &  1.096408e+01 &  1.421130e+01 & 2.457449e+00  &  5.276522e+00 & ...           &  54.0425834   &   9.11854032  & 9.031521e+00  &  5.836103e+00 &  2.63747514   & 2.394141e+00  & 1.125264e+00  &  1.525423e+01 & 7.924068e+00  & 3.087445e-02 \\\\\n",
       "\t 9.242623e+00  & -3.4162929526 &  -2.45554380  &   -2.03131957 &   -1.4184339  & -8.921810e+00 & -5.501902e+00 & -9.446668e+00 & 5.068288e+00  & -5.398761e+00 & ...           &  -0.8996280   &  -2.45913950  & 9.712630e+00  & -4.701847e+00 & -1.97608876   & 8.379359e+00  & 9.536127e+00  & -7.848190e+00 & 9.445531e+00  & 8.471091e+00 \\\\\n",
       "\t 2.405282e-20  &  0.0006347992 &   0.01406716  &    0.04222259 &    0.1560641  &  4.587269e-19 &  3.757165e-08 &  3.497891e-21 & 4.014090e-07  &  6.710288e-08 & ...           &   0.3683183   &   0.01392705  & 2.663744e-22  &  2.578188e-06 &  0.04814473   & 5.321686e-17  & 1.482657e-21  &  4.220847e-15 & 3.536053e-21  & 2.431048e-17 \\\\\n",
       "\\end{tabular}\n"
      ],
      "text/markdown": [
       "\n",
       "| X2410141K09Rik | Akr1a1 | Alx1 | Alx3 | Alx4 | Arid3a | Arnt | Atf3 | Atf4 | Atf6 | ... | Zfp362 | Zfp410 | Zfp42 | Zfp467 | Zfp667 | Zic3 | Zic5 | Zmiz1 | Zscan10 | Pseudotime |\n",
       "|---|---|---|---|---|---|---|---|---|---|---|---|---|---|---|---|---|---|---|---|---|\n",
       "| 5.877898e+01  | -9.1614427261 | -52.16469998  | -102.99906297 | -113.0967039  | -8.361748e+01 | -6.032326e+01 | -1.342494e+02 | 1.245506e+01  | -2.848668e+01 | ...           | -48.6182203   | -22.42376271  | 8.771982e+01  | -2.744046e+01 | -5.21188499   | 2.006137e+01  | 1.073066e+01  | -1.197181e+02 | 7.484703e+01  | 2.615402e-01  |\n",
       "| 6.359557e+00  |  2.6816911937 |  21.24364471  |   50.70549440 |   79.7335027  |  9.372254e+00 |  1.096408e+01 |  1.421130e+01 | 2.457449e+00  |  5.276522e+00 | ...           |  54.0425834   |   9.11854032  | 9.031521e+00  |  5.836103e+00 |  2.63747514   | 2.394141e+00  | 1.125264e+00  |  1.525423e+01 | 7.924068e+00  | 3.087445e-02  |\n",
       "| 9.242623e+00  | -3.4162929526 |  -2.45554380  |   -2.03131957 |   -1.4184339  | -8.921810e+00 | -5.501902e+00 | -9.446668e+00 | 5.068288e+00  | -5.398761e+00 | ...           |  -0.8996280   |  -2.45913950  | 9.712630e+00  | -4.701847e+00 | -1.97608876   | 8.379359e+00  | 9.536127e+00  | -7.848190e+00 | 9.445531e+00  | 8.471091e+00  |\n",
       "| 2.405282e-20  |  0.0006347992 |   0.01406716  |    0.04222259 |    0.1560641  |  4.587269e-19 |  3.757165e-08 |  3.497891e-21 | 4.014090e-07  |  6.710288e-08 | ...           |   0.3683183   |   0.01392705  | 2.663744e-22  |  2.578188e-06 |  0.04814473   | 5.321686e-17  | 1.482657e-21  |  4.220847e-15 | 3.536053e-21  | 2.431048e-17  |\n",
       "\n"
      ],
      "text/plain": [
       "  X2410141K09Rik Akr1a1        Alx1         Alx3          Alx4        \n",
       "1 5.877898e+01   -9.1614427261 -52.16469998 -102.99906297 -113.0967039\n",
       "2 6.359557e+00    2.6816911937  21.24364471   50.70549440   79.7335027\n",
       "3 9.242623e+00   -3.4162929526  -2.45554380   -2.03131957   -1.4184339\n",
       "4 2.405282e-20    0.0006347992   0.01406716    0.04222259    0.1560641\n",
       "  Arid3a        Arnt          Atf3          Atf4         Atf6          ...\n",
       "1 -8.361748e+01 -6.032326e+01 -1.342494e+02 1.245506e+01 -2.848668e+01 ...\n",
       "2  9.372254e+00  1.096408e+01  1.421130e+01 2.457449e+00  5.276522e+00 ...\n",
       "3 -8.921810e+00 -5.501902e+00 -9.446668e+00 5.068288e+00 -5.398761e+00 ...\n",
       "4  4.587269e-19  3.757165e-08  3.497891e-21 4.014090e-07  6.710288e-08 ...\n",
       "  Zfp362      Zfp410       Zfp42        Zfp467        Zfp667      Zic3        \n",
       "1 -48.6182203 -22.42376271 8.771982e+01 -2.744046e+01 -5.21188499 2.006137e+01\n",
       "2  54.0425834   9.11854032 9.031521e+00  5.836103e+00  2.63747514 2.394141e+00\n",
       "3  -0.8996280  -2.45913950 9.712630e+00 -4.701847e+00 -1.97608876 8.379359e+00\n",
       "4   0.3683183   0.01392705 2.663744e-22  2.578188e-06  0.04814473 5.321686e-17\n",
       "  Zic5         Zmiz1         Zscan10      Pseudotime  \n",
       "1 1.073066e+01 -1.197181e+02 7.484703e+01 2.615402e-01\n",
       "2 1.125264e+00  1.525423e+01 7.924068e+00 3.087445e-02\n",
       "3 9.536127e+00 -7.848190e+00 9.445531e+00 8.471091e+00\n",
       "4 1.482657e-21  4.220847e-15 3.536053e-21 2.431048e-17"
      ]
     },
     "metadata": {},
     "output_type": "display_data"
    }
   ],
   "source": [
    "reg_xcr_logit_summary_df"
   ]
  },
  {
   "cell_type": "code",
   "execution_count": 17,
   "metadata": {},
   "outputs": [],
   "source": [
    "reg_xcr_logit_summary_df_ordered <- reg_xcr_logit_summary_df %>% \n",
    "                                        gather( key =\"regulon\", value = \"estimate\") %>%\n",
    "                                        mutate(id = rep(c(\"estimate\",\"se\",\"z\",\"p\"), 312)) %>%\n",
    "                                        spread( id, estimate) %>%\n",
    "                                        arrange(desc(estimate))"
   ]
  },
  {
   "cell_type": "code",
   "execution_count": 19,
   "metadata": {},
   "outputs": [
    {
     "data": {
      "text/html": [
       "<table>\n",
       "<thead><tr><th scope=col>regulon</th><th scope=col>estimate</th><th scope=col>p</th><th scope=col>se</th><th scope=col>z</th></tr></thead>\n",
       "<tbody>\n",
       "\t<tr><td>Hcfc1       </td><td>97.31749    </td><td>6.280124e-28</td><td>8.883296    </td><td>10.955111   </td></tr>\n",
       "\t<tr><td>Trp53       </td><td>87.87226    </td><td>1.355077e-20</td><td>9.444767    </td><td> 9.303805   </td></tr>\n",
       "\t<tr><td>Zfp42       </td><td>87.71982    </td><td>2.663744e-22</td><td>9.031521    </td><td> 9.712630   </td></tr>\n",
       "\t<tr><td>Ezh2        </td><td>85.28313    </td><td>5.139348e-20</td><td>9.309315    </td><td> 9.161053   </td></tr>\n",
       "\t<tr><td>Bclaf1      </td><td>76.31879    </td><td>9.704595e-27</td><td>7.129658    </td><td>10.704411   </td></tr>\n",
       "\t<tr><td>Rest        </td><td>76.05423    </td><td>1.073904e-21</td><td>7.947539    </td><td> 9.569532   </td></tr>\n",
       "</tbody>\n",
       "</table>\n"
      ],
      "text/latex": [
       "\\begin{tabular}{r|lllll}\n",
       " regulon & estimate & p & se & z\\\\\n",
       "\\hline\n",
       "\t Hcfc1        & 97.31749     & 6.280124e-28 & 8.883296     & 10.955111   \\\\\n",
       "\t Trp53        & 87.87226     & 1.355077e-20 & 9.444767     &  9.303805   \\\\\n",
       "\t Zfp42        & 87.71982     & 2.663744e-22 & 9.031521     &  9.712630   \\\\\n",
       "\t Ezh2         & 85.28313     & 5.139348e-20 & 9.309315     &  9.161053   \\\\\n",
       "\t Bclaf1       & 76.31879     & 9.704595e-27 & 7.129658     & 10.704411   \\\\\n",
       "\t Rest         & 76.05423     & 1.073904e-21 & 7.947539     &  9.569532   \\\\\n",
       "\\end{tabular}\n"
      ],
      "text/markdown": [
       "\n",
       "| regulon | estimate | p | se | z |\n",
       "|---|---|---|---|---|\n",
       "| Hcfc1        | 97.31749     | 6.280124e-28 | 8.883296     | 10.955111    |\n",
       "| Trp53        | 87.87226     | 1.355077e-20 | 9.444767     |  9.303805    |\n",
       "| Zfp42        | 87.71982     | 2.663744e-22 | 9.031521     |  9.712630    |\n",
       "| Ezh2         | 85.28313     | 5.139348e-20 | 9.309315     |  9.161053    |\n",
       "| Bclaf1       | 76.31879     | 9.704595e-27 | 7.129658     | 10.704411    |\n",
       "| Rest         | 76.05423     | 1.073904e-21 | 7.947539     |  9.569532    |\n",
       "\n"
      ],
      "text/plain": [
       "  regulon estimate p            se       z        \n",
       "1 Hcfc1   97.31749 6.280124e-28 8.883296 10.955111\n",
       "2 Trp53   87.87226 1.355077e-20 9.444767  9.303805\n",
       "3 Zfp42   87.71982 2.663744e-22 9.031521  9.712630\n",
       "4 Ezh2    85.28313 5.139348e-20 9.309315  9.161053\n",
       "5 Bclaf1  76.31879 9.704595e-27 7.129658 10.704411\n",
       "6 Rest    76.05423 1.073904e-21 7.947539  9.569532"
      ]
     },
     "metadata": {},
     "output_type": "display_data"
    }
   ],
   "source": [
    "reg_xcr_logit_summary_df_ordered %>%\n",
    "    head()"
   ]
  },
  {
   "cell_type": "code",
   "execution_count": 26,
   "metadata": {},
   "outputs": [
    {
     "name": "stderr",
     "output_type": "stream",
     "text": [
      "`geom_smooth()` using method = 'loess' and formula 'y ~ x'\n",
      "Warning message:\n",
      "\"Removed 75 rows containing non-finite values (stat_smooth).\"Warning message:\n",
      "\"Removed 75 rows containing missing values (geom_point).\""
     ]
    },
    {
     "ename": "ERROR",
     "evalue": "Error in value[[3L]](cond): could not open file '/tmp/RtmpN9jwWs/file8b3655822b6.png'\n",
     "output_type": "error",
     "traceback": [
      "Error in value[[3L]](cond): could not open file '/tmp/RtmpN9jwWs/file8b3655822b6.png'\nTraceback:\n"
     ]
    },
    {
     "data": {
      "text/plain": [
       "plot without title"
      ]
     },
     "metadata": {},
     "output_type": "display_data"
    }
   ],
   "source": [
    "Tcf7l2 <- ggplot(regulon_xcr, aes(x=Tcf7l2, y=Xi, color = Pseudotime))+\n",
    "                    geom_point()+\n",
    "                    geom_smooth(color = \"firebrick3\")+\n",
    "                    geom_hline(yintercept = 0.15, linetype = \"dashed\") +\n",
    "                    geom_hline(yintercept = 0.85, linetype = \"dashed\") +\n",
    "                    coord_cartesian(ylim = c(0,1))+\n",
    "                    ylab(\"Mean Xi/(Xi+Xa) ratio\") + \n",
    "                    xlab(\"Regulon Activity\") +\n",
    "                    ggtitle(paste0(\"Regulon: \", \"Tcf7l2\")) +\n",
    "                    theme_classic()\n",
    "\n",
    "Tcf7l2"
   ]
  },
  {
   "cell_type": "code",
   "execution_count": 34,
   "metadata": {},
   "outputs": [
    {
     "name": "stderr",
     "output_type": "stream",
     "text": [
      "Warning message in grid.newpage():\n",
      "\"Cannot open temporary file '/tmp/RtmpN9jwWs/pdf8b3bc7fa1f' for compression (reason: No space left on device); compression has been turned off for this device\""
     ]
    },
    {
     "data": {
      "text/html": [
       "<strong>png:</strong> 2"
      ],
      "text/latex": [
       "\\textbf{png:} 2"
      ],
      "text/markdown": [
       "**png:** 2"
      ],
      "text/plain": [
       "png \n",
       "  2 "
      ]
     },
     "metadata": {},
     "output_type": "display_data"
    }
   ],
   "source": [
    "pdf(\"allele_specific/XCR/Regulon_XCR_logit_Tcf7l2.pdf\", useDingbats = FALSE, width = 8, height =3)\n",
    "plot(Tcf7l2)\n",
    "dev.off()"
   ]
  },
  {
   "cell_type": "code",
   "execution_count": 27,
   "metadata": {},
   "outputs": [],
   "source": [
    "plots_logit <- list()\n",
    "\n",
    "top_20_logit <- head(reg_xcr_logit_summary_df_ordered$regulon, 20)\n",
    "regulon_xcr_top <- regulon_xcr %>%\n",
    "                        select(top_20_logit, Xi, Pseudotime) %>%\n",
    "                        gather(regulon, activity, -Xi, -Pseudotime) \n",
    "\n",
    "\n",
    "for (i in 1:20) {\n",
    "    \n",
    "    plots_logit[[i]] <- regulon_xcr_top %>% filter(regulon == unique(regulon_xcr_top$regulon)[i]) %>%\n",
    "                            ggplot(., aes(activity, Xi, color = Pseudotime))+\n",
    "                            geom_point()+\n",
    "                            geom_smooth(color = \"firebrick3\")+\n",
    "                            geom_hline(yintercept = 0.15) +\n",
    "                            coord_cartesian(ylim = c(0,1))+\n",
    "                            ylab(\"Mean Xi/(Xi+Xa) ratio\") + xlab(\"Regulon Activity\") +\n",
    "                            ggtitle(paste0(\"Regulon: \",  unique(regulon_xcr_top$regulon)[i]))\n",
    "}"
   ]
  },
  {
   "cell_type": "code",
   "execution_count": 28,
   "metadata": {},
   "outputs": [
    {
     "name": "stderr",
     "output_type": "stream",
     "text": [
      "`geom_smooth()` using method = 'loess' and formula 'y ~ x'\n",
      "Warning message:\n",
      "\"Removed 75 rows containing non-finite values (stat_smooth).\"Warning message:\n",
      "\"Removed 75 rows containing missing values (geom_point).\"`geom_smooth()` using method = 'loess' and formula 'y ~ x'\n",
      "Warning message:\n",
      "\"Removed 75 rows containing non-finite values (stat_smooth).\"Warning message:\n",
      "\"Removed 75 rows containing missing values (geom_point).\"`geom_smooth()` using method = 'loess' and formula 'y ~ x'\n",
      "Warning message:\n",
      "\"Removed 75 rows containing non-finite values (stat_smooth).\"Warning message:\n",
      "\"Removed 75 rows containing missing values (geom_point).\"`geom_smooth()` using method = 'loess' and formula 'y ~ x'\n",
      "Warning message:\n",
      "\"Removed 75 rows containing non-finite values (stat_smooth).\"Warning message:\n",
      "\"Removed 75 rows containing missing values (geom_point).\"`geom_smooth()` using method = 'loess' and formula 'y ~ x'\n",
      "Warning message:\n",
      "\"Removed 75 rows containing non-finite values (stat_smooth).\"Warning message:\n",
      "\"Removed 75 rows containing missing values (geom_point).\"`geom_smooth()` using method = 'loess' and formula 'y ~ x'\n",
      "Warning message:\n",
      "\"Removed 75 rows containing non-finite values (stat_smooth).\"Warning message:\n",
      "\"Removed 75 rows containing missing values (geom_point).\"`geom_smooth()` using method = 'loess' and formula 'y ~ x'\n",
      "Warning message:\n",
      "\"Removed 75 rows containing non-finite values (stat_smooth).\"Warning message:\n",
      "\"Removed 75 rows containing missing values (geom_point).\"`geom_smooth()` using method = 'loess' and formula 'y ~ x'\n",
      "Warning message:\n",
      "\"Removed 75 rows containing non-finite values (stat_smooth).\"Warning message:\n",
      "\"Removed 75 rows containing missing values (geom_point).\"`geom_smooth()` using method = 'loess' and formula 'y ~ x'\n",
      "Warning message:\n",
      "\"Removed 75 rows containing non-finite values (stat_smooth).\"Warning message:\n",
      "\"Removed 75 rows containing missing values (geom_point).\"`geom_smooth()` using method = 'loess' and formula 'y ~ x'\n",
      "Warning message:\n",
      "\"Removed 75 rows containing non-finite values (stat_smooth).\"Warning message:\n",
      "\"Removed 75 rows containing missing values (geom_point).\"`geom_smooth()` using method = 'loess' and formula 'y ~ x'\n",
      "Warning message:\n",
      "\"Removed 75 rows containing non-finite values (stat_smooth).\"Warning message:\n",
      "\"Removed 75 rows containing missing values (geom_point).\"`geom_smooth()` using method = 'loess' and formula 'y ~ x'\n",
      "Warning message:\n",
      "\"Removed 75 rows containing non-finite values (stat_smooth).\"Warning message:\n",
      "\"Removed 75 rows containing missing values (geom_point).\"`geom_smooth()` using method = 'loess' and formula 'y ~ x'\n",
      "Warning message:\n",
      "\"Removed 75 rows containing non-finite values (stat_smooth).\"Warning message:\n",
      "\"Removed 75 rows containing missing values (geom_point).\"`geom_smooth()` using method = 'loess' and formula 'y ~ x'\n",
      "Warning message:\n",
      "\"Removed 75 rows containing non-finite values (stat_smooth).\"Warning message:\n",
      "\"Removed 75 rows containing missing values (geom_point).\"`geom_smooth()` using method = 'loess' and formula 'y ~ x'\n",
      "Warning message:\n",
      "\"Removed 75 rows containing non-finite values (stat_smooth).\"Warning message:\n",
      "\"Removed 75 rows containing missing values (geom_point).\"`geom_smooth()` using method = 'loess' and formula 'y ~ x'\n",
      "Warning message:\n",
      "\"Removed 75 rows containing non-finite values (stat_smooth).\"Warning message:\n",
      "\"Removed 75 rows containing missing values (geom_point).\"`geom_smooth()` using method = 'loess' and formula 'y ~ x'\n",
      "Warning message:\n",
      "\"Removed 75 rows containing non-finite values (stat_smooth).\"Warning message:\n",
      "\"Removed 75 rows containing missing values (geom_point).\"`geom_smooth()` using method = 'loess' and formula 'y ~ x'\n",
      "Warning message:\n",
      "\"Removed 75 rows containing non-finite values (stat_smooth).\"Warning message:\n",
      "\"Removed 75 rows containing missing values (geom_point).\"`geom_smooth()` using method = 'loess' and formula 'y ~ x'\n",
      "Warning message:\n",
      "\"Removed 75 rows containing non-finite values (stat_smooth).\"Warning message:\n",
      "\"Removed 75 rows containing missing values (geom_point).\"`geom_smooth()` using method = 'loess' and formula 'y ~ x'\n",
      "Warning message:\n",
      "\"Removed 75 rows containing non-finite values (stat_smooth).\"Warning message:\n",
      "\"Removed 75 rows containing missing values (geom_point).\"Warning message in grid.newpage():\n",
      "\"Cannot open temporary file '/tmp/RtmpN9jwWs/pdf8b311639b25' for compression (reason: No space left on device); compression has been turned off for this device\""
     ]
    },
    {
     "data": {
      "text/html": [
       "<strong>png:</strong> 2"
      ],
      "text/latex": [
       "\\textbf{png:} 2"
      ],
      "text/markdown": [
       "**png:** 2"
      ],
      "text/plain": [
       "png \n",
       "  2 "
      ]
     },
     "metadata": {},
     "output_type": "display_data"
    }
   ],
   "source": [
    "pdf(paste0(\"allele_specific/XCR/reg_xcr_logit_top50.pdf\"), useDingbats = FALSE, height=30, width=8)\n",
    "CombinePlots(plots = plots_logit, ncol = 2, legend = \"none\")\n",
    "dev.off()"
   ]
  }
 ],
 "metadata": {
  "kernelspec": {
   "display_name": "R [conda env:R_scRNAseq]",
   "language": "R",
   "name": "conda-env-R_scRNAseq-r"
  },
  "language_info": {
   "codemirror_mode": "r",
   "file_extension": ".r",
   "mimetype": "text/x-r-source",
   "name": "R",
   "pygments_lexer": "r",
   "version": "3.6.1"
  }
 },
 "nbformat": 4,
 "nbformat_minor": 4
}
